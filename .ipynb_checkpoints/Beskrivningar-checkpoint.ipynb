{
 "cells": [
  {
   "cell_type": "code",
   "execution_count": 1,
   "metadata": {},
   "outputs": [],
   "source": [
    "import pandas as pd"
   ]
  },
  {
   "cell_type": "code",
   "execution_count": 32,
   "metadata": {},
   "outputs": [],
   "source": [
    "df1 = pd.read_excel('Metadata.xlsx')\n",
    "df2 = pd.read_excel('Metadata.xlsx')"
   ]
  },
  {
   "cell_type": "code",
   "execution_count": 33,
   "metadata": {},
   "outputs": [
    {
     "data": {
      "text/html": [
       "<div>\n",
       "<style scoped>\n",
       "    .dataframe tbody tr th:only-of-type {\n",
       "        vertical-align: middle;\n",
       "    }\n",
       "\n",
       "    .dataframe tbody tr th {\n",
       "        vertical-align: top;\n",
       "    }\n",
       "\n",
       "    .dataframe thead th {\n",
       "        text-align: right;\n",
       "    }\n",
       "</style>\n",
       "<table border=\"1\" class=\"dataframe\">\n",
       "  <thead>\n",
       "    <tr style=\"text-align: right;\">\n",
       "      <th></th>\n",
       "      <th>Namn</th>\n",
       "      <th>Enkättext</th>\n",
       "      <th>Beskrivning</th>\n",
       "    </tr>\n",
       "  </thead>\n",
       "  <tbody>\n",
       "    <tr>\n",
       "      <th>0</th>\n",
       "      <td>promoted_1</td>\n",
       "      <td>Ditt arbete @ Har du befordrats/fått en högre ...</td>\n",
       "      <td>NaN</td>\n",
       "    </tr>\n",
       "    <tr>\n",
       "      <th>1</th>\n",
       "      <td>promoted_1</td>\n",
       "      <td>Ditt arbete @ Har du befordrats/fått en högre ...</td>\n",
       "      <td>NaN</td>\n",
       "    </tr>\n",
       "    <tr>\n",
       "      <th>2</th>\n",
       "      <td>promoted_1</td>\n",
       "      <td>Ditt arbete @ Har du befordrats/fått en högre ...</td>\n",
       "      <td>NaN</td>\n",
       "    </tr>\n",
       "    <tr>\n",
       "      <th>3</th>\n",
       "      <td>promoted_2</td>\n",
       "      <td>Har du fått en annan tjänsteposition de senast...</td>\n",
       "      <td>NaN</td>\n",
       "    </tr>\n",
       "    <tr>\n",
       "      <th>4</th>\n",
       "      <td>promoted_2</td>\n",
       "      <td>Har du fått en annan tjänsteposition de senast...</td>\n",
       "      <td>NaN</td>\n",
       "    </tr>\n",
       "  </tbody>\n",
       "</table>\n",
       "</div>"
      ],
      "text/plain": [
       "         Namn                                          Enkättext  Beskrivning\n",
       "0  promoted_1  Ditt arbete @ Har du befordrats/fått en högre ...          NaN\n",
       "1  promoted_1  Ditt arbete @ Har du befordrats/fått en högre ...          NaN\n",
       "2  promoted_1  Ditt arbete @ Har du befordrats/fått en högre ...          NaN\n",
       "3  promoted_2  Har du fått en annan tjänsteposition de senast...          NaN\n",
       "4  promoted_2  Har du fått en annan tjänsteposition de senast...          NaN"
      ]
     },
     "execution_count": 33,
     "metadata": {},
     "output_type": "execute_result"
    }
   ],
   "source": [
    "df2 = df2[['Namn', 'Enkättext', 'Beskrivning']]\n",
    "df2.head()"
   ]
  },
  {
   "cell_type": "code",
   "execution_count": 54,
   "metadata": {},
   "outputs": [
    {
     "data": {
      "text/plain": [
       "'Har du fått en annan tjänsteposition de senaste två åren?'"
      ]
     },
     "execution_count": 54,
     "metadata": {},
     "output_type": "execute_result"
    }
   ],
   "source": [
    "df2['Enkättext'].unique()[1]"
   ]
  },
  {
   "cell_type": "code",
   "execution_count": 35,
   "metadata": {},
   "outputs": [
    {
     "data": {
      "text/plain": [
       "0    promoted_1\n",
       "1    promoted_1\n",
       "2    promoted_1\n",
       "Name: Namn, dtype: object"
      ]
     },
     "execution_count": 35,
     "metadata": {},
     "output_type": "execute_result"
    }
   ],
   "source": [
    "df1[df1['Enkättext'] == 'Ditt arbete @ Har du befordrats/fått en högre tjänst under de två senaste åren?']['Namn']"
   ]
  },
  {
   "cell_type": "code",
   "execution_count": 43,
   "metadata": {},
   "outputs": [],
   "source": [
    "df1.loc[df1['Enkättext'] == 'Ditt arbete @ Har du befordrats/fått en högre tjänst under de två senaste åren?', \n",
    "        ['Beskrivning']] = 'Befordran'"
   ]
  },
  {
   "cell_type": "code",
   "execution_count": 45,
   "metadata": {},
   "outputs": [],
   "source": [
    "df1.loc[df1['Enkättext'] == 'Har du fått en annan tjänsteposition de senaste två åren?', \n",
    "        ['Beskrivning']] = 'Annan tjänsteposition'"
   ]
  },
  {
   "cell_type": "code",
   "execution_count": 47,
   "metadata": {},
   "outputs": [],
   "source": [
    "df1.loc[df1['Enkättext'] == 'Har du fått en förändrad tjänsteposition de senaste två åren?', \n",
    "        ['Beskrivning']] = 'Förändrad tjänsteposition'"
   ]
  },
  {
   "cell_type": "code",
   "execution_count": null,
   "metadata": {},
   "outputs": [],
   "source": []
  }
 ],
 "metadata": {
  "kernelspec": {
   "display_name": "Python 3",
   "language": "python",
   "name": "python3"
  },
  "language_info": {
   "codemirror_mode": {
    "name": "ipython",
    "version": 3
   },
   "file_extension": ".py",
   "mimetype": "text/x-python",
   "name": "python",
   "nbconvert_exporter": "python",
   "pygments_lexer": "ipython3",
   "version": "3.7.3"
  }
 },
 "nbformat": 4,
 "nbformat_minor": 2
}

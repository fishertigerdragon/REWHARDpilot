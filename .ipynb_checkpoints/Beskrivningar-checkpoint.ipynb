{
 "cells": [
  {
   "cell_type": "code",
   "execution_count": 1,
   "metadata": {},
   "outputs": [],
   "source": [
    "import pandas as pd"
   ]
  },
  {
   "cell_type": "code",
   "execution_count": 2,
   "metadata": {},
   "outputs": [],
   "source": [
    "df1 = pd.read_excel('Metadata.xlsx')\n",
    "df2 = pd.read_excel('Metadata.xlsx')"
   ]
  },
  {
   "cell_type": "code",
   "execution_count": 3,
   "metadata": {},
   "outputs": [
    {
     "data": {
      "text/html": [
       "<div>\n",
       "<style scoped>\n",
       "    .dataframe tbody tr th:only-of-type {\n",
       "        vertical-align: middle;\n",
       "    }\n",
       "\n",
       "    .dataframe tbody tr th {\n",
       "        vertical-align: top;\n",
       "    }\n",
       "\n",
       "    .dataframe thead th {\n",
       "        text-align: right;\n",
       "    }\n",
       "</style>\n",
       "<table border=\"1\" class=\"dataframe\">\n",
       "  <thead>\n",
       "    <tr style=\"text-align: right;\">\n",
       "      <th></th>\n",
       "      <th>Namn</th>\n",
       "      <th>Enkättext</th>\n",
       "      <th>Beskrivning</th>\n",
       "    </tr>\n",
       "  </thead>\n",
       "  <tbody>\n",
       "    <tr>\n",
       "      <th>0</th>\n",
       "      <td>promoted_1</td>\n",
       "      <td>Ditt arbete @ Har du befordrats/fått en högre ...</td>\n",
       "      <td>NaN</td>\n",
       "    </tr>\n",
       "    <tr>\n",
       "      <th>1</th>\n",
       "      <td>promoted_1</td>\n",
       "      <td>Ditt arbete @ Har du befordrats/fått en högre ...</td>\n",
       "      <td>NaN</td>\n",
       "    </tr>\n",
       "    <tr>\n",
       "      <th>2</th>\n",
       "      <td>promoted_1</td>\n",
       "      <td>Ditt arbete @ Har du befordrats/fått en högre ...</td>\n",
       "      <td>NaN</td>\n",
       "    </tr>\n",
       "    <tr>\n",
       "      <th>3</th>\n",
       "      <td>promoted_2</td>\n",
       "      <td>Har du fått en annan tjänsteposition de senast...</td>\n",
       "      <td>NaN</td>\n",
       "    </tr>\n",
       "    <tr>\n",
       "      <th>4</th>\n",
       "      <td>promoted_2</td>\n",
       "      <td>Har du fått en annan tjänsteposition de senast...</td>\n",
       "      <td>NaN</td>\n",
       "    </tr>\n",
       "  </tbody>\n",
       "</table>\n",
       "</div>"
      ],
      "text/plain": [
       "         Namn                                          Enkättext  Beskrivning\n",
       "0  promoted_1  Ditt arbete @ Har du befordrats/fått en högre ...          NaN\n",
       "1  promoted_1  Ditt arbete @ Har du befordrats/fått en högre ...          NaN\n",
       "2  promoted_1  Ditt arbete @ Har du befordrats/fått en högre ...          NaN\n",
       "3  promoted_2  Har du fått en annan tjänsteposition de senast...          NaN\n",
       "4  promoted_2  Har du fått en annan tjänsteposition de senast...          NaN"
      ]
     },
     "execution_count": 3,
     "metadata": {},
     "output_type": "execute_result"
    }
   ],
   "source": [
    "df2 = df2[['Namn', 'Enkättext', 'Beskrivning']]\n",
    "df2.head()"
   ]
  },
  {
   "cell_type": "code",
   "execution_count": 11,
   "metadata": {},
   "outputs": [
    {
     "data": {
      "text/plain": [
       "'Har du fått en förändrad tjänsteposition de senaste två åren?'"
      ]
     },
     "execution_count": 11,
     "metadata": {},
     "output_type": "execute_result"
    }
   ],
   "source": [
    "df2['Enkättext'].unique()[2]"
   ]
  },
  {
   "cell_type": "code",
   "execution_count": 5,
   "metadata": {},
   "outputs": [
    {
     "data": {
      "text/plain": [
       "0    promoted_1\n",
       "1    promoted_1\n",
       "2    promoted_1\n",
       "Name: Namn, dtype: object"
      ]
     },
     "execution_count": 5,
     "metadata": {},
     "output_type": "execute_result"
    }
   ],
   "source": [
    "df1[df1['Enkättext'] == 'Ditt arbete @ Har du befordrats/fått en högre tjänst under de två senaste åren?']['Namn']"
   ]
  },
  {
   "cell_type": "code",
   "execution_count": 6,
   "metadata": {},
   "outputs": [],
   "source": [
    "df1.loc[df1['Enkättext'] == 'Ditt arbete @ Har du befordrats/fått en högre tjänst under de två senaste åren?', \n",
    "        ['Beskrivning']] = 'Befordran'"
   ]
  },
  {
   "cell_type": "code",
   "execution_count": 7,
   "metadata": {},
   "outputs": [],
   "source": [
    "df1.loc[df1['Enkättext'] == 'Har du fått en annan tjänsteposition de senaste två åren?', \n",
    "        ['Beskrivning']] = 'Annan tjänsteposition'"
   ]
  },
  {
   "cell_type": "code",
   "execution_count": 8,
   "metadata": {},
   "outputs": [],
   "source": [
    "df1.loc[df1['Enkättext'] == 'Har du fått en förändrad tjänsteposition de senaste två åren?', \n",
    "        ['Beskrivning']] = 'Förändrad tjänsteposition'"
   ]
  },
  {
   "cell_type": "code",
   "execution_count": 13,
   "metadata": {},
   "outputs": [],
   "source": [
    "df1.loc[df1['Enkättext'] == 'Har du fått en förändrad tjänsteposition under de senaste två åren?', \n",
    "        ['Beskrivning']] = 'Förändrad tjänsteposition'"
   ]
  },
  {
   "cell_type": "code",
   "execution_count": 15,
   "metadata": {},
   "outputs": [],
   "source": [
    "df1.loc[df1['Enkättext'] == 'Har du fått en sämre position under de senaste två åren?', \n",
    "        ['Beskrivning']] = 'Sämre tjänsteposition'"
   ]
  },
  {
   "cell_type": "code",
   "execution_count": 17,
   "metadata": {},
   "outputs": [],
   "source": [
    "df1.loc[df1['Enkättext'] == 'Har du krav på dig att vara uppdaterad i ditt arbete, t.ex. att ständigt lära dig nya saker och löpande ta in ny information?', \n",
    "        ['Beskrivning']] = 'Krav uppdaterad i arbete'"
   ]
  },
  {
   "cell_type": "code",
   "execution_count": 21,
   "metadata": {},
   "outputs": [],
   "source": [
    "df1.loc[df1['Enkättext'] == 'Har du krav på dig att vara uppdaterad i ditt arbete, t.ex. att ständigt lära dig nya saker och löpande ta in ny information?', \n",
    "        ['Beskrivning']] = 'Krav uppdaterad i arbete'"
   ]
  },
  {
   "cell_type": "code",
   "execution_count": 20,
   "metadata": {},
   "outputs": [],
   "source": [
    "df1.loc[df1['Enkättext'] == 'Har du tillräckligt med resurser för att klara av ditt arbete?', \n",
    "        ['Beskrivning']] = 'Tillräckliga resurser'"
   ]
  },
  {
   "cell_type": "code",
   "execution_count": 23,
   "metadata": {},
   "outputs": [],
   "source": [
    "df1.loc[df1['Enkättext'] == 'Har du tillräckliga rättigheter att fatta beslut för att klara av ditt arbete?', \n",
    "        ['Beskrivning']] = 'Tillräckliga rättigheter beslut'"
   ]
  },
  {
   "cell_type": "code",
   "execution_count": 25,
   "metadata": {},
   "outputs": [],
   "source": [
    "df1.loc[df1['Enkättext'] == 'Har du kapacitet som inte tillvaratas i ditt arbete?', \n",
    "        ['Beskrivning']] = 'Kapacitet tillvaratas inte'"
   ]
  },
  {
   "cell_type": "code",
   "execution_count": 27,
   "metadata": {},
   "outputs": [],
   "source": [
    "df1.loc[df1['Enkättext'] == 'Förekommer någon av följande risker eller hot för dig i ditt arbete? @ Risk för att du mot din vilja flyttas till annat arbete?', \n",
    "        ['Beskrivning']] = 'Flytt mot egen vilja'"
   ]
  },
  {
   "cell_type": "code",
   "execution_count": 34,
   "metadata": {},
   "outputs": [],
   "source": [
    "df1.loc[df1['Enkättext'] == 'Förekommer någon av följande risker eller hot för dig i ditt arbete? @ Risk för att du mot din vilja flyttas till annat arbete', \n",
    "        ['Beskrivning']] = 'Flytt mot egen vilja'"
   ]
  },
  {
   "cell_type": "code",
   "execution_count": 36,
   "metadata": {},
   "outputs": [],
   "source": [
    "df1.loc[df1['Enkättext'] == 'Förekom någon av följande risker eller hot för dig i ditt arbete innan du slutade arbeta? @ Risk för att du mot din vilja flyttas till annat arbete', \n",
    "        ['Beskrivning']] = 'Flytt mot egen vilja'"
   ]
  },
  {
   "cell_type": "code",
   "execution_count": 38,
   "metadata": {},
   "outputs": [],
   "source": [
    "df1.loc[df1['Enkättext'] == 'Förekommer någon av följande risker eller hot för dig i ditt arbete? @ Hot om permittering eller uppsägning?', \n",
    "        ['Beskrivning']] = 'Hot om uppsägning'"
   ]
  },
  {
   "cell_type": "code",
   "execution_count": 38,
   "metadata": {},
   "outputs": [],
   "source": [
    "df1.loc[df1['Enkättext'] == 'Förekommer någon av följande risker eller hot för dig i ditt arbete? @ Hot om permittering eller uppsägning?', \n",
    "        ['Beskrivning']] = 'Hot om uppsägning'"
   ]
  },
  {
   "cell_type": "code",
   "execution_count": 40,
   "metadata": {},
   "outputs": [],
   "source": [
    "df1.loc[df1['Enkättext'] == 'Förekom någon av följande risker eller hot för dig i ditt arbete innan du slutade arbeta? @ Hot om permittering eller uppsägning', \n",
    "        ['Beskrivning']] = 'Hot om uppsägning'"
   ]
  },
  {
   "cell_type": "code",
   "execution_count": 40,
   "metadata": {},
   "outputs": [],
   "source": [
    "df1.loc[df1['Enkättext'] == 'Förekom någon av följande risker eller hot för dig i ditt arbete innan du slutade arbeta? @ Hot om permittering eller uppsägning', \n",
    "        ['Beskrivning']] = 'Hot om uppsägning'"
   ]
  },
  {
   "cell_type": "code",
   "execution_count": 44,
   "metadata": {},
   "outputs": [],
   "source": [
    "df1.loc[df1['Enkättext'] == 'Kan du delvis själv bestämma när olika arbetsuppgifter skall göras (t ex genom att välja att jobba lite fortare vissa dagar och ta det lite lugnare andra dagar)?', \n",
    "        ['Beskrivning']] = 'Själv planera arbete'"
   ]
  },
  {
   "cell_type": "code",
   "execution_count": 45,
   "metadata": {},
   "outputs": [],
   "source": [
    "df1.loc[df1['Enkättext'] == 'Händer det att du är med och beslutar om uppläggningen av ditt arbete (t.ex. vad som skall göras, hur det skall göras eller vilka som skall arbeta tillsammans med dig)?', \n",
    "        ['Beskrivning']] = 'Själv planera arbete'"
   ]
  },
  {
   "cell_type": "code",
   "execution_count": 50,
   "metadata": {},
   "outputs": [],
   "source": [
    "df1.loc[df1['Enkättext'] == 'Har du möjlighet att få stöd och uppmuntran från chefer, när arbetet känns besvärligt?', \n",
    "        ['Beskrivning']] = 'Uppmuntran från chefer'"
   ]
  },
  {
   "cell_type": "code",
   "execution_count": 51,
   "metadata": {},
   "outputs": [],
   "source": [
    "df1.loc[df1['Enkättext'] == 'Har du möjlighet att få stöd och uppmuntran från arbetskamrater, när arbetet känns besvärligt?', \n",
    "        ['Beskrivning']] = 'Uppmuntran från arbetskamrater'"
   ]
  },
  {
   "cell_type": "code",
   "execution_count": 53,
   "metadata": {},
   "outputs": [],
   "source": [
    "df1.loc[df1['Enkättext'] == 'Drar du dig för att på arbetsplatsen framföra kritiska synpunkter på dina arbetsförhållanden?', \n",
    "        ['Beskrivning']] = 'Kritiska synpunkter'"
   ]
  },
  {
   "cell_type": "code",
   "execution_count": 55,
   "metadata": {},
   "outputs": [],
   "source": [
    "df1.loc[df1['Enkättext'] == 'Om synpunkter på arbetsförhållanden @ Drar du dig för att på arbetsplatsen framföra kritiska synpunkter på dina arbetsförhållanden?', \n",
    "        ['Beskrivning']] = 'Kritiska synpunkter'"
   ]
  },
  {
   "cell_type": "code",
   "execution_count": 57,
   "metadata": {},
   "outputs": [],
   "source": [
    "df1.loc[df1['Enkättext'] == 'Kräver ditt arbete att du arbetar fort?', \n",
    "        ['Beskrivning']] = 'Arbeta fort'"
   ]
  },
  {
   "cell_type": "code",
   "execution_count": 60,
   "metadata": {},
   "outputs": [],
   "source": [
    "df1.loc[df1['Enkättext'] == 'Kräver ditt arbete att du arbetar mycket fort?', \n",
    "        ['Beskrivning']] = 'Arbeta mycket fort'"
   ]
  },
  {
   "cell_type": "code",
   "execution_count": 62,
   "metadata": {},
   "outputs": [],
   "source": [
    "df1.loc[df1['Enkättext'] == 'Följande frågor gäller din senaste arbetsplats tiden strax innan du slutade arbeta: @ Krävde ditt arbete att du arbetade mycket fort?', \n",
    "        ['Beskrivning']] = 'Arbeta mycket fort'"
   ]
  },
  {
   "cell_type": "code",
   "execution_count": 65,
   "metadata": {},
   "outputs": [],
   "source": [
    "df1.loc[df1['Enkättext'] == 'Om ditt arbete @ Kräver ditt arbete att du arbetar mycket fort?', \n",
    "        ['Beskrivning']] = 'Arbeta mycket fort'"
   ]
  },
  {
   "cell_type": "code",
   "execution_count": 67,
   "metadata": {},
   "outputs": [],
   "source": [
    "df1.loc[df1['Enkättext'] == 'Om ditt förvärvsarbete @ Kräver ditt arbete att du arbetar mycket fort?', \n",
    "        ['Beskrivning']] = 'Arbeta mycket fort'"
   ]
  },
  {
   "cell_type": "code",
   "execution_count": 69,
   "metadata": {},
   "outputs": [],
   "source": [
    "df1.loc[df1['Enkättext'] == 'Om ditt förvärvsarbete (lönearbete) @ Om du inte arbetar för närvarande, vänligen besvara frågorna nedan med tanke på ditt senaste arbete. @ Kräver/krävde ditt arbete att du arbetar/arbetade mycket fort?', \n",
    "        ['Beskrivning']] = 'Arbeta mycket fort'"
   ]
  },
  {
   "cell_type": "code",
   "execution_count": 71,
   "metadata": {},
   "outputs": [],
   "source": [
    "df1.loc[df1['Enkättext'] == 'Kräver ditt arbete att du arbetar mycket hårt?', \n",
    "        ['Beskrivning']] = 'Arbeta mycket hårt'"
   ]
  },
  {
   "cell_type": "code",
   "execution_count": 73,
   "metadata": {},
   "outputs": [],
   "source": [
    "df1.loc[df1['Enkättext'] == 'Följande frågor gäller din senaste arbetsplats tiden strax innan du slutade arbeta: @ Krävde ditt arbete att du arbetade mycket hårt?', \n",
    "        ['Beskrivning']] = 'Arbeta mycket hårt'"
   ]
  },
  {
   "cell_type": "code",
   "execution_count": 75,
   "metadata": {},
   "outputs": [],
   "source": [
    "df1.loc[df1['Enkättext'] == 'Om ditt arbete @ Kräver ditt arbete att du arbetar mycket hårt?', \n",
    "        ['Beskrivning']] = 'Arbeta mycket hårt'"
   ]
  },
  {
   "cell_type": "code",
   "execution_count": 77,
   "metadata": {},
   "outputs": [],
   "source": [
    "df1.loc[df1['Enkättext'] == 'Om ditt förvärvsarbete @ Kräver ditt arbete att du arbetar mycket hårt?', \n",
    "        ['Beskrivning']] = 'Arbeta mycket hårt'"
   ]
  },
  {
   "cell_type": "code",
   "execution_count": 79,
   "metadata": {},
   "outputs": [],
   "source": [
    "df1.loc[df1['Enkättext'] == 'Om ditt förvärvsarbete (lönearbete) @ Om du inte arbetar för närvarande, vänligen besvara frågorna nedan med tanke på ditt senaste arbete. @ Kräver/krävde ditt arbete att du arbetar/arbetade mycket hårt?', \n",
    "        ['Beskrivning']] = 'Arbeta mycket hårt'"
   ]
  },
  {
   "cell_type": "code",
   "execution_count": 81,
   "metadata": {},
   "outputs": [],
   "source": [
    "df1.loc[df1['Enkättext'] == 'Kräver ditt arbete en för stor arbetsinsats?', \n",
    "        ['Beskrivning']] = 'För stor arbetsinsats'"
   ]
  },
  {
   "cell_type": "code",
   "execution_count": 83,
   "metadata": {},
   "outputs": [],
   "source": [
    "df1.loc[df1['Enkättext'] == 'Om ditt arbete @ Kräver ditt arbete en för stor arbetsinsats?', \n",
    "        ['Beskrivning']] = 'För stor arbetsinsats'"
   ]
  },
  {
   "cell_type": "code",
   "execution_count": 85,
   "metadata": {},
   "outputs": [],
   "source": [
    "df1.loc[df1['Enkättext'] == 'Om ditt förvärvsarbete @ kräver ditt arbete en för stor arbetsinsats?', \n",
    "        ['Beskrivning']] = 'För stor arbetsinsats'"
   ]
  },
  {
   "cell_type": "code",
   "execution_count": 87,
   "metadata": {},
   "outputs": [],
   "source": [
    "df1.loc[df1['Enkättext'] == 'Om ditt förvärvsarbete (lönearbete) @ Om du inte arbetar för närvarande, vänligen besvara frågorna nedan med tanke på ditt senaste arbete. @ Kräver/krävde ditt arbete en för stor arbetsinsats?', \n",
    "        ['Beskrivning']] = 'För stor arbetsinsats'"
   ]
  },
  {
   "cell_type": "code",
   "execution_count": 89,
   "metadata": {},
   "outputs": [],
   "source": [
    "df1.loc[df1['Enkättext'] == 'Kräver ditt arbete att du ska leva dig in i andra människors situation?', \n",
    "        ['Beskrivning']] = 'Empati andras situation'"
   ]
  },
  {
   "cell_type": "code",
   "execution_count": 91,
   "metadata": {},
   "outputs": [],
   "source": [
    "df1.loc[df1['Enkättext'] == 'Om ditt arbete @ Kräver ditt arbete att du ska leva dig in i andra människors situation?', \n",
    "        ['Beskrivning']] = 'Empati andras situation'"
   ]
  },
  {
   "cell_type": "code",
   "execution_count": 93,
   "metadata": {},
   "outputs": [],
   "source": [
    "df1.loc[df1['Enkättext'] == 'Om ditt förvärvsarbete @ Kräver ditt arbete att du ska leva dig in i andra människors situation?', \n",
    "        ['Beskrivning']] = 'Empati andras situation'"
   ]
  },
  {
   "cell_type": "code",
   "execution_count": 95,
   "metadata": {},
   "outputs": [],
   "source": [
    "df1.loc[df1['Enkättext'] == 'Har du tillräckligt med tid för att hinna med arbetsuppgifterna?', \n",
    "        ['Beskrivning']] = 'Empati andras situation'"
   ]
  },
  {
   "cell_type": "code",
   "execution_count": 97,
   "metadata": {},
   "outputs": [],
   "source": [
    "df1.loc[df1['Enkättext'] == 'Följande frågor gäller din senaste arbetsplats tiden strax innan du slutade arbeta: @ Hade du tillräckligt med tid för att hinna med arbetsuppgifterna?', \n",
    "        ['Beskrivning']] = 'Tillräckligt med tid'"
   ]
  },
  {
   "cell_type": "code",
   "execution_count": 99,
   "metadata": {},
   "outputs": [],
   "source": [
    "df1.loc[df1['Enkättext'] == 'Om ditt arbete @ Har du tillräckligt med tid för att hinna med arbetsuppgifterna?', \n",
    "        ['Beskrivning']] = 'Tillräckligt med tid'"
   ]
  },
  {
   "cell_type": "code",
   "execution_count": 101,
   "metadata": {},
   "outputs": [],
   "source": [
    "df1.loc[df1['Enkättext'] == 'Om ditt förvärvsarbete @ Har du tillräckligt med tid för att hinna med arbetsuppgifterna?', \n",
    "        ['Beskrivning']] = 'Tillräckligt med tid'"
   ]
  },
  {
   "cell_type": "code",
   "execution_count": 103,
   "metadata": {},
   "outputs": [],
   "source": [
    "df1.loc[df1['Enkättext'] == 'Om ditt förvärvsarbete (lönearbete) @ Om du inte arbetar för närvarande, vänligen besvara frågorna nedan med tanke på ditt senaste arbete. @ Har/hade du tillräckligt med tid för att hinna med arbetsuppgifterna?', \n",
    "        ['Beskrivning']] = 'Tillräckligt med tid'"
   ]
  },
  {
   "cell_type": "code",
   "execution_count": 105,
   "metadata": {},
   "outputs": [],
   "source": [
    "df1.loc[df1['Enkättext'] == 'Förekommer det motstridiga krav i ditt arbete?', \n",
    "        ['Beskrivning']] = 'Motstridiga krav'"
   ]
  },
  {
   "cell_type": "code",
   "execution_count": 107,
   "metadata": {},
   "outputs": [],
   "source": [
    "df1.loc[df1['Enkättext'] == 'Följande frågor gäller din senaste arbetsplats tiden strax innan du slutade arbeta: @ Förekom det ofta motstridiga krav i ditt arbete?', \n",
    "        ['Beskrivning']] = 'Motstridiga krav'"
   ]
  },
  {
   "cell_type": "code",
   "execution_count": 109,
   "metadata": {},
   "outputs": [],
   "source": [
    "df1.loc[df1['Enkättext'] == 'Om ditt arbete @ Förekommer det ofta motstridiga krav i ditt arbete?', \n",
    "        ['Beskrivning']] = 'Motstridiga krav'"
   ]
  },
  {
   "cell_type": "code",
   "execution_count": 111,
   "metadata": {},
   "outputs": [],
   "source": [
    "df1.loc[df1['Enkättext'] == 'Om ditt förvärvsarbete @ Förekommer det ofta motstridiga krav i ditt arbete?', \n",
    "        ['Beskrivning']] = 'Motstridiga krav'"
   ]
  },
  {
   "cell_type": "code",
   "execution_count": 113,
   "metadata": {},
   "outputs": [],
   "source": [
    "df1.loc[df1['Enkättext'] == 'Om ditt förvärvsarbete (lönearbete) @ Om du inte arbetar för närvarande, vänligen besvara frågorna nedan med tanke på ditt senaste arbete. @ Förekommer/förekom det ofta motstridiga krav i ditt arbete?', \n",
    "        ['Beskrivning']] = 'Motstridiga krav'"
   ]
  },
  {
   "cell_type": "code",
   "execution_count": 115,
   "metadata": {},
   "outputs": [],
   "source": [
    "df1.loc[df1['Enkättext'] == 'Får du lära dig nya saker i ditt arbete?', \n",
    "        ['Beskrivning']] = 'Lära nya saker'"
   ]
  },
  {
   "cell_type": "code",
   "execution_count": 117,
   "metadata": {},
   "outputs": [],
   "source": [
    "df1.loc[df1['Enkättext'] == 'Följande frågor gäller din senaste arbetsplats tiden strax innan du slutade arbeta: @ Fick du lära dig nya saker i ditt arbete?', \n",
    "        ['Beskrivning']] = 'Lära nya saker'"
   ]
  },
  {
   "cell_type": "code",
   "execution_count": 119,
   "metadata": {},
   "outputs": [],
   "source": [
    "df1.loc[df1['Enkättext'] == 'Om ditt arbete @ Får du lära dig nya saker i ditt arbete?', \n",
    "        ['Beskrivning']] = 'Lära nya saker'"
   ]
  },
  {
   "cell_type": "code",
   "execution_count": 121,
   "metadata": {},
   "outputs": [],
   "source": [
    "df1.loc[df1['Enkättext'] == 'Kräver ditt arbete skicklighet?', \n",
    "        ['Beskrivning']] = 'Skicklighet'"
   ]
  },
  {
   "cell_type": "code",
   "execution_count": 123,
   "metadata": {},
   "outputs": [],
   "source": [
    "df1.loc[df1['Enkättext'] == 'Följande frågor gäller din senaste arbetsplats tiden strax innan du slutade arbeta: @ Krävde ditt arbete skicklighet?', \n",
    "        ['Beskrivning']] = 'Skicklighet'"
   ]
  },
  {
   "cell_type": "code",
   "execution_count": 126,
   "metadata": {},
   "outputs": [],
   "source": [
    "df1.loc[df1['Enkättext'] == 'Om ditt arbete @ Kräver ditt arbete skicklighet?', \n",
    "        ['Beskrivning']] = 'Skicklighet'"
   ]
  },
  {
   "cell_type": "code",
   "execution_count": 128,
   "metadata": {},
   "outputs": [],
   "source": [
    "df1.loc[df1['Enkättext'] == 'Om ditt förvärvsarbete @ Kräver ditt arbete skicklighet?', \n",
    "        ['Beskrivning']] = 'Skicklighet'"
   ]
  },
  {
   "cell_type": "code",
   "execution_count": 130,
   "metadata": {},
   "outputs": [],
   "source": [
    "df1.loc[df1['Enkättext'] == 'Om ditt förvärvsarbete (lönearbete) @ Om du inte arbetar för närvarande, vänligen besvara frågorna nedan med tanke på ditt senaste arbete. @ Kräver/krävde ditt arbete skicklighet?', \n",
    "        ['Beskrivning']] = 'Skicklighet'"
   ]
  },
  {
   "cell_type": "code",
   "execution_count": 132,
   "metadata": {},
   "outputs": [],
   "source": [
    "df1.loc[df1['Enkättext'] == 'Kräver ditt arbete påhittighet?', \n",
    "        ['Beskrivning']] = 'Påhittighet'"
   ]
  },
  {
   "cell_type": "code",
   "execution_count": 134,
   "metadata": {},
   "outputs": [],
   "source": [
    "df1.loc[df1['Enkättext'] == 'Följande frågor gäller din senaste arbetsplats tiden strax innan du slutade arbeta: @ Krävde ditt arbete påhittighet?', \n",
    "        ['Beskrivning']] = 'Påhittighet'"
   ]
  },
  {
   "cell_type": "code",
   "execution_count": 136,
   "metadata": {},
   "outputs": [],
   "source": [
    "df1.loc[df1['Enkättext'] == 'Om ditt arbete @ Kräver ditt arbete påhittighet?', \n",
    "        ['Beskrivning']] = 'Påhittighet'"
   ]
  },
  {
   "cell_type": "code",
   "execution_count": 138,
   "metadata": {},
   "outputs": [],
   "source": [
    "df1.loc[df1['Enkättext'] == 'Om ditt förvärvsarbete @ Kräver ditt arbete påhittighet?', \n",
    "        ['Beskrivning']] = 'Påhittighet'"
   ]
  },
  {
   "cell_type": "code",
   "execution_count": 140,
   "metadata": {},
   "outputs": [],
   "source": [
    "df1.loc[df1['Enkättext'] == 'Om ditt förvärvsarbete (lönearbete) @ Om du inte arbetar för närvarande, vänligen besvara frågorna nedan med tanke på ditt senaste arbete. @ Kräver/krävde ditt arbete påhittighet?', \n",
    "        ['Beskrivning']] = 'Påhittighet'"
   ]
  },
  {
   "cell_type": "code",
   "execution_count": 142,
   "metadata": {},
   "outputs": [],
   "source": [
    "df1.loc[df1['Enkättext'] == 'Kräver ditt arbete stor social kompetens?', \n",
    "        ['Beskrivning']] = 'Arbete social kompetens'"
   ]
  },
  {
   "cell_type": "code",
   "execution_count": 144,
   "metadata": {},
   "outputs": [],
   "source": [
    "df1.loc[df1['Enkättext'] == 'Följande frågor gäller din senaste arbetsplats tiden strax innan du slutade arbeta: @ Krävde ditt arbete stor social kompetens?', \n",
    "        ['Beskrivning']] = 'Arbete social kompetens'"
   ]
  },
  {
   "cell_type": "code",
   "execution_count": 146,
   "metadata": {},
   "outputs": [],
   "source": [
    "df1.loc[df1['Enkättext'] == 'Om ditt arbete @ Kräver ditt arbete stor social kompetens?', \n",
    "        ['Beskrivning']] = 'Arbete social kompetens'"
   ]
  },
  {
   "cell_type": "code",
   "execution_count": 148,
   "metadata": {},
   "outputs": [],
   "source": [
    "df1.loc[df1['Enkättext'] == 'Om ditt förvärvsarbete @ Kräver ditt arbete stor social kompetens?', \n",
    "        ['Beskrivning']] = 'Arbete social kompetens'"
   ]
  },
  {
   "cell_type": "code",
   "execution_count": 150,
   "metadata": {},
   "outputs": [],
   "source": [
    "df1.loc[df1['Enkättext'] == 'Innebär ditt arbete att man gör samma sak om och om igen?', \n",
    "        ['Beskrivning']] = 'Arbete upprepning'"
   ]
  },
  {
   "cell_type": "code",
   "execution_count": 152,
   "metadata": {},
   "outputs": [],
   "source": [
    "df1.loc[df1['Enkättext'] == 'Följande frågor gäller din senaste arbetsplats tiden strax innan du slutade arbeta: @ innebar ditt arbete att du gjorde samma sak om och om igen?', \n",
    "        ['Beskrivning']] = 'Arbete upprepning'"
   ]
  },
  {
   "cell_type": "code",
   "execution_count": 154,
   "metadata": {},
   "outputs": [],
   "source": [
    "df1.loc[df1['Enkättext'] == 'Om ditt arbete @ Innebär ditt arbete att man gör samma sak om och om igen?', \n",
    "        ['Beskrivning']] = 'Arbete upprepning'"
   ]
  },
  {
   "cell_type": "code",
   "execution_count": 156,
   "metadata": {},
   "outputs": [],
   "source": [
    "df1.loc[df1['Enkättext'] == 'Har du frihet att bestämma hur ditt arbete ska utföras?', \n",
    "        ['Beskrivning']] = 'Arbete bestämma hur'"
   ]
  },
  {
   "cell_type": "code",
   "execution_count": 158,
   "metadata": {},
   "outputs": [],
   "source": [
    "df1.loc[df1['Enkättext'] == 'Följande frågor gäller din senaste arbetsplats tiden strax innan du slutade arbeta: @ Hade du frihet att bestämma hur ditt arbete skulle\\nutföras?', \n",
    "        ['Beskrivning']] = 'Arbete bestämma hur'"
   ]
  },
  {
   "cell_type": "code",
   "execution_count": 160,
   "metadata": {},
   "outputs": [],
   "source": [
    "df1.loc[df1['Enkättext'] == 'Om ditt arbete @ Har du frihet att bestämma hur ditt arbete ska utföras?', \n",
    "        ['Beskrivning']] = 'Arbete bestämma hur'"
   ]
  },
  {
   "cell_type": "code",
   "execution_count": 162,
   "metadata": {},
   "outputs": [],
   "source": [
    "df1.loc[df1['Enkättext'] == 'Om ditt förvärvsarbete (lönearbete) @ Om du inte arbetar för närvarande, vänligen besvara frågorna nedan med tanke på ditt senaste arbete. @ Har/hade du frihet att bestämma hur ditt arbete ska/skulle utföras?', \n",
    "        ['Beskrivning']] = 'Arbete bestämma hur'"
   ]
  },
  {
   "cell_type": "code",
   "execution_count": 164,
   "metadata": {},
   "outputs": [],
   "source": [
    "df1.loc[df1['Enkättext'] == 'Har du frihet att bestämma vad som ska utföras i ditt arbete?', \n",
    "        ['Beskrivning']] = 'Arbete bestämma vad'"
   ]
  },
  {
   "cell_type": "code",
   "execution_count": 166,
   "metadata": {},
   "outputs": [],
   "source": [
    "df1.loc[df1['Enkättext'] == 'Följande frågor gäller din senaste arbetsplats tiden strax innan du slutade arbeta: @ Hade du frihet att bestämma vad som skulle\\nutföras i ditt arbete?', \n",
    "        ['Beskrivning']] = 'Arbete bestämma vad'"
   ]
  },
  {
   "cell_type": "code",
   "execution_count": 168,
   "metadata": {},
   "outputs": [],
   "source": [
    "df1.loc[df1['Enkättext'] == 'Om ditt arbete @ Har du frihet att bestämma vad som ska utföras i ditt arbete?', \n",
    "        ['Beskrivning']] = 'Arbete bestämma vad'"
   ]
  },
  {
   "cell_type": "code",
   "execution_count": 170,
   "metadata": {},
   "outputs": [],
   "source": [
    "df1.loc[df1['Enkättext'] == 'Om ditt förvärvsarbete (lönearbete) @ Om du inte arbetar för närvarande, vänligen besvara frågorna nedan med tanke på ditt senaste arbete. @ Har/hade du frihet att bestämma vad som ska/skulle utföras i ditt arbete?', \n",
    "        ['Beskrivning']] = 'Arbete bestämma vad'"
   ]
  },
  {
   "cell_type": "code",
   "execution_count": null,
   "metadata": {},
   "outputs": [],
   "source": []
  },
  {
   "cell_type": "code",
   "execution_count": null,
   "metadata": {},
   "outputs": [],
   "source": [
    "df1.loc[df1['Enkättext'] == , \n",
    "        ['Beskrivning']] = 'Arbete bestämma vad'"
   ]
  },
  {
   "cell_type": "code",
   "execution_count": 169,
   "metadata": {},
   "outputs": [
    {
     "data": {
      "text/plain": [
       "'Om ditt förvärvsarbete (lönearbete) @ Om du inte arbetar för närvarande, vänligen besvara frågorna nedan med tanke på ditt senaste arbete. @ Har/hade du frihet att bestämma vad som ska/skulle utföras i ditt arbete?'"
      ]
     },
     "execution_count": 169,
     "metadata": {},
     "output_type": "execute_result"
    }
   ],
   "source": [
    "df2['Enkättext'].unique()[75]"
   ]
  },
  {
   "cell_type": "code",
   "execution_count": 125,
   "metadata": {},
   "outputs": [
    {
     "data": {
      "text/plain": [
       "'Kräver ditt arbete skicklighet?'"
      ]
     },
     "execution_count": 125,
     "metadata": {},
     "output_type": "execute_result"
    }
   ],
   "source": [
    "df2['Enkättext'].unique()[51]"
   ]
  },
  {
   "cell_type": "code",
   "execution_count": null,
   "metadata": {},
   "outputs": [],
   "source": []
  }
 ],
 "metadata": {
  "kernelspec": {
   "display_name": "Python 3",
   "language": "python",
   "name": "python3"
  },
  "language_info": {
   "codemirror_mode": {
    "name": "ipython",
    "version": 3
   },
   "file_extension": ".py",
   "mimetype": "text/x-python",
   "name": "python",
   "nbconvert_exporter": "python",
   "pygments_lexer": "ipython3",
   "version": "3.7.3"
  }
 },
 "nbformat": 4,
 "nbformat_minor": 2
}

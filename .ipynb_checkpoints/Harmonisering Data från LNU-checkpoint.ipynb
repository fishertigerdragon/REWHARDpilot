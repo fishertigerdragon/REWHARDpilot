{
 "cells": [
  {
   "cell_type": "markdown",
   "metadata": {},
   "source": [
    "# <span style=\"color:mediumslateblue; font-family:freestyle script; font-size:4em\">Harmonisering:</span> <br><span style=\"color:greenyellow; font-family:freestyle script; font-size:4em\">Data från LNU</span>\n",
    "***"
   ]
  },
  {
   "cell_type": "markdown",
   "metadata": {},
   "source": [
    "# Innehållsförteckning\n",
    "1. [Importera bibliotek](#1)\n",
    "2. [Importera data](#2)\n",
    "3. [Datatvätt](#3)  \n",
    "    3.1 [Variabelnamn](#3.1)  \n",
    "    3.2 [Variabeltyp](#3.2)  \n",
    "    3.3 [Tvåställig SSYK](#3.3)  \n",
    "    3.4 [Data saknas och NaN](#3.4)  \n",
    "4. [Aggregera data](#4)\n",
    "5. [Exportera data](#5)  \n",
    "    \n",
    "***"
   ]
  },
  {
   "cell_type": "markdown",
   "metadata": {},
   "source": [
    "# <a id = \"1\">1. Importera bibliotek</a>\n",
    "De bibliotek som behövs i det här skriptet är **pandas**, **numpy** och **os**. "
   ]
  },
  {
   "cell_type": "code",
   "execution_count": 1,
   "metadata": {},
   "outputs": [],
   "source": [
    "import os\n",
    "import pandas as pd\n",
    "import numpy as np"
   ]
  },
  {
   "cell_type": "code",
   "execution_count": 2,
   "metadata": {},
   "outputs": [
    {
     "data": {
      "text/plain": [
       "'C:\\\\Users\\\\mabr4821\\\\Documents\\\\GitHub\\\\REWHARDpilot'"
      ]
     },
     "execution_count": 2,
     "metadata": {},
     "output_type": "execute_result"
    }
   ],
   "source": [
    "os.getcwd()"
   ]
  },
  {
   "cell_type": "markdown",
   "metadata": {},
   "source": [
    "***\n",
    "# <a id = \"2\">2. Importera data</a>\n",
    "De variabler som behövs är **z1, z18, z670, z671, z672, z673, z674, z680, z681, z682, z616, z621, z622, z624, z625, z626, z647, z651, z652, z653, z654, z655, z656**. Datafilen återfinns på LNU:s server och sökvägen dit är:  \n",
    "  \n",
    "*LNU 2010/LNU2010_DATA/LNU2010.dta*  \n",
    "\n",
    "Variablerna väljs ut och läggs i en dataframe som kallas **data**. För mer information om variablerna hänvisas till [LNU:s kodbok](https://www.sofi.su.se/forskning/tre-forskningsavdelningar/lnu/dokumentation/lnu-2010)."
   ]
  },
  {
   "cell_type": "code",
   "execution_count": 3,
   "metadata": {},
   "outputs": [],
   "source": [
    "data = pd.read_stata('J:/LNU 2010/LNU2010_DATA/LNU2010.dta', columns=['z1', 'z18', 'z670', 'z671', 'z672', 'z673', 'z674',\n",
    "                                                                      'z680', 'z681', 'z682', 'z616','z621', 'z622', 'z624',\n",
    "                                                                      'z625', 'z626', 'z647', 'z651', 'z652', 'z653', 'z654',\n",
    "                                                                      'z655', 'z656'])"
   ]
  },
  {
   "cell_type": "markdown",
   "metadata": {},
   "source": [
    "***\n",
    "Ta fram de första fem raderna för att få en första blick på data."
   ]
  },
  {
   "cell_type": "code",
   "execution_count": 4,
   "metadata": {},
   "outputs": [
    {
     "data": {
      "text/html": [
       "<div>\n",
       "<style scoped>\n",
       "    .dataframe tbody tr th:only-of-type {\n",
       "        vertical-align: middle;\n",
       "    }\n",
       "\n",
       "    .dataframe tbody tr th {\n",
       "        vertical-align: top;\n",
       "    }\n",
       "\n",
       "    .dataframe thead th {\n",
       "        text-align: right;\n",
       "    }\n",
       "</style>\n",
       "<table border=\"1\" class=\"dataframe\">\n",
       "  <thead>\n",
       "    <tr style=\"text-align: right;\">\n",
       "      <th></th>\n",
       "      <th>z1</th>\n",
       "      <th>z18</th>\n",
       "      <th>z670</th>\n",
       "      <th>z671</th>\n",
       "      <th>z672</th>\n",
       "      <th>z673</th>\n",
       "      <th>z674</th>\n",
       "      <th>z680</th>\n",
       "      <th>z681</th>\n",
       "      <th>z682</th>\n",
       "      <th>...</th>\n",
       "      <th>z624</th>\n",
       "      <th>z625</th>\n",
       "      <th>z626</th>\n",
       "      <th>z647</th>\n",
       "      <th>z651</th>\n",
       "      <th>z652</th>\n",
       "      <th>z653</th>\n",
       "      <th>z654</th>\n",
       "      <th>z655</th>\n",
       "      <th>z656</th>\n",
       "    </tr>\n",
       "  </thead>\n",
       "  <tbody>\n",
       "    <tr>\n",
       "      <th>0</th>\n",
       "      <td>10001.0</td>\n",
       "      <td>8334</td>\n",
       "      <td>2 Nej</td>\n",
       "      <td>2 Nej</td>\n",
       "      <td>2 Nej</td>\n",
       "      <td>1 Beslut ej krav</td>\n",
       "      <td>2 Övrigt</td>\n",
       "      <td>2 Mindre del av tiden</td>\n",
       "      <td>2 Mindre del av tiden</td>\n",
       "      <td>1 Inte alls</td>\n",
       "      <td>...</td>\n",
       "      <td>2 Nej</td>\n",
       "      <td>NaN</td>\n",
       "      <td>2 2-5 dagar</td>\n",
       "      <td>1Ja</td>\n",
       "      <td>2 Nej</td>\n",
       "      <td>1Ja</td>\n",
       "      <td>4 I liten grad</td>\n",
       "      <td>3 I viss grad</td>\n",
       "      <td>4 I liten grad</td>\n",
       "      <td>2 I hög grad</td>\n",
       "    </tr>\n",
       "    <tr>\n",
       "      <th>1</th>\n",
       "      <td>10003.0</td>\n",
       "      <td>2131</td>\n",
       "      <td>2 Nej</td>\n",
       "      <td>1 Ja</td>\n",
       "      <td>2 Nej</td>\n",
       "      <td>1 Beslut ej krav</td>\n",
       "      <td>2 Övrigt</td>\n",
       "      <td>2 Mindre del av tiden</td>\n",
       "      <td>1 Inte alls</td>\n",
       "      <td>1 Inte alls</td>\n",
       "      <td>...</td>\n",
       "      <td>1 Ja</td>\n",
       "      <td>5</td>\n",
       "      <td>5 3 månader-1 år</td>\n",
       "      <td>2 Nej</td>\n",
       "      <td>1 Ja</td>\n",
       "      <td>1Ja</td>\n",
       "      <td>1 I mycket hög grad</td>\n",
       "      <td>1 I mycket hög grad</td>\n",
       "      <td>1 I mycket hög grad</td>\n",
       "      <td>2 I hög grad</td>\n",
       "    </tr>\n",
       "    <tr>\n",
       "      <th>2</th>\n",
       "      <td>10004.0</td>\n",
       "      <td>2330</td>\n",
       "      <td>1 Ja</td>\n",
       "      <td>1 Ja</td>\n",
       "      <td>2 Nej</td>\n",
       "      <td>3 Ej beslut men krav</td>\n",
       "      <td>2 Övrigt</td>\n",
       "      <td>4 Stor del av tiden</td>\n",
       "      <td>1 Inte alls</td>\n",
       "      <td>5 Hela tiden</td>\n",
       "      <td>...</td>\n",
       "      <td>1 Ja</td>\n",
       "      <td>4</td>\n",
       "      <td>7 mer än 2 år</td>\n",
       "      <td>1Ja</td>\n",
       "      <td>1 Ja</td>\n",
       "      <td>2 Nej</td>\n",
       "      <td>3 I viss grad</td>\n",
       "      <td>1 I mycket hög grad</td>\n",
       "      <td>3 I viss grad</td>\n",
       "      <td>2 I hög grad</td>\n",
       "    </tr>\n",
       "    <tr>\n",
       "      <th>3</th>\n",
       "      <td>10005.0</td>\n",
       "      <td>5131</td>\n",
       "      <td>2 Nej</td>\n",
       "      <td>1 Ja</td>\n",
       "      <td>2 Nej</td>\n",
       "      <td>1 Beslut ej krav</td>\n",
       "      <td>2 Övrigt</td>\n",
       "      <td>1 Inte alls</td>\n",
       "      <td>1 Inte alls</td>\n",
       "      <td>1 Inte alls</td>\n",
       "      <td>...</td>\n",
       "      <td>1 Ja</td>\n",
       "      <td>5</td>\n",
       "      <td>6 1-2 år</td>\n",
       "      <td>1Ja</td>\n",
       "      <td>1 Ja</td>\n",
       "      <td>1Ja</td>\n",
       "      <td>2 I hög grad</td>\n",
       "      <td>2 I hög grad</td>\n",
       "      <td>2 I hög grad</td>\n",
       "      <td>1 I mycket hög grad</td>\n",
       "    </tr>\n",
       "    <tr>\n",
       "      <th>4</th>\n",
       "      <td>10006.0</td>\n",
       "      <td>6130</td>\n",
       "      <td>1 Ja</td>\n",
       "      <td>1 Ja</td>\n",
       "      <td>2 Nej</td>\n",
       "      <td>NaN</td>\n",
       "      <td>NaN</td>\n",
       "      <td>2 Mindre del av tiden</td>\n",
       "      <td>2 Mindre del av tiden</td>\n",
       "      <td>2 Mindre del av tiden</td>\n",
       "      <td>...</td>\n",
       "      <td>NaN</td>\n",
       "      <td>NaN</td>\n",
       "      <td>NaN</td>\n",
       "      <td>NaN</td>\n",
       "      <td>NaN</td>\n",
       "      <td>NaN</td>\n",
       "      <td>NaN</td>\n",
       "      <td>NaN</td>\n",
       "      <td>NaN</td>\n",
       "      <td>NaN</td>\n",
       "    </tr>\n",
       "  </tbody>\n",
       "</table>\n",
       "<p>5 rows × 23 columns</p>\n",
       "</div>"
      ],
      "text/plain": [
       "        z1   z18   z670   z671   z672                  z673      z674  \\\n",
       "0  10001.0  8334  2 Nej  2 Nej  2 Nej      1 Beslut ej krav  2 Övrigt   \n",
       "1  10003.0  2131  2 Nej   1 Ja  2 Nej      1 Beslut ej krav  2 Övrigt   \n",
       "2  10004.0  2330   1 Ja   1 Ja  2 Nej  3 Ej beslut men krav  2 Övrigt   \n",
       "3  10005.0  5131  2 Nej   1 Ja  2 Nej      1 Beslut ej krav  2 Övrigt   \n",
       "4  10006.0  6130   1 Ja   1 Ja  2 Nej                   NaN       NaN   \n",
       "\n",
       "                    z680                   z681                   z682  ...  \\\n",
       "0  2 Mindre del av tiden  2 Mindre del av tiden            1 Inte alls  ...   \n",
       "1  2 Mindre del av tiden            1 Inte alls            1 Inte alls  ...   \n",
       "2    4 Stor del av tiden            1 Inte alls           5 Hela tiden  ...   \n",
       "3            1 Inte alls            1 Inte alls            1 Inte alls  ...   \n",
       "4  2 Mindre del av tiden  2 Mindre del av tiden  2 Mindre del av tiden  ...   \n",
       "\n",
       "    z624 z625              z626   z647   z651   z652                 z653  \\\n",
       "0  2 Nej  NaN       2 2-5 dagar    1Ja  2 Nej    1Ja       4 I liten grad   \n",
       "1   1 Ja    5  5 3 månader-1 år  2 Nej   1 Ja    1Ja  1 I mycket hög grad   \n",
       "2   1 Ja    4     7 mer än 2 år    1Ja   1 Ja  2 Nej        3 I viss grad   \n",
       "3   1 Ja    5          6 1-2 år    1Ja   1 Ja    1Ja         2 I hög grad   \n",
       "4    NaN  NaN               NaN    NaN    NaN    NaN                  NaN   \n",
       "\n",
       "                  z654                 z655                 z656  \n",
       "0        3 I viss grad       4 I liten grad         2 I hög grad  \n",
       "1  1 I mycket hög grad  1 I mycket hög grad         2 I hög grad  \n",
       "2  1 I mycket hög grad        3 I viss grad         2 I hög grad  \n",
       "3         2 I hög grad         2 I hög grad  1 I mycket hög grad  \n",
       "4                  NaN                  NaN                  NaN  \n",
       "\n",
       "[5 rows x 23 columns]"
      ]
     },
     "execution_count": 4,
     "metadata": {},
     "output_type": "execute_result"
    }
   ],
   "source": [
    "data.head(5)"
   ]
  },
  {
   "cell_type": "markdown",
   "metadata": {},
   "source": [
    "***\n",
    "# <a id = \"3\">3. Datatvätt</a>\n",
    "Datamängden måste modifieras innan den kan användas. Detta görs i flera steg som går att följa nedan. Först ska några variabler döpas om, sedan ska datatyp korrigeras. SSYK ska omvandlas från fyrställig nivå till tvåställig, och till sist ska luckor i datamängden hanteras. \n",
    "***\n",
    "## <a id = \"3.1\">3.1 Variabelnamn</a>\n",
    "Döp om **z1** och **z18** till \"Lopnr\" respektive \"SSYK\"."
   ]
  },
  {
   "cell_type": "code",
   "execution_count": 5,
   "metadata": {},
   "outputs": [],
   "source": [
    "data.rename(columns={'z1': 'Lopnr', 'z18': 'SSYK'}, inplace=True)"
   ]
  },
  {
   "cell_type": "markdown",
   "metadata": {},
   "source": [
    "***\n",
    "## <a id= \"3.2\">3.2 Datatyp</a>\n",
    "Cellerna verkar innehålla data av olika typ. Se efter vilken typ av data som finns i varje kolumn."
   ]
  },
  {
   "cell_type": "code",
   "execution_count": 6,
   "metadata": {},
   "outputs": [
    {
     "name": "stdout",
     "output_type": "stream",
     "text": [
      "<class 'pandas.core.frame.DataFrame'>\n",
      "Int64Index: 4415 entries, 0 to 4414\n",
      "Data columns (total 23 columns):\n",
      "Lopnr    4415 non-null float64\n",
      "SSYK     4415 non-null int32\n",
      "z670     3059 non-null category\n",
      "z671     3059 non-null category\n",
      "z672     3059 non-null category\n",
      "z673     2687 non-null category\n",
      "z674     2687 non-null category\n",
      "z680     3059 non-null category\n",
      "z681     3059 non-null category\n",
      "z682     3058 non-null category\n",
      "z616     2689 non-null category\n",
      "z621     2689 non-null category\n",
      "z622     2687 non-null category\n",
      "z624     2689 non-null category\n",
      "z625     2041 non-null category\n",
      "z626     2689 non-null category\n",
      "z647     2689 non-null category\n",
      "z651     2689 non-null category\n",
      "z652     2689 non-null category\n",
      "z653     2689 non-null category\n",
      "z654     2689 non-null category\n",
      "z655     2689 non-null category\n",
      "z656     2689 non-null category\n",
      "dtypes: category(21), float64(1), int32(1)\n",
      "memory usage: 187.0 KB\n"
     ]
    }
   ],
   "source": [
    "data.info()"
   ]
  },
  {
   "cell_type": "markdown",
   "metadata": {},
   "source": [
    "***\n",
    "Ta bort all svarstext ur cellerna, behåll endast siffror som representerar svarsalternativ."
   ]
  },
  {
   "cell_type": "code",
   "execution_count": 7,
   "metadata": {},
   "outputs": [],
   "source": [
    "data.replace(regex=True, inplace=True, to_replace=r'\\D', value=r'')"
   ]
  },
  {
   "cell_type": "markdown",
   "metadata": {},
   "source": [
    "***\n",
    "Variabeln **z626** har svarstext som innehåller siffror. Svarstexten till alternativ två är t.ex. \"2-5 dagar\". Ta bort dessa restsiffror och behåll endast siffran som representerar svarsalternativet."
   ]
  },
  {
   "cell_type": "code",
   "execution_count": 8,
   "metadata": {},
   "outputs": [],
   "source": [
    "data['z626'] = data['z626'].astype(str).str[:1]\n",
    "data['z626'] = data['z626'].replace('n', np.nan)"
   ]
  },
  {
   "cell_type": "markdown",
   "metadata": {},
   "source": [
    "***\n",
    "Data måste vara av rätt typ för att deskriptiv statistk ska bli korrekt."
   ]
  },
  {
   "cell_type": "code",
   "execution_count": 9,
   "metadata": {},
   "outputs": [],
   "source": [
    "data = data.apply(pd.to_numeric)"
   ]
  },
  {
   "cell_type": "markdown",
   "metadata": {},
   "source": [
    "***\n",
    "## <a id = \"3.3\">3.3 Tvåställig SSYK</a>\n",
    "Variabeln **SSYK** är på fyrställig nivå. För att omvandla till tvåställig SSYK kan man dela med 100 och sedan använda **np.floor** som avrundar ner till närmaste heltal."
   ]
  },
  {
   "cell_type": "code",
   "execution_count": 10,
   "metadata": {},
   "outputs": [],
   "source": [
    "data['SSYK'] = data['SSYK']/100"
   ]
  },
  {
   "cell_type": "code",
   "execution_count": 11,
   "metadata": {},
   "outputs": [],
   "source": [
    "data['SSYK'] = data['SSYK'].apply(np.floor)"
   ]
  },
  {
   "cell_type": "markdown",
   "metadata": {},
   "source": [
    "***\n",
    "## <a id = \"3.4\">3.4 Data saknas och NaN</a>\n",
    "Variablerna **z670, z671, z672, z673, z674, z680, z681, z682, z616, z624, z626, z647, z651, z652, z653, z654, z655, z656** har samtliga en kodlista i vilken koden 9 står för \"Svar saknas\". Variabeln **z625** har koden 99 för \"Svar saknas\" och **z621, z622** har 9999. Dessa koder kommer påverka medelvärden på ett oönskat sätt och ersätts därför med **NaN** (eller s.k. \"missing value\"). Börja med att sortera om variablerna så att dessa tre grupper hamnar i följd."
   ]
  },
  {
   "cell_type": "code",
   "execution_count": 12,
   "metadata": {},
   "outputs": [],
   "source": [
    "data = data[['Lopnr', 'SSYK', 'z670', 'z671', 'z672', 'z673', 'z674', 'z680', 'z681',  \n",
    "           'z682','z616', 'z624', 'z626', 'z647', 'z651', 'z652', 'z653', 'z654',\n",
    "           'z655', 'z656', 'z625', 'z621', 'z622']]"
   ]
  },
  {
   "cell_type": "markdown",
   "metadata": {},
   "source": [
    "***\n",
    "Ersätt 9 i den första gruppen med **NaN**, gör sedan detsamma med 99 och 999 för den andra respektive tredje gruppen.\n"
   ]
  },
  {
   "cell_type": "code",
   "execution_count": 13,
   "metadata": {},
   "outputs": [],
   "source": [
    "data.iloc[:, 2:19] = data.iloc[:, 2:19].replace(9, np.nan)\n",
    "data.iloc[:, 20] = data.iloc[:, 20].replace(99, np.nan)\n",
    "data.iloc[:, 21:] = data.iloc[:, 21:].replace(9999, np.nan)"
   ]
  },
  {
   "cell_type": "markdown",
   "metadata": {},
   "source": [
    "***\n",
    "De individer som svarar ja på fråga **z624**:   \n",
    "*Behöver man någon skol- eller yrkesutbildning utöver folk- eller grundskola i din befattning?*  \n",
    "\n",
    "Får sedan ange hur lång en sådan utbildning är i fråga **z625**:  \n",
    "*Ungefär hur många års utbildning utöver folk- eller grundskola behöver man?*  \n",
    "  \n",
    "De som däremot svarade nej på **z624**, (637 individer, eller 23%) kodas som **NaN** i fråga **z625**. Detta ger ett missvisande medelvärde, bättre vore om dessa 23% kodades som 0. På så vis blir medelvärdet betydligt lägre.\n"
   ]
  },
  {
   "cell_type": "code",
   "execution_count": 14,
   "metadata": {},
   "outputs": [],
   "source": [
    "data.loc[data.z624==2, ['z625']] = 0"
   ]
  },
  {
   "cell_type": "markdown",
   "metadata": {},
   "source": [
    "***\n",
    "# <a id = \"4\">4. Aggregera data</a>\n",
    "Ta bort variabeln Lopnr, den behövs ej för att aggregera data."
   ]
  },
  {
   "cell_type": "code",
   "execution_count": 15,
   "metadata": {},
   "outputs": [],
   "source": [
    "data = data.drop('Lopnr', axis = 1)"
   ]
  },
  {
   "cell_type": "markdown",
   "metadata": {},
   "source": [
    "***\n",
    "Gruppera data enligt SSYK och ta fram medelvärde och antal observationer för varje annan variabel. "
   ]
  },
  {
   "cell_type": "code",
   "execution_count": 16,
   "metadata": {},
   "outputs": [],
   "source": [
    "aggregerad_data = data.groupby('SSYK').aggregate(['mean', 'count'])"
   ]
  },
  {
   "cell_type": "markdown",
   "metadata": {},
   "source": [
    "***\n",
    "Avrunda medelvärden till 1 decimal."
   ]
  },
  {
   "cell_type": "code",
   "execution_count": 17,
   "metadata": {},
   "outputs": [],
   "source": [
    "aggregerad_data = aggregerad_data.round(1)"
   ]
  },
  {
   "cell_type": "markdown",
   "metadata": {},
   "source": [
    "***\n",
    "# <a id = \"5\">5. Exportera data</a>\n",
    "Ändra namn på variablerna."
   ]
  },
  {
   "cell_type": "code",
   "execution_count": 18,
   "metadata": {},
   "outputs": [],
   "source": [
    "aggregerad_data.columns = ['z670_mean', 'z670_count', 'z671_mean', 'z671_count', 'z672_mean', 'z672_count', \n",
    "                           'z673_mean', 'z673_count', 'z674_mean', 'z674_count', 'z680_mean', 'z680_count',\n",
    "                           'z681_mean', 'z681_count', 'z682_mean', 'z682_count', 'z616_mean', 'z616_count', \n",
    "                           'z624_mean', 'z624_count', 'z647_mean', 'z647_count', 'z651_mean', 'z651_count',\n",
    "                           'z626_mean', 'z626_count', 'z652_mean', 'z652_count', 'z653_mean', 'z653_count',\n",
    "                           'z654_mean', 'z654_count', 'z655_mean', 'z655_count', 'z656_mean', 'z656_count', \n",
    "                           'z625_mean', 'z625_count', 'z621_mean', 'z621_count', 'z622_mean', 'z622_count']\n"
   ]
  },
  {
   "cell_type": "markdown",
   "metadata": {},
   "source": [
    "***\n",
    "Spara ner aggregerad data i en excelfil."
   ]
  },
  {
   "cell_type": "code",
   "execution_count": null,
   "metadata": {},
   "outputs": [],
   "source": [
    "aggregerad_data.to_excel('LNU Medelvärden och n per SSYK för harmonisering.xlsx')"
   ]
  },
  {
   "cell_type": "markdown",
   "metadata": {},
   "source": [
    "***\n",
    "**Kontakt:** [Marcus Brafors](https://www.su.se/profiles/mabr4821-1.403903)"
   ]
  }
 ],
 "metadata": {
  "kernelspec": {
   "display_name": "Python 3",
   "language": "python",
   "name": "python3"
  },
  "language_info": {
   "codemirror_mode": {
    "name": "ipython",
    "version": 3
   },
   "file_extension": ".py",
   "mimetype": "text/x-python",
   "name": "python",
   "nbconvert_exporter": "python",
   "pygments_lexer": "ipython3",
   "version": "3.7.3"
  }
 },
 "nbformat": 4,
 "nbformat_minor": 2
}

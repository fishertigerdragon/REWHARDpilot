{
 "cells": [
  {
   "cell_type": "markdown",
   "metadata": {},
   "source": [
    "<span style=\"color:blueviolet\">**KODLISTOR_STOR: *k_id - kodlista - kod - svarstext***   \n",
    "kanske går att hämta från min lista med dictionairies? \n",
    "  \n",
    "  \n",
    "<span style=\"color:blueviolet\">**FREKVENSTABELL: *v_id - variabel - enkät - kod - frekvens***   \n",
    "blir lite klurigare... jag måste göra något åt att det står \"w+n\" i enkätkolumnen. För att hitta rätt kod och frekvens borde jag kunna söka igenom den \"högra delen\" av filen, alltså där frekvenstabellerna ligger, och välja ut de celler som faktiskt har värden. FÖrmodligen står det NULL i de tomma cellerna efter att jag läst in excelfilen till en dataframe.  \n",
    "  \n",
    "    \n",
    "    \n",
    "<span style=\"color:blueviolet\">**VARIABLER: *variabel - enkät - beskrivning - itemnr - enkättext - kodlista***   \n",
    "borde inte vara så svår. Dela på på enkätkolumnen så att w+n separeras. Sedan måste item# hämtas från den högra delen av tabellen... det borde inte vara så klurigt."
   ]
  },
  {
   "cell_type": "markdown",
   "metadata": {},
   "source": [
    "# Innehållsförteckning  \n",
    "1. [Introduktion](#1)  \n",
    "2. [Kolumner](#2)  \n",
    "    2.1 [Enkät](#2.1)  \n",
    "    2.2 [Itemnr](#2.2)  \n",
    "    2.3 [Frekvens](#2.3)\n",
    "3. [Tabeller](#3)  \n",
    "    3.1 [Variabler](#3.1)  \n",
    "    3.2 [Frekvenstabell](#3.2)  \n",
    "    3.3 [Enkättexter](#3.3)  \n",
    "    3.4 [Kodlistor](#3.4)  \n",
    "    3.5 [Svarstexter](#3.5)  \n",
    "    3.6 [Kodlistor_stor](#3.6)\n",
    "\n",
    "***"
   ]
  },
  {
   "cell_type": "markdown",
   "metadata": {},
   "source": [
    "# <a id = \"1\">1. Introduktion</a>  \n",
    "Den metadata som redan är dokumenterad enligt Vetenskapsrådets riktlinjer ligger i excelfilen *Metadata*. Några av tabellerna i relationsdatabsen innehåller kolumner som inte redan finns i excelfilen *Metadata*. Dessa kolumner skapas i avsnittet [Kolumner](#2). Därefter kommer följande tabeller att skapas:  \n",
    "\n",
    "|Variabler|Frekvenstabell|Enkättexter|Kodlistor|Svarstexter|Kodlistor_stor|  \n",
    "|:---:|:---:|---|---|---|---|\n",
    "|Variabel|V_id|Enkättext|Kodlista|Svarstext|K_id|  \n",
    "|Enkät|Variabel|Källa|From|From|Kodlista|  \n",
    "|Beskrivning|Enkät|-|Tom|Tom|Kod|  \n",
    "|Itemnr|Kod|-|-|-|Svarstext|  \n",
    "|Enkättext|Frekvens|-|-|-|-|  \n",
    "|Kodlista|-|-|-|-|-|  \n",
    "  \n",
    "  \n",
    "Relationsdatabasen kommmer att innehålla ytterligare fyra tabeller. Dessa är **Begrepp**, **Begrepp_stor**, **Tidsserie** samt **Tidsserie_stor**. För tillfället finns ingen data till dessa tabeller i *Metadata*, därför kommer de inte skapas här. "
   ]
  },
  {
   "cell_type": "code",
   "execution_count": 1,
   "metadata": {},
   "outputs": [],
   "source": [
    "import numpy as np\n",
    "import pandas as pd"
   ]
  },
  {
   "cell_type": "code",
   "execution_count": 2,
   "metadata": {},
   "outputs": [],
   "source": [
    "df = pd.read_excel('Metadata.xlsx')"
   ]
  },
  {
   "cell_type": "markdown",
   "metadata": {},
   "source": [
    "För att ta fram **Kodlista_stor** används `missing`-värdet i text-kolumnen. Eftersom `missing` inte är lika med `Missing` blir det problem. För att undvika detta ersätts `missing` med `Missing`."
   ]
  },
  {
   "cell_type": "code",
   "execution_count": 3,
   "metadata": {},
   "outputs": [],
   "source": [
    "df.replace('missing', 'Missing', inplace = True)"
   ]
  },
  {
   "cell_type": "code",
   "execution_count": 4,
   "metadata": {
    "scrolled": true
   },
   "outputs": [
    {
     "data": {
      "text/plain": [
       "Index(['Namn', 'Tidsserie', 'Beskrivning', 'Enkät', 'Dubbelkodning',\n",
       "       'Enkättext', 'From', 'Tom', 'Kodlista', 'From.1', 'Tom.1', 'Kod',\n",
       "       'Text', 'From.2', 'Tom.2', 'Koncept 1', 'Koncept 2', 'Instrument 1',\n",
       "       'Instrument 2', 'Källa', 'SLOSHW06', 'frek', 'SLOSHW08', 'frek.1',\n",
       "       'SLOSHW10', 'frek.2', 'SLOSHW12', 'frek.3', 'SLOSHW14', 'frek.4',\n",
       "       'SLOSHW16', 'frek.5', 'SLOSHW18', 'frek.6', 'SLOSHNW06', 'frek.7',\n",
       "       'SLOSHNW08', 'frek.8', 'SLOSHNW10', 'frek.9', 'SLOSHNW12', 'frek.10',\n",
       "       'SLOSHNW14', 'frek.11', 'SLOSHNW16', 'frek.12', 'SLOSHNW18', 'frek.13'],\n",
       "      dtype='object')"
      ]
     },
     "execution_count": 4,
     "metadata": {},
     "output_type": "execute_result"
    }
   ],
   "source": [
    "df.columns"
   ]
  },
  {
   "cell_type": "markdown",
   "metadata": {},
   "source": [
    "*** \n",
    "# <a id = \"2\">2. Kolumner</a>  \n",
    "Kolumnerna som måste skapas från *Metadata* är Enkät, Itemnr och Frekvens.  "
   ]
  },
  {
   "cell_type": "markdown",
   "metadata": {},
   "source": [
    "***  \n",
    "## <a id = \"2.1\">2.1 Enkät</a>  \n",
    "Den här kolumnen ska innehålla en `str` som säger vilken år (eller våg) variabeln förekommer i. Samma `str` ska säga huruvida variabeln finns för den arbetande- eller den icke-arbetande delen av SLOSH. Ett exempel på ett ett värde i kolumnen är \"SLOSHW08\". Här står \"W\" för \"working\" (\"non-working\" förkortas \"NW\") och \"08\" för den andra SLOSH-vågen (som ägde rum 2008). Värdena i den här kolumnen är namn på (redan existerande) kolumner i *Metadata*. Börja med att samla namnen på working-kolumner respektive nonworking-kolumner i två listor. Listorna kallas \"WORKING\" respektive \"NONWORKING\"."
   ]
  },
  {
   "cell_type": "code",
   "execution_count": 5,
   "metadata": {},
   "outputs": [],
   "source": [
    "WORKING = ['SLOSHW06', 'SLOSHW08', 'SLOSHW10', 'SLOSHW12', 'SLOSHW14', 'SLOSHW16', 'SLOSHW18']\n",
    "NONWORKING = ['SLOSHNW06', 'SLOSHNW08', 'SLOSHNW10', 'SLOSHNW12', 'SLOSHNW14', 'SLOSHNW16', 'SLOSHNW18']"
   ]
  },
  {
   "cell_type": "markdown",
   "metadata": {},
   "source": [
    "Kolumnerna som står för vågor i SLOSH (alltså t.ex. SLOSHW06) innehåller `NaN` ifall en given variabel inte finns med i vågen. Om variabeln istället *finns* kommer vågkolumnen innehålla en `str`. De kolumner som heter \"SLOSHW\" står för enkäter för arbetande i SLOSH. Ifall kolumnen börjar med \"SLOSHNW\" står den för en enkät för icke-arbetande. Varje variabel kan förekomma i högst två kolumner (en SLOSHW och en SLOSHNW). Ifall en given variabel förekommer i *endast en* kolumn ska det i Enkät-kolumnen stå t.ex. `SLOSHW06`."
   ]
  },
  {
   "cell_type": "code",
   "execution_count": 6,
   "metadata": {},
   "outputs": [],
   "source": [
    "for i,j in zip(WORKING, NONWORKING):\n",
    "    df.loc[(df[i].isna() == False) & (df[j].isna() == True), ['Enkät']] = i\n",
    "    df.loc[(df[j].isna() == False) & (df[i].isna() == True), ['Enkät']] = j"
   ]
  },
  {
   "cell_type": "code",
   "execution_count": 7,
   "metadata": {},
   "outputs": [
    {
     "data": {
      "text/plain": [
       "SLOSHW06       1210\n",
       "SLOSHW08        889\n",
       "w+n             748\n",
       "SLOSHW10        669\n",
       "SLOSHW12        579\n",
       "SLOSHW14        567\n",
       "SLOSHW16        517\n",
       "SLOSHW18        426\n",
       "SLOSHNW08       307\n",
       "working         181\n",
       "SLOSHNW12       160\n",
       "SLOSHNW14       130\n",
       "SLOSHNW16       106\n",
       "SLOSHNW18        75\n",
       "SLOSHNW10        41\n",
       "non-working      34\n",
       "SLOSHNW06        24\n",
       "Name: Enkät, dtype: int64"
      ]
     },
     "execution_count": 7,
     "metadata": {},
     "output_type": "execute_result"
    }
   ],
   "source": [
    "df['Enkät'].value_counts()"
   ]
  },
  {
   "cell_type": "markdown",
   "metadata": {},
   "source": [
    "Frekvenstabellen visar att det finns tre värden i Enkät-kolumnen för vilka tillhörande variabler förekommer i två vågkolumner. Detta är oväntat. Alla variabler som förekommer i två vågor ska egentligen ha Enkät-värdet `w+n`. Alltså har vi dokumenterat fel på något sätt. Tillsvidare får dessa variabler Enkät-värdet `oklar`."
   ]
  },
  {
   "cell_type": "code",
   "execution_count": 8,
   "metadata": {},
   "outputs": [],
   "source": [
    "df.loc[(df['Enkät'] == 'w+n') | (df['Enkät'] == 'working') | (df['Enkät'] == 'non-working'), ['Enkät']] = 'oklar'"
   ]
  },
  {
   "cell_type": "markdown",
   "metadata": {},
   "source": [
    "  ***  \n",
    "## <a id = \"2.2\">2.2 Itemnr</a>  \n",
    "Nu passar Enkät-kolumnen in i relationsdatabasen (med undantag för de variabler som är \"oklara\"). Kolumnen Itemnr ska innehålla `str` som för närvarande ligger utspridda i vågkolumnerna i *Metadata*. Ett värde i kolumnen kan t.ex. vara `A26_b`. Här är ett förenklat schema som visar relationen mellan Itemnr-kolumnen och vågkolumnerna i *Metadata*:"
   ]
  },
  {
   "cell_type": "code",
   "execution_count": 31,
   "metadata": {},
   "outputs": [
    {
     "data": {
      "text/html": [
       "<div>\n",
       "<style scoped>\n",
       "    .dataframe tbody tr th:only-of-type {\n",
       "        vertical-align: middle;\n",
       "    }\n",
       "\n",
       "    .dataframe tbody tr th {\n",
       "        vertical-align: top;\n",
       "    }\n",
       "\n",
       "    .dataframe thead th {\n",
       "        text-align: right;\n",
       "    }\n",
       "</style>\n",
       "<table border=\"1\" class=\"dataframe\">\n",
       "  <thead>\n",
       "    <tr style=\"text-align: right;\">\n",
       "      <th></th>\n",
       "      <th>SLOSHW06</th>\n",
       "      <th>SLOSHNW10</th>\n",
       "      <th>SLOSHW16</th>\n",
       "      <th>Itemnr</th>\n",
       "    </tr>\n",
       "  </thead>\n",
       "  <tbody>\n",
       "    <tr>\n",
       "      <th>0</th>\n",
       "      <td>A25</td>\n",
       "      <td>NaN</td>\n",
       "      <td>Nan</td>\n",
       "      <td>A25</td>\n",
       "    </tr>\n",
       "    <tr>\n",
       "      <th>1</th>\n",
       "      <td>NaN</td>\n",
       "      <td>B23</td>\n",
       "      <td>Nan</td>\n",
       "      <td>B23</td>\n",
       "    </tr>\n",
       "    <tr>\n",
       "      <th>2</th>\n",
       "      <td>NaN</td>\n",
       "      <td>NaN</td>\n",
       "      <td>C13</td>\n",
       "      <td>C13</td>\n",
       "    </tr>\n",
       "  </tbody>\n",
       "</table>\n",
       "</div>"
      ],
      "text/plain": [
       "  SLOSHW06 SLOSHNW10 SLOSHW16 Itemnr\n",
       "0      A25       NaN      Nan    A25\n",
       "1      NaN       B23      Nan    B23\n",
       "2      NaN       NaN      C13    C13"
      ]
     },
     "execution_count": 31,
     "metadata": {},
     "output_type": "execute_result"
    }
   ],
   "source": [
    "pd.DataFrame([['A25', 'NaN', 'Nan', 'A25'], ['NaN', 'B23', 'Nan', 'B23'], ['NaN', 'NaN', 'C13', 'C13']], \n",
    "             columns = ['SLOSHW06', 'SLOSHNW10', 'SLOSHW16', 'Itemnr'])"
   ]
  },
  {
   "cell_type": "markdown",
   "metadata": {},
   "source": [
    "Första skapas en ny kolumn som får namnet \"Itemnr\", kolumnen fylls med `NaN`."
   ]
  },
  {
   "cell_type": "code",
   "execution_count": 26,
   "metadata": {},
   "outputs": [],
   "source": [
    "df['Itemnr'] = np.nan"
   ]
  },
  {
   "cell_type": "markdown",
   "metadata": {},
   "source": [
    "Proceduren för att välja ut rätt itemnummer illustreras i testet nedan.  \n",
    "<span style=\"color:red\">**TEST**"
   ]
  },
  {
   "cell_type": "code",
   "execution_count": 10,
   "metadata": {},
   "outputs": [],
   "source": [
    "d = pd.DataFrame([[1,2,3], [4,5,6], [1,8,9]], columns = ['A', 'B', 'C'])\n",
    "d['test'] = 0"
   ]
  },
  {
   "cell_type": "code",
   "execution_count": 11,
   "metadata": {},
   "outputs": [
    {
     "data": {
      "text/html": [
       "<div>\n",
       "<style scoped>\n",
       "    .dataframe tbody tr th:only-of-type {\n",
       "        vertical-align: middle;\n",
       "    }\n",
       "\n",
       "    .dataframe tbody tr th {\n",
       "        vertical-align: top;\n",
       "    }\n",
       "\n",
       "    .dataframe thead th {\n",
       "        text-align: right;\n",
       "    }\n",
       "</style>\n",
       "<table border=\"1\" class=\"dataframe\">\n",
       "  <thead>\n",
       "    <tr style=\"text-align: right;\">\n",
       "      <th></th>\n",
       "      <th>A</th>\n",
       "      <th>B</th>\n",
       "      <th>C</th>\n",
       "      <th>test</th>\n",
       "    </tr>\n",
       "  </thead>\n",
       "  <tbody>\n",
       "    <tr>\n",
       "      <th>0</th>\n",
       "      <td>1</td>\n",
       "      <td>2</td>\n",
       "      <td>3</td>\n",
       "      <td>0</td>\n",
       "    </tr>\n",
       "    <tr>\n",
       "      <th>1</th>\n",
       "      <td>4</td>\n",
       "      <td>5</td>\n",
       "      <td>6</td>\n",
       "      <td>0</td>\n",
       "    </tr>\n",
       "    <tr>\n",
       "      <th>2</th>\n",
       "      <td>1</td>\n",
       "      <td>8</td>\n",
       "      <td>9</td>\n",
       "      <td>0</td>\n",
       "    </tr>\n",
       "  </tbody>\n",
       "</table>\n",
       "</div>"
      ],
      "text/plain": [
       "   A  B  C  test\n",
       "0  1  2  3     0\n",
       "1  4  5  6     0\n",
       "2  1  8  9     0"
      ]
     },
     "execution_count": 11,
     "metadata": {},
     "output_type": "execute_result"
    }
   ],
   "source": [
    "d"
   ]
  },
  {
   "cell_type": "code",
   "execution_count": 12,
   "metadata": {},
   "outputs": [
    {
     "data": {
      "text/html": [
       "<div>\n",
       "<style scoped>\n",
       "    .dataframe tbody tr th:only-of-type {\n",
       "        vertical-align: middle;\n",
       "    }\n",
       "\n",
       "    .dataframe tbody tr th {\n",
       "        vertical-align: top;\n",
       "    }\n",
       "\n",
       "    .dataframe thead th {\n",
       "        text-align: right;\n",
       "    }\n",
       "</style>\n",
       "<table border=\"1\" class=\"dataframe\">\n",
       "  <thead>\n",
       "    <tr style=\"text-align: right;\">\n",
       "      <th></th>\n",
       "      <th>A</th>\n",
       "      <th>B</th>\n",
       "      <th>C</th>\n",
       "      <th>test</th>\n",
       "    </tr>\n",
       "  </thead>\n",
       "  <tbody>\n",
       "    <tr>\n",
       "      <th>0</th>\n",
       "      <td>1</td>\n",
       "      <td>2</td>\n",
       "      <td>3</td>\n",
       "      <td>2</td>\n",
       "    </tr>\n",
       "    <tr>\n",
       "      <th>1</th>\n",
       "      <td>4</td>\n",
       "      <td>5</td>\n",
       "      <td>6</td>\n",
       "      <td>0</td>\n",
       "    </tr>\n",
       "    <tr>\n",
       "      <th>2</th>\n",
       "      <td>1</td>\n",
       "      <td>8</td>\n",
       "      <td>9</td>\n",
       "      <td>8</td>\n",
       "    </tr>\n",
       "  </tbody>\n",
       "</table>\n",
       "</div>"
      ],
      "text/plain": [
       "   A  B  C  test\n",
       "0  1  2  3     2\n",
       "1  4  5  6     0\n",
       "2  1  8  9     8"
      ]
     },
     "execution_count": 12,
     "metadata": {},
     "output_type": "execute_result"
    }
   ],
   "source": [
    "d.loc[d['A'] == 1, ['test']] = d['B']\n",
    "d"
   ]
  },
  {
   "cell_type": "markdown",
   "metadata": {},
   "source": [
    "<span style=\"color:red\">**TEST SLUT**  \n",
    "***"
   ]
  },
  {
   "cell_type": "markdown",
   "metadata": {},
   "source": [
    "Loopen nedan går igenom vågkolumnerna i *Metadata*. Om en variabel har fått värdet `SLOSHW06` i enkätkolumnen kommer värdet för samma variabel i vågkolumnen SLOSHW06 att bli variabelns värde i den nya kolumnen Itemnr."
   ]
  },
  {
   "cell_type": "code",
   "execution_count": 13,
   "metadata": {},
   "outputs": [],
   "source": [
    "for i,j in zip(WORKING, NONWORKING):\n",
    "    df.loc[df['Enkät'] == i, ['Itemnr']] = df[i]\n",
    "    df.loc[df['Enkät'] == j, ['Itemnr']] = df[j]"
   ]
  },
  {
   "cell_type": "markdown",
   "metadata": {},
   "source": [
    "Varabler med enkätvärdet `oklar` ges Itemr `oklar`. "
   ]
  },
  {
   "cell_type": "code",
   "execution_count": null,
   "metadata": {},
   "outputs": [],
   "source": [
    "df.loc[df['Enkät'] == 'oklar', ['Itemnr']] = 'oklar'"
   ]
  },
  {
   "cell_type": "markdown",
   "metadata": {},
   "source": [
    "Gör en `value_counts` för att se att någon frekvenstabell i *Metadata* hamnat på fel ställe... Kanske har den förskjutits någon kolumn eller så..."
   ]
  },
  {
   "cell_type": "markdown",
   "metadata": {},
   "source": [
    "***  \n",
    "## <a id = \"2.3\">2.3 Frekvens</a>  \n",
    "Kolumnen med frekvenser görs på ungefär samma sätt som kolumnen med Itemnr. I *Metadata* ligger en frekvenskolumn intill varje vågkolumn. Exempelvis åtföljs kolumnen SLOSHW06 av en frekvenskolumn som rymmer frekvenser för de variabler som förekommer i SLOSHW06. De variabler som *inte* förekommer i SLOSHW06 har värdet `NaN`i samma frekvenskolumn.  \n",
    "  \n",
    "Skapa först en ny kolumn med namnet \"Frekvens\" och fyll den med `NaN`.\n"
   ]
  },
  {
   "cell_type": "code",
   "execution_count": 15,
   "metadata": {},
   "outputs": [],
   "source": [
    "df['Frekvens'] = np.nan"
   ]
  },
  {
   "cell_type": "markdown",
   "metadata": {},
   "source": [
    "Skapa två listor, en för arbetande och en för icke-arbetande, och fyll dessa med namnen på frekvenskolumnerna från *Metadata*."
   ]
  },
  {
   "cell_type": "code",
   "execution_count": 16,
   "metadata": {},
   "outputs": [],
   "source": [
    "WORKFREK = ['frek.1', 'frek.2', 'frek.3', 'frek.4', 'frek.5', 'frek.6', 'frek.7']\n",
    "NONWORKFREK = ['frek.8', 'frek.9', 'frek.10', 'frek.11', 'frek.12', 'frek.13']"
   ]
  },
  {
   "cell_type": "markdown",
   "metadata": {},
   "source": [
    "Loopen nedan går igenom frekvenskolumnerna i *Metadata*. De variabler som har frekvenser för högst en våg får detta värde i den nya frekvenskolumnen. De variabler som har frekvenser i två vågor, alltså de som i *Metadata* är `w+n` samt ej är dubbelkodade, får tillsvidare `NaN` i den nya frekvenskolumnen. Anledningen är att det i avsnittet [Enkät](#2.2) antyds att vissa variabler är feldokumenterade."
   ]
  },
  {
   "cell_type": "code",
   "execution_count": 17,
   "metadata": {},
   "outputs": [],
   "source": [
    "for i,j in zip(WORKFREK, NONWORKFREK):\n",
    "    df.loc[(df[i].isna() == False) & (df[j].isna() == True), ['Frekvens']] = df[i]\n",
    "    df.loc[(df[j].isna() == False) & (df[i].isna() == True), ['Frekvens']] = df[j]"
   ]
  },
  {
   "cell_type": "markdown",
   "metadata": {},
   "source": [
    "***  \n",
    "# <a id = \"3\">3. Tabeller</a>  \n",
    "I det här avnittet kommer tabellerna (förutom de som rör tidsserre och begrepp, se [introduktionen](#1)) till relationsdatabasen att skapas. Först tabellen **Variabler** (som är störst). Därefter **Frekvenstabeller**, **Enkättexter**, **Kodlistor**, **Svarstexter** och till sist **Kodlistor_stor**. "
   ]
  },
  {
   "cell_type": "markdown",
   "metadata": {},
   "source": [
    "***  \n",
    "## <a id = \"3.1\">3.1 Variabler</a>  "
   ]
  },
  {
   "cell_type": "markdown",
   "metadata": {},
   "source": [
    "***  \n",
    "## <a id = \"3.2\">3.2 Frekvenstabeller</a>  "
   ]
  },
  {
   "cell_type": "markdown",
   "metadata": {},
   "source": [
    "***  \n",
    "## <a id = \"3.3\">3.3 Enkättexter</a>  "
   ]
  },
  {
   "cell_type": "markdown",
   "metadata": {},
   "source": [
    "***  \n",
    "## <a id = \"3.4\">3.4 Kodlistor</a>  "
   ]
  },
  {
   "cell_type": "markdown",
   "metadata": {},
   "source": [
    "***  \n",
    "## <a id = \"3.5\">3.5 Svarstexter</a>  "
   ]
  },
  {
   "cell_type": "markdown",
   "metadata": {},
   "source": [
    "***  \n",
    "## <a id = \"3.6\">3.6 Kodlistor_stor</a>  \n",
    "Den här tabellen ska innehålla kodlistornas namn tillsammans med deras kod och svarstext. Varje sådant sjok ska endast förekomma en gång. Börja med att skära ut kolumnerna Kodlista, Kod och Text ur *Metadata*."
   ]
  },
  {
   "cell_type": "code",
   "execution_count": 18,
   "metadata": {},
   "outputs": [],
   "source": [
    "d = df[['Kodlista', 'Kod', 'Text']]  \n",
    "d.head(5)"
   ]
  },
  {
   "cell_type": "markdown",
   "metadata": {},
   "source": [
    "I den här mindre tabellen förekommer vissa kodlistor flera gånger. För att identifiera dubletter behövs en slags räknare. Börja med att lägga till en ny kolumn fylld med `0`. Kalla kolumnen för K_id."
   ]
  },
  {
   "cell_type": "code",
   "execution_count": 21,
   "metadata": {},
   "outputs": [
    {
     "name": "stderr",
     "output_type": "stream",
     "text": [
      "C:\\ProgramData\\Anaconda3\\lib\\site-packages\\ipykernel_launcher.py:1: SettingWithCopyWarning: \n",
      "A value is trying to be set on a copy of a slice from a DataFrame.\n",
      "Try using .loc[row_indexer,col_indexer] = value instead\n",
      "\n",
      "See the caveats in the documentation: http://pandas.pydata.org/pandas-docs/stable/indexing.html#indexing-view-versus-copy\n",
      "  \"\"\"Entry point for launching an IPython kernel.\n"
     ]
    },
    {
     "data": {
      "text/plain": [
       "Index(['Kodlista', 'Kod', 'Text', 'kid'], dtype='object')"
      ]
     },
     "execution_count": 21,
     "metadata": {},
     "output_type": "execute_result"
    }
   ],
   "source": [
    "d['K_id'] = 0\n",
    "d.head(5)"
   ]
  },
  {
   "cell_type": "markdown",
   "metadata": {},
   "source": [
    "K_id ska vara unik för varje sjok. Loopen nedan ökar K_id med `1` varje gång den passerar ett sjok. Ett sjok identifieras genom att dess sista rad alltid har svarstexten `Missing`."
   ]
  },
  {
   "cell_type": "code",
   "execution_count": 23,
   "metadata": {},
   "outputs": [
    {
     "name": "stderr",
     "output_type": "stream",
     "text": [
      "C:\\ProgramData\\Anaconda3\\lib\\site-packages\\pandas\\core\\indexing.py:543: SettingWithCopyWarning: \n",
      "A value is trying to be set on a copy of a slice from a DataFrame.\n",
      "Try using .loc[row_indexer,col_indexer] = value instead\n",
      "\n",
      "See the caveats in the documentation: http://pandas.pydata.org/pandas-docs/stable/indexing.html#indexing-view-versus-copy\n",
      "  self.obj[item] = s\n"
     ]
    }
   ],
   "source": [
    "for i in range(1, len(d['K_id'])):\n",
    "    if d.iloc[i-1, 2] == 'Missing':\n",
    "        d.iloc[i: , 3] = d.iloc[i: , 3] + 1"
   ]
  },
  {
   "cell_type": "markdown",
   "metadata": {},
   "source": [
    "Loopen nedan lägger varje kodlista i listan `behåll` endast en gång. Varje gång en kodlista läggs i `behåll` lägger loopen tillhörande K_id i listan `unikid`. Denna andra lista innehåller alltså alla unika förekomster av \"sjok\"."
   ]
  },
  {
   "cell_type": "code",
   "execution_count": 24,
   "metadata": {},
   "outputs": [],
   "source": [
    "unikid = []\n",
    "behåll = []\n",
    "for i in range(len(d['K_id'])):\n",
    "    if d.iloc[i, 0] not in behåll:\n",
    "        unikid.append(d.iloc[i, 3])\n",
    "        behåll.append(d.iloc[i, 0])\n",
    "        "
   ]
  },
  {
   "cell_type": "markdown",
   "metadata": {},
   "source": [
    "Tills sist skapas tabellen **Kodlistor_stor** genom att endast ha med de rader för vilka K_id återfinns i listan `unikid`."
   ]
  },
  {
   "cell_type": "code",
   "execution_count": 25,
   "metadata": {},
   "outputs": [],
   "source": [
    "Kodlistor_stor = d.loc[d['K_id'].isin(unikid)]"
   ]
  }
 ],
 "metadata": {
  "kernelspec": {
   "display_name": "Python 3",
   "language": "python",
   "name": "python3"
  },
  "language_info": {
   "codemirror_mode": {
    "name": "ipython",
    "version": 3
   },
   "file_extension": ".py",
   "mimetype": "text/x-python",
   "name": "python",
   "nbconvert_exporter": "python",
   "pygments_lexer": "ipython3",
   "version": "3.7.3"
  }
 },
 "nbformat": 4,
 "nbformat_minor": 2
}

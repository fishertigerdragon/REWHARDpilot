{
 "cells": [
  {
   "cell_type": "markdown",
   "metadata": {},
   "source": [
    "**Kodlistor_stor** kanske går att hämta från min lista med dictionairies?  \n",
    "**frekvenstabell** blir lite klurigare... jag måste göra något åt att det står \"w+n\" i enkätkolumnen. För att hitta rätt kod och frekvens borde jag kunna söka igenom den \"högra delen\" av filen, alltså där frekvenstabellerna ligger, och välja ut de celler som faktiskt har värden. FÖrmodligen står det NULL i de tomma cellerna efter att jag läst in excelfilen till en dataframe.  \n",
    "**Variabler** borde inte vara så svår. Dela på på enkätkolumnen så att w+n separeras. Sedan måste item# hämtas från den högra delen av tabellen... det borde inte vara så klurigt."
   ]
  },
  {
   "cell_type": "code",
   "execution_count": null,
   "metadata": {},
   "outputs": [],
   "source": []
  }
 ],
 "metadata": {
  "kernelspec": {
   "display_name": "Python 3",
   "language": "python",
   "name": "python3"
  },
  "language_info": {
   "codemirror_mode": {
    "name": "ipython",
    "version": 3
   },
   "file_extension": ".py",
   "mimetype": "text/x-python",
   "name": "python",
   "nbconvert_exporter": "python",
   "pygments_lexer": "ipython3",
   "version": "3.7.3"
  }
 },
 "nbformat": 4,
 "nbformat_minor": 2
}

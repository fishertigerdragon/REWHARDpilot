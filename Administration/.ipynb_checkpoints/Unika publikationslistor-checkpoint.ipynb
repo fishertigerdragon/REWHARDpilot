{
 "cells": [
  {
   "cell_type": "code",
   "execution_count": 1,
   "metadata": {},
   "outputs": [],
   "source": [
    "import docx\n",
    "import pandas as pd"
   ]
  },
  {
   "cell_type": "markdown",
   "metadata": {},
   "source": [
    "# IMAS 18  \n",
    "Läs in tabellen med IMAS publikationer från 2018."
   ]
  },
  {
   "cell_type": "code",
   "execution_count": 2,
   "metadata": {},
   "outputs": [],
   "source": [
    "doc = docx.Document('Publikationer REWHARD 2018.docx').tables[1]"
   ]
  },
  {
   "cell_type": "markdown",
   "metadata": {},
   "source": [
    "Skapa en `lista` och lägg alla littreferenser där."
   ]
  },
  {
   "cell_type": "code",
   "execution_count": 3,
   "metadata": {},
   "outputs": [],
   "source": [
    "publista = [doc.rows[pub].cells[0].paragraphs[0].text for pub in range(1, len(doc.rows))]"
   ]
  },
  {
   "cell_type": "markdown",
   "metadata": {},
   "source": [
    "Välja ut endast titeln och snygga till strängen."
   ]
  },
  {
   "cell_type": "code",
   "execution_count": 4,
   "metadata": {},
   "outputs": [],
   "source": [
    "publista = [str.split('.', 2) for str in publista]"
   ]
  },
  {
   "cell_type": "code",
   "execution_count": 5,
   "metadata": {},
   "outputs": [],
   "source": [
    "IMAS18 = [str[1].strip() for str in publista]"
   ]
  },
  {
   "cell_type": "markdown",
   "metadata": {},
   "source": [
    "# LNU 18  \n",
    "Läs in tabellen med LNU publikationer från 2018."
   ]
  },
  {
   "cell_type": "code",
   "execution_count": 6,
   "metadata": {},
   "outputs": [],
   "source": [
    "doc = docx.Document('Publikationer REWHARD 2018.docx').tables[2]"
   ]
  },
  {
   "cell_type": "markdown",
   "metadata": {},
   "source": [
    "Skapa en `lista` och lägg alla littreferenser där."
   ]
  },
  {
   "cell_type": "code",
   "execution_count": 7,
   "metadata": {},
   "outputs": [],
   "source": [
    "publista = [doc.rows[pub].cells[0].paragraphs[0].text for pub in range(1, len(doc.rows))]"
   ]
  },
  {
   "cell_type": "markdown",
   "metadata": {},
   "source": [
    "Välja ut endast titeln och snygga till strängen."
   ]
  },
  {
   "cell_type": "code",
   "execution_count": 8,
   "metadata": {},
   "outputs": [],
   "source": [
    "publista = [str.split(')', 1) for str in publista]\n",
    "\n",
    "publista = [str[1].split('.', 1) for str in publista]"
   ]
  },
  {
   "cell_type": "code",
   "execution_count": 9,
   "metadata": {},
   "outputs": [],
   "source": [
    "LNU18 = [str[0].strip().replace('“', '') for str in publista]"
   ]
  },
  {
   "cell_type": "markdown",
   "metadata": {},
   "source": [
    "# SLOSH 18  \n",
    "Läs in tabellen med SLOSH publikationer från 2018."
   ]
  },
  {
   "cell_type": "code",
   "execution_count": 10,
   "metadata": {},
   "outputs": [],
   "source": [
    "doc = docx.Document('Publikationer REWHARD 2018.docx').tables[0]"
   ]
  },
  {
   "cell_type": "markdown",
   "metadata": {},
   "source": [
    "Skapa en `lista` och lägg alla littreferenser där."
   ]
  },
  {
   "cell_type": "code",
   "execution_count": 11,
   "metadata": {},
   "outputs": [],
   "source": [
    "publista = [doc.rows[pub].cells[0].paragraphs[0].text for pub in range(1, len(doc.rows))]"
   ]
  },
  {
   "cell_type": "markdown",
   "metadata": {},
   "source": [
    "Välj ut endast titeln och snygga till strängen."
   ]
  },
  {
   "cell_type": "code",
   "execution_count": 12,
   "metadata": {},
   "outputs": [],
   "source": [
    "publista = [str.split('.', 2) for str in publista]\n",
    "\n",
    "SLOSH18 = [str[1][1:] for str in publista]"
   ]
  },
  {
   "cell_type": "markdown",
   "metadata": {},
   "source": [
    "# STODS 18  \n",
    "Läs in tabellen med STODS publikationer från 2018."
   ]
  },
  {
   "cell_type": "code",
   "execution_count": 13,
   "metadata": {},
   "outputs": [],
   "source": [
    "doc = docx.Document('Publikationer REWHARD 2018.docx').tables[3]"
   ]
  },
  {
   "cell_type": "markdown",
   "metadata": {},
   "source": [
    "Skapa en `lista` och lägg alla littreferenser där."
   ]
  },
  {
   "cell_type": "code",
   "execution_count": 14,
   "metadata": {},
   "outputs": [],
   "source": [
    "publista = [doc.rows[pub].cells[0].paragraphs[0].text for pub in range(1, len(doc.rows))]"
   ]
  },
  {
   "cell_type": "markdown",
   "metadata": {},
   "source": [
    "Välj ut endast titeln och snygga till strängen."
   ]
  },
  {
   "cell_type": "code",
   "execution_count": 15,
   "metadata": {},
   "outputs": [],
   "source": [
    "publista = [str.split('.', 2) for str in publista]\n",
    "\n",
    "STODS18 = [str[1].strip() for str in publista]"
   ]
  },
  {
   "cell_type": "markdown",
   "metadata": {},
   "source": [
    "# REWHARD 18  \n",
    "Lägg ihop samtliga fyra listor för 2018."
   ]
  },
  {
   "cell_type": "code",
   "execution_count": 17,
   "metadata": {},
   "outputs": [],
   "source": [
    "rew18 = LNU18+IMAS18+SLOSH18+STODS18"
   ]
  },
  {
   "cell_type": "code",
   "execution_count": 18,
   "metadata": {},
   "outputs": [
    {
     "data": {
      "text/plain": [
       "48"
      ]
     },
     "execution_count": 18,
     "metadata": {},
     "output_type": "execute_result"
    }
   ],
   "source": [
    "len(rew18)"
   ]
  },
  {
   "cell_type": "code",
   "execution_count": 19,
   "metadata": {},
   "outputs": [
    {
     "data": {
      "text/plain": [
       "48"
      ]
     },
     "execution_count": 19,
     "metadata": {},
     "output_type": "execute_result"
    }
   ],
   "source": [
    "len(set(rew18))"
   ]
  },
  {
   "cell_type": "markdown",
   "metadata": {},
   "source": [
    "***   \n",
    "# IMAS 19  \n",
    "Läs in tabellen med IMAS publikationer från 2019."
   ]
  },
  {
   "cell_type": "code",
   "execution_count": 69,
   "metadata": {},
   "outputs": [],
   "source": [
    "doc = docx.Document('Publikationer REWHARD 2019.docx').tables[0]"
   ]
  },
  {
   "cell_type": "markdown",
   "metadata": {},
   "source": [
    "Skapa en `lista` och lägg alla littreferenser där."
   ]
  },
  {
   "cell_type": "code",
   "execution_count": 70,
   "metadata": {},
   "outputs": [],
   "source": [
    "publista = [doc.rows[pub].cells[0].paragraphs[0].text for pub in range(1, len(doc.rows))]"
   ]
  },
  {
   "cell_type": "markdown",
   "metadata": {},
   "source": [
    "Välj ut endast titeln och snygga till strängen."
   ]
  },
  {
   "cell_type": "code",
   "execution_count": 71,
   "metadata": {},
   "outputs": [],
   "source": [
    "publista = [str.split('.', 2) for str in publista]\n",
    "\n",
    "IMAS19 = [str[1].strip() for str in publista]"
   ]
  },
  {
   "cell_type": "markdown",
   "metadata": {},
   "source": [
    "# LNU 19\n",
    "Läs in tabellen med LNU:s publikationer från 2019."
   ]
  },
  {
   "cell_type": "code",
   "execution_count": 72,
   "metadata": {},
   "outputs": [],
   "source": [
    "doc = docx.Document('Publikationer REWHARD 2019.docx').tables[1]"
   ]
  },
  {
   "cell_type": "markdown",
   "metadata": {},
   "source": [
    "Skapa en `lista` och lägg alla littreferenser där."
   ]
  },
  {
   "cell_type": "code",
   "execution_count": 73,
   "metadata": {},
   "outputs": [],
   "source": [
    "publista = [doc.rows[pub].cells[0].paragraphs[0].text for pub in range(1, len(doc.rows))]"
   ]
  },
  {
   "cell_type": "markdown",
   "metadata": {},
   "source": [
    "Välj ut endast titeln och snygga till strängen."
   ]
  },
  {
   "cell_type": "code",
   "execution_count": 74,
   "metadata": {},
   "outputs": [],
   "source": [
    "publista = [str.split(').', 1) for str in publista]\n",
    "\n",
    "publista = [str[1].split('.', 1) for str in publista]\n",
    "\n",
    "LNU19 = [str[0].strip().replace('”', '').replace('“', '') for str in publista]"
   ]
  },
  {
   "cell_type": "markdown",
   "metadata": {},
   "source": [
    "# SLOSH 19\n",
    "Läs in tabellen med LNU:s publikationer från 2019."
   ]
  },
  {
   "cell_type": "code",
   "execution_count": 75,
   "metadata": {},
   "outputs": [],
   "source": [
    "doc = docx.Document('Publikationer REWHARD 2019.docx').tables[2]"
   ]
  },
  {
   "cell_type": "markdown",
   "metadata": {},
   "source": [
    "Skapa en `lista` och lägg alla littreferenser där."
   ]
  },
  {
   "cell_type": "code",
   "execution_count": 76,
   "metadata": {},
   "outputs": [],
   "source": [
    "publista = [doc.rows[pub].cells[0].paragraphs[0].text for pub in range(1, len(doc.rows))]"
   ]
  },
  {
   "cell_type": "markdown",
   "metadata": {},
   "source": [
    "Välj ut endast titeln och snygga till strängen."
   ]
  },
  {
   "cell_type": "code",
   "execution_count": 77,
   "metadata": {},
   "outputs": [],
   "source": [
    "publista = [str.split('.', 2) for str in publista]\n",
    "\n",
    "SLOSH19 = [str[1].strip() for str in publista]"
   ]
  },
  {
   "cell_type": "markdown",
   "metadata": {},
   "source": [
    "# STODS 19\n",
    "Läs in tabellen med STODS publikationer från 2019."
   ]
  },
  {
   "cell_type": "code",
   "execution_count": 78,
   "metadata": {},
   "outputs": [],
   "source": [
    "doc = docx.Document('Publikationer REWHARD 2019.docx').tables[3]"
   ]
  },
  {
   "cell_type": "markdown",
   "metadata": {},
   "source": [
    "Skapa en `lista` och lägg alla littreferenser där."
   ]
  },
  {
   "cell_type": "code",
   "execution_count": 79,
   "metadata": {},
   "outputs": [],
   "source": [
    "publista = [doc.rows[pub].cells[0].paragraphs[0].text for pub in range(1, len(doc.rows))]"
   ]
  },
  {
   "cell_type": "markdown",
   "metadata": {},
   "source": [
    "Välj ut endast titeln och snygga till strängen."
   ]
  },
  {
   "cell_type": "code",
   "execution_count": 80,
   "metadata": {},
   "outputs": [],
   "source": [
    "publista = [str.split('.', 2) for str in publista]\n",
    "\n",
    "STODS19 = [str[1].strip() for str in publista]"
   ]
  },
  {
   "cell_type": "markdown",
   "metadata": {},
   "source": [
    "# REWHARD 19  \n",
    "Lägg ihop samtliga fyra listor för 2019."
   ]
  },
  {
   "cell_type": "code",
   "execution_count": 81,
   "metadata": {},
   "outputs": [],
   "source": [
    "rew19 = IMAS19 + LNU19 + SLOSH19 + STODS19"
   ]
  },
  {
   "cell_type": "code",
   "execution_count": 82,
   "metadata": {},
   "outputs": [
    {
     "data": {
      "text/plain": [
       "73"
      ]
     },
     "execution_count": 82,
     "metadata": {},
     "output_type": "execute_result"
    }
   ],
   "source": [
    "len(rew19) "
   ]
  },
  {
   "cell_type": "code",
   "execution_count": 83,
   "metadata": {},
   "outputs": [
    {
     "data": {
      "text/plain": [
       "72"
      ]
     },
     "execution_count": 83,
     "metadata": {},
     "output_type": "execute_result"
    }
   ],
   "source": [
    "len(set(rew19))"
   ]
  },
  {
   "cell_type": "markdown",
   "metadata": {},
   "source": [
    "Det verkar alltså finnas en dublett!"
   ]
  },
  {
   "cell_type": "code",
   "execution_count": 91,
   "metadata": {},
   "outputs": [
    {
     "name": "stdout",
     "output_type": "stream",
     "text": [
      "Adverse outcomes of sick leave due to mental disorders: A prospective study of discordant twin pairs\n"
     ]
    }
   ],
   "source": [
    "a = []\n",
    "for i in rew19:\n",
    "    if i not in a:\n",
    "        a.append(i)\n",
    "    else:\n",
    "        print(i)"
   ]
  },
  {
   "cell_type": "code",
   "execution_count": 98,
   "metadata": {},
   "outputs": [
    {
     "data": {
      "text/plain": [
       "True"
      ]
     },
     "execution_count": 98,
     "metadata": {},
     "output_type": "execute_result"
    }
   ],
   "source": [
    "str = 'Adverse outcomes of sick leave due to mental disorders: A prospective study of discordant twin pairs'\n",
    "str in STODS19 and str in IMAS19 and str not in SLOSH19 and str not in LNU19"
   ]
  },
  {
   "cell_type": "markdown",
   "metadata": {},
   "source": [
    "STODS19 och IMAS19 innehåller alltså bägge `str`."
   ]
  }
 ],
 "metadata": {
  "kernelspec": {
   "display_name": "Python 3",
   "language": "python",
   "name": "python3"
  },
  "language_info": {
   "codemirror_mode": {
    "name": "ipython",
    "version": 3
   },
   "file_extension": ".py",
   "mimetype": "text/x-python",
   "name": "python",
   "nbconvert_exporter": "python",
   "pygments_lexer": "ipython3",
   "version": "3.7.3"
  }
 },
 "nbformat": 4,
 "nbformat_minor": 2
}

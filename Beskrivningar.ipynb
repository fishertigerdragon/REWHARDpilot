{
 "cells": [
  {
   "cell_type": "code",
   "execution_count": 1,
   "metadata": {},
   "outputs": [],
   "source": [
    "import pandas as pd"
   ]
  },
  {
   "cell_type": "code",
   "execution_count": 2,
   "metadata": {},
   "outputs": [],
   "source": [
    "df1 = pd.read_excel('Metadata.xlsx')\n",
    "df2 = pd.read_excel('Metadata.xlsx')"
   ]
  },
  {
   "cell_type": "code",
   "execution_count": 3,
   "metadata": {},
   "outputs": [
    {
     "data": {
      "text/html": [
       "<div>\n",
       "<style scoped>\n",
       "    .dataframe tbody tr th:only-of-type {\n",
       "        vertical-align: middle;\n",
       "    }\n",
       "\n",
       "    .dataframe tbody tr th {\n",
       "        vertical-align: top;\n",
       "    }\n",
       "\n",
       "    .dataframe thead th {\n",
       "        text-align: right;\n",
       "    }\n",
       "</style>\n",
       "<table border=\"1\" class=\"dataframe\">\n",
       "  <thead>\n",
       "    <tr style=\"text-align: right;\">\n",
       "      <th></th>\n",
       "      <th>Namn</th>\n",
       "      <th>Enkättext</th>\n",
       "      <th>Beskrivning</th>\n",
       "    </tr>\n",
       "  </thead>\n",
       "  <tbody>\n",
       "    <tr>\n",
       "      <th>0</th>\n",
       "      <td>promoted_1</td>\n",
       "      <td>Ditt arbete @ Har du befordrats/fått en högre ...</td>\n",
       "      <td>NaN</td>\n",
       "    </tr>\n",
       "    <tr>\n",
       "      <th>1</th>\n",
       "      <td>promoted_1</td>\n",
       "      <td>Ditt arbete @ Har du befordrats/fått en högre ...</td>\n",
       "      <td>NaN</td>\n",
       "    </tr>\n",
       "    <tr>\n",
       "      <th>2</th>\n",
       "      <td>promoted_1</td>\n",
       "      <td>Ditt arbete @ Har du befordrats/fått en högre ...</td>\n",
       "      <td>NaN</td>\n",
       "    </tr>\n",
       "    <tr>\n",
       "      <th>3</th>\n",
       "      <td>promoted_2</td>\n",
       "      <td>Har du fått en annan tjänsteposition de senast...</td>\n",
       "      <td>NaN</td>\n",
       "    </tr>\n",
       "    <tr>\n",
       "      <th>4</th>\n",
       "      <td>promoted_2</td>\n",
       "      <td>Har du fått en annan tjänsteposition de senast...</td>\n",
       "      <td>NaN</td>\n",
       "    </tr>\n",
       "  </tbody>\n",
       "</table>\n",
       "</div>"
      ],
      "text/plain": [
       "         Namn                                          Enkättext  Beskrivning\n",
       "0  promoted_1  Ditt arbete @ Har du befordrats/fått en högre ...          NaN\n",
       "1  promoted_1  Ditt arbete @ Har du befordrats/fått en högre ...          NaN\n",
       "2  promoted_1  Ditt arbete @ Har du befordrats/fått en högre ...          NaN\n",
       "3  promoted_2  Har du fått en annan tjänsteposition de senast...          NaN\n",
       "4  promoted_2  Har du fått en annan tjänsteposition de senast...          NaN"
      ]
     },
     "execution_count": 3,
     "metadata": {},
     "output_type": "execute_result"
    }
   ],
   "source": [
    "df2 = df2[['Namn', 'Enkättext', 'Beskrivning']]\n",
    "df2.head()"
   ]
  },
  {
   "cell_type": "code",
   "execution_count": 4,
   "metadata": {},
   "outputs": [
    {
     "data": {
      "text/plain": [
       "'Har du fått en förändrad tjänsteposition de senaste två åren?'"
      ]
     },
     "execution_count": 4,
     "metadata": {},
     "output_type": "execute_result"
    }
   ],
   "source": [
    "df2['Enkättext'].unique()[2]"
   ]
  },
  {
   "cell_type": "code",
   "execution_count": 5,
   "metadata": {},
   "outputs": [
    {
     "data": {
      "text/plain": [
       "0    promoted_1\n",
       "1    promoted_1\n",
       "2    promoted_1\n",
       "Name: Namn, dtype: object"
      ]
     },
     "execution_count": 5,
     "metadata": {},
     "output_type": "execute_result"
    }
   ],
   "source": [
    "df1[df1['Enkättext'] == 'Ditt arbete @ Har du befordrats/fått en högre tjänst under de två senaste åren?']['Namn']"
   ]
  },
  {
   "cell_type": "code",
   "execution_count": 6,
   "metadata": {},
   "outputs": [],
   "source": [
    "df1.loc[df1['Enkättext'] == 'Ditt arbete @ Har du befordrats/fått en högre tjänst under de två senaste åren?', \n",
    "        ['Beskrivning']] = 'Befordran'"
   ]
  },
  {
   "cell_type": "code",
   "execution_count": 7,
   "metadata": {},
   "outputs": [],
   "source": [
    "df1.loc[df1['Enkättext'] == 'Har du fått en annan tjänsteposition de senaste två åren?', \n",
    "        ['Beskrivning']] = 'Annan tjänsteposition'"
   ]
  },
  {
   "cell_type": "code",
   "execution_count": 8,
   "metadata": {},
   "outputs": [],
   "source": [
    "df1.loc[df1['Enkättext'] == 'Har du fått en förändrad tjänsteposition de senaste två åren?', \n",
    "        ['Beskrivning']] = 'Förändrad tjänsteposition'"
   ]
  },
  {
   "cell_type": "code",
   "execution_count": 9,
   "metadata": {},
   "outputs": [],
   "source": [
    "df1.loc[df1['Enkättext'] == 'Har du fått en förändrad tjänsteposition under de senaste två åren?', \n",
    "        ['Beskrivning']] = 'Förändrad tjänsteposition'"
   ]
  },
  {
   "cell_type": "code",
   "execution_count": 10,
   "metadata": {},
   "outputs": [],
   "source": [
    "df1.loc[df1['Enkättext'] == 'Har du fått en sämre position under de senaste två åren?', \n",
    "        ['Beskrivning']] = 'Sämre tjänsteposition'"
   ]
  },
  {
   "cell_type": "code",
   "execution_count": 11,
   "metadata": {},
   "outputs": [],
   "source": [
    "df1.loc[df1['Enkättext'] == 'Har du krav på dig att vara uppdaterad i ditt arbete, t.ex. att ständigt lära dig nya saker och löpande ta in ny information?', \n",
    "        ['Beskrivning']] = 'Krav uppdaterad i arbete'"
   ]
  },
  {
   "cell_type": "code",
   "execution_count": 12,
   "metadata": {},
   "outputs": [],
   "source": [
    "df1.loc[df1['Enkättext'] == 'Har du krav på dig att vara uppdaterad i ditt arbete, t.ex. att ständigt lära dig nya saker och löpande ta in ny information?', \n",
    "        ['Beskrivning']] = 'Krav uppdaterad i arbete'"
   ]
  },
  {
   "cell_type": "code",
   "execution_count": 13,
   "metadata": {},
   "outputs": [],
   "source": [
    "df1.loc[df1['Enkättext'] == 'Har du tillräckligt med resurser för att klara av ditt arbete?', \n",
    "        ['Beskrivning']] = 'Tillräckliga resurser'"
   ]
  },
  {
   "cell_type": "code",
   "execution_count": 14,
   "metadata": {},
   "outputs": [],
   "source": [
    "df1.loc[df1['Enkättext'] == 'Har du tillräckliga rättigheter att fatta beslut för att klara av ditt arbete?', \n",
    "        ['Beskrivning']] = 'Tillräckliga rättigheter beslut'"
   ]
  },
  {
   "cell_type": "code",
   "execution_count": 15,
   "metadata": {},
   "outputs": [],
   "source": [
    "df1.loc[df1['Enkättext'] == 'Har du kapacitet som inte tillvaratas i ditt arbete?', \n",
    "        ['Beskrivning']] = 'Kapacitet tillvaratas inte'"
   ]
  },
  {
   "cell_type": "code",
   "execution_count": 16,
   "metadata": {},
   "outputs": [],
   "source": [
    "df1.loc[df1['Enkättext'] == 'Förekommer någon av följande risker eller hot för dig i ditt arbete? @ Risk för att du mot din vilja flyttas till annat arbete?', \n",
    "        ['Beskrivning']] = 'Flytt mot egen vilja'"
   ]
  },
  {
   "cell_type": "code",
   "execution_count": 17,
   "metadata": {},
   "outputs": [],
   "source": [
    "df1.loc[df1['Enkättext'] == 'Förekommer någon av följande risker eller hot för dig i ditt arbete? @ Risk för att du mot din vilja flyttas till annat arbete', \n",
    "        ['Beskrivning']] = 'Flytt mot egen vilja'"
   ]
  },
  {
   "cell_type": "code",
   "execution_count": 18,
   "metadata": {},
   "outputs": [],
   "source": [
    "df1.loc[df1['Enkättext'] == 'Förekom någon av följande risker eller hot för dig i ditt arbete innan du slutade arbeta? @ Risk för att du mot din vilja flyttas till annat arbete', \n",
    "        ['Beskrivning']] = 'Flytt mot egen vilja'"
   ]
  },
  {
   "cell_type": "code",
   "execution_count": 19,
   "metadata": {},
   "outputs": [],
   "source": [
    "df1.loc[df1['Enkättext'] == 'Förekommer någon av följande risker eller hot för dig i ditt arbete? @ Hot om permittering eller uppsägning?', \n",
    "        ['Beskrivning']] = 'Hot om uppsägning'"
   ]
  },
  {
   "cell_type": "code",
   "execution_count": 20,
   "metadata": {},
   "outputs": [],
   "source": [
    "df1.loc[df1['Enkättext'] == 'Förekommer någon av följande risker eller hot för dig i ditt arbete? @ Hot om permittering eller uppsägning?', \n",
    "        ['Beskrivning']] = 'Hot om uppsägning'"
   ]
  },
  {
   "cell_type": "code",
   "execution_count": 21,
   "metadata": {},
   "outputs": [],
   "source": [
    "df1.loc[df1['Enkättext'] == 'Förekom någon av följande risker eller hot för dig i ditt arbete innan du slutade arbeta? @ Hot om permittering eller uppsägning', \n",
    "        ['Beskrivning']] = 'Hot om uppsägning'"
   ]
  },
  {
   "cell_type": "code",
   "execution_count": 22,
   "metadata": {},
   "outputs": [],
   "source": [
    "df1.loc[df1['Enkättext'] == 'Förekom någon av följande risker eller hot för dig i ditt arbete innan du slutade arbeta? @ Hot om permittering eller uppsägning', \n",
    "        ['Beskrivning']] = 'Hot om uppsägning'"
   ]
  },
  {
   "cell_type": "code",
   "execution_count": 23,
   "metadata": {},
   "outputs": [],
   "source": [
    "df1.loc[df1['Enkättext'] == 'Kan du delvis själv bestämma när olika arbetsuppgifter skall göras (t ex genom att välja att jobba lite fortare vissa dagar och ta det lite lugnare andra dagar)?', \n",
    "        ['Beskrivning']] = 'Själv planera arbete'"
   ]
  },
  {
   "cell_type": "code",
   "execution_count": 24,
   "metadata": {},
   "outputs": [],
   "source": [
    "df1.loc[df1['Enkättext'] == 'Händer det att du är med och beslutar om uppläggningen av ditt arbete (t.ex. vad som skall göras, hur det skall göras eller vilka som skall arbeta tillsammans med dig)?', \n",
    "        ['Beskrivning']] = 'Själv planera arbete'"
   ]
  },
  {
   "cell_type": "code",
   "execution_count": 25,
   "metadata": {},
   "outputs": [],
   "source": [
    "df1.loc[df1['Enkättext'] == 'Har du möjlighet att få stöd och uppmuntran från chefer, när arbetet känns besvärligt?', \n",
    "        ['Beskrivning']] = 'Uppmuntran från chefer'"
   ]
  },
  {
   "cell_type": "code",
   "execution_count": 26,
   "metadata": {},
   "outputs": [],
   "source": [
    "df1.loc[df1['Enkättext'] == 'Har du möjlighet att få stöd och uppmuntran från arbetskamrater, när arbetet känns besvärligt?', \n",
    "        ['Beskrivning']] = 'Uppmuntran från arbetskamrater'"
   ]
  },
  {
   "cell_type": "code",
   "execution_count": 27,
   "metadata": {},
   "outputs": [],
   "source": [
    "df1.loc[df1['Enkättext'] == 'Drar du dig för att på arbetsplatsen framföra kritiska synpunkter på dina arbetsförhållanden?', \n",
    "        ['Beskrivning']] = 'Kritiska synpunkter'"
   ]
  },
  {
   "cell_type": "code",
   "execution_count": 28,
   "metadata": {},
   "outputs": [],
   "source": [
    "df1.loc[df1['Enkättext'] == 'Om synpunkter på arbetsförhållanden @ Drar du dig för att på arbetsplatsen framföra kritiska synpunkter på dina arbetsförhållanden?', \n",
    "        ['Beskrivning']] = 'Kritiska synpunkter'"
   ]
  },
  {
   "cell_type": "code",
   "execution_count": 29,
   "metadata": {},
   "outputs": [],
   "source": [
    "df1.loc[df1['Enkättext'] == 'Kräver ditt arbete att du arbetar fort?', \n",
    "        ['Beskrivning']] = 'Arbeta fort'"
   ]
  },
  {
   "cell_type": "code",
   "execution_count": 30,
   "metadata": {},
   "outputs": [],
   "source": [
    "df1.loc[df1['Enkättext'] == 'Kräver ditt arbete att du arbetar mycket fort?', \n",
    "        ['Beskrivning']] = 'Arbeta mycket fort'"
   ]
  },
  {
   "cell_type": "code",
   "execution_count": 31,
   "metadata": {},
   "outputs": [],
   "source": [
    "df1.loc[df1['Enkättext'] == 'Följande frågor gäller din senaste arbetsplats tiden strax innan du slutade arbeta: @ Krävde ditt arbete att du arbetade mycket fort?', \n",
    "        ['Beskrivning']] = 'Arbeta mycket fort'"
   ]
  },
  {
   "cell_type": "code",
   "execution_count": 32,
   "metadata": {},
   "outputs": [],
   "source": [
    "df1.loc[df1['Enkättext'] == 'Om ditt arbete @ Kräver ditt arbete att du arbetar mycket fort?', \n",
    "        ['Beskrivning']] = 'Arbeta mycket fort'"
   ]
  },
  {
   "cell_type": "code",
   "execution_count": 33,
   "metadata": {},
   "outputs": [],
   "source": [
    "df1.loc[df1['Enkättext'] == 'Om ditt förvärvsarbete @ Kräver ditt arbete att du arbetar mycket fort?', \n",
    "        ['Beskrivning']] = 'Arbeta mycket fort'"
   ]
  },
  {
   "cell_type": "code",
   "execution_count": 34,
   "metadata": {},
   "outputs": [],
   "source": [
    "df1.loc[df1['Enkättext'] == 'Om ditt förvärvsarbete (lönearbete) @ Om du inte arbetar för närvarande, vänligen besvara frågorna nedan med tanke på ditt senaste arbete. @ Kräver/krävde ditt arbete att du arbetar/arbetade mycket fort?', \n",
    "        ['Beskrivning']] = 'Arbeta mycket fort'"
   ]
  },
  {
   "cell_type": "code",
   "execution_count": 35,
   "metadata": {},
   "outputs": [],
   "source": [
    "df1.loc[df1['Enkättext'] == 'Kräver ditt arbete att du arbetar mycket hårt?', \n",
    "        ['Beskrivning']] = 'Arbeta mycket hårt'"
   ]
  },
  {
   "cell_type": "code",
   "execution_count": 36,
   "metadata": {},
   "outputs": [],
   "source": [
    "df1.loc[df1['Enkättext'] == 'Följande frågor gäller din senaste arbetsplats tiden strax innan du slutade arbeta: @ Krävde ditt arbete att du arbetade mycket hårt?', \n",
    "        ['Beskrivning']] = 'Arbeta mycket hårt'"
   ]
  },
  {
   "cell_type": "code",
   "execution_count": 37,
   "metadata": {},
   "outputs": [],
   "source": [
    "df1.loc[df1['Enkättext'] == 'Om ditt arbete @ Kräver ditt arbete att du arbetar mycket hårt?', \n",
    "        ['Beskrivning']] = 'Arbeta mycket hårt'"
   ]
  },
  {
   "cell_type": "code",
   "execution_count": 38,
   "metadata": {},
   "outputs": [],
   "source": [
    "df1.loc[df1['Enkättext'] == 'Om ditt förvärvsarbete @ Kräver ditt arbete att du arbetar mycket hårt?', \n",
    "        ['Beskrivning']] = 'Arbeta mycket hårt'"
   ]
  },
  {
   "cell_type": "code",
   "execution_count": 39,
   "metadata": {},
   "outputs": [],
   "source": [
    "df1.loc[df1['Enkättext'] == 'Om ditt förvärvsarbete (lönearbete) @ Om du inte arbetar för närvarande, vänligen besvara frågorna nedan med tanke på ditt senaste arbete. @ Kräver/krävde ditt arbete att du arbetar/arbetade mycket hårt?', \n",
    "        ['Beskrivning']] = 'Arbeta mycket hårt'"
   ]
  },
  {
   "cell_type": "code",
   "execution_count": 40,
   "metadata": {},
   "outputs": [],
   "source": [
    "df1.loc[df1['Enkättext'] == 'Kräver ditt arbete en för stor arbetsinsats?', \n",
    "        ['Beskrivning']] = 'För stor arbetsinsats'"
   ]
  },
  {
   "cell_type": "code",
   "execution_count": 41,
   "metadata": {},
   "outputs": [],
   "source": [
    "df1.loc[df1['Enkättext'] == 'Om ditt arbete @ Kräver ditt arbete en för stor arbetsinsats?', \n",
    "        ['Beskrivning']] = 'För stor arbetsinsats'"
   ]
  },
  {
   "cell_type": "code",
   "execution_count": 42,
   "metadata": {},
   "outputs": [],
   "source": [
    "df1.loc[df1['Enkättext'] == 'Om ditt förvärvsarbete @ kräver ditt arbete en för stor arbetsinsats?', \n",
    "        ['Beskrivning']] = 'För stor arbetsinsats'"
   ]
  },
  {
   "cell_type": "code",
   "execution_count": 43,
   "metadata": {},
   "outputs": [],
   "source": [
    "df1.loc[df1['Enkättext'] == 'Om ditt förvärvsarbete (lönearbete) @ Om du inte arbetar för närvarande, vänligen besvara frågorna nedan med tanke på ditt senaste arbete. @ Kräver/krävde ditt arbete en för stor arbetsinsats?', \n",
    "        ['Beskrivning']] = 'För stor arbetsinsats'"
   ]
  },
  {
   "cell_type": "code",
   "execution_count": 44,
   "metadata": {},
   "outputs": [],
   "source": [
    "df1.loc[df1['Enkättext'] == 'Kräver ditt arbete att du ska leva dig in i andra människors situation?', \n",
    "        ['Beskrivning']] = 'Empati andras situation'"
   ]
  },
  {
   "cell_type": "code",
   "execution_count": 45,
   "metadata": {},
   "outputs": [],
   "source": [
    "df1.loc[df1['Enkättext'] == 'Om ditt arbete @ Kräver ditt arbete att du ska leva dig in i andra människors situation?', \n",
    "        ['Beskrivning']] = 'Empati andras situation'"
   ]
  },
  {
   "cell_type": "code",
   "execution_count": 46,
   "metadata": {},
   "outputs": [],
   "source": [
    "df1.loc[df1['Enkättext'] == 'Om ditt förvärvsarbete @ Kräver ditt arbete att du ska leva dig in i andra människors situation?', \n",
    "        ['Beskrivning']] = 'Empati andras situation'"
   ]
  },
  {
   "cell_type": "code",
   "execution_count": 47,
   "metadata": {},
   "outputs": [],
   "source": [
    "df1.loc[df1['Enkättext'] == 'Har du tillräckligt med tid för att hinna med arbetsuppgifterna?', \n",
    "        ['Beskrivning']] = 'Empati andras situation'"
   ]
  },
  {
   "cell_type": "code",
   "execution_count": 48,
   "metadata": {},
   "outputs": [],
   "source": [
    "df1.loc[df1['Enkättext'] == 'Följande frågor gäller din senaste arbetsplats tiden strax innan du slutade arbeta: @ Hade du tillräckligt med tid för att hinna med arbetsuppgifterna?', \n",
    "        ['Beskrivning']] = 'Tillräckligt med tid'"
   ]
  },
  {
   "cell_type": "code",
   "execution_count": 49,
   "metadata": {},
   "outputs": [],
   "source": [
    "df1.loc[df1['Enkättext'] == 'Om ditt arbete @ Har du tillräckligt med tid för att hinna med arbetsuppgifterna?', \n",
    "        ['Beskrivning']] = 'Tillräckligt med tid'"
   ]
  },
  {
   "cell_type": "code",
   "execution_count": 50,
   "metadata": {},
   "outputs": [],
   "source": [
    "df1.loc[df1['Enkättext'] == 'Om ditt förvärvsarbete @ Har du tillräckligt med tid för att hinna med arbetsuppgifterna?', \n",
    "        ['Beskrivning']] = 'Tillräckligt med tid'"
   ]
  },
  {
   "cell_type": "code",
   "execution_count": 51,
   "metadata": {},
   "outputs": [],
   "source": [
    "df1.loc[df1['Enkättext'] == 'Om ditt förvärvsarbete (lönearbete) @ Om du inte arbetar för närvarande, vänligen besvara frågorna nedan med tanke på ditt senaste arbete. @ Har/hade du tillräckligt med tid för att hinna med arbetsuppgifterna?', \n",
    "        ['Beskrivning']] = 'Tillräckligt med tid'"
   ]
  },
  {
   "cell_type": "code",
   "execution_count": 52,
   "metadata": {},
   "outputs": [],
   "source": [
    "df1.loc[df1['Enkättext'] == 'Förekommer det motstridiga krav i ditt arbete?', \n",
    "        ['Beskrivning']] = 'Motstridiga krav'"
   ]
  },
  {
   "cell_type": "code",
   "execution_count": 53,
   "metadata": {},
   "outputs": [],
   "source": [
    "df1.loc[df1['Enkättext'] == 'Följande frågor gäller din senaste arbetsplats tiden strax innan du slutade arbeta: @ Förekom det ofta motstridiga krav i ditt arbete?', \n",
    "        ['Beskrivning']] = 'Motstridiga krav'"
   ]
  },
  {
   "cell_type": "code",
   "execution_count": 54,
   "metadata": {},
   "outputs": [],
   "source": [
    "df1.loc[df1['Enkättext'] == 'Om ditt arbete @ Förekommer det ofta motstridiga krav i ditt arbete?', \n",
    "        ['Beskrivning']] = 'Motstridiga krav'"
   ]
  },
  {
   "cell_type": "code",
   "execution_count": 55,
   "metadata": {},
   "outputs": [],
   "source": [
    "df1.loc[df1['Enkättext'] == 'Om ditt förvärvsarbete @ Förekommer det ofta motstridiga krav i ditt arbete?', \n",
    "        ['Beskrivning']] = 'Motstridiga krav'"
   ]
  },
  {
   "cell_type": "code",
   "execution_count": 56,
   "metadata": {},
   "outputs": [],
   "source": [
    "df1.loc[df1['Enkättext'] == 'Om ditt förvärvsarbete (lönearbete) @ Om du inte arbetar för närvarande, vänligen besvara frågorna nedan med tanke på ditt senaste arbete. @ Förekommer/förekom det ofta motstridiga krav i ditt arbete?', \n",
    "        ['Beskrivning']] = 'Motstridiga krav'"
   ]
  },
  {
   "cell_type": "code",
   "execution_count": 57,
   "metadata": {},
   "outputs": [],
   "source": [
    "df1.loc[df1['Enkättext'] == 'Får du lära dig nya saker i ditt arbete?', \n",
    "        ['Beskrivning']] = 'Lära nya saker'"
   ]
  },
  {
   "cell_type": "code",
   "execution_count": 58,
   "metadata": {},
   "outputs": [],
   "source": [
    "df1.loc[df1['Enkättext'] == 'Följande frågor gäller din senaste arbetsplats tiden strax innan du slutade arbeta: @ Fick du lära dig nya saker i ditt arbete?', \n",
    "        ['Beskrivning']] = 'Lära nya saker'"
   ]
  },
  {
   "cell_type": "code",
   "execution_count": 59,
   "metadata": {},
   "outputs": [],
   "source": [
    "df1.loc[df1['Enkättext'] == 'Om ditt arbete @ Får du lära dig nya saker i ditt arbete?', \n",
    "        ['Beskrivning']] = 'Lära nya saker'"
   ]
  },
  {
   "cell_type": "code",
   "execution_count": 60,
   "metadata": {},
   "outputs": [],
   "source": [
    "df1.loc[df1['Enkättext'] == 'Kräver ditt arbete skicklighet?', \n",
    "        ['Beskrivning']] = 'Skicklighet'"
   ]
  },
  {
   "cell_type": "code",
   "execution_count": 61,
   "metadata": {},
   "outputs": [],
   "source": [
    "df1.loc[df1['Enkättext'] == 'Följande frågor gäller din senaste arbetsplats tiden strax innan du slutade arbeta: @ Krävde ditt arbete skicklighet?', \n",
    "        ['Beskrivning']] = 'Skicklighet'"
   ]
  },
  {
   "cell_type": "code",
   "execution_count": 62,
   "metadata": {},
   "outputs": [],
   "source": [
    "df1.loc[df1['Enkättext'] == 'Om ditt arbete @ Kräver ditt arbete skicklighet?', \n",
    "        ['Beskrivning']] = 'Skicklighet'"
   ]
  },
  {
   "cell_type": "code",
   "execution_count": 63,
   "metadata": {},
   "outputs": [],
   "source": [
    "df1.loc[df1['Enkättext'] == 'Om ditt förvärvsarbete @ Kräver ditt arbete skicklighet?', \n",
    "        ['Beskrivning']] = 'Skicklighet'"
   ]
  },
  {
   "cell_type": "code",
   "execution_count": 64,
   "metadata": {},
   "outputs": [],
   "source": [
    "df1.loc[df1['Enkättext'] == 'Om ditt förvärvsarbete (lönearbete) @ Om du inte arbetar för närvarande, vänligen besvara frågorna nedan med tanke på ditt senaste arbete. @ Kräver/krävde ditt arbete skicklighet?', \n",
    "        ['Beskrivning']] = 'Skicklighet'"
   ]
  },
  {
   "cell_type": "code",
   "execution_count": 65,
   "metadata": {},
   "outputs": [],
   "source": [
    "df1.loc[df1['Enkättext'] == 'Kräver ditt arbete påhittighet?', \n",
    "        ['Beskrivning']] = 'Påhittighet'"
   ]
  },
  {
   "cell_type": "code",
   "execution_count": 66,
   "metadata": {},
   "outputs": [],
   "source": [
    "df1.loc[df1['Enkättext'] == 'Följande frågor gäller din senaste arbetsplats tiden strax innan du slutade arbeta: @ Krävde ditt arbete påhittighet?', \n",
    "        ['Beskrivning']] = 'Påhittighet'"
   ]
  },
  {
   "cell_type": "code",
   "execution_count": 67,
   "metadata": {},
   "outputs": [],
   "source": [
    "df1.loc[df1['Enkättext'] == 'Om ditt arbete @ Kräver ditt arbete påhittighet?', \n",
    "        ['Beskrivning']] = 'Påhittighet'"
   ]
  },
  {
   "cell_type": "code",
   "execution_count": 68,
   "metadata": {},
   "outputs": [],
   "source": [
    "df1.loc[df1['Enkättext'] == 'Om ditt förvärvsarbete @ Kräver ditt arbete påhittighet?', \n",
    "        ['Beskrivning']] = 'Påhittighet'"
   ]
  },
  {
   "cell_type": "code",
   "execution_count": 69,
   "metadata": {},
   "outputs": [],
   "source": [
    "df1.loc[df1['Enkättext'] == 'Om ditt förvärvsarbete (lönearbete) @ Om du inte arbetar för närvarande, vänligen besvara frågorna nedan med tanke på ditt senaste arbete. @ Kräver/krävde ditt arbete påhittighet?', \n",
    "        ['Beskrivning']] = 'Påhittighet'"
   ]
  },
  {
   "cell_type": "code",
   "execution_count": 70,
   "metadata": {},
   "outputs": [],
   "source": [
    "df1.loc[df1['Enkättext'] == 'Kräver ditt arbete stor social kompetens?', \n",
    "        ['Beskrivning']] = 'Arbete social kompetens'"
   ]
  },
  {
   "cell_type": "code",
   "execution_count": 71,
   "metadata": {},
   "outputs": [],
   "source": [
    "df1.loc[df1['Enkättext'] == 'Följande frågor gäller din senaste arbetsplats tiden strax innan du slutade arbeta: @ Krävde ditt arbete stor social kompetens?', \n",
    "        ['Beskrivning']] = 'Arbete social kompetens'"
   ]
  },
  {
   "cell_type": "code",
   "execution_count": 72,
   "metadata": {},
   "outputs": [],
   "source": [
    "df1.loc[df1['Enkättext'] == 'Om ditt arbete @ Kräver ditt arbete stor social kompetens?', \n",
    "        ['Beskrivning']] = 'Arbete social kompetens'"
   ]
  },
  {
   "cell_type": "code",
   "execution_count": 73,
   "metadata": {},
   "outputs": [],
   "source": [
    "df1.loc[df1['Enkättext'] == 'Om ditt förvärvsarbete @ Kräver ditt arbete stor social kompetens?', \n",
    "        ['Beskrivning']] = 'Arbete social kompetens'"
   ]
  },
  {
   "cell_type": "code",
   "execution_count": 74,
   "metadata": {},
   "outputs": [],
   "source": [
    "df1.loc[df1['Enkättext'] == 'Innebär ditt arbete att man gör samma sak om och om igen?', \n",
    "        ['Beskrivning']] = 'Arbete upprepning'"
   ]
  },
  {
   "cell_type": "code",
   "execution_count": 75,
   "metadata": {},
   "outputs": [],
   "source": [
    "df1.loc[df1['Enkättext'] == 'Följande frågor gäller din senaste arbetsplats tiden strax innan du slutade arbeta: @ innebar ditt arbete att du gjorde samma sak om och om igen?', \n",
    "        ['Beskrivning']] = 'Arbete upprepning'"
   ]
  },
  {
   "cell_type": "code",
   "execution_count": 76,
   "metadata": {},
   "outputs": [],
   "source": [
    "df1.loc[df1['Enkättext'] == 'Om ditt arbete @ Innebär ditt arbete att man gör samma sak om och om igen?', \n",
    "        ['Beskrivning']] = 'Arbete upprepning'"
   ]
  },
  {
   "cell_type": "code",
   "execution_count": 77,
   "metadata": {},
   "outputs": [],
   "source": [
    "df1.loc[df1['Enkättext'] == 'Har du frihet att bestämma hur ditt arbete ska utföras?', \n",
    "        ['Beskrivning']] = 'Arbete bestämma hur'"
   ]
  },
  {
   "cell_type": "code",
   "execution_count": 78,
   "metadata": {},
   "outputs": [],
   "source": [
    "df1.loc[df1['Enkättext'] == 'Följande frågor gäller din senaste arbetsplats tiden strax innan du slutade arbeta: @ Hade du frihet att bestämma hur ditt arbete skulle\\nutföras?', \n",
    "        ['Beskrivning']] = 'Arbete bestämma hur'"
   ]
  },
  {
   "cell_type": "code",
   "execution_count": 79,
   "metadata": {},
   "outputs": [],
   "source": [
    "df1.loc[df1['Enkättext'] == 'Om ditt arbete @ Har du frihet att bestämma hur ditt arbete ska utföras?', \n",
    "        ['Beskrivning']] = 'Arbete bestämma hur'"
   ]
  },
  {
   "cell_type": "code",
   "execution_count": 80,
   "metadata": {},
   "outputs": [],
   "source": [
    "df1.loc[df1['Enkättext'] == 'Om ditt förvärvsarbete (lönearbete) @ Om du inte arbetar för närvarande, vänligen besvara frågorna nedan med tanke på ditt senaste arbete. @ Har/hade du frihet att bestämma hur ditt arbete ska/skulle utföras?', \n",
    "        ['Beskrivning']] = 'Arbete bestämma hur'"
   ]
  },
  {
   "cell_type": "code",
   "execution_count": 81,
   "metadata": {},
   "outputs": [],
   "source": [
    "df1.loc[df1['Enkättext'] == 'Har du frihet att bestämma vad som ska utföras i ditt arbete?', \n",
    "        ['Beskrivning']] = 'Arbete bestämma vad'"
   ]
  },
  {
   "cell_type": "code",
   "execution_count": 82,
   "metadata": {},
   "outputs": [],
   "source": [
    "df1.loc[df1['Enkättext'] == 'Följande frågor gäller din senaste arbetsplats tiden strax innan du slutade arbeta: @ Hade du frihet att bestämma vad som skulle\\nutföras i ditt arbete?', \n",
    "        ['Beskrivning']] = 'Arbete bestämma vad'"
   ]
  },
  {
   "cell_type": "code",
   "execution_count": 83,
   "metadata": {},
   "outputs": [],
   "source": [
    "df1.loc[df1['Enkättext'] == 'Om ditt arbete @ Har du frihet att bestämma vad som ska utföras i ditt arbete?', \n",
    "        ['Beskrivning']] = 'Arbete bestämma vad'"
   ]
  },
  {
   "cell_type": "code",
   "execution_count": 84,
   "metadata": {},
   "outputs": [],
   "source": [
    "df1.loc[df1['Enkättext'] == 'Om ditt förvärvsarbete (lönearbete) @ Om du inte arbetar för närvarande, vänligen besvara frågorna nedan med tanke på ditt senaste arbete. @ Har/hade du frihet att bestämma vad som ska/skulle utföras i ditt arbete?', \n",
    "        ['Beskrivning']] = 'Arbete bestämma vad'"
   ]
  },
  {
   "cell_type": "code",
   "execution_count": 85,
   "metadata": {},
   "outputs": [],
   "source": [
    "df1.loc[df1['Enkättext'] == 'Försätter ditt arbete dig i känslomässigt svåra situationer?', \n",
    "        ['Beskrivning']] = 'Arbete känslomässigt svårt'"
   ]
  },
  {
   "cell_type": "code",
   "execution_count": 86,
   "metadata": {},
   "outputs": [],
   "source": [
    "df1.loc[df1['Enkättext'] == 'Om ditt arbete @ Försätter ditt arbete dig i känslomässigt svåra situationer?', \n",
    "        ['Beskrivning']] = 'Arbete känslomässigt svårt'"
   ]
  },
  {
   "cell_type": "code",
   "execution_count": 87,
   "metadata": {},
   "outputs": [],
   "source": [
    "df1.loc[df1['Enkättext'] == 'Om känslomässiga krav @ Hamnar du genom ditt arbete i känslomässigt påfrestande situationer?',\n",
    "        ['Beskrivning']] = 'Arbete känslomässigt svårt'"
   ]
  },
  {
   "cell_type": "code",
   "execution_count": 88,
   "metadata": {},
   "outputs": [],
   "source": [
    "df1.loc[df1['Enkättext'] == 'Kräver ditt arbete att du själv måste skapa dina arbetsuppgifter?',\n",
    "        ['Beskrivning']] = 'Arbete skapa arbetsuppgifter'"
   ]
  },
  {
   "cell_type": "code",
   "execution_count": 89,
   "metadata": {},
   "outputs": [],
   "source": [
    "df1.loc[df1['Enkättext'] == 'Finns det en dagordning och någon som håller i mötet på era sammanträden?',\n",
    "        ['Beskrivning']] = 'Arbete dagordning'"
   ]
  },
  {
   "cell_type": "code",
   "execution_count": 90,
   "metadata": {},
   "outputs": [],
   "source": [
    "df1.loc[df1['Enkättext'] == 'Får du bekräftelse från din chef?',\n",
    "        ['Beskrivning']] = 'Chef bekräftelse'"
   ]
  },
  {
   "cell_type": "code",
   "execution_count": 91,
   "metadata": {},
   "outputs": [],
   "source": [
    "df1.loc[df1['Enkättext'] == 'Talar du om för din chef vad du verkligen tänker, känner och vill?',\n",
    "        ['Beskrivning']] = 'Chef uppriktig'"
   ]
  },
  {
   "cell_type": "code",
   "execution_count": 92,
   "metadata": {},
   "outputs": [],
   "source": [
    "df1.loc[df1['Enkättext'] == 'Finns det i ditt arbete utrymme för reflektion och eftertanke?',\n",
    "        ['Beskrivning']] = 'Arbete reflektion'"
   ]
  },
  {
   "cell_type": "code",
   "execution_count": 93,
   "metadata": {},
   "outputs": [],
   "source": [
    "df1.loc[df1['Enkättext'] == 'Om ditt arbete @ Finns det i ditt arbete utrymme för reflektion och eftertanke?',\n",
    "        ['Beskrivning']] = 'Arbete reflektion'"
   ]
  },
  {
   "cell_type": "code",
   "execution_count": 94,
   "metadata": {},
   "outputs": [],
   "source": [
    "df1.loc[df1['Enkättext'] == 'Om ditt förvärvsarbete @ Finns det i ditt arbete utrymme för reflektion och eftertanke?',\n",
    "        ['Beskrivning']] = 'Arbete reflektion'"
   ]
  },
  {
   "cell_type": "code",
   "execution_count": 95,
   "metadata": {},
   "outputs": [],
   "source": [
    "df1.loc[df1['Enkättext'] == 'Brukar ni fika tillsammans i er arbetsgrupp?',\n",
    "        ['Beskrivning']] = 'Arbetsgrupp fika'"
   ]
  },
  {
   "cell_type": "code",
   "execution_count": 96,
   "metadata": {},
   "outputs": [],
   "source": [
    "df1.loc[df1['Enkättext'] == 'Kan du själv direkt avgöra om du gör ett bra arbete?',\n",
    "        ['Beskrivning']] = 'Avgöra bra arbete'"
   ]
  },
  {
   "cell_type": "code",
   "execution_count": 97,
   "metadata": {},
   "outputs": [],
   "source": [
    "df1.loc[df1['Enkättext'] == 'Har du så mycket att göra att du blir tvungen att dra in på luncher, arbeta över eller ta med jobb hem?',\n",
    "        ['Beskrivning']] = 'Ingen lunch jobba över'"
   ]
  },
  {
   "cell_type": "code",
   "execution_count": 98,
   "metadata": {},
   "outputs": [],
   "source": [
    "df1.loc[df1['Enkättext'] == 'Har du så mycket att göra att du blir tvungen att dra in på luncher, arbetar över eller ta med jobb hem?',\n",
    "        ['Beskrivning']] = 'Ingen lunch jobba över'"
   ]
  },
  {
   "cell_type": "code",
   "execution_count": 99,
   "metadata": {},
   "outputs": [],
   "source": [
    "df1.loc[df1['Enkättext'] == 'Händer det att du efter arbetet är för trött för eller saknar tid för familjen, vänner eller fritidsaktiviteter?',\n",
    "        ['Beskrivning']] = 'Ingen fritid vänner familj'"
   ]
  },
  {
   "cell_type": "code",
   "execution_count": 100,
   "metadata": {},
   "outputs": [],
   "source": [
    "df1.loc[df1['Enkättext'] == 'Händer det att du genom arbetet kommer i nära kontakt med svårt sjuka\\neller människor med allvarliga problem?',\n",
    "        ['Beskrivning']] = 'Kontakt sjuka allvarliga problem'"
   ]
  },
  {
   "cell_type": "code",
   "execution_count": 101,
   "metadata": {},
   "outputs": [],
   "source": [
    "df1.loc[df1['Enkättext'] == 'Har du möjlighet att själv bestämma din arbetstakt?',\n",
    "        ['Beskrivning']] = 'Bestämma arbetstakt'"
   ]
  },
  {
   "cell_type": "code",
   "execution_count": 102,
   "metadata": {},
   "outputs": [],
   "source": [
    "df1.loc[df1['Enkättext'] == 'Har du vissa tider så stressigt att du inte hinner prata om eller ens tänka på något annat än arbetet?',\n",
    "        ['Beskrivning']] = 'Endast arbete'"
   ]
  },
  {
   "cell_type": "code",
   "execution_count": 103,
   "metadata": {},
   "outputs": [],
   "source": [
    "df1.loc[df1['Enkättext'] == 'Är det någon del av tiden som du inte gör något annat än väntar och håller dig beredd, om något skulle inträffa?',\n",
    "        ['Beskrivning']] = 'Beredd'"
   ]
  },
  {
   "cell_type": "code",
   "execution_count": 104,
   "metadata": {},
   "outputs": [],
   "source": [
    "df1.loc[df1['Enkättext'] == 'Kan du ta korta pauser i stort sett när som helst för att prata?',\n",
    "        ['Beskrivning']] = 'Korta pauser'"
   ]
  },
  {
   "cell_type": "code",
   "execution_count": 105,
   "metadata": {},
   "outputs": [],
   "source": [
    "df1.loc[df1['Enkättext'] == 'Kräver arbetet hela din uppmärksamhet och koncentration?',\n",
    "        ['Beskrivning']] = 'Kräver uppmärksamhet'"
   ]
  },
  {
   "cell_type": "code",
   "execution_count": 106,
   "metadata": {},
   "outputs": [],
   "source": [
    "df1.loc[df1['Enkättext'] == 'Hur fungerar samarbetet på er arbetsplats?',\n",
    "        ['Beskrivning']] = 'Arbetsplats samarbete'"
   ]
  },
  {
   "cell_type": "code",
   "execution_count": 107,
   "metadata": {},
   "outputs": [],
   "source": [
    "df1.loc[df1['Enkättext'] == 'Hur lätt skulle det vara för dig att utan att behöva flytta (byta bostad) få ett annat likvärdigt arbete?',\n",
    "        ['Beskrivning']] = 'Lätt att flytta'"
   ]
  },
  {
   "cell_type": "code",
   "execution_count": 108,
   "metadata": {},
   "outputs": [],
   "source": [
    "df1.loc[df1['Enkättext'] == 'Jämfört med de andra anställda på din arbetsplats, hur stor löneförhöjning fick du under det gångna året?',\n",
    "        ['Beskrivning']] = 'Relativ löneförhöjning'"
   ]
  },
  {
   "cell_type": "code",
   "execution_count": 109,
   "metadata": {},
   "outputs": [],
   "source": [
    "df1.loc[df1['Enkättext'] == 'Är du utsatt för våld eller hot om våld i ditt arbete?',\n",
    "        ['Beskrivning']] = 'Våld hot om våld'"
   ]
  },
  {
   "cell_type": "code",
   "execution_count": 110,
   "metadata": {},
   "outputs": [],
   "source": [
    "df1.loc[df1['Enkättext'] == 'Följande frågor gäller din senaste arbetsplats tiden strax innan du slutade arbeta: @ Var du utsatt för våld eller hot om våld i ditt arbete de senaste 12 månaderna innan du slutade arbeta?',\n",
    "        ['Beskrivning']] = 'Våld hot om våld'"
   ]
  },
  {
   "cell_type": "code",
   "execution_count": 111,
   "metadata": {},
   "outputs": [],
   "source": [
    "df1.loc[df1['Enkättext'] == 'Har du under de senaste 12 månaderna … @ … varit utsatt för våld eller hot om våld i ditt arbete?',\n",
    "        ['Beskrivning']] = 'Våld hot om våld'"
   ]
  },
  {
   "cell_type": "code",
   "execution_count": 112,
   "metadata": {},
   "outputs": [],
   "source": [
    "df1.loc[df1['Enkättext'] == 'Har du under de senaste 6 månaderna … @ … varit utsatt för våld eller hot om våld i ditt\\narbete?',\n",
    "        ['Beskrivning']] = 'Våld hot om våld'"
   ]
  },
  {
   "cell_type": "code",
   "execution_count": 113,
   "metadata": {},
   "outputs": [],
   "source": [
    "df1.loc[df1['Enkättext'] == 'Är du utsatt för personlig förföljelse genom elaka ord och handlingar från chefer eller arbetskamrater?',\n",
    "        ['Beskrivning']] = 'Arbete personlig förföljelse'"
   ]
  },
  {
   "cell_type": "code",
   "execution_count": 114,
   "metadata": {},
   "outputs": [],
   "source": [
    "df1.loc[df1['Enkättext'] == 'Följande frågor gäller din senaste arbetsplats tiden strax innan du slutade arbeta: @ Var du utsatt för personlig förföljelse genom elaka ord och handlingar från chefer eller arbetskamrater de senaste 12 månaderna innan du slutade arbeta?',\n",
    "        ['Beskrivning']] = 'Arbete personlig förföljelse'"
   ]
  },
  {
   "cell_type": "code",
   "execution_count": 115,
   "metadata": {},
   "outputs": [],
   "source": [
    "df1.loc[df1['Enkättext'] == 'Har du under de senaste 12 månaderna … @ … varit utsatt för personlig förföljelse genom elaka ord och handlingar från chefer eller arbetskamrater?',\n",
    "        ['Beskrivning']] = 'Arbete personlig förföljelse'"
   ]
  },
  {
   "cell_type": "code",
   "execution_count": 116,
   "metadata": {},
   "outputs": [],
   "source": [
    "df1.loc[df1['Enkättext'] == 'Har du under de senaste 6 månaderna … @ … varit utsatt för personlig förföljelse genom elaka ord och handlingar från chefer eller arbetskamrater?',\n",
    "        ['Beskrivning']] = 'Arbete personlig förföljelse'"
   ]
  },
  {
   "cell_type": "code",
   "execution_count": 117,
   "metadata": {},
   "outputs": [],
   "source": [
    "df1.loc[df1['Enkättext'] == 'När du under de senaste två åren känt dig överkörd eller orättvist behandlad av din chef/dina chefer, hur har du då reagerat? @ Sagt ifrån direkt och tydligt visat mina känslor?',\n",
    "        ['Beskrivning']] = 'Arbete säga ifrån'"
   ]
  },
  {
   "cell_type": "code",
   "execution_count": 118,
   "metadata": {},
   "outputs": [],
   "source": [
    "df1.loc[df1['Enkättext'] == 'Hur reagerar du vanligtvis om du blir orättvist behandlad eller råkar i konflikt med en arbetsledare/chef? @ Säger ifrån direkt och tydligt visar mina känslor?',\n",
    "        ['Beskrivning']] = 'Arbete säga ifrån'"
   ]
  },
  {
   "cell_type": "code",
   "execution_count": 119,
   "metadata": {},
   "outputs": [],
   "source": [
    "df1.loc[df1['Enkättext'] == 'När du under de senaste två åren känt dig överkörd eller orättvist behandlad av din chef/dina chefer, hur har du då reagerat? @ Föreslagit en kompromiss eller annan lösning?',\n",
    "        ['Beskrivning']] = 'Arbete föreslå kompromiss'"
   ]
  },
  {
   "cell_type": "code",
   "execution_count": 120,
   "metadata": {},
   "outputs": [],
   "source": [
    "df1.loc[df1['Enkättext'] == 'Hur reagerar du vanligtvis om du blir orättvist behandlad eller råkar i konflikt med en arbetsledare/chef? @ Föreslår en kompromiss eller annan lösning?',\n",
    "        ['Beskrivning']] = 'Arbete föreslå kompromiss'"
   ]
  },
  {
   "cell_type": "code",
   "execution_count": 121,
   "metadata": {},
   "outputs": [],
   "source": [
    "df1.loc[df1['Enkättext'] == 'När du under de senaste två åren känt dig överkörd eller orättvist behandlad av din chef/dina chefer, hur har du då reagerat? @ Hållit tyst och ältat för mig själv?',\n",
    "        ['Beskrivning']] = 'Arbete hålla tyst'"
   ]
  },
  {
   "cell_type": "code",
   "execution_count": 122,
   "metadata": {},
   "outputs": [],
   "source": [
    "df1.loc[df1['Enkättext'] == 'Hur reagerar du vanligtvis om du blir orättvist behandlad eller råkar i konflikt med en arbetsledare/chef? @ Håller tyst och ältar för mig själv?',\n",
    "        ['Beskrivning']] = 'Arbete hålla tyst'"
   ]
  },
  {
   "cell_type": "code",
   "execution_count": 123,
   "metadata": {},
   "outputs": [],
   "source": [
    "df1.loc[df1['Enkättext'] == 'När du under de senaste två åren känt dig överkörd eller orättvist behandlad av din chef/dina chefer, hur har du då reagerat? @ Tagit ut det på min familj/mina närmaste?',\n",
    "        ['Beskrivning']] = 'Arbete frustration familj/vänner'"
   ]
  },
  {
   "cell_type": "code",
   "execution_count": 124,
   "metadata": {},
   "outputs": [],
   "source": [
    "df1.loc[df1['Enkättext'] == 'Hur reagerar du vanligtvis om du blir orättvist behandlad eller råkar i konflikt med en arbetsledare/chef? @ Tar ut det på min familj/mina\\nnärmaste?',\n",
    "        ['Beskrivning']] = 'Arbete frustration familj/vänner'"
   ]
  },
  {
   "cell_type": "code",
   "execution_count": 125,
   "metadata": {},
   "outputs": [],
   "source": [
    "df1.loc[df1['Enkättext'] == 'När du under de senaste två åren känt dig överkörd eller orättvist behandlad av dina arbetskamrater, hur har du då reagerat? @ Sagt ifrån direkt och tydligt visat mina känslor?',\n",
    "        ['Beskrivning']] = 'Arbete säga ifrån'"
   ]
  },
  {
   "cell_type": "code",
   "execution_count": 126,
   "metadata": {},
   "outputs": [],
   "source": [
    "df1.loc[df1['Enkättext'] == 'Hur reagerar du vanligtvis om du blir orättvist behandlad eller råkar i konflikt med en arbetskamrat? @ Säger ifrån direkt och tydligt visar mina känslor?',\n",
    "        ['Beskrivning']] = 'Arbete säga ifrån'"
   ]
  },
  {
   "cell_type": "code",
   "execution_count": 127,
   "metadata": {},
   "outputs": [],
   "source": [
    "df1.loc[df1['Enkättext'] == 'När du under de senaste två åren känt dig överkörd eller orättvist behandlad av dina arbetskamrater, hur har du då reagerat? @ Föreslagit en kompromiss eller annan lösning?',\n",
    "        ['Beskrivning']] = 'Arbete föreslå kompromiss'"
   ]
  },
  {
   "cell_type": "code",
   "execution_count": 128,
   "metadata": {},
   "outputs": [],
   "source": [
    "df1.loc[df1['Enkättext'] == 'Hur reagerar du vanligtvis om du blir orättvist behandlad eller råkar i konflikt med en arbetskamrat? @ Föreslår en kompromiss eller annan lösning?',\n",
    "        ['Beskrivning']] = 'Arbete säga ifrån'"
   ]
  },
  {
   "cell_type": "code",
   "execution_count": 129,
   "metadata": {},
   "outputs": [],
   "source": [
    "df1.loc[df1['Enkättext'] == 'När du under de senaste två åren känt dig överkörd eller orättvist behandlad av dina arbetskamrater, hur har du då reagerat? @ Hållit tyst och ältat för mig själv?',\n",
    "        ['Beskrivning']] = 'Hålla tyst älta'"
   ]
  },
  {
   "cell_type": "code",
   "execution_count": 130,
   "metadata": {},
   "outputs": [],
   "source": [
    "df1.loc[df1['Enkättext'] == 'Hur reagerar du vanligtvis om du blir orättvist behandlad eller råkar i konflikt med en arbetskamrat? @ Håller tyst och ältar för mig själv?',\n",
    "        ['Beskrivning']] = 'Hålla tyst älta'"
   ]
  },
  {
   "cell_type": "code",
   "execution_count": 131,
   "metadata": {},
   "outputs": [],
   "source": [
    "df1.loc[df1['Enkättext'] == 'När du under de senaste två åren känt dig överkörd eller orättvist behandlad av dina arbetskamrater, hur har du då reagerat? @ Tagit ut det på min familj/mina närmaste?',\n",
    "        ['Beskrivning']] = 'Orättvist behandlad'"
   ]
  },
  {
   "cell_type": "code",
   "execution_count": 132,
   "metadata": {},
   "outputs": [],
   "source": [
    "df1.loc[df1['Enkättext'] == 'Hur reagerar du vanligtvis om du blir orättvist behandlad eller råkar i konflikt med en arbetskamrat? @ Tar ut det på min familj/mina\\nnärmaste?',\n",
    "        ['Beskrivning']] = 'Orättvist behandlad'"
   ]
  },
  {
   "cell_type": "code",
   "execution_count": 133,
   "metadata": {},
   "outputs": [],
   "source": [
    "df1.loc[df1['Enkättext'] == 'På grund av den höga arbetsbelastningen arbetar jag ofta under stor tidspress',\n",
    "        ['Beskrivning']] = 'Arbetsbelastning tidspress'"
   ]
  },
  {
   "cell_type": "code",
   "execution_count": 134,
   "metadata": {},
   "outputs": [],
   "source": [
    "df1.loc[df1['Enkättext'] == 'Vilka av följande påståenden tycker du stämmer på dig? @ På grund av den höga arbetsbelastningen arbetar jag ofta under stor tidspress.',\n",
    "        ['Beskrivning']] = 'Arbetsbelastning tidspress'"
   ]
  },
  {
   "cell_type": "code",
   "execution_count": 135,
   "metadata": {},
   "outputs": [],
   "source": [
    "df1.loc[df1['Enkättext'] == 'Om din arbetssituation @ På grund av den höga arbetsbelastningen arbetar jag ofta under stor tidspress.',\n",
    "        ['Beskrivning']] = 'Arbetsbelastning tidspress'"
   ]
  },
  {
   "cell_type": "code",
   "execution_count": 136,
   "metadata": {},
   "outputs": [],
   "source": [
    "df1.loc[df1['Enkättext'] == 'Jag blir ofta avbruten och störd i mitt arbete',\n",
    "        ['Beskrivning']] = 'Avbruten störd'"
   ]
  },
  {
   "cell_type": "code",
   "execution_count": 137,
   "metadata": {},
   "outputs": [],
   "source": [
    "df1.loc[df1['Enkättext'] == 'Vilka av följande påståenden tycker du stämmer på dig? @ Jag blir ofta avbruten och störd i mitt arbete.',\n",
    "        ['Beskrivning']] = 'Avbruten störd'"
   ]
  },
  {
   "cell_type": "code",
   "execution_count": 138,
   "metadata": {},
   "outputs": [],
   "source": [
    "df1.loc[df1['Enkättext'] == 'Om din arbetssituation @ Jag blir ofta avbruten och störd i mitt arbete.',\n",
    "        ['Beskrivning']] = 'Avbruten störd'"
   ]
  },
  {
   "cell_type": "code",
   "execution_count": 139,
   "metadata": {},
   "outputs": [],
   "source": [
    "df1.loc[df1['Enkättext'] == 'Jag har fått allt mer att göra på arbetet under de senaste åren',\n",
    "        ['Beskrivning']] = 'Mer att göra'"
   ]
  },
  {
   "cell_type": "code",
   "execution_count": 140,
   "metadata": {},
   "outputs": [],
   "source": [
    "df1.loc[df1['Enkättext'] == 'Vilka av följande påståenden tycker du stämmer på dig? @ Jag har fått allt mer att göra på arbetet under de senaste åren.',\n",
    "        ['Beskrivning']] = 'Mer att göra'"
   ]
  },
  {
   "cell_type": "code",
   "execution_count": 141,
   "metadata": {},
   "outputs": [],
   "source": [
    "df1.loc[df1['Enkättext'] == 'Om din arbetssituation @ Jag har fått allt mer att göra på arbetet under de senaste åren.',\n",
    "        ['Beskrivning']] = 'Mer att göra'"
   ]
  },
  {
   "cell_type": "code",
   "execution_count": 142,
   "metadata": {},
   "outputs": [],
   "source": [
    "df1.loc[df1['Enkättext'] == 'Jag får inte det erkännande av mina överordnade som jag förtjänar',\n",
    "        ['Beskrivning']] = 'Erkännande chefer'"
   ]
  },
  {
   "cell_type": "code",
   "execution_count": 143,
   "metadata": {},
   "outputs": [],
   "source": [
    "df1.loc[df1['Enkättext'] == 'Vilka av följande påståenden tycker du stämmer på dig? @ Jag får det erkännande av mina överordnade som jag förtjänar.',\n",
    "        ['Beskrivning']] = 'Erkännande chefer'"
   ]
  },
  {
   "cell_type": "code",
   "execution_count": 144,
   "metadata": {},
   "outputs": [],
   "source": [
    "df1.loc[df1['Enkättext'] == 'Om din arbetssituation @ Jag får det erkännande av mina överordnade som jag förtjänar.',\n",
    "        ['Beskrivning']] = 'Erkännande chefer'"
   ]
  },
  {
   "cell_type": "code",
   "execution_count": 145,
   "metadata": {},
   "outputs": [],
   "source": [
    "df1.loc[df1['Enkättext'] == 'Möjligheterna till befordran inom mitt arbetsområde är små',\n",
    "        ['Beskrivning']] = 'Möjlighet befordran'"
   ]
  },
  {
   "cell_type": "code",
   "execution_count": 146,
   "metadata": {},
   "outputs": [],
   "source": [
    "df1.loc[df1['Enkättext'] == 'Vilka av följande påståenden tycker du stämmer på dig? @ Möjligheterna till befordran inom mitt arbetsområde är små.',\n",
    "        ['Beskrivning']] = 'Möjlighet befordran'"
   ]
  },
  {
   "cell_type": "code",
   "execution_count": 147,
   "metadata": {},
   "outputs": [],
   "source": [
    "df1.loc[df1['Enkättext'] == 'Om din arbetssituation @ Möjligheterna till befordran inom mitt arbetsområde är små.',\n",
    "        ['Beskrivning']] = 'Möjlighet befordran'"
   ]
  },
  {
   "cell_type": "code",
   "execution_count": 148,
   "metadata": {},
   "outputs": [],
   "source": [
    "df1.loc[df1['Enkättext'] == 'Jag upplever för närvarande eller förväntar mig en försämring i min arbetssituation',\n",
    "        ['Beskrivning']] = 'Möjlighet befordran'"
   ]
  },
  {
   "cell_type": "code",
   "execution_count": 149,
   "metadata": {},
   "outputs": [],
   "source": [
    "df1.loc[df1['Enkättext'] == 'Vilka av följande påståenden tycker du stämmer på dig? @ Jag upplever för närvarande eller förväntar mig en försämring i min arbetssituation.',\n",
    "        ['Beskrivning']] = 'Försämrad arbetssituation'"
   ]
  },
  {
   "cell_type": "code",
   "execution_count": 150,
   "metadata": {},
   "outputs": [],
   "source": [
    "df1.loc[df1['Enkättext'] == 'Om din arbetssituation @ Jag upplever för närvarande eller förväntar mig en försämring i min arbetssituation.',\n",
    "        ['Beskrivning']] = 'Försämrad arbetssituation'"
   ]
  },
  {
   "cell_type": "code",
   "execution_count": 151,
   "metadata": {},
   "outputs": [],
   "source": [
    "df1.loc[df1['Enkättext'] == 'Mitt arbete är hotat',\n",
    "        ['Beskrivning']] = 'Arbete hotat'"
   ]
  },
  {
   "cell_type": "code",
   "execution_count": 152,
   "metadata": {},
   "outputs": [],
   "source": [
    "df1.loc[df1['Enkättext'] == 'Vilka av följande påståenden tycker du stämmer på dig? @ Mitt arbete är hotat.',\n",
    "        ['Beskrivning']] = 'Arbete hotat'"
   ]
  },
  {
   "cell_type": "code",
   "execution_count": 153,
   "metadata": {},
   "outputs": [],
   "source": [
    "df1.loc[df1['Enkättext'] == 'Om din arbetssituation @ Mitt arbete är hotat.',\n",
    "        ['Beskrivning']] = 'Arbete hotat'"
   ]
  },
  {
   "cell_type": "code",
   "execution_count": 154,
   "metadata": {},
   "outputs": [],
   "source": [
    "df1.loc[df1['Enkättext'] == 'Med tanke på den möda jag har lagt ned och allt jag har uträttat, så får jag i mitt arbete inte det erkännande som jag förtjänar',\n",
    "        ['Beskrivning']] = 'Inget erkännande'"
   ]
  },
  {
   "cell_type": "code",
   "execution_count": 155,
   "metadata": {},
   "outputs": [],
   "source": [
    "df1.loc[df1['Enkättext'] == 'Följande påståenden gäller din senaste arbetsplats tiden strax innan du slutade arbeta: @ Med tanke på den möda jag lade ned och allt jag uträttade, så fick jag i mitt arbete inte det erkännande som jag förtjänade',\n",
    "        ['Beskrivning']] = 'Inget erkännande'"
   ]
  },
  {
   "cell_type": "code",
   "execution_count": 156,
   "metadata": {},
   "outputs": [],
   "source": [
    "df1.loc[df1['Enkättext'] == 'Vilka av följande påståenden tycker du stämmer på dig? @ Med tanke på den möda jag har lagt ned och allt jag har uträttat, så får jag i mitt arbete det erkännande som jag förtjänar.',\n",
    "        ['Beskrivning']] = 'Inget erkännande'"
   ]
  },
  {
   "cell_type": "code",
   "execution_count": 157,
   "metadata": {},
   "outputs": [],
   "source": [
    "df1.loc[df1['Enkättext'] == 'Om din arbetssituation @ Med tanke på den möda jag har lagt ned och allt jag har uträttat, så får jag i mitt arbete det erkännande som jag förtjänar.',\n",
    "        ['Beskrivning']] = 'Inget erkännande'"
   ]
  },
  {
   "cell_type": "code",
   "execution_count": 158,
   "metadata": {},
   "outputs": [],
   "source": [
    "df1.loc[df1['Enkättext'] == 'Med tanke på den möda jag har lagt ned och allt jag har uträttat, är mina möjligheter att avancera inom yrkeslivet orimligt små',\n",
    "        ['Beskrivning']] = 'Möjlighet att avancera'"
   ]
  },
  {
   "cell_type": "code",
   "execution_count": 159,
   "metadata": {},
   "outputs": [],
   "source": [
    "df1.loc[df1['Enkättext'] == 'Vilka av följande påståenden tycker du stämmer på dig? @ Med tanke på den möda jag har lagt ned och allt jag har uträttat, är mina möjligheter att avancera inom yrkeslivet rimliga.',\n",
    "        ['Beskrivning']] = 'Möjlighet att avancera'"
   ]
  },
  {
   "cell_type": "code",
   "execution_count": 160,
   "metadata": {},
   "outputs": [],
   "source": [
    "df1.loc[df1['Enkättext'] == 'Om din arbetssituation @ Med tanke på den möda jag har lagt ned och allt jag har uträttat, är mina möjligheter att avancera inom yrkeslivet rimliga.',\n",
    "        ['Beskrivning']] = 'Möjlighet att avancera'"
   ]
  },
  {
   "cell_type": "code",
   "execution_count": 161,
   "metadata": {},
   "outputs": [],
   "source": [
    "df1.loc[df1['Enkättext'] == 'Med tanke på allt jag har uträttat, så har jag inte en rimlig lön',\n",
    "        ['Beskrivning']] = 'Rimlig lön'"
   ]
  },
  {
   "cell_type": "code",
   "execution_count": 162,
   "metadata": {},
   "outputs": [],
   "source": [
    "df1.loc[df1['Enkättext'] == 'Följande påståenden gäller din senaste arbetsplats tiden strax innan du slutade arbeta: @ Med tanke på allt jag uträttade, så hade jag inte en rimlig lön',\n",
    "        ['Beskrivning']] = 'Rimlig lön'"
   ]
  },
  {
   "cell_type": "code",
   "execution_count": 163,
   "metadata": {},
   "outputs": [],
   "source": [
    "df1.loc[df1['Enkättext'] == 'Vilka av följande påståenden tycker du stämmer på dig? @ Med tanke på allt jag har uträttat, har jag en rimlig lön.',\n",
    "        ['Beskrivning']] = 'Rimlig lön'"
   ]
  },
  {
   "cell_type": "code",
   "execution_count": 164,
   "metadata": {},
   "outputs": [],
   "source": [
    "df1.loc[df1['Enkättext'] == 'Om din arbetssituation @ Med tanke på allt jag har uträttat, har jag en rimlig lön.',\n",
    "        ['Beskrivning']] = 'Rimlig lön'"
   ]
  },
  {
   "cell_type": "code",
   "execution_count": 165,
   "metadata": {},
   "outputs": [],
   "source": [
    "df1.loc[df1['Enkättext'] == 'Jag förväntas ta egna beslut och vara ansvarig för dem',\n",
    "        ['Beskrivning']] = 'Egna beslut ansvar'"
   ]
  },
  {
   "cell_type": "code",
   "execution_count": 166,
   "metadata": {},
   "outputs": [],
   "source": [
    "df1.loc[df1['Enkättext'] == 'Hur är stämningen på din arbetsplats? @ Jag förväntas ta egna beslut och vara ansvarig för dem.',\n",
    "        ['Beskrivning']] = 'Egna beslut ansvar'"
   ]
  },
  {
   "cell_type": "code",
   "execution_count": 167,
   "metadata": {},
   "outputs": [],
   "source": [
    "df1.loc[df1['Enkättext'] == 'På min arbetsplats bryr vi oss om varandra',\n",
    "        ['Beskrivning']] = 'Arbetsplats omtanke'"
   ]
  },
  {
   "cell_type": "code",
   "execution_count": 168,
   "metadata": {},
   "outputs": [],
   "source": [
    "df1.loc[df1['Enkättext'] == 'På min arbetsplats bryr vi oss om varandra.',\n",
    "        ['Beskrivning']] = 'Arbetsplats omtanke'"
   ]
  },
  {
   "cell_type": "code",
   "execution_count": 169,
   "metadata": {},
   "outputs": [],
   "source": [
    "df1.loc[df1['Enkättext'] == 'Hur är stämningen på din arbetsplats? @ På min arbetsplats bryr vi oss om varandra.',\n",
    "        ['Beskrivning']] = 'Arbetsplats omtanke'"
   ]
  },
  {
   "cell_type": "code",
   "execution_count": 170,
   "metadata": {},
   "outputs": [],
   "source": [
    "df1.loc[df1['Enkättext'] == 'På min arbetsplats råder inställningen att vi är utbytbara',\n",
    "        ['Beskrivning']] = 'Utbytbara medarbetare'"
   ]
  },
  {
   "cell_type": "code",
   "execution_count": 171,
   "metadata": {},
   "outputs": [],
   "source": [
    "df1.loc[df1['Enkättext'] == 'Hur är stämningen på din arbetsplats? @ På min arbetsplats råder inställningen att vi är utbytbara.',\n",
    "        ['Beskrivning']] = 'Utbytbara medarbetare'"
   ]
  },
  {
   "cell_type": "code",
   "execution_count": 172,
   "metadata": {},
   "outputs": [],
   "source": [
    "df1.loc[df1['Enkättext'] == 'Det är en lugn och behaglig stämning på min arbetsplats',\n",
    "        ['Beskrivning']] = 'Lugn stämning'"
   ]
  },
  {
   "cell_type": "code",
   "execution_count": 173,
   "metadata": {},
   "outputs": [],
   "source": [
    "df1.loc[df1['Enkättext'] == 'Följande påståenden gäller din senaste arbetsplats innan du slutade arbeta: @ Det var en lugn och behaglig stämning på min arbetsplats.',\n",
    "        ['Beskrivning']] = 'Lugn stämning'"
   ]
  },
  {
   "cell_type": "code",
   "execution_count": 174,
   "metadata": {},
   "outputs": [],
   "source": [
    "df1.loc[df1['Enkättext'] == 'Hur är stämningen på din arbetsplats? @ Det är en lugn och behaglig stämning på min arbetsplats.',\n",
    "        ['Beskrivning']] = 'Lugn stämning'"
   ]
  },
  {
   "cell_type": "code",
   "execution_count": 175,
   "metadata": {},
   "outputs": [],
   "source": [
    "df1.loc[df1['Enkättext'] == 'Det är god sammanhållning',\n",
    "        ['Beskrivning']] = 'God sammanhållning'"
   ]
  },
  {
   "cell_type": "code",
   "execution_count": 176,
   "metadata": {},
   "outputs": [],
   "source": [
    "df1.loc[df1['Enkättext'] == 'Följande påståenden gäller din senaste arbetsplats innan du slutade arbeta: @ Det var god sammanhållning.',\n",
    "        ['Beskrivning']] = 'God sammanhållning'"
   ]
  },
  {
   "cell_type": "code",
   "execution_count": 177,
   "metadata": {},
   "outputs": [],
   "source": [
    "df1.loc[df1['Enkättext'] == 'Hur är stämningen på din arbetsplats? @ Det är god sammanhållning.',\n",
    "        ['Beskrivning']] = 'God sammanhållning'"
   ]
  },
  {
   "cell_type": "code",
   "execution_count": 178,
   "metadata": {},
   "outputs": [],
   "source": [
    "df1.loc[df1['Enkättext'] == 'Mina arbetskamrater ställer upp för mig',\n",
    "        ['Beskrivning']] = 'Arbetskamrater ställer upp'"
   ]
  },
  {
   "cell_type": "code",
   "execution_count": 179,
   "metadata": {},
   "outputs": [],
   "source": [
    "df1.loc[df1['Enkättext'] == 'Följande påståenden gäller din senaste arbetsplats innan du slutade arbeta: @ Mina arbetskamrater ställde upp för mig.',\n",
    "        ['Beskrivning']] = 'Arbetskamrater ställer upp'"
   ]
  },
  {
   "cell_type": "code",
   "execution_count": 180,
   "metadata": {},
   "outputs": [],
   "source": [
    "df1.loc[df1['Enkättext'] == 'Hur är stämningen på din arbetsplats? @ Mina arbetskamrater ställer upp för mig.',\n",
    "        ['Beskrivning']] = 'Arbetskamrater ställer upp'"
   ]
  },
  {
   "cell_type": "code",
   "execution_count": 181,
   "metadata": {},
   "outputs": [],
   "source": [
    "df1.loc[df1['Enkättext'] == 'Man har förståelse för att jag kan ha en dålig dag',\n",
    "        ['Beskrivning']] = 'Förståelse dålig dag'"
   ]
  },
  {
   "cell_type": "code",
   "execution_count": 182,
   "metadata": {},
   "outputs": [],
   "source": [
    "df1.loc[df1['Enkättext'] == 'Följande påståenden gäller din senaste arbetsplats innan du slutade arbeta: @ Man hade förståelse för att jag kunde ha en dålig\\ndag.',\n",
    "        ['Beskrivning']] = 'Förståelse dålig dag'"
   ]
  },
  {
   "cell_type": "code",
   "execution_count": 183,
   "metadata": {},
   "outputs": [],
   "source": [
    "df1.loc[df1['Enkättext'] == 'Hur är stämningen på din arbetsplats? @ Man har förståelse för att jag kan ha en dålig dag.',\n",
    "        ['Beskrivning']] = 'Förståelse dålig dag'"
   ]
  },
  {
   "cell_type": "code",
   "execution_count": 184,
   "metadata": {},
   "outputs": [],
   "source": [
    "df1.loc[df1['Enkättext'] == 'Jag kommer bra överens med mina överordnade',\n",
    "        ['Beskrivning']] = 'Bra överens överordnade'"
   ]
  },
  {
   "cell_type": "code",
   "execution_count": 185,
   "metadata": {},
   "outputs": [],
   "source": [
    "df1.loc[df1['Enkättext'] == 'Följande påståenden gäller din senaste arbetsplats innan du slutade arbeta: @ Jag kom bra överens med mina överordnade.',\n",
    "        ['Beskrivning']] = 'Bra överens överordnade'"
   ]
  },
  {
   "cell_type": "code",
   "execution_count": 186,
   "metadata": {},
   "outputs": [],
   "source": [
    "df1.loc[df1['Enkättext'] == 'Hur är stämningen på din arbetsplats? @ Jag kommer bra överens med mina överordnade.',\n",
    "        ['Beskrivning']] = 'Bra överens överordnade'"
   ]
  },
  {
   "cell_type": "code",
   "execution_count": 187,
   "metadata": {},
   "outputs": [],
   "source": [
    "df1.loc[df1['Enkättext'] == 'Jag trivs med mina arbetskamrater',\n",
    "        ['Beskrivning']] = 'Trivs med arbetskamrater'"
   ]
  },
  {
   "cell_type": "code",
   "execution_count": 188,
   "metadata": {},
   "outputs": [],
   "source": [
    "df1.loc[df1['Enkättext'] == 'Följande påståenden gäller din senaste arbetsplats innan du slutade arbeta: @ Jag trivdes med mina arbetskamrater.',\n",
    "        ['Beskrivning']] = 'Trivs med arbetskamrater'"
   ]
  },
  {
   "cell_type": "code",
   "execution_count": 189,
   "metadata": {},
   "outputs": [],
   "source": [
    "df1.loc[df1['Enkättext'] == 'Hur är stämningen på din arbetsplats? @ Jag trivs med mina arbetskamrater.',\n",
    "        ['Beskrivning']] = 'Trivs med arbetskamrater'"
   ]
  },
  {
   "cell_type": "code",
   "execution_count": 190,
   "metadata": {},
   "outputs": [],
   "source": [
    "df1.loc[df1['Enkättext'] == 'Det är ordning och reda på min arbetsplats',\n",
    "        ['Beskrivning']] = 'Ordning och reda'"
   ]
  },
  {
   "cell_type": "code",
   "execution_count": 191,
   "metadata": {},
   "outputs": [],
   "source": [
    "df1.loc[df1['Enkättext'] == 'Det finns tydliga regler och förhållningssätt på min arbetsplats',\n",
    "        ['Beskrivning']] = 'Ordning och reda'"
   ]
  },
  {
   "cell_type": "code",
   "execution_count": 192,
   "metadata": {},
   "outputs": [],
   "source": [
    "df1.loc[df1['Enkättext'] == 'Det är tydligt på min arbetsplats vem som gör vad',\n",
    "        ['Beskrivning']] = 'Vem gör vad'"
   ]
  },
  {
   "cell_type": "code",
   "execution_count": 193,
   "metadata": {},
   "outputs": [],
   "source": [
    "df1.loc[df1['Enkättext'] == 'Det är tydligt på min arbetsplats vilka avdelningar som gör vad',\n",
    "        ['Beskrivning']] = 'Avdelningar arbetsuppgifter'"
   ]
  },
  {
   "cell_type": "code",
   "execution_count": 194,
   "metadata": {},
   "outputs": [],
   "source": [
    "df1.loc[df1['Enkättext'] == 'Arbetet flyter på bra eftersom vi för det mesta vet vad vi ska göra',\n",
    "        ['Beskrivning']] = 'Ordning och reda'"
   ]
  },
  {
   "cell_type": "code",
   "execution_count": 195,
   "metadata": {},
   "outputs": [],
   "source": [
    "df1.loc[df1['Enkättext'] == 'Samarbetet mellan avdelningarna i min organisation är effektivt',\n",
    "        ['Beskrivning']] = 'Avdelningar samarbetar'"
   ]
  },
  {
   "cell_type": "code",
   "execution_count": 196,
   "metadata": {},
   "outputs": [],
   "source": [
    "df1.loc[df1['Enkättext'] == 'Ledningen låter oss anställda fatta egna beslut',\n",
    "        ['Beskrivning']] = 'Anställda fattar beslut'"
   ]
  },
  {
   "cell_type": "code",
   "execution_count": 197,
   "metadata": {},
   "outputs": [],
   "source": [
    "df1.loc[df1['Enkättext'] == 'Hur är stämningen på din arbetsplats? @ Ledningen låter oss anställda fatta egna beslut.',\n",
    "        ['Beskrivning']] = 'Anställda fattar beslut'"
   ]
  },
  {
   "cell_type": "code",
   "execution_count": 198,
   "metadata": {},
   "outputs": [],
   "source": [
    "df1.loc[df1['Enkättext'] == 'Det är klart vem som fattar beslut i olika frågor på min arbetsplats',\n",
    "        ['Beskrivning']] = 'Ordning och reda: beslut'"
   ]
  },
  {
   "cell_type": "code",
   "execution_count": 199,
   "metadata": {},
   "outputs": [],
   "source": [
    "df1.loc[df1['Enkättext'] == 'Finns det planer på din arbetsplats att utöka verksamheten, skära ned eller lägga ned den helt?',\n",
    "        ['Beskrivning']] = 'Organisation förändring'"
   ]
  },
  {
   "cell_type": "code",
   "execution_count": 200,
   "metadata": {},
   "outputs": [],
   "source": [
    "df1.loc[df1['Enkättext'] == 'Hur stämmer detta in på dig? Använd gärna mellanstegen också! @ Jag tror att jag ibland försöker bevisa mitt värde genom arbete',\n",
    "        ['Beskrivning']] = 'Bevisa värde arbete'"
   ]
  },
  {
   "cell_type": "code",
   "execution_count": 201,
   "metadata": {},
   "outputs": [],
   "source": [
    "df1.loc[df1['Enkättext'] == 'Hur stämmer nedanstående påståenden in på dig? Använd gärna mellanstegen också! @ Jag tror att jag ibland försöker bevisa mitt värde genom arbete',\n",
    "        ['Beskrivning']] = 'Bevisa värde arbete'"
   ]
  },
  {
   "cell_type": "code",
   "execution_count": 202,
   "metadata": {},
   "outputs": [],
   "source": [
    "df1.loc[df1['Enkättext'] == 'Hur stämmer nedanstående påståenden in på dig? Använd gärna mellanstegen också! @ Jag tror att jag ibland försöker bevisa mitt värde genom att vara duktig',\n",
    "        ['Beskrivning']] = 'Bevisa värde arbete'"
   ]
  },
  {
   "cell_type": "code",
   "execution_count": 203,
   "metadata": {},
   "outputs": [],
   "source": [
    "df1.loc[df1['Enkättext'] == 'Hur stämmer detta in på dig? Använd gärna mellanstegen också! @ Min självkänsla är alltför mycket beroende av vad jag åstadkommer i mitt arbete',\n",
    "        ['Beskrivning']] = 'Självkänsla arbete'"
   ]
  },
  {
   "cell_type": "code",
   "execution_count": 204,
   "metadata": {},
   "outputs": [],
   "source": [
    "df1.loc[df1['Enkättext'] == 'Hur stämmer nedanstående påståenden in på dig? Använd gärna mellanstegen också! @ Min självkänsla är alltför mycket beroende av vad jag åstadkommer i mitt arbete',\n",
    "        ['Beskrivning']] = 'Självkänsla arbete'"
   ]
  },
  {
   "cell_type": "code",
   "execution_count": 205,
   "metadata": {},
   "outputs": [],
   "source": [
    "df1.loc[df1['Enkättext'] == 'Hur stämmer nedanstående påståenden in på dig? Använd gärna mellanstegen också! @ Min självkänsla är alltför mycket beroende av vad jag åstadkommer i mina dagliga sysslor',\n",
    "        ['Beskrivning']] = 'Självkänsla arbete'"
   ]
  },
  {
   "cell_type": "code",
   "execution_count": 206,
   "metadata": {},
   "outputs": [],
   "source": [
    "df1.loc[df1['Enkättext'] == 'Hur stämmer detta in på dig? Använd gärna mellanstegen också! @ Jag känner ibland att jag måste vara lite bättre än andra för att duga inför mig själv',\n",
    "        ['Beskrivning']] = 'Bättre än andra'"
   ]
  },
  {
   "cell_type": "code",
   "execution_count": 207,
   "metadata": {},
   "outputs": [],
   "source": [
    "df1.loc[df1['Enkättext'] == 'Hur stämmer nedanstående påståenden in på dig? Använd gärna mellanstegen också! @Jag känner ibland att jag måste vara lite bättre än andra för att duga inför mig själv',\n",
    "        ['Beskrivning']] = 'Bättre än andra'"
   ]
  },
  {
   "cell_type": "code",
   "execution_count": 208,
   "metadata": {},
   "outputs": [],
   "source": [
    "df1.loc[df1['Enkättext'] == 'Hur stämmer nedanstående påståenden in på dig? Använd gärna mellanstegen också! @ Jag känner ibland att jag måste vara lite bättre än andra för att duga inför mig själv',\n",
    "        ['Beskrivning']] = 'Bättre än andra'"
   ]
  },
  {
   "cell_type": "code",
   "execution_count": 209,
   "metadata": {},
   "outputs": [],
   "source": [
    "df1.loc[df1['Enkättext'] == 'Hur stämmer detta in på dig? Använd gärna mellanstegen också! @ Jag har känt ett inre tvång att åstadkomma något värdefullt genom mitt arbete',\n",
    "        ['Beskrivning']] = 'Inre tvång'"
   ]
  },
  {
   "cell_type": "code",
   "execution_count": 210,
   "metadata": {},
   "outputs": [],
   "source": [
    "df1.loc[df1['Enkättext'] == 'Hur stämmer nedanstående påståenden in på dig? Använd gärna mellanstegen också! @ Jag har känt ett inre tvång att åstadkomma något värdefullt genom mitt arbete',\n",
    "        ['Beskrivning']] = 'Inre tvång'"
   ]
  },
  {
   "cell_type": "code",
   "execution_count": 211,
   "metadata": {},
   "outputs": [],
   "source": [
    "df1.loc[df1['Enkättext'] == 'Hur stämmer nedanstående påståenden in på dig? Använd gärna mellanstegen också! @ Jag har känt ett inre tvång att åstadkomma något värdefullt här i livet',\n",
    "        ['Beskrivning']] = 'Inre tvång'"
   ]
  },
  {
   "cell_type": "code",
   "execution_count": 212,
   "metadata": {},
   "outputs": [],
   "source": [
    "df1.loc[df1['Enkättext'] == 'Vilka av följande påståenden tycker du stämmer på dig? Ange ett alternativ på varje fråga. @ I mitt arbete kommer jag ofta i tidsnöd',\n",
    "        ['Beskrivning']] = 'Tidsnöd'"
   ]
  },
  {
   "cell_type": "code",
   "execution_count": 213,
   "metadata": {},
   "outputs": [],
   "source": [
    "df1.loc[df1['Enkättext'] == 'Vilka av följande påståenden tycker du stämmer på dig? Ange ett alternativ på varje fråga. @ Det händer mig ofta att jag redan när jag vaknar börjar tänka på arbetsrelaterade problem',\n",
    "        ['Beskrivning']] = 'Vakna tänka på arbete'"
   ]
  },
  {
   "cell_type": "code",
   "execution_count": 214,
   "metadata": {},
   "outputs": [],
   "source": [
    "df1.loc[df1['Enkättext'] == 'Vilka av följande påståenden tycker du stämmer på dig? @ Det händer ofta att jag redan när jag vaknar börjar tänka på arbetsrelaterade problem.',\n",
    "        ['Beskrivning']] = 'Vakna tänka på arbete'"
   ]
  },
  {
   "cell_type": "code",
   "execution_count": 215,
   "metadata": {},
   "outputs": [],
   "source": [
    "df1.loc[df1['Enkättext'] == 'Vilka av följande påståenden tycker du stämmer på dig? Ange ett alternativ på varje fråga. @ När jag kommer hem kan jag lätt slappna av och ”koppla bort” arbetet',\n",
    "        ['Beskrivning']] = 'Komma hem koppla av'"
   ]
  },
  {
   "cell_type": "code",
   "execution_count": 216,
   "metadata": {},
   "outputs": [],
   "source": [
    "df1.loc[df1['Enkättext'] == 'Vilka av följande påståenden tycker du stämmer på dig? @ När jag kommer hem kan jag lätt slappna av och ”koppla bort” arbetet.',\n",
    "        ['Beskrivning']] = 'Komma hem koppla av'"
   ]
  },
  {
   "cell_type": "code",
   "execution_count": 217,
   "metadata": {},
   "outputs": [],
   "source": [
    "df1.loc[df1['Enkättext'] == 'Vilka av följande påståenden tycker du stämmer på dig? Ange ett alternativ på varje fråga. @ Mina närmaste säger att jag offrar för mycket för arbetet',\n",
    "        ['Beskrivning']] = 'Arbete offra vänner'"
   ]
  },
  {
   "cell_type": "code",
   "execution_count": 218,
   "metadata": {},
   "outputs": [],
   "source": [
    "df1.loc[df1['Enkättext'] == 'Vilka av följande påståenden tycker du stämmer på dig? Ange ett alternativ på varje fråga. @ Jag blir sällan kvitt arbetet, även på kvällarna tänker jag på det',\n",
    "        ['Beskrivning']] = 'Kvällen tänka på arbete'"
   ]
  },
  {
   "cell_type": "code",
   "execution_count": 219,
   "metadata": {},
   "outputs": [],
   "source": [
    "df1.loc[df1['Enkättext'] == 'Vilka av följande påståenden tycker du stämmer på dig? @ Jag blir sällan kvitt arbetet, även på kvällarna tänker jag på det.',\n",
    "        ['Beskrivning']] = 'Kvällen tänka på arbete'"
   ]
  },
  {
   "cell_type": "code",
   "execution_count": 220,
   "metadata": {},
   "outputs": [],
   "source": [
    "df1.loc[df1['Enkättext'] == 'Hur löser man i huvudsak meningsskiljaktigheter på din arbetsplats?',\n",
    "        ['Beskrivning']] = 'Lösa problem'"
   ]
  },
  {
   "cell_type": "code",
   "execution_count": 221,
   "metadata": {},
   "outputs": [],
   "source": [
    "df1.loc[df1['Enkättext'] == 'Hur löste man i huvudsak meningsskiljaktigheter på din arbetsplats innan du slutade arbeta?',\n",
    "        ['Beskrivning']] = 'Lösa problem'"
   ]
  },
  {
   "cell_type": "code",
   "execution_count": 222,
   "metadata": {},
   "outputs": [],
   "source": [
    "df1.loc[df1['Enkättext'] == 'Har du under de två senaste åren varit indragen i någon form av konflikt på din arbetsplats?',\n",
    "        ['Beskrivning']] = 'Konflikt arbetsplats'"
   ]
  },
  {
   "cell_type": "code",
   "execution_count": 223,
   "metadata": {},
   "outputs": [],
   "source": [
    "df1.loc[df1['Enkättext'] == 'Har du under de två senaste åren varit indragen i någon form av konflikt på din arbetsplats? @ Om ja: Vad handlade konflikten/konflikterna om? Du kan kryssa i flera alternativ.',\n",
    "        ['Beskrivning']] = 'Konflikt arbetsplats'"
   ]
  },
  {
   "cell_type": "code",
   "execution_count": 224,
   "metadata": {},
   "outputs": [],
   "source": [
    "df1.loc[df1['Enkättext'] == 'Har du under de två senaste åren varit indragen i någon form av konflikt på din arbetsplats med… @ …chefer?/…arbetskamrater?/ … andra personer (t ex patienter, kunder, klienter, passagerare, elever)? @ Om ja: Vad handlade konflikten/konflikterna om? Du kan kryssa i flera alternativ.',\n",
    "        ['Beskrivning']] = 'Konflikt arbetsplats'"
   ]
  },
  {
   "cell_type": "code",
   "execution_count": 225,
   "metadata": {},
   "outputs": [],
   "source": [
    "df1.loc[df1['Enkättext'] == 'Strax innan du slutade arbeta, var du indragen i någon form av konflikt på din arbetsplats med …. ? @ …chefer?/…arbetskamrater?/ … andra personer (t ex patienter, kunder, klienter, passagerare, elever)? @ Om ja: Vad handlade konflikten/konflikterna om? Du kan kryssa i flera alternativ. ',\n",
    "        ['Beskrivning']] = 'Konflikt arbetsplats'"
   ]
  },
  {
   "cell_type": "code",
   "execution_count": 226,
   "metadata": {},
   "outputs": [],
   "source": [
    "df1.loc[df1['Enkättext'] == 'Har du under de två senaste åren varit indragen i någon form av konflikt på din arbetsplats? @ Vilken betydelse anser du i stort att konflikten/konflikterna har haft?',\n",
    "        ['Beskrivning']] = 'Konflikt betydelse'"
   ]
  },
  {
   "cell_type": "code",
   "execution_count": 227,
   "metadata": {},
   "outputs": [],
   "source": [
    "df1.loc[df1['Enkättext'] == 'Strax innan du slutade arbeta, var du indragen i någon form av konflikt på din arbetsplats med …. ? @ …chefer?/…arbetskamrater?/ … andra personer (t ex patienter, kunder, klienter, passagerare, elever)? @ Vilken betydelse anser du i stort att konflikten/konflikterna har haft?',\n",
    "        ['Beskrivning']] = 'Konflikt betydelse'"
   ]
  },
  {
   "cell_type": "code",
   "execution_count": 228,
   "metadata": {},
   "outputs": [],
   "source": [
    "df1.loc[df1['Enkättext'] == 'Har du under de två senaste åren varit indragen i någon form av konflikt på din arbetsplats? @ Pågår någon konflikt fortfarande?',\n",
    "        ['Beskrivning']] = 'Pågående konflikt'"
   ]
  },
  {
   "cell_type": "code",
   "execution_count": 229,
   "metadata": {},
   "outputs": [],
   "source": [
    "df1.loc[df1['Enkättext'] == 'Strax innan du slutade arbeta, var du indragen i någon form av konflikt på din arbetsplats med …. ? @ …chefer?/…arbetskamrater?/ … andra personer (t ex patienter, kunder, klienter, passagerare, elever)? @ Pågår någon konflikt fortfarande?',\n",
    "        ['Beskrivning']] = 'Pågående konflikt'"
   ]
  },
  {
   "cell_type": "code",
   "execution_count": 230,
   "metadata": {},
   "outputs": [],
   "source": [
    "df1.loc[df1['Enkättext'] == 'Pågår någon konflikt fortfarande?',\n",
    "        ['Beskrivning']] = 'Pågående konflikt'"
   ]
  },
  {
   "cell_type": "code",
   "execution_count": 231,
   "metadata": {},
   "outputs": [],
   "source": [
    "df1.loc[df1['Enkättext'] == 'Har du under de två senaste åren varit indragen i någon form av konflikt på din arbetsplats med … @ Pågår någon konflikt fortfarande?',\n",
    "        ['Beskrivning']] = 'Pågående konflikt'"
   ]
  },
  {
   "cell_type": "code",
   "execution_count": 232,
   "metadata": {},
   "outputs": [],
   "source": [
    "df1.loc[df1['Enkättext'] == 'Har du under de två senaste åren varit indragen i någon form av konflikt på din arbetsplats? @ På det hela taget, när det gäller konflikter du varit med om, hur har utgången av dessa varit för dig hittills?',\n",
    "        ['Beskrivning']] = 'Konflikt utgång'"
   ]
  },
  {
   "cell_type": "code",
   "execution_count": 233,
   "metadata": {},
   "outputs": [],
   "source": [
    "df1.loc[df1['Enkättext'] == 'Strax innan du slutade arbeta, var du indragen i någon form av konflikt på din arbetsplats med …. ? @ …chefer?/…arbetskamrater?/ … andra personer (t ex patienter, kunder, klienter, passagerare, elever)? @ På det hela taget, när det gäller konflikter du varit med om, hur har utgången av dessa varit för dig hittills?',\n",
    "        ['Beskrivning']] = 'Konflikt utgång'"
   ]
  },
  {
   "cell_type": "code",
   "execution_count": 234,
   "metadata": {},
   "outputs": [],
   "source": [
    "df1.loc[df1['Enkättext'] == 'Känner din chef dig?',\n",
    "        ['Beskrivning']] = 'Känner din chef'"
   ]
  },
  {
   "cell_type": "code",
   "execution_count": 235,
   "metadata": {},
   "outputs": [],
   "source": [
    "df1.loc[df1['Enkättext'] == 'Visar din chef omsorg om dig?',\n",
    "        ['Beskrivning']] = 'Chef omsorg'"
   ]
  },
  {
   "cell_type": "code",
   "execution_count": 236,
   "metadata": {},
   "outputs": [],
   "source": [
    "df1.loc[df1['Enkättext'] == 'Om du inte har någon chef, fortsätt med fråga nr 33b @ Visar din chef omsorg om dig?',\n",
    "        ['Beskrivning']] = 'Chef omsorg'"
   ]
  },
  {
   "cell_type": "code",
   "execution_count": 237,
   "metadata": {},
   "outputs": [],
   "source": [
    "df1.loc[df1['Enkättext'] == 'Några ytterligare frågor om din chef. @ Visar din chef omsorg om dig?',\n",
    "        ['Beskrivning']] = 'Chef omsorg'"
   ]
  },
  {
   "cell_type": "code",
   "execution_count": 238,
   "metadata": {},
   "outputs": [],
   "source": [
    "df1.loc[df1['Enkättext'] == 'Lyssnar din chef på dig och tar in det du säger?',\n",
    "        ['Beskrivning']] = 'Chef lyssnar'"
   ]
  },
  {
   "cell_type": "code",
   "execution_count": 239,
   "metadata": {},
   "outputs": [],
   "source": [
    "df1.loc[df1['Enkättext'] == 'Om du inte har någon chef, fortsätt med fråga nr 33b @ Lyssnar din chef på dig och tar in det du säger?',\n",
    "        ['Beskrivning']] = 'Chef lyssnar'"
   ]
  },
  {
   "cell_type": "code",
   "execution_count": 240,
   "metadata": {},
   "outputs": [],
   "source": [
    "df1.loc[df1['Enkättext'] == 'Några ytterligare frågor om din chef. @ Lyssnar din chef på dig och tar in det du\\nsäger?',\n",
    "        ['Beskrivning']] = 'Chef lyssnar'"
   ]
  },
  {
   "cell_type": "code",
   "execution_count": 241,
   "metadata": {},
   "outputs": [],
   "source": [
    "df1.loc[df1['Enkättext'] == 'Om relationer till din chef. @ Lyssnar din chef på dig och tar in det du säger?',\n",
    "        ['Beskrivning']] = 'Chef lyssnar'"
   ]
  },
  {
   "cell_type": "code",
   "execution_count": 242,
   "metadata": {},
   "outputs": [],
   "source": [
    "df1.loc[df1['Enkättext'] == 'Mer om din närmaste chef @ Lyssnar din chef på dig och tar in det du säger?',\n",
    "        ['Beskrivning']] = 'Chef lyssnar'"
   ]
  },
  {
   "cell_type": "code",
   "execution_count": 243,
   "metadata": {},
   "outputs": [],
   "source": [
    "df1.loc[df1['Enkättext'] == 'Har du förtroende för ledningen?',\n",
    "        ['Beskrivning']] = 'Förtroende för ledningen'"
   ]
  },
  {
   "cell_type": "code",
   "execution_count": 244,
   "metadata": {},
   "outputs": [],
   "source": [
    "df1.loc[df1['Enkättext'] == 'Om du inte har någon chef, fortsätt med fråga nr 33b @ Har du förtroende för ledningen?',\n",
    "        ['Beskrivning']] = 'Förtroende för ledningen'"
   ]
  },
  {
   "cell_type": "code",
   "execution_count": 245,
   "metadata": {},
   "outputs": [],
   "source": [
    "df1.loc[df1['Enkättext'] == 'Följande frågor gäller din senaste arbetsplats innan du slutade arbeta: @ Hade du förtroende för ledningen innan du slutade arbeta?',\n",
    "        ['Beskrivning']] = 'Förtroende för ledningen'"
   ]
  },
  {
   "cell_type": "code",
   "execution_count": 246,
   "metadata": {},
   "outputs": [],
   "source": [
    "df1.loc[df1['Enkättext'] == 'Vid varje beteende eller egenskap, kryssa för hur ofta din närmaste chef gör eller är på det sättet: @ Ärlig ( = talar och handlar sanningsenligt)',\n",
    "        ['Beskrivning']] = 'Ärlig chef'"
   ]
  },
  {
   "cell_type": "code",
   "execution_count": 247,
   "metadata": {},
   "outputs": [],
   "source": [
    "df1.loc[df1['Enkättext'] == 'Vid varje beteende eller egenskap, kryssa för hur ofta din närmaste chef gör eller är på det sättet. @ Ärlig (=talar och handlar sanningsenligt)',\n",
    "        ['Beskrivning']] = 'Ärlig chef'"
   ]
  },
  {
   "cell_type": "code",
   "execution_count": 248,
   "metadata": {},
   "outputs": [],
   "source": [
    "df1.loc[df1['Enkättext'] == 'Vid varje beteende eller egenskap, kryssa för hur ofta din närmaste chef gör eller är på det sättet: @ Positiv ( = generellt optimistisk och tillitsfull)',\n",
    "        ['Beskrivning']] = 'Positiv chef'"
   ]
  },
  {
   "cell_type": "code",
   "execution_count": 249,
   "metadata": {},
   "outputs": [],
   "source": [
    "df1.loc[df1['Enkättext'] == 'Vid varje beteende eller egenskap, kryssa för hur ofta din närmaste chef gör eller är på det sättet: @ Befallande ( = instruerar underordnade på ett bestämmande sätt)',\n",
    "        ['Beskrivning']] = 'Befallande chef'"
   ]
  },
  {
   "cell_type": "code",
   "execution_count": 250,
   "metadata": {},
   "outputs": [],
   "source": [
    "df1.loc[df1['Enkättext'] == 'Vid varje beteende eller egenskap, kryssa för hur ofta din närmaste chef gör eller är på det sättet: @ Rättvis ( = agerar i enlighet med vad som är rätt\\neller rättvist)',\n",
    "        ['Beskrivning']] = 'Rättvis chef'"
   ]
  },
  {
   "cell_type": "code",
   "execution_count": 251,
   "metadata": {},
   "outputs": [],
   "source": [
    "df1.loc[df1['Enkättext'] == 'Vid varje beteende eller egenskap, kryssa för hur ofta din närmaste chef gör eller är på det sättet. @ Rättvis (=agerar i enlighet med vad som är\\nrätt eller rättvist)',\n",
    "        ['Beskrivning']] = 'Rättvis chef'"
   ]
  },
  {
   "cell_type": "code",
   "execution_count": 252,
   "metadata": {},
   "outputs": [],
   "source": [
    "df1.loc[df1['Enkättext'] == 'Vid varje beteende eller egenskap, kryssa för hur ofta din närmaste chef gör eller är på det sättet: @ Egoistisk ( = följer sina egna intressen)',\n",
    "        ['Beskrivning']] = 'Egoistisk chef'"
   ]
  },
  {
   "cell_type": "code",
   "execution_count": 253,
   "metadata": {},
   "outputs": [],
   "source": [
    "df1.loc[df1['Enkättext'] == 'Vid varje beteende eller egenskap, kryssa för hur ofta din närmaste chef gör eller är på det sättet: @ Ej delaktig ( = ovillig till gemensamma aktiviteter)',\n",
    "        ['Beskrivning']] = 'Ej delaktig chef'"
   ]
  },
  {
   "cell_type": "code",
   "execution_count": 254,
   "metadata": {},
   "outputs": [],
   "source": [
    "df1.loc[df1['Enkättext'] == 'Vid varje beteende eller egenskap, kryssa för hur ofta din närmaste chef gör eller är på det sättet. @ Ej delaktig (=ovillig till gemensamma\\naktiviteter)',\n",
    "        ['Beskrivning']] = 'Ej delaktig chef'"
   ]
  },
  {
   "cell_type": "code",
   "execution_count": 255,
   "metadata": {},
   "outputs": [],
   "source": [
    "df1.loc[df1['Enkättext'] == 'Vid varje beteende eller egenskap, kryssa för hur ofta din närmaste chef gör eller är på det sättet: @ Elitistisk ( = anser att en liten grupp människor\\nmed likartad bakgrund är överlägsna och skall åtnjuta privilegier)',\n",
    "        ['Beskrivning']] = 'Elitistisk chef'"
   ]
  },
  {
   "cell_type": "code",
   "execution_count": 256,
   "metadata": {},
   "outputs": [],
   "source": [
    "df1.loc[df1['Enkättext'] == 'Vid varje beteende eller egenskap, kryssa för hur ofta din närmaste chef gör eller är på det sättet. @ Elitistisk (=anser att en liten grupp\\nmänniskor med likartad bakgrund är överlägsna och skall åtnjuta privilegier)',\n",
    "        ['Beskrivning']] = 'Elitistisk chef'"
   ]
  },
  {
   "cell_type": "code",
   "execution_count": 257,
   "metadata": {},
   "outputs": [],
   "source": [
    "df1.loc[df1['Enkättext'] == 'Vid varje beteende eller egenskap, kryssa för hur ofta din närmaste chef gör eller är på det sättet: @ Skapar laganda ( = förmåga att förmå gruppmedlemmar att arbeta tillsammans)',\n",
    "        ['Beskrivning']] = 'Skapar laganda chef'"
   ]
  },
  {
   "cell_type": "code",
   "execution_count": 258,
   "metadata": {},
   "outputs": [],
   "source": [
    "df1.loc[df1['Enkättext'] == 'Vid varje beteende eller egenskap, kryssa för hur ofta din närmaste chef gör eller är på det sättet: @ Diktatorisk ( = tvingar på andra sina värderingar och åsikter)',\n",
    "        ['Beskrivning']] = 'Diktatorisk chef'"
   ]
  },
  {
   "cell_type": "code",
   "execution_count": 259,
   "metadata": {},
   "outputs": [],
   "source": [
    "df1.loc[df1['Enkättext'] == 'Vid varje beteende eller egenskap, kryssa för hur ofta din närmaste chef gör eller är på det sättet: @ Uppriktig ( = menar vad man säger, rak)',\n",
    "        ['Beskrivning']] = 'Uppriktig chef'"
   ]
  },
  {
   "cell_type": "code",
   "execution_count": 260,
   "metadata": {},
   "outputs": [],
   "source": [
    "df1.loc[df1['Enkättext'] == 'Vid varje beteende eller egenskap, kryssa för hur ofta din närmaste chef gör eller är på det sättet: @ Integrerare ( = integrerar människor eller saker till en sammanhängande, fungerande helhet)',\n",
    "        ['Beskrivning']] = 'Chef integrerare'"
   ]
  },
  {
   "cell_type": "code",
   "execution_count": 261,
   "metadata": {},
   "outputs": [],
   "source": [
    "df1.loc[df1['Enkättext'] == 'Vid varje beteende eller egenskap, kryssa för hur ofta din närmaste chef gör eller är på det sättet: @ ( = förtjänar förtroende, håller vad man lovar)',\n",
    "        ['Beskrivning']] = 'Chef förtroende'"
   ]
  },
  {
   "cell_type": "code",
   "execution_count": 262,
   "metadata": {},
   "outputs": [],
   "source": [
    "df1.loc[df1['Enkättext'] == 'Vid varje beteende eller egenskap, kryssa för hur ofta din närmaste chef gör eller är på det sättet: @ Moralhöjare ( = ökar de underordnades moral genom uppmuntran, beröm och/eller genom att visa tillförsikt)',\n",
    "        ['Beskrivning']] = 'Chef moralhöjare'"
   ]
  },
  {
   "cell_type": "code",
   "execution_count": 263,
   "metadata": {},
   "outputs": [],
   "source": [
    "df1.loc[df1['Enkättext'] == 'Vid varje beteende eller egenskap, kryssa för hur ofta din närmaste chef gör eller är på det sättet: @ Enväldig (=fattar beslut på ett diktatoriskt sätt)',\n",
    "        ['Beskrivning']] = 'Chef enväldig'"
   ]
  },
  {
   "cell_type": "code",
   "execution_count": 264,
   "metadata": {},
   "outputs": [],
   "source": [
    "df1.loc[df1['Enkättext'] == 'Vid varje beteende eller egenskap, kryssa för hur ofta din närmaste chef gör eller är på det sättet: @ Asocial ( = undviker människor eller grupper, föredrar att vara för sig själv)',\n",
    "        ['Beskrivning']] = 'Chef asocial'"
   ]
  },
  {
   "cell_type": "code",
   "execution_count": 265,
   "metadata": {},
   "outputs": [],
   "source": [
    "df1.loc[df1['Enkättext'] == 'Vid varje beteende eller egenskap, kryssa för hur ofta din närmaste chef gör eller är på det sättet: @ Ensamvarg ( = arbetar för sig själv)',\n",
    "        ['Beskrivning']] = 'Chef ensamvarg'"
   ]
  },
  {
   "cell_type": "code",
   "execution_count": 266,
   "metadata": {},
   "outputs": [],
   "source": [
    "df1.loc[df1['Enkättext'] == 'Vid varje beteende eller egenskap, kryssa för hur ofta din närmaste chef gör eller är på det sättet: @ Entusiastisk ( = visar och överför starka positiva känslor i arbetet)',\n",
    "        ['Beskrivning']] = 'Chef entusiastisk'"
   ]
  },
  {
   "cell_type": "code",
   "execution_count": 267,
   "metadata": {},
   "outputs": [],
   "source": [
    "df1.loc[df1['Enkättext'] == 'Vid varje beteende eller egenskap, kryssa för hur ofta din närmaste chef gör eller är på det sättet: @ Informerad ( = kunnig, besitter relevant information)',\n",
    "        ['Beskrivning']] = 'Chef informerad'"
   ]
  },
  {
   "cell_type": "code",
   "execution_count": 268,
   "metadata": {},
   "outputs": [],
   "source": [
    "df1.loc[df1['Enkättext'] == 'Vid varje beteende eller egenskap, kryssa för hur ofta din närmaste chef gör eller är på det sättet: @ Entusiasmerande ( = mobiliserar, motiverar och aktiverar medarbetare)',\n",
    "        ['Beskrivning']] = 'Chef entusiasmerande'"
   ]
  },
  {
   "cell_type": "code",
   "execution_count": 269,
   "metadata": {},
   "outputs": [],
   "source": [
    "df1.loc[df1['Enkättext'] == 'I vilken grad är du delaktig i beslutsfattande inom din organisation?',\n",
    "        ['Beskrivning']] = 'Delaktig beslutfattande'"
   ]
  },
  {
   "cell_type": "code",
   "execution_count": 270,
   "metadata": {},
   "outputs": [],
   "source": [
    "df1.loc[df1['Enkättext'] == 'Följande frågor gäller din senaste arbetsplats innan du slutade arbeta: @ I vilken grad var du delaktig i beslutsfattande inom din organisation?',\n",
    "        ['Beskrivning']] = 'Delaktig beslutfattande'"
   ]
  },
  {
   "cell_type": "code",
   "execution_count": 271,
   "metadata": {},
   "outputs": [],
   "source": [
    "df1.loc[df1['Enkättext'] == 'I vilken grad styrs det du gör i ditt arbete av organisationens mål och delmål?',\n",
    "        ['Beskrivning']] = 'Organisationen mål styr'"
   ]
  },
  {
   "cell_type": "code",
   "execution_count": 272,
   "metadata": {},
   "outputs": [],
   "source": [
    "df1.loc[df1['Enkättext'] == 'I vilken grad känner du att du har tillhörighet till din arbetsplats?',\n",
    "        ['Beskrivning']] = 'Tillhörighet arbetsplats'"
   ]
  },
  {
   "cell_type": "code",
   "execution_count": 273,
   "metadata": {},
   "outputs": [],
   "source": [
    "df1.loc[df1['Enkättext'] == 'vilken grad stämmer värdegrunden på din arbetsplats överens med din egen?',\n",
    "        ['Beskrivning']] = 'Arbetsplats värdegrund'"
   ]
  },
  {
   "cell_type": "code",
   "execution_count": 274,
   "metadata": {},
   "outputs": [],
   "source": [
    "df1.loc[df1['Enkättext'] == 'I vilken grad stämmer värdegrunden på din arbetsplats överens med din egen?',\n",
    "        ['Beskrivning']] = 'Arbetsplats värdegrund'"
   ]
  },
  {
   "cell_type": "code",
   "execution_count": 275,
   "metadata": {},
   "outputs": [],
   "source": [
    "df1.loc[df1['Enkättext'] == 'Följande påståenden rör beslutsfattandet i organisationen @ Besluten fattas på basis av korrekt information',\n",
    "        ['Beskrivning']] = 'Beslut korrekt information'"
   ]
  },
  {
   "cell_type": "code",
   "execution_count": 276,
   "metadata": {},
   "outputs": [],
   "source": [
    "df1.loc[df1['Enkättext'] == 'Följande påståenden rör beslutsfattandet i hela organisationen @ Besluten fattas på basis av korrekt information',\n",
    "        ['Beskrivning']] = 'Beslut korrekt information'"
   ]
  },
  {
   "cell_type": "code",
   "execution_count": 277,
   "metadata": {},
   "outputs": [],
   "source": [
    "df1.loc[df1['Enkättext'] == 'Följande påståenden rör beslutsfattandet i hela organisationen @ Besluten fattas på basis av korrekt information.',\n",
    "        ['Beskrivning']] = 'Beslut korrekt information'"
   ]
  },
  {
   "cell_type": "code",
   "execution_count": 278,
   "metadata": {},
   "outputs": [],
   "source": [
    "df1.loc[df1['Enkättext'] == 'Om beslutsfattandet i hela organisationen @ Besluten fattas på basis av korrekt information.',\n",
    "        ['Beskrivning']] = 'Beslut korrekt information'"
   ]
  },
  {
   "cell_type": "code",
   "execution_count": 279,
   "metadata": {},
   "outputs": [],
   "source": [
    "df1.loc[df1['Enkättext'] == 'Följande påståenden rör beslutsfattandet i organisationen @ Misslyckade beslut kan tas tillbaka eller ändras',\n",
    "        ['Beskrivning']] = 'Misslyckade beslut'"
   ]
  },
  {
   "cell_type": "code",
   "execution_count": 280,
   "metadata": {},
   "outputs": [],
   "source": [
    "df1.loc[df1['Enkättext'] == 'Följande påståenden rör beslutsfattandet i hela organisationen @ Misslyckade beslut kan tas tillbaka eller ändras',\n",
    "        ['Beskrivning']] = 'Misslyckade beslut'"
   ]
  },
  {
   "cell_type": "code",
   "execution_count": 281,
   "metadata": {},
   "outputs": [],
   "source": [
    "df1.loc[df1['Enkättext'] == 'Följande påståenden rör beslutsfattandet i hela organisationen @ Misslyckade beslut kan tas tillbaka eller ändras.',\n",
    "        ['Beskrivning']] = 'Misslyckade beslut'"
   ]
  },
  {
   "cell_type": "code",
   "execution_count": 282,
   "metadata": {},
   "outputs": [],
   "source": [
    "df1.loc[df1['Enkättext'] == 'Om beslutsfattandet i hela organisationen @ Misslyckade beslut kan tas tillbaka eller ändras.',\n",
    "        ['Beskrivning']] = 'Misslyckade beslut'"
   ]
  },
  {
   "cell_type": "code",
   "execution_count": 283,
   "metadata": {},
   "outputs": [],
   "source": [
    "df1.loc[df1['Enkättext'] == 'Följande påståenden rör beslutsfattandet i organisationen @ Alla parter är representerade vid beslutsfattandet',\n",
    "        ['Beskrivning']] = 'Alla parter representerade'"
   ]
  },
  {
   "cell_type": "code",
   "execution_count": 284,
   "metadata": {},
   "outputs": [],
   "source": [
    "df1.loc[df1['Enkättext'] == 'Följande påståenden rör beslutsfattandet i hela organisationen @ Alla parter är representerade vid beslutsfattandet',\n",
    "        ['Beskrivning']] = 'Alla parter representerade'"
   ]
  },
  {
   "cell_type": "code",
   "execution_count": 285,
   "metadata": {},
   "outputs": [],
   "source": [
    "df1.loc[df1['Enkättext'] == 'Följande påståenden rör beslutsfattandet i hela organisationen @ Alla parter är representerade vid beslutsfattandet.',\n",
    "        ['Beskrivning']] = 'Alla parter representerade'"
   ]
  },
  {
   "cell_type": "code",
   "execution_count": 286,
   "metadata": {},
   "outputs": [],
   "source": [
    "df1.loc[df1['Enkättext'] == 'Om beslutsfattandet i hela organisationen @ Alla parter är representerade vid beslutsfattandet.',\n",
    "        ['Beskrivning']] = 'Alla parter representerade'"
   ]
  },
  {
   "cell_type": "code",
   "execution_count": 287,
   "metadata": {},
   "outputs": [],
   "source": [
    "df1.loc[df1['Enkättext'] == 'Följande påståenden rör beslutsfattandet i organisationen @ Besluten är konsekventa (samma regler gäller för alla)',\n",
    "        ['Beskrivning']] = 'Beslut konsekventa'"
   ]
  },
  {
   "cell_type": "code",
   "execution_count": 288,
   "metadata": {},
   "outputs": [],
   "source": [
    "df1.loc[df1['Enkättext'] == 'Följande påståenden rör beslutsfattandet i hela organisationen @ Besluten är konsekventa (samma regler gäller för alla)',\n",
    "        ['Beskrivning']] = 'Beslut konsekventa'"
   ]
  },
  {
   "cell_type": "code",
   "execution_count": 289,
   "metadata": {},
   "outputs": [],
   "source": [
    "df1.loc[df1['Enkättext'] == 'Följande påståenden rör beslutsfattandet i hela organisationen @ Besluten är konsekventa (samma regler gäller för alla).',\n",
    "        ['Beskrivning']] = 'Beslut konsekventa'"
   ]
  },
  {
   "cell_type": "code",
   "execution_count": 290,
   "metadata": {},
   "outputs": [],
   "source": [
    "df1.loc[df1['Enkättext'] == 'Om beslutsfattandet i hela organisationen @ Besluten är konsekventa (samma regler gäller för alla).',\n",
    "        ['Beskrivning']] = 'Beslut konsekventa'"
   ]
  },
  {
   "cell_type": "code",
   "execution_count": 291,
   "metadata": {},
   "outputs": [],
   "source": [
    "df1.loc[df1['Enkättext'] == 'Följande påståenden rör beslutsfattandet i organisationen @ Alla har rätt att säga sin åsikt i ärenden som berör dem själva',\n",
    "        ['Beskrivning']] = 'Säga sin åsikt'"
   ]
  },
  {
   "cell_type": "code",
   "execution_count": 292,
   "metadata": {},
   "outputs": [],
   "source": [
    "df1.loc[df1['Enkättext'] == 'Följande påståenden rör beslutsfattandet i hela organisationen @ Alla har rätt att säga sin åsikt i ärenden som berör dem själva',\n",
    "        ['Beskrivning']] = 'Säga sin åsikt'"
   ]
  },
  {
   "cell_type": "code",
   "execution_count": 293,
   "metadata": {},
   "outputs": [],
   "source": [
    "df1.loc[df1['Enkättext'] == 'Följande påståenden rör beslutsfattandet i hela organisationen @ Alla har rätt att säga sin åsikt i ärenden som berör dem själva.',\n",
    "        ['Beskrivning']] = 'Säga sin åsikt'"
   ]
  },
  {
   "cell_type": "code",
   "execution_count": 294,
   "metadata": {},
   "outputs": [],
   "source": [
    "df1.loc[df1['Enkättext'] == 'Om beslutsfattandet i hela organisationen @ Alla har rätt att säga sin åsikt i ärenden som berör dem själva.',\n",
    "        ['Beskrivning']] = 'Säga sin åsikt'"
   ]
  },
  {
   "cell_type": "code",
   "execution_count": 295,
   "metadata": {},
   "outputs": [],
   "source": [
    "df1.loc[df1['Enkättext'] == 'Följande påståenden rör beslutsfattandet i organisationen @ Man följer upp konsekvenserna av besluten och informerar om dem',\n",
    "        ['Beskrivning']] = 'Följa upp beslut'"
   ]
  },
  {
   "cell_type": "code",
   "execution_count": 296,
   "metadata": {},
   "outputs": [],
   "source": [
    "df1.loc[df1['Enkättext'] == 'Följande påståenden rör beslutsfattandet i hela organisationen @ Man följer upp konsekvenserna av besluten och informerar om dem',\n",
    "        ['Beskrivning']] = 'Följa upp beslut'"
   ]
  },
  {
   "cell_type": "code",
   "execution_count": 297,
   "metadata": {},
   "outputs": [],
   "source": [
    "df1.loc[df1['Enkättext'] == 'Följande påståenden rör beslutsfattandet i hela organisationen @ Man följer upp konsekvenserna av besluten och informerar om dem.',\n",
    "        ['Beskrivning']] = 'Följa upp beslut'"
   ]
  },
  {
   "cell_type": "code",
   "execution_count": 298,
   "metadata": {},
   "outputs": [],
   "source": [
    "df1.loc[df1['Enkättext'] == 'Om beslutsfattandet i hela organisationen @ Man följer upp konsekvenserna av besluten och informerar om dem.',\n",
    "        ['Beskrivning']] = 'Följa upp beslut'"
   ]
  },
  {
   "cell_type": "code",
   "execution_count": 299,
   "metadata": {},
   "outputs": [],
   "source": [
    "df1.loc[df1['Enkättext'] == 'Följande påståenden rör beslutsfattandet i organisationen @ Vid behov kan man få närmare information om vad besluten baserar sig på',\n",
    "        ['Beskrivning']] = 'Mer information beslut'"
   ]
  },
  {
   "cell_type": "code",
   "execution_count": 300,
   "metadata": {},
   "outputs": [],
   "source": [
    "df1.loc[df1['Enkättext'] == 'Om beslutsfattandet i hela organisationen @ Vid behov kan man få närmare information om vad besluten baserar sig på',\n",
    "        ['Beskrivning']] = 'Mer information beslut'"
   ]
  },
  {
   "cell_type": "code",
   "execution_count": 301,
   "metadata": {},
   "outputs": [],
   "source": [
    "df1.loc[df1['Enkättext'] == 'På min arbetsplats har allas mening betydelse',\n",
    "        ['Beskrivning']] = 'Allas åsikt viktigt'"
   ]
  },
  {
   "cell_type": "code",
   "execution_count": 302,
   "metadata": {},
   "outputs": [],
   "source": [
    "df1.loc[df1['Enkättext'] == 'Följande påståenden rör arbetsplatsen @ På min arbetsplats har allas mening betydelse',\n",
    "        ['Beskrivning']] = 'Allas åsikt viktigt'"
   ]
  },
  {
   "cell_type": "code",
   "execution_count": 303,
   "metadata": {},
   "outputs": [],
   "source": [
    "df1.loc[df1['Enkättext'] == 'Följande påståenden rör arbetsplatsen. @ På min arbetsplats har allas mening betydelse.',\n",
    "        ['Beskrivning']] = 'Allas åsikt viktigt'"
   ]
  },
  {
   "cell_type": "code",
   "execution_count": 304,
   "metadata": {},
   "outputs": [],
   "source": [
    "df1.loc[df1['Enkättext'] == 'På min arbetsplats lyssnar ledningen på oss',\n",
    "        ['Beskrivning']] = 'Ledningen lyssnar'"
   ]
  },
  {
   "cell_type": "code",
   "execution_count": 305,
   "metadata": {},
   "outputs": [],
   "source": [
    "df1.loc[df1['Enkättext'] == 'På min arbetsplats får vi den information vi behöver för att kunna vara delaktiga',\n",
    "        ['Beskrivning']] = 'Information delaktig'"
   ]
  },
  {
   "cell_type": "code",
   "execution_count": 306,
   "metadata": {},
   "outputs": [],
   "source": [
    "df1.loc[df1['Enkättext'] == 'Följande påståenden rör arbetsplatsen @ På min arbetsplats får vi den information vi behöver för att kunna vara delaktiga',\n",
    "        ['Beskrivning']] = 'Information delaktig'"
   ]
  },
  {
   "cell_type": "code",
   "execution_count": 307,
   "metadata": {},
   "outputs": [],
   "source": [
    "df1.loc[df1['Enkättext'] == 'På min arbetsplats deltar alla i diskussioner om framtiden',\n",
    "        ['Beskrivning']] = 'Diskussion om framtiden'"
   ]
  },
  {
   "cell_type": "code",
   "execution_count": 308,
   "metadata": {},
   "outputs": [],
   "source": [
    "df1.loc[df1['Enkättext'] == 'Följande påståenden rör arbetsplatsen @ På min arbetsplats deltar alla i diskussioner om framtiden',\n",
    "        ['Beskrivning']] = 'Diskussion om framtiden'"
   ]
  },
  {
   "cell_type": "code",
   "execution_count": 309,
   "metadata": {},
   "outputs": [],
   "source": [
    "df1.loc[df1['Enkättext'] == 'På min arbetsplats är alla med och påverkar',\n",
    "        ['Beskrivning']] = 'Alla påverkar'"
   ]
  },
  {
   "cell_type": "code",
   "execution_count": 310,
   "metadata": {},
   "outputs": [],
   "source": [
    "df1.loc[df1['Enkättext'] == 'Följande påståenden rör arbetsplatsen @ På min arbetsplats är alla med och påverkar',\n",
    "        ['Beskrivning']] = 'Alla påverkar'"
   ]
  },
  {
   "cell_type": "code",
   "execution_count": 311,
   "metadata": {},
   "outputs": [],
   "source": [
    "df1.loc[df1['Enkättext'] == 'På min arbetsplats får vi information i god tid före viktiga beslut',\n",
    "        ['Beskrivning']] = 'Info viktiga beslut'"
   ]
  },
  {
   "cell_type": "code",
   "execution_count": 312,
   "metadata": {},
   "outputs": [],
   "source": [
    "df1.loc[df1['Enkättext'] == 'Följande påståenden rör arbetsplatsen @ På min arbetsplats får vi information i god tid före viktiga beslut',\n",
    "        ['Beskrivning']] = 'Info viktiga beslut'"
   ]
  },
  {
   "cell_type": "code",
   "execution_count": 313,
   "metadata": {},
   "outputs": [],
   "source": [
    "df1.loc[df1['Enkättext'] == 'Följande påståenden rör arbetsplatsen. @ På min arbetsplats får vi information i god tid före viktiga beslut.',\n",
    "        ['Beskrivning']] = 'Info viktiga beslut'"
   ]
  },
  {
   "cell_type": "code",
   "execution_count": 314,
   "metadata": {},
   "outputs": [],
   "source": [
    "df1.loc[df1['Enkättext'] == 'På min arbetsplats vågar vi säga vår mening',\n",
    "        ['Beskrivning']] = 'Våga säga'"
   ]
  },
  {
   "cell_type": "code",
   "execution_count": 315,
   "metadata": {},
   "outputs": [],
   "source": [
    "df1.loc[df1['Enkättext'] == 'Följande påståenden rör arbetsplatsen @ På min arbetsplats vågar vi säga vår mening',\n",
    "        ['Beskrivning']] = 'Våga säga'"
   ]
  },
  {
   "cell_type": "code",
   "execution_count": 316,
   "metadata": {},
   "outputs": [],
   "source": [
    "df1.loc[df1['Enkättext'] == 'Följande påståenden rör arbetsplatsen. @ På min arbetsplats vågar vi säga vår mening.',\n",
    "        ['Beskrivning']] = 'Våga säga'"
   ]
  },
  {
   "cell_type": "code",
   "execution_count": 317,
   "metadata": {},
   "outputs": [],
   "source": [
    "df1.loc[df1['Enkättext'] == 'På min arbetsplats får vi vara med och styra förändringarna',\n",
    "        ['Beskrivning']] = 'Styra förändringar'"
   ]
  },
  {
   "cell_type": "code",
   "execution_count": 318,
   "metadata": {},
   "outputs": [],
   "source": [
    "df1.loc[df1['Enkättext'] == 'Ny teknik och mera flexibla arbetsförhållanden har förändrat arbetslivet för många människor. Teknik kan vara till stor hjälp, men kan också leda till nya typer av stress. @ Skatta i vilken mån du är stressad av… @ ... alltför många telefonsamtal och epostmeddelanden?',\n",
    "        ['Beskrivning']] = 'Telefon e-post'"
   ]
  },
  {
   "cell_type": "code",
   "execution_count": 319,
   "metadata": {},
   "outputs": [],
   "source": [
    "df1.loc[df1['Enkättext'] == 'Ny teknik och mera flexibla arbetsförhållanden har förändrat arbetslivet för många människor. Teknik kan vara till stor hjälp, men kan också leda till nya typer av stress. @ Skatta i vilken mån du är stressad av… @ ... krav på att snabbt svara på e-post och telefonsamtal som medför mycket arbete?',\n",
    "        ['Beskrivning']] = 'Telefon e-post'"
   ]
  },
  {
   "cell_type": "code",
   "execution_count": 320,
   "metadata": {},
   "outputs": [],
   "source": [
    "df1.loc[df1['Enkättext'] == 'Ny teknik och mera flexibla arbetsförhållanden har förändrat arbetslivet för många människor. Teknik kan vara till stor hjälp, men kan också leda till nya typer av stress. @ Skatta i vilken mån du är stressad av… @ ... att ständigt bli avbruten av telefon och e-post?',\n",
    "        ['Beskrivning']] = 'Telefon e-post'"
   ]
  },
  {
   "cell_type": "code",
   "execution_count": 321,
   "metadata": {},
   "outputs": [],
   "source": [
    "df1.loc[df1['Enkättext'] == 'Ny teknik och mera flexibla arbetsförhållanden har förändrat arbetslivet för många människor. Teknik kan vara till stor hjälp, men kan också leda till nya typer av stress. @ Skatta i vilken mån du är stressad av… @ ... datorer och andra apparater som inte fungerar som de ska?',\n",
    "        ['Beskrivning']] = 'Datorer appar'"
   ]
  },
  {
   "cell_type": "code",
   "execution_count": 322,
   "metadata": {},
   "outputs": [],
   "source": [
    "df1.loc[df1['Enkättext'] == 'Har din arbetsplats datoriserad mätning av din tidsanvändning och arbetsprestation?',\n",
    "        ['Beskrivning']] = 'Mäta tidsanvändning arbete'"
   ]
  },
  {
   "cell_type": "code",
   "execution_count": 323,
   "metadata": {},
   "outputs": [],
   "source": [
    "df1.loc[df1['Enkättext'] == 'Hur ofta är du skyldig att lämna aktivitetsrapporter som innehåller uppgifter om tidsåtgång?',\n",
    "        ['Beskrivning']] = 'Mäta tidsanvändning arbete'"
   ]
  },
  {
   "cell_type": "code",
   "execution_count": 324,
   "metadata": {},
   "outputs": [],
   "source": [
    "df1.loc[df1['Enkättext'] == 'Vilket alternativ stämmer bäst på din enskilda arbetsplats?',\n",
    "        ['Beskrivning']] = 'Arbetsplats'"
   ]
  },
  {
   "cell_type": "code",
   "execution_count": 325,
   "metadata": {},
   "outputs": [],
   "source": [
    "df1.loc[df1['Enkättext'] == 'Vilken alternativ stämmer bäst på din enskilda arbetsplats?',\n",
    "        ['Beskrivning']] = 'Arbetsplats'"
   ]
  },
  {
   "cell_type": "code",
   "execution_count": 326,
   "metadata": {},
   "outputs": [],
   "source": [
    "df1.loc[df1['Enkättext'] == 'Vilket alternativ stämmer bäst angående kontorsarbete?',\n",
    "        ['Beskrivning']] = 'Kontorsarbete'"
   ]
  },
  {
   "cell_type": "code",
   "execution_count": 327,
   "metadata": {},
   "outputs": [],
   "source": [
    "df1.loc[df1['Enkättext'] == 'Arbetar du i grupp på annan plats än din enskilda arbetsplats (men inom kontorets väggar) mer än 20 % av din arbetstid? Du kan med andra ord sägas ha tillgång till mer än bara din enskilda arbetsplats (kombikontor). Till grupparbete räknas ej informationmöten med dagordning.',\n",
    "        ['Beskrivning']] = 'Arbetsplats kombikontor'"
   ]
  },
  {
   "cell_type": "code",
   "execution_count": 328,
   "metadata": {},
   "outputs": [],
   "source": [
    "df1.loc[df1['Enkättext'] == 'Fysisk arbetsmiljö @ Innebär ditt arbete att du vissa tider arbetar rent kroppsligt, dvs. du tar i mer med kroppen än man gör när man går och står och rör sig på vanligt sätt?',\n",
    "        ['Beskrivning']] = 'Kroppsligt arbete'"
   ]
  },
  {
   "cell_type": "code",
   "execution_count": 329,
   "metadata": {},
   "outputs": [],
   "source": [
    "df1.loc[df1['Enkättext'] == 'Fysisk arbetsmiljö @ Måste du flera gånger om dagen lyfta minst 15 kg åt gången?',\n",
    "        ['Beskrivning']] = 'Lyfta 15kg'"
   ]
  },
  {
   "cell_type": "code",
   "execution_count": 330,
   "metadata": {},
   "outputs": [],
   "source": [
    "df1.loc[df1['Enkättext'] == 'Fysisk arbetsmiljö @ Hur stor del av arbetstiden arbetar du vid tangentbord till dator?',\n",
    "        ['Beskrivning']] = 'Dator tangentbord'"
   ]
  },
  {
   "cell_type": "code",
   "execution_count": 331,
   "metadata": {},
   "outputs": [],
   "source": [
    "df1.loc[df1['Enkättext'] == 'Utsätts du för något av detta i ditt arbete? @ Störande eller tröttande ljud',\n",
    "        ['Beskrivning']] = 'Störande ljud'"
   ]
  },
  {
   "cell_type": "code",
   "execution_count": 332,
   "metadata": {},
   "outputs": [],
   "source": [
    "df1.loc[df1['Enkättext'] == 'Utsätts du för något av detta i ditt arbete? @ Dåliga eller besvärande ljusförhållanden',\n",
    "        ['Beskrivning']] = 'Dåligt ljus'"
   ]
  },
  {
   "cell_type": "code",
   "execution_count": 333,
   "metadata": {},
   "outputs": [],
   "source": [
    "df1.loc[df1['Enkättext'] == 'Utsätts du för något av detta i ditt arbete? @ Vibrationer, som får hela kroppen att skaka och vibrera (från t.ex. traktor, truck eller andra arbetsmaskiner)',\n",
    "        ['Beskrivning']] = 'Vibrationer'"
   ]
  },
  {
   "cell_type": "code",
   "execution_count": 334,
   "metadata": {},
   "outputs": [],
   "source": [
    "df1.loc[df1['Enkättext'] == 'Utsätts du för något av detta i ditt arbete? @ Giftiga eller irriterande ämnen (t.ex. lösningsmedel, bekämpningsmedel eller plastkemikalier)',\n",
    "        ['Beskrivning']] = 'Giftiga ämnen'"
   ]
  },
  {
   "cell_type": "code",
   "execution_count": 335,
   "metadata": {},
   "outputs": [],
   "source": [
    "df1.loc[df1['Enkättext'] == 'Utsätts du för något av detta i ditt arbete? @ Besvärande kyla, hetta eller drag',\n",
    "        ['Beskrivning']] = 'Kyla hetta drag'"
   ]
  },
  {
   "cell_type": "code",
   "execution_count": 336,
   "metadata": {},
   "outputs": [],
   "source": [
    "df1.loc[df1['Enkättext'] == 'Utsätts du för något av detta i ditt arbete? @ Infektionsrisk (t.ex. från sjuka patienter/klienter eller genom smittavfall)',\n",
    "        ['Beskrivning']] = 'Infektionsrisk'"
   ]
  },
  {
   "cell_type": "code",
   "execution_count": 337,
   "metadata": {},
   "outputs": [],
   "source": [
    "df1.loc[df1['Enkättext'] == 'Utsätts du för något av detta i ditt arbete? @ Påtagliga olycksrisker (t.ex. från farliga maskiner eller genom arbete på hög höjd)',\n",
    "        ['Beskrivning']] = 'Olycksrisk'"
   ]
  },
  {
   "cell_type": "code",
   "execution_count": 338,
   "metadata": {},
   "outputs": [],
   "source": [
    "df1.loc[df1['Enkättext'] == 'Hur nöjd eller missnöjd är du med din lön i förhållande till dina arbetsuppgifter?',\n",
    "        ['Beskrivning']] = 'Nöjd/missnöjd lön'"
   ]
  },
  {
   "cell_type": "code",
   "execution_count": 339,
   "metadata": {},
   "outputs": [],
   "source": [
    "df1.loc[df1['Enkättext'] == 'Hur nöjd eller missnöjd är du med din lön/arbetsinkomst i förhållande till dina arbetsuppgifter?',\n",
    "        ['Beskrivning']] = 'Nöjd/missnöjd lön'"
   ]
  },
  {
   "cell_type": "code",
   "execution_count": 340,
   "metadata": {},
   "outputs": [],
   "source": [
    "df1.loc[df1['Enkättext'] == 'Hur nöjd eller missnöjd är du med dina nuvarande arbetsuppgifter?',\n",
    "        ['Beskrivning']] = 'Nöjd/missnöjd lön'"
   ]
  },
  {
   "cell_type": "code",
   "execution_count": 341,
   "metadata": {},
   "outputs": [],
   "source": [
    "df1.loc[df1['Enkättext'] == 'Hur angelägen är du att avancera till en högre befattning?',\n",
    "        ['Beskrivning']] = 'Angelägen avancera'"
   ]
  },
  {
   "cell_type": "code",
   "execution_count": 342,
   "metadata": {},
   "outputs": [],
   "source": [
    "df1.loc[df1['Enkättext'] == 'Om Du är egenföretagare, hoppa över denna fråga och fortsätt med nästa fråga @ Hur angelägen är du att avancera till en högre befattning?',\n",
    "        ['Beskrivning']] = 'Angelägen avancera'"
   ]
  },
  {
   "cell_type": "code",
   "execution_count": 343,
   "metadata": {},
   "outputs": [],
   "source": [
    "df1.loc[df1['Enkättext'] == 'Om ditt huvudsakliga arbete @ I vilken grad är du angelägen att avancera till en högre befattning?',\n",
    "        ['Beskrivning']] = 'Angelägen avancera'"
   ]
  },
  {
   "cell_type": "code",
   "execution_count": 344,
   "metadata": {},
   "outputs": [],
   "source": [
    "df1.loc[df1['Enkättext'] == 'Tycker du att du förtjänar att få en högre befattning?',\n",
    "        ['Beskrivning']] = 'Förtjäna avancera'"
   ]
  },
  {
   "cell_type": "code",
   "execution_count": 345,
   "metadata": {},
   "outputs": [],
   "source": [
    "df1.loc[df1['Enkättext'] == 'Om Du är egenföretagare, hoppa över denna fråga och fortsätt med nästa fråga @ Tycker du att du förtjänar att få en högre befattning?',\n",
    "        ['Beskrivning']] = 'Förtjäna avancera'"
   ]
  },
  {
   "cell_type": "code",
   "execution_count": 346,
   "metadata": {},
   "outputs": [],
   "source": [
    "df1.loc[df1['Enkättext'] == 'Om ditt huvudsakliga arbete @ I vilken grad tycker du att du förtjänar att få en högre befattning?', \n",
    "        ['Beskrivning']] = 'Förtjäna avancera'"
   ]
  },
  {
   "cell_type": "code",
   "execution_count": 347,
   "metadata": {},
   "outputs": [],
   "source": [
    "df1.loc[df1['Enkättext'] == 'Tror du att du har möjlighet att få en högre befattning inom de närmaste två åren?',\n",
    "        ['Beskrivning']] = 'Möjlighet avancera'"
   ]
  },
  {
   "cell_type": "code",
   "execution_count": 348,
   "metadata": {},
   "outputs": [],
   "source": [
    "df1.loc[df1['Enkättext'] == 'Om Du är egenföretagare, hoppa över denna fråga och fortsätt med nästa fråga @ Tror du att du har möjlighet att få en högre befattning inom de närmaste två åren?',\n",
    "        ['Beskrivning']] = 'Möjlighet avancera'"
   ]
  },
  {
   "cell_type": "code",
   "execution_count": 349,
   "metadata": {},
   "outputs": [],
   "source": [
    "df1.loc[df1['Enkättext'] == 'Om ditt huvudsakliga arbete @ I vilken grad tror du att du har möjlighet att få en högre befattning inom de närmaste två åren?',\n",
    "        ['Beskrivning']] = 'Möjlighet avancera'"
   ]
  },
  {
   "cell_type": "code",
   "execution_count": 350,
   "metadata": {},
   "outputs": [],
   "source": [
    "df1.loc[df1['Enkättext'] == 'Det företag/den arbetsplats du arbetar på, är det den arbetsplats du önskar arbeta på i framtiden?',\n",
    "        ['Beskrivning']] = 'Arbeta framtiden'"
   ]
  },
  {
   "cell_type": "code",
   "execution_count": 351,
   "metadata": {},
   "outputs": [],
   "source": [
    "df1.loc[df1['Enkättext'] == 'Är det yrke du har idag det yrke du önskar ha i framtiden?',\n",
    "        ['Beskrivning']] = 'Arbeta framtiden'"
   ]
  },
  {
   "cell_type": "code",
   "execution_count": 352,
   "metadata": {},
   "outputs": [],
   "source": [
    "df1.loc[df1['Enkättext'] == 'Hur tycker du att dina kunskaper och färdigheter stämmer överens med ditt arbete? Tycker du att du är …',\n",
    "        ['Beskrivning']] = 'Kunskaper stämmer överens'"
   ]
  },
  {
   "cell_type": "code",
   "execution_count": 353,
   "metadata": {},
   "outputs": [],
   "source": [
    "df1.loc[df1['Enkättext'] == 'Innan du slutade arbeta, hur tyckte du att dina kunskaper och färdigheter stämde överens med ditt arbete? Tyckte du att du …',\n",
    "        ['Beskrivning']] = 'Kunskaper stämmer överens'"
   ]
  },
  {
   "cell_type": "code",
   "execution_count": 354,
   "metadata": {},
   "outputs": [],
   "source": [
    "df1.loc[df1['Enkättext'] == 'Förekommer kulturella aktiviteter (film, teater, konserter, utställningar) för de anställda på din arbetsplats',\n",
    "        ['Beskrivning']] = 'Kulturella aktiviteter'"
   ]
  },
  {
   "cell_type": "code",
   "execution_count": 355,
   "metadata": {},
   "outputs": [],
   "source": [
    "df1.loc[df1['Enkättext'] == 'Påverkar kraven från ditt hem/din familj ditt arbete på ett negativt sätt?',\n",
    "        ['Beskrivning']] = 'Krav familj arbete'"
   ]
  },
  {
   "cell_type": "code",
   "execution_count": 356,
   "metadata": {},
   "outputs": [],
   "source": [
    "df1.loc[df1['Enkättext'] == 'Påverkar kraven i ditt arbete ditt hem- och familjeliv på ett negativt sätt?',\n",
    "        ['Beskrivning']] = 'Krav familj arbete'"
   ]
  },
  {
   "cell_type": "code",
   "execution_count": 357,
   "metadata": {},
   "outputs": [],
   "source": [
    "df1.loc[df1['Enkättext'] == 'Innan du slutade arbeta, påverkade kraven i ditt arbete ditt hem- och familjeliv på ett negativt sätt?',\n",
    "        ['Beskrivning']] = 'Krav familj arbete'"
   ]
  },
  {
   "cell_type": "code",
   "execution_count": 358,
   "metadata": {},
   "outputs": [],
   "source": [
    "df1.loc[df1['Enkättext'] == 'Om förhållandet mellan arbete och hem- och familjeliv @ Påverkar kraven i ditt arbete ditt hem- och familjeliv på ett negativt sätt?',\n",
    "        ['Beskrivning']] = 'Krav familj arbete'"
   ]
  },
  {
   "cell_type": "code",
   "execution_count": 359,
   "metadata": {},
   "outputs": [],
   "source": [
    "df1.loc[df1['Enkättext'] == 'Om förhållandet mellan arbete och hem- och familjeliv @ Påverkar kraven från ditt hem/din familj ditt arbete på ett negativt sätt?',\n",
    "        ['Beskrivning']] = 'Krav familj arbete'"
   ]
  },
  {
   "cell_type": "code",
   "execution_count": 360,
   "metadata": {},
   "outputs": [],
   "source": [
    "df1.loc[df1['Enkättext'] == 'Har du tillräcklig tid för de sysslor som måste göras i hemmet?',\n",
    "        ['Beskrivning']] = 'Tid för sysslor'"
   ]
  },
  {
   "cell_type": "code",
   "execution_count": 361,
   "metadata": {},
   "outputs": [],
   "source": [
    "df1.loc[df1['Enkättext'] == 'Har du börjat planera för att gå i pension? Räkna inte med pensionssparande när du svarar.',\n",
    "        ['Beskrivning']] = 'Planera pension'"
   ]
  },
  {
   "cell_type": "code",
   "execution_count": 362,
   "metadata": {},
   "outputs": [],
   "source": [
    "df1.loc[df1['Enkättext'] == 'Du som är över 50 och inte pensionerad… @ Om du är under 50, fortsätt med nästa fråga @ Har du börjat planera för att gå i pension? Räkna inte med pensionssparande när du svarar.',\n",
    "        ['Beskrivning']] = 'Planera pension'"
   ]
  },
  {
   "cell_type": "code",
   "execution_count": 363,
   "metadata": {},
   "outputs": [],
   "source": [
    "df1.loc[df1['Enkättext'] == 'Du som är över 50 och inte pensionerad …. @ Har du börjat planera för att gå i pension? Räkna inte med pensionssparande när du svarar.',\n",
    "        ['Beskrivning']] = 'Planera pension'"
   ]
  },
  {
   "cell_type": "code",
   "execution_count": 364,
   "metadata": {},
   "outputs": [],
   "source": [
    "df1.loc[df1['Enkättext'] == 'Har du börjat planera för att gå i pension? @ Räkna inte med pensionssparande när du svarar.',\n",
    "        ['Beskrivning']] = 'Planera pension'"
   ]
  },
  {
   "cell_type": "code",
   "execution_count": 365,
   "metadata": {},
   "outputs": [],
   "source": [
    "df1.loc[df1['Enkättext'] == 'Om du är förtidspensionär, vänligen fortsätt med fråga 14. Om du är ålders pensionär, vänligen fortsätt med fråga 23. @ Har du börjat planera för att gå i pension? Räkna inte med pensionssparande när du svarar.',\n",
    "        ['Beskrivning']] = 'Planera pension'"
   ]
  },
  {
   "cell_type": "code",
   "execution_count": 366,
   "metadata": {},
   "outputs": [],
   "source": [
    "df1.loc[df1['Enkättext'] == 'Om pensionering @ Har du börjat planera för att gå i pension? Räkna inte med pensionssparande när du svarar.',\n",
    "        ['Beskrivning']] = 'Planera pension'"
   ]
  },
  {
   "cell_type": "code",
   "execution_count": 367,
   "metadata": {},
   "outputs": [],
   "source": [
    "df1.loc[df1['Enkättext'] == 'Om pensionering @ Om du är förtidspensionär, vänligen fortsätt med fråga 17. Om du är ålderspensionär, vänligen fortsätt med fråga 20. @ Har du börjat planera för att gå i pension? Räkna inte med pensionssparande när du svarar.',\n",
    "        ['Beskrivning']] = 'Planera pension'"
   ]
  },
  {
   "cell_type": "code",
   "execution_count": 368,
   "metadata": {},
   "outputs": [],
   "source": [
    "df1.loc[df1['Enkättext'] == 'Om pensionering @ Om du är förtidspensionär, vänligen fortsätt med fråga 16. Om du är ålderspensionär, vänligen fortsätt med fråga 19. @ Har du börjat planera för att gå i pension? Räkna inte med pensionssparande när du svarar.',\n",
    "        ['Beskrivning']] = 'Planera pension'"
   ]
  },
  {
   "cell_type": "code",
   "execution_count": 369,
   "metadata": {},
   "outputs": [],
   "source": [
    "df1.loc[df1['Enkättext'] == 'Finns det i ditt nuvarande arbete möjligheter att arbeta, heltid eller deltid, efter den ordinarie pensionsåldern?',\n",
    "        ['Beskrivning']] = 'Möjlighet arbeta pension'"
   ]
  },
  {
   "cell_type": "code",
   "execution_count": 370,
   "metadata": {},
   "outputs": [],
   "source": [
    "df1.loc[df1['Enkättext'] == 'Du som är över 50 och inte pensionerad… @ Om du är under 50, fortsätt med nästa fråga @ Finns det i ditt nuvarande arbete möjligheter att arbeta, heltid eller deltid, efter den ordinarie pensionsåldern?',\n",
    "        ['Beskrivning']] = 'Möjlighet arbeta pension'"
   ]
  },
  {
   "cell_type": "code",
   "execution_count": 371,
   "metadata": {},
   "outputs": [],
   "source": [
    "df1.loc[df1['Enkättext'] == 'Du som är över 50 och inte pensionerad …. @ Om du har en arbetsplats att gå tillbaka till, finns det då möjligheter att arbeta, heltid eller deltid, efter den ordinarie pensionsåldern?',\n",
    "        ['Beskrivning']] = 'Möjlighet arbeta pension'"
   ]
  },
  {
   "cell_type": "code",
   "execution_count": 372,
   "metadata": {},
   "outputs": [],
   "source": [
    "df1.loc[df1['Enkättext'] == 'Om du är förtidspensionär, vänligen fortsätt med fråga 14. Om du är ålders pensionär, vänligen fortsätt med fråga 23. @ Om du har en arbetsplats att gå tillbaka till, finns det då möjligheter att arbeta, heltid eller deltid, efter den ordinarie pensionsåldern?',\n",
    "        ['Beskrivning']] = 'Möjlighet arbeta pension'"
   ]
  },
  {
   "cell_type": "code",
   "execution_count": 373,
   "metadata": {},
   "outputs": [],
   "source": [
    "df1.loc[df1['Enkättext'] == 'Om pensionering @ Finns det i ditt nuvarande arbete möjligheter att arbeta, heltid eller deltid, efter den ordinarie pensionsåldern?',\n",
    "        ['Beskrivning']] = 'Möjlighet arbeta pension'"
   ]
  },
  {
   "cell_type": "code",
   "execution_count": 374,
   "metadata": {},
   "outputs": [],
   "source": [
    "df1.loc[df1['Enkättext'] == 'Om pensionering @ Om du har en arbetsplats att gå tillbaka till, finns det då möjligheter att arbeta, heltid eller deltid, efter den ordinarie pensionsåldern?',\n",
    "        ['Beskrivning']] = 'Möjlighet arbeta pension'"
   ]
  },
  {
   "cell_type": "code",
   "execution_count": 375,
   "metadata": {},
   "outputs": [],
   "source": [
    "df1.loc[df1['Enkättext'] == 'Om pensionering @ Om du är förtidspensionär, vänligen fortsätt med fråga 17. Om du är ålderspensionär, vänligen fortsätt med fråga 20. @ Om du har en arbetsplats just nu eller en att gå tillbaka till, finns det då möjligheter att arbeta där, heltid eller deltid, efter den ordinarie pensionsåldern?',\n",
    "        ['Beskrivning']] = 'Möjlighet arbeta pension'"
   ]
  },
  {
   "cell_type": "code",
   "execution_count": 376,
   "metadata": {},
   "outputs": [],
   "source": [
    "df1.loc[df1['Enkättext'] == 'Om pensionering @ Om du är förtidspensionär, vänligen fortsätt med fråga 16. Om du är ålderspensionär, vänligen fortsätt med fråga 19. @ Om du har en arbetsplats just nu eller en att gå tillbaka till, finns det då möjligheter att arbeta där, heltid eller deltid, efter den ordinarie pensionsåldern?',\n",
    "        ['Beskrivning']] = 'Möjlighet arbeta pension'"
   ]
  },
  {
   "cell_type": "code",
   "execution_count": 377,
   "metadata": {},
   "outputs": [],
   "source": [
    "df1.loc[df1['Enkättext'] == 'Vid vilken ålder vill du pensionera dig (såsom du tänker idag)?',\n",
    "        ['Beskrivning']] = 'Ålder vill pensionera'"
   ]
  },
  {
   "cell_type": "code",
   "execution_count": 378,
   "metadata": {},
   "outputs": [],
   "source": [
    "df1.loc[df1['Enkättext'] == 'Vid vilken ålder vill du pensionera dig?',\n",
    "        ['Beskrivning']] = 'Ålder vill pensionera'"
   ]
  },
  {
   "cell_type": "code",
   "execution_count": 379,
   "metadata": {},
<<<<<<< HEAD
   "outputs": [
    {
     "data": {
      "text/plain": [
       "'Vid vilken ålder vill du pensionera dig?'"
      ]
     },
     "execution_count": 379,
     "metadata": {},
     "output_type": "execute_result"
    }
   ],
=======
   "outputs": [],
>>>>>>> 0621508f080aaa08c0ce4890c38ed962336effb7
   "source": [
    "df1.loc[df1['Enkättext'] == 'Vid vilken ålder tror du att du kommer att gå i pension (såsom du tror idag)?',\n",
    "        ['Beskrivning']] = 'Ålder kommer pensionera'"
   ]
  },
  {
   "cell_type": "code",
   "execution_count": 380,
   "metadata": {},
<<<<<<< HEAD
   "outputs": [
    {
     "data": {
      "text/plain": [
       "'På min arbetsplats bryr vi oss om varandra'"
      ]
     },
     "execution_count": 380,
     "metadata": {},
     "output_type": "execute_result"
    }
   ],
=======
   "outputs": [],
>>>>>>> 0621508f080aaa08c0ce4890c38ed962336effb7
   "source": [
    "df1.loc[df1['Enkättext'] == 'Vid vilken ålder tror du att du kommer att gå i pension?',\n",
    "        ['Beskrivning']] = 'Ålder tror pensionera'"
   ]
  },
  {
   "cell_type": "code",
   "execution_count": 381,
<<<<<<< HEAD
   "metadata": {},
   "outputs": [
    {
     "data": {
      "text/plain": [
       "526"
      ]
     },
     "execution_count": 381,
     "metadata": {},
     "output_type": "execute_result"
    }
   ],
=======
   "metadata": {},
   "outputs": [],
   "source": [
    "df1.loc[df1['Enkättext'] == 'Hur stor är den arbetsgrupp du arbetar i?',\n",
    "        ['Beskrivning']] = 'Storlek arbetsgrupp'"
   ]
  },
  {
   "cell_type": "code",
   "execution_count": 382,
   "metadata": {},
   "outputs": [],
   "source": [
    "df1.loc[df1['Enkättext'] == 'Hur stor är den arbetsgrupp du arbetar i? @ Med arbetsgrupp menar vi en grupp som är tillsatt för att nå vissa arbetsmål, att producera varor eller tjänster.',\n",
    "        ['Beskrivning']] = 'Storlek arbetsgrupp'"
   ]
  },
  {
   "cell_type": "code",
   "execution_count": 383,
   "metadata": {},
   "outputs": [],
   "source": [
    "df1.loc[df1['Enkättext'] == 'Hur många anställda är det på din nuvarande arbetsplats?',\n",
    "        ['Beskrivning']] = 'Antal anställda'"
   ]
  },
  {
   "cell_type": "code",
   "execution_count": 384,
   "metadata": {},
   "outputs": [],
   "source": [
    "df1.loc[df1['Enkättext'] == 'Hur många anställda finns på din arbetsplats, utöver dig själv?',\n",
    "        ['Beskrivning']] = 'Antal anställda'"
   ]
  },
  {
   "cell_type": "code",
   "execution_count": 385,
   "metadata": {},
   "outputs": [],
   "source": [
    "df1.loc[df1['Enkättext'] == 'Hur många anställda finns/fanns på din arbetsplats, utöver dig själv?',\n",
    "        ['Beskrivning']] = 'Antal anställda'"
   ]
  },
  {
   "cell_type": "code",
   "execution_count": 386,
   "metadata": {},
   "outputs": [],
   "source": [
    "df1.loc[df1['Enkättext'] == 'Hur många arbetskamrater träffar du som regel en vanlig arbetsdag?',\n",
    "        ['Beskrivning']] = 'Träffa arbetskamrater'"
   ]
  },
  {
   "cell_type": "code",
   "execution_count": 387,
   "metadata": {},
   "outputs": [],
   "source": [
    "df1.loc[df1['Enkättext'] == 'Till vilken personalkategori hör du?',\n",
    "        ['Beskrivning']] = 'Personalkategori'"
   ]
  },
  {
   "cell_type": "code",
   "execution_count": 388,
   "metadata": {},
   "outputs": [],
   "source": [
    "df1.loc[df1['Enkättext'] == 'Hör det till dina arbetsuppgifter att leda arbetet eller att dela ut arbete åt andra arbetstagare?',\n",
    "        ['Beskrivning']] = 'Arbetsleda'"
   ]
  },
  {
   "cell_type": "code",
   "execution_count": 389,
   "metadata": {},
   "outputs": [],
   "source": [
    "df1.loc[df1['Enkättext'] == 'Hör det till dina arbetsuppgifter att leda eller fördela andras arbete?',\n",
    "        ['Beskrivning']] = 'Arbetsleda'"
   ]
  },
  {
   "cell_type": "code",
   "execution_count": 390,
   "metadata": {},
   "outputs": [],
   "source": [
    "df1.loc[df1['Enkättext'] == 'Hör det till dina arbetsuppgifter att leda arbetet eller att dela ut arbete åt andra arbetstagare? @ Om ja: Hur många personer (ungefär) är direkt eller indirekt underställda dig?',\n",
    "        ['Beskrivning']] = 'Arbetsleda'"
   ]
  },
  {
   "cell_type": "code",
   "execution_count": 391,
   "metadata": {},
   "outputs": [],
   "source": [
    "df1.loc[df1['Enkättext'] == 'Hör det till dina arbetsuppgifter att leda eller fördela andras arbete? @ Hur många personer (ungefär) är direkt eller indirekt underställda dig?',\n",
    "        ['Beskrivning']] = 'Arbetsleda'"
   ]
  },
  {
   "cell_type": "code",
   "execution_count": 392,
   "metadata": {},
   "outputs": [],
   "source": [
    "df1.loc[df1['Enkättext'] == 'Är du anställd på heltid eller deltid?',\n",
    "        ['Beskrivning']] = 'Heltid deltid'"
   ]
  },
  {
   "cell_type": "code",
   "execution_count": 393,
   "metadata": {},
   "outputs": [],
   "source": [
    "df1.loc[df1['Enkättext'] == 'Är du anställd på heltid eller deltid? @ Räkna alla arbeten om du har flera. Om du är egenföretagare med fast inkomst, räkna även din arbetstid i företaget, i annat fall räkna bara dina eventuella anställningar.',\n",
    "        ['Beskrivning']] = 'Heltid deltid'"
   ]
  },
  {
   "cell_type": "code",
   "execution_count": 394,
   "metadata": {},
   "outputs": [],
   "source": [
    "df1.loc[df1['Enkättext'] == 'Om arbetstid @ Räkna alla arbeten om du har flera. Om du är egenföretagare med fast inkomst, räkna även din arbetstid i företaget, i annat fall räkna bara dina eventuella anställningar. @ Är du anställd på heltid eller deltid?',\n",
    "        ['Beskrivning']] = 'Heltid deltid'"
   ]
  },
  {
   "cell_type": "code",
   "execution_count": 395,
   "metadata": {},
   "outputs": [],
   "source": [
    "df1.loc[df1['Enkättext'] == 'Är du anställd på heltid eller deltid? @ Deltid, ange hur många procent av heltid',\n",
    "        ['Beskrivning']] = 'Heltid deltid'"
   ]
  },
  {
   "cell_type": "code",
   "execution_count": 396,
   "metadata": {},
   "outputs": [],
   "source": [
    "df1.loc[df1['Enkättext'] == 'Är du anställd på heltid eller deltid? @ Om deltid, hur många procent arbetar du?',\n",
    "        ['Beskrivning']] = 'Heltid deltid'"
   ]
  },
  {
   "cell_type": "code",
   "execution_count": 397,
   "metadata": {},
   "outputs": [],
   "source": [
    "df1.loc[df1['Enkättext'] == 'Är du anställd på heltid eller deltid? @ Räkna alla arbeten om du har flera. Om du är egenföretagare med fast inkomst, räkna även din arbetstid i företaget, i annat fall räkna bara dina eventuella anställningar. @ Om deltid, hur många procent är du anställd på?',\n",
    "        ['Beskrivning']] = 'Deltid'"
   ]
  },
  {
   "cell_type": "code",
   "execution_count": 398,
   "metadata": {},
   "outputs": [],
   "source": [
    "df1.loc[df1['Enkättext'] == 'Är du nöjd med din avtalsenliga arbetstid?',\n",
    "        ['Beskrivning']] = 'Nöjd arbetstid'"
   ]
  },
  {
   "cell_type": "code",
   "execution_count": 399,
   "metadata": {},
   "outputs": [],
   "source": [
    "df1.loc[df1['Enkättext'] == 'Vilken typ av anställning har du?',\n",
    "        ['Beskrivning']] = 'Anställningstyp'"
   ]
  },
  {
   "cell_type": "code",
   "execution_count": 400,
   "metadata": {},
   "outputs": [],
   "source": [
    "df1.loc[df1['Enkättext'] == 'Vilken typ av anställning/arbete har du?',\n",
    "        ['Beskrivning']] = 'Anställningstyp'"
   ]
  },
  {
   "cell_type": "code",
   "execution_count": 401,
   "metadata": {},
   "outputs": [],
   "source": [
    "df1.loc[df1['Enkättext'] == 'Vilken typ av anställning/arbete har du? Du kan kryssa för fler än ett alternativ.',\n",
    "        ['Beskrivning']] = 'Anställningstyp'"
   ]
  },
  {
   "cell_type": "code",
   "execution_count": 402,
   "metadata": {},
   "outputs": [],
   "source": [
    "df1.loc[df1['Enkättext'] == 'Vilken eller vilka typer av anställningar och arbeten har du? Du kan kryssa för fler än ett alternativ.',\n",
    "        ['Beskrivning']] = 'Anställningstyp'"
   ]
  },
  {
   "cell_type": "code",
   "execution_count": 403,
   "metadata": {},
   "outputs": [],
   "source": [
    "df1.loc[df1['Enkättext'] == 'Vilken typ av anställningar och arbeten har du? Du kan kryssa för fler än ett alternativ.',\n",
    "        ['Beskrivning']] = 'Anställningstyp'"
   ]
  },
  {
   "cell_type": "code",
   "execution_count": 404,
   "metadata": {},
   "outputs": [],
   "source": [
    "df1.loc[df1['Enkättext'] == 'Har du i allmänhet möjlighet att inom vissa gränser bestämma dina arbetstider?',\n",
    "        ['Beskrivning']] = 'Bestämma arbetstid'"
   ]
  },
  {
   "cell_type": "code",
   "execution_count": 405,
   "metadata": {},
   "outputs": [],
   "source": [
    "df1.loc[df1['Enkättext'] == 'Vilken är din huvudsakliga arbetsgivare?',\n",
    "        ['Beskrivning']] = 'Arbetsgivare'"
   ]
  },
  {
   "cell_type": "code",
   "execution_count": 406,
   "metadata": {},
   "outputs": [],
   "source": [
    "df1.loc[df1['Enkättext'] == 'Vilken är din huvudsakliga arbetsgivare? Markera endast ett alternativ.',\n",
    "        ['Beskrivning']] = 'Arbetsgivare'"
   ]
  },
  {
   "cell_type": "code",
   "execution_count": 407,
   "metadata": {},
   "outputs": [],
   "source": [
    "df1.loc[df1['Enkättext'] == 'Finns det på din arbetsplats en förståelse för kvinnliga medarbetare som har behov av minskad arbetstid under småbarnsåren?',\n",
    "        ['Beskrivning']] = 'Kvinna minskad arbetstid'"
   ]
  },
  {
   "cell_type": "code",
   "execution_count": 408,
   "metadata": {},
   "outputs": [],
   "source": [
    "df1.loc[df1['Enkättext'] == 'Finns det på din arbetsplats en förståelse för manliga medarbetare som har behov av minskad arbetstid under småbarnsåren?',\n",
    "        ['Beskrivning']] = 'Man minskad arbetstid'"
   ]
  },
  {
   "cell_type": "code",
   "execution_count": 409,
   "metadata": {},
   "outputs": [],
   "source": [
    "df1.loc[df1['Enkättext'] == 'Vilken arbetstid har du vanligtvis? Markera endast ett alternativ',\n",
    "        ['Beskrivning']] = 'Vilken arbetstid'"
   ]
  },
  {
   "cell_type": "code",
   "execution_count": 410,
   "metadata": {},
   "outputs": [],
   "source": [
    "df1.loc[df1['Enkättext'] == 'Vilken arbetstid hade du vanligtvis innan du slutade arbeta?? Markera endast ett alternativ',\n",
    "        ['Beskrivning']] = 'Vilken arbetstid'"
   ]
  },
  {
   "cell_type": "code",
   "execution_count": 411,
   "metadata": {},
   "outputs": [],
>>>>>>> 0621508f080aaa08c0ce4890c38ed962336effb7
   "source": [
    "df1.loc[df1['Enkättext'] == 'Kan du utan problem ta ledigt när du behöver det?',\n",
    "        ['Beskrivning']] = 'Kan ta ledigt'"
   ]
  },
  {
   "cell_type": "code",
   "execution_count": 412,
   "metadata": {},
   "outputs": [],
   "source": [
    "df1.loc[df1['Enkättext'] == 'Har stor del av din ordinarie arbetstid arbetar du vanligtvis i hemmet?',\n",
    "        ['Beskrivning']] = 'Arbeta hemma'"
   ]
  },
  {
   "cell_type": "code",
   "execution_count": 413,
   "metadata": {},
   "outputs": [],
   "source": [
    "df1.loc[df1['Enkättext'] == 'Hur avlönas du? Markera endast ett alternativ',\n",
    "        ['Beskrivning']] = 'Avlönas'"
   ]
  },
  {
   "cell_type": "code",
   "execution_count": 414,
   "metadata": {},
   "outputs": [],
   "source": [
    "df1.loc[df1['Enkättext'] == 'Följande frågor gäller din arbetsplats/dina arbetsplatser under de två senaste åren: @ Har du bytt arbete?',\n",
    "        ['Beskrivning']] = 'Bytt arbete'"
   ]
  },
  {
   "cell_type": "code",
   "execution_count": 415,
   "metadata": {},
   "outputs": [],
   "source": [
    "df1.loc[df1['Enkättext'] == 'Följande frågor gäller din arbetsplats/dina arbetsplatser under de två senaste åren: @ Har du bytt jobb?',\n",
    "        ['Beskrivning']] = 'Bytt arbete'"
   ]
  },
  {
   "cell_type": "code",
   "execution_count": 416,
   "metadata": {},
   "outputs": [],
   "source": [
    "df1.loc[df1['Enkättext'] == 'Följande frågor gäller din arbetsplats/dina arbetsplatser under de två senaste åren: @ Har du bytt arbetsgrupp?',\n",
    "        ['Beskrivning']] = 'Bytt arbetsgrupp'"
   ]
  },
  {
   "cell_type": "code",
   "execution_count": 417,
   "metadata": {},
   "outputs": [],
   "source": [
    "df1.loc[df1['Enkättext'] == 'Följande frågor gäller din arbetsplats/dina arbetsplatser under de två senaste åren: @ Har du bytt arbetsgrupp(er)?',\n",
    "        ['Beskrivning']] = 'Bytt arbetsgrupp'"
   ]
  },
  {
   "cell_type": "code",
   "execution_count": 418,
   "metadata": {},
   "outputs": [],
   "source": [
    "df1.loc[df1['Enkättext'] == 'Följande frågor gäller din arbetsplats/dina arbetsplatser under de två senaste åren: @ Har du bytt chef?',\n",
    "        ['Beskrivning']] = 'Bytt chef'"
   ]
  },
  {
   "cell_type": "code",
   "execution_count": 419,
   "metadata": {},
   "outputs": [],
   "source": [
    "df1.loc[df1['Enkättext'] == 'Följande frågor gäller din arbetsplats/dina arbetsplatser under de två senaste åren: @ Har du fått ny chef?',\n",
    "        ['Beskrivning']] = 'Bytt chef'"
   ]
  },
  {
   "cell_type": "code",
   "execution_count": 420,
   "metadata": {},
   "outputs": [],
   "source": [
    "df1.loc[df1['Enkättext'] == 'Följande frågor gäller din arbetsplats/dina arbetsplatser under de två senaste åren: @ Har du fått väsentligt utökade arbetsuppgifter?',\n",
    "        ['Beskrivning']] = 'Utökade arbetsuppgifter'"
   ]
  },
  {
   "cell_type": "code",
   "execution_count": 421,
   "metadata": {},
   "outputs": [],
   "source": [
    "df1.loc[df1['Enkättext'] == 'Följande frågor gäller din arbetsplats/dina arbetsplatser under de senaste två åren: @ Har du fått väsentligt utökade arbetsuppgifter?',\n",
    "        ['Beskrivning']] = 'Utökade arbetsuppgifter'"
   ]
  },
  {
   "cell_type": "code",
   "execution_count": 422,
   "metadata": {},
   "outputs": [],
   "source": [
    "df1.loc[df1['Enkättext'] == 'Följande frågor gäller din arbetsplats under de senaste två åren innan du slutade arbeta @ Fick du väsentligt utökade arbetsuppgifter?',\n",
    "        ['Beskrivning']] = 'Utökade arbetsuppgifter'"
   ]
  },
  {
   "cell_type": "code",
   "execution_count": 423,
   "metadata": {},
   "outputs": [],
   "source": [
    "df1.loc[df1['Enkättext'] == 'Följande frågor gäller din arbetsplats/dina arbetsplatser och dina arbetsuppgifter under de senaste två åren: @ I vilken grad har du fått väsentligt utökade arbetsuppgifter?',\n",
    "        ['Beskrivning']] = 'Utökade arbetsuppgifter'"
   ]
  },
  {
   "cell_type": "code",
   "execution_count": 424,
   "metadata": {},
   "outputs": [],
   "source": [
    "df1.loc[df1['Enkättext'] == 'Under de senaste två åren: @ I vilken grad har du fått väsentligt utökade arbetsuppgifter?',\n",
    "        ['Beskrivning']] = 'Utökade arbetsuppgifter'"
   ]
  },
  {
   "cell_type": "code",
   "execution_count": 425,
   "metadata": {},
   "outputs": [],
   "source": [
    "df1.loc[df1['Enkättext'] == 'Följande frågor gäller din arbetsplats/dina arbetsplatser under de två senaste åren: @ Har du fått väsentligt minskade arbetsuppgifter?',\n",
    "        ['Beskrivning']] = 'Minskade arbetsuppgifter'"
   ]
  },
  {
   "cell_type": "code",
   "execution_count": 426,
   "metadata": {},
   "outputs": [],
   "source": [
    "df1.loc[df1['Enkättext'] == 'Följande frågor gäller din arbetsplats/dina arbetsplatser under de senaste två åren: @ Har du fått väsentligt minskade arbetsuppgifter?',\n",
    "        ['Beskrivning']] = 'Minskade arbetsuppgifter'"
   ]
  },
  {
   "cell_type": "code",
   "execution_count": 427,
   "metadata": {},
   "outputs": [],
   "source": [
    "df1.loc[df1['Enkättext'] == 'Följande frågor gäller din arbetsplats under de senaste två åren innan du slutade arbeta @ Fick du väsentligt minskade arbetsuppgifter?',\n",
    "        ['Beskrivning']] = 'Minskade arbetsuppgifter'"
   ]
  },
  {
   "cell_type": "code",
   "execution_count": 428,
   "metadata": {},
   "outputs": [],
   "source": [
    "df1.loc[df1['Enkättext'] == 'Följande frågor gäller din arbetsplats/dina arbetsplatser och dina arbetsuppgifter under de senaste två åren: @ I vilken grad har du fått väsentligt minskade arbetsuppgifter?',\n",
    "        ['Beskrivning']] = 'Minskade arbetsuppgifter'"
   ]
  },
  {
   "cell_type": "code",
   "execution_count": 429,
   "metadata": {},
   "outputs": [],
   "source": [
    "df1.loc[df1['Enkättext'] == 'Under de senaste två åren: @ I vilken grad har du fått väsentligt minskade arbetsuppgifter?',\n",
    "        ['Beskrivning']] = 'Minskade arbetsuppgifter'"
   ]
  },
  {
   "cell_type": "code",
   "execution_count": 430,
   "metadata": {},
   "outputs": [],
   "source": [
    "df1.loc[df1['Enkättext'] == 'Följande frågor gäller din arbetsplats/dina arbetsplatser under de två senaste åren: @ Har du fått väsentligt förändrade arbetsuppgifter?',\n",
    "        ['Beskrivning']] = 'Förändrade arbetsuppgifter'"
   ]
  },
  {
   "cell_type": "code",
   "execution_count": 431,
   "metadata": {},
   "outputs": [],
   "source": [
    "df1.loc[df1['Enkättext'] == 'Följande frågor gäller din arbetsplats/dina arbetsplatser under de senaste två åren: @ Har du fått väsentligt förändrade arbetsuppgifter?',\n",
    "        ['Beskrivning']] = 'Förändrade arbetsuppgifter'"
   ]
  },
  {
   "cell_type": "code",
   "execution_count": 432,
   "metadata": {},
   "outputs": [],
   "source": [
    "df1.loc[df1['Enkättext'] == 'Följande frågor gäller din arbetsplats/dina arbetsplatser och dina arbetsuppgifter under de senaste två åren: @ I vilken grad har du fått väsentligt annorlunda arbetsuppgifter?',\n",
    "        ['Beskrivning']] = 'Förändrade arbetsuppgifter'"
   ]
  },
  {
   "cell_type": "code",
   "execution_count": 433,
   "metadata": {},
   "outputs": [],
   "source": [
    "df1.loc[df1['Enkättext'] == 'Under de senaste två åren: @ Har du fått väsentligt förändrade arbetsuppgifter?',\n",
    "        ['Beskrivning']] = 'Förändrade arbetsuppgifter'"
   ]
  },
  {
   "cell_type": "code",
   "execution_count": 434,
   "metadata": {},
   "outputs": [],
   "source": [
    "df1.loc[df1['Enkättext'] == 'Följande frågor gäller din arbetsplats/dina arbetsplatser under de två senaste åren: @ Har det skett nyanställningar på arbetsplatsen?',\n",
    "        ['Beskrivning']] = 'Nyanställningar'"
   ]
  },
  {
   "cell_type": "code",
   "execution_count": 435,
   "metadata": {},
   "outputs": [],
   "source": [
    "df1.loc[df1['Enkättext'] == 'Följande frågor gäller din arbetsplats under de senaste två åren innan du slutade arbeta @ Skedde det nyanställningar på arbetsplatsen?',\n",
    "        ['Beskrivning']] = 'Nyanställningar'"
   ]
  },
  {
   "cell_type": "code",
   "execution_count": 436,
   "metadata": {},
   "outputs": [],
   "source": [
    "df1.loc[df1['Enkättext'] == 'Följande frågor gäller din arbetsplats/dina arbetsplatser under de senaste två åren: @ Har det skett nyanställningar på arbetsplatsen?',\n",
    "        ['Beskrivning']] = 'Nyanställningar'"
   ]
  },
  {
   "cell_type": "code",
   "execution_count": 437,
   "metadata": {},
   "outputs": [],
   "source": [
    "df1.loc[df1['Enkättext'] == 'Följande frågor gäller din arbetsplats/dina arbetsplatser och dina arbetsuppgifter under de senaste två åren: @ I vilken grad har det skett nyanställningar på arbetsplatsen?',\n",
    "        ['Beskrivning']] = 'Nyanställningar'"
   ]
  },
  {
   "cell_type": "code",
   "execution_count": 438,
   "metadata": {},
   "outputs": [],
   "source": [
    "df1.loc[df1['Enkättext'] == 'Under de senaste två åren: @ Har det skett nyanställningar på arbetsplatsen?',\n",
    "        ['Beskrivning']] = 'Nyanställningar'"
   ]
  },
  {
   "cell_type": "code",
   "execution_count": 439,
   "metadata": {},
   "outputs": [],
   "source": [
    "df1.loc[df1['Enkättext'] == 'Under de senaste två åren: @ I vilken grad har du fått väsentligt förändrade arbetsuppgifter?',\n",
    "        ['Beskrivning']] = 'Förändrade arbetsuppgifter'"
   ]
  },
  {
   "cell_type": "code",
   "execution_count": 440,
   "metadata": {},
   "outputs": [],
   "source": [
    "df1.loc[df1['Enkättext'] == 'Följande frågor gäller din arbetsplats/dina arbetsplatser och dina arbetsuppgifter under de senaste två åren: @ I vilken grad har det skett nyanställningar på arbetsplatsen(/arbetsplatserna)?',\n",
    "        ['Beskrivning']] = 'Nyanställningar'"
   ]
  },
  {
   "cell_type": "code",
   "execution_count": 441,
   "metadata": {},
   "outputs": [],
   "source": [
    "df1.loc[df1['Enkättext'] == 'Följande frågor gäller din arbetsplats/dina arbetsplatser under de två senaste åren: @ Har det skett nedskärningar av personal?',\n",
    "        ['Beskrivning']] = 'Nedskärningar'"
   ]
  },
  {
   "cell_type": "code",
   "execution_count": 442,
   "metadata": {},
   "outputs": [],
   "source": [
    "df1.loc[df1['Enkättext'] == 'Följande frågor gäller din arbetsplats under de senaste två åren innan du slutade arbeta @ Skedde det nedskärningar av personal?',\n",
    "        ['Beskrivning']] = 'Nedskärningar'"
   ]
  },
  {
   "cell_type": "code",
   "execution_count": 443,
   "metadata": {},
   "outputs": [],
   "source": [
    "df1.loc[df1['Enkättext'] == 'Följande frågor gäller din arbetsplats/dina arbetsplatser under de senaste två åren: @ Har det skett nedskärningar av personal?',\n",
    "        ['Beskrivning']] = 'Nedskärningar'"
   ]
  },
  {
   "cell_type": "code",
   "execution_count": 444,
   "metadata": {},
   "outputs": [],
   "source": [
    "df1.loc[df1['Enkättext'] == 'Följande frågor gäller din arbetsplats/dina arbetsplatser och dina arbetsuppgifter under de senaste två åren: @ I vilken grad har det skett nedskärningar av personal?',\n",
    "        ['Beskrivning']] = 'Nedskärningar'"
   ]
  },
  {
   "cell_type": "code",
   "execution_count": 445,
   "metadata": {},
   "outputs": [],
   "source": [
    "df1.loc[df1['Enkättext'] == 'Under de senaste två åren: @ Har det skett nedskärningar av personal?',\n",
    "        ['Beskrivning']] = 'Nedskärningar'"
   ]
  },
  {
   "cell_type": "code",
   "execution_count": 446,
   "metadata": {},
   "outputs": [],
   "source": [
    "df1.loc[df1['Enkättext'] == 'Följande frågor gäller din arbetsplats/dina arbetsplatser under de två senaste åren: @ Har det gjorts omplaceringar?',\n",
    "        ['Beskrivning']] = 'Omplaceringar'"
   ]
  },
  {
   "cell_type": "code",
   "execution_count": 447,
   "metadata": {},
   "outputs": [],
   "source": [
    "df1.loc[df1['Enkättext'] == 'Följande frågor gäller din arbetsplats under de senaste två åren innan du slutade arbeta @ Gjordes det omplaceringar?',\n",
    "        ['Beskrivning']] = 'Omplaceringar'"
   ]
  },
  {
   "cell_type": "code",
   "execution_count": 448,
   "metadata": {},
   "outputs": [],
   "source": [
    "df1.loc[df1['Enkättext'] == 'Följande frågor gäller din arbetsplats/dina arbetsplatser under de senaste två åren: @ Har det gjorts omplaceringar?',\n",
    "        ['Beskrivning']] = 'Omplaceringar'"
   ]
  },
  {
   "cell_type": "code",
   "execution_count": 449,
   "metadata": {},
   "outputs": [],
   "source": [
    "df1.loc[df1['Enkättext'] == 'Följande frågor gäller din arbetsplats/dina arbetsplatser och dina arbetsuppgifter under de senaste två åren: @ I vilken grad har det gjorts omplaceringar?',\n",
    "        ['Beskrivning']] = 'Omplaceringar'"
   ]
  },
  {
   "cell_type": "code",
   "execution_count": 450,
   "metadata": {},
   "outputs": [],
   "source": [
    "df1.loc[df1['Enkättext'] == 'Under de senaste två åren: @ Har det gjorts omplaceringar?',\n",
    "        ['Beskrivning']] = 'Omplaceringar'"
   ]
  },
  {
   "cell_type": "code",
   "execution_count": 451,
   "metadata": {},
   "outputs": [],
   "source": [
    "df1.loc[df1['Enkättext'] == 'Följande frågor gäller din arbetsplats/dina arbetsplatser under de två senaste åren: @ Har din arbetsplats bytt ägare/huvudman?',\n",
    "        ['Beskrivning']] = 'Bytt ägare/huvudman'"
   ]
  },
  {
   "cell_type": "code",
   "execution_count": 452,
   "metadata": {},
   "outputs": [],
   "source": [
    "df1.loc[df1['Enkättext'] == 'Följande frågor gäller din arbetsplats under de senaste två åren innan du slutade arbeta @ Bytte din arbetsplats ägare/huvudman?',\n",
    "        ['Beskrivning']] = 'Bytt ägare/huvudman'"
   ]
  },
  {
   "cell_type": "code",
   "execution_count": 453,
   "metadata": {},
   "outputs": [],
   "source": [
    "df1.loc[df1['Enkättext'] == 'Följande frågor gäller din arbetsplats/dina arbetsplatser under de två senaste åren: @ Har din(a) arbetsplats(er) bytt ägare/huvudman?',\n",
    "        ['Beskrivning']] = 'Bytt ägare/huvudman'"
   ]
  },
  {
   "cell_type": "code",
   "execution_count": 454,
   "metadata": {},
   "outputs": [],
   "source": [
    "df1.loc[df1['Enkättext'] == 'Följande frågor gäller din arbetsplats/dina arbetsplatser under de två senaste åren: @ Har det skett omorganisation(er) på din(a) arbetsplats(er)?',\n",
    "        ['Beskrivning']] = 'Omorganisation'"
   ]
  },
  {
   "cell_type": "code",
   "execution_count": 455,
   "metadata": {},
   "outputs": [],
   "source": [
    "df1.loc[df1['Enkättext'] == 'Följande frågor gäller din arbetsplats/dina arbetsplatser under de två senaste åren: @ Har din arbetsgrupp (eller delar av den) slagits samman med en annan arbetsgrupp eller andra arbetsenheter?',\n",
    "        ['Beskrivning']] = 'Arbetsgrupp sammanslagning'"
   ]
  },
  {
   "cell_type": "code",
   "execution_count": 456,
   "metadata": {},
   "outputs": [],
   "source": [
    "df1.loc[df1['Enkättext'] == 'Vad har du för närvarande för arbetstitel? (Ange t.ex. \"skomakare\", \"lagerförman\", \"sjuksköterska\" eller \"domprost\".)',\n",
    "        ['Beskrivning']] = 'Arbetstitel'"
   ]
  },
  {
   "cell_type": "code",
   "execution_count": 457,
   "metadata": {},
   "outputs": [],
   "source": [
    "df1.loc[df1['Enkättext'] == 'Vad har du för yrke i grunden (om det skiljer sig från din arbetstitel)? (Ange t.ex. \"snickare\", \"bibliotekarie\", \"läkare\" eller \"fil.dr. i arkeologi\".)',\n",
    "        ['Beskrivning']] = 'Yrke i grunden'"
   ]
  },
  {
   "cell_type": "code",
   "execution_count": 458,
   "metadata": {},
   "outputs": [],
   "source": [
    "df1.loc[df1['Enkättext'] == 'Hur bedömer du ditt allmänna hälsotillstånd?',\n",
    "        ['Beskrivning']] = 'Allmänt hälsotillstånd'"
   ]
  },
  {
   "cell_type": "code",
   "execution_count": 459,
   "metadata": {},
   "outputs": [],
   "source": [
    "df1.loc[df1['Enkättext'] == 'Har du någon långvarig sjukdom, några besvär efter olycksfall, något handikapp eller annan svaghet?',\n",
    "        ['Beskrivning']] = 'Sjukdom handikapp'"
   ]
  },
  {
   "cell_type": "code",
   "execution_count": 460,
   "metadata": {},
   "outputs": [],
   "source": [
    "df1.loc[df1['Enkättext'] == 'Har du eller har du haft någon eller några av följande långvariga och/eller allvarliga sjukdomar eller besvär under de senaste 2 åren? @ Fysiskt handikapp',\n",
    "        ['Beskrivning']] = 'Fysiskt handikapp'"
   ]
  },
  {
   "cell_type": "code",
   "execution_count": 461,
   "metadata": {},
   "outputs": [],
   "source": [
    "df1.loc[df1['Enkättext'] == 'Har du eller har du haft någon eller några av följande långvariga och/eller allvarliga sjukdomar eller besvär under de senaste 2 åren och hur mycket påverkade det i så fall ditt liv? @ Fysiskt handikapp',\n",
    "        ['Beskrivning']] = 'Fysiskt handikapp'"
   ]
  },
  {
   "cell_type": "code",
   "execution_count": 462,
   "metadata": {},
   "outputs": [],
   "source": [
    "df1.loc[df1['Enkättext'] == 'Först kommer några frågor om hur du känner dig efter arbetet så här års. Har du efter arbetet ont på något av följande ställen… @ ...övre delen av ryggen eller nacken?',\n",
    "        ['Beskrivning']] = 'Ont rygg nacke'"
   ]
  },
  {
   "cell_type": "code",
   "execution_count": 463,
   "metadata": {},
   "outputs": [],
   "source": [
    "df1.loc[df1['Enkättext'] == 'Har du ont på något av följande ställen...@ ...övre delen av ryggen eller nacken?',\n",
    "        ['Beskrivning']] = 'Ont rygg nacke'"
   ]
  },
  {
   "cell_type": "code",
   "execution_count": 464,
   "metadata": {},
   "outputs": [],
   "source": [
    "df1.loc[df1['Enkättext'] == 'Först kommer några frågor om hur du känner dig efter arbetet. Har du ont på något av följande ställen... @ ...övre delen av ryggen eller nacken?',\n",
    "        ['Beskrivning']] = 'Ont rygg nacke'"
   ]
  },
  {
   "cell_type": "code",
   "execution_count": 465,
   "metadata": {},
   "outputs": [],
   "source": [
    "df1.loc[df1['Enkättext'] == 'Först kommer några frågor om hur du känner dig efter arbetet så här års. Har du efter arbetet ont på något av följande ställen… @ ...nedre delen av ryggen?',\n",
    "        ['Beskrivning']] = 'Ont rygg nacke'"
   ]
  },
  {
   "cell_type": "code",
   "execution_count": 466,
   "metadata": {},
   "outputs": [],
   "source": [
    "df1.loc[df1['Enkättext'] == 'Har du ont på något av följande ställen...@ ...nedre delen av ryggen?',\n",
    "        ['Beskrivning']] = 'Ont rygg nacke'"
   ]
  },
  {
   "cell_type": "code",
   "execution_count": 467,
   "metadata": {},
   "outputs": [],
   "source": [
    "df1.loc[df1['Enkättext'] == 'Först kommer några frågor om hur du känner dig efter arbetet. Har du ont på något av följande ställen... @ ...nedre delen av ryggen?',\n",
    "        ['Beskrivning']] = 'Ont rygg nacke'"
   ]
  },
  {
   "cell_type": "code",
   "execution_count": 468,
   "metadata": {},
   "outputs": [],
   "source": [
    "df1.loc[df1['Enkättext'] == 'Först kommer några frågor om hur du känner dig efter arbetet så här års. Har du efter arbetet ont på något av följande ställen… @ ...axlar eller armar?',\n",
    "        ['Beskrivning']] = 'Ont axlat armar'"
   ]
  },
  {
   "cell_type": "code",
   "execution_count": 469,
   "metadata": {},
   "outputs": [],
   "source": [
    "df1.loc[df1['Enkättext'] == 'Har du ont på något av följande ställen...@ ...axlar eller armar?',\n",
    "        ['Beskrivning']] = 'Ont axlat armar'"
   ]
  },
  {
   "cell_type": "code",
   "execution_count": 470,
   "metadata": {},
   "outputs": [],
   "source": [
    "df1.loc[df1['Enkättext'] == 'Först kommer några frågor om hur du känner dig efter arbetet. Har du ont på något av följande ställen... @ ...axlar eller armar?',\n",
    "        ['Beskrivning']] = 'Ont axlat armar'"
   ]
  },
  {
   "cell_type": "code",
   "execution_count": 471,
   "metadata": {},
   "outputs": [],
   "source": [
    "df1.loc[df1['Enkättext'] == 'Har du under de senaste 3 månaderna… @ ...haft halsbränna, sura uppstötningar, sveda i maggropen eller orolig mage?',\n",
    "        ['Beskrivning']] = 'Ont mage'"
   ]
  },
  {
   "cell_type": "code",
   "execution_count": 472,
   "metadata": {},
   "outputs": [],
   "source": [
    "df1.loc[df1['Enkättext'] == 'Har du under de senaste 3 månaderna… @ ...varit trött och håglös?',\n",
    "        ['Beskrivning']] = 'Trött'"
   ]
  },
  {
   "cell_type": "code",
   "execution_count": 473,
   "metadata": {},
   "outputs": [],
   "source": [
    "df1.loc[df1['Enkättext'] == 'Har du under de senaste 3 månaderna haft följande sjukdomar eller besvär? @ Huvudvärk',\n",
    "        ['Beskrivning']] = 'Huvudvärk'"
   ]
  },
  {
   "cell_type": "code",
   "execution_count": 474,
   "metadata": {},
   "outputs": [],
   "source": [
    "df1.loc[df1['Enkättext'] == 'Lite mer om jobbet så här års @ Händer det att du, när du kommer hem ifrån arbetet är uttröttad i kroppen?',\n",
    "        ['Beskrivning']] = 'Trött i kroppen'"
   ]
  },
  {
   "cell_type": "code",
   "execution_count": 475,
   "metadata": {},
   "outputs": [],
   "source": [
    "df1.loc[df1['Enkättext'] == 'Lite mer om jobbet så här års @ Händer det att du inte kan koppla av tankarna från arbetet när du är ledig?',\n",
    "        ['Beskrivning']] = 'Ledig tänker på jobb'"
   ]
  },
  {
   "cell_type": "code",
   "execution_count": 476,
   "metadata": {},
   "outputs": [],
   "source": [
    "df1.loc[df1['Enkättext'] == 'Har du under de senaste 3 månaderna… @ ...haft problem med koncentrationen?',\n",
    "        ['Beskrivning']] = 'Problem koncentration'"
   ]
  },
  {
   "cell_type": "code",
   "execution_count": 477,
   "metadata": {},
   "outputs": [],
   "source": [
    "df1.loc[df1['Enkättext'] == 'Har du under de senaste 3 månaderna… @ ...haft svårt att fatta beslut?',\n",
    "        ['Beskrivning']] = 'Svårt fatta beslut'"
   ]
  },
  {
   "cell_type": "code",
   "execution_count": 478,
   "metadata": {},
   "outputs": [],
   "source": [
    "df1.loc[df1['Enkättext'] == 'Har du under de senaste 3 månaderna… @ ...haft minnessvårigheter?',\n",
    "        ['Beskrivning']] = 'Svårigheter minnet'"
   ]
  },
  {
   "cell_type": "code",
   "execution_count": 479,
   "metadata": {},
   "outputs": [],
   "source": [
    "df1.loc[df1['Enkättext'] == 'Har du under de senaste 3 månaderna… @ ....haft svårt att tänka klart?',\n",
    "        ['Beskrivning']] = 'Tänka klart'"
   ]
  },
  {
   "cell_type": "code",
   "execution_count": 480,
   "metadata": {},
   "outputs": [],
   "source": [
    "df1.loc[df1['Enkättext'] == 'Nedan följer ett antal påståenden om känslor som kan uppstå i samband med arbete. Läs igenom varje påstående och tänk efter om du har känt så om ditt arbete. Ange hur ofta du känt på dessa sätt i samband med ditt arbete. @ Jag känner mig känslomässigt tömd av mitt arbete',\n",
    "        ['Beskrivning']] = 'Arbete känslomässigt tömd'"
   ]
  },
  {
   "cell_type": "code",
   "execution_count": 481,
   "metadata": {},
   "outputs": [],
   "source": [
    "df1.loc[df1['Enkättext'] == 'Nedan följer ett antal påståenden om känslor som kan uppstå i samband med arbete. Läs igenom varje påstående och tänk efter om du har känt så om ditt arbete. Ange hur ofta du känt på dessa sätt i samband med ditt arbete. @ Jag känner mig känslomässigt tömd av mitt arbete.',\n",
    "        ['Beskrivning']] = 'Arbete känslomässigt tömd'"
   ]
  },
  {
   "cell_type": "code",
   "execution_count": 482,
   "metadata": {},
   "outputs": [],
   "source": [
    "df1.loc[df1['Enkättext'] == 'Nedan följer ett antal påståenden om känslor som kan uppstå i samband med arbete. Läs igenom varje påstående och tänk efter om du har känt så om ditt arbete. Ange hur ofta du känt på dessa sätt i samband med ditt arbete. @ Jag känner mig känslomässigt tömd',\n",
    "        ['Beskrivning']] = 'Arbete känslomässigt tömd'"
   ]
  },
  {
   "cell_type": "code",
   "execution_count": 483,
   "metadata": {},
   "outputs": [],
   "source": [
    "df1.loc[df1['Enkättext'] == 'Nedan följer ett antal påståenden om känslor som kan uppstå. Läs igenom varje påstående och tänk efter hur ofta du känt på dessa sätt. @ Ange hur ofta du känt på dessa sätt. @ Jag känner mig känslomässigt tömd.',\n",
    "        ['Beskrivning']] = 'Arbete känslomässigt tömd'"
   ]
  },
  {
   "cell_type": "code",
   "execution_count": 484,
   "metadata": {},
   "outputs": [],
   "source": [
    "df1.loc[df1['Enkättext'] == 'Nedan följer ett antal påståenden om känslor som kan uppstå. Ange hur ofta du känt på dessa sätt. @ Jag känner mig känslomässigt tömd.',\n",
    "        ['Beskrivning']] = 'Arbete känslomässigt tömd'"
   ]
  },
  {
   "cell_type": "code",
   "execution_count": 485,
   "metadata": {},
   "outputs": [],
   "source": [
    "df1.loc[df1['Enkättext'] == 'Nedan följer ett antal påståenden om känslor som kan uppstå i samband med arbete. Läs igenom varje påstående och tänk efter om du har känt så om ditt arbete. Ange hur ofta du känt på dessa sätt i samband med ditt arbete. @ Jag känner mig helt slut när arbetsdagen är över.',\n",
    "        ['Beskrivning']] = 'Utmattad efter arbete'"
   ]
  },
  {
   "cell_type": "code",
   "execution_count": 486,
   "metadata": {},
   "outputs": [],
   "source": [
    "df1.loc[df1['Enkättext'] == 'Nedan följer ett antal påståenden om känslor som kan uppstå i samband med arbete. Läs igenom varje påstående och tänk efter om du har känt så om ditt arbete. Ange hur ofta du känt på dessa sätt i samband med ditt arbete. @ Jag känner mig helt slut när dagen är över',\n",
    "        ['Beskrivning']] = 'Utmattad efter arbete'"
   ]
  },
  {
   "cell_type": "code",
   "execution_count": 487,
   "metadata": {},
   "outputs": [],
   "source": [
    "df1.loc[df1['Enkättext'] == 'Nedan följer ett antal påståenden om känslor som kan uppstå. Läs igenom varje påstående och tänk efter hur ofta du känt på dessa sätt. @ Ange hur ofta du känt på dessa sätt. @ Jag känner mig helt slut när arbetsdagen är över.',\n",
    "        ['Beskrivning']] = 'Utmattad efter arbete'"
   ]
  },
  {
   "cell_type": "code",
   "execution_count": 488,
   "metadata": {},
   "outputs": [],
   "source": [
    "df1.loc[df1['Enkättext'] == 'Nedan följer ett antal påståenden om känslor som kan uppstå. Ange hur ofta du känt på dessa sätt. @ Jag känner mig trött när jag går upp på morgonen för att möta en ny arbetsdag',\n",
    "        ['Beskrivning']] = 'Trött på morgonen'"
   ]
  },
  {
   "cell_type": "code",
   "execution_count": 489,
   "metadata": {},
   "outputs": [],
   "source": [
    "df1.loc[df1['Enkättext'] == 'Nedan följer ett antal påståenden om känslor som kan uppstå i samband med arbete. Läs igenom varje påstående och tänk efter om du har känt så om ditt arbete. Ange hur ofta du känt på dessa sätt i samband med ditt arbete. @ Jag känner mig trött när jag går upp på morgonen för att möta en ny arbetsdag.',\n",
    "        ['Beskrivning']] = 'Trött på morgonen'"
   ]
  },
  {
   "cell_type": "code",
   "execution_count": 490,
   "metadata": {},
   "outputs": [],
   "source": [
    "df1.loc[df1['Enkättext'] == 'Nedan följer ett antal påståenden om känslor som kan uppstå i samband med arbete. Läs igenom varje påstående och tänk efter om du har känt så om ditt arbete. Ange hur ofta du känt på dessa sätt i samband med ditt arbete. @ Jag känner mig trött när jag går upp på morgonen för att möta en ny dag',\n",
    "        ['Beskrivning']] = 'Trött på morgonen'"
   ]
  },
  {
   "cell_type": "code",
   "execution_count": 491,
   "metadata": {},
   "outputs": [],
   "source": [
    "df1.loc[df1['Enkättext'] == 'Nedan följer ett antal påståenden om känslor som kan uppstå i samband med arbete. Läs igenom varje påstående och tänk efter om du har känt så om ditt arbete. Ange hur ofta du känt på dessa sätt i samband med ditt arbete. @ Jag känner mig trött när jag går upp på morgonen för att möta en ny arbetsdag.',\n",
    "        ['Beskrivning']] = 'Trött på morgonen'"
   ]
  },
  {
   "cell_type": "code",
   "execution_count": 492,
   "metadata": {},
   "outputs": [],
   "source": [
    "df1.loc[df1['Enkättext'] == 'Nedan följer ett antal påståenden om känslor som kan uppstå i samband med arbete. Läs igenom varje påstående och tänk efter om du har känt så om ditt arbete. Ange hur ofta du känt på dessa sätt i samband med ditt arbete. @ Jag känner mig trött när jag går upp på morgonen för att möta en ny dag',\n",
    "        ['Beskrivning']] = 'Trött på morgonen'"
   ]
  },
  {
   "cell_type": "code",
   "execution_count": 493,
   "metadata": {},
   "outputs": [],
   "source": [
    "df1.loc[df1['Enkättext'] == 'Nedan följer ett antal påståenden om känslor som kan uppstå. Läs igenom varje påstående och tänk efter hur ofta du känt på dessa sätt. @ Ange hur ofta du känt på dessa sätt. @ Jag känner mig trött när jag går upp på morgonen för att möta en ny dag.',\n",
    "        ['Beskrivning']] = 'Trött på morgonen'"
   ]
  },
  {
   "cell_type": "code",
   "execution_count": 494,
   "metadata": {},
   "outputs": [],
   "source": [
    "df1.loc[df1['Enkättext'] == 'Nedan följer ett antal påståenden om känslor som kan uppstå. Ange hur ofta du känt på dessa sätt. @ Jag känner mig trött när jag går upp på morgonen för att möta en ny dag.',\n",
    "        ['Beskrivning']] = 'Trött på morgonen'"
   ]
  },
  {
   "cell_type": "code",
   "execution_count": 495,
   "metadata": {},
   "outputs": [],
   "source": [
    "df1.loc[df1['Enkättext'] == 'Nedan följer ett antal påståenden om känslor som kan uppstå i samband med arbete. Läs igenom varje påstående och tänk efter om du har känt så om ditt arbete. Ange hur ofta du känt på dessa sätt i samband med ditt arbete. @ Att arbeta under en hel dag är verkligen påfrestande för mig.',\n",
    "        ['Beskrivning']] = 'Arbeta heldag påfrestande'"
   ]
  },
  {
   "cell_type": "code",
   "execution_count": 496,
   "metadata": {},
   "outputs": [],
   "source": [
    "df1.loc[df1['Enkättext'] == 'Nedan följer ett antal påståenden om känslor som kan uppstå i samband med arbete. Läs igenom varje påstående och tänk efter om du har känt så om ditt arbete. Ange hur ofta du känt på dessa sätt i samband med ditt arbete. @ Att arbeta under en hel dag skulle vara verkligen påfrestande för mig',\n",
    "        ['Beskrivning']] = 'Arbeta heldag påfrestande'"
   ]
  },
  {
   "cell_type": "code",
   "execution_count": 497,
   "metadata": {},
   "outputs": [],
   "source": [
    "df1.loc[df1['Enkättext'] == 'Nedan följer ett antal påståenden om känslor som kan uppstå. Läs igenom varje påstående och tänk efter hur ofta du känt på dessa sätt. @ Ange hur ofta du känt på dessa sätt. @ Att arbeta under en hel dag skulle vara verkligen påfrestande för mig.',\n",
    "        ['Beskrivning']] = 'Arbeta heldag påfrestande'"
   ]
  },
  {
   "cell_type": "code",
   "execution_count": 498,
   "metadata": {},
   "outputs": [],
   "source": [
    "df1.loc[df1['Enkättext'] == 'Nedan följer ett antal påståenden om känslor som kan uppstå. Ange hur ofta du känt på dessa sätt. @ Att arbeta under en hel dag skulle vara verkligen påfrestande för mig.',\n",
    "        ['Beskrivning']] = 'Arbeta heldag påfrestande'"
   ]
  },
  {
   "cell_type": "code",
   "execution_count": 499,
   "metadata": {},
   "outputs": [],
   "source": [
    "df1.loc[df1['Enkättext'] == 'Nedan följer ett antal påståenden om känslor som kan uppstå i samband med arbete. Läs igenom varje påstående och tänk efter om du har känt så om ditt arbete. Ange hur ofta du känt på dessa sätt i samband med ditt arbete. @ Jag känner mig utbränd av mitt arbete.',\n",
    "        ['Beskrivning']] = 'Känner mig utbränd'"
   ]
  },
  {
   "cell_type": "code",
   "execution_count": 500,
   "metadata": {},
   "outputs": [],
   "source": [
    "df1.loc[df1['Enkättext'] == 'Nedan följer ett antal påståenden om känslor som kan uppstå i samband med arbete. Läs igenom varje påstående och tänk efter om du har känt så om ditt arbete. Ange hur ofta du känt på dessa sätt i samband med ditt arbete. @ Jag känner mig utbränd',\n",
    "        ['Beskrivning']] = 'Känner mig utbränd'"
   ]
  },
  {
   "cell_type": "code",
   "execution_count": 501,
   "metadata": {},
   "outputs": [],
   "source": [
    "df1.loc[df1['Enkättext'] == 'Nedan följer ett antal påståenden om känslor som kan uppstå. Läs igenom varje påstående och tänk efter hur ofta du känt på dessa sätt. @ Ange hur ofta du känt på dessa sätt. @ Jag känner mig utbränd.',\n",
    "        ['Beskrivning']] = 'Känner mig utbränd'"
   ]
  },
  {
   "cell_type": "code",
   "execution_count": 502,
   "metadata": {},
   "outputs": [],
   "source": [
    "df1.loc[df1['Enkättext'] == 'Nedan följer ett antal påståenden om känslor som kan uppstå. Ange hur ofta du känt på dessa sätt. @ Jag känner mig utbränd.',\n",
    "        ['Beskrivning']] = 'Känner mig utbränd'"
   ]
  },
  {
   "cell_type": "code",
   "execution_count": 503,
   "metadata": {},
   "outputs": [],
   "source": [
    "df1.loc[df1['Enkättext'] == 'Hur bedömer du din arbetsförmåga när det gäller fysiska krav?',\n",
    "        ['Beskrivning']] = 'Förmåga fysiska krav'"
   ]
  },
  {
   "cell_type": "code",
   "execution_count": 504,
   "metadata": {},
   "outputs": [],
   "source": [
    "df1.loc[df1['Enkättext'] == 'Om arbetsförmåga @ Hur bedömer du din arbetsförmåga när det gäller fysiska krav?',\n",
    "        ['Beskrivning']] = 'Förmåga fysiska krav'"
   ]
  },
  {
   "cell_type": "code",
   "execution_count": 505,
   "metadata": {},
   "outputs": [],
   "source": [
    "df1.loc[df1['Enkättext'] == 'Har du av läkare informerats om att du @ ...har högt blodtryck?',\n",
    "        ['Beskrivning']] = 'Högt blodtryck'"
   ]
  },
  {
   "cell_type": "code",
   "execution_count": 506,
   "metadata": {},
   "outputs": [],
   "source": [
    "df1.loc[df1['Enkättext'] == 'Har du eller har du haft någon eller några av följande långvariga och/eller allvarliga sjukdomar eller besvär under de senaste 2 åren? @ Högt blodtryck',\n",
    "        ['Beskrivning']] = 'Högt blodtryck'"
   ]
  },
  {
   "cell_type": "code",
   "execution_count": 507,
   "metadata": {},
   "outputs": [],
   "source": [
    "df1.loc[df1['Enkättext'] == 'Har du eller har du haft någon eller några av följande långvariga och/eller allvarliga sjukdomar eller besvär under de senaste 2 åren och hur mycket påverkade det i så fall ditt liv? @ Högt blodtryck',\n",
    "        ['Beskrivning']] = 'Högt blodtryck'"
   ]
  },
  {
   "cell_type": "code",
   "execution_count": 508,
   "metadata": {},
   "outputs": [],
   "source": [
    "df1.loc[df1['Enkättext'] == 'Har du av läkare informerats om att du @ ...har hjärtsjukdom?',\n",
    "        ['Beskrivning']] = 'Hjärtsjukdom'"
   ]
  },
  {
   "cell_type": "code",
   "execution_count": 509,
   "metadata": {},
   "outputs": [],
   "source": [
    "df1.loc[df1['Enkättext'] == 'Har du eller har du haft någon eller några av följande långvariga och/eller allvarliga sjukdomar eller besvär under de senaste 2 åren? @ Hjärt- kärlsjukdom',\n",
    "        ['Beskrivning']] = 'Hjärtsjukdom'"
   ]
  },
  {
   "cell_type": "code",
   "execution_count": 510,
   "metadata": {},
   "outputs": [],
   "source": [
    "df1.loc[df1['Enkättext'] == 'Har du eller har du haft någon eller några av följande långvariga och/eller allvarliga sjukdomar eller besvär under de senaste 2 åren och hur mycket påverkade det i så fall ditt liv? @ Hjärt- kärlsjukdom',\n",
    "        ['Beskrivning']] = 'Hjärtsjukdom'"
   ]
  },
  {
   "cell_type": "code",
   "execution_count": 511,
   "metadata": {},
   "outputs": [],
   "source": [
    "df1.loc[df1['Enkättext'] == 'Har du av läkare informerats om att du @ ...har diabetes?',\n",
    "        ['Beskrivning']] = 'Diabetes'"
   ]
  },
  {
   "cell_type": "code",
   "execution_count": 512,
   "metadata": {},
   "outputs": [],
   "source": [
    "df1.loc[df1['Enkättext'] == 'Har du eller har du haft någon eller några av följande långvariga och/eller allvarliga sjukdomar eller besvär under de senaste 2 åren? @ Diabetes',\n",
    "        ['Beskrivning']] = 'Diabetes'"
   ]
  },
  {
   "cell_type": "code",
   "execution_count": 513,
   "metadata": {},
   "outputs": [],
   "source": [
    "df1.loc[df1['Enkättext'] == 'Har du eller har du haft någon eller några av följande långvariga och/eller allvarliga sjukdomar eller besvär under de senaste 2 åren och hur mycket påverkade det i så fall ditt liv? @ Diabetes',\n",
    "        ['Beskrivning']] = 'Diabetes'"
   ]
  },
  {
   "cell_type": "code",
   "execution_count": 514,
   "metadata": {},
   "outputs": [],
   "source": [
    "df1.loc[df1['Enkättext'] == 'Har du av läkare informerats om att du @ ...borde börja motionera?',\n",
    "        ['Beskrivning']] = 'Diabetes'"
   ]
  },
  {
   "cell_type": "code",
   "execution_count": 515,
   "metadata": {},
   "outputs": [],
   "source": [
    "df1.loc[df1['Enkättext'] == 'Hur lång är du? @ cm',\n",
    "        ['Beskrivning']] = 'Längd'"
   ]
  },
  {
   "cell_type": "code",
   "execution_count": 516,
   "metadata": {},
   "outputs": [],
   "source": [
    "df1.loc[df1['Enkättext'] == 'Hur mycket väger du? @ kg',\n",
    "        ['Beskrivning']] = 'Vikt'"
   ]
  },
  {
   "cell_type": "code",
   "execution_count": 517,
   "metadata": {},
   "outputs": [],
   "source": [
    "df1.loc[df1['Enkättext'] == 'Hur mycket väger du? Om du är gravid, fyll i din vikt innan du blev gravid @ kg',\n",
    "        ['Beskrivning']] = 'Vikt'"
   ]
  },
  {
   "cell_type": "code",
   "execution_count": 518,
   "metadata": {},
   "outputs": [],
   "source": [
    "df1.loc[df1['Enkättext'] == 'Hur många gånger har du varit sjukskriven en vecka eller mindre under de senaste 12 månaderna? Räkna inte med vård av sjukt barn i ditt svar.',\n",
    "        ['Beskrivning']] = 'Sjukskriven'"
   ]
  },
  {
   "cell_type": "code",
   "execution_count": 519,
   "metadata": {},
   "outputs": [],
   "source": [
    "df1.loc[df1['Enkättext'] == 'Denna fråga gäller inte dig som varit pensionerad eller hemarbetande i mer än ett år. @ Hur många gånger har du varit sjukskriven en vecka eller mindre under de senaste 12 månaderna? Räkna inte med vård av sjukt barn i ditt svar.',\n",
    "        ['Beskrivning']] = 'Sjukskriven'"
   ]
  },
  {
   "cell_type": "code",
   "execution_count": 520,
   "metadata": {},
   "outputs": [],
   "source": [
    "df1.loc[df1['Enkättext'] == 'Om sjukskrivning, sjuknärvaro och vård av sjukt barn @ Hur många gånger har du varit sjukskriven en vecka eller mindre under de senaste 12 månaderna? Räkna inte med vård av sjukt barn i ditt svar.',\n",
    "        ['Beskrivning']] = 'Sjukskriven'"
   ]
  },
  {
   "cell_type": "code",
   "execution_count": 521,
   "metadata": {},
   "outputs": [],
   "source": [
    "df1.loc[df1['Enkättext'] == 'Om sjukskrivning och vård av sjukt barn @ Hur många gånger har du varit sjukskriven en vecka eller mindre under de senaste 12 månaderna? Räkna inte med vård av sjukt barn i ditt svar.',\n",
    "        ['Beskrivning']] = 'Sjukskriven'"
   ]
  },
  {
   "cell_type": "code",
   "execution_count": 522,
   "metadata": {},
   "outputs": [],
   "source": [
    "df1.loc[df1['Enkättext'] == 'Om sjukskrivning @ Hur många gånger har du varit sjukskriven en vecka eller mindre under de senaste 12 månaderna? Räkna inte med vård av sjukt barn i ditt svar.',\n",
    "        ['Beskrivning']] = 'Sjukskriven'"
   ]
  },
  {
   "cell_type": "code",
   "execution_count": 523,
   "metadata": {},
   "outputs": [],
   "source": [
    "df1.loc[df1['Enkättext'] == 'Hur många gånger har du varit sjukskriven längre än en vecka under de senaste 12 månaderna? Räkna inte med vård av sjukt barn i ditt svar.',\n",
    "        ['Beskrivning']] = 'Sjukskriven'"
   ]
  },
  {
   "cell_type": "code",
   "execution_count": 524,
   "metadata": {},
   "outputs": [],
   "source": [
    "df1.loc[df1['Enkättext'] == 'Denna fråga gäller inte dig som varit pensionerad eller hemarbetande i mer än ett år. @ Hur många gånger har du varit sjukskriven längre än en vecka under de senaste 12 månaderna? Räkna inte med vård av sjukt barn i ditt svar.',\n",
    "        ['Beskrivning']] = 'Sjukskriven'"
   ]
  },
  {
   "cell_type": "code",
   "execution_count": 525,
   "metadata": {},
   "outputs": [],
   "source": [
    "df1.loc[df1['Enkättext'] == 'Om sjukskrivning, sjuknärvaro och vård av sjukt barn @ Hur många gånger har du varit sjukskriven längre än en vecka under de senaste 12 månaderna? Räkna inte med vård av sjukt barn i ditt svar.',\n",
    "        ['Beskrivning']] = 'Sjukskriven'"
   ]
  },
  {
   "cell_type": "code",
   "execution_count": 526,
   "metadata": {},
   "outputs": [],
   "source": [
    "df1.loc[df1['Enkättext'] == 'Om sjukskrivning och vård av sjukt barn @ Hur många gånger har du varit sjukskriven längre än en vecka under de senaste 12 månaderna? Räkna inte med vård av sjukt barn i ditt svar.',\n",
    "        ['Beskrivning']] = 'Sjukskriven'"
   ]
  },
  {
   "cell_type": "code",
   "execution_count": 527,
   "metadata": {},
   "outputs": [],
   "source": [
    "df1.loc[df1['Enkättext'] == 'Om sjukskrivning @ Hur många gånger har du varit sjukskriven längre än en vecka under de senaste 12 månaderna? Räkna inte med vård av sjukt barn i ditt svar.',\n",
    "        ['Beskrivning']] = 'Sjukskriven'"
   ]
  },
  {
   "cell_type": "code",
   "execution_count": 528,
   "metadata": {},
   "outputs": [],
   "source": [
    "df1.loc[df1['Enkättext'] == 'Hur många gånger har du varit hemma för vård av sjukt barn under de senaste 12 månaderna?',\n",
    "        ['Beskrivning']] = 'Hemma vård av sjukt barn'"
   ]
  },
  {
   "cell_type": "code",
   "execution_count": 529,
   "metadata": {},
   "outputs": [],
   "source": [
    "df1.loc[df1['Enkättext'] == 'Denna fråga gäller inte dig som varit pensionerad eller hemarbetande i mer än ett år. @ Hur många gånger har du varit hemma för vård av sjukt barn under de senaste 12 månaderna?',\n",
    "        ['Beskrivning']] = 'Hemma vård av sjukt barn'"
   ]
  },
  {
   "cell_type": "code",
   "execution_count": 530,
   "metadata": {},
   "outputs": [],
   "source": [
    "df1.loc[df1['Enkättext'] == 'Om sjukskrivning, sjuknärvaro och vård av sjukt barn @ Hur många gånger har du varit hemma för vård av sjukt barn under de senaste 12 månaderna?',\n",
    "        ['Beskrivning']] = 'Hemma vård av sjukt barn'"
   ]
  },
  {
   "cell_type": "code",
   "execution_count": 531,
   "metadata": {},
   "outputs": [],
   "source": [
    "df1.loc[df1['Enkättext'] == 'Om sjukskrivning och vård av sjukt barn @ Hur många gånger har du varit hemma för vård av sjukt barn under de senaste 12 månaderna?',\n",
    "        ['Beskrivning']] = 'Hemma vård av sjukt barn'"
   ]
  },
  {
   "cell_type": "code",
   "execution_count": 532,
   "metadata": {},
   "outputs": [],
   "source": [
    "df1.loc[df1['Enkättext'] == 'Om sjukskrivning @ Hur många gånger har du varit hemma för vård av sjukt barn under de senaste 12 månaderna?',\n",
    "        ['Beskrivning']] = 'Hemma vård av sjukt barn'"
   ]
  },
  {
   "cell_type": "code",
   "execution_count": 533,
   "metadata": {},
   "outputs": [],
   "source": [
    "df1.loc[df1['Enkättext'] == 'Hur många gånger under de senaste 12 månaderna har det hänt att du gått till arbetet trots att du ansett att du med tanke på ditt hälsotillstånd egentligen borde ha sjukskrivit dig?',\n",
    "        ['Beskrivning']] = 'Gå till jobb sjuk'"
   ]
  },
  {
   "cell_type": "code",
   "execution_count": 534,
   "metadata": {},
   "outputs": [],
   "source": [
    "df1.loc[df1['Enkättext'] == 'Denna fråga gäller inte dig som varit pensionerad eller hemarbetande i mer än ett år. @ Hur många gånger under de senaste 12 månaderna har det hänt att du gått till arbetet trots att du ansett att du med tanke på ditt hälsotillstånd egentligen borde ha sjukskrivit dig?',\n",
    "        ['Beskrivning']] = 'Gå till jobb sjuk'"
   ]
  },
  {
   "cell_type": "code",
   "execution_count": 535,
   "metadata": {},
   "outputs": [],
   "source": [
    "df1.loc[df1['Enkättext'] == 'Om sjukskrivning, sjuknärvaro och vård av sjukt barn @ Hur många gånger under de senaste 12 månaderna har det hänt att du gått till arbetet trots att du ansett att du med tanke på ditt hälsotillstånd egentligen borde ha sjukskrivit dig?',\n",
    "        ['Beskrivning']] = 'Gå till jobb sjuk'"
   ]
  },
  {
   "cell_type": "code",
   "execution_count": 538,
   "metadata": {},
   "outputs": [],
   "source": [
    "df1.loc[df1['Enkättext'] == 'Ny teknik och mera flexibla arbetsförhållanden har förändrat arbetslivet för många människor. Teknik kan vara till stor hjälp, men kan också leda till nya typer av stress. @ Skatta i vilken mån du är stressad av… @ ... krav på att alltid vara tillgänglig i arbetsfrågor både under arbetstid och på fritiden?',\n",
    "        ['Beskrivning']] = 'Krav alltid tillgänglig'"
   ]
  },
  {
   "cell_type": "code",
   "execution_count": 557,
   "metadata": {},
   "outputs": [
    {
     "data": {
      "text/html": [
       "<div>\n",
       "<style scoped>\n",
       "    .dataframe tbody tr th:only-of-type {\n",
       "        vertical-align: middle;\n",
       "    }\n",
       "\n",
       "    .dataframe tbody tr th {\n",
       "        vertical-align: top;\n",
       "    }\n",
       "\n",
       "    .dataframe thead th {\n",
       "        text-align: right;\n",
       "    }\n",
       "</style>\n",
       "<table border=\"1\" class=\"dataframe\">\n",
       "  <thead>\n",
       "    <tr style=\"text-align: right;\">\n",
       "      <th></th>\n",
       "      <th>Beskrivningar</th>\n",
       "    </tr>\n",
       "  </thead>\n",
       "  <tbody>\n",
       "    <tr>\n",
       "      <th>0</th>\n",
       "      <td>Befordran</td>\n",
       "    </tr>\n",
       "    <tr>\n",
       "      <th>1</th>\n",
       "      <td>Annan tjänsteposition</td>\n",
       "    </tr>\n",
       "    <tr>\n",
       "      <th>2</th>\n",
       "      <td>Förändrad tjänsteposition</td>\n",
       "    </tr>\n",
       "    <tr>\n",
       "      <th>3</th>\n",
       "      <td>Sämre tjänsteposition</td>\n",
       "    </tr>\n",
       "    <tr>\n",
       "      <th>4</th>\n",
       "      <td>Krav uppdaterad i arbete</td>\n",
       "    </tr>\n",
       "    <tr>\n",
       "      <th>5</th>\n",
       "      <td>Tillräckliga resurser</td>\n",
       "    </tr>\n",
       "    <tr>\n",
       "      <th>6</th>\n",
       "      <td>Tillräckliga rättigheter beslut</td>\n",
       "    </tr>\n",
       "    <tr>\n",
       "      <th>7</th>\n",
       "      <td>Kapacitet tillvaratas inte</td>\n",
       "    </tr>\n",
       "    <tr>\n",
       "      <th>8</th>\n",
       "      <td>Flytt mot egen vilja</td>\n",
       "    </tr>\n",
       "    <tr>\n",
       "      <th>9</th>\n",
       "      <td>Hot om uppsägning</td>\n",
       "    </tr>\n",
       "    <tr>\n",
       "      <th>10</th>\n",
       "      <td>Själv planera arbete</td>\n",
       "    </tr>\n",
       "    <tr>\n",
       "      <th>11</th>\n",
       "      <td>Uppmuntran från chefer</td>\n",
       "    </tr>\n",
       "    <tr>\n",
       "      <th>12</th>\n",
       "      <td>Uppmuntran från arbetskamrater</td>\n",
       "    </tr>\n",
       "    <tr>\n",
       "      <th>13</th>\n",
       "      <td>Kritiska synpunkter</td>\n",
       "    </tr>\n",
       "    <tr>\n",
       "      <th>14</th>\n",
       "      <td>Arbeta fort</td>\n",
       "    </tr>\n",
       "    <tr>\n",
       "      <th>15</th>\n",
       "      <td>Arbeta mycket fort</td>\n",
       "    </tr>\n",
       "    <tr>\n",
       "      <th>16</th>\n",
       "      <td>Arbeta mycket hårt</td>\n",
       "    </tr>\n",
       "    <tr>\n",
       "      <th>17</th>\n",
       "      <td>För stor arbetsinsats</td>\n",
       "    </tr>\n",
       "    <tr>\n",
       "      <th>18</th>\n",
       "      <td>Empati andras situation</td>\n",
       "    </tr>\n",
       "    <tr>\n",
       "      <th>19</th>\n",
       "      <td>Tillräckligt med tid</td>\n",
       "    </tr>\n",
       "    <tr>\n",
       "      <th>20</th>\n",
       "      <td>Motstridiga krav</td>\n",
       "    </tr>\n",
       "    <tr>\n",
       "      <th>21</th>\n",
       "      <td>Lära nya saker</td>\n",
       "    </tr>\n",
       "    <tr>\n",
       "      <th>22</th>\n",
       "      <td>Skicklighet</td>\n",
       "    </tr>\n",
       "    <tr>\n",
       "      <th>23</th>\n",
       "      <td>Påhittighet</td>\n",
       "    </tr>\n",
       "    <tr>\n",
       "      <th>24</th>\n",
       "      <td>Arbete social kompetens</td>\n",
       "    </tr>\n",
       "    <tr>\n",
       "      <th>25</th>\n",
       "      <td>Arbete upprepning</td>\n",
       "    </tr>\n",
       "    <tr>\n",
       "      <th>26</th>\n",
       "      <td>Arbete bestämma hur</td>\n",
       "    </tr>\n",
       "    <tr>\n",
       "      <th>27</th>\n",
       "      <td>Arbete bestämma vad</td>\n",
       "    </tr>\n",
       "    <tr>\n",
       "      <th>28</th>\n",
       "      <td>Arbete känslomässigt svårt</td>\n",
       "    </tr>\n",
       "    <tr>\n",
       "      <th>29</th>\n",
       "      <td>Arbete skapa arbetsuppgifter</td>\n",
       "    </tr>\n",
       "    <tr>\n",
       "      <th>...</th>\n",
       "      <td>...</td>\n",
       "    </tr>\n",
       "    <tr>\n",
       "      <th>197</th>\n",
       "      <td>Arbetstitel</td>\n",
       "    </tr>\n",
       "    <tr>\n",
       "      <th>198</th>\n",
       "      <td>Yrke i grunden</td>\n",
       "    </tr>\n",
       "    <tr>\n",
       "      <th>199</th>\n",
       "      <td>Allmänt hälsotillstånd</td>\n",
       "    </tr>\n",
       "    <tr>\n",
       "      <th>200</th>\n",
       "      <td>Sjukdom handikapp</td>\n",
       "    </tr>\n",
       "    <tr>\n",
       "      <th>201</th>\n",
       "      <td>Fysiskt handikapp</td>\n",
       "    </tr>\n",
       "    <tr>\n",
       "      <th>202</th>\n",
       "      <td>Ont rygg nacke</td>\n",
       "    </tr>\n",
       "    <tr>\n",
       "      <th>203</th>\n",
       "      <td>Ont axlat armar</td>\n",
       "    </tr>\n",
       "    <tr>\n",
       "      <th>204</th>\n",
       "      <td>Ont mage</td>\n",
       "    </tr>\n",
       "    <tr>\n",
       "      <th>205</th>\n",
       "      <td>Trött</td>\n",
       "    </tr>\n",
       "    <tr>\n",
       "      <th>206</th>\n",
       "      <td>Huvudvärk</td>\n",
       "    </tr>\n",
       "    <tr>\n",
       "      <th>207</th>\n",
       "      <td>Trött i kroppen</td>\n",
       "    </tr>\n",
       "    <tr>\n",
       "      <th>208</th>\n",
       "      <td>Ledig tänker på jobb</td>\n",
       "    </tr>\n",
       "    <tr>\n",
       "      <th>209</th>\n",
       "      <td>Problem koncentration</td>\n",
       "    </tr>\n",
       "    <tr>\n",
       "      <th>210</th>\n",
       "      <td>Svårt fatta beslut</td>\n",
       "    </tr>\n",
       "    <tr>\n",
       "      <th>211</th>\n",
       "      <td>Svårigheter minnet</td>\n",
       "    </tr>\n",
       "    <tr>\n",
       "      <th>212</th>\n",
       "      <td>Tänka klart</td>\n",
       "    </tr>\n",
       "    <tr>\n",
       "      <th>213</th>\n",
       "      <td>Arbete känslomässigt tömd</td>\n",
       "    </tr>\n",
       "    <tr>\n",
       "      <th>214</th>\n",
       "      <td>Utmattad efter arbete</td>\n",
       "    </tr>\n",
       "    <tr>\n",
       "      <th>215</th>\n",
       "      <td>Trött på morgonen</td>\n",
       "    </tr>\n",
       "    <tr>\n",
       "      <th>216</th>\n",
       "      <td>Arbeta heldag påfrestande</td>\n",
       "    </tr>\n",
       "    <tr>\n",
       "      <th>217</th>\n",
       "      <td>Känner mig utbränd</td>\n",
       "    </tr>\n",
       "    <tr>\n",
       "      <th>218</th>\n",
       "      <td>Förmåga fysiska krav</td>\n",
       "    </tr>\n",
       "    <tr>\n",
       "      <th>219</th>\n",
       "      <td>Högt blodtryck</td>\n",
       "    </tr>\n",
       "    <tr>\n",
       "      <th>220</th>\n",
       "      <td>Hjärtsjukdom</td>\n",
       "    </tr>\n",
       "    <tr>\n",
       "      <th>221</th>\n",
       "      <td>Diabetes</td>\n",
       "    </tr>\n",
       "    <tr>\n",
       "      <th>222</th>\n",
       "      <td>Längd</td>\n",
       "    </tr>\n",
       "    <tr>\n",
       "      <th>223</th>\n",
       "      <td>Vikt</td>\n",
       "    </tr>\n",
       "    <tr>\n",
       "      <th>224</th>\n",
       "      <td>Sjukskriven</td>\n",
       "    </tr>\n",
       "    <tr>\n",
       "      <th>225</th>\n",
       "      <td>Hemma vård av sjukt barn</td>\n",
       "    </tr>\n",
       "    <tr>\n",
       "      <th>226</th>\n",
       "      <td>Gå till jobb sjuk</td>\n",
       "    </tr>\n",
       "  </tbody>\n",
       "</table>\n",
       "<p>227 rows × 1 columns</p>\n",
       "</div>"
      ],
      "text/plain": [
       "                       Beskrivningar\n",
       "0                          Befordran\n",
       "1              Annan tjänsteposition\n",
       "2          Förändrad tjänsteposition\n",
       "3              Sämre tjänsteposition\n",
       "4           Krav uppdaterad i arbete\n",
       "5              Tillräckliga resurser\n",
       "6    Tillräckliga rättigheter beslut\n",
       "7         Kapacitet tillvaratas inte\n",
       "8               Flytt mot egen vilja\n",
       "9                  Hot om uppsägning\n",
       "10              Själv planera arbete\n",
       "11            Uppmuntran från chefer\n",
       "12    Uppmuntran från arbetskamrater\n",
       "13               Kritiska synpunkter\n",
       "14                       Arbeta fort\n",
       "15                Arbeta mycket fort\n",
       "16                Arbeta mycket hårt\n",
       "17             För stor arbetsinsats\n",
       "18           Empati andras situation\n",
       "19              Tillräckligt med tid\n",
       "20                  Motstridiga krav\n",
       "21                    Lära nya saker\n",
       "22                       Skicklighet\n",
       "23                       Påhittighet\n",
       "24           Arbete social kompetens\n",
       "25                 Arbete upprepning\n",
       "26               Arbete bestämma hur\n",
       "27               Arbete bestämma vad\n",
       "28        Arbete känslomässigt svårt\n",
       "29      Arbete skapa arbetsuppgifter\n",
       "..                               ...\n",
       "197                      Arbetstitel\n",
       "198                   Yrke i grunden\n",
       "199           Allmänt hälsotillstånd\n",
       "200                Sjukdom handikapp\n",
       "201                Fysiskt handikapp\n",
       "202                   Ont rygg nacke\n",
       "203                  Ont axlat armar\n",
       "204                         Ont mage\n",
       "205                            Trött\n",
       "206                        Huvudvärk\n",
       "207                  Trött i kroppen\n",
       "208             Ledig tänker på jobb\n",
       "209            Problem koncentration\n",
       "210               Svårt fatta beslut\n",
       "211               Svårigheter minnet\n",
       "212                      Tänka klart\n",
       "213        Arbete känslomässigt tömd\n",
       "214            Utmattad efter arbete\n",
       "215                Trött på morgonen\n",
       "216        Arbeta heldag påfrestande\n",
       "217               Känner mig utbränd\n",
       "218             Förmåga fysiska krav\n",
       "219                   Högt blodtryck\n",
       "220                     Hjärtsjukdom\n",
       "221                         Diabetes\n",
       "222                            Längd\n",
       "223                             Vikt\n",
       "224                      Sjukskriven\n",
       "225         Hemma vård av sjukt barn\n",
       "226                Gå till jobb sjuk\n",
       "\n",
       "[227 rows x 1 columns]"
      ]
     },
     "execution_count": 557,
     "metadata": {},
     "output_type": "execute_result"
    }
   ],
   "source": [
    "df3 = pd.DataFrame(data = df1['Beskrivning'].unique())\n",
    "df3.columns = ['Beskrivningar']\n",
    "df3"
   ]
  },
  {
   "cell_type": "code",
   "execution_count": 558,
   "metadata": {},
   "outputs": [],
   "source": [
    "df3.to_excel('Metadata test.xlsx')"
   ]
  }
 ],
 "metadata": {
  "kernelspec": {
   "display_name": "Python 3",
   "language": "python",
   "name": "python3"
  },
  "language_info": {
   "codemirror_mode": {
    "name": "ipython",
    "version": 3
   },
   "file_extension": ".py",
   "mimetype": "text/x-python",
   "name": "python",
   "nbconvert_exporter": "python",
   "pygments_lexer": "ipython3",
   "version": "3.7.3"
  }
 },
 "nbformat": 4,
 "nbformat_minor": 2
}

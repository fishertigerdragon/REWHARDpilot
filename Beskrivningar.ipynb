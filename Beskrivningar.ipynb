{
 "cells": [
  {
   "cell_type": "code",
   "execution_count": 1,
   "metadata": {},
   "outputs": [],
   "source": [
    "import pandas as pd"
   ]
  },
  {
   "cell_type": "code",
   "execution_count": 2,
   "metadata": {},
   "outputs": [],
   "source": [
    "df1 = pd.read_excel('Metadata.xlsx')\n",
    "df2 = pd.read_excel('Metadata.xlsx')"
   ]
  },
  {
   "cell_type": "code",
   "execution_count": 3,
   "metadata": {},
   "outputs": [
    {
     "data": {
      "text/html": [
       "<div>\n",
       "<style scoped>\n",
       "    .dataframe tbody tr th:only-of-type {\n",
       "        vertical-align: middle;\n",
       "    }\n",
       "\n",
       "    .dataframe tbody tr th {\n",
       "        vertical-align: top;\n",
       "    }\n",
       "\n",
       "    .dataframe thead th {\n",
       "        text-align: right;\n",
       "    }\n",
       "</style>\n",
       "<table border=\"1\" class=\"dataframe\">\n",
       "  <thead>\n",
       "    <tr style=\"text-align: right;\">\n",
       "      <th></th>\n",
       "      <th>Namn</th>\n",
       "      <th>Enkättext</th>\n",
       "      <th>Beskrivning</th>\n",
       "    </tr>\n",
       "  </thead>\n",
       "  <tbody>\n",
       "    <tr>\n",
       "      <th>0</th>\n",
       "      <td>promoted_1</td>\n",
       "      <td>Ditt arbete @ Har du befordrats/fått en högre ...</td>\n",
       "      <td>NaN</td>\n",
       "    </tr>\n",
       "    <tr>\n",
       "      <th>1</th>\n",
       "      <td>promoted_1</td>\n",
       "      <td>Ditt arbete @ Har du befordrats/fått en högre ...</td>\n",
       "      <td>NaN</td>\n",
       "    </tr>\n",
       "    <tr>\n",
       "      <th>2</th>\n",
       "      <td>promoted_1</td>\n",
       "      <td>Ditt arbete @ Har du befordrats/fått en högre ...</td>\n",
       "      <td>NaN</td>\n",
       "    </tr>\n",
       "    <tr>\n",
       "      <th>3</th>\n",
       "      <td>promoted_2</td>\n",
       "      <td>Har du fått en annan tjänsteposition de senast...</td>\n",
       "      <td>NaN</td>\n",
       "    </tr>\n",
       "    <tr>\n",
       "      <th>4</th>\n",
       "      <td>promoted_2</td>\n",
       "      <td>Har du fått en annan tjänsteposition de senast...</td>\n",
       "      <td>NaN</td>\n",
       "    </tr>\n",
       "  </tbody>\n",
       "</table>\n",
       "</div>"
      ],
      "text/plain": [
       "         Namn                                          Enkättext  Beskrivning\n",
       "0  promoted_1  Ditt arbete @ Har du befordrats/fått en högre ...          NaN\n",
       "1  promoted_1  Ditt arbete @ Har du befordrats/fått en högre ...          NaN\n",
       "2  promoted_1  Ditt arbete @ Har du befordrats/fått en högre ...          NaN\n",
       "3  promoted_2  Har du fått en annan tjänsteposition de senast...          NaN\n",
       "4  promoted_2  Har du fått en annan tjänsteposition de senast...          NaN"
      ]
     },
     "execution_count": 3,
     "metadata": {},
     "output_type": "execute_result"
    }
   ],
   "source": [
    "df2 = df2[['Namn', 'Enkättext', 'Beskrivning']]\n",
    "df2.head()"
   ]
  },
  {
   "cell_type": "code",
   "execution_count": null,
   "metadata": {},
   "outputs": [],
   "source": [
    "df2['Enkättext'].unique()[2]"
   ]
  },
  {
   "cell_type": "code",
   "execution_count": null,
   "metadata": {},
   "outputs": [],
   "source": [
    "df1[df1['Enkättext'] == 'Ditt arbete @ Har du befordrats/fått en högre tjänst under de två senaste åren?']['Namn']"
   ]
  },
  {
   "cell_type": "code",
   "execution_count": null,
   "metadata": {},
   "outputs": [],
   "source": [
    "df1.loc[df1['Enkättext'] == 'Ditt arbete @ Har du befordrats/fått en högre tjänst under de två senaste åren?', \n",
    "        ['Beskrivning']] = 'Befordran'"
   ]
  },
  {
   "cell_type": "code",
   "execution_count": null,
   "metadata": {},
   "outputs": [],
   "source": [
    "df1.loc[df1['Enkättext'] == 'Har du fått en annan tjänsteposition de senaste två åren?', \n",
    "        ['Beskrivning']] = 'Annan tjänsteposition'"
   ]
  },
  {
   "cell_type": "code",
   "execution_count": null,
   "metadata": {},
   "outputs": [],
   "source": [
    "df1.loc[df1['Enkättext'] == 'Har du fått en förändrad tjänsteposition de senaste två åren?', \n",
    "        ['Beskrivning']] = 'Förändrad tjänsteposition'"
   ]
  },
  {
   "cell_type": "code",
   "execution_count": null,
   "metadata": {},
   "outputs": [],
   "source": [
    "df1.loc[df1['Enkättext'] == 'Har du fått en förändrad tjänsteposition under de senaste två åren?', \n",
    "        ['Beskrivning']] = 'Förändrad tjänsteposition'"
   ]
  },
  {
   "cell_type": "code",
   "execution_count": null,
   "metadata": {},
   "outputs": [],
   "source": [
    "df1.loc[df1['Enkättext'] == 'Har du fått en sämre position under de senaste två åren?', \n",
    "        ['Beskrivning']] = 'Sämre tjänsteposition'"
   ]
  },
  {
   "cell_type": "code",
   "execution_count": null,
   "metadata": {},
   "outputs": [],
   "source": [
    "df1.loc[df1['Enkättext'] == 'Har du krav på dig att vara uppdaterad i ditt arbete, t.ex. att ständigt lära dig nya saker och löpande ta in ny information?', \n",
    "        ['Beskrivning']] = 'Krav uppdaterad i arbete'"
   ]
  },
  {
   "cell_type": "code",
   "execution_count": null,
   "metadata": {},
   "outputs": [],
   "source": [
    "df1.loc[df1['Enkättext'] == 'Har du krav på dig att vara uppdaterad i ditt arbete, t.ex. att ständigt lära dig nya saker och löpande ta in ny information?', \n",
    "        ['Beskrivning']] = 'Krav uppdaterad i arbete'"
   ]
  },
  {
   "cell_type": "code",
   "execution_count": null,
   "metadata": {},
   "outputs": [],
   "source": [
    "df1.loc[df1['Enkättext'] == 'Har du tillräckligt med resurser för att klara av ditt arbete?', \n",
    "        ['Beskrivning']] = 'Tillräckliga resurser'"
   ]
  },
  {
   "cell_type": "code",
   "execution_count": null,
   "metadata": {},
   "outputs": [],
   "source": [
    "df1.loc[df1['Enkättext'] == 'Har du tillräckliga rättigheter att fatta beslut för att klara av ditt arbete?', \n",
    "        ['Beskrivning']] = 'Tillräckliga rättigheter beslut'"
   ]
  },
  {
   "cell_type": "code",
   "execution_count": null,
   "metadata": {},
   "outputs": [],
   "source": [
    "df1.loc[df1['Enkättext'] == 'Har du kapacitet som inte tillvaratas i ditt arbete?', \n",
    "        ['Beskrivning']] = 'Kapacitet tillvaratas inte'"
   ]
  },
  {
   "cell_type": "code",
   "execution_count": null,
   "metadata": {},
   "outputs": [],
   "source": [
    "df1.loc[df1['Enkättext'] == 'Förekommer någon av följande risker eller hot för dig i ditt arbete? @ Risk för att du mot din vilja flyttas till annat arbete?', \n",
    "        ['Beskrivning']] = 'Flytt mot egen vilja'"
   ]
  },
  {
   "cell_type": "code",
   "execution_count": null,
   "metadata": {},
   "outputs": [],
   "source": [
    "df1.loc[df1['Enkättext'] == 'Förekommer någon av följande risker eller hot för dig i ditt arbete? @ Risk för att du mot din vilja flyttas till annat arbete', \n",
    "        ['Beskrivning']] = 'Flytt mot egen vilja'"
   ]
  },
  {
   "cell_type": "code",
   "execution_count": null,
   "metadata": {},
   "outputs": [],
   "source": [
    "df1.loc[df1['Enkättext'] == 'Förekom någon av följande risker eller hot för dig i ditt arbete innan du slutade arbeta? @ Risk för att du mot din vilja flyttas till annat arbete', \n",
    "        ['Beskrivning']] = 'Flytt mot egen vilja'"
   ]
  },
  {
   "cell_type": "code",
   "execution_count": null,
   "metadata": {},
   "outputs": [],
   "source": [
    "df1.loc[df1['Enkättext'] == 'Förekommer någon av följande risker eller hot för dig i ditt arbete? @ Hot om permittering eller uppsägning?', \n",
    "        ['Beskrivning']] = 'Hot om uppsägning'"
   ]
  },
  {
   "cell_type": "code",
   "execution_count": null,
   "metadata": {},
   "outputs": [],
   "source": [
    "df1.loc[df1['Enkättext'] == 'Förekommer någon av följande risker eller hot för dig i ditt arbete? @ Hot om permittering eller uppsägning?', \n",
    "        ['Beskrivning']] = 'Hot om uppsägning'"
   ]
  },
  {
   "cell_type": "code",
   "execution_count": null,
   "metadata": {},
   "outputs": [],
   "source": [
    "df1.loc[df1['Enkättext'] == 'Förekom någon av följande risker eller hot för dig i ditt arbete innan du slutade arbeta? @ Hot om permittering eller uppsägning', \n",
    "        ['Beskrivning']] = 'Hot om uppsägning'"
   ]
  },
  {
   "cell_type": "code",
   "execution_count": null,
   "metadata": {},
   "outputs": [],
   "source": [
    "df1.loc[df1['Enkättext'] == 'Förekom någon av följande risker eller hot för dig i ditt arbete innan du slutade arbeta? @ Hot om permittering eller uppsägning', \n",
    "        ['Beskrivning']] = 'Hot om uppsägning'"
   ]
  },
  {
   "cell_type": "code",
   "execution_count": null,
   "metadata": {},
   "outputs": [],
   "source": [
    "df1.loc[df1['Enkättext'] == 'Kan du delvis själv bestämma när olika arbetsuppgifter skall göras (t ex genom att välja att jobba lite fortare vissa dagar och ta det lite lugnare andra dagar)?', \n",
    "        ['Beskrivning']] = 'Själv planera arbete'"
   ]
  },
  {
   "cell_type": "code",
   "execution_count": null,
   "metadata": {},
   "outputs": [],
   "source": [
    "df1.loc[df1['Enkättext'] == 'Händer det att du är med och beslutar om uppläggningen av ditt arbete (t.ex. vad som skall göras, hur det skall göras eller vilka som skall arbeta tillsammans med dig)?', \n",
    "        ['Beskrivning']] = 'Själv planera arbete'"
   ]
  },
  {
   "cell_type": "code",
   "execution_count": null,
   "metadata": {},
   "outputs": [],
   "source": [
    "df1.loc[df1['Enkättext'] == 'Har du möjlighet att få stöd och uppmuntran från chefer, när arbetet känns besvärligt?', \n",
    "        ['Beskrivning']] = 'Uppmuntran från chefer'"
   ]
  },
  {
   "cell_type": "code",
   "execution_count": null,
   "metadata": {},
   "outputs": [],
   "source": [
    "df1.loc[df1['Enkättext'] == 'Har du möjlighet att få stöd och uppmuntran från arbetskamrater, när arbetet känns besvärligt?', \n",
    "        ['Beskrivning']] = 'Uppmuntran från arbetskamrater'"
   ]
  },
  {
   "cell_type": "code",
   "execution_count": null,
   "metadata": {},
   "outputs": [],
   "source": [
    "df1.loc[df1['Enkättext'] == 'Drar du dig för att på arbetsplatsen framföra kritiska synpunkter på dina arbetsförhållanden?', \n",
    "        ['Beskrivning']] = 'Kritiska synpunkter'"
   ]
  },
  {
   "cell_type": "code",
   "execution_count": null,
   "metadata": {},
   "outputs": [],
   "source": [
    "df1.loc[df1['Enkättext'] == 'Om synpunkter på arbetsförhållanden @ Drar du dig för att på arbetsplatsen framföra kritiska synpunkter på dina arbetsförhållanden?', \n",
    "        ['Beskrivning']] = 'Kritiska synpunkter'"
   ]
  },
  {
   "cell_type": "code",
   "execution_count": null,
   "metadata": {},
   "outputs": [],
   "source": [
    "df1.loc[df1['Enkättext'] == 'Kräver ditt arbete att du arbetar fort?', \n",
    "        ['Beskrivning']] = 'Arbeta fort'"
   ]
  },
  {
   "cell_type": "code",
   "execution_count": null,
   "metadata": {},
   "outputs": [],
   "source": [
    "df1.loc[df1['Enkättext'] == 'Kräver ditt arbete att du arbetar mycket fort?', \n",
    "        ['Beskrivning']] = 'Arbeta mycket fort'"
   ]
  },
  {
   "cell_type": "code",
   "execution_count": null,
   "metadata": {},
   "outputs": [],
   "source": [
    "df1.loc[df1['Enkättext'] == 'Följande frågor gäller din senaste arbetsplats tiden strax innan du slutade arbeta: @ Krävde ditt arbete att du arbetade mycket fort?', \n",
    "        ['Beskrivning']] = 'Arbeta mycket fort'"
   ]
  },
  {
   "cell_type": "code",
   "execution_count": null,
   "metadata": {},
   "outputs": [],
   "source": [
    "df1.loc[df1['Enkättext'] == 'Om ditt arbete @ Kräver ditt arbete att du arbetar mycket fort?', \n",
    "        ['Beskrivning']] = 'Arbeta mycket fort'"
   ]
  },
  {
   "cell_type": "code",
   "execution_count": null,
   "metadata": {},
   "outputs": [],
   "source": [
    "df1.loc[df1['Enkättext'] == 'Om ditt förvärvsarbete @ Kräver ditt arbete att du arbetar mycket fort?', \n",
    "        ['Beskrivning']] = 'Arbeta mycket fort'"
   ]
  },
  {
   "cell_type": "code",
   "execution_count": null,
   "metadata": {},
   "outputs": [],
   "source": [
    "df1.loc[df1['Enkättext'] == 'Om ditt förvärvsarbete (lönearbete) @ Om du inte arbetar för närvarande, vänligen besvara frågorna nedan med tanke på ditt senaste arbete. @ Kräver/krävde ditt arbete att du arbetar/arbetade mycket fort?', \n",
    "        ['Beskrivning']] = 'Arbeta mycket fort'"
   ]
  },
  {
   "cell_type": "code",
   "execution_count": null,
   "metadata": {},
   "outputs": [],
   "source": [
    "df1.loc[df1['Enkättext'] == 'Kräver ditt arbete att du arbetar mycket hårt?', \n",
    "        ['Beskrivning']] = 'Arbeta mycket hårt'"
   ]
  },
  {
   "cell_type": "code",
   "execution_count": null,
   "metadata": {},
   "outputs": [],
   "source": [
    "df1.loc[df1['Enkättext'] == 'Följande frågor gäller din senaste arbetsplats tiden strax innan du slutade arbeta: @ Krävde ditt arbete att du arbetade mycket hårt?', \n",
    "        ['Beskrivning']] = 'Arbeta mycket hårt'"
   ]
  },
  {
   "cell_type": "code",
   "execution_count": null,
   "metadata": {},
   "outputs": [],
   "source": [
    "df1.loc[df1['Enkättext'] == 'Om ditt arbete @ Kräver ditt arbete att du arbetar mycket hårt?', \n",
    "        ['Beskrivning']] = 'Arbeta mycket hårt'"
   ]
  },
  {
   "cell_type": "code",
   "execution_count": null,
   "metadata": {},
   "outputs": [],
   "source": [
    "df1.loc[df1['Enkättext'] == 'Om ditt förvärvsarbete @ Kräver ditt arbete att du arbetar mycket hårt?', \n",
    "        ['Beskrivning']] = 'Arbeta mycket hårt'"
   ]
  },
  {
   "cell_type": "code",
   "execution_count": null,
   "metadata": {},
   "outputs": [],
   "source": [
    "df1.loc[df1['Enkättext'] == 'Om ditt förvärvsarbete (lönearbete) @ Om du inte arbetar för närvarande, vänligen besvara frågorna nedan med tanke på ditt senaste arbete. @ Kräver/krävde ditt arbete att du arbetar/arbetade mycket hårt?', \n",
    "        ['Beskrivning']] = 'Arbeta mycket hårt'"
   ]
  },
  {
   "cell_type": "code",
   "execution_count": null,
   "metadata": {},
   "outputs": [],
   "source": [
    "df1.loc[df1['Enkättext'] == 'Kräver ditt arbete en för stor arbetsinsats?', \n",
    "        ['Beskrivning']] = 'För stor arbetsinsats'"
   ]
  },
  {
   "cell_type": "code",
   "execution_count": null,
   "metadata": {},
   "outputs": [],
   "source": [
    "df1.loc[df1['Enkättext'] == 'Om ditt arbete @ Kräver ditt arbete en för stor arbetsinsats?', \n",
    "        ['Beskrivning']] = 'För stor arbetsinsats'"
   ]
  },
  {
   "cell_type": "code",
   "execution_count": null,
   "metadata": {},
   "outputs": [],
   "source": [
    "df1.loc[df1['Enkättext'] == 'Om ditt förvärvsarbete @ kräver ditt arbete en för stor arbetsinsats?', \n",
    "        ['Beskrivning']] = 'För stor arbetsinsats'"
   ]
  },
  {
   "cell_type": "code",
   "execution_count": null,
   "metadata": {},
   "outputs": [],
   "source": [
    "df1.loc[df1['Enkättext'] == 'Om ditt förvärvsarbete (lönearbete) @ Om du inte arbetar för närvarande, vänligen besvara frågorna nedan med tanke på ditt senaste arbete. @ Kräver/krävde ditt arbete en för stor arbetsinsats?', \n",
    "        ['Beskrivning']] = 'För stor arbetsinsats'"
   ]
  },
  {
   "cell_type": "code",
   "execution_count": null,
   "metadata": {},
   "outputs": [],
   "source": [
    "df1.loc[df1['Enkättext'] == 'Kräver ditt arbete att du ska leva dig in i andra människors situation?', \n",
    "        ['Beskrivning']] = 'Empati andras situation'"
   ]
  },
  {
   "cell_type": "code",
   "execution_count": null,
   "metadata": {},
   "outputs": [],
   "source": [
    "df1.loc[df1['Enkättext'] == 'Om ditt arbete @ Kräver ditt arbete att du ska leva dig in i andra människors situation?', \n",
    "        ['Beskrivning']] = 'Empati andras situation'"
   ]
  },
  {
   "cell_type": "code",
   "execution_count": null,
   "metadata": {},
   "outputs": [],
   "source": [
    "df1.loc[df1['Enkättext'] == 'Om ditt förvärvsarbete @ Kräver ditt arbete att du ska leva dig in i andra människors situation?', \n",
    "        ['Beskrivning']] = 'Empati andras situation'"
   ]
  },
  {
   "cell_type": "code",
   "execution_count": null,
   "metadata": {},
   "outputs": [],
   "source": [
    "df1.loc[df1['Enkättext'] == 'Har du tillräckligt med tid för att hinna med arbetsuppgifterna?', \n",
    "        ['Beskrivning']] = 'Empati andras situation'"
   ]
  },
  {
   "cell_type": "code",
   "execution_count": null,
   "metadata": {},
   "outputs": [],
   "source": [
    "df1.loc[df1['Enkättext'] == 'Följande frågor gäller din senaste arbetsplats tiden strax innan du slutade arbeta: @ Hade du tillräckligt med tid för att hinna med arbetsuppgifterna?', \n",
    "        ['Beskrivning']] = 'Tillräckligt med tid'"
   ]
  },
  {
   "cell_type": "code",
   "execution_count": null,
   "metadata": {},
   "outputs": [],
   "source": [
    "df1.loc[df1['Enkättext'] == 'Om ditt arbete @ Har du tillräckligt med tid för att hinna med arbetsuppgifterna?', \n",
    "        ['Beskrivning']] = 'Tillräckligt med tid'"
   ]
  },
  {
   "cell_type": "code",
   "execution_count": null,
   "metadata": {},
   "outputs": [],
   "source": [
    "df1.loc[df1['Enkättext'] == 'Om ditt förvärvsarbete @ Har du tillräckligt med tid för att hinna med arbetsuppgifterna?', \n",
    "        ['Beskrivning']] = 'Tillräckligt med tid'"
   ]
  },
  {
   "cell_type": "code",
   "execution_count": null,
   "metadata": {},
   "outputs": [],
   "source": [
    "df1.loc[df1['Enkättext'] == 'Om ditt förvärvsarbete (lönearbete) @ Om du inte arbetar för närvarande, vänligen besvara frågorna nedan med tanke på ditt senaste arbete. @ Har/hade du tillräckligt med tid för att hinna med arbetsuppgifterna?', \n",
    "        ['Beskrivning']] = 'Tillräckligt med tid'"
   ]
  },
  {
   "cell_type": "code",
   "execution_count": null,
   "metadata": {},
   "outputs": [],
   "source": [
    "df1.loc[df1['Enkättext'] == 'Förekommer det motstridiga krav i ditt arbete?', \n",
    "        ['Beskrivning']] = 'Motstridiga krav'"
   ]
  },
  {
   "cell_type": "code",
   "execution_count": null,
   "metadata": {},
   "outputs": [],
   "source": [
    "df1.loc[df1['Enkättext'] == 'Följande frågor gäller din senaste arbetsplats tiden strax innan du slutade arbeta: @ Förekom det ofta motstridiga krav i ditt arbete?', \n",
    "        ['Beskrivning']] = 'Motstridiga krav'"
   ]
  },
  {
   "cell_type": "code",
   "execution_count": null,
   "metadata": {},
   "outputs": [],
   "source": [
    "df1.loc[df1['Enkättext'] == 'Om ditt arbete @ Förekommer det ofta motstridiga krav i ditt arbete?', \n",
    "        ['Beskrivning']] = 'Motstridiga krav'"
   ]
  },
  {
   "cell_type": "code",
   "execution_count": null,
   "metadata": {},
   "outputs": [],
   "source": [
    "df1.loc[df1['Enkättext'] == 'Om ditt förvärvsarbete @ Förekommer det ofta motstridiga krav i ditt arbete?', \n",
    "        ['Beskrivning']] = 'Motstridiga krav'"
   ]
  },
  {
   "cell_type": "code",
   "execution_count": null,
   "metadata": {},
   "outputs": [],
   "source": [
    "df1.loc[df1['Enkättext'] == 'Om ditt förvärvsarbete (lönearbete) @ Om du inte arbetar för närvarande, vänligen besvara frågorna nedan med tanke på ditt senaste arbete. @ Förekommer/förekom det ofta motstridiga krav i ditt arbete?', \n",
    "        ['Beskrivning']] = 'Motstridiga krav'"
   ]
  },
  {
   "cell_type": "code",
   "execution_count": null,
   "metadata": {},
   "outputs": [],
   "source": [
    "df1.loc[df1['Enkättext'] == 'Får du lära dig nya saker i ditt arbete?', \n",
    "        ['Beskrivning']] = 'Lära nya saker'"
   ]
  },
  {
   "cell_type": "code",
   "execution_count": null,
   "metadata": {},
   "outputs": [],
   "source": [
    "df1.loc[df1['Enkättext'] == 'Följande frågor gäller din senaste arbetsplats tiden strax innan du slutade arbeta: @ Fick du lära dig nya saker i ditt arbete?', \n",
    "        ['Beskrivning']] = 'Lära nya saker'"
   ]
  },
  {
   "cell_type": "code",
   "execution_count": null,
   "metadata": {},
   "outputs": [],
   "source": [
    "df1.loc[df1['Enkättext'] == 'Om ditt arbete @ Får du lära dig nya saker i ditt arbete?', \n",
    "        ['Beskrivning']] = 'Lära nya saker'"
   ]
  },
  {
   "cell_type": "code",
   "execution_count": null,
   "metadata": {},
   "outputs": [],
   "source": [
    "df1.loc[df1['Enkättext'] == 'Kräver ditt arbete skicklighet?', \n",
    "        ['Beskrivning']] = 'Skicklighet'"
   ]
  },
  {
   "cell_type": "code",
   "execution_count": null,
   "metadata": {},
   "outputs": [],
   "source": [
    "df1.loc[df1['Enkättext'] == 'Följande frågor gäller din senaste arbetsplats tiden strax innan du slutade arbeta: @ Krävde ditt arbete skicklighet?', \n",
    "        ['Beskrivning']] = 'Skicklighet'"
   ]
  },
  {
   "cell_type": "code",
   "execution_count": null,
   "metadata": {},
   "outputs": [],
   "source": [
    "df1.loc[df1['Enkättext'] == 'Om ditt arbete @ Kräver ditt arbete skicklighet?', \n",
    "        ['Beskrivning']] = 'Skicklighet'"
   ]
  },
  {
   "cell_type": "code",
   "execution_count": null,
   "metadata": {},
   "outputs": [],
   "source": [
    "df1.loc[df1['Enkättext'] == 'Om ditt förvärvsarbete @ Kräver ditt arbete skicklighet?', \n",
    "        ['Beskrivning']] = 'Skicklighet'"
   ]
  },
  {
   "cell_type": "code",
   "execution_count": null,
   "metadata": {},
   "outputs": [],
   "source": [
    "df1.loc[df1['Enkättext'] == 'Om ditt förvärvsarbete (lönearbete) @ Om du inte arbetar för närvarande, vänligen besvara frågorna nedan med tanke på ditt senaste arbete. @ Kräver/krävde ditt arbete skicklighet?', \n",
    "        ['Beskrivning']] = 'Skicklighet'"
   ]
  },
  {
   "cell_type": "code",
   "execution_count": null,
   "metadata": {},
   "outputs": [],
   "source": [
    "df1.loc[df1['Enkättext'] == 'Kräver ditt arbete påhittighet?', \n",
    "        ['Beskrivning']] = 'Påhittighet'"
   ]
  },
  {
   "cell_type": "code",
   "execution_count": null,
   "metadata": {},
   "outputs": [],
   "source": [
    "df1.loc[df1['Enkättext'] == 'Följande frågor gäller din senaste arbetsplats tiden strax innan du slutade arbeta: @ Krävde ditt arbete påhittighet?', \n",
    "        ['Beskrivning']] = 'Påhittighet'"
   ]
  },
  {
   "cell_type": "code",
   "execution_count": null,
   "metadata": {},
   "outputs": [],
   "source": [
    "df1.loc[df1['Enkättext'] == 'Om ditt arbete @ Kräver ditt arbete påhittighet?', \n",
    "        ['Beskrivning']] = 'Påhittighet'"
   ]
  },
  {
   "cell_type": "code",
   "execution_count": null,
   "metadata": {},
   "outputs": [],
   "source": [
    "df1.loc[df1['Enkättext'] == 'Om ditt förvärvsarbete @ Kräver ditt arbete påhittighet?', \n",
    "        ['Beskrivning']] = 'Påhittighet'"
   ]
  },
  {
   "cell_type": "code",
   "execution_count": null,
   "metadata": {},
   "outputs": [],
   "source": [
    "df1.loc[df1['Enkättext'] == 'Om ditt förvärvsarbete (lönearbete) @ Om du inte arbetar för närvarande, vänligen besvara frågorna nedan med tanke på ditt senaste arbete. @ Kräver/krävde ditt arbete påhittighet?', \n",
    "        ['Beskrivning']] = 'Påhittighet'"
   ]
  },
  {
   "cell_type": "code",
   "execution_count": null,
   "metadata": {},
   "outputs": [],
   "source": [
    "df1.loc[df1['Enkättext'] == 'Kräver ditt arbete stor social kompetens?', \n",
    "        ['Beskrivning']] = 'Arbete social kompetens'"
   ]
  },
  {
   "cell_type": "code",
   "execution_count": null,
   "metadata": {},
   "outputs": [],
   "source": [
    "df1.loc[df1['Enkättext'] == 'Följande frågor gäller din senaste arbetsplats tiden strax innan du slutade arbeta: @ Krävde ditt arbete stor social kompetens?', \n",
    "        ['Beskrivning']] = 'Arbete social kompetens'"
   ]
  },
  {
   "cell_type": "code",
   "execution_count": null,
   "metadata": {},
   "outputs": [],
   "source": [
    "df1.loc[df1['Enkättext'] == 'Om ditt arbete @ Kräver ditt arbete stor social kompetens?', \n",
    "        ['Beskrivning']] = 'Arbete social kompetens'"
   ]
  },
  {
   "cell_type": "code",
   "execution_count": null,
   "metadata": {},
   "outputs": [],
   "source": [
    "df1.loc[df1['Enkättext'] == 'Om ditt förvärvsarbete @ Kräver ditt arbete stor social kompetens?', \n",
    "        ['Beskrivning']] = 'Arbete social kompetens'"
   ]
  },
  {
   "cell_type": "code",
   "execution_count": null,
   "metadata": {},
   "outputs": [],
   "source": [
    "df1.loc[df1['Enkättext'] == 'Innebär ditt arbete att man gör samma sak om och om igen?', \n",
    "        ['Beskrivning']] = 'Arbete upprepning'"
   ]
  },
  {
   "cell_type": "code",
   "execution_count": null,
   "metadata": {},
   "outputs": [],
   "source": [
    "df1.loc[df1['Enkättext'] == 'Följande frågor gäller din senaste arbetsplats tiden strax innan du slutade arbeta: @ innebar ditt arbete att du gjorde samma sak om och om igen?', \n",
    "        ['Beskrivning']] = 'Arbete upprepning'"
   ]
  },
  {
   "cell_type": "code",
   "execution_count": null,
   "metadata": {},
   "outputs": [],
   "source": [
    "df1.loc[df1['Enkättext'] == 'Om ditt arbete @ Innebär ditt arbete att man gör samma sak om och om igen?', \n",
    "        ['Beskrivning']] = 'Arbete upprepning'"
   ]
  },
  {
   "cell_type": "code",
   "execution_count": null,
   "metadata": {},
   "outputs": [],
   "source": [
    "df1.loc[df1['Enkättext'] == 'Har du frihet att bestämma hur ditt arbete ska utföras?', \n",
    "        ['Beskrivning']] = 'Arbete bestämma hur'"
   ]
  },
  {
   "cell_type": "code",
   "execution_count": null,
   "metadata": {},
   "outputs": [],
   "source": [
    "df1.loc[df1['Enkättext'] == 'Följande frågor gäller din senaste arbetsplats tiden strax innan du slutade arbeta: @ Hade du frihet att bestämma hur ditt arbete skulle\\nutföras?', \n",
    "        ['Beskrivning']] = 'Arbete bestämma hur'"
   ]
  },
  {
   "cell_type": "code",
   "execution_count": null,
   "metadata": {},
   "outputs": [],
   "source": [
    "df1.loc[df1['Enkättext'] == 'Om ditt arbete @ Har du frihet att bestämma hur ditt arbete ska utföras?', \n",
    "        ['Beskrivning']] = 'Arbete bestämma hur'"
   ]
  },
  {
   "cell_type": "code",
   "execution_count": null,
   "metadata": {},
   "outputs": [],
   "source": [
    "df1.loc[df1['Enkättext'] == 'Om ditt förvärvsarbete (lönearbete) @ Om du inte arbetar för närvarande, vänligen besvara frågorna nedan med tanke på ditt senaste arbete. @ Har/hade du frihet att bestämma hur ditt arbete ska/skulle utföras?', \n",
    "        ['Beskrivning']] = 'Arbete bestämma hur'"
   ]
  },
  {
   "cell_type": "code",
   "execution_count": null,
   "metadata": {},
   "outputs": [],
   "source": [
    "df1.loc[df1['Enkättext'] == 'Har du frihet att bestämma vad som ska utföras i ditt arbete?', \n",
    "        ['Beskrivning']] = 'Arbete bestämma vad'"
   ]
  },
  {
   "cell_type": "code",
   "execution_count": null,
   "metadata": {},
   "outputs": [],
   "source": [
    "df1.loc[df1['Enkättext'] == 'Följande frågor gäller din senaste arbetsplats tiden strax innan du slutade arbeta: @ Hade du frihet att bestämma vad som skulle\\nutföras i ditt arbete?', \n",
    "        ['Beskrivning']] = 'Arbete bestämma vad'"
   ]
  },
  {
   "cell_type": "code",
   "execution_count": null,
   "metadata": {},
   "outputs": [],
   "source": [
    "df1.loc[df1['Enkättext'] == 'Om ditt arbete @ Har du frihet att bestämma vad som ska utföras i ditt arbete?', \n",
    "        ['Beskrivning']] = 'Arbete bestämma vad'"
   ]
  },
  {
   "cell_type": "code",
   "execution_count": null,
   "metadata": {},
   "outputs": [],
   "source": [
    "df1.loc[df1['Enkättext'] == 'Om ditt förvärvsarbete (lönearbete) @ Om du inte arbetar för närvarande, vänligen besvara frågorna nedan med tanke på ditt senaste arbete. @ Har/hade du frihet att bestämma vad som ska/skulle utföras i ditt arbete?', \n",
    "        ['Beskrivning']] = 'Arbete bestämma vad'"
   ]
  },
  {
   "cell_type": "code",
   "execution_count": null,
   "metadata": {},
   "outputs": [],
   "source": [
    "df1.loc[df1['Enkättext'] == 'Försätter ditt arbete dig i känslomässigt svåra situationer?', \n",
    "        ['Beskrivning']] = 'Arbete känslomässigt svårt'"
   ]
  },
  {
   "cell_type": "code",
   "execution_count": null,
   "metadata": {},
   "outputs": [],
   "source": [
    "df1.loc[df1['Enkättext'] == 'Om ditt arbete @ Försätter ditt arbete dig i känslomässigt svåra situationer?', \n",
    "        ['Beskrivning']] = 'Arbete känslomässigt svårt'"
   ]
  },
  {
   "cell_type": "code",
   "execution_count": 5,
   "metadata": {},
   "outputs": [],
   "source": [
    "df1.loc[df1['Enkättext'] == 'Om känslomässiga krav @ Hamnar du genom ditt arbete i känslomässigt påfrestande situationer?',\n",
    "        ['Beskrivning']] = 'Arbete känslomässigt svårt'"
   ]
  },
  {
   "cell_type": "code",
   "execution_count": null,
   "metadata": {},
   "outputs": [],
   "source": [
    "df1.loc[df1['Enkättext'] == 'Kräver ditt arbete att du själv måste skapa dina arbetsuppgifter?',\n",
    "        ['Beskrivning']] = 'Arbete skapa arbetsuppgifter'"
   ]
  },
  {
   "cell_type": "code",
   "execution_count": null,
   "metadata": {},
   "outputs": [],
   "source": [
    "df1.loc[df1['Enkättext'] == 'Finns det en dagordning och någon som håller i mötet på era sammanträden?',\n",
    "        ['Beskrivning']] = 'Arbete dagordning'"
   ]
  },
  {
   "cell_type": "code",
   "execution_count": null,
   "metadata": {},
   "outputs": [],
   "source": [
    "df1.loc[df1['Enkättext'] == 'Får du bekräftelse från din chef?',\n",
    "        ['Beskrivning']] = 'Chef bekräftelse'"
   ]
  },
  {
   "cell_type": "code",
   "execution_count": null,
   "metadata": {},
   "outputs": [],
   "source": [
    "df1.loc[df1['Enkättext'] == 'Talar du om för din chef vad du verkligen tänker, känner och vill?',\n",
    "        ['Beskrivning']] = 'Chef uppriktig'"
   ]
  },
  {
   "cell_type": "code",
   "execution_count": null,
   "metadata": {},
   "outputs": [],
   "source": [
    "df1.loc[df1['Enkättext'] == 'Finns det i ditt arbete utrymme för reflektion och eftertanke?',\n",
    "        ['Beskrivning']] = 'Arbete reflektion'"
   ]
  },
  {
   "cell_type": "code",
   "execution_count": null,
   "metadata": {},
   "outputs": [],
   "source": [
    "df1.loc[df1['Enkättext'] == 'Om ditt arbete @ Finns det i ditt arbete utrymme för reflektion och eftertanke?',\n",
    "        ['Beskrivning']] = 'Arbete reflektion'"
   ]
  },
  {
   "cell_type": "code",
   "execution_count": null,
   "metadata": {},
   "outputs": [],
   "source": [
    "df1.loc[df1['Enkättext'] == 'Om ditt förvärvsarbete @ Finns det i ditt arbete utrymme för reflektion och eftertanke?',\n",
    "        ['Beskrivning']] = 'Arbete reflektion'"
   ]
  },
  {
   "cell_type": "code",
   "execution_count": null,
   "metadata": {},
   "outputs": [],
   "source": [
    "df1.loc[df1['Enkättext'] == 'Brukar ni fika tillsammans i er arbetsgrupp?',\n",
    "        ['Beskrivning']] = 'Arbetsgrupp fika'"
   ]
  },
  {
   "cell_type": "code",
   "execution_count": null,
   "metadata": {},
   "outputs": [],
   "source": [
    "df1.loc[df1['Enkättext'] == 'Kan du själv direkt avgöra om du gör ett bra arbete?',\n",
    "        ['Beskrivning']] = 'Avgöra bra arbete'"
   ]
  },
  {
   "cell_type": "code",
   "execution_count": null,
   "metadata": {},
   "outputs": [],
   "source": [
    "df1.loc[df1['Enkättext'] == 'Har du så mycket att göra att du blir tvungen att dra in på luncher, arbeta över eller ta med jobb hem?',\n",
    "        ['Beskrivning']] = 'Ingen lunch jobba över'"
   ]
  },
  {
   "cell_type": "code",
   "execution_count": null,
   "metadata": {},
   "outputs": [],
   "source": [
    "df1.loc[df1['Enkättext'] == 'Har du så mycket att göra att du blir tvungen att dra in på luncher, arbetar över eller ta med jobb hem?',\n",
    "        ['Beskrivning']] = 'Ingen lunch jobba över'"
   ]
  },
  {
   "cell_type": "code",
   "execution_count": null,
   "metadata": {},
   "outputs": [],
   "source": [
    "df1.loc[df1['Enkättext'] == 'Händer det att du efter arbetet är för trött för eller saknar tid för familjen, vänner eller fritidsaktiviteter?',\n",
    "        ['Beskrivning']] = 'Ingen fritid vänner familj'"
   ]
  },
  {
   "cell_type": "code",
   "execution_count": null,
   "metadata": {},
   "outputs": [],
   "source": [
    "df1.loc[df1['Enkättext'] == 'Händer det att du genom arbetet kommer i nära kontakt med svårt sjuka\\neller människor med allvarliga problem?',\n",
    "        ['Beskrivning']] = 'Kontakt sjuka allvarliga problem'"
   ]
  },
  {
   "cell_type": "code",
   "execution_count": null,
   "metadata": {},
   "outputs": [],
   "source": [
    "df1.loc[df1['Enkättext'] == 'Har du möjlighet att själv bestämma din arbetstakt?',\n",
    "        ['Beskrivning']] = 'Bestämma arbetstakt'"
   ]
  },
  {
   "cell_type": "code",
   "execution_count": null,
   "metadata": {},
   "outputs": [],
   "source": [
    "df1.loc[df1['Enkättext'] == 'Har du vissa tider så stressigt att du inte hinner prata om eller ens tänka på något annat än arbetet?',\n",
    "        ['Beskrivning']] = 'Endast arbete'"
   ]
  },
  {
   "cell_type": "code",
   "execution_count": null,
   "metadata": {},
   "outputs": [],
   "source": [
    "df1.loc[df1['Enkättext'] == 'Är det någon del av tiden som du inte gör något annat än väntar och håller dig beredd, om något skulle inträffa?',\n",
    "        ['Beskrivning']] = 'Beredd'"
   ]
  },
  {
   "cell_type": "code",
   "execution_count": null,
   "metadata": {},
   "outputs": [],
   "source": [
    "df1.loc[df1['Enkättext'] == 'Kan du ta korta pauser i stort sett när som helst för att prata?',\n",
    "        ['Beskrivning']] = 'Korta pauser'"
   ]
  },
  {
   "cell_type": "code",
   "execution_count": null,
   "metadata": {},
   "outputs": [],
   "source": [
    "df1.loc[df1['Enkättext'] == 'Kräver arbetet hela din uppmärksamhet och koncentration?',\n",
    "        ['Beskrivning']] = 'Kräver uppmärksamhet'"
   ]
  },
  {
   "cell_type": "code",
   "execution_count": null,
   "metadata": {},
   "outputs": [],
   "source": [
    "df1.loc[df1['Enkättext'] == 'Hur fungerar samarbetet på er arbetsplats?',\n",
    "        ['Beskrivning']] = 'Arbetsplats samarbete'"
   ]
  },
  {
   "cell_type": "code",
   "execution_count": null,
   "metadata": {},
   "outputs": [],
   "source": [
    "df1.loc[df1['Enkättext'] == 'Hur lätt skulle det vara för dig att utan att behöva flytta (byta bostad) få ett annat likvärdigt arbete?',\n",
    "        ['Beskrivning']] = 'Lätt att flytta'"
   ]
  },
  {
   "cell_type": "code",
   "execution_count": null,
   "metadata": {},
   "outputs": [],
   "source": [
    "df1.loc[df1['Enkättext'] == 'Jämfört med de andra anställda på din arbetsplats, hur stor löneförhöjning fick du under det gångna året?',\n",
    "        ['Beskrivning']] = 'Relativ löneförhöjning'"
   ]
  },
  {
   "cell_type": "code",
   "execution_count": null,
   "metadata": {},
   "outputs": [],
   "source": [
    "df1.loc[df1['Enkättext'] == 'Är du utsatt för våld eller hot om våld i ditt arbete?',\n",
    "        ['Beskrivning']] = 'Våld hot om våld'"
   ]
  },
  {
   "cell_type": "code",
   "execution_count": null,
   "metadata": {},
   "outputs": [],
   "source": [
    "df1.loc[df1['Enkättext'] == 'Följande frågor gäller din senaste arbetsplats tiden strax innan du slutade arbeta: @ Var du utsatt för våld eller hot om våld i ditt arbete de senaste 12 månaderna innan du slutade arbeta?',\n",
    "        ['Beskrivning']] = 'Våld hot om våld'"
   ]
  },
  {
   "cell_type": "code",
   "execution_count": null,
   "metadata": {},
   "outputs": [],
   "source": [
    "df1.loc[df1['Enkättext'] == 'Har du under de senaste 12 månaderna … @ … varit utsatt för våld eller hot om våld i ditt arbete?',\n",
    "        ['Beskrivning']] = 'Våld hot om våld'"
   ]
  },
  {
   "cell_type": "code",
   "execution_count": null,
   "metadata": {},
   "outputs": [],
   "source": [
    "df1.loc[df1['Enkättext'] == 'Har du under de senaste 6 månaderna … @ … varit utsatt för våld eller hot om våld i ditt\\narbete?',\n",
    "        ['Beskrivning']] = 'Våld hot om våld'"
   ]
  },
  {
   "cell_type": "code",
   "execution_count": null,
   "metadata": {},
   "outputs": [],
   "source": [
    "df1.loc[df1['Enkättext'] == 'Är du utsatt för personlig förföljelse genom elaka ord och handlingar från chefer eller arbetskamrater?',\n",
    "        ['Beskrivning']] = 'Arbete personlig förföljelse'"
   ]
  },
  {
   "cell_type": "code",
   "execution_count": null,
   "metadata": {},
   "outputs": [],
   "source": [
    "df1.loc[df1['Enkättext'] == 'Följande frågor gäller din senaste arbetsplats tiden strax innan du slutade arbeta: @ Var du utsatt för personlig förföljelse genom elaka ord och handlingar från chefer eller arbetskamrater de senaste 12 månaderna innan du slutade arbeta?',\n",
    "        ['Beskrivning']] = 'Arbete personlig förföljelse'"
   ]
  },
  {
   "cell_type": "code",
   "execution_count": null,
   "metadata": {},
   "outputs": [],
   "source": [
    "df1.loc[df1['Enkättext'] == 'Har du under de senaste 12 månaderna … @ … varit utsatt för personlig förföljelse genom elaka ord och handlingar från chefer eller arbetskamrater?',\n",
    "        ['Beskrivning']] = 'Arbete personlig förföljelse'"
   ]
  },
  {
   "cell_type": "code",
   "execution_count": null,
   "metadata": {},
   "outputs": [],
   "source": [
    "df1.loc[df1['Enkättext'] == 'Har du under de senaste 6 månaderna … @ … varit utsatt för personlig förföljelse genom elaka ord och handlingar från chefer eller arbetskamrater?',\n",
    "        ['Beskrivning']] = 'Arbete personlig förföljelse'"
   ]
  },
  {
   "cell_type": "code",
   "execution_count": null,
   "metadata": {},
   "outputs": [],
   "source": [
    "df1.loc[df1['Enkättext'] == 'När du under de senaste två åren känt dig överkörd eller orättvist behandlad av din chef/dina chefer, hur har du då reagerat? @ Sagt ifrån direkt och tydligt visat mina känslor?',\n",
    "        ['Beskrivning']] = 'Arbete säga ifrån'"
   ]
  },
  {
   "cell_type": "code",
   "execution_count": null,
   "metadata": {},
   "outputs": [],
   "source": [
    "df1.loc[df1['Enkättext'] == 'Hur reagerar du vanligtvis om du blir orättvist behandlad eller råkar i konflikt med en arbetsledare/chef? @ Säger ifrån direkt och tydligt visar mina känslor?',\n",
    "        ['Beskrivning']] = 'Arbete säga ifrån'"
   ]
  },
  {
   "cell_type": "code",
   "execution_count": null,
   "metadata": {},
   "outputs": [],
   "source": [
    "df1.loc[df1['Enkättext'] == 'När du under de senaste två åren känt dig överkörd eller orättvist behandlad av din chef/dina chefer, hur har du då reagerat? @ Föreslagit en kompromiss eller annan lösning?',\n",
    "        ['Beskrivning']] = 'Arbete föreslå kompromiss'"
   ]
  },
  {
   "cell_type": "code",
   "execution_count": null,
   "metadata": {},
   "outputs": [],
   "source": [
    "df1.loc[df1['Enkättext'] == 'Hur reagerar du vanligtvis om du blir orättvist behandlad eller råkar i konflikt med en arbetsledare/chef? @ Föreslår en kompromiss eller annan lösning?',\n",
    "        ['Beskrivning']] = 'Arbete föreslå kompromiss'"
   ]
  },
  {
   "cell_type": "code",
   "execution_count": null,
   "metadata": {},
   "outputs": [],
   "source": [
    "df1.loc[df1['Enkättext'] == 'När du under de senaste två åren känt dig överkörd eller orättvist behandlad av din chef/dina chefer, hur har du då reagerat? @ Hållit tyst och ältat för mig själv?',\n",
    "        ['Beskrivning']] = 'Arbete hålla tyst'"
   ]
  },
  {
   "cell_type": "code",
   "execution_count": null,
   "metadata": {},
   "outputs": [],
   "source": [
    "df1.loc[df1['Enkättext'] == 'Hur reagerar du vanligtvis om du blir orättvist behandlad eller råkar i konflikt med en arbetsledare/chef? @ Håller tyst och ältar för mig själv?',\n",
    "        ['Beskrivning']] = 'Arbete hålla tyst'"
   ]
  },
  {
   "cell_type": "code",
   "execution_count": null,
   "metadata": {},
   "outputs": [],
   "source": [
    "df1.loc[df1['Enkättext'] == 'När du under de senaste två åren känt dig överkörd eller orättvist behandlad av din chef/dina chefer, hur har du då reagerat? @ Tagit ut det på min familj/mina närmaste?',\n",
    "        ['Beskrivning']] = 'Arbete frustration familj/vänner'"
   ]
  },
  {
   "cell_type": "code",
   "execution_count": null,
   "metadata": {},
   "outputs": [],
   "source": [
    "df1.loc[df1['Enkättext'] == 'Hur reagerar du vanligtvis om du blir orättvist behandlad eller råkar i konflikt med en arbetsledare/chef? @ Tar ut det på min familj/mina\\nnärmaste?',\n",
    "        ['Beskrivning']] = 'Arbete frustration familj/vänner'"
   ]
  },
  {
   "cell_type": "code",
   "execution_count": null,
   "metadata": {},
   "outputs": [],
   "source": [
    "df1.loc[df1['Enkättext'] == 'När du under de senaste två åren känt dig överkörd eller orättvist behandlad av dina arbetskamrater, hur har du då reagerat? @ Sagt ifrån direkt och tydligt visat mina känslor?',\n",
    "        ['Beskrivning']] = 'Arbete säga ifrån'"
   ]
  },
  {
   "cell_type": "code",
   "execution_count": null,
   "metadata": {},
   "outputs": [],
   "source": [
    "df1.loc[df1['Enkättext'] == 'Hur reagerar du vanligtvis om du blir orättvist behandlad eller råkar i konflikt med en arbetskamrat? @ Säger ifrån direkt och tydligt visar mina känslor?',\n",
    "        ['Beskrivning']] = 'Arbete säga ifrån'"
   ]
  },
  {
   "cell_type": "code",
   "execution_count": null,
   "metadata": {},
   "outputs": [],
   "source": [
    "df1.loc[df1['Enkättext'] == 'När du under de senaste två åren känt dig överkörd eller orättvist behandlad av dina arbetskamrater, hur har du då reagerat? @ Föreslagit en kompromiss eller annan lösning?',\n",
    "        ['Beskrivning']] = 'Arbete föreslå kompromiss'"
   ]
  },
  {
   "cell_type": "code",
   "execution_count": null,
   "metadata": {},
   "outputs": [],
   "source": [
    "df1.loc[df1['Enkättext'] == 'Hur reagerar du vanligtvis om du blir orättvist behandlad eller råkar i konflikt med en arbetskamrat? @ Föreslår en kompromiss eller annan lösning?',\n",
    "        ['Beskrivning']] = 'Arbete säga ifrån'"
   ]
  },
  {
   "cell_type": "code",
   "execution_count": null,
   "metadata": {},
   "outputs": [],
   "source": [
    "df1.loc[df1['Enkättext'] == 'När du under de senaste två åren känt dig överkörd eller orättvist behandlad av dina arbetskamrater, hur har du då reagerat? @ Hållit tyst och ältat för mig själv?',\n",
    "        ['Beskrivning']] = 'Hålla tyst älta'"
   ]
  },
  {
   "cell_type": "code",
   "execution_count": null,
   "metadata": {},
   "outputs": [],
   "source": [
    "df1.loc[df1['Enkättext'] == 'Hur reagerar du vanligtvis om du blir orättvist behandlad eller råkar i konflikt med en arbetskamrat? @ Håller tyst och ältar för mig själv?',\n",
    "        ['Beskrivning']] = 'Hålla tyst älta'"
   ]
  },
  {
   "cell_type": "code",
   "execution_count": null,
   "metadata": {},
   "outputs": [],
   "source": [
    "df1.loc[df1['Enkättext'] == 'När du under de senaste två åren känt dig överkörd eller orättvist behandlad av dina arbetskamrater, hur har du då reagerat? @ Tagit ut det på min familj/mina närmaste?',\n",
    "        ['Beskrivning']] = 'Orättvist behandlad'"
   ]
  },
  {
   "cell_type": "code",
   "execution_count": null,
   "metadata": {},
   "outputs": [],
   "source": [
    "df1.loc[df1['Enkättext'] == 'Hur reagerar du vanligtvis om du blir orättvist behandlad eller råkar i konflikt med en arbetskamrat? @ Tar ut det på min familj/mina\\nnärmaste?',\n",
    "        ['Beskrivning']] = 'Orättvist behandlad'"
   ]
  },
  {
   "cell_type": "code",
   "execution_count": null,
   "metadata": {},
   "outputs": [],
   "source": [
    "df1.loc[df1['Enkättext'] == 'På grund av den höga arbetsbelastningen arbetar jag ofta under stor tidspress',\n",
    "        ['Beskrivning']] = 'Arbetsbelastning tidspress'"
   ]
  },
  {
   "cell_type": "code",
   "execution_count": null,
   "metadata": {},
   "outputs": [],
   "source": [
    "df1.loc[df1['Enkättext'] == 'Vilka av följande påståenden tycker du stämmer på dig? @ På grund av den höga arbetsbelastningen arbetar jag ofta under stor tidspress.',\n",
    "        ['Beskrivning']] = 'Arbetsbelastning tidspress'"
   ]
  },
  {
   "cell_type": "code",
   "execution_count": null,
   "metadata": {},
   "outputs": [],
   "source": [
    "df1.loc[df1['Enkättext'] == 'Om din arbetssituation @ På grund av den höga arbetsbelastningen arbetar jag ofta under stor tidspress.',\n",
    "        ['Beskrivning']] = 'Arbetsbelastning tidspress'"
   ]
  },
  {
   "cell_type": "code",
   "execution_count": null,
   "metadata": {},
   "outputs": [],
   "source": [
    "df1.loc[df1['Enkättext'] == 'Jag blir ofta avbruten och störd i mitt arbete',\n",
    "        ['Beskrivning']] = 'Avbruten störd'"
   ]
  },
  {
   "cell_type": "code",
   "execution_count": null,
   "metadata": {},
   "outputs": [],
   "source": [
    "df1.loc[df1['Enkättext'] == 'Vilka av följande påståenden tycker du stämmer på dig? @ Jag blir ofta avbruten och störd i mitt arbete.',\n",
    "        ['Beskrivning']] = 'Avbruten störd'"
   ]
  },
  {
   "cell_type": "code",
   "execution_count": null,
   "metadata": {},
   "outputs": [],
   "source": [
    "df1.loc[df1['Enkättext'] == 'Om din arbetssituation @ Jag blir ofta avbruten och störd i mitt arbete.',\n",
    "        ['Beskrivning']] = 'Avbruten störd'"
   ]
  },
  {
   "cell_type": "code",
   "execution_count": null,
   "metadata": {},
   "outputs": [],
   "source": [
    "df1.loc[df1['Enkättext'] == 'Jag har fått allt mer att göra på arbetet under de senaste åren',\n",
    "        ['Beskrivning']] = 'Mer att göra'"
   ]
  },
  {
   "cell_type": "code",
   "execution_count": null,
   "metadata": {},
   "outputs": [],
   "source": [
    "df1.loc[df1['Enkättext'] == 'Vilka av följande påståenden tycker du stämmer på dig? @ Jag har fått allt mer att göra på arbetet under de senaste åren.',\n",
    "        ['Beskrivning']] = 'Mer att göra'"
   ]
  },
  {
   "cell_type": "code",
   "execution_count": null,
   "metadata": {},
   "outputs": [],
   "source": [
    "df1.loc[df1['Enkättext'] == 'Om din arbetssituation @ Jag har fått allt mer att göra på arbetet under de senaste åren.',\n",
    "        ['Beskrivning']] = 'Mer att göra'"
   ]
  },
  {
   "cell_type": "code",
   "execution_count": null,
   "metadata": {},
   "outputs": [],
   "source": [
    "df1.loc[df1['Enkättext'] == 'Jag får inte det erkännande av mina överordnade som jag förtjänar',\n",
    "        ['Beskrivning']] = 'Erkännande chefer'"
   ]
  },
  {
   "cell_type": "code",
   "execution_count": null,
   "metadata": {},
   "outputs": [],
   "source": [
    "df1.loc[df1['Enkättext'] == 'Vilka av följande påståenden tycker du stämmer på dig? @ Jag får det erkännande av mina överordnade som jag förtjänar.',\n",
    "        ['Beskrivning']] = 'Erkännande chefer'"
   ]
  },
  {
   "cell_type": "code",
   "execution_count": null,
   "metadata": {},
   "outputs": [],
   "source": [
    "df1.loc[df1['Enkättext'] == 'Om din arbetssituation @ Jag får det erkännande av mina överordnade som jag förtjänar.',\n",
    "        ['Beskrivning']] = 'Erkännande chefer'"
   ]
  },
  {
   "cell_type": "code",
   "execution_count": null,
   "metadata": {},
   "outputs": [],
   "source": [
    "df1.loc[df1['Enkättext'] == 'Möjligheterna till befordran inom mitt arbetsområde är små',\n",
    "        ['Beskrivning']] = 'Möjlighet befordran'"
   ]
  },
  {
   "cell_type": "code",
   "execution_count": null,
   "metadata": {},
   "outputs": [],
   "source": [
    "df1.loc[df1['Enkättext'] == 'Vilka av följande påståenden tycker du stämmer på dig? @ Möjligheterna till befordran inom mitt arbetsområde är små.',\n",
    "        ['Beskrivning']] = 'Möjlighet befordran'"
   ]
  },
  {
   "cell_type": "code",
   "execution_count": null,
   "metadata": {},
   "outputs": [],
   "source": [
    "df1.loc[df1['Enkättext'] == 'Om din arbetssituation @ Möjligheterna till befordran inom mitt arbetsområde är små.',\n",
    "        ['Beskrivning']] = 'Möjlighet befordran'"
   ]
  },
  {
   "cell_type": "code",
   "execution_count": null,
   "metadata": {},
   "outputs": [],
   "source": [
    "df1.loc[df1['Enkättext'] == 'Jag upplever för närvarande eller förväntar mig en försämring i min arbetssituation',\n",
    "        ['Beskrivning']] = 'Möjlighet befordran'"
   ]
  },
  {
   "cell_type": "code",
   "execution_count": null,
   "metadata": {},
   "outputs": [],
   "source": [
    "df1.loc[df1['Enkättext'] == 'Vilka av följande påståenden tycker du stämmer på dig? @ Jag upplever för närvarande eller förväntar mig en försämring i min arbetssituation.',\n",
    "        ['Beskrivning']] = 'Försämrad arbetssituation'"
   ]
  },
  {
   "cell_type": "code",
   "execution_count": null,
   "metadata": {},
   "outputs": [],
   "source": [
    "df1.loc[df1['Enkättext'] == 'Om din arbetssituation @ Jag upplever för närvarande eller förväntar mig en försämring i min arbetssituation.',\n",
    "        ['Beskrivning']] = 'Försämrad arbetssituation'"
   ]
  },
  {
   "cell_type": "code",
   "execution_count": null,
   "metadata": {},
   "outputs": [],
   "source": [
    "df1.loc[df1['Enkättext'] == 'Mitt arbete är hotat',\n",
    "        ['Beskrivning']] = 'Arbete hotat'"
   ]
  },
  {
   "cell_type": "code",
   "execution_count": null,
   "metadata": {},
   "outputs": [],
   "source": [
    "df1.loc[df1['Enkättext'] == 'Vilka av följande påståenden tycker du stämmer på dig? @ Mitt arbete är hotat.',\n",
    "        ['Beskrivning']] = 'Arbete hotat'"
   ]
  },
  {
   "cell_type": "code",
   "execution_count": null,
   "metadata": {},
   "outputs": [],
   "source": [
    "df1.loc[df1['Enkättext'] == 'Om din arbetssituation @ Mitt arbete är hotat.',\n",
    "        ['Beskrivning']] = 'Arbete hotat'"
   ]
  },
  {
   "cell_type": "code",
   "execution_count": null,
   "metadata": {},
   "outputs": [],
   "source": [
    "df1.loc[df1['Enkättext'] == 'Med tanke på den möda jag har lagt ned och allt jag har uträttat, så får jag i mitt arbete inte det erkännande som jag förtjänar',\n",
    "        ['Beskrivning']] = 'Inget erkännande'"
   ]
  },
  {
   "cell_type": "code",
   "execution_count": null,
   "metadata": {},
   "outputs": [],
   "source": [
    "df1.loc[df1['Enkättext'] == 'Följande påståenden gäller din senaste arbetsplats tiden strax innan du slutade arbeta: @ Med tanke på den möda jag lade ned och allt jag uträttade, så fick jag i mitt arbete inte det erkännande som jag förtjänade',\n",
    "        ['Beskrivning']] = 'Inget erkännande'"
   ]
  },
  {
   "cell_type": "code",
   "execution_count": null,
   "metadata": {},
   "outputs": [],
   "source": [
    "df1.loc[df1['Enkättext'] == 'Vilka av följande påståenden tycker du stämmer på dig? @ Med tanke på den möda jag har lagt ned och allt jag har uträttat, så får jag i mitt arbete det erkännande som jag förtjänar.',\n",
    "        ['Beskrivning']] = 'Inget erkännande'"
   ]
  },
  {
   "cell_type": "code",
   "execution_count": null,
   "metadata": {},
   "outputs": [],
   "source": [
    "df1.loc[df1['Enkättext'] == 'Om din arbetssituation @ Med tanke på den möda jag har lagt ned och allt jag har uträttat, så får jag i mitt arbete det erkännande som jag förtjänar.',\n",
    "        ['Beskrivning']] = 'Inget erkännande'"
   ]
  },
  {
   "cell_type": "code",
   "execution_count": null,
   "metadata": {},
   "outputs": [],
   "source": [
    "df1.loc[df1['Enkättext'] == 'Med tanke på den möda jag har lagt ned och allt jag har uträttat, är mina möjligheter att avancera inom yrkeslivet orimligt små',\n",
    "        ['Beskrivning']] = 'Möjlighet att avancera'"
   ]
  },
  {
   "cell_type": "code",
   "execution_count": null,
   "metadata": {},
   "outputs": [],
   "source": [
    "df1.loc[df1['Enkättext'] == 'Vilka av följande påståenden tycker du stämmer på dig? @ Med tanke på den möda jag har lagt ned och allt jag har uträttat, är mina möjligheter att avancera inom yrkeslivet rimliga.',\n",
    "        ['Beskrivning']] = 'Möjlighet att avancera'"
   ]
  },
  {
   "cell_type": "code",
   "execution_count": null,
   "metadata": {},
   "outputs": [],
   "source": [
    "df1.loc[df1['Enkättext'] == 'Om din arbetssituation @ Med tanke på den möda jag har lagt ned och allt jag har uträttat, är mina möjligheter att avancera inom yrkeslivet rimliga.',\n",
    "        ['Beskrivning']] = 'Möjlighet att avancera'"
   ]
  },
  {
   "cell_type": "code",
   "execution_count": null,
   "metadata": {},
   "outputs": [],
   "source": [
    "df1.loc[df1['Enkättext'] == 'Med tanke på allt jag har uträttat, så har jag inte en rimlig lön',\n",
    "        ['Beskrivning']] = 'Rimlig lön'"
   ]
  },
  {
   "cell_type": "code",
   "execution_count": null,
   "metadata": {},
   "outputs": [],
   "source": [
    "df1.loc[df1['Enkättext'] == 'Följande påståenden gäller din senaste arbetsplats tiden strax innan du slutade arbeta: @ Med tanke på allt jag uträttade, så hade jag inte en rimlig lön',\n",
    "        ['Beskrivning']] = 'Rimlig lön'"
   ]
  },
  {
   "cell_type": "code",
   "execution_count": null,
   "metadata": {},
   "outputs": [],
   "source": [
    "df1.loc[df1['Enkättext'] == 'Vilka av följande påståenden tycker du stämmer på dig? @ Med tanke på allt jag har uträttat, har jag en rimlig lön.',\n",
    "        ['Beskrivning']] = 'Rimlig lön'"
   ]
  },
  {
   "cell_type": "code",
   "execution_count": null,
   "metadata": {},
   "outputs": [],
   "source": [
    "df1.loc[df1['Enkättext'] == 'Om din arbetssituation @ Med tanke på allt jag har uträttat, har jag en rimlig lön.',\n",
    "        ['Beskrivning']] = 'Rimlig lön'"
   ]
  },
  {
   "cell_type": "code",
   "execution_count": null,
   "metadata": {},
   "outputs": [],
   "source": [
    "df1.loc[df1['Enkättext'] == 'Jag förväntas ta egna beslut och vara ansvarig för dem',\n",
    "        ['Beskrivning']] = 'Egna beslut ansvar'"
   ]
  },
  {
   "cell_type": "code",
   "execution_count": null,
   "metadata": {},
   "outputs": [],
   "source": [
    "df1.loc[df1['Enkättext'] == 'Hur är stämningen på din arbetsplats? @ Jag förväntas ta egna beslut och vara ansvarig för dem.',\n",
    "        ['Beskrivning']] = 'Egna beslut ansvar'"
   ]
  },
  {
   "cell_type": "code",
   "execution_count": null,
   "metadata": {},
   "outputs": [],
   "source": [
    "df1.loc[df1['Enkättext'] == 'På min arbetsplats bryr vi oss om varandra',\n",
    "        ['Beskrivning']] = 'Arbetsplats omtanke'"
   ]
  },
  {
   "cell_type": "code",
   "execution_count": null,
   "metadata": {},
   "outputs": [],
   "source": [
    "df1.loc[df1['Enkättext'] == 'På min arbetsplats bryr vi oss om varandra.',\n",
    "        ['Beskrivning']] = 'Arbetsplats omtanke'"
   ]
  },
  {
   "cell_type": "code",
   "execution_count": null,
   "metadata": {},
   "outputs": [],
   "source": [
    "df1.loc[df1['Enkättext'] == 'Hur är stämningen på din arbetsplats? @ På min arbetsplats bryr vi oss om varandra.',\n",
    "        ['Beskrivning']] = 'Arbetsplats omtanke'"
   ]
  },
  {
   "cell_type": "code",
   "execution_count": null,
   "metadata": {},
   "outputs": [],
   "source": [
    "df1.loc[df1['Enkättext'] == 'På min arbetsplats råder inställningen att vi är utbytbara',\n",
    "        ['Beskrivning']] = 'Utbytbara medarbetare'"
   ]
  },
  {
   "cell_type": "code",
   "execution_count": null,
   "metadata": {},
   "outputs": [],
   "source": [
    "df1.loc[df1['Enkättext'] == 'Hur är stämningen på din arbetsplats? @ På min arbetsplats råder inställningen att vi är utbytbara.',\n",
    "        ['Beskrivning']] = 'Utbytbara medarbetare'"
   ]
  },
  {
   "cell_type": "code",
   "execution_count": null,
   "metadata": {},
   "outputs": [],
   "source": [
    "df1.loc[df1['Enkättext'] == 'Det är en lugn och behaglig stämning på min arbetsplats',\n",
    "        ['Beskrivning']] = 'Lugn stämning'"
   ]
  },
  {
   "cell_type": "code",
   "execution_count": null,
   "metadata": {},
   "outputs": [],
   "source": [
    "df1.loc[df1['Enkättext'] == 'Följande påståenden gäller din senaste arbetsplats innan du slutade arbeta: @ Det var en lugn och behaglig stämning på min arbetsplats.',\n",
    "        ['Beskrivning']] = 'Lugn stämning'"
   ]
  },
  {
   "cell_type": "code",
   "execution_count": null,
   "metadata": {},
   "outputs": [],
   "source": [
    "df1.loc[df1['Enkättext'] == 'Hur är stämningen på din arbetsplats? @ Det är en lugn och behaglig stämning på min arbetsplats.',\n",
    "        ['Beskrivning']] = 'Lugn stämning'"
   ]
  },
  {
   "cell_type": "code",
   "execution_count": null,
   "metadata": {},
   "outputs": [],
   "source": [
    "df1.loc[df1['Enkättext'] == 'Det är god sammanhållning',\n",
    "        ['Beskrivning']] = 'God sammanhållning'"
   ]
  },
  {
   "cell_type": "code",
   "execution_count": null,
   "metadata": {},
   "outputs": [],
   "source": [
    "df1.loc[df1['Enkättext'] == 'Följande påståenden gäller din senaste arbetsplats innan du slutade arbeta: @ Det var god sammanhållning.',\n",
    "        ['Beskrivning']] = 'God sammanhållning'"
   ]
  },
  {
   "cell_type": "code",
   "execution_count": null,
   "metadata": {},
   "outputs": [],
   "source": [
    "df1.loc[df1['Enkättext'] == 'Hur är stämningen på din arbetsplats? @ Det är god sammanhållning.',\n",
    "        ['Beskrivning']] = 'God sammanhållning'"
   ]
  },
  {
   "cell_type": "code",
   "execution_count": null,
   "metadata": {},
   "outputs": [],
   "source": [
    "df1.loc[df1['Enkättext'] == 'Mina arbetskamrater ställer upp för mig',\n",
    "        ['Beskrivning']] = 'Arbetskamrater ställer upp'"
   ]
  },
  {
   "cell_type": "code",
   "execution_count": null,
   "metadata": {},
   "outputs": [],
   "source": [
    "df1.loc[df1['Enkättext'] == 'Följande påståenden gäller din senaste arbetsplats innan du slutade arbeta: @ Mina arbetskamrater ställde upp för mig.',\n",
    "        ['Beskrivning']] = 'Arbetskamrater ställer upp'"
   ]
  },
  {
   "cell_type": "code",
   "execution_count": null,
   "metadata": {},
   "outputs": [],
   "source": [
    "df1.loc[df1['Enkättext'] == 'Hur är stämningen på din arbetsplats? @ Mina arbetskamrater ställer upp för mig.',\n",
    "        ['Beskrivning']] = 'Arbetskamrater ställer upp'"
   ]
  },
  {
   "cell_type": "code",
   "execution_count": null,
   "metadata": {},
   "outputs": [],
   "source": [
    "df1.loc[df1['Enkättext'] == 'Man har förståelse för att jag kan ha en dålig dag',\n",
    "        ['Beskrivning']] = 'Förståelse dålig dag'"
   ]
  },
  {
   "cell_type": "code",
   "execution_count": null,
   "metadata": {},
   "outputs": [],
   "source": [
    "df1.loc[df1['Enkättext'] == 'Följande påståenden gäller din senaste arbetsplats innan du slutade arbeta: @ Man hade förståelse för att jag kunde ha en dålig\\ndag.',\n",
    "        ['Beskrivning']] = 'Förståelse dålig dag'"
   ]
  },
  {
   "cell_type": "code",
   "execution_count": null,
   "metadata": {},
   "outputs": [],
   "source": [
    "df1.loc[df1['Enkättext'] == 'Hur är stämningen på din arbetsplats? @ Man har förståelse för att jag kan ha en dålig dag.',\n",
    "        ['Beskrivning']] = 'Förståelse dålig dag'"
   ]
  },
  {
   "cell_type": "code",
   "execution_count": null,
   "metadata": {},
   "outputs": [],
   "source": [
    "df1.loc[df1['Enkättext'] == 'Jag kommer bra överens med mina överordnade',\n",
    "        ['Beskrivning']] = 'Bra överens överordnade'"
   ]
  },
  {
   "cell_type": "code",
   "execution_count": null,
   "metadata": {},
   "outputs": [],
   "source": [
    "df1.loc[df1['Enkättext'] == 'Följande påståenden gäller din senaste arbetsplats innan du slutade arbeta: @ Jag kom bra överens med mina överordnade.',\n",
    "        ['Beskrivning']] = 'Bra överens överordnade'"
   ]
  },
  {
   "cell_type": "code",
   "execution_count": null,
   "metadata": {},
   "outputs": [],
   "source": [
    "df1.loc[df1['Enkättext'] == 'Hur är stämningen på din arbetsplats? @ Jag kommer bra överens med mina överordnade.',\n",
    "        ['Beskrivning']] = 'Bra överens överordnade'"
   ]
  },
  {
   "cell_type": "code",
   "execution_count": null,
   "metadata": {},
   "outputs": [],
   "source": [
    "df1.loc[df1['Enkättext'] == 'Jag trivs med mina arbetskamrater',\n",
    "        ['Beskrivning']] = 'Trivs med arbetskamrater'"
   ]
  },
  {
   "cell_type": "code",
   "execution_count": null,
   "metadata": {},
   "outputs": [],
   "source": [
    "df1.loc[df1['Enkättext'] == 'Följande påståenden gäller din senaste arbetsplats innan du slutade arbeta: @ Jag trivdes med mina arbetskamrater.',\n",
    "        ['Beskrivning']] = 'Trivs med arbetskamrater'"
   ]
  },
  {
   "cell_type": "code",
   "execution_count": null,
   "metadata": {},
   "outputs": [],
   "source": [
    "df1.loc[df1['Enkättext'] == 'Hur är stämningen på din arbetsplats? @ Jag trivs med mina arbetskamrater.',\n",
    "        ['Beskrivning']] = 'Trivs med arbetskamrater'"
   ]
  },
  {
   "cell_type": "code",
   "execution_count": null,
   "metadata": {},
   "outputs": [],
   "source": [
    "df1.loc[df1['Enkättext'] == 'Det är ordning och reda på min arbetsplats',\n",
    "        ['Beskrivning']] = 'Ordning och reda'"
   ]
  },
  {
   "cell_type": "code",
   "execution_count": null,
   "metadata": {},
   "outputs": [],
   "source": [
    "df1.loc[df1['Enkättext'] == 'Det finns tydliga regler och förhållningssätt på min arbetsplats',\n",
    "        ['Beskrivning']] = 'Ordning och reda'"
   ]
  },
  {
   "cell_type": "code",
   "execution_count": null,
   "metadata": {},
   "outputs": [],
   "source": [
    "df1.loc[df1['Enkättext'] == 'Det är tydligt på min arbetsplats vem som gör vad',\n",
    "        ['Beskrivning']] = 'Vem gör vad'"
   ]
  },
  {
   "cell_type": "code",
   "execution_count": null,
   "metadata": {},
   "outputs": [],
   "source": [
    "df1.loc[df1['Enkättext'] == 'Det är tydligt på min arbetsplats vilka avdelningar som gör vad',\n",
    "        ['Beskrivning']] = 'Avdelningar arbetsuppgifter'"
   ]
  },
  {
   "cell_type": "code",
   "execution_count": null,
   "metadata": {},
   "outputs": [],
   "source": [
    "df1.loc[df1['Enkättext'] == 'Arbetet flyter på bra eftersom vi för det mesta vet vad vi ska göra',\n",
    "        ['Beskrivning']] = 'Ordning och reda'"
   ]
  },
  {
   "cell_type": "code",
   "execution_count": null,
   "metadata": {},
   "outputs": [],
   "source": [
    "df1.loc[df1['Enkättext'] == 'Samarbetet mellan avdelningarna i min organisation är effektivt',\n",
    "        ['Beskrivning']] = 'Avdelningar samarbetar'"
   ]
  },
  {
   "cell_type": "code",
   "execution_count": null,
   "metadata": {},
   "outputs": [],
   "source": [
    "df1.loc[df1['Enkättext'] == 'Ledningen låter oss anställda fatta egna beslut',\n",
    "        ['Beskrivning']] = 'Anställda fattar beslut'"
   ]
  },
  {
   "cell_type": "code",
   "execution_count": null,
   "metadata": {},
   "outputs": [],
   "source": [
    "df1.loc[df1['Enkättext'] == 'Hur är stämningen på din arbetsplats? @ Ledningen låter oss anställda fatta egna beslut.',\n",
    "        ['Beskrivning']] = 'Anställda fattar beslut'"
   ]
  },
  {
   "cell_type": "code",
   "execution_count": null,
   "metadata": {},
   "outputs": [],
   "source": [
    "df1.loc[df1['Enkättext'] == 'Det är klart vem som fattar beslut i olika frågor på min arbetsplats',\n",
    "        ['Beskrivning']] = 'Ordning och reda: beslut'"
   ]
  },
  {
   "cell_type": "code",
   "execution_count": null,
   "metadata": {},
   "outputs": [],
   "source": [
    "df1.loc[df1['Enkättext'] == 'Finns det planer på din arbetsplats att utöka verksamheten, skära ned eller lägga ned den helt?',\n",
    "        ['Beskrivning']] = 'Organisation förändring'"
   ]
  },
  {
   "cell_type": "code",
   "execution_count": null,
   "metadata": {},
   "outputs": [],
   "source": [
    "df1.loc[df1['Enkättext'] == 'Hur stämmer detta in på dig? Använd gärna mellanstegen också! @ Jag tror att jag ibland försöker bevisa mitt värde genom arbete',\n",
    "        ['Beskrivning']] = 'Bevisa värde arbete'"
   ]
  },
  {
   "cell_type": "code",
   "execution_count": null,
   "metadata": {},
   "outputs": [],
   "source": [
    "df1.loc[df1['Enkättext'] == 'Hur stämmer nedanstående påståenden in på dig? Använd gärna mellanstegen också! @ Jag tror att jag ibland försöker bevisa mitt värde genom arbete',\n",
    "        ['Beskrivning']] = 'Bevisa värde arbete'"
   ]
  },
  {
   "cell_type": "code",
   "execution_count": null,
   "metadata": {},
   "outputs": [],
   "source": [
    "df1.loc[df1['Enkättext'] == 'Hur stämmer nedanstående påståenden in på dig? Använd gärna mellanstegen också! @ Jag tror att jag ibland försöker bevisa mitt värde genom att vara duktig',\n",
    "        ['Beskrivning']] = 'Bevisa värde arbete'"
   ]
  },
  {
   "cell_type": "code",
   "execution_count": null,
   "metadata": {},
   "outputs": [],
   "source": [
    "df1.loc[df1['Enkättext'] == 'Hur stämmer detta in på dig? Använd gärna mellanstegen också! @ Min självkänsla är alltför mycket beroende av vad jag åstadkommer i mitt arbete',\n",
    "        ['Beskrivning']] = 'Självkänsla arbete'"
   ]
  },
  {
   "cell_type": "code",
   "execution_count": null,
   "metadata": {},
   "outputs": [],
   "source": [
    "df1.loc[df1['Enkättext'] == 'Hur stämmer nedanstående påståenden in på dig? Använd gärna mellanstegen också! @ Min självkänsla är alltför mycket beroende av vad jag åstadkommer i mitt arbete',\n",
    "        ['Beskrivning']] = 'Självkänsla arbete'"
   ]
  },
  {
   "cell_type": "code",
   "execution_count": null,
   "metadata": {},
   "outputs": [],
   "source": [
    "df1.loc[df1['Enkättext'] == 'Hur stämmer nedanstående påståenden in på dig? Använd gärna mellanstegen också! @ Min självkänsla är alltför mycket beroende av vad jag åstadkommer i mina dagliga sysslor',\n",
    "        ['Beskrivning']] = 'Självkänsla arbete'"
   ]
  },
  {
   "cell_type": "code",
   "execution_count": null,
   "metadata": {},
   "outputs": [],
   "source": [
    "df1.loc[df1['Enkättext'] == 'Hur stämmer detta in på dig? Använd gärna mellanstegen också! @ Jag känner ibland att jag måste vara lite bättre än andra för att duga inför mig själv',\n",
    "        ['Beskrivning']] = 'Bättre än andra'"
   ]
  },
  {
   "cell_type": "code",
   "execution_count": null,
   "metadata": {},
   "outputs": [],
   "source": [
    "df1.loc[df1['Enkättext'] == 'Hur stämmer nedanstående påståenden in på dig? Använd gärna mellanstegen också! @Jag känner ibland att jag måste vara lite bättre än andra för att duga inför mig själv',\n",
    "        ['Beskrivning']] = 'Bättre än andra'"
   ]
  },
  {
   "cell_type": "code",
   "execution_count": null,
   "metadata": {},
   "outputs": [],
   "source": [
    "df1.loc[df1['Enkättext'] == 'Hur stämmer nedanstående påståenden in på dig? Använd gärna mellanstegen också! @ Jag känner ibland att jag måste vara lite bättre än andra för att duga inför mig själv',\n",
    "        ['Beskrivning']] = 'Bättre än andra'"
   ]
  },
  {
   "cell_type": "code",
   "execution_count": null,
   "metadata": {},
   "outputs": [],
   "source": [
    "df1.loc[df1['Enkättext'] == 'Hur stämmer detta in på dig? Använd gärna mellanstegen också! @ Jag har känt ett inre tvång att åstadkomma något värdefullt genom mitt arbete',\n",
    "        ['Beskrivning']] = 'Inre tvång'"
   ]
  },
  {
   "cell_type": "code",
   "execution_count": null,
   "metadata": {},
   "outputs": [],
   "source": [
    "df1.loc[df1['Enkättext'] == 'Hur stämmer nedanstående påståenden in på dig? Använd gärna mellanstegen också! @ Jag har känt ett inre tvång att åstadkomma något värdefullt genom mitt arbete',\n",
    "        ['Beskrivning']] = 'Inre tvång'"
   ]
  },
  {
   "cell_type": "code",
   "execution_count": null,
   "metadata": {},
   "outputs": [],
   "source": [
    "df1.loc[df1['Enkättext'] == 'Hur stämmer nedanstående påståenden in på dig? Använd gärna mellanstegen också! @ Jag har känt ett inre tvång att åstadkomma något värdefullt här i livet',\n",
    "        ['Beskrivning']] = 'Inre tvång'"
   ]
  },
  {
   "cell_type": "code",
   "execution_count": null,
   "metadata": {},
   "outputs": [],
   "source": [
    "df1.loc[df1['Enkättext'] == 'Vilka av följande påståenden tycker du stämmer på dig? Ange ett alternativ på varje fråga. @ I mitt arbete kommer jag ofta i tidsnöd',\n",
    "        ['Beskrivning']] = 'Tidsnöd'"
   ]
  },
  {
   "cell_type": "code",
   "execution_count": null,
   "metadata": {},
   "outputs": [],
   "source": [
    "df1.loc[df1['Enkättext'] == 'Vilka av följande påståenden tycker du stämmer på dig? Ange ett alternativ på varje fråga. @ Det händer mig ofta att jag redan när jag vaknar börjar tänka på arbetsrelaterade problem',\n",
    "        ['Beskrivning']] = 'Vakna tänka på arbete'"
   ]
  },
  {
   "cell_type": "code",
   "execution_count": null,
   "metadata": {},
   "outputs": [],
   "source": [
    "df1.loc[df1['Enkättext'] == 'Vilka av följande påståenden tycker du stämmer på dig? @ Det händer ofta att jag redan när jag vaknar börjar tänka på arbetsrelaterade problem.',\n",
    "        ['Beskrivning']] = 'Vakna tänka på arbete'"
   ]
  },
  {
   "cell_type": "code",
   "execution_count": null,
   "metadata": {},
   "outputs": [],
   "source": [
    "df1.loc[df1['Enkättext'] == 'Vilka av följande påståenden tycker du stämmer på dig? Ange ett alternativ på varje fråga. @ När jag kommer hem kan jag lätt slappna av och ”koppla bort” arbetet',\n",
    "        ['Beskrivning']] = 'Komma hem koppla av'"
   ]
  },
  {
   "cell_type": "code",
   "execution_count": null,
   "metadata": {},
   "outputs": [],
   "source": [
    "df1.loc[df1['Enkättext'] == 'Vilka av följande påståenden tycker du stämmer på dig? @ När jag kommer hem kan jag lätt slappna av och ”koppla bort” arbetet.',\n",
    "        ['Beskrivning']] = 'Komma hem koppla av'"
   ]
  },
  {
   "cell_type": "code",
   "execution_count": null,
   "metadata": {},
   "outputs": [],
   "source": [
    "df1.loc[df1['Enkättext'] == 'Vilka av följande påståenden tycker du stämmer på dig? Ange ett alternativ på varje fråga. @ Mina närmaste säger att jag offrar för mycket för arbetet',\n",
    "        ['Beskrivning']] = 'Arbete offra vänner'"
   ]
  },
  {
   "cell_type": "code",
   "execution_count": null,
   "metadata": {},
   "outputs": [],
   "source": [
    "df1.loc[df1['Enkättext'] == 'Vilka av följande påståenden tycker du stämmer på dig? Ange ett alternativ på varje fråga. @ Jag blir sällan kvitt arbetet, även på kvällarna tänker jag på det',\n",
    "        ['Beskrivning']] = 'Kvällen tänka på arbete'"
   ]
  },
  {
   "cell_type": "code",
   "execution_count": null,
   "metadata": {},
   "outputs": [],
   "source": [
    "df1.loc[df1['Enkättext'] == 'Vilka av följande påståenden tycker du stämmer på dig? @ Jag blir sällan kvitt arbetet, även på kvällarna tänker jag på det.',\n",
    "        ['Beskrivning']] = 'Kvällen tänka på arbete'"
   ]
  },
  {
   "cell_type": "code",
   "execution_count": null,
   "metadata": {},
   "outputs": [],
   "source": [
    "df1.loc[df1['Enkättext'] == 'Hur löser man i huvudsak meningsskiljaktigheter på din arbetsplats?',\n",
    "        ['Beskrivning']] = 'Lösa problem'"
   ]
  },
  {
   "cell_type": "code",
   "execution_count": null,
   "metadata": {},
   "outputs": [],
   "source": [
    "df1.loc[df1['Enkättext'] == 'Hur löste man i huvudsak meningsskiljaktigheter på din arbetsplats innan du slutade arbeta?',\n",
    "        ['Beskrivning']] = 'Lösa problem'"
   ]
  },
  {
   "cell_type": "code",
   "execution_count": null,
   "metadata": {},
   "outputs": [],
   "source": [
    "df1.loc[df1['Enkättext'] == 'Har du under de två senaste åren varit indragen i någon form av konflikt på din arbetsplats?',\n",
    "        ['Beskrivning']] = 'Konflikt arbetsplats'"
   ]
  },
  {
   "cell_type": "code",
   "execution_count": null,
   "metadata": {},
   "outputs": [],
   "source": [
    "df1.loc[df1['Enkättext'] == 'Har du under de två senaste åren varit indragen i någon form av konflikt på din arbetsplats? @ Om ja: Vad handlade konflikten/konflikterna om? Du kan kryssa i flera alternativ.',\n",
    "        ['Beskrivning']] = 'Konflikt arbetsplats'"
   ]
  },
  {
   "cell_type": "code",
   "execution_count": null,
   "metadata": {},
   "outputs": [],
   "source": [
    "df1.loc[df1['Enkättext'] == 'Har du under de två senaste åren varit indragen i någon form av konflikt på din arbetsplats med… @ …chefer?/…arbetskamrater?/ … andra personer (t ex patienter, kunder, klienter, passagerare, elever)? @ Om ja: Vad handlade konflikten/konflikterna om? Du kan kryssa i flera alternativ.',\n",
    "        ['Beskrivning']] = 'Konflikt arbetsplats'"
   ]
  },
  {
   "cell_type": "code",
   "execution_count": null,
   "metadata": {},
   "outputs": [],
   "source": [
    "df1.loc[df1['Enkättext'] == 'Strax innan du slutade arbeta, var du indragen i någon form av konflikt på din arbetsplats med …. ? @ …chefer?/…arbetskamrater?/ … andra personer (t ex patienter, kunder, klienter, passagerare, elever)? @ Om ja: Vad handlade konflikten/konflikterna om? Du kan kryssa i flera alternativ. ',\n",
    "        ['Beskrivning']] = 'Konflikt arbetsplats'"
   ]
  },
  {
   "cell_type": "code",
   "execution_count": null,
   "metadata": {},
   "outputs": [],
   "source": [
    "df1.loc[df1['Enkättext'] == 'Har du under de två senaste åren varit indragen i någon form av konflikt på din arbetsplats? @ Vilken betydelse anser du i stort att konflikten/konflikterna har haft?',\n",
    "        ['Beskrivning']] = 'Konflikt betydelse'"
   ]
  },
  {
   "cell_type": "code",
   "execution_count": null,
   "metadata": {},
   "outputs": [],
   "source": [
    "df1.loc[df1['Enkättext'] == 'Strax innan du slutade arbeta, var du indragen i någon form av konflikt på din arbetsplats med …. ? @ …chefer?/…arbetskamrater?/ … andra personer (t ex patienter, kunder, klienter, passagerare, elever)? @ Vilken betydelse anser du i stort att konflikten/konflikterna har haft?',\n",
    "        ['Beskrivning']] = 'Konflikt betydelse'"
   ]
  },
  {
   "cell_type": "code",
   "execution_count": null,
   "metadata": {},
   "outputs": [],
   "source": [
    "df1.loc[df1['Enkättext'] == 'Har du under de två senaste åren varit indragen i någon form av konflikt på din arbetsplats? @ Pågår någon konflikt fortfarande?',\n",
    "        ['Beskrivning']] = 'Pågående konflikt'"
   ]
  },
  {
   "cell_type": "code",
   "execution_count": null,
   "metadata": {},
   "outputs": [],
   "source": [
    "df1.loc[df1['Enkättext'] == 'Strax innan du slutade arbeta, var du indragen i någon form av konflikt på din arbetsplats med …. ? @ …chefer?/…arbetskamrater?/ … andra personer (t ex patienter, kunder, klienter, passagerare, elever)? @ Pågår någon konflikt fortfarande?',\n",
    "        ['Beskrivning']] = 'Pågående konflikt'"
   ]
  },
  {
   "cell_type": "code",
   "execution_count": null,
   "metadata": {},
   "outputs": [],
   "source": [
    "df1.loc[df1['Enkättext'] == 'Pågår någon konflikt fortfarande?',\n",
    "        ['Beskrivning']] = 'Pågående konflikt'"
   ]
  },
  {
   "cell_type": "code",
   "execution_count": null,
   "metadata": {},
   "outputs": [],
   "source": [
    "df1.loc[df1['Enkättext'] == 'Har du under de två senaste åren varit indragen i någon form av konflikt på din arbetsplats med … @ Pågår någon konflikt fortfarande?',\n",
    "        ['Beskrivning']] = 'Pågående konflikt'"
   ]
  },
  {
   "cell_type": "code",
   "execution_count": null,
   "metadata": {},
   "outputs": [],
   "source": [
    "df1.loc[df1['Enkättext'] == 'Har du under de två senaste åren varit indragen i någon form av konflikt på din arbetsplats? @ På det hela taget, när det gäller konflikter du varit med om, hur har utgången av dessa varit för dig hittills?',\n",
    "        ['Beskrivning']] = 'Konflikt utgång'"
   ]
  },
  {
   "cell_type": "code",
   "execution_count": null,
   "metadata": {},
   "outputs": [],
   "source": [
    "df1.loc[df1['Enkättext'] == 'Strax innan du slutade arbeta, var du indragen i någon form av konflikt på din arbetsplats med …. ? @ …chefer?/…arbetskamrater?/ … andra personer (t ex patienter, kunder, klienter, passagerare, elever)? @ På det hela taget, när det gäller konflikter du varit med om, hur har utgången av dessa varit för dig hittills?',\n",
    "        ['Beskrivning']] = 'Konflikt utgång'"
   ]
  },
  {
   "cell_type": "code",
   "execution_count": null,
   "metadata": {},
   "outputs": [],
   "source": [
    "df1.loc[df1['Enkättext'] == 'Känner din chef dig?',\n",
    "        ['Beskrivning']] = 'Känner din chef'"
   ]
  },
  {
   "cell_type": "code",
   "execution_count": null,
   "metadata": {},
   "outputs": [],
   "source": [
    "df1.loc[df1['Enkättext'] == 'Visar din chef omsorg om dig?',\n",
    "        ['Beskrivning']] = 'Chef omsorg'"
   ]
  },
  {
   "cell_type": "code",
   "execution_count": null,
   "metadata": {},
   "outputs": [],
   "source": [
    "df1.loc[df1['Enkättext'] == 'Om du inte har någon chef, fortsätt med fråga nr 33b @ Visar din chef omsorg om dig?',\n",
    "        ['Beskrivning']] = 'Chef omsorg'"
   ]
  },
  {
   "cell_type": "code",
   "execution_count": null,
   "metadata": {},
   "outputs": [],
   "source": [
    "df1.loc[df1['Enkättext'] == 'Några ytterligare frågor om din chef. @ Visar din chef omsorg om dig?',\n",
    "        ['Beskrivning']] = 'Chef omsorg'"
   ]
  },
  {
   "cell_type": "code",
   "execution_count": null,
   "metadata": {},
   "outputs": [],
   "source": [
    "df1.loc[df1['Enkättext'] == 'Lyssnar din chef på dig och tar in det du säger?',\n",
    "        ['Beskrivning']] = 'Chef lyssnar'"
   ]
  },
  {
   "cell_type": "code",
   "execution_count": null,
   "metadata": {},
   "outputs": [],
   "source": [
    "df1.loc[df1['Enkättext'] == 'Om du inte har någon chef, fortsätt med fråga nr 33b @ Lyssnar din chef på dig och tar in det du säger?',\n",
    "        ['Beskrivning']] = 'Chef lyssnar'"
   ]
  },
  {
   "cell_type": "code",
   "execution_count": null,
   "metadata": {},
   "outputs": [],
   "source": [
    "df1.loc[df1['Enkättext'] == 'Några ytterligare frågor om din chef. @ Lyssnar din chef på dig och tar in det du\\nsäger?',\n",
    "        ['Beskrivning']] = 'Chef lyssnar'"
   ]
  },
  {
   "cell_type": "code",
   "execution_count": null,
   "metadata": {},
   "outputs": [],
   "source": [
    "df1.loc[df1['Enkättext'] == 'Om relationer till din chef. @ Lyssnar din chef på dig och tar in det du säger?',\n",
    "        ['Beskrivning']] = 'Chef lyssnar'"
   ]
  },
  {
   "cell_type": "code",
   "execution_count": null,
   "metadata": {},
   "outputs": [],
   "source": [
    "df1.loc[df1['Enkättext'] == 'Mer om din närmaste chef @ Lyssnar din chef på dig och tar in det du säger?',\n",
    "        ['Beskrivning']] = 'Chef lyssnar'"
   ]
  },
  {
   "cell_type": "code",
   "execution_count": null,
   "metadata": {},
   "outputs": [],
   "source": [
    "df1.loc[df1['Enkättext'] == 'Har du förtroende för ledningen?',\n",
    "        ['Beskrivning']] = 'Förtroende för ledningen'"
   ]
  },
  {
   "cell_type": "code",
   "execution_count": null,
   "metadata": {},
   "outputs": [],
   "source": [
    "df1.loc[df1['Enkättext'] == 'Om du inte har någon chef, fortsätt med fråga nr 33b @ Har du förtroende för ledningen?',\n",
    "        ['Beskrivning']] = 'Förtroende för ledningen'"
   ]
  },
  {
   "cell_type": "code",
   "execution_count": null,
   "metadata": {},
   "outputs": [],
   "source": [
    "df1.loc[df1['Enkättext'] == 'Följande frågor gäller din senaste arbetsplats innan du slutade arbeta: @ Hade du förtroende för ledningen innan du slutade arbeta?',\n",
    "        ['Beskrivning']] = 'Förtroende för ledningen'"
   ]
  },
  {
   "cell_type": "code",
   "execution_count": null,
   "metadata": {},
   "outputs": [],
   "source": [
    "df1.loc[df1['Enkättext'] == 'Vid varje beteende eller egenskap, kryssa för hur ofta din närmaste chef gör eller är på det sättet: @ Ärlig ( = talar och handlar sanningsenligt)',\n",
    "        ['Beskrivning']] = 'Ärlig chef'"
   ]
  },
  {
   "cell_type": "code",
   "execution_count": null,
   "metadata": {},
   "outputs": [],
   "source": [
    "df1.loc[df1['Enkättext'] == 'Vid varje beteende eller egenskap, kryssa för hur ofta din närmaste chef gör eller är på det sättet. @ Ärlig (=talar och handlar sanningsenligt)',\n",
    "        ['Beskrivning']] = 'Ärlig chef'"
   ]
  },
  {
   "cell_type": "code",
   "execution_count": null,
   "metadata": {},
   "outputs": [],
   "source": [
    "df1.loc[df1['Enkättext'] == 'Vid varje beteende eller egenskap, kryssa för hur ofta din närmaste chef gör eller är på det sättet: @ Positiv ( = generellt optimistisk och tillitsfull)',\n",
    "        ['Beskrivning']] = 'Positiv chef'"
   ]
  },
  {
   "cell_type": "code",
   "execution_count": null,
   "metadata": {},
   "outputs": [],
   "source": [
    "df1.loc[df1['Enkättext'] == 'Vid varje beteende eller egenskap, kryssa för hur ofta din närmaste chef gör eller är på det sättet: @ Befallande ( = instruerar underordnade på ett bestämmande sätt)',\n",
    "        ['Beskrivning']] = 'Befallande chef'"
   ]
  },
  {
   "cell_type": "code",
   "execution_count": null,
   "metadata": {},
   "outputs": [],
   "source": [
    "df1.loc[df1['Enkättext'] == 'Vid varje beteende eller egenskap, kryssa för hur ofta din närmaste chef gör eller är på det sättet: @ Rättvis ( = agerar i enlighet med vad som är rätt\\neller rättvist)',\n",
    "        ['Beskrivning']] = 'Rättvis chef'"
   ]
  },
  {
   "cell_type": "code",
   "execution_count": null,
   "metadata": {},
   "outputs": [],
   "source": [
    "df1.loc[df1['Enkättext'] == 'Vid varje beteende eller egenskap, kryssa för hur ofta din närmaste chef gör eller är på det sättet. @ Rättvis (=agerar i enlighet med vad som är\\nrätt eller rättvist)',\n",
    "        ['Beskrivning']] = 'Rättvis chef'"
   ]
  },
  {
   "cell_type": "code",
   "execution_count": null,
   "metadata": {},
   "outputs": [],
   "source": [
    "df1.loc[df1['Enkättext'] == 'Vid varje beteende eller egenskap, kryssa för hur ofta din närmaste chef gör eller är på det sättet: @ Egoistisk ( = följer sina egna intressen)',\n",
    "        ['Beskrivning']] = 'Egoistisk chef'"
   ]
  },
  {
   "cell_type": "code",
   "execution_count": null,
   "metadata": {},
   "outputs": [],
   "source": [
    "df1.loc[df1['Enkättext'] == 'Vid varje beteende eller egenskap, kryssa för hur ofta din närmaste chef gör eller är på det sättet: @ Ej delaktig ( = ovillig till gemensamma aktiviteter)',\n",
    "        ['Beskrivning']] = 'Ej delaktig chef'"
   ]
  },
  {
   "cell_type": "code",
   "execution_count": null,
   "metadata": {},
   "outputs": [],
   "source": [
    "df1.loc[df1['Enkättext'] == 'Vid varje beteende eller egenskap, kryssa för hur ofta din närmaste chef gör eller är på det sättet. @ Ej delaktig (=ovillig till gemensamma\\naktiviteter)',\n",
    "        ['Beskrivning']] = 'Ej delaktig chef'"
   ]
  },
  {
   "cell_type": "code",
   "execution_count": null,
   "metadata": {},
   "outputs": [],
   "source": [
    "df1.loc[df1['Enkättext'] == 'Vid varje beteende eller egenskap, kryssa för hur ofta din närmaste chef gör eller är på det sättet: @ Elitistisk ( = anser att en liten grupp människor\\nmed likartad bakgrund är överlägsna och skall åtnjuta privilegier)',\n",
    "        ['Beskrivning']] = 'Elitistisk chef'"
   ]
  },
  {
   "cell_type": "code",
   "execution_count": null,
   "metadata": {},
   "outputs": [],
   "source": [
    "df1.loc[df1['Enkättext'] == 'Vid varje beteende eller egenskap, kryssa för hur ofta din närmaste chef gör eller är på det sättet. @ Elitistisk (=anser att en liten grupp\\nmänniskor med likartad bakgrund är överlägsna och skall åtnjuta privilegier)',\n",
    "        ['Beskrivning']] = 'Elitistisk chef'"
   ]
  },
  {
   "cell_type": "code",
   "execution_count": null,
   "metadata": {},
   "outputs": [],
   "source": [
    "df1.loc[df1['Enkättext'] == 'Vid varje beteende eller egenskap, kryssa för hur ofta din närmaste chef gör eller är på det sättet: @ Skapar laganda ( = förmåga att förmå gruppmedlemmar att arbeta tillsammans)',\n",
    "        ['Beskrivning']] = 'Skapar laganda chef'"
   ]
  },
  {
   "cell_type": "code",
   "execution_count": null,
   "metadata": {},
   "outputs": [],
   "source": [
    "df1.loc[df1['Enkättext'] == 'Vid varje beteende eller egenskap, kryssa för hur ofta din närmaste chef gör eller är på det sättet: @ Diktatorisk ( = tvingar på andra sina värderingar och åsikter)',\n",
    "        ['Beskrivning']] = 'Diktatorisk chef'"
   ]
  },
  {
   "cell_type": "code",
   "execution_count": null,
   "metadata": {},
   "outputs": [],
   "source": [
    "df1.loc[df1['Enkättext'] == 'Vid varje beteende eller egenskap, kryssa för hur ofta din närmaste chef gör eller är på det sättet: @ Uppriktig ( = menar vad man säger, rak)',\n",
    "        ['Beskrivning']] = 'Uppriktig chef'"
   ]
  },
  {
   "cell_type": "code",
   "execution_count": null,
   "metadata": {},
   "outputs": [],
   "source": [
    "df1.loc[df1['Enkättext'] == 'Vid varje beteende eller egenskap, kryssa för hur ofta din närmaste chef gör eller är på det sättet: @ Integrerare ( = integrerar människor eller saker till en sammanhängande, fungerande helhet)',\n",
    "        ['Beskrivning']] = 'Chef integrerare'"
   ]
  },
  {
   "cell_type": "code",
   "execution_count": null,
   "metadata": {},
   "outputs": [],
   "source": [
    "df1.loc[df1['Enkättext'] == 'Vid varje beteende eller egenskap, kryssa för hur ofta din närmaste chef gör eller är på det sättet: @ ( = förtjänar förtroende, håller vad man lovar)',\n",
    "        ['Beskrivning']] = 'Chef förtroende'"
   ]
  },
  {
   "cell_type": "code",
   "execution_count": null,
   "metadata": {},
   "outputs": [],
   "source": [
    "df1.loc[df1['Enkättext'] == 'Vid varje beteende eller egenskap, kryssa för hur ofta din närmaste chef gör eller är på det sättet: @ Moralhöjare ( = ökar de underordnades moral genom uppmuntran, beröm och/eller genom att visa tillförsikt)',\n",
    "        ['Beskrivning']] = 'Chef moralhöjare'"
   ]
  },
  {
   "cell_type": "code",
   "execution_count": null,
   "metadata": {},
   "outputs": [],
   "source": [
    "df1.loc[df1['Enkättext'] == 'Vid varje beteende eller egenskap, kryssa för hur ofta din närmaste chef gör eller är på det sättet: @ Enväldig (=fattar beslut på ett diktatoriskt sätt)',\n",
    "        ['Beskrivning']] = 'Chef enväldig'"
   ]
  },
  {
   "cell_type": "code",
   "execution_count": null,
   "metadata": {},
   "outputs": [],
   "source": [
    "df1.loc[df1['Enkättext'] == 'Vid varje beteende eller egenskap, kryssa för hur ofta din närmaste chef gör eller är på det sättet: @ Asocial ( = undviker människor eller grupper, föredrar att vara för sig själv)',\n",
    "        ['Beskrivning']] = 'Chef asocial'"
   ]
  },
  {
   "cell_type": "code",
   "execution_count": null,
   "metadata": {},
   "outputs": [],
   "source": [
    "df1.loc[df1['Enkättext'] == 'Vid varje beteende eller egenskap, kryssa för hur ofta din närmaste chef gör eller är på det sättet: @ Ensamvarg ( = arbetar för sig själv)',\n",
    "        ['Beskrivning']] = 'Chef ensamvarg'"
   ]
  },
  {
   "cell_type": "code",
   "execution_count": null,
   "metadata": {},
   "outputs": [],
   "source": [
    "df1.loc[df1['Enkättext'] == 'Vid varje beteende eller egenskap, kryssa för hur ofta din närmaste chef gör eller är på det sättet: @ Entusiastisk ( = visar och överför starka positiva känslor i arbetet)',\n",
    "        ['Beskrivning']] = 'Chef entusiastisk'"
   ]
  },
  {
   "cell_type": "code",
   "execution_count": null,
   "metadata": {},
   "outputs": [],
   "source": [
    "df1.loc[df1['Enkättext'] == 'Vid varje beteende eller egenskap, kryssa för hur ofta din närmaste chef gör eller är på det sättet: @ Informerad ( = kunnig, besitter relevant information)',\n",
    "        ['Beskrivning']] = 'Chef informerad'"
   ]
  },
  {
   "cell_type": "code",
   "execution_count": null,
   "metadata": {},
   "outputs": [],
   "source": [
    "df1.loc[df1['Enkättext'] == 'Vid varje beteende eller egenskap, kryssa för hur ofta din närmaste chef gör eller är på det sättet: @ Entusiasmerande ( = mobiliserar, motiverar och aktiverar medarbetare)',\n",
    "        ['Beskrivning']] = 'Chef entusiasmerande'"
   ]
  },
  {
   "cell_type": "code",
   "execution_count": null,
   "metadata": {},
   "outputs": [],
   "source": [
    "df1.loc[df1['Enkättext'] == 'I vilken grad är du delaktig i beslutsfattande inom din organisation?',\n",
    "        ['Beskrivning']] = 'Delaktig beslutfattande'"
   ]
  },
  {
   "cell_type": "code",
   "execution_count": null,
   "metadata": {},
   "outputs": [],
   "source": [
    "df1.loc[df1['Enkättext'] == 'Följande frågor gäller din senaste arbetsplats innan du slutade arbeta: @ I vilken grad var du delaktig i beslutsfattande inom din organisation?',\n",
    "        ['Beskrivning']] = 'Delaktig beslutfattande'"
   ]
  },
  {
   "cell_type": "code",
   "execution_count": null,
   "metadata": {},
   "outputs": [],
   "source": [
    "df1.loc[df1['Enkättext'] == 'I vilken grad styrs det du gör i ditt arbete av organisationens mål och delmål?',\n",
    "        ['Beskrivning']] = 'Organisationen mål styr'"
   ]
  },
  {
   "cell_type": "code",
   "execution_count": null,
   "metadata": {},
   "outputs": [],
   "source": [
    "df1.loc[df1['Enkättext'] == 'I vilken grad känner du att du har tillhörighet till din arbetsplats?',\n",
    "        ['Beskrivning']] = 'Tillhörighet arbetsplats'"
   ]
  },
  {
   "cell_type": "code",
   "execution_count": null,
   "metadata": {},
   "outputs": [],
   "source": [
    "df1.loc[df1['Enkättext'] == 'vilken grad stämmer värdegrunden på din arbetsplats överens med din egen?',\n",
    "        ['Beskrivning']] = 'Arbetsplats värdegrund'"
   ]
  },
  {
   "cell_type": "code",
   "execution_count": null,
   "metadata": {},
   "outputs": [],
   "source": [
    "df1.loc[df1['Enkättext'] == 'I vilken grad stämmer värdegrunden på din arbetsplats överens med din egen?',\n",
    "        ['Beskrivning']] = 'Arbetsplats värdegrund'"
   ]
  },
  {
   "cell_type": "code",
   "execution_count": null,
   "metadata": {},
   "outputs": [],
   "source": [
    "df1.loc[df1['Enkättext'] == 'Följande påståenden rör beslutsfattandet i organisationen @ Besluten fattas på basis av korrekt information',\n",
    "        ['Beskrivning']] = 'Beslut korrekt information'"
   ]
  },
  {
   "cell_type": "code",
   "execution_count": null,
   "metadata": {},
   "outputs": [],
   "source": [
    "df1.loc[df1['Enkättext'] == 'Följande påståenden rör beslutsfattandet i hela organisationen @ Besluten fattas på basis av korrekt information',\n",
    "        ['Beskrivning']] = 'Beslut korrekt information'"
   ]
  },
  {
   "cell_type": "code",
   "execution_count": null,
   "metadata": {},
   "outputs": [],
   "source": [
    "df1.loc[df1['Enkättext'] == 'Följande påståenden rör beslutsfattandet i hela organisationen @ Besluten fattas på basis av korrekt information.',\n",
    "        ['Beskrivning']] = 'Beslut korrekt information'"
   ]
  },
  {
   "cell_type": "code",
   "execution_count": null,
   "metadata": {},
   "outputs": [],
   "source": [
    "df1.loc[df1['Enkättext'] == 'Om beslutsfattandet i hela organisationen @ Besluten fattas på basis av korrekt information.',\n",
    "        ['Beskrivning']] = 'Beslut korrekt information'"
   ]
  },
  {
   "cell_type": "code",
   "execution_count": null,
   "metadata": {},
   "outputs": [],
   "source": [
    "df1.loc[df1['Enkättext'] == 'Följande påståenden rör beslutsfattandet i organisationen @ Misslyckade beslut kan tas tillbaka eller ändras',\n",
    "        ['Beskrivning']] = 'Misslyckade beslut'"
   ]
  },
  {
   "cell_type": "code",
   "execution_count": null,
   "metadata": {},
   "outputs": [],
   "source": [
    "df1.loc[df1['Enkättext'] == 'Följande påståenden rör beslutsfattandet i hela organisationen @ Misslyckade beslut kan tas tillbaka eller ändras',\n",
    "        ['Beskrivning']] = 'Misslyckade beslut'"
   ]
  },
  {
   "cell_type": "code",
   "execution_count": null,
   "metadata": {},
   "outputs": [],
   "source": [
    "df1.loc[df1['Enkättext'] == 'Följande påståenden rör beslutsfattandet i hela organisationen @ Misslyckade beslut kan tas tillbaka eller ändras.',\n",
    "        ['Beskrivning']] = 'Misslyckade beslut'"
   ]
  },
  {
   "cell_type": "code",
   "execution_count": null,
   "metadata": {},
   "outputs": [],
   "source": [
    "df1.loc[df1['Enkättext'] == 'Om beslutsfattandet i hela organisationen @ Misslyckade beslut kan tas tillbaka eller ändras.',\n",
    "        ['Beskrivning']] = 'Misslyckade beslut'"
   ]
  },
  {
   "cell_type": "code",
   "execution_count": null,
   "metadata": {},
   "outputs": [],
   "source": [
    "df1.loc[df1['Enkättext'] == 'Följande påståenden rör beslutsfattandet i organisationen @ Alla parter är representerade vid beslutsfattandet',\n",
    "        ['Beskrivning']] = 'Alla parter representerade'"
   ]
  },
  {
   "cell_type": "code",
   "execution_count": null,
   "metadata": {},
   "outputs": [],
   "source": [
    "df1.loc[df1['Enkättext'] == 'Följande påståenden rör beslutsfattandet i hela organisationen @ Alla parter är representerade vid beslutsfattandet',\n",
    "        ['Beskrivning']] = 'Alla parter representerade'"
   ]
  },
  {
   "cell_type": "code",
   "execution_count": null,
   "metadata": {},
   "outputs": [],
   "source": [
    "df1.loc[df1['Enkättext'] == 'Följande påståenden rör beslutsfattandet i hela organisationen @ Alla parter är representerade vid beslutsfattandet.',\n",
    "        ['Beskrivning']] = 'Alla parter representerade'"
   ]
  },
  {
   "cell_type": "code",
   "execution_count": null,
   "metadata": {},
   "outputs": [],
   "source": [
    "df1.loc[df1['Enkättext'] == 'Om beslutsfattandet i hela organisationen @ Alla parter är representerade vid beslutsfattandet.',\n",
    "        ['Beskrivning']] = 'Alla parter representerade'"
   ]
  },
  {
   "cell_type": "code",
   "execution_count": null,
   "metadata": {},
   "outputs": [],
   "source": [
    "df1.loc[df1['Enkättext'] == 'Följande påståenden rör beslutsfattandet i organisationen @ Besluten är konsekventa (samma regler gäller för alla)',\n",
    "        ['Beskrivning']] = 'Beslut konsekventa'"
   ]
  },
  {
   "cell_type": "code",
   "execution_count": null,
   "metadata": {},
   "outputs": [],
   "source": [
    "df1.loc[df1['Enkättext'] == 'Följande påståenden rör beslutsfattandet i hela organisationen @ Besluten är konsekventa (samma regler gäller för alla)',\n",
    "        ['Beskrivning']] = 'Beslut konsekventa'"
   ]
  },
  {
   "cell_type": "code",
   "execution_count": null,
   "metadata": {},
   "outputs": [],
   "source": [
    "df1.loc[df1['Enkättext'] == 'Följande påståenden rör beslutsfattandet i hela organisationen @ Besluten är konsekventa (samma regler gäller för alla).',\n",
    "        ['Beskrivning']] = 'Beslut konsekventa'"
   ]
  },
  {
   "cell_type": "code",
   "execution_count": null,
   "metadata": {},
   "outputs": [],
   "source": [
    "df1.loc[df1['Enkättext'] == 'Om beslutsfattandet i hela organisationen @ Besluten är konsekventa (samma regler gäller för alla).',\n",
    "        ['Beskrivning']] = 'Beslut konsekventa'"
   ]
  },
  {
   "cell_type": "code",
   "execution_count": null,
   "metadata": {},
   "outputs": [],
   "source": [
    "df1.loc[df1['Enkättext'] == 'Följande påståenden rör beslutsfattandet i organisationen @ Alla har rätt att säga sin åsikt i ärenden som berör dem själva',\n",
    "        ['Beskrivning']] = 'Säga sin åsikt'"
   ]
  },
  {
   "cell_type": "code",
   "execution_count": null,
   "metadata": {},
   "outputs": [],
   "source": [
    "df1.loc[df1['Enkättext'] == 'Följande påståenden rör beslutsfattandet i hela organisationen @ Alla har rätt att säga sin åsikt i ärenden som berör dem själva',\n",
    "        ['Beskrivning']] = 'Säga sin åsikt'"
   ]
  },
  {
   "cell_type": "code",
   "execution_count": null,
   "metadata": {},
   "outputs": [],
   "source": [
    "df1.loc[df1['Enkättext'] == 'Följande påståenden rör beslutsfattandet i hela organisationen @ Alla har rätt att säga sin åsikt i ärenden som berör dem själva.',\n",
    "        ['Beskrivning']] = 'Säga sin åsikt'"
   ]
  },
  {
   "cell_type": "code",
   "execution_count": null,
   "metadata": {},
   "outputs": [],
   "source": [
    "df1.loc[df1['Enkättext'] == 'Om beslutsfattandet i hela organisationen @ Alla har rätt att säga sin åsikt i ärenden som berör dem själva.',\n",
    "        ['Beskrivning']] = 'Säga sin åsikt'"
   ]
  },
  {
   "cell_type": "code",
   "execution_count": null,
   "metadata": {},
   "outputs": [],
   "source": [
    "df1.loc[df1['Enkättext'] == 'Följande påståenden rör beslutsfattandet i organisationen @ Man följer upp konsekvenserna av besluten och informerar om dem',\n",
    "        ['Beskrivning']] = 'Följa upp beslut'"
   ]
  },
  {
   "cell_type": "code",
   "execution_count": null,
   "metadata": {},
   "outputs": [],
   "source": [
    "df1.loc[df1['Enkättext'] == 'Följande påståenden rör beslutsfattandet i hela organisationen @ Man följer upp konsekvenserna av besluten och informerar om dem',\n",
    "        ['Beskrivning']] = 'Följa upp beslut'"
   ]
  },
  {
   "cell_type": "code",
   "execution_count": null,
   "metadata": {},
   "outputs": [],
   "source": [
    "df1.loc[df1['Enkättext'] == 'Följande påståenden rör beslutsfattandet i hela organisationen @ Man följer upp konsekvenserna av besluten och informerar om dem.',\n",
    "        ['Beskrivning']] = 'Följa upp beslut'"
   ]
  },
  {
   "cell_type": "code",
   "execution_count": null,
   "metadata": {},
   "outputs": [],
   "source": [
    "df1.loc[df1['Enkättext'] == 'Om beslutsfattandet i hela organisationen @ Man följer upp konsekvenserna av besluten och informerar om dem.',\n",
    "        ['Beskrivning']] = 'Följa upp beslut'"
   ]
  },
  {
   "cell_type": "code",
   "execution_count": null,
   "metadata": {},
   "outputs": [],
   "source": [
    "df1.loc[df1['Enkättext'] == 'Följande påståenden rör beslutsfattandet i organisationen @ Vid behov kan man få närmare information om vad besluten baserar sig på',\n",
    "        ['Beskrivning']] = 'Mer information beslut'"
   ]
  },
  {
   "cell_type": "code",
   "execution_count": null,
   "metadata": {},
   "outputs": [],
   "source": [
    "df1.loc[df1['Enkättext'] == 'Om beslutsfattandet i hela organisationen @ Vid behov kan man få närmare information om vad besluten baserar sig på',\n",
    "        ['Beskrivning']] = 'Mer information beslut'"
   ]
  },
  {
   "cell_type": "code",
   "execution_count": null,
   "metadata": {},
   "outputs": [],
   "source": [
    "df1.loc[df1['Enkättext'] == 'På min arbetsplats har allas mening betydelse',\n",
    "        ['Beskrivning']] = 'Allas åsikt viktigt'"
   ]
  },
  {
   "cell_type": "code",
   "execution_count": null,
   "metadata": {},
   "outputs": [],
   "source": [
    "df1.loc[df1['Enkättext'] == 'Följande påståenden rör arbetsplatsen @ På min arbetsplats har allas mening betydelse',\n",
    "        ['Beskrivning']] = 'Allas åsikt viktigt'"
   ]
  },
  {
   "cell_type": "code",
   "execution_count": null,
   "metadata": {},
   "outputs": [],
   "source": [
    "df1.loc[df1['Enkättext'] == 'Följande påståenden rör arbetsplatsen. @ På min arbetsplats har allas mening betydelse.',\n",
    "        ['Beskrivning']] = 'Allas åsikt viktigt'"
   ]
  },
  {
   "cell_type": "code",
   "execution_count": null,
   "metadata": {},
   "outputs": [],
   "source": [
    "df1.loc[df1['Enkättext'] == 'På min arbetsplats lyssnar ledningen på oss',\n",
    "        ['Beskrivning']] = 'Ledningen lyssnar'"
   ]
  },
  {
   "cell_type": "code",
   "execution_count": null,
   "metadata": {},
   "outputs": [],
   "source": [
    "df1.loc[df1['Enkättext'] == 'På min arbetsplats får vi den information vi behöver för att kunna vara delaktiga',\n",
    "        ['Beskrivning']] = 'Information delaktig'"
   ]
  },
  {
   "cell_type": "code",
   "execution_count": null,
   "metadata": {},
   "outputs": [],
   "source": [
    "df1.loc[df1['Enkättext'] == 'Följande påståenden rör arbetsplatsen @ På min arbetsplats får vi den information vi behöver för att kunna vara delaktiga',\n",
    "        ['Beskrivning']] = 'Information delaktig'"
   ]
  },
  {
   "cell_type": "code",
   "execution_count": null,
   "metadata": {},
   "outputs": [],
   "source": [
    "df1.loc[df1['Enkättext'] == 'På min arbetsplats deltar alla i diskussioner om framtiden',\n",
    "        ['Beskrivning']] = 'Diskussion om framtiden'"
   ]
  },
  {
   "cell_type": "code",
   "execution_count": null,
   "metadata": {},
   "outputs": [],
   "source": [
    "df1.loc[df1['Enkättext'] == 'Följande påståenden rör arbetsplatsen @ På min arbetsplats deltar alla i diskussioner om framtiden',\n",
    "        ['Beskrivning']] = 'Diskussion om framtiden'"
   ]
  },
  {
   "cell_type": "code",
   "execution_count": null,
   "metadata": {},
   "outputs": [],
   "source": [
    "df1.loc[df1['Enkättext'] == 'På min arbetsplats är alla med och påverkar',\n",
    "        ['Beskrivning']] = 'Alla påverkar'"
   ]
  },
  {
   "cell_type": "code",
   "execution_count": 233,
   "metadata": {},
   "outputs": [
    {
     "data": {
      "text/plain": [
       "'På min arbetsplats är alla med och påverkar'"
      ]
     },
     "execution_count": 233,
     "metadata": {},
     "output_type": "execute_result"
    }
   ],
   "source": [
    "df2['Enkättext'].unique()[300]"
   ]
  },
  {
   "cell_type": "code",
   "execution_count": 90,
   "metadata": {},
   "outputs": [
    {
     "data": {
      "text/plain": [
       "'På min arbetsplats bryr vi oss om varandra'"
      ]
     },
     "execution_count": 90,
     "metadata": {},
     "output_type": "execute_result"
    }
   ],
   "source": [
    "df2['Enkättext'].unique()[158]"
   ]
  },
  {
   "cell_type": "code",
   "execution_count": null,
   "metadata": {},
   "outputs": [],
   "source": [
    "df1.loc[df1['Enkättext'] == ,\n",
    "        ['Beskrivning']] = 'Alla påverkar'"
   ]
  },
  {
   "cell_type": "code",
   "execution_count": 234,
   "metadata": {},
   "outputs": [
    {
     "data": {
      "text/plain": [
       "526"
      ]
     },
     "execution_count": 234,
     "metadata": {},
     "output_type": "execute_result"
    }
   ],
   "source": [
    "len(df2['Enkättext'].unique())"
   ]
  },
  {
   "cell_type": "code",
   "execution_count": null,
   "metadata": {},
   "outputs": [],
   "source": []
  }
 ],
 "metadata": {
  "kernelspec": {
   "display_name": "Python 3",
   "language": "python",
   "name": "python3"
  },
  "language_info": {
   "codemirror_mode": {
    "name": "ipython",
    "version": 3
   },
   "file_extension": ".py",
   "mimetype": "text/x-python",
   "name": "python",
   "nbconvert_exporter": "python",
   "pygments_lexer": "ipython3",
   "version": "3.7.3"
  }
 },
 "nbformat": 4,
 "nbformat_minor": 2
}

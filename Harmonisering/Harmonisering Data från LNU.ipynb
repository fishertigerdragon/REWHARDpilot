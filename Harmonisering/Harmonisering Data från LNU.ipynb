{
 "cells": [
  {
   "cell_type": "markdown",
   "metadata": {},
   "source": [
    "# <span style=\"color:lightcoral; font-family:freestyle script; font-size:3em\">Dokumentation av SLOSH</span> <br><span style=\"color:black; font-family:freestyle script; font-size:2em\">Frekvenstabeller till SQLite</span>\n",
    "***"
   ]
  },
  {
   "cell_type": "markdown",
   "metadata": {},
   "source": [
    "# Innehållsförteckning\n",
    "1. [Importera bibliotek](#1)\n",
    "2. [Importera data](#2)\n",
    "3. [Datatvätt](#3)  \n",
    "    3.1 [Variabelnamn](#3.1)  \n",
    "    3.2 [Variabeltyp](#3.2)  \n",
    "    3.3 [Tvåställig SSYK](#3.3)  \n",
    "    3.4 [Data saknas och NaN](#3.4)  \n",
    "    3.5 [Invertera data](#3.5)\n",
    "4. [Aggregera data](#4)\n",
    "5. [Exportera data](#5)  \n",
    "6. [Sammanfoga data från SLOSH och LNU](#6)\n",
    "***"
   ]
  },
  {
   "cell_type": "markdown",
   "metadata": {},
   "source": [
    "# <a id = \"1\">1. Importera bibliotek</a>\n",
    "De bibliotek som behövs i det här skriptet är **pandas**, **numpy** och **os**. "
   ]
  },
  {
   "cell_type": "code",
   "execution_count": 1,
   "metadata": {},
   "outputs": [],
   "source": [
    "import os\n",
    "import pandas as pd\n",
    "import numpy as np"
   ]
  },
  {
   "cell_type": "code",
   "execution_count": 2,
   "metadata": {},
   "outputs": [
    {
     "data": {
      "text/plain": [
       "'C:\\\\Users\\\\mabr4821\\\\Documents\\\\GitHub\\\\REWHARDpilot'"
      ]
     },
     "execution_count": 2,
     "metadata": {},
     "output_type": "execute_result"
    }
   ],
   "source": [
    "os.getcwd()"
   ]
  },
  {
   "cell_type": "markdown",
   "metadata": {},
   "source": [
    "***\n",
    "# <a id = \"2\">2. Importera data</a>\n",
    "De variabler som behövs är **z1, z18, z670, z671, z672, z673, z674, z680, z681, z682, z616, z621, z622, z624, z625, z626, z647, z651, z652, z653, z654, z655, z656**. Datafilen återfinns på LNU:s server och sökvägen dit är:  \n",
    "  \n",
    "*LNU 2010/LNU2010_DATA/LNU2010.dta*  \n",
    "\n",
    "Variablerna väljs ut och läggs i en dataframe som kallas **data**. För mer information om variablerna hänvisas till [LNU:s kodbok](https://www.sofi.su.se/forskning/tre-forskningsavdelningar/lnu/dokumentation/lnu-2010)."
   ]
  },
  {
   "cell_type": "code",
   "execution_count": 3,
   "metadata": {},
   "outputs": [],
   "source": [
    "data = pd.read_stata('J:/LNU 2010/LNU2010_DATA/LNU2010.dta', columns=['z1', 'z18', 'z670', 'z671', 'z672', 'z673', 'z674',\n",
    "                                                                      'z680', 'z681', 'z682', 'z616','z621', 'z622', 'z624',\n",
    "                                                                      'z625', 'z626', 'z647', 'z651', 'z652', 'z653', 'z654',\n",
    "                                                                      'z655', 'z656'])"
   ]
  },
  {
   "cell_type": "markdown",
   "metadata": {},
   "source": [
    "***\n",
    "Ta fram de första fem raderna för att få en första blick på data."
   ]
  },
  {
   "cell_type": "code",
   "execution_count": 4,
   "metadata": {},
   "outputs": [
    {
     "data": {
      "text/html": [
       "<div>\n",
       "<style scoped>\n",
       "    .dataframe tbody tr th:only-of-type {\n",
       "        vertical-align: middle;\n",
       "    }\n",
       "\n",
       "    .dataframe tbody tr th {\n",
       "        vertical-align: top;\n",
       "    }\n",
       "\n",
       "    .dataframe thead th {\n",
       "        text-align: right;\n",
       "    }\n",
       "</style>\n",
       "<table border=\"1\" class=\"dataframe\">\n",
       "  <thead>\n",
       "    <tr style=\"text-align: right;\">\n",
       "      <th></th>\n",
       "      <th>z1</th>\n",
       "      <th>z18</th>\n",
       "      <th>z670</th>\n",
       "      <th>z671</th>\n",
       "      <th>z672</th>\n",
       "      <th>z673</th>\n",
       "      <th>z674</th>\n",
       "      <th>z680</th>\n",
       "      <th>z681</th>\n",
       "      <th>z682</th>\n",
       "      <th>...</th>\n",
       "      <th>z624</th>\n",
       "      <th>z625</th>\n",
       "      <th>z626</th>\n",
       "      <th>z647</th>\n",
       "      <th>z651</th>\n",
       "      <th>z652</th>\n",
       "      <th>z653</th>\n",
       "      <th>z654</th>\n",
       "      <th>z655</th>\n",
       "      <th>z656</th>\n",
       "    </tr>\n",
       "  </thead>\n",
       "  <tbody>\n",
       "    <tr>\n",
       "      <th>0</th>\n",
       "      <td>10001.0</td>\n",
       "      <td>8334</td>\n",
       "      <td>2 Nej</td>\n",
       "      <td>2 Nej</td>\n",
       "      <td>2 Nej</td>\n",
       "      <td>1 Beslut ej krav</td>\n",
       "      <td>2 Övrigt</td>\n",
       "      <td>2 Mindre del av tiden</td>\n",
       "      <td>2 Mindre del av tiden</td>\n",
       "      <td>1 Inte alls</td>\n",
       "      <td>...</td>\n",
       "      <td>2 Nej</td>\n",
       "      <td>NaN</td>\n",
       "      <td>2 2-5 dagar</td>\n",
       "      <td>1Ja</td>\n",
       "      <td>2 Nej</td>\n",
       "      <td>1Ja</td>\n",
       "      <td>4 I liten grad</td>\n",
       "      <td>3 I viss grad</td>\n",
       "      <td>4 I liten grad</td>\n",
       "      <td>2 I hög grad</td>\n",
       "    </tr>\n",
       "    <tr>\n",
       "      <th>1</th>\n",
       "      <td>10003.0</td>\n",
       "      <td>2131</td>\n",
       "      <td>2 Nej</td>\n",
       "      <td>1 Ja</td>\n",
       "      <td>2 Nej</td>\n",
       "      <td>1 Beslut ej krav</td>\n",
       "      <td>2 Övrigt</td>\n",
       "      <td>2 Mindre del av tiden</td>\n",
       "      <td>1 Inte alls</td>\n",
       "      <td>1 Inte alls</td>\n",
       "      <td>...</td>\n",
       "      <td>1 Ja</td>\n",
       "      <td>5</td>\n",
       "      <td>5 3 månader-1 år</td>\n",
       "      <td>2 Nej</td>\n",
       "      <td>1 Ja</td>\n",
       "      <td>1Ja</td>\n",
       "      <td>1 I mycket hög grad</td>\n",
       "      <td>1 I mycket hög grad</td>\n",
       "      <td>1 I mycket hög grad</td>\n",
       "      <td>2 I hög grad</td>\n",
       "    </tr>\n",
       "    <tr>\n",
       "      <th>2</th>\n",
       "      <td>10004.0</td>\n",
       "      <td>2330</td>\n",
       "      <td>1 Ja</td>\n",
       "      <td>1 Ja</td>\n",
       "      <td>2 Nej</td>\n",
       "      <td>3 Ej beslut men krav</td>\n",
       "      <td>2 Övrigt</td>\n",
       "      <td>4 Stor del av tiden</td>\n",
       "      <td>1 Inte alls</td>\n",
       "      <td>5 Hela tiden</td>\n",
       "      <td>...</td>\n",
       "      <td>1 Ja</td>\n",
       "      <td>4</td>\n",
       "      <td>7 mer än 2 år</td>\n",
       "      <td>1Ja</td>\n",
       "      <td>1 Ja</td>\n",
       "      <td>2 Nej</td>\n",
       "      <td>3 I viss grad</td>\n",
       "      <td>1 I mycket hög grad</td>\n",
       "      <td>3 I viss grad</td>\n",
       "      <td>2 I hög grad</td>\n",
       "    </tr>\n",
       "    <tr>\n",
       "      <th>3</th>\n",
       "      <td>10005.0</td>\n",
       "      <td>5131</td>\n",
       "      <td>2 Nej</td>\n",
       "      <td>1 Ja</td>\n",
       "      <td>2 Nej</td>\n",
       "      <td>1 Beslut ej krav</td>\n",
       "      <td>2 Övrigt</td>\n",
       "      <td>1 Inte alls</td>\n",
       "      <td>1 Inte alls</td>\n",
       "      <td>1 Inte alls</td>\n",
       "      <td>...</td>\n",
       "      <td>1 Ja</td>\n",
       "      <td>5</td>\n",
       "      <td>6 1-2 år</td>\n",
       "      <td>1Ja</td>\n",
       "      <td>1 Ja</td>\n",
       "      <td>1Ja</td>\n",
       "      <td>2 I hög grad</td>\n",
       "      <td>2 I hög grad</td>\n",
       "      <td>2 I hög grad</td>\n",
       "      <td>1 I mycket hög grad</td>\n",
       "    </tr>\n",
       "    <tr>\n",
       "      <th>4</th>\n",
       "      <td>10006.0</td>\n",
       "      <td>6130</td>\n",
       "      <td>1 Ja</td>\n",
       "      <td>1 Ja</td>\n",
       "      <td>2 Nej</td>\n",
       "      <td>NaN</td>\n",
       "      <td>NaN</td>\n",
       "      <td>2 Mindre del av tiden</td>\n",
       "      <td>2 Mindre del av tiden</td>\n",
       "      <td>2 Mindre del av tiden</td>\n",
       "      <td>...</td>\n",
       "      <td>NaN</td>\n",
       "      <td>NaN</td>\n",
       "      <td>NaN</td>\n",
       "      <td>NaN</td>\n",
       "      <td>NaN</td>\n",
       "      <td>NaN</td>\n",
       "      <td>NaN</td>\n",
       "      <td>NaN</td>\n",
       "      <td>NaN</td>\n",
       "      <td>NaN</td>\n",
       "    </tr>\n",
       "  </tbody>\n",
       "</table>\n",
       "<p>5 rows × 23 columns</p>\n",
       "</div>"
      ],
      "text/plain": [
       "        z1   z18   z670   z671   z672                  z673      z674  \\\n",
       "0  10001.0  8334  2 Nej  2 Nej  2 Nej      1 Beslut ej krav  2 Övrigt   \n",
       "1  10003.0  2131  2 Nej   1 Ja  2 Nej      1 Beslut ej krav  2 Övrigt   \n",
       "2  10004.0  2330   1 Ja   1 Ja  2 Nej  3 Ej beslut men krav  2 Övrigt   \n",
       "3  10005.0  5131  2 Nej   1 Ja  2 Nej      1 Beslut ej krav  2 Övrigt   \n",
       "4  10006.0  6130   1 Ja   1 Ja  2 Nej                   NaN       NaN   \n",
       "\n",
       "                    z680                   z681                   z682  ...  \\\n",
       "0  2 Mindre del av tiden  2 Mindre del av tiden            1 Inte alls  ...   \n",
       "1  2 Mindre del av tiden            1 Inte alls            1 Inte alls  ...   \n",
       "2    4 Stor del av tiden            1 Inte alls           5 Hela tiden  ...   \n",
       "3            1 Inte alls            1 Inte alls            1 Inte alls  ...   \n",
       "4  2 Mindre del av tiden  2 Mindre del av tiden  2 Mindre del av tiden  ...   \n",
       "\n",
       "    z624 z625              z626   z647   z651   z652                 z653  \\\n",
       "0  2 Nej  NaN       2 2-5 dagar    1Ja  2 Nej    1Ja       4 I liten grad   \n",
       "1   1 Ja    5  5 3 månader-1 år  2 Nej   1 Ja    1Ja  1 I mycket hög grad   \n",
       "2   1 Ja    4     7 mer än 2 år    1Ja   1 Ja  2 Nej        3 I viss grad   \n",
       "3   1 Ja    5          6 1-2 år    1Ja   1 Ja    1Ja         2 I hög grad   \n",
       "4    NaN  NaN               NaN    NaN    NaN    NaN                  NaN   \n",
       "\n",
       "                  z654                 z655                 z656  \n",
       "0        3 I viss grad       4 I liten grad         2 I hög grad  \n",
       "1  1 I mycket hög grad  1 I mycket hög grad         2 I hög grad  \n",
       "2  1 I mycket hög grad        3 I viss grad         2 I hög grad  \n",
       "3         2 I hög grad         2 I hög grad  1 I mycket hög grad  \n",
       "4                  NaN                  NaN                  NaN  \n",
       "\n",
       "[5 rows x 23 columns]"
      ]
     },
     "execution_count": 4,
     "metadata": {},
     "output_type": "execute_result"
    }
   ],
   "source": [
    "data.head(5)"
   ]
  },
  {
   "cell_type": "markdown",
   "metadata": {},
   "source": [
    "***\n",
    "# <a id = \"3\">3. Datatvätt</a>\n",
    "Datamängden måste modifieras innan den kan användas. Detta görs i flera steg som går att följa nedan. Först ska några variabler döpas om, sedan ska datatyp korrigeras. SSYK ska omvandlas från fyrställig nivå till tvåställig, och till sist ska luckor i datamängden hanteras. \n",
    "***\n",
    "## <a id = \"3.1\">3.1 Variabelnamn</a>\n",
    "Döp om **z1** och **z18** till \"Lopnr\" respektive \"SSYK\"."
   ]
  },
  {
   "cell_type": "code",
   "execution_count": 5,
   "metadata": {},
   "outputs": [],
   "source": [
    "data.rename(columns={'z1': 'Lopnr', 'z18': 'SSYK'}, inplace=True)"
   ]
  },
  {
   "cell_type": "markdown",
   "metadata": {},
   "source": [
    "***\n",
    "## <a id= \"3.2\">3.2 Datatyp</a>\n",
    "Cellerna verkar innehålla data av olika typ. Se efter vilken typ av data som finns i varje kolumn."
   ]
  },
  {
   "cell_type": "code",
   "execution_count": 6,
   "metadata": {},
   "outputs": [
    {
     "name": "stdout",
     "output_type": "stream",
     "text": [
      "<class 'pandas.core.frame.DataFrame'>\n",
      "Int64Index: 4415 entries, 0 to 4414\n",
      "Data columns (total 23 columns):\n",
      "Lopnr    4415 non-null float64\n",
      "SSYK     4415 non-null int32\n",
      "z670     3059 non-null category\n",
      "z671     3059 non-null category\n",
      "z672     3059 non-null category\n",
      "z673     2687 non-null category\n",
      "z674     2687 non-null category\n",
      "z680     3059 non-null category\n",
      "z681     3059 non-null category\n",
      "z682     3058 non-null category\n",
      "z616     2689 non-null category\n",
      "z621     2689 non-null category\n",
      "z622     2687 non-null category\n",
      "z624     2689 non-null category\n",
      "z625     2041 non-null category\n",
      "z626     2689 non-null category\n",
      "z647     2689 non-null category\n",
      "z651     2689 non-null category\n",
      "z652     2689 non-null category\n",
      "z653     2689 non-null category\n",
      "z654     2689 non-null category\n",
      "z655     2689 non-null category\n",
      "z656     2689 non-null category\n",
      "dtypes: category(21), float64(1), int32(1)\n",
      "memory usage: 187.0 KB\n"
     ]
    }
   ],
   "source": [
    "data.info()"
   ]
  },
  {
   "cell_type": "markdown",
   "metadata": {},
   "source": [
    "***\n",
    "Ta bort all svarstext ur cellerna, behåll endast siffror som representerar svarsalternativ."
   ]
  },
  {
   "cell_type": "code",
   "execution_count": 7,
   "metadata": {},
   "outputs": [],
   "source": [
    "data.replace(regex=True, inplace=True, to_replace=r'\\D', value=r'')"
   ]
  },
  {
   "cell_type": "markdown",
   "metadata": {},
   "source": [
    "***\n",
    "Variabeln **z626** har svarstext som innehåller siffror. Svarstexten till alternativ två är t.ex. \"2-5 dagar\". Ta bort dessa restsiffror och behåll endast siffran som representerar svarsalternativet."
   ]
  },
  {
   "cell_type": "code",
   "execution_count": 8,
   "metadata": {},
   "outputs": [],
   "source": [
    "data['z626'] = data['z626'].astype(str).str[:1]\n",
    "data['z626'] = data['z626'].replace('n', np.nan)"
   ]
  },
  {
   "cell_type": "markdown",
   "metadata": {},
   "source": [
    "***\n",
    "Data måste vara av rätt typ för att deskriptiv statistk ska bli korrekt."
   ]
  },
  {
   "cell_type": "code",
   "execution_count": 9,
   "metadata": {},
   "outputs": [],
   "source": [
    "data = data.apply(pd.to_numeric)"
   ]
  },
  {
   "cell_type": "markdown",
   "metadata": {},
   "source": [
    "***\n",
    "## <a id = \"3.3\">3.3 Tvåställig SSYK</a>\n",
    "Variabeln **SSYK** är på fyrställig nivå. Dela de värden som överskrider 999 med 100 för att omvandla till ett heltal mellan 0 och 99."
   ]
  },
  {
   "cell_type": "code",
   "execution_count": 10,
   "metadata": {},
   "outputs": [
    {
     "name": "stderr",
     "output_type": "stream",
     "text": [
      "C:\\ProgramData\\Anaconda3\\lib\\site-packages\\ipykernel_launcher.py:1: SettingWithCopyWarning: \n",
      "A value is trying to be set on a copy of a slice from a DataFrame\n",
      "\n",
      "See the caveats in the documentation: http://pandas.pydata.org/pandas-docs/stable/indexing.html#indexing-view-versus-copy\n",
      "  \"\"\"Entry point for launching an IPython kernel.\n"
     ]
    }
   ],
   "source": [
    "data.SSYK[data.SSYK > 999] = data.SSYK[data.SSYK > 999]/100"
   ]
  },
  {
   "cell_type": "markdown",
   "metadata": {},
   "source": [
    "Nu finns inga heltal större än 999 kvar, dock finns det heltal större än 99. Dela dessa med 10."
   ]
  },
  {
   "cell_type": "code",
   "execution_count": 11,
   "metadata": {},
   "outputs": [],
   "source": [
    "data.SSYK[data.SSYK > 99] = data.SSYK[data.SSYK > 99]/10"
   ]
  },
  {
   "cell_type": "markdown",
   "metadata": {},
   "source": [
    "Nu är samtliga värden mellan 0 och 99. Använd nu **np.floor** för att avrunda decimalerna ner till närmaste heltal."
   ]
  },
  {
   "cell_type": "code",
   "execution_count": 12,
   "metadata": {},
   "outputs": [],
   "source": [
    "data['SSYK'] = data['SSYK'].apply(np.floor)"
   ]
  },
  {
   "cell_type": "markdown",
   "metadata": {},
   "source": [
    "***\n",
    "## <a id = \"3.4\">3.4 Data saknas och NaN</a>\n",
    "Variablerna **z670, z671, z672, z673, z674, z680, z681, z682, z616, z624, z626, z647, z651, z652, z653, z654, z655, z656** har samtliga en kodlista i vilken koden 9 står för \"Svar saknas\". Variabeln **z625** har koden 99 för \"Svar saknas\" och **z621, z622** har 9999. Dessa koder kommer påverka medelvärden på ett oönskat sätt och ersätts därför med **NaN** (eller s.k. \"missing value\"). Börja med att sortera om variablerna så att dessa tre grupper hamnar i följd."
   ]
  },
  {
   "cell_type": "code",
   "execution_count": 13,
   "metadata": {},
   "outputs": [],
   "source": [
    "data = data[['Lopnr', 'SSYK', 'z670', 'z671', 'z672', 'z673', 'z674', 'z680', 'z681',  \n",
    "           'z682','z616', 'z624', 'z626', 'z647', 'z651', 'z652', 'z653', 'z654',\n",
    "           'z655', 'z656', 'z625', 'z621', 'z622']]"
   ]
  },
  {
   "cell_type": "markdown",
   "metadata": {},
   "source": [
    "***\n",
    "Ersätt 9 i den första gruppen med **NaN**, gör sedan detsamma med 99 och 999 för den andra respektive tredje gruppen.\n"
   ]
  },
  {
   "cell_type": "code",
   "execution_count": 14,
   "metadata": {},
   "outputs": [],
   "source": [
    "data.iloc[:, 2:20] = data.iloc[:, 2:20].replace(9, np.nan)\n",
    "data.z625 = data.z625.replace(99, np.nan)\n",
    "data.iloc[:, 21:] = data.iloc[:, 21:].replace(9999, np.nan)"
   ]
  },
  {
   "cell_type": "markdown",
   "metadata": {},
   "source": [
    "I variablerna **z680** och **z81** är svarsalternativ \"Vet ej\" kodat som 8. Ersätt detta med **NaN**."
   ]
  },
  {
   "cell_type": "code",
   "execution_count": 15,
   "metadata": {},
   "outputs": [],
   "source": [
    "data.z680 = data.z680.replace(8, np.nan) \n",
    "data.z681 = data.z681.replace(8, np.nan)"
   ]
  },
  {
   "cell_type": "markdown",
   "metadata": {},
   "source": [
    "***\n",
    "De individer som svarar ja på fråga **z624**:   \n",
    "*Behöver man någon skol- eller yrkesutbildning utöver folk- eller grundskola i din befattning?*  \n",
    "\n",
    "Får sedan ange hur lång en sådan utbildning är i fråga **z625**:  \n",
    "*Ungefär hur många års utbildning utöver folk- eller grundskola behöver man?*  \n",
    "  \n",
    "De som däremot svarade nej på **z624**, (637 individer, eller 23%) kodas som **NaN** i fråga **z625**. Detta ger ett missvisande medelvärde, bättre vore om dessa 23% kodades som 0. På så vis blir medelvärdet betydligt lägre.\n"
   ]
  },
  {
   "cell_type": "code",
   "execution_count": 16,
   "metadata": {},
   "outputs": [],
   "source": [
    "data.loc[data.z624==2, ['z625']] = 0"
   ]
  },
  {
   "cell_type": "markdown",
   "metadata": {},
   "source": [
    "***  \n",
    "## <a id = \"3.5\">3.5 Invertera data</a>  \n",
    "Vissa variabler är sådana att deras medelvärden blir enklare att tolka ifall variabeln inverteras. Inverteringen innebär att variabelns koder (och tillhörande text) arrangeras om i nya par enligt följande schema:\n",
    "***\n",
    "**Före (ej inverterad)**\n",
    "1. Ja\n",
    "2. Nej\n",
    "***\n",
    "**Efter (inverterad)**\n",
    "1. Nej\n",
    "2. Ja\n",
    "***  \n",
    "Variablerna **z624**, **z647**, **z651**, **z652**, **z670**, **z671**, **z672** har koderna 1 och 2. Variablerna **z563**, **z654**, **z655**, **z656**, **z680**, **z681**, **z682** har koderna 1 till 5. Den första gruppen inverteras därför enklast genom att låta $inverterat\\space värde = 3-ursprungligt\\space värde$. För den andra gruppen gäller att $inverterat\\space värde = 6-ursprungligt\\space värde$. Börja med den första gruppen."
   ]
  },
  {
   "cell_type": "code",
   "execution_count": 17,
   "metadata": {},
   "outputs": [],
   "source": [
    "data.z624 = 3 - data.z624\n",
    "data.z647 = 3 - data.z647\n",
    "data.z651 = 3 - data.z651\n",
    "data.z652 = 3 - data.z652\n",
    "data.z670 = 3 - data.z670\n",
    "data.z671 = 3 - data.z671\n",
    "data.z672 = 3 - data.z672"
   ]
  },
  {
   "cell_type": "markdown",
   "metadata": {},
   "source": [
    "Invertera sedan den andra gruppen."
   ]
  },
  {
   "cell_type": "code",
   "execution_count": 18,
   "metadata": {},
   "outputs": [],
   "source": [
    "data.z653 = 6 - data.z653\n",
    "data.z654 = 6 - data.z654\n",
    "data.z655 = 6 - data.z655\n",
    "data.z656 = 6 - data.z656\n",
    "data.z680 = 6 - data.z680\n",
    "data.z681 = 6 - data.z681\n",
    "data.z682 = 6 - data.z682"
   ]
  },
  {
   "cell_type": "markdown",
   "metadata": {},
   "source": [
    "**2019-10-30**  \n",
    "Under mötet bestämde vi att invertera även **z621**. Variabelns högsta värde är 2011. Inverteringen innebär att variabeln anger hur länge den svarande varit anställd (nuvarande arbete) vid intervjutillfället."
   ]
  },
  {
   "cell_type": "code",
   "execution_count": 19,
   "metadata": {},
   "outputs": [],
   "source": [
    "data.z621 = 2011 - data.z621"
   ]
  },
  {
   "cell_type": "markdown",
   "metadata": {},
   "source": [
    "De variabler som inte kommer att inverteras är **z616**, **z622**, **z625**, **z626**, **z673** och **z674**."
   ]
  },
  {
   "cell_type": "markdown",
   "metadata": {},
   "source": [
    "***\n",
    "# <a id = \"4\">4. Aggregera data</a>\n",
    "Ta bort variabeln Lopnr, den behövs ej för att aggregera data."
   ]
  },
  {
   "cell_type": "code",
   "execution_count": 20,
   "metadata": {},
   "outputs": [],
   "source": [
    "data = data.drop('Lopnr', axis = 1)"
   ]
  },
  {
   "cell_type": "markdown",
   "metadata": {},
   "source": [
    "**2019-10-30**  \n",
    "Variabeln behövs endast för att koda om **z625**, den bör inte vara med i faktoranalysen."
   ]
  },
  {
   "cell_type": "code",
   "execution_count": 21,
   "metadata": {},
   "outputs": [],
   "source": [
    "data = data.drop('z624', axis = 1)"
   ]
  },
  {
   "cell_type": "markdown",
   "metadata": {},
   "source": [
    "***\n",
    "Gruppera data enligt SSYK och ta fram medelvärde och antal observationer för varje annan variabel. "
   ]
  },
  {
   "cell_type": "code",
   "execution_count": 22,
   "metadata": {},
   "outputs": [],
   "source": [
    "aggregerad_data = data.groupby('SSYK').aggregate(['mean', 'count'])"
   ]
  },
  {
   "cell_type": "markdown",
   "metadata": {},
   "source": [
    "***\n",
    "Avrunda medelvärden till 1 decimal."
   ]
  },
  {
   "cell_type": "code",
   "execution_count": 23,
   "metadata": {},
   "outputs": [],
   "source": [
    "aggregerad_data = aggregerad_data.round(1)"
   ]
  },
  {
   "cell_type": "code",
   "execution_count": 24,
   "metadata": {},
   "outputs": [
    {
     "data": {
      "text/html": [
       "<div>\n",
       "<style scoped>\n",
       "    .dataframe tbody tr th:only-of-type {\n",
       "        vertical-align: middle;\n",
       "    }\n",
       "\n",
       "    .dataframe tbody tr th {\n",
       "        vertical-align: top;\n",
       "    }\n",
       "\n",
       "    .dataframe thead tr th {\n",
       "        text-align: left;\n",
       "    }\n",
       "\n",
       "    .dataframe thead tr:last-of-type th {\n",
       "        text-align: right;\n",
       "    }\n",
       "</style>\n",
       "<table border=\"1\" class=\"dataframe\">\n",
       "  <thead>\n",
       "    <tr>\n",
       "      <th></th>\n",
       "      <th colspan=\"2\" halign=\"left\">z670</th>\n",
       "      <th colspan=\"2\" halign=\"left\">z671</th>\n",
       "      <th colspan=\"2\" halign=\"left\">z672</th>\n",
       "      <th colspan=\"2\" halign=\"left\">z673</th>\n",
       "      <th colspan=\"2\" halign=\"left\">z674</th>\n",
       "      <th>...</th>\n",
       "      <th colspan=\"2\" halign=\"left\">z655</th>\n",
       "      <th colspan=\"2\" halign=\"left\">z656</th>\n",
       "      <th colspan=\"2\" halign=\"left\">z625</th>\n",
       "      <th colspan=\"2\" halign=\"left\">z621</th>\n",
       "      <th colspan=\"2\" halign=\"left\">z622</th>\n",
       "    </tr>\n",
       "    <tr>\n",
       "      <th></th>\n",
       "      <th>mean</th>\n",
       "      <th>count</th>\n",
       "      <th>mean</th>\n",
       "      <th>count</th>\n",
       "      <th>mean</th>\n",
       "      <th>count</th>\n",
       "      <th>mean</th>\n",
       "      <th>count</th>\n",
       "      <th>mean</th>\n",
       "      <th>count</th>\n",
       "      <th>...</th>\n",
       "      <th>mean</th>\n",
       "      <th>count</th>\n",
       "      <th>mean</th>\n",
       "      <th>count</th>\n",
       "      <th>mean</th>\n",
       "      <th>count</th>\n",
       "      <th>mean</th>\n",
       "      <th>count</th>\n",
       "      <th>mean</th>\n",
       "      <th>count</th>\n",
       "    </tr>\n",
       "    <tr>\n",
       "      <th>SSYK</th>\n",
       "      <th></th>\n",
       "      <th></th>\n",
       "      <th></th>\n",
       "      <th></th>\n",
       "      <th></th>\n",
       "      <th></th>\n",
       "      <th></th>\n",
       "      <th></th>\n",
       "      <th></th>\n",
       "      <th></th>\n",
       "      <th></th>\n",
       "      <th></th>\n",
       "      <th></th>\n",
       "      <th></th>\n",
       "      <th></th>\n",
       "      <th></th>\n",
       "      <th></th>\n",
       "      <th></th>\n",
       "      <th></th>\n",
       "      <th></th>\n",
       "      <th></th>\n",
       "    </tr>\n",
       "  </thead>\n",
       "  <tbody>\n",
       "    <tr>\n",
       "      <th>9.0</th>\n",
       "      <td>1.4</td>\n",
       "      <td>319</td>\n",
       "      <td>1.6</td>\n",
       "      <td>318</td>\n",
       "      <td>1.1</td>\n",
       "      <td>319</td>\n",
       "      <td>1.7</td>\n",
       "      <td>3</td>\n",
       "      <td>2.7</td>\n",
       "      <td>3</td>\n",
       "      <td>...</td>\n",
       "      <td>4.0</td>\n",
       "      <td>3</td>\n",
       "      <td>4.5</td>\n",
       "      <td>2</td>\n",
       "      <td>6.0</td>\n",
       "      <td>2</td>\n",
       "      <td>32.0</td>\n",
       "      <td>3</td>\n",
       "      <td>50.5</td>\n",
       "      <td>2</td>\n",
       "    </tr>\n",
       "    <tr>\n",
       "      <th>11.0</th>\n",
       "      <td>2.0</td>\n",
       "      <td>11</td>\n",
       "      <td>2.0</td>\n",
       "      <td>11</td>\n",
       "      <td>1.2</td>\n",
       "      <td>11</td>\n",
       "      <td>2.5</td>\n",
       "      <td>11</td>\n",
       "      <td>2.5</td>\n",
       "      <td>11</td>\n",
       "      <td>...</td>\n",
       "      <td>3.7</td>\n",
       "      <td>11</td>\n",
       "      <td>4.2</td>\n",
       "      <td>11</td>\n",
       "      <td>4.5</td>\n",
       "      <td>11</td>\n",
       "      <td>13.5</td>\n",
       "      <td>11</td>\n",
       "      <td>17.4</td>\n",
       "      <td>11</td>\n",
       "    </tr>\n",
       "    <tr>\n",
       "      <th>12.0</th>\n",
       "      <td>1.8</td>\n",
       "      <td>123</td>\n",
       "      <td>1.8</td>\n",
       "      <td>123</td>\n",
       "      <td>1.0</td>\n",
       "      <td>123</td>\n",
       "      <td>1.9</td>\n",
       "      <td>123</td>\n",
       "      <td>2.4</td>\n",
       "      <td>123</td>\n",
       "      <td>...</td>\n",
       "      <td>3.9</td>\n",
       "      <td>123</td>\n",
       "      <td>3.8</td>\n",
       "      <td>123</td>\n",
       "      <td>5.2</td>\n",
       "      <td>123</td>\n",
       "      <td>13.0</td>\n",
       "      <td>123</td>\n",
       "      <td>28.5</td>\n",
       "      <td>123</td>\n",
       "    </tr>\n",
       "    <tr>\n",
       "      <th>13.0</th>\n",
       "      <td>1.4</td>\n",
       "      <td>22</td>\n",
       "      <td>1.8</td>\n",
       "      <td>22</td>\n",
       "      <td>1.1</td>\n",
       "      <td>22</td>\n",
       "      <td>1.8</td>\n",
       "      <td>22</td>\n",
       "      <td>2.0</td>\n",
       "      <td>22</td>\n",
       "      <td>...</td>\n",
       "      <td>3.5</td>\n",
       "      <td>22</td>\n",
       "      <td>3.8</td>\n",
       "      <td>22</td>\n",
       "      <td>1.7</td>\n",
       "      <td>22</td>\n",
       "      <td>5.4</td>\n",
       "      <td>22</td>\n",
       "      <td>5.4</td>\n",
       "      <td>22</td>\n",
       "    </tr>\n",
       "    <tr>\n",
       "      <th>21.0</th>\n",
       "      <td>1.5</td>\n",
       "      <td>166</td>\n",
       "      <td>1.7</td>\n",
       "      <td>166</td>\n",
       "      <td>1.1</td>\n",
       "      <td>166</td>\n",
       "      <td>1.7</td>\n",
       "      <td>166</td>\n",
       "      <td>2.2</td>\n",
       "      <td>166</td>\n",
       "      <td>...</td>\n",
       "      <td>3.9</td>\n",
       "      <td>166</td>\n",
       "      <td>3.9</td>\n",
       "      <td>166</td>\n",
       "      <td>5.2</td>\n",
       "      <td>165</td>\n",
       "      <td>10.9</td>\n",
       "      <td>165</td>\n",
       "      <td>11.1</td>\n",
       "      <td>166</td>\n",
       "    </tr>\n",
       "  </tbody>\n",
       "</table>\n",
       "<p>5 rows × 40 columns</p>\n",
       "</div>"
      ],
      "text/plain": [
       "     z670       z671       z672       z673       z674        ... z655        \\\n",
       "     mean count mean count mean count mean count mean count  ... mean count   \n",
       "SSYK                                                         ...              \n",
       "9.0   1.4   319  1.6   318  1.1   319  1.7     3  2.7     3  ...  4.0     3   \n",
       "11.0  2.0    11  2.0    11  1.2    11  2.5    11  2.5    11  ...  3.7    11   \n",
       "12.0  1.8   123  1.8   123  1.0   123  1.9   123  2.4   123  ...  3.9   123   \n",
       "13.0  1.4    22  1.8    22  1.1    22  1.8    22  2.0    22  ...  3.5    22   \n",
       "21.0  1.5   166  1.7   166  1.1   166  1.7   166  2.2   166  ...  3.9   166   \n",
       "\n",
       "     z656       z625        z621        z622        \n",
       "     mean count mean count  mean count  mean count  \n",
       "SSYK                                                \n",
       "9.0   4.5     2  6.0     2  32.0     3  50.5     2  \n",
       "11.0  4.2    11  4.5    11  13.5    11  17.4    11  \n",
       "12.0  3.8   123  5.2   123  13.0   123  28.5   123  \n",
       "13.0  3.8    22  1.7    22   5.4    22   5.4    22  \n",
       "21.0  3.9   166  5.2   165  10.9   165  11.1   166  \n",
       "\n",
       "[5 rows x 40 columns]"
      ]
     },
     "execution_count": 24,
     "metadata": {},
     "output_type": "execute_result"
    }
   ],
   "source": [
    "aggregerad_data.head(5)"
   ]
  },
  {
   "cell_type": "markdown",
   "metadata": {},
   "source": [
    "Ersätt flernivåindex med ett enkelt index."
   ]
  },
  {
   "cell_type": "code",
   "execution_count": 25,
   "metadata": {},
   "outputs": [],
   "source": [
    "aggregerad_data.columns = aggregerad_data.columns.to_flat_index()"
   ]
  },
  {
   "cell_type": "markdown",
   "metadata": {},
   "source": [
    "***\n",
    "# <a id = \"5\">5. Exportera data</a>\n",
    "Ändra namn på variablerna."
   ]
  },
  {
   "cell_type": "code",
   "execution_count": 27,
   "metadata": {},
   "outputs": [],
   "source": [
    "aggregerad_data.rename(columns={('z670', 'mean'): 'z670_mean', ('z670', 'count'): 'z670_count',\n",
    "                                ('z671', 'mean'): 'z671_mean', ('z671', 'count'): 'z671_count',\n",
    "                                ('z672', 'mean'): 'z672_mean', ('z672', 'count'): 'z672_count',\n",
    "                                ('z673', 'mean'): 'z673_mean', ('z673', 'count'): 'z673_count',\n",
    "                                ('z674', 'mean'): 'z674_mean', ('z674', 'count'): 'z674_count',\n",
    "                                ('z680', 'mean'): 'z680_mean', ('z680', 'count'): 'z680_count',\n",
    "                                ('z681', 'mean'): 'z681_mean', ('z681', 'count'): 'z681_count',\n",
    "                                ('z682', 'mean'): 'z682_mean', ('z682', 'count'): 'z682_count',\n",
    "                                ('z616', 'mean'): 'z616_mean', ('z616', 'count'): 'z616_count',\n",
    "                                ('z647', 'mean'): 'z647_mean', ('z647', 'count'): 'z647_count',\n",
    "                                ('z651', 'mean'): 'z651_mean', ('z651', 'count'): 'z651_count',\n",
    "                                ('z626', 'mean'): 'z626_mean', ('z626', 'count'): 'z626_count',\n",
    "                                ('z652', 'mean'): 'z652_mean', ('z652', 'count'): 'z652_count',\n",
    "                                ('z653', 'mean'): 'z653_mean', ('z653', 'count'): 'z653_count',\n",
    "                                ('z654', 'mean'): 'z654_mean', ('z654', 'count'): 'z654_count',\n",
    "                                ('z655', 'mean'): 'z655_mean', ('z655', 'count'): 'z655_count',\n",
    "                                ('z656', 'mean'): 'z656_mean', ('z656', 'count'): 'z656_count',\n",
    "                                ('z625', 'mean'): 'z625_mean', ('z625', 'count'): 'z625_count',\n",
    "                                ('z621', 'mean'): 'z621_mean', ('z621', 'count'): 'z621_count',\n",
    "                                ('z622', 'mean'): 'z622_mean', ('z622', 'count'): 'z622_count'}, inplace=True)"
   ]
  },
  {
   "cell_type": "markdown",
   "metadata": {},
   "source": [
    "***\n",
    "Spara ner aggregerad data i en excelfil."
   ]
  },
  {
   "cell_type": "code",
   "execution_count": null,
   "metadata": {},
   "outputs": [],
   "source": [
    "aggregerad_data.to_excel('LNU Medelvärden och n per SSYK för harmonisering.xlsx')"
   ]
  },
  {
   "cell_type": "markdown",
   "metadata": {},
   "source": [
    "***\n",
    "# <a id = \"6\">6. Sammanfoga data från SLOSH och LNU</a>\n",
    "Importera aggregerad data från SLOSH."
   ]
  },
  {
   "cell_type": "code",
   "execution_count": null,
   "metadata": {},
   "outputs": [],
   "source": [
    "slosh = pd.read_excel('SLOSH Medelvärden och n per SSYK för harmonisering.xlsx')"
   ]
  },
  {
   "cell_type": "markdown",
   "metadata": {},
   "source": [
    "Sammanfoga data med hjälp av den gemensamma SSYK-variabeln. Specificera \"outer\" för att få union snarare än snitt. Detta är viktigt eftersom det inte är lika många SSYK-koder i SLOSH och LNU."
   ]
  },
  {
   "cell_type": "code",
   "execution_count": null,
   "metadata": {},
   "outputs": [],
   "source": [
    "sammanfogad = pd.merge(aggregerad_data, slosh, on = 'SSYK', how = 'outer')  "
   ]
  },
  {
   "cell_type": "markdown",
   "metadata": {},
   "source": [
    "Justera index och sortera."
   ]
  },
  {
   "cell_type": "code",
   "execution_count": null,
   "metadata": {},
   "outputs": [],
   "source": [
    "sammanfogad = sammanfogad.set_index('SSYK')"
   ]
  },
  {
   "cell_type": "code",
   "execution_count": null,
   "metadata": {},
   "outputs": [],
   "source": [
    "sammanfogad = sammanfogad.sort_index()"
   ]
  },
  {
   "cell_type": "markdown",
   "metadata": {},
   "source": [
    "Spara ner data i en excelfil."
   ]
  },
  {
   "cell_type": "code",
   "execution_count": null,
   "metadata": {},
   "outputs": [],
   "source": [
    "sammanfogad.to_excel('SLOSH och LNU medelvärden och n per SSYK för harmonisering.xlsx')"
   ]
  },
  {
   "cell_type": "markdown",
   "metadata": {},
   "source": [
    "***\n",
    "**Kontakt:** [Marcus Brafors](https://www.su.se/profiles/mabr4821-1.403903)"
   ]
  }
 ],
 "metadata": {
  "kernelspec": {
   "display_name": "Python 3",
   "language": "python",
   "name": "python3"
  },
  "language_info": {
   "codemirror_mode": {
    "name": "ipython",
    "version": 3
   },
   "file_extension": ".py",
   "mimetype": "text/x-python",
   "name": "python",
   "nbconvert_exporter": "python",
   "pygments_lexer": "ipython3",
   "version": "3.7.3"
  }
 },
 "nbformat": 4,
 "nbformat_minor": 2
}

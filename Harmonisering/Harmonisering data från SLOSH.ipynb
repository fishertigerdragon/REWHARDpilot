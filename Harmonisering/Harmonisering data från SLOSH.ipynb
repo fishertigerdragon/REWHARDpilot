{
 "cells": [
  {
   "cell_type": "markdown",
   "metadata": {},
   "source": [
    "# <span style=\"color:dodgerblue; font-family:freestyle script; font-size:5em\">Harmonisering:</span> <br><span style=\"color:black; font-family:freestyle script; font-size:4em\">Data från SLOSH</span>\n",
    "***"
   ]
  },
  {
   "cell_type": "markdown",
   "metadata": {},
   "source": [
    "# Innehållsförteckning\n",
    "1. [Importera bibliotek](#1)\n",
    "2. [Importera data](#2)\n",
    "3. [Datatvätt](#3)  \n",
    "    3.1 [Icke-arbetande](#3.1)  \n",
    "    3.2 [Konstiga värden](#3.2)  \n",
    "    3.3 [Tvåställig SSYK](#3.3)  \n",
    "    3.4 [Överflödiga variabler](#3.4)  \n",
    "    3.5 [Ändra ordning och variabelnamn](#3.5)  \n",
    "    3.6 [Invertera data](#3.6)\n",
    "4. [Aggregera data](#4)\n",
    "5. [Exportera data](#5)  \n",
    "    \n",
    "***"
   ]
  },
  {
   "cell_type": "markdown",
   "metadata": {},
   "source": [
    "# <a id = \"1\">1. Importera bibliotek</a>\n",
    "De bibliotek som behövs i det här skriptet är **pandas**, **numpy** och **os**. "
   ]
  },
  {
   "cell_type": "code",
   "execution_count": 1,
   "metadata": {},
   "outputs": [],
   "source": [
    "import os\n",
    "import pandas as pd\n",
    "import numpy as np"
   ]
  },
  {
   "cell_type": "code",
   "execution_count": 2,
   "metadata": {},
   "outputs": [
    {
     "data": {
      "text/plain": [
       "'C:\\\\Users\\\\mabr4821\\\\Desktop\\\\Python WD'"
      ]
     },
     "execution_count": 2,
     "metadata": {},
     "output_type": "execute_result"
    }
   ],
   "source": [
    "os.chdir('C:/Users/mabr4821/Desktop/Python WD') \n",
    "os.getcwd()"
   ]
  },
  {
   "cell_type": "markdown",
   "metadata": {},
   "source": [
    "***\n",
    "# <a id = \"2\">2. Importera data</a>\n",
    "Data från excelfil importeras till en **dataframe** och som kallas för **data**. Datafilen omfattar variablerna **loadtime_7**, **interrup_7**, **morework_7**, **workfast_7**, **workhard_7**, **workeffo_7**, **worktime_7**, **workcntr_7**, **workskil_7**, **workinge_7**, **worklear_7**, **workrepe_7**, **workhow_7**, **workwhat_7**, **r_7**, **lopnr_slosh**, samt **ssyk_7**. Samtliga variabler är från den sjunde SLOSH-vågen (2010)."
   ]
  },
  {
   "cell_type": "code",
   "execution_count": 3,
   "metadata": {},
   "outputs": [],
   "source": [
    "data = pd.read_excel('SLOSH rådata harmonisering.xlsx')"
   ]
  },
  {
   "cell_type": "markdown",
   "metadata": {},
   "source": [
    "***\n",
    "Ta fram de första fem raderna för att få en första blick på data."
   ]
  },
  {
   "cell_type": "code",
   "execution_count": 4,
   "metadata": {},
   "outputs": [
    {
     "data": {
      "text/html": [
       "<div>\n",
       "<style scoped>\n",
       "    .dataframe tbody tr th:only-of-type {\n",
       "        vertical-align: middle;\n",
       "    }\n",
       "\n",
       "    .dataframe tbody tr th {\n",
       "        vertical-align: top;\n",
       "    }\n",
       "\n",
       "    .dataframe thead th {\n",
       "        text-align: right;\n",
       "    }\n",
       "</style>\n",
       "<table border=\"1\" class=\"dataframe\">\n",
       "  <thead>\n",
       "    <tr style=\"text-align: right;\">\n",
       "      <th></th>\n",
       "      <th>loadtime_7</th>\n",
       "      <th>interrup_7</th>\n",
       "      <th>morework_7</th>\n",
       "      <th>workfast_7</th>\n",
       "      <th>workhard_7</th>\n",
       "      <th>workeffo_7</th>\n",
       "      <th>worktime_7</th>\n",
       "      <th>workcntr_7</th>\n",
       "      <th>workskil_7</th>\n",
       "      <th>workinge_7</th>\n",
       "      <th>worklear_7</th>\n",
       "      <th>workrepe_7</th>\n",
       "      <th>workhow_7</th>\n",
       "      <th>workwhat_7</th>\n",
       "      <th>r_7</th>\n",
       "      <th>lopnr_slosh</th>\n",
       "      <th>ssyk_7</th>\n",
       "    </tr>\n",
       "  </thead>\n",
       "  <tbody>\n",
       "    <tr>\n",
       "      <th>0</th>\n",
       "      <td>4.0</td>\n",
       "      <td>3.0</td>\n",
       "      <td>4.0</td>\n",
       "      <td>2.0</td>\n",
       "      <td>3.0</td>\n",
       "      <td>4.0</td>\n",
       "      <td>1.0</td>\n",
       "      <td>4.0</td>\n",
       "      <td>1.0</td>\n",
       "      <td>1.0</td>\n",
       "      <td>1.0</td>\n",
       "      <td>1.0</td>\n",
       "      <td>1.0</td>\n",
       "      <td>1.0</td>\n",
       "      <td>2</td>\n",
       "      <td>100001</td>\n",
       "      <td>7131</td>\n",
       "    </tr>\n",
       "    <tr>\n",
       "      <th>1</th>\n",
       "      <td>NaN</td>\n",
       "      <td>NaN</td>\n",
       "      <td>NaN</td>\n",
       "      <td>1.0</td>\n",
       "      <td>2.0</td>\n",
       "      <td>2.0</td>\n",
       "      <td>1.0</td>\n",
       "      <td>3.0</td>\n",
       "      <td>2.0</td>\n",
       "      <td>1.0</td>\n",
       "      <td>NaN</td>\n",
       "      <td>NaN</td>\n",
       "      <td>2.0</td>\n",
       "      <td>3.0</td>\n",
       "      <td>1</td>\n",
       "      <td>100002</td>\n",
       "      <td>4119</td>\n",
       "    </tr>\n",
       "    <tr>\n",
       "      <th>2</th>\n",
       "      <td>2.0</td>\n",
       "      <td>2.0</td>\n",
       "      <td>2.0</td>\n",
       "      <td>2.0</td>\n",
       "      <td>2.0</td>\n",
       "      <td>2.0</td>\n",
       "      <td>2.0</td>\n",
       "      <td>2.0</td>\n",
       "      <td>2.0</td>\n",
       "      <td>1.0</td>\n",
       "      <td>2.0</td>\n",
       "      <td>2.0</td>\n",
       "      <td>3.0</td>\n",
       "      <td>3.0</td>\n",
       "      <td>2</td>\n",
       "      <td>100003</td>\n",
       "      <td>5111</td>\n",
       "    </tr>\n",
       "    <tr>\n",
       "      <th>3</th>\n",
       "      <td>NaN</td>\n",
       "      <td>NaN</td>\n",
       "      <td>NaN</td>\n",
       "      <td>NaN</td>\n",
       "      <td>NaN</td>\n",
       "      <td>NaN</td>\n",
       "      <td>NaN</td>\n",
       "      <td>NaN</td>\n",
       "      <td>NaN</td>\n",
       "      <td>NaN</td>\n",
       "      <td>NaN</td>\n",
       "      <td>NaN</td>\n",
       "      <td>NaN</td>\n",
       "      <td>NaN</td>\n",
       "      <td>0</td>\n",
       "      <td>100004</td>\n",
       "      <td>NaN</td>\n",
       "    </tr>\n",
       "    <tr>\n",
       "      <th>4</th>\n",
       "      <td>3.0</td>\n",
       "      <td>3.0</td>\n",
       "      <td>3.0</td>\n",
       "      <td>2.0</td>\n",
       "      <td>2.0</td>\n",
       "      <td>2.0</td>\n",
       "      <td>2.0</td>\n",
       "      <td>3.0</td>\n",
       "      <td>2.0</td>\n",
       "      <td>2.0</td>\n",
       "      <td>2.0</td>\n",
       "      <td>2.0</td>\n",
       "      <td>3.0</td>\n",
       "      <td>3.0</td>\n",
       "      <td>2</td>\n",
       "      <td>100005</td>\n",
       "      <td>2422</td>\n",
       "    </tr>\n",
       "  </tbody>\n",
       "</table>\n",
       "</div>"
      ],
      "text/plain": [
       "   loadtime_7  interrup_7  morework_7  workfast_7  workhard_7  workeffo_7  \\\n",
       "0         4.0         3.0         4.0         2.0         3.0         4.0   \n",
       "1         NaN         NaN         NaN         1.0         2.0         2.0   \n",
       "2         2.0         2.0         2.0         2.0         2.0         2.0   \n",
       "3         NaN         NaN         NaN         NaN         NaN         NaN   \n",
       "4         3.0         3.0         3.0         2.0         2.0         2.0   \n",
       "\n",
       "   worktime_7  workcntr_7  workskil_7  workinge_7  worklear_7  workrepe_7  \\\n",
       "0         1.0         4.0         1.0         1.0         1.0         1.0   \n",
       "1         1.0         3.0         2.0         1.0         NaN         NaN   \n",
       "2         2.0         2.0         2.0         1.0         2.0         2.0   \n",
       "3         NaN         NaN         NaN         NaN         NaN         NaN   \n",
       "4         2.0         3.0         2.0         2.0         2.0         2.0   \n",
       "\n",
       "   workhow_7  workwhat_7  r_7  lopnr_slosh ssyk_7  \n",
       "0        1.0         1.0    2       100001   7131  \n",
       "1        2.0         3.0    1       100002   4119  \n",
       "2        3.0         3.0    2       100003   5111  \n",
       "3        NaN         NaN    0       100004    NaN  \n",
       "4        3.0         3.0    2       100005   2422  "
      ]
     },
     "execution_count": 4,
     "metadata": {},
     "output_type": "execute_result"
    }
   ],
   "source": [
    "data.head(5)"
   ]
  },
  {
   "cell_type": "markdown",
   "metadata": {},
   "source": [
    "***\n",
    "# <a id = \"3\">3. Datatvätt</a>\n",
    "Datamängden måste modifieras innan den kan användas. Detta görs i flera steg som går att följa nedan. Ta bort icke-arbetande individer och omvandla SSYK-variabeln från fyrställig nivå till tvåställig. Ta bort konstiga värden, ändra ordning och namn på variablerna, och ta bort onönskade variabler."
   ]
  },
  {
   "cell_type": "markdown",
   "metadata": {},
   "source": [
    "***\n",
    "## <a id = \"3.1\">3.1 Icke-arbetande</a>\n",
    "Variabeln **r_7** är 1 för icke-arbetande individer och 2 för arbetande. Ta bort alla icke-arbetande individer."
   ]
  },
  {
   "cell_type": "code",
   "execution_count": 5,
   "metadata": {},
   "outputs": [],
   "source": [
    "data = data[data.r_7 == 2]"
   ]
  },
  {
   "cell_type": "markdown",
   "metadata": {},
   "source": [
    "***\n",
    "## <a id = \"3.2\">3.2 Konstiga värden</a>\n",
    "Ersätt värdena \"bortfall\" och \"kodas ej\" med **NaN** (s.k missing value). "
   ]
  },
  {
   "cell_type": "code",
   "execution_count": 6,
   "metadata": {},
   "outputs": [],
   "source": [
    "data = data.replace(['bortfall', 'kodas ej'], np.nan)"
   ]
  },
  {
   "cell_type": "markdown",
   "metadata": {},
   "source": [
    "I samtliga variabler, förutom SSYK, bör värden som överstiger 4 ersättas med **NaN**. Detta eftersom värden större än fyra är ett resultat av att individen kryssat i mer än ett alternativ. En deltagare som kryssar i både alternativ två och tre kodas exempelvis som 23."
   ]
  },
  {
   "cell_type": "code",
   "execution_count": 7,
   "metadata": {},
   "outputs": [],
   "source": [
    "data.iloc[:, :13][data.iloc[:, :13]>4] = np.nan"
   ]
  },
  {
   "cell_type": "markdown",
   "metadata": {},
   "source": [
    "Data måste vara av rätt typ för att deskriptiv statistk ska bli korrekt."
   ]
  },
  {
   "cell_type": "code",
   "execution_count": 8,
   "metadata": {},
   "outputs": [],
   "source": [
    "data = data.apply(pd.to_numeric)"
   ]
  },
  {
   "cell_type": "markdown",
   "metadata": {},
   "source": [
    "***\n",
    "## <a id = \"3.3\">3.3 Tvåställig SSYK</a>\n",
    "Variabeln **ssyk_7** är på fyrställig nivå. Dela de värden som överskrider 999 med 100 för att omvandla till ett heltal mellan 0 och 99."
   ]
  },
  {
   "cell_type": "code",
   "execution_count": 9,
   "metadata": {},
   "outputs": [
    {
     "name": "stderr",
     "output_type": "stream",
     "text": [
      "C:\\ProgramData\\Anaconda3\\lib\\site-packages\\ipykernel_launcher.py:1: SettingWithCopyWarning: \n",
      "A value is trying to be set on a copy of a slice from a DataFrame\n",
      "\n",
      "See the caveats in the documentation: http://pandas.pydata.org/pandas-docs/stable/indexing.html#indexing-view-versus-copy\n",
      "  \"\"\"Entry point for launching an IPython kernel.\n"
     ]
    }
   ],
   "source": [
    "data.ssyk_7[data.ssyk_7 > 999] = data.ssyk_7[data.ssyk_7 > 999]/100"
   ]
  },
  {
   "cell_type": "markdown",
   "metadata": {},
   "source": [
    "Nu finns inga heltal större än 999 kvar, dock finns det heltal större än 99. Dela dessa med 10."
   ]
  },
  {
   "cell_type": "code",
   "execution_count": 10,
   "metadata": {},
   "outputs": [
    {
     "name": "stderr",
     "output_type": "stream",
     "text": [
      "C:\\ProgramData\\Anaconda3\\lib\\site-packages\\ipykernel_launcher.py:1: SettingWithCopyWarning: \n",
      "A value is trying to be set on a copy of a slice from a DataFrame\n",
      "\n",
      "See the caveats in the documentation: http://pandas.pydata.org/pandas-docs/stable/indexing.html#indexing-view-versus-copy\n",
      "  \"\"\"Entry point for launching an IPython kernel.\n"
     ]
    }
   ],
   "source": [
    "data.ssyk_7[data.ssyk_7 > 99] = data.ssyk_7[data.ssyk_7 > 99]/10"
   ]
  },
  {
   "cell_type": "markdown",
   "metadata": {},
   "source": [
    "Nu är samtliga värden mellan 0 och 99. Använd nu **np.floor** för att avrunda decimalerna ner till närmaste heltal."
   ]
  },
  {
   "cell_type": "code",
   "execution_count": 11,
   "metadata": {},
   "outputs": [],
   "source": [
    "data['ssyk_7'] = data['ssyk_7'].apply(np.floor)"
   ]
  },
  {
   "cell_type": "markdown",
   "metadata": {},
   "source": [
    "***\n",
    "## <a id = \"3.4\">3.4 Överflödiga variabler</a>\n",
    "Variablerna **r_7** och **lopnr_slosh** behövs inte längre."
   ]
  },
  {
   "cell_type": "code",
   "execution_count": 12,
   "metadata": {},
   "outputs": [],
   "source": [
    "data = data.drop(['r_7', 'lopnr_slosh'], axis = 1)"
   ]
  },
  {
   "cell_type": "markdown",
   "metadata": {},
   "source": [
    "***\n",
    "## <a id = \"3.5\">3.5 Ändra ordning och variabelnamn </a>\n",
    "Ge variablerna enklare namn."
   ]
  },
  {
   "cell_type": "code",
   "execution_count": 13,
   "metadata": {},
   "outputs": [],
   "source": [
    "data.columns = ['Loadtime', 'Interrup', 'Morework', 'Workfast','Workhard', \n",
    "                'Workeffo', 'Worktime', 'Workcntr', 'Workskil', 'Workinge',\n",
    "                'Worklear', 'Workrepe', 'Workhow', 'Workwhat', 'SSYK']"
   ]
  },
  {
   "cell_type": "markdown",
   "metadata": {},
   "source": [
    "Ändra ordning på variablerna."
   ]
  },
  {
   "cell_type": "code",
   "execution_count": 14,
   "metadata": {},
   "outputs": [],
   "source": [
    "data = data[['SSYK', 'Loadtime', 'Interrup', 'Morework', 'Workfast','Workhard', \n",
    "             'Workeffo', 'Worktime', 'Workcntr', 'Workskil', 'Workinge',\n",
    "             'Worklear', 'Workrepe', 'Workhow', 'Workwhat']]"
   ]
  },
  {
   "cell_type": "markdown",
   "metadata": {},
   "source": [
    "***\n",
    "## <a id = \"3.6\">3.6 Invertera data </a>\n",
    "Samtliga variabler (förutom **SSYK**) har kodlistor med fyra koder: 1, 2, 3 och 4. Inverteringen innebär att dessa koder (och tillhörande text) arrangeras om i nya par enligt följande schema:<br>\n",
    "***\n",
    "**Före (ej inverterad)**\n",
    "1. Ja, ofta\n",
    "2. Ja, ibland\n",
    "3. Nej, sällan\n",
    "4. Nej, så gott som aldrig/Aldrig\n",
    "***\n",
    "**Efter (inverterad)**\n",
    "1. Nej, så gott som aldrig/Aldrig\n",
    "2. Nej, sällan\n",
    "3. Ja, ibland\n",
    "4. Ja, ofta\n",
    "***  \n",
    "Detta uppnås enklast genom att låta $inverterat\\space värde = 5-ursprungligt\\space värde$."
   ]
  },
  {
   "cell_type": "code",
   "execution_count": 15,
   "metadata": {},
   "outputs": [],
   "source": [
    "data.iloc[:, 1:] = 5-data.iloc[:, 1:]"
   ]
  },
  {
   "cell_type": "markdown",
   "metadata": {},
   "source": [
    "***\n",
    "# <a id = \"4\">4. Aggregera data</a>\n",
    "Gruppera data enligt SSYK och ta fram medelvärde och antal observationer för varje annan variabel."
   ]
  },
  {
   "cell_type": "code",
   "execution_count": 16,
   "metadata": {},
   "outputs": [],
   "source": [
    "aggregerad_data = data.groupby('SSYK').aggregate(['mean', 'count'])"
   ]
  },
  {
   "cell_type": "markdown",
   "metadata": {},
   "source": [
    "Avrunda medelvärden till 1 decimal."
   ]
  },
  {
   "cell_type": "code",
   "execution_count": 17,
   "metadata": {},
   "outputs": [],
   "source": [
    "aggregerad_data = aggregerad_data.round(1)"
   ]
  },
  {
   "cell_type": "markdown",
   "metadata": {},
   "source": [
    "***\n",
    "# <a id = \"5\">5. Exportera data</a>\n",
    "Ändra namn på variablerna."
   ]
  },
  {
   "cell_type": "code",
   "execution_count": 18,
   "metadata": {},
   "outputs": [],
   "source": [
    "aggregerad_data.columns = ['Loadtime_mean', 'Loadtime_count', 'Interrup_mean', 'Interrup_count',\n",
    "                           'Morework_mean', 'Morework_count', 'Workfast_mean', 'Workfast_count', \n",
    "                           'Workhard_mean', 'Workhard_count', 'Workeffo_mean', 'Workeffo_count',\n",
    "                           'Worktime_mean', 'Worktime_count', 'Workcntr_mean', 'Workcntr_count', \n",
    "                           'Workskil_mean', 'Workskil_count', 'Workinge_mean', 'Workinge_count',\n",
    "                           'Worklear_mean', 'Worklear_count', 'Workrepe_mean', 'Workrepe_count',\n",
    "                            'Workhow_mean', 'Workhow_count', 'Workwhat_mean', 'Workwhat_count']\n",
    "                           "
   ]
  },
  {
   "cell_type": "markdown",
   "metadata": {},
   "source": [
    "Spara ner aggregerad data i en excelfil."
   ]
  },
  {
   "cell_type": "code",
   "execution_count": 19,
   "metadata": {},
   "outputs": [],
   "source": [
    "aggregerad_data.to_excel('SLOSH Medelvärden och n per SSYK för harmonisering.xlsx')"
   ]
  },
  {
   "cell_type": "markdown",
   "metadata": {},
   "source": [
    "***\n",
    "**Kontakt:** [Marcus Brafors](https://www.su.se/profiles/mabr4821-1.403903)"
   ]
  }
 ],
 "metadata": {
  "kernelspec": {
   "display_name": "Python 3",
   "language": "python",
   "name": "python3"
  },
  "language_info": {
   "codemirror_mode": {
    "name": "ipython",
    "version": 3
   },
   "file_extension": ".py",
   "mimetype": "text/x-python",
   "name": "python",
   "nbconvert_exporter": "python",
   "pygments_lexer": "ipython3",
   "version": "3.7.3"
  }
 },
 "nbformat": 4,
 "nbformat_minor": 2
}

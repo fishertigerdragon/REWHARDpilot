{
 "cells": [
  {
   "cell_type": "markdown",
   "metadata": {},
   "source": [
    "# Problem\n",
    "\n",
    "1. PDF:en som heter \"litenkodbok\" består av tre sidor. När jag försöker läsa in den får jag bara tag på första sidan.  \n",
    "\n",
    "Måste jag dela upp LNU:s kodbok i lika måna PDF:er som den har sidor?  \n",
    "  \n",
    "2. *Om* jag delar upp kodboken i flera sidor, hur gör jag med de fall då en enskild \"variabelruta\" sträcker sig över en sidbrytning?\n",
    "\n",
    "***  "
   ]
  },
  {
   "cell_type": "markdown",
   "metadata": {},
   "source": [
    "På [den här sidan](https://github.com/atlanhq/camelot) finns bakgrundsinformation."
   ]
  },
  {
   "cell_type": "markdown",
   "metadata": {},
   "source": [
    "Jag behöver pandas, re (för regex) och camelot. Camelot är modulen som hämtar \"tabeller\" fårn pdf-filer."
   ]
  },
  {
   "cell_type": "code",
   "execution_count": 1,
   "metadata": {},
   "outputs": [],
   "source": [
    "import camelot\n",
    "import pandas as pd\n",
    "import re"
   ]
  },
  {
   "cell_type": "markdown",
   "metadata": {},
   "source": [
    "Läs in PDF-filen. Just den här filen har tre sidor. Camelot ska lägga \"tabellerna\" från pdf:en i en lista. Av någon anledning hämtar den bara tabellen från första sidan."
   ]
  },
  {
   "cell_type": "code",
   "execution_count": 2,
   "metadata": {},
   "outputs": [
    {
     "data": {
      "text/plain": [
       "<TableList n=1>"
      ]
     },
     "execution_count": 2,
     "metadata": {},
     "output_type": "execute_result"
    }
   ],
   "source": [
    "tables = camelot.read_pdf('litenkodbok.pdf')\n",
    "tables"
   ]
  },
  {
   "cell_type": "markdown",
   "metadata": {},
   "source": [
    "Gör om \"tabellen\" till en DataFrame (`df`). Det verkar som att varje ruta i LNU:s kodbok blir en cell i `df` (som bara har en kolumn). Värdet i cellen är en sträng. Camelot tycks ha plockat varje textbit i rutan och lagt ihop till en lång sträng. Delarna i strängen skiljs åt av \"\\n\".  "
   ]
  },
  {
   "cell_type": "code",
   "execution_count": 3,
   "metadata": {},
   "outputs": [
    {
     "data": {
      "text/html": [
       "<div>\n",
       "<style scoped>\n",
       "    .dataframe tbody tr th:only-of-type {\n",
       "        vertical-align: middle;\n",
       "    }\n",
       "\n",
       "    .dataframe tbody tr th {\n",
       "        vertical-align: top;\n",
       "    }\n",
       "\n",
       "    .dataframe thead th {\n",
       "        text-align: right;\n",
       "    }\n",
       "</style>\n",
       "<table border=\"1\" class=\"dataframe\">\n",
       "  <thead>\n",
       "    <tr style=\"text-align: right;\">\n",
       "      <th></th>\n",
       "      <th>0</th>\n",
       "    </tr>\n",
       "  </thead>\n",
       "  <tbody>\n",
       "    <tr>\n",
       "      <th>0</th>\n",
       "      <td>Z2 \\nPANELKOD \\njfr X2 \\nIntervjupersonens del...</td>\n",
       "    </tr>\n",
       "    <tr>\n",
       "      <th>1</th>\n",
       "      <td>Z3 \\nINGICK I URVALET FÖR BARN-LNU 2000 \\nNY \\...</td>\n",
       "    </tr>\n",
       "    <tr>\n",
       "      <th>2</th>\n",
       "      <td>Z4 \\nINTERVJUARNUMMER \\nX4, Y3, U3, V2 \\nInter...</td>\n",
       "    </tr>\n",
       "    <tr>\n",
       "      <th>3</th>\n",
       "      <td>Z5 \\nINTERVJUDATUM – MÅN, DAG \\nX5, Y4, U4, jf...</td>\n",
       "    </tr>\n",
       "    <tr>\n",
       "      <th>4</th>\n",
       "      <td>Z6 \\nINTERVJUNS BÖRJAN – TIM, MIN \\nX6, Y5, U5...</td>\n",
       "    </tr>\n",
       "    <tr>\n",
       "      <th>5</th>\n",
       "      <td>Z7 \\nINTERVJUNS SLUT – TIM, MIN \\nX7, Y6, U6, ...</td>\n",
       "    </tr>\n",
       "  </tbody>\n",
       "</table>\n",
       "</div>"
      ],
      "text/plain": [
       "                                                   0\n",
       "0  Z2 \\nPANELKOD \\njfr X2 \\nIntervjupersonens del...\n",
       "1  Z3 \\nINGICK I URVALET FÖR BARN-LNU 2000 \\nNY \\...\n",
       "2  Z4 \\nINTERVJUARNUMMER \\nX4, Y3, U3, V2 \\nInter...\n",
       "3  Z5 \\nINTERVJUDATUM – MÅN, DAG \\nX5, Y4, U4, jf...\n",
       "4  Z6 \\nINTERVJUNS BÖRJAN – TIM, MIN \\nX6, Y5, U5...\n",
       "5  Z7 \\nINTERVJUNS SLUT – TIM, MIN \\nX7, Y6, U6, ..."
      ]
     },
     "execution_count": 3,
     "metadata": {},
     "output_type": "execute_result"
    }
   ],
   "source": [
    "df = tables[0].df\n",
    "df"
   ]
  },
  {
   "cell_type": "markdown",
   "metadata": {},
   "source": [
    "Såhär ser den första cellen ut."
   ]
  },
  {
   "cell_type": "code",
   "execution_count": 4,
   "metadata": {},
   "outputs": [
    {
     "data": {
      "text/plain": [
       "'Z2 \\nPANELKOD \\njfr X2 \\nIntervjupersonens deltagandestatus vid tidigare omgångar av Levnadsnivåundersökningen. \\n1 \\nDeltog 2000 \\n3038 \\n68,8 \\n2 \\nDeltog 2000 (bodde hemma) \\n119 \\n2,7 \\n3 \\nDeltog 1991 men inte senare \\n190 \\n4,3 \\n4 \\nDeltog 1981 eller tidigare men inte senare \\n48 \\n1,1 \\n5 \\nAldrig deltagit \\n1020 \\n23,1 \\n \\nTotalt \\n4415 \\n100'"
      ]
     },
     "execution_count": 4,
     "metadata": {},
     "output_type": "execute_result"
    }
   ],
   "source": [
    "df.loc[0][0]"
   ]
  },
  {
   "cell_type": "markdown",
   "metadata": {},
   "source": [
    "Nu skapar jag en lista `L1` som innehåller strängen från varje cell i `df`. Varje sådan sträng har gjorts om till en lista (`L1[i]`) med kortare strängar som tagits fram genom att dela den ursprungliga strängen vid varje \"\\n\". Varje `L1[i]` motsvarar alltså en variabel i LNU:s kodbok."
   ]
  },
  {
   "cell_type": "code",
   "execution_count": 5,
   "metadata": {},
   "outputs": [],
   "source": [
    "L1 = [df.loc[i][0].split('\\n') for i in df.index]"
   ]
  },
  {
   "cell_type": "markdown",
   "metadata": {},
   "source": [
    "Den första strängen i varje ruta i kodboken (`L1[i]`) är alltid variabelnamnet."
   ]
  },
  {
   "cell_type": "code",
   "execution_count": 6,
   "metadata": {},
   "outputs": [
    {
     "data": {
      "text/plain": [
       "'Z3 '"
      ]
     },
     "execution_count": 6,
     "metadata": {},
     "output_type": "execute_result"
    }
   ],
   "source": [
    "L1[1][0]"
   ]
  },
  {
   "cell_type": "markdown",
   "metadata": {},
   "source": [
    "Därför går det enkelt att lägga samtliga variabelnnamn i en lista."
   ]
  },
  {
   "cell_type": "code",
   "execution_count": 7,
   "metadata": {},
   "outputs": [],
   "source": [
    "namn = [L1[i][0] for i in range(len(L1))]"
   ]
  },
  {
   "cell_type": "markdown",
   "metadata": {},
   "source": [
    "Den andra strängen är alltid en beskrivning."
   ]
  },
  {
   "cell_type": "code",
   "execution_count": 8,
   "metadata": {},
   "outputs": [
    {
     "data": {
      "text/plain": [
       "'INGICK I URVALET FÖR BARN-LNU 2000 '"
      ]
     },
     "execution_count": 8,
     "metadata": {},
     "output_type": "execute_result"
    }
   ],
   "source": [
    "L1[1][1]"
   ]
  },
  {
   "cell_type": "markdown",
   "metadata": {},
   "source": [
    "På samma sätt går det därför att samla alla beskrivningar i en lista."
   ]
  },
  {
   "cell_type": "code",
   "execution_count": 9,
   "metadata": {},
   "outputs": [],
   "source": [
    "beskrivning = [L1[i][1] for i in range(len(L1))]"
   ]
  },
  {
   "cell_type": "markdown",
   "metadata": {},
   "source": [
    "Det är mer komplicerat att hitta enkättexten. Den kommer alltid på tredje eller fjärde plats beroende på hur många \"liknande variabler\" som listats i högra hörnet i kodboken. För att hantera detta skapar jag en regex som svarar på strängar som beskriver \"liknande variabler\". Sådana strängar undviks och de övriga läggs i en lista."
   ]
  },
  {
   "cell_type": "code",
   "execution_count": 10,
   "metadata": {},
   "outputs": [],
   "source": [
    "regex = re.compile(r'^NY|^jfr|^[XYZUVW]\\d')"
   ]
  },
  {
   "cell_type": "code",
   "execution_count": 13,
   "metadata": {},
   "outputs": [],
   "source": [
    "enkättext = []\n",
    "\n",
    "for i in range(len(L1)):\n",
    "    for j in [3, 4]:\n",
    "        if bool(regex.findall(L1[i][j])) == False:\n",
    "            enkättext.append(L1[i][j])\n",
    "            break"
   ]
  },
  {
   "cell_type": "markdown",
   "metadata": {},
   "source": [
    "Tyvärr verkar det som att vissa variabler saknar enkättext (t.ex. Z3). Dessa är förmodligen väldigt få, de är sanolikt bara vissa bakgrundsvariabler som saknar enkättext. I dessa fall läggs det en siffran från variabelns kodlista i `enkättext`. Detta går enkelt att åtgärna i efterhand genom att ersätta alla siffror med säg `NaN`."
   ]
  },
  {
   "cell_type": "code",
   "execution_count": 14,
   "metadata": {},
   "outputs": [
    {
     "data": {
      "text/plain": [
       "['Intervjupersonens deltagandestatus vid tidigare omgångar av Levnadsnivåundersökningen. ',\n",
       " '2 ',\n",
       " 'Intervjuarens id. Redovisas ej.',\n",
       " 'Datum – år, månad och dag – då intervjun genomfördes. Endast lägsta och högsta värde redovisas. ',\n",
       " 'Intervjuarens notering av klockslag – timme och minut – då intervjun påbörjades. Endast lägsta och högsta ',\n",
       " 'Intervjuarens notering av klockslag – timme och minut – då intervjun avslutades. Endast lägsta och högsta ']"
      ]
     },
     "execution_count": 14,
     "metadata": {},
     "output_type": "execute_result"
    }
   ],
   "source": [
    "enkättext"
   ]
  },
  {
   "cell_type": "markdown",
   "metadata": {},
   "source": [
    "Nu tar jag de listor jag skapat och gör dem till kolumner i en DataFrame (`df`)."
   ]
  },
  {
   "cell_type": "code",
   "execution_count": 15,
   "metadata": {},
   "outputs": [],
   "source": [
    "df = pd.DataFrame.from_dict({'Variabelnamn': namn, 'Beskrivning': beskrivning, 'Enkättext': enkättext})"
   ]
  },
  {
   "cell_type": "markdown",
   "metadata": {},
   "source": [
    "Lägg till en Enkät-kolumn. Alla variabler är såklart från LNU."
   ]
  },
  {
   "cell_type": "code",
   "execution_count": 16,
   "metadata": {},
   "outputs": [],
   "source": [
    "df['Enkät'] = 'LNU'"
   ]
  },
  {
   "cell_type": "markdown",
   "metadata": {},
   "source": [
    "Ändra ordningen på kolumnerna."
   ]
  },
  {
   "cell_type": "code",
   "execution_count": 17,
   "metadata": {},
   "outputs": [],
   "source": [
    "df = df[['Variabelnamn', 'Enkät', 'Beskrivning', 'Enkättext']]"
   ]
  },
  {
   "cell_type": "code",
   "execution_count": 18,
   "metadata": {},
   "outputs": [
    {
     "data": {
      "text/html": [
       "<div>\n",
       "<style scoped>\n",
       "    .dataframe tbody tr th:only-of-type {\n",
       "        vertical-align: middle;\n",
       "    }\n",
       "\n",
       "    .dataframe tbody tr th {\n",
       "        vertical-align: top;\n",
       "    }\n",
       "\n",
       "    .dataframe thead th {\n",
       "        text-align: right;\n",
       "    }\n",
       "</style>\n",
       "<table border=\"1\" class=\"dataframe\">\n",
       "  <thead>\n",
       "    <tr style=\"text-align: right;\">\n",
       "      <th></th>\n",
       "      <th>Variabelnamn</th>\n",
       "      <th>Enkät</th>\n",
       "      <th>Beskrivning</th>\n",
       "      <th>Enkättext</th>\n",
       "    </tr>\n",
       "  </thead>\n",
       "  <tbody>\n",
       "    <tr>\n",
       "      <th>0</th>\n",
       "      <td>Z2</td>\n",
       "      <td>LNU</td>\n",
       "      <td>PANELKOD</td>\n",
       "      <td>Intervjupersonens deltagandestatus vid tidigar...</td>\n",
       "    </tr>\n",
       "    <tr>\n",
       "      <th>1</th>\n",
       "      <td>Z3</td>\n",
       "      <td>LNU</td>\n",
       "      <td>INGICK I URVALET FÖR BARN-LNU 2000</td>\n",
       "      <td>2</td>\n",
       "    </tr>\n",
       "    <tr>\n",
       "      <th>2</th>\n",
       "      <td>Z4</td>\n",
       "      <td>LNU</td>\n",
       "      <td>INTERVJUARNUMMER</td>\n",
       "      <td>Intervjuarens id. Redovisas ej.</td>\n",
       "    </tr>\n",
       "    <tr>\n",
       "      <th>3</th>\n",
       "      <td>Z5</td>\n",
       "      <td>LNU</td>\n",
       "      <td>INTERVJUDATUM – MÅN, DAG</td>\n",
       "      <td>Datum – år, månad och dag – då intervjun genom...</td>\n",
       "    </tr>\n",
       "    <tr>\n",
       "      <th>4</th>\n",
       "      <td>Z6</td>\n",
       "      <td>LNU</td>\n",
       "      <td>INTERVJUNS BÖRJAN – TIM, MIN</td>\n",
       "      <td>Intervjuarens notering av klockslag – timme oc...</td>\n",
       "    </tr>\n",
       "    <tr>\n",
       "      <th>5</th>\n",
       "      <td>Z7</td>\n",
       "      <td>LNU</td>\n",
       "      <td>INTERVJUNS SLUT – TIM, MIN</td>\n",
       "      <td>Intervjuarens notering av klockslag – timme oc...</td>\n",
       "    </tr>\n",
       "  </tbody>\n",
       "</table>\n",
       "</div>"
      ],
      "text/plain": [
       "  Variabelnamn Enkät                          Beskrivning  \\\n",
       "0          Z2    LNU                            PANELKOD    \n",
       "1          Z3    LNU  INGICK I URVALET FÖR BARN-LNU 2000    \n",
       "2          Z4    LNU                    INTERVJUARNUMMER    \n",
       "3          Z5    LNU            INTERVJUDATUM – MÅN, DAG    \n",
       "4          Z6    LNU        INTERVJUNS BÖRJAN – TIM, MIN    \n",
       "5          Z7    LNU          INTERVJUNS SLUT – TIM, MIN    \n",
       "\n",
       "                                           Enkättext  \n",
       "0  Intervjupersonens deltagandestatus vid tidigar...  \n",
       "1                                                 2   \n",
       "2                    Intervjuarens id. Redovisas ej.  \n",
       "3  Datum – år, månad och dag – då intervjun genom...  \n",
       "4  Intervjuarens notering av klockslag – timme oc...  \n",
       "5  Intervjuarens notering av klockslag – timme oc...  "
      ]
     },
     "execution_count": 18,
     "metadata": {},
     "output_type": "execute_result"
    }
   ],
   "source": [
    "df"
   ]
  },
  {
   "cell_type": "code",
   "execution_count": null,
   "metadata": {},
   "outputs": [],
   "source": []
  },
  {
   "cell_type": "code",
   "execution_count": null,
   "metadata": {},
   "outputs": [],
   "source": []
  },
  {
   "cell_type": "code",
   "execution_count": null,
   "metadata": {},
   "outputs": [],
   "source": []
  },
  {
   "cell_type": "code",
   "execution_count": null,
   "metadata": {},
   "outputs": [],
   "source": []
  },
  {
   "cell_type": "code",
   "execution_count": null,
   "metadata": {},
   "outputs": [],
   "source": []
  },
  {
   "cell_type": "code",
   "execution_count": null,
   "metadata": {},
   "outputs": [],
   "source": [
    "variabel = {'variabel': var[0], 'beskrivning': var[1], 'enkättext': var[3]}"
   ]
  },
  {
   "cell_type": "code",
   "execution_count": null,
   "metadata": {},
   "outputs": [],
   "source": [
    "tables.export('foo.csv', f='csv', compress=True) # json, excel, html, sqlite\n",
    "tables[0]"
   ]
  },
  {
   "cell_type": "code",
   "execution_count": null,
   "metadata": {},
   "outputs": [],
   "source": [
    "tables[0].parsing_report"
   ]
  },
  {
   "cell_type": "code",
   "execution_count": null,
   "metadata": {},
   "outputs": [],
   "source": [
    "#tables[0].to_csv('foo.csv') # to_json, to_excel, to_html, to_sqlite\n",
    "tables[0].df # get a pandas DataFrame!"
   ]
  }
 ],
 "metadata": {
  "kernelspec": {
   "display_name": "Python 3",
   "language": "python",
   "name": "python3"
  },
  "language_info": {
   "codemirror_mode": {
    "name": "ipython",
    "version": 3
   },
   "file_extension": ".py",
   "mimetype": "text/x-python",
   "name": "python",
   "nbconvert_exporter": "python",
   "pygments_lexer": "ipython3",
   "version": "3.7.3"
  }
 },
 "nbformat": 4,
 "nbformat_minor": 2
}

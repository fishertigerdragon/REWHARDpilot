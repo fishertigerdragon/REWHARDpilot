{
 "cells": [
  {
   "cell_type": "markdown",
   "metadata": {},
   "source": [
    "# Problem\n",
    "1. I högra hörnet för varje variabel finns en lista över liknande variabler från tidiagare vågor. Listan upptar ibland en rad, ibland två och ibland tre. Detta betyder att ifall jag klyver strängarna vid `\\n` kommer den sträng som är beskrivningen av variabeln ibland att vara på plats 3, ibland 4 och ibland 5.  \n",
    "  \n",
    "Kanske kan jag använda Regex här?\n",
    "\n",
    "2. PDF:en som heter \"litenkodbok\" består av tre sidor. När jag försöker läsa in den får jag bara tag på första sidan.  \n",
    "\n",
    "Måste jag dela upp LNU:s kodbok i lika måna PDF:er som den har sidor?  \n",
    "  \n",
    "3. *Om* jag delar upp kodboken i flera sidor, hur gör jag med de fall då en enskild \"variabelruta\" sträcker sig över en sidbrytning?\n",
    "\n",
    "***  "
   ]
  },
  {
   "cell_type": "markdown",
   "metadata": {},
   "source": [
    "På [den här sidan](https://github.com/atlanhq/camelot) finns bakgrundsinformation."
   ]
  },
  {
   "cell_type": "code",
   "execution_count": 3,
   "metadata": {},
   "outputs": [],
   "source": [
    "import camelot\n",
    "import pandas as pd"
   ]
  },
  {
   "cell_type": "code",
   "execution_count": 4,
   "metadata": {},
   "outputs": [
    {
     "data": {
      "text/plain": [
       "<TableList n=1>"
      ]
     },
     "execution_count": 4,
     "metadata": {},
     "output_type": "execute_result"
    }
   ],
   "source": [
    "tables = camelot.read_pdf('litenkodbok.pdf')\n",
    "tables"
   ]
  },
  {
   "cell_type": "code",
   "execution_count": 12,
   "metadata": {},
   "outputs": [
    {
     "data": {
      "text/html": [
       "<div>\n",
       "<style scoped>\n",
       "    .dataframe tbody tr th:only-of-type {\n",
       "        vertical-align: middle;\n",
       "    }\n",
       "\n",
       "    .dataframe tbody tr th {\n",
       "        vertical-align: top;\n",
       "    }\n",
       "\n",
       "    .dataframe thead th {\n",
       "        text-align: right;\n",
       "    }\n",
       "</style>\n",
       "<table border=\"1\" class=\"dataframe\">\n",
       "  <thead>\n",
       "    <tr style=\"text-align: right;\">\n",
       "      <th></th>\n",
       "      <th>0</th>\n",
       "    </tr>\n",
       "  </thead>\n",
       "  <tbody>\n",
       "    <tr>\n",
       "      <th>0</th>\n",
       "      <td>Z2 \\nPANELKOD \\njfr X2 \\nIntervjupersonens del...</td>\n",
       "    </tr>\n",
       "    <tr>\n",
       "      <th>1</th>\n",
       "      <td>Z3 \\nINGICK I URVALET FÖR BARN-LNU 2000 \\nNY \\...</td>\n",
       "    </tr>\n",
       "    <tr>\n",
       "      <th>2</th>\n",
       "      <td>Z4 \\nINTERVJUARNUMMER \\nX4, Y3, U3, V2 \\nInter...</td>\n",
       "    </tr>\n",
       "    <tr>\n",
       "      <th>3</th>\n",
       "      <td>Z5 \\nINTERVJUDATUM – MÅN, DAG \\nX5, Y4, U4, jf...</td>\n",
       "    </tr>\n",
       "    <tr>\n",
       "      <th>4</th>\n",
       "      <td>Z6 \\nINTERVJUNS BÖRJAN – TIM, MIN \\nX6, Y5, U5...</td>\n",
       "    </tr>\n",
       "    <tr>\n",
       "      <th>5</th>\n",
       "      <td>Z7 \\nINTERVJUNS SLUT – TIM, MIN \\nX7, Y6, U6, ...</td>\n",
       "    </tr>\n",
       "  </tbody>\n",
       "</table>\n",
       "</div>"
      ],
      "text/plain": [
       "                                                   0\n",
       "0  Z2 \\nPANELKOD \\njfr X2 \\nIntervjupersonens del...\n",
       "1  Z3 \\nINGICK I URVALET FÖR BARN-LNU 2000 \\nNY \\...\n",
       "2  Z4 \\nINTERVJUARNUMMER \\nX4, Y3, U3, V2 \\nInter...\n",
       "3  Z5 \\nINTERVJUDATUM – MÅN, DAG \\nX5, Y4, U4, jf...\n",
       "4  Z6 \\nINTERVJUNS BÖRJAN – TIM, MIN \\nX6, Y5, U5...\n",
       "5  Z7 \\nINTERVJUNS SLUT – TIM, MIN \\nX7, Y6, U6, ..."
      ]
     },
     "execution_count": 12,
     "metadata": {},
     "output_type": "execute_result"
    }
   ],
   "source": [
    "df = tables[0].df\n",
    "df"
   ]
  },
  {
   "cell_type": "code",
   "execution_count": 16,
   "metadata": {},
   "outputs": [
    {
     "data": {
      "text/plain": [
       "'Z2 \\nPANELKOD \\njfr X2 \\nIntervjupersonens deltagandestatus vid tidigare omgångar av Levnadsnivåundersökningen. \\n1 \\nDeltog 2000 \\n3038 \\n68,8 \\n2 \\nDeltog 2000 (bodde hemma) \\n119 \\n2,7 \\n3 \\nDeltog 1991 men inte senare \\n190 \\n4,3 \\n4 \\nDeltog 1981 eller tidigare men inte senare \\n48 \\n1,1 \\n5 \\nAldrig deltagit \\n1020 \\n23,1 \\n \\nTotalt \\n4415 \\n100'"
      ]
     },
     "execution_count": 16,
     "metadata": {},
     "output_type": "execute_result"
    }
   ],
   "source": [
    "df.loc[0][0]"
   ]
  },
  {
   "cell_type": "code",
   "execution_count": 6,
   "metadata": {},
   "outputs": [
    {
     "data": {
      "text/plain": [
       "RangeIndex(start=0, stop=6, step=1)"
      ]
     },
     "execution_count": 6,
     "metadata": {},
     "output_type": "execute_result"
    }
   ],
   "source": [
    "df.index"
   ]
  },
  {
   "cell_type": "code",
   "execution_count": 7,
   "metadata": {},
   "outputs": [],
   "source": [
    "L1 = [df.loc[i][0].split('\\n') for i in df.index]"
   ]
  },
  {
   "cell_type": "code",
   "execution_count": 8,
   "metadata": {},
   "outputs": [
    {
     "data": {
      "text/plain": [
       "'Z3 '"
      ]
     },
     "execution_count": 8,
     "metadata": {},
     "output_type": "execute_result"
    }
   ],
   "source": [
    "L1[1][0]"
   ]
  },
  {
   "cell_type": "code",
   "execution_count": 9,
   "metadata": {},
   "outputs": [],
   "source": [
    "namn = [L1[i][0] for i in range(len(L1))]\n",
    "beskrivning = [L1[i][1] for i in range(len(L1))]\n",
    "enkättext = [L1[i][3] for i in range(len(L1))]"
   ]
  },
  {
   "cell_type": "code",
   "execution_count": 10,
   "metadata": {},
   "outputs": [
    {
     "data": {
      "text/html": [
       "<div>\n",
       "<style scoped>\n",
       "    .dataframe tbody tr th:only-of-type {\n",
       "        vertical-align: middle;\n",
       "    }\n",
       "\n",
       "    .dataframe tbody tr th {\n",
       "        vertical-align: top;\n",
       "    }\n",
       "\n",
       "    .dataframe thead th {\n",
       "        text-align: right;\n",
       "    }\n",
       "</style>\n",
       "<table border=\"1\" class=\"dataframe\">\n",
       "  <thead>\n",
       "    <tr style=\"text-align: right;\">\n",
       "      <th></th>\n",
       "      <th>Variabelnamn</th>\n",
       "      <th>Beskrivning</th>\n",
       "      <th>Enkättext</th>\n",
       "    </tr>\n",
       "  </thead>\n",
       "  <tbody>\n",
       "    <tr>\n",
       "      <th>0</th>\n",
       "      <td>Z2</td>\n",
       "      <td>PANELKOD</td>\n",
       "      <td>Intervjupersonens deltagandestatus vid tidigar...</td>\n",
       "    </tr>\n",
       "    <tr>\n",
       "      <th>1</th>\n",
       "      <td>Z3</td>\n",
       "      <td>INGICK I URVALET FÖR BARN-LNU 2000</td>\n",
       "      <td>2</td>\n",
       "    </tr>\n",
       "    <tr>\n",
       "      <th>2</th>\n",
       "      <td>Z4</td>\n",
       "      <td>INTERVJUARNUMMER</td>\n",
       "      <td>Intervjuarens id. Redovisas ej.</td>\n",
       "    </tr>\n",
       "    <tr>\n",
       "      <th>3</th>\n",
       "      <td>Z5</td>\n",
       "      <td>INTERVJUDATUM – MÅN, DAG</td>\n",
       "      <td>V3, jfr W552</td>\n",
       "    </tr>\n",
       "    <tr>\n",
       "      <th>4</th>\n",
       "      <td>Z6</td>\n",
       "      <td>INTERVJUNS BÖRJAN – TIM, MIN</td>\n",
       "      <td>Intervjuarens notering av klockslag – timme oc...</td>\n",
       "    </tr>\n",
       "    <tr>\n",
       "      <th>5</th>\n",
       "      <td>Z7</td>\n",
       "      <td>INTERVJUNS SLUT – TIM, MIN</td>\n",
       "      <td>V708</td>\n",
       "    </tr>\n",
       "  </tbody>\n",
       "</table>\n",
       "</div>"
      ],
      "text/plain": [
       "  Variabelnamn                          Beskrivning  \\\n",
       "0          Z2                             PANELKOD    \n",
       "1          Z3   INGICK I URVALET FÖR BARN-LNU 2000    \n",
       "2          Z4                     INTERVJUARNUMMER    \n",
       "3          Z5             INTERVJUDATUM – MÅN, DAG    \n",
       "4          Z6         INTERVJUNS BÖRJAN – TIM, MIN    \n",
       "5          Z7           INTERVJUNS SLUT – TIM, MIN    \n",
       "\n",
       "                                           Enkättext  \n",
       "0  Intervjupersonens deltagandestatus vid tidigar...  \n",
       "1                                                 2   \n",
       "2                    Intervjuarens id. Redovisas ej.  \n",
       "3                                      V3, jfr W552   \n",
       "4  Intervjuarens notering av klockslag – timme oc...  \n",
       "5                                              V708   "
      ]
     },
     "execution_count": 10,
     "metadata": {},
     "output_type": "execute_result"
    }
   ],
   "source": [
    "pd.DataFrame.from_dict({'Variabelnamn': namn, 'Beskrivning': beskrivning, 'Enkättext': enkättext})"
   ]
  },
  {
   "cell_type": "code",
   "execution_count": null,
   "metadata": {},
   "outputs": [],
   "source": []
  },
  {
   "cell_type": "code",
   "execution_count": null,
   "metadata": {},
   "outputs": [],
   "source": [
    "variabel = {'variabel': var[0], 'beskrivning': var[1], 'enkättext': var[3]}"
   ]
  },
  {
   "cell_type": "code",
   "execution_count": null,
   "metadata": {},
   "outputs": [],
   "source": [
    "tables.export('foo.csv', f='csv', compress=True) # json, excel, html, sqlite\n",
    "tables[0]"
   ]
  },
  {
   "cell_type": "code",
   "execution_count": null,
   "metadata": {},
   "outputs": [],
   "source": [
    "tables[0].parsing_report"
   ]
  },
  {
   "cell_type": "code",
   "execution_count": null,
   "metadata": {},
   "outputs": [],
   "source": [
    "#tables[0].to_csv('foo.csv') # to_json, to_excel, to_html, to_sqlite\n",
    "tables[0].df # get a pandas DataFrame!"
   ]
  }
 ],
 "metadata": {
  "kernelspec": {
   "display_name": "Python 3",
   "language": "python",
   "name": "python3"
  },
  "language_info": {
   "codemirror_mode": {
    "name": "ipython",
    "version": 3
   },
   "file_extension": ".py",
   "mimetype": "text/x-python",
   "name": "python",
   "nbconvert_exporter": "python",
   "pygments_lexer": "ipython3",
   "version": "3.7.3"
  }
 },
 "nbformat": 4,
 "nbformat_minor": 2
}

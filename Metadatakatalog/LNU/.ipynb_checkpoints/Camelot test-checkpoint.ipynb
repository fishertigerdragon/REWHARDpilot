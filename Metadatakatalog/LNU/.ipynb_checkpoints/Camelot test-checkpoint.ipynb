{
 "cells": [
  {
   "cell_type": "markdown",
   "metadata": {},
   "source": [
    "# Problem\n",
    "\n",
    "1. PDF:en som heter \"litenkodbok\" består av tre sidor. När jag försöker läsa in den får jag bara tag på första sidan.  \n",
    "\n",
    "Måste jag dela upp LNU:s kodbok i lika måna PDF:er som den har sidor?  \n",
    "  \n",
    "2. *Om* jag delar upp kodboken i flera sidor, hur gör jag med de fall då en enskild \"variabelruta\" sträcker sig över en sidbrytning?\n",
    "\n",
    "***  "
   ]
  },
  {
   "cell_type": "markdown",
   "metadata": {},
   "source": [
    "På [den här sidan](https://github.com/atlanhq/camelot) finns bakgrundsinformation."
   ]
  },
  {
   "cell_type": "markdown",
   "metadata": {},
   "source": [
    "Jag behöver pandas, re (för regex) och camelot. Camelot är modulen som hämtar \"tabeller\" fårn pdf-filer."
   ]
  },
  {
   "cell_type": "code",
   "execution_count": 4,
   "metadata": {},
   "outputs": [],
   "source": [
    "import camelot\n",
    "import pandas as pd\n",
    "import re"
   ]
  },
  {
   "cell_type": "markdown",
   "metadata": {},
   "source": [
    "Läs in PDF-filen. Just den här filen har tre sidor. Camelot ska lägga \"tabellerna\" från pdf:en i en lista. Av någon anledning hämtar den bara tabellen från första sidan."
   ]
  },
  {
   "cell_type": "code",
   "execution_count": 217,
   "metadata": {},
   "outputs": [
    {
     "data": {
      "text/plain": [
       "<TableList n=1>"
      ]
     },
     "execution_count": 217,
     "metadata": {},
     "output_type": "execute_result"
    }
   ],
   "source": [
    "tables = camelot.read_pdf('LNU32.pdf')\n",
    "tables"
   ]
  },
  {
   "cell_type": "markdown",
   "metadata": {},
   "source": [
    "Gör om \"tabellen\" till en DataFrame (`df`). Det verkar som att varje ruta i LNU:s kodbok blir en cell i `df` (som bara har en kolumn). Värdet i cellen är en sträng. Camelot tycks ha plockat varje textbit i rutan och lagt ihop till en lång sträng. Delarna i strängen skiljs åt av \"\\n\".  "
   ]
  },
  {
   "cell_type": "code",
   "execution_count": 218,
   "metadata": {},
   "outputs": [
    {
     "data": {
      "text/plain": [
       "1"
      ]
     },
     "execution_count": 218,
     "metadata": {},
     "output_type": "execute_result"
    }
   ],
   "source": [
    "tables.n"
   ]
  },
  {
   "cell_type": "code",
   "execution_count": 219,
   "metadata": {},
   "outputs": [
    {
     "data": {
      "text/html": [
       "<div>\n",
       "<style scoped>\n",
       "    .dataframe tbody tr th:only-of-type {\n",
       "        vertical-align: middle;\n",
       "    }\n",
       "\n",
       "    .dataframe tbody tr th {\n",
       "        vertical-align: top;\n",
       "    }\n",
       "\n",
       "    .dataframe thead th {\n",
       "        text-align: right;\n",
       "    }\n",
       "</style>\n",
       "<table border=\"1\" class=\"dataframe\">\n",
       "  <thead>\n",
       "    <tr style=\"text-align: right;\">\n",
       "      <th></th>\n",
       "      <th>0</th>\n",
       "    </tr>\n",
       "  </thead>\n",
       "  <tbody>\n",
       "    <tr>\n",
       "      <th>0</th>\n",
       "      <td>Z8 \\nTYP AV INTERVJU \\nX10, Y7, U7 \\nTyp av in...</td>\n",
       "    </tr>\n",
       "    <tr>\n",
       "      <th>1</th>\n",
       "      <td>Z9 \\nINDIREKT INTERVJU \\njfr X11, Y8, \\nU8, V7...</td>\n",
       "    </tr>\n",
       "    <tr>\n",
       "      <th>2</th>\n",
       "      <td>Z10 \\nINTERVJUSPRÅK \\njfr X12 \\nAnger huruvida...</td>\n",
       "    </tr>\n",
       "    <tr>\n",
       "      <th>3</th>\n",
       "      <td>Z11 \\nKÖN \\nX8, Y10, U10, \\nV718, W2 \\nIntervj...</td>\n",
       "    </tr>\n",
       "    <tr>\n",
       "      <th>4</th>\n",
       "      <td>Z12 \\nFÖDELSEÅR \\nX9, Y11, U11, \\nV815, W533 \\...</td>\n",
       "    </tr>\n",
       "  </tbody>\n",
       "</table>\n",
       "</div>"
      ],
      "text/plain": [
       "                                                   0\n",
       "0  Z8 \\nTYP AV INTERVJU \\nX10, Y7, U7 \\nTyp av in...\n",
       "1  Z9 \\nINDIREKT INTERVJU \\njfr X11, Y8, \\nU8, V7...\n",
       "2  Z10 \\nINTERVJUSPRÅK \\njfr X12 \\nAnger huruvida...\n",
       "3  Z11 \\nKÖN \\nX8, Y10, U10, \\nV718, W2 \\nIntervj...\n",
       "4  Z12 \\nFÖDELSEÅR \\nX9, Y11, U11, \\nV815, W533 \\..."
      ]
     },
     "execution_count": 219,
     "metadata": {},
     "output_type": "execute_result"
    }
   ],
   "source": [
    "df = tables[0].df\n",
    "df"
   ]
  },
  {
   "cell_type": "markdown",
   "metadata": {},
   "source": [
    "Såhär ser den första cellen ut."
   ]
  },
  {
   "cell_type": "code",
   "execution_count": 220,
   "metadata": {},
   "outputs": [
    {
     "data": {
      "text/plain": [
       "'Z8 \\nTYP AV INTERVJU \\nX10, Y7, U7 \\nTyp av intervju. \\n1 \\nBesöksintervju \\n3278 \\n74.3 \\n2 \\nTelefonintervju \\n1137 \\n25.7 \\n \\nTotalt \\n4415 \\n100'"
      ]
     },
     "execution_count": 220,
     "metadata": {},
     "output_type": "execute_result"
    }
   ],
   "source": [
    "df.loc[0][0]"
   ]
  },
  {
   "cell_type": "markdown",
   "metadata": {},
   "source": [
    "Nu skapar jag en lista `L1` som innehåller strängen från varje cell i `df`. Varje sådan sträng har gjorts om till en lista (`L1[i]`) med kortare strängar som tagits fram genom att dela den ursprungliga strängen vid varje \"\\n\". Varje `L1[i]` motsvarar alltså en variabel i LNU:s kodbok."
   ]
  },
  {
   "cell_type": "code",
   "execution_count": 221,
   "metadata": {},
   "outputs": [],
   "source": [
    "L1 = [df.loc[i][0].split('\\n') for i in df.index]"
   ]
  },
  {
   "cell_type": "markdown",
   "metadata": {},
   "source": [
    "Den första strängen i varje ruta i kodboken (`L1[i]`) är alltid variabelnamnet."
   ]
  },
  {
   "cell_type": "code",
   "execution_count": 222,
   "metadata": {},
   "outputs": [
    {
     "data": {
      "text/plain": [
       "'Z8 '"
      ]
     },
     "execution_count": 222,
     "metadata": {},
     "output_type": "execute_result"
    }
   ],
   "source": [
    "L1[0][0]"
   ]
  },
  {
   "cell_type": "markdown",
   "metadata": {},
   "source": [
    "Vid sidbrytning kommer dock den första strängen inte se ut sådär. Därför måste jag använda ett `regex`."
   ]
  },
  {
   "cell_type": "code",
   "execution_count": 223,
   "metadata": {},
   "outputs": [],
   "source": [
    "regex1 = re.compile(r'^Z\\d|^PZ\\d')"
   ]
  },
  {
   "cell_type": "markdown",
   "metadata": {},
   "source": [
    "Listan `namn` ska innehålla alla variabelnamn. Jag går igenom den första strängen i varje cell och ser ifall den är ett \"äkta\" variabelnamn med hjälp av `regex1`. Är den det läggs strängen i `namn`, i annat fall lägger jag `'sidbrytning'` i listan. På så vis kan jag i ett senare skede ta bort alla rader i tabellen vars variabelnamn är `'sidbrytning'`."
   ]
  },
  {
   "cell_type": "code",
   "execution_count": 242,
   "metadata": {},
   "outputs": [],
   "source": [
    "# namn = [L1[i][0] if bool(regex1.findall(L1[i][0])) == True else 'sidbrytning' for i in range(len(L1))]\n",
    "\n",
    "namn = []\n",
    "\n",
    "for i in range(len(L1)):\n",
    "    for j in range(len(L1[i])):\n",
    "        a = len(namn)\n",
    "        if bool(regex1.findall(L1[i][j])) == True:\n",
    "            namn.append(L1[i][j])\n",
    "            break\n",
    "    if len(namn) == a:\n",
    "        namn.append('sidbrytning')"
   ]
  },
  {
   "cell_type": "markdown",
   "metadata": {},
   "source": [
    "<span style=\"color:lightcoral\">Den andra strängen är alltid (utom vid sidbrytningar så klart) en beskrivning.</span>"
   ]
  },
  {
   "cell_type": "code",
   "execution_count": 243,
   "metadata": {},
   "outputs": [
    {
     "data": {
      "text/plain": [
       "'INDIREKT INTERVJU '"
      ]
     },
     "execution_count": 243,
     "metadata": {},
     "output_type": "execute_result"
    }
   ],
   "source": [
    "L1[1][1]"
   ]
  },
  {
   "cell_type": "code",
   "execution_count": 244,
   "metadata": {},
   "outputs": [
    {
     "data": {
      "text/plain": [
       "['Z8 ', 'Z9 ', 'Z10 ', 'Z11 ', 'Z12 ']"
      ]
     },
     "execution_count": 244,
     "metadata": {},
     "output_type": "execute_result"
    }
   ],
   "source": [
    "namn"
   ]
  },
  {
   "cell_type": "code",
   "execution_count": 227,
   "metadata": {},
   "outputs": [
    {
     "data": {
      "text/plain": [
       "['Z8 ',\n",
       " 'TYP AV INTERVJU ',\n",
       " 'X10, Y7, U7 ',\n",
       " 'Typ av intervju. ',\n",
       " '1 ',\n",
       " 'Besöksintervju ',\n",
       " '3278 ',\n",
       " '74.3 ',\n",
       " '2 ',\n",
       " 'Telefonintervju ',\n",
       " '1137 ',\n",
       " '25.7 ',\n",
       " ' ',\n",
       " 'Totalt ',\n",
       " '4415 ',\n",
       " '100']"
      ]
     },
     "execution_count": 227,
     "metadata": {},
     "output_type": "execute_result"
    }
   ],
   "source": [
    "L1[0]"
   ]
  },
  {
   "cell_type": "markdown",
   "metadata": {},
   "source": [
    "<span style=\"color:lightcoral\">På samma sätt går det därför att samla alla beskrivningar i en lista. Här behöver jag inte bry mig om att använda ett `regex`. Det räcker att det står `'sidbrytning'` i namn-kolumnen för att hitta de rader som ska tas bort.</span>"
   ]
  },
  {
   "cell_type": "code",
   "execution_count": 245,
   "metadata": {},
   "outputs": [],
   "source": [
    "# beskrivning = [L1[i][1] if len(L1[i]) > 5 else 'sidbrytning' for i in range(len(L1))]\n",
    "regex4 = re.compile(r'[A-Z]{3}')\n",
    "\n",
    "beskrivning = []\n",
    "\n",
    "for i in range(len(L1)):\n",
    "    for j in range(len(L1[i])):\n",
    "        a = len(beskrivning)\n",
    "        if bool(regex4.findall(L1[i][j])) == True:\n",
    "            beskrivning.append(L1[i][j])\n",
    "            break\n",
    "    if len(beskrivning) == a:\n",
    "        beskrivning.append('sidbrytning')\n",
    "\n",
    "\n",
    "    "
   ]
  },
  {
   "cell_type": "code",
   "execution_count": 246,
   "metadata": {},
   "outputs": [
    {
     "data": {
      "text/plain": [
       "['TYP AV INTERVJU ',\n",
       " 'INDIREKT INTERVJU ',\n",
       " 'INTERVJUSPRÅK ',\n",
       " 'sidbrytning',\n",
       " 'FÖDELSEÅR ']"
      ]
     },
     "execution_count": 246,
     "metadata": {},
     "output_type": "execute_result"
    }
   ],
   "source": [
    "beskrivning"
   ]
  },
  {
   "cell_type": "code",
   "execution_count": 230,
   "metadata": {},
   "outputs": [
    {
     "data": {
      "text/plain": [
       "True"
      ]
     },
     "execution_count": 230,
     "metadata": {},
     "output_type": "execute_result"
    }
   ],
   "source": [
    "bool(regex4.findall('ÅR/MÅNAD FÖR START UTOMLANDSBOENDE 1 * '))"
   ]
  },
  {
   "cell_type": "code",
   "execution_count": 236,
   "metadata": {},
   "outputs": [
    {
     "data": {
      "text/plain": [
       "['Z11 ',\n",
       " 'KÖN ',\n",
       " 'X8, Y10, U10, ',\n",
       " 'V718, W2 ',\n",
       " 'Intervjupersonens kön. ',\n",
       " '1 ',\n",
       " 'Man ',\n",
       " '2257 ',\n",
       " '51,1 ',\n",
       " '2 ',\n",
       " 'Kvinna ',\n",
       " '2158 ',\n",
       " '48,9 ',\n",
       " ' ',\n",
       " 'Totalt ',\n",
       " '4415 ',\n",
       " '100']"
      ]
     },
     "execution_count": 236,
     "metadata": {},
     "output_type": "execute_result"
    }
   ],
   "source": [
    "L1[3]"
   ]
  },
  {
   "cell_type": "markdown",
   "metadata": {},
   "source": [
    "<span style=\"color:lightcoral\">Det är mer komplicerat att hitta enkättexten. Den kommer alltid på tredje eller fjärde plats beroende på hur många \"liknande variabler\" som listats i högra hörnet i kodboken. För att hantera detta skapar jag en regex som svarar på strängar som beskriver \"liknande variabler\". Sådana strängar undviks och de övriga läggs i en lista.</span>"
   ]
  },
  {
   "cell_type": "code",
   "execution_count": 232,
   "metadata": {},
   "outputs": [],
   "source": [
    "regex2 = re.compile(r'^NY|^jfr|^[XYZUVW]\\d|^\\s')\n",
    "\n",
    "regex3 = re.compile(r'^\\d')"
   ]
  },
  {
   "cell_type": "code",
   "execution_count": 233,
   "metadata": {},
   "outputs": [],
   "source": [
    "enkättext = []\n",
    "\n",
    "for i in range(len(L1)):\n",
    "    textdelar = []\n",
    "    for j in range(3, len(L1[i])):\n",
    "        if bool(regex3.findall(L1[i][j])) == True:\n",
    "            break\n",
    "        if bool(regex2.findall(L1[i][j])) == False:\n",
    "            textdelar.append(L1[i][j])\n",
    "    enkättext.append(''.join(textdelar))"
   ]
  },
  {
   "cell_type": "code",
   "execution_count": 234,
   "metadata": {},
   "outputs": [
    {
     "data": {
      "text/plain": [
       "['Typ av intervju. ',\n",
       " 'Anger huruvida intervju gjordes med intervjupersonen eller annan än intervjupersonen ',\n",
       " 'Anger huruvida intervjun genomfördes på svenska eller med hjälp av tolk. ',\n",
       " 'Intervjupersonens kön. ',\n",
       " 'Intervjupersonens födelseår. ']"
      ]
     },
     "execution_count": 234,
     "metadata": {},
     "output_type": "execute_result"
    }
   ],
   "source": [
    "enkättext"
   ]
  },
  {
   "cell_type": "markdown",
   "metadata": {},
   "source": [
    "Tyvärr verkar det som att vissa variabler saknar enkättext (t.ex. Z3). Dessa är förmodligen väldigt få, de är sanolikt bara vissa bakgrundsvariabler som saknar enkättext. I dessa fall läggs det en siffran från variabelns kodlista i `enkättext`. Detta går enkelt att åtgärna i efterhand genom att ersätta alla siffror med säg `NaN`."
   ]
  },
  {
   "cell_type": "code",
   "execution_count": 32,
   "metadata": {},
   "outputs": [
    {
     "data": {
      "text/plain": [
       "['Är/var båda dina föräldrar födda i Sverige? Frågan ej ställd till panelen, men uppgifter från tidigare LNU har i ']"
      ]
     },
     "execution_count": 32,
     "metadata": {},
     "output_type": "execute_result"
    }
   ],
   "source": [
    "enkättext"
   ]
  },
  {
   "cell_type": "code",
   "execution_count": 138,
   "metadata": {},
   "outputs": [
    {
     "data": {
      "text/plain": [
       "['*',\n",
       " ' ',\n",
       " 'NY ',\n",
       " 'Z45 ',\n",
       " 'ÅR/MÅNAD FÖR START UTOMLANDSBOENDE 1 * ',\n",
       " 'År och månad då ip inledde sitt första utomlandsboende.  ',\n",
       " 'Endast minsta samt högsta år och månad redovisas. ',\n",
       " 'Tabellen gäller för Z43 GT 0. ',\n",
       " '193503 ',\n",
       " ' ',\n",
       " ' ',\n",
       " ' ',\n",
       " '201007 ',\n",
       " ' ',\n",
       " ' ',\n",
       " ' ',\n",
       " ' ',\n",
       " 'Totalt ',\n",
       " '973 ',\n",
       " ' ',\n",
       " '999999 ',\n",
       " 'Svar saknas ',\n",
       " '2 ',\n",
       " ' ',\n",
       " ' ',\n",
       " 'Ej aktuellt ',\n",
       " '3440 ',\n",
       " ' ',\n",
       " ' ',\n",
       " ' ',\n",
       " '4415 ',\n",
       " ' ',\n",
       " ' ',\n",
       " ' ',\n",
       " ' ',\n",
       " ' ',\n",
       " 'Motsvarande uppgifter för ytterligare utomlandsboenden, se z45_a-z45_n (boende 2-15)']"
      ]
     },
     "execution_count": 138,
     "metadata": {},
     "output_type": "execute_result"
    }
   ],
   "source": [
    "L1[1]"
   ]
  },
  {
   "cell_type": "markdown",
   "metadata": {},
   "source": [
    "Nu tar jag de listor jag skapat och gör dem till kolumner i en DataFrame (`df`)."
   ]
  },
  {
   "cell_type": "code",
   "execution_count": 140,
   "metadata": {},
   "outputs": [],
   "source": [
    "df = pd.DataFrame.from_dict({'Variabelnamn': namn, 'Beskrivning': beskrivning, 'Enkättext': enkättext})"
   ]
  },
  {
   "cell_type": "markdown",
   "metadata": {},
   "source": [
    "Lägg till en Enkät-kolumn. Alla variabler är såklart från LNU."
   ]
  },
  {
   "cell_type": "code",
   "execution_count": 141,
   "metadata": {},
   "outputs": [],
   "source": [
    "df['Enkät'] = 'LNU'"
   ]
  },
  {
   "cell_type": "markdown",
   "metadata": {},
   "source": [
    "Ändra ordningen på kolumnerna."
   ]
  },
  {
   "cell_type": "code",
   "execution_count": 142,
   "metadata": {},
   "outputs": [],
   "source": [
    "df = df[['Variabelnamn', 'Enkät', 'Beskrivning', 'Enkättext']]"
   ]
  },
  {
   "cell_type": "code",
   "execution_count": 22,
   "metadata": {},
   "outputs": [
    {
     "data": {
      "text/html": [
       "<div>\n",
       "<style scoped>\n",
       "    .dataframe tbody tr th:only-of-type {\n",
       "        vertical-align: middle;\n",
       "    }\n",
       "\n",
       "    .dataframe tbody tr th {\n",
       "        vertical-align: top;\n",
       "    }\n",
       "\n",
       "    .dataframe thead th {\n",
       "        text-align: right;\n",
       "    }\n",
       "</style>\n",
       "<table border=\"1\" class=\"dataframe\">\n",
       "  <thead>\n",
       "    <tr style=\"text-align: right;\">\n",
       "      <th></th>\n",
       "      <th>Variabelnamn</th>\n",
       "      <th>Enkät</th>\n",
       "      <th>Beskrivning</th>\n",
       "      <th>Enkättext</th>\n",
       "    </tr>\n",
       "  </thead>\n",
       "  <tbody>\n",
       "    <tr>\n",
       "      <th>0</th>\n",
       "      <td>sidbrytning</td>\n",
       "      <td>LNU</td>\n",
       "      <td>Studerande</td>\n",
       "      <td>5,5</td>\n",
       "    </tr>\n",
       "    <tr>\n",
       "      <th>1</th>\n",
       "      <td>X15, Y13, jfr</td>\n",
       "      <td>LNU</td>\n",
       "      <td>Z14</td>\n",
       "      <td>Eget yrke/sysselsättning enligt socioekonomisk...</td>\n",
       "    </tr>\n",
       "    <tr>\n",
       "      <th>2</th>\n",
       "      <td>Z15</td>\n",
       "      <td>LNU</td>\n",
       "      <td>NYK80 NUVARANDE YRKE</td>\n",
       "      <td>Nuvarande yrke eller sysselsättning kodat enli...</td>\n",
       "    </tr>\n",
       "    <tr>\n",
       "      <th>3</th>\n",
       "      <td>X17</td>\n",
       "      <td>LNU</td>\n",
       "      <td>Z16</td>\n",
       "      <td>Nuvarande yrke eller sysselsättning kodat enli...</td>\n",
       "    </tr>\n",
       "    <tr>\n",
       "      <th>4</th>\n",
       "      <td>Z17</td>\n",
       "      <td>LNU</td>\n",
       "      <td>EGEN EGP</td>\n",
       "      <td>Eget yrke/sysselsättning enligt Erikson, Goldt...</td>\n",
       "    </tr>\n",
       "  </tbody>\n",
       "</table>\n",
       "</div>"
      ],
      "text/plain": [
       "     Variabelnamn Enkät            Beskrivning  \\\n",
       "0     sidbrytning   LNU            Studerande    \n",
       "1  X15, Y13, jfr    LNU                   Z14    \n",
       "2            Z15    LNU  NYK80 NUVARANDE YRKE    \n",
       "3            X17    LNU                   Z16    \n",
       "4            Z17    LNU              EGEN EGP    \n",
       "\n",
       "                                           Enkättext  \n",
       "0                                               5,5   \n",
       "1  Eget yrke/sysselsättning enligt socioekonomisk...  \n",
       "2  Nuvarande yrke eller sysselsättning kodat enli...  \n",
       "3  Nuvarande yrke eller sysselsättning kodat enli...  \n",
       "4  Eget yrke/sysselsättning enligt Erikson, Goldt...  "
      ]
     },
     "execution_count": 22,
     "metadata": {},
     "output_type": "execute_result"
    }
   ],
   "source": [
    "df"
   ]
  },
  {
   "cell_type": "code",
   "execution_count": 248,
   "metadata": {},
   "outputs": [
    {
     "name": "stdout",
     "output_type": "stream",
     "text": [
      "32\n",
      "33\n",
      "34\n",
      "35\n",
      "36\n",
      "37\n",
      "38\n",
      "39\n",
      "40\n",
      "41\n",
      "42\n",
      "43\n",
      "44\n",
      "45\n",
      "46\n",
      "47\n",
      "48\n",
      "49\n",
      "50\n",
      "51\n",
      "52\n",
      "53\n",
      "54\n",
      "55\n",
      "56\n",
      "57\n",
      "58\n",
      "59\n",
      "60\n",
      "61\n",
      "62\n",
      "63\n",
      "64\n",
      "65\n",
      "66\n",
      "67\n",
      "68\n",
      "69\n",
      "70\n",
      "71\n",
      "72\n",
      "73\n",
      "74\n",
      "75\n",
      "76\n",
      "77\n",
      "78\n",
      "79\n",
      "80\n",
      "81\n",
      "82\n",
      "83\n",
      "84\n",
      "85\n",
      "86\n",
      "87\n",
      "88\n",
      "89\n",
      "90\n",
      "91\n",
      "92\n",
      "93\n",
      "94\n",
      "95\n",
      "96\n",
      "97\n",
      "98\n",
      "99\n",
      "100\n",
      "101\n",
      "102\n",
      "103\n",
      "104\n",
      "105\n",
      "106\n",
      "107\n",
      "108\n",
      "109\n",
      "110\n",
      "111\n",
      "112\n",
      "113\n",
      "114\n",
      "115\n",
      "116\n",
      "117\n",
      "118\n",
      "119\n",
      "120\n",
      "121\n",
      "122\n",
      "123\n",
      "124\n",
      "125\n",
      "126\n",
      "127\n",
      "128\n",
      "129\n",
      "130\n",
      "131\n",
      "132\n",
      "133\n",
      "134\n",
      "135\n",
      "136\n",
      "137\n",
      "138\n",
      "139\n",
      "140\n",
      "141\n",
      "142\n",
      "143\n",
      "144\n",
      "145\n",
      "146\n",
      "147\n",
      "148\n",
      "149\n",
      "150\n",
      "151\n",
      "152\n",
      "153\n",
      "154\n",
      "155\n",
      "156\n",
      "157\n",
      "158\n",
      "159\n",
      "160\n",
      "161\n",
      "162\n",
      "163\n",
      "164\n",
      "165\n",
      "166\n",
      "167\n",
      "168\n",
      "169\n",
      "170\n",
      "171\n",
      "172\n",
      "173\n",
      "174\n",
      "175\n",
      "176\n",
      "177\n",
      "178\n",
      "179\n",
      "180\n",
      "181\n",
      "182\n",
      "183\n",
      "184\n",
      "185\n",
      "186\n",
      "187\n",
      "188\n",
      "189\n",
      "190\n",
      "191\n",
      "192\n",
      "193\n",
      "194\n",
      "195\n",
      "196\n",
      "197\n",
      "198\n",
      "199\n",
      "200\n",
      "201\n",
      "202\n",
      "203\n",
      "204\n",
      "205\n",
      "206\n",
      "207\n",
      "208\n",
      "209\n",
      "210\n",
      "211\n",
      "212\n",
      "213\n",
      "214\n",
      "215\n",
      "216\n",
      "217\n",
      "218\n",
      "219\n",
      "220\n",
      "221\n",
      "222\n",
      "223\n",
      "224\n",
      "225\n",
      "226\n",
      "227\n",
      "228\n",
      "229\n",
      "230\n",
      "231\n",
      "232\n",
      "233\n",
      "234\n",
      "235\n",
      "236\n",
      "237\n",
      "238\n",
      "239\n",
      "240\n",
      "241\n",
      "242\n",
      "243\n",
      "244\n",
      "245\n",
      "246\n",
      "247\n",
      "248\n",
      "249\n",
      "250\n",
      "251\n",
      "252\n",
      "253\n",
      "254\n",
      "255\n",
      "256\n",
      "257\n",
      "258\n",
      "259\n",
      "260\n",
      "261\n",
      "262\n",
      "263\n",
      "264\n",
      "265\n",
      "266\n",
      "267\n",
      "268\n",
      "269\n",
      "270\n",
      "271\n",
      "272\n",
      "273\n",
      "274\n",
      "275\n",
      "276\n",
      "277\n",
      "278\n",
      "279\n",
      "280\n",
      "281\n",
      "282\n",
      "283\n",
      "284\n",
      "285\n",
      "286\n",
      "287\n",
      "288\n",
      "289\n",
      "290\n",
      "291\n",
      "292\n",
      "293\n",
      "294\n",
      "295\n",
      "296\n",
      "297\n",
      "298\n",
      "299\n",
      "300\n",
      "301\n",
      "302\n",
      "303\n",
      "304\n",
      "305\n",
      "306\n",
      "307\n",
      "308\n",
      "309\n",
      "310\n",
      "311\n",
      "312\n",
      "313\n",
      "314\n",
      "315\n",
      "316\n",
      "317\n",
      "318\n",
      "319\n",
      "320\n",
      "321\n",
      "322\n",
      "323\n",
      "324\n",
      "325\n",
      "326\n",
      "327\n",
      "328\n",
      "329\n",
      "330\n",
      "331\n",
      "332\n",
      "333\n",
      "334\n",
      "335\n",
      "336\n",
      "337\n",
      "338\n",
      "339\n",
      "340\n",
      "341\n",
      "342\n",
      "343\n",
      "344\n",
      "345\n",
      "346\n",
      "347\n",
      "348\n",
      "349\n",
      "350\n",
      "351\n",
      "352\n",
      "353\n",
      "354\n",
      "355\n",
      "356\n"
     ]
    }
   ],
   "source": [
    "regex1 = re.compile(r'^Z\\d|^PZ\\d')\n",
    "\n",
    "regex2 = re.compile(r'^NY|^jfr|^[XYZUVW]\\d')\n",
    "\n",
    "regex3 = re.compile(r'^\\d')\n",
    "\n",
    "regex4 = re.compile(r'[A-Z]{3}')\n",
    "\n",
    "\n",
    "delar = []\n",
    "\n",
    "for i in range(32, 357):\n",
    "    # Läs in sidan i från LNU:s kodbok\n",
    "    tables = camelot.read_pdf('LNU{}.pdf'.format(i))\n",
    "    \n",
    "    print(i)\n",
    "    # Gör om \"tabellen\" på sidan till en DataFrame. Vissa sidor, t.ex. 36, har ingen tabell alls. Kolla därför att tabell finns.\n",
    "    if tables.n != 0:\n",
    "        df = tables[0].df\n",
    "\n",
    "        # Dela upp strängen i varje cell vid \"\\n\".\n",
    "        L1 = [df.loc[i][0].split('\\n') for i in df.index]\n",
    "    \n",
    "        # Skapa lista med namn (se exempel längre upp för förklaring av regex)\n",
    "        namn = []\n",
    "\n",
    "        for i in range(len(L1)):\n",
    "            for j in range(len(L1[i])):\n",
    "                a = len(namn)\n",
    "                if bool(regex1.findall(L1[i][j])) == True:\n",
    "                    namn.append(L1[i][j])\n",
    "                    break\n",
    "            if len(namn) == a:\n",
    "                namn.append('sidbrytning')\n",
    "        \n",
    "        \n",
    "        # Skapa listan med beskrivningar.         \n",
    "        beskrivning = []\n",
    "\n",
    "        for i in range(len(L1)):\n",
    "            for j in range(len(L1[i])):\n",
    "                a = len(beskrivning)\n",
    "                if bool(regex4.findall(L1[i][j])) == True:\n",
    "                    beskrivning.append(L1[i][j])\n",
    "                    break\n",
    "            if len(beskrivning) == a:\n",
    "                beskrivning.append('sidbrytning')\n",
    "        \n",
    "        # Skapa listan med enkättexter.\n",
    "        enkättext = []\n",
    "\n",
    "        for i in range(len(L1)):\n",
    "            textdelar = []\n",
    "            for j in range(3, len(L1[i])):\n",
    "                if bool(regex3.findall(L1[i][j])) == True:\n",
    "                    break\n",
    "                if bool(regex2.findall(L1[i][j])) == False:\n",
    "                    textdelar.append(L1[i][j])\n",
    "            enkättext.append(''.join(textdelar))\n",
    "        \n",
    "        # Skapa en dataframe av listorna namn, beskrivning och enkättext. \n",
    "        df = pd.DataFrame.from_dict({'Variabelnamn': namn, 'Beskrivning': beskrivning, 'Enkättext': enkättext})\n",
    "    \n",
    "        # Nu har hela sidan i blivit en dataframe och läggs i en lista som heter \"delar\".\n",
    "        delar.append(df)"
   ]
  },
  {
   "cell_type": "code",
   "execution_count": 250,
   "metadata": {},
   "outputs": [
    {
     "data": {
      "text/html": [
       "<div>\n",
       "<style scoped>\n",
       "    .dataframe tbody tr th:only-of-type {\n",
       "        vertical-align: middle;\n",
       "    }\n",
       "\n",
       "    .dataframe tbody tr th {\n",
       "        vertical-align: top;\n",
       "    }\n",
       "\n",
       "    .dataframe thead th {\n",
       "        text-align: right;\n",
       "    }\n",
       "</style>\n",
       "<table border=\"1\" class=\"dataframe\">\n",
       "  <thead>\n",
       "    <tr style=\"text-align: right;\">\n",
       "      <th></th>\n",
       "      <th>Variabelnamn</th>\n",
       "      <th>Beskrivning</th>\n",
       "      <th>Enkättext</th>\n",
       "    </tr>\n",
       "  </thead>\n",
       "  <tbody>\n",
       "    <tr>\n",
       "      <th>0</th>\n",
       "      <td>sidbrytning</td>\n",
       "      <td>sidbrytning</td>\n",
       "      <td></td>\n",
       "    </tr>\n",
       "    <tr>\n",
       "      <th>1</th>\n",
       "      <td>Z597</td>\n",
       "      <td>ARBETSLÖS UNDER 2009</td>\n",
       "      <td>Sökte eller väntade du på arbete, var arbetslö...</td>\n",
       "    </tr>\n",
       "    <tr>\n",
       "      <th>2</th>\n",
       "      <td>Z598</td>\n",
       "      <td>ARBETSLÖSHETSVECKOR 2009</td>\n",
       "      <td>Antal veckor under 2009: arbetssökande/arbetsl...</td>\n",
       "    </tr>\n",
       "    <tr>\n",
       "      <th>3</th>\n",
       "      <td>Z599</td>\n",
       "      <td>FÖRRA VECKAN: HELTID</td>\n",
       "      <td>Var du anställd på heltid (inklusive semester,...</td>\n",
       "    </tr>\n",
       "  </tbody>\n",
       "</table>\n",
       "</div>"
      ],
      "text/plain": [
       "  Variabelnamn                Beskrivning  \\\n",
       "0  sidbrytning                sidbrytning   \n",
       "1        Z597       ARBETSLÖS UNDER 2009    \n",
       "2        Z598   ARBETSLÖSHETSVECKOR 2009    \n",
       "3        Z599       FÖRRA VECKAN: HELTID    \n",
       "\n",
       "                                           Enkättext  \n",
       "0                                                     \n",
       "1  Sökte eller väntade du på arbete, var arbetslö...  \n",
       "2  Antal veckor under 2009: arbetssökande/arbetsl...  \n",
       "3  Var du anställd på heltid (inklusive semester,...  "
      ]
     },
     "execution_count": 250,
     "metadata": {},
     "output_type": "execute_result"
    }
   ],
   "source": [
    "delar[189]"
   ]
  },
  {
   "cell_type": "code",
   "execution_count": 129,
   "metadata": {},
   "outputs": [],
   "source": [
    "LNU = pd.concat(delar)"
   ]
  },
  {
   "cell_type": "code",
   "execution_count": 135,
   "metadata": {},
   "outputs": [
    {
     "data": {
      "text/plain": [
       "sidbrytning    282\n",
       "Z488             1\n",
       "Z760             1\n",
       "Z537             1\n",
       "Z355             1\n",
       "              ... \n",
       "Z831             1\n",
       "Z420             1\n",
       "Z602             1\n",
       "Z890             1\n",
       "Z130             1\n",
       "Name: Variabelnamn, Length: 817, dtype: int64"
      ]
     },
     "execution_count": 135,
     "metadata": {},
     "output_type": "execute_result"
    }
   ],
   "source": [
    "LNU['Variabelnamn'].value_counts()"
   ]
  },
  {
   "cell_type": "markdown",
   "metadata": {},
   "source": [
    "Här är lite extra exempel på hur camelot används."
   ]
  },
  {
   "cell_type": "code",
   "execution_count": null,
   "metadata": {},
   "outputs": [],
   "source": [
    "variabel = {'variabel': var[0], 'beskrivning': var[1], 'enkättext': var[3]}"
   ]
  },
  {
   "cell_type": "code",
   "execution_count": null,
   "metadata": {},
   "outputs": [],
   "source": [
    "tables.export('foo.csv', f='csv', compress=True) # json, excel, html, sqlite\n",
    "tables[0]"
   ]
  },
  {
   "cell_type": "code",
   "execution_count": null,
   "metadata": {},
   "outputs": [],
   "source": [
    "tables[0].parsing_report"
   ]
  },
  {
   "cell_type": "code",
   "execution_count": null,
   "metadata": {},
   "outputs": [],
   "source": [
    "#tables[0].to_csv('foo.csv') # to_json, to_excel, to_html, to_sqlite\n",
    "tables[0].df # get a pandas DataFrame!"
   ]
  }
 ],
 "metadata": {
  "kernelspec": {
   "display_name": "Python 3",
   "language": "python",
   "name": "python3"
  },
  "language_info": {
   "codemirror_mode": {
    "name": "ipython",
    "version": 3
   },
   "file_extension": ".py",
   "mimetype": "text/x-python",
   "name": "python",
   "nbconvert_exporter": "python",
   "pygments_lexer": "ipython3",
   "version": "3.7.3"
  }
 },
 "nbformat": 4,
 "nbformat_minor": 2
}

{
 "cells": [
  {
   "cell_type": "markdown",
   "metadata": {},
   "source": [
    "* Vissa koder börjar med \"<\"  \n",
    "* De flesta börjar med sifforr  \n",
    "* siffran längst ut till höger i frekvenstabellen (som visar andel) har en \".\" i sig när den läses in av camelot\n"
   ]
  },
  {
   "cell_type": "code",
   "execution_count": 2,
   "metadata": {},
   "outputs": [],
   "source": [
    "import pandas as pd\n",
    "import camelot\n",
    "import re\n",
    "import numpy as np"
   ]
  },
  {
   "cell_type": "code",
   "execution_count": 3,
   "metadata": {},
   "outputs": [],
   "source": [
    "tables = camelot.read_pdf('LNU32.pdf')\n",
    "\n",
    "if tables.n == 0:\n",
    "    print('INGEN tabell hehe')\n",
    "\n",
    "df = tables[0].df"
   ]
  },
  {
   "cell_type": "code",
   "execution_count": 4,
   "metadata": {},
   "outputs": [],
   "source": [
    "L1 = [df.loc[i][0].split('\\n') for i in df.index]"
   ]
  },
  {
   "cell_type": "code",
   "execution_count": null,
   "metadata": {},
   "outputs": [],
   "source": [
    "reg1 = re.compile(r'^\\d|^<')\n",
    "\n",
    "\n",
    "delar = []\n",
    "\n",
    "for i in range(31, 357):\n",
    "    # Läs in sidan i från LNU:s kodbok\n",
    "    tables = camelot.read_pdf('LNU{}.pdf'.format(i))\n",
    "    \n",
    "    # Gör om \"tabellen\" på sidan till en DataFrame. Vissa sidor, t.ex. 36, har ingen tabell alls. Kolla därför att tabell finns.\n",
    "    if tables.n != 0:\n",
    "        df = tables[0].df\n",
    "\n",
    "        # Dela upp strängen i varje cell vid \"\\n\".\n",
    "        L1 = [df.loc[i][0].split('\\n') for i in df.index]\n",
    "        \n",
    "        koder = []\n",
    "        texter = []\n",
    "        frekvenser = []\n",
    "        \n",
    "        for j in range(len(L1)):            \n",
    "            for k in range(len(L1[j])):\n",
    "                \n",
    "                kod = L1[j][k]\n",
    "                text = L1[j][k+1]\n",
    "                frekvens = L1[j][k+2]\n",
    "                                \n",
    "                # När jag når 'Totalt' är kodlistan slut.\n",
    "                if kod == 'Totalt':\n",
    "                    break\n",
    "                    \n",
    "                # kodlistorna verkar alltid börja med en siffra eller \"<\" i de fall kdoerna är årtal    \n",
    "                if bool(reg1.findall(kod)) == True:\n",
    "                    \n",
    "                    # Ifall sträng k+1 börjar med siffra är det förmodligen ingen text utan en frekvens\n",
    "                    if bool(reg1.findall(text)) == True:\n",
    "                        koder.append(kod)\n",
    "                        texter.append(np.nan)\n",
    "                        frekvenser.append(text)\n",
    "                    else:\n",
    "                        koder.append(kod)\n",
    "                        texter.append(text)\n",
    "                        frekvenser.append(frekvens)"
   ]
  },
  {
   "cell_type": "code",
   "execution_count": null,
   "metadata": {},
   "outputs": [],
   "source": [
    "L1[0]"
   ]
  },
  {
   "cell_type": "code",
   "execution_count": null,
   "metadata": {},
   "outputs": [],
   "source": [
    "L1[1]"
   ]
  },
  {
   "cell_type": "markdown",
   "metadata": {},
   "source": [
    "**TEST**"
   ]
  },
  {
   "cell_type": "code",
   "execution_count": 6,
   "metadata": {},
   "outputs": [
    {
     "name": "stdout",
     "output_type": "stream",
     "text": [
      "j:0\n",
      "k:0\n",
      "frek:X10, Y7, U7 \n",
      "k:1\n",
      "frek:Typ av intervju. \n",
      "k:2\n",
      "frek:1 \n",
      "k:3\n",
      "frek:Besöksintervju \n",
      "k:4\n",
      "frek:3278 \n",
      "k:5\n",
      "frek:74.3 \n",
      "k:6\n",
      "frek:2 \n",
      "k:7\n",
      "frek:Telefonintervju \n",
      "k:8\n",
      "frek:1137 \n",
      "k:9\n",
      "frek:25.7 \n",
      "k:10\n",
      "frek: \n",
      "k:11\n",
      "frek:Totalt \n",
      "k:12\n",
      "frek:4415 \n",
      "k:13\n",
      "frek:100\n",
      "k:14\n"
     ]
    },
    {
     "ename": "IndexError",
     "evalue": "list index out of range",
     "output_type": "error",
     "traceback": [
      "\u001b[1;31m---------------------------------------------------------------------------\u001b[0m",
      "\u001b[1;31mIndexError\u001b[0m                                Traceback (most recent call last)",
      "\u001b[1;32m<ipython-input-6-7f23233d1e12>\u001b[0m in \u001b[0;36m<module>\u001b[1;34m\u001b[0m\n\u001b[0;32m     15\u001b[0m         \u001b[0mkod\u001b[0m \u001b[1;33m=\u001b[0m \u001b[0mL1\u001b[0m\u001b[1;33m[\u001b[0m\u001b[0mj\u001b[0m\u001b[1;33m]\u001b[0m\u001b[1;33m[\u001b[0m\u001b[0mk\u001b[0m\u001b[1;33m]\u001b[0m\u001b[1;33m\u001b[0m\u001b[1;33m\u001b[0m\u001b[0m\n\u001b[0;32m     16\u001b[0m         \u001b[0mtext\u001b[0m \u001b[1;33m=\u001b[0m \u001b[0mL1\u001b[0m\u001b[1;33m[\u001b[0m\u001b[0mj\u001b[0m\u001b[1;33m]\u001b[0m\u001b[1;33m[\u001b[0m\u001b[0mk\u001b[0m\u001b[1;33m+\u001b[0m\u001b[1;36m1\u001b[0m\u001b[1;33m]\u001b[0m\u001b[1;33m\u001b[0m\u001b[1;33m\u001b[0m\u001b[0m\n\u001b[1;32m---> 17\u001b[1;33m         \u001b[0mfrekvens\u001b[0m \u001b[1;33m=\u001b[0m \u001b[0mL1\u001b[0m\u001b[1;33m[\u001b[0m\u001b[0mj\u001b[0m\u001b[1;33m]\u001b[0m\u001b[1;33m[\u001b[0m\u001b[0mk\u001b[0m\u001b[1;33m+\u001b[0m\u001b[1;36m2\u001b[0m\u001b[1;33m]\u001b[0m\u001b[1;33m\u001b[0m\u001b[1;33m\u001b[0m\u001b[0m\n\u001b[0m\u001b[0;32m     18\u001b[0m \u001b[1;33m\u001b[0m\u001b[0m\n\u001b[0;32m     19\u001b[0m         \u001b[0mprint\u001b[0m\u001b[1;33m(\u001b[0m\u001b[1;34m'frek:'\u001b[0m \u001b[1;33m+\u001b[0m \u001b[0mfrekvens\u001b[0m\u001b[1;33m)\u001b[0m\u001b[1;33m\u001b[0m\u001b[1;33m\u001b[0m\u001b[0m\n",
      "\u001b[1;31mIndexError\u001b[0m: list index out of range"
     ]
    }
   ],
   "source": [
    "reg1 = re.compile(r'^\\d|^<')\n",
    "\n",
    "L1 = [df.loc[i][0].split('\\n') for i in df.index]\n",
    "        \n",
    "koder = []\n",
    "texter = []\n",
    "frekvenser = []\n",
    "        \n",
    "for j in range(len(L1)):\n",
    "    print('j:' + str(j))\n",
    "    \n",
    "    for k in range(len(L1[j])):\n",
    "        print('k:' + str(k))\n",
    "        \n",
    "        kod = L1[j][k]\n",
    "        text = L1[j][k+1]\n",
    "        frekvens = L1[j][k+2]\n",
    "        \n",
    "        print('frek:' + frekvens)\n",
    "                \n",
    "        # När jag når 'Totalt' är kodlistan slut.\n",
    "        if kod == 'Totalt':\n",
    "            break\n",
    "                    \n",
    "        # kodlistorna verkar alltid börja med en siffra eller \"<\" i de fall kdoerna är årtal    \n",
    "        if bool(reg1.findall(kod)) == True:\n",
    "                    \n",
    "            # Ifall sträng k+1 börjar med siffra är det förmodligen ingen text utan en frekvens\n",
    "            if bool(reg1.findall(text)) == True:\n",
    "                koder.append(kod)\n",
    "                texter.append(np.nan)\n",
    "                frekvenser.append(text)\n",
    "            else:\n",
    "                koder.append(kod)\n",
    "                texter.append(text)\n",
    "                frekvenser.append(frekvens)\n"
   ]
  }
 ],
 "metadata": {
  "kernelspec": {
   "display_name": "Python 3",
   "language": "python",
   "name": "python3"
  },
  "language_info": {
   "codemirror_mode": {
    "name": "ipython",
    "version": 3
   },
   "file_extension": ".py",
   "mimetype": "text/x-python",
   "name": "python",
   "nbconvert_exporter": "python",
   "pygments_lexer": "ipython3",
   "version": "3.7.3"
  }
 },
 "nbformat": 4,
 "nbformat_minor": 4
}

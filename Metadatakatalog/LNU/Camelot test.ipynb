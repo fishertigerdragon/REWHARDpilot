{
 "cells": [
  {
   "cell_type": "markdown",
   "metadata": {},
   "source": [
    "# 0. Problem\n",
    "  \n",
    "1. Har det hamnat siffror i kolumnen enkätexter? Kanske för variabler som är tagna från register. Ersätt dessa med NaN isåfall.\n",
    "\n",
    "***  "
   ]
  },
  {
   "cell_type": "markdown",
   "metadata": {},
   "source": [
    "På [den här sidan](https://github.com/atlanhq/camelot) finns bakgrundsinformation."
   ]
  },
  {
   "cell_type": "markdown",
   "metadata": {},
   "source": [
    "## 1. Bibliotek  \n",
    "Jag behöver pandas, re (för regex) och camelot. Camelot är modulen som hämtar \"tabeller\" fårn pdf-filer."
   ]
  },
  {
   "cell_type": "code",
   "execution_count": 40,
   "metadata": {},
   "outputs": [],
   "source": [
    "import camelot\n",
    "import pandas as pd\n",
    "import re\n",
    "import numpy as np"
   ]
  },
  {
   "cell_type": "markdown",
   "metadata": {},
   "source": [
    "## 2. Camelot  \n",
    "Läs in PDF-filen. Just den här filen har tre sidor. Camelot ska lägga \"tabellerna\" från pdf:en i en lista. Av någon anledning hämtar den bara tabellen från första sidan."
   ]
  },
  {
   "cell_type": "code",
   "execution_count": 2,
   "metadata": {},
   "outputs": [
    {
     "data": {
      "text/plain": [
       "<TableList n=1>"
      ]
     },
     "execution_count": 2,
     "metadata": {},
     "output_type": "execute_result"
    }
   ],
   "source": [
    "tables = camelot.read_pdf('LNU32.pdf')\n",
    "tables"
   ]
  },
  {
   "cell_type": "markdown",
   "metadata": {},
   "source": [
    "Gör om \"tabellen\" till en DataFrame (`df`). Det verkar som att varje ruta i LNU:s kodbok blir en cell i `df` (som bara har en kolumn). Värdet i cellen är en sträng. Camelot tycks ha plockat varje textbit i rutan och lagt ihop till en lång sträng. Delarna i strängen skiljs åt av \"\\n\".  "
   ]
  },
  {
   "cell_type": "code",
   "execution_count": 3,
   "metadata": {},
   "outputs": [
    {
     "data": {
      "text/plain": [
       "1"
      ]
     },
     "execution_count": 3,
     "metadata": {},
     "output_type": "execute_result"
    }
   ],
   "source": [
    "tables.n"
   ]
  },
  {
   "cell_type": "code",
   "execution_count": 4,
   "metadata": {},
   "outputs": [
    {
     "data": {
      "text/html": [
       "<div>\n",
       "<style scoped>\n",
       "    .dataframe tbody tr th:only-of-type {\n",
       "        vertical-align: middle;\n",
       "    }\n",
       "\n",
       "    .dataframe tbody tr th {\n",
       "        vertical-align: top;\n",
       "    }\n",
       "\n",
       "    .dataframe thead th {\n",
       "        text-align: right;\n",
       "    }\n",
       "</style>\n",
       "<table border=\"1\" class=\"dataframe\">\n",
       "  <thead>\n",
       "    <tr style=\"text-align: right;\">\n",
       "      <th></th>\n",
       "      <th>0</th>\n",
       "    </tr>\n",
       "  </thead>\n",
       "  <tbody>\n",
       "    <tr>\n",
       "      <th>0</th>\n",
       "      <td>Z8 \\nTYP AV INTERVJU \\nX10, Y7, U7 \\nTyp av in...</td>\n",
       "    </tr>\n",
       "    <tr>\n",
       "      <th>1</th>\n",
       "      <td>Z9 \\nINDIREKT INTERVJU \\njfr X11, Y8, \\nU8, V7...</td>\n",
       "    </tr>\n",
       "    <tr>\n",
       "      <th>2</th>\n",
       "      <td>Z10 \\nINTERVJUSPRÅK \\njfr X12 \\nAnger huruvida...</td>\n",
       "    </tr>\n",
       "    <tr>\n",
       "      <th>3</th>\n",
       "      <td>Z11 \\nKÖN \\nX8, Y10, U10, \\nV718, W2 \\nIntervj...</td>\n",
       "    </tr>\n",
       "    <tr>\n",
       "      <th>4</th>\n",
       "      <td>Z12 \\nFÖDELSEÅR \\nX9, Y11, U11, \\nV815, W533 \\...</td>\n",
       "    </tr>\n",
       "  </tbody>\n",
       "</table>\n",
       "</div>"
      ],
      "text/plain": [
       "                                                   0\n",
       "0  Z8 \\nTYP AV INTERVJU \\nX10, Y7, U7 \\nTyp av in...\n",
       "1  Z9 \\nINDIREKT INTERVJU \\njfr X11, Y8, \\nU8, V7...\n",
       "2  Z10 \\nINTERVJUSPRÅK \\njfr X12 \\nAnger huruvida...\n",
       "3  Z11 \\nKÖN \\nX8, Y10, U10, \\nV718, W2 \\nIntervj...\n",
       "4  Z12 \\nFÖDELSEÅR \\nX9, Y11, U11, \\nV815, W533 \\..."
      ]
     },
     "execution_count": 4,
     "metadata": {},
     "output_type": "execute_result"
    }
   ],
   "source": [
    "df = tables[0].df\n",
    "df"
   ]
  },
  {
   "cell_type": "markdown",
   "metadata": {},
   "source": [
    "Såhär ser den första cellen ut."
   ]
  },
  {
   "cell_type": "code",
   "execution_count": 5,
   "metadata": {},
   "outputs": [
    {
     "data": {
      "text/plain": [
       "'Z8 \\nTYP AV INTERVJU \\nX10, Y7, U7 \\nTyp av intervju. \\n1 \\nBesöksintervju \\n3278 \\n74.3 \\n2 \\nTelefonintervju \\n1137 \\n25.7 \\n \\nTotalt \\n4415 \\n100'"
      ]
     },
     "execution_count": 5,
     "metadata": {},
     "output_type": "execute_result"
    }
   ],
   "source": [
    "df.loc[0][0]"
   ]
  },
  {
   "cell_type": "markdown",
   "metadata": {},
   "source": [
    "Nu skapar jag en lista `L1` som innehåller strängen från varje cell i `df`. Varje sådan sträng har gjorts om till en lista (`L1[i]`) med kortare strängar som tagits fram genom att dela den ursprungliga strängen vid varje \"\\n\". Varje `L1[i]` motsvarar alltså en variabel i LNU:s kodbok."
   ]
  },
  {
   "cell_type": "code",
   "execution_count": 6,
   "metadata": {},
   "outputs": [],
   "source": [
    "L1 = [df.loc[i][0].split('\\n') for i in df.index]"
   ]
  },
  {
   "cell_type": "markdown",
   "metadata": {},
   "source": [
    "## 3. Kolumner  \n",
    "Här förklaras koden som skapar de tre kolumnerna **Variabelnamn**, **Beskrivning** och **Enkättext**. "
   ]
  },
  {
   "cell_type": "markdown",
   "metadata": {},
   "source": [
    "### 3.1 Variabelnamn   \n",
    "Den första strängen i varje ruta i kodboken (`L1[i]`) är oftast variabelnamnet."
   ]
  },
  {
   "cell_type": "code",
   "execution_count": 7,
   "metadata": {},
   "outputs": [
    {
     "data": {
      "text/plain": [
       "'Z8 '"
      ]
     },
     "execution_count": 7,
     "metadata": {},
     "output_type": "execute_result"
    }
   ],
   "source": [
    "L1[0][0]"
   ]
  },
  {
   "cell_type": "markdown",
   "metadata": {},
   "source": [
    "Vid sidbrytning kommer dock den första strängen inte se ut sådär. Därför måste jag använda ett `regex`. Alla variabelnamn i LNU 2010 börjar på \"Z\" och följs av åtminstone en siffra, eller så börjar de med \"PZ\" och följs av åtminstone en siffra."
   ]
  },
  {
   "cell_type": "code",
   "execution_count": 8,
   "metadata": {},
   "outputs": [],
   "source": [
    "regex1 = re.compile(r'^Z\\d|^PZ\\d')"
   ]
  },
  {
   "cell_type": "markdown",
   "metadata": {},
   "source": [
    "Listan `namn` ska innehålla alla variabelnamn. Jag går igenom den första strängen i varje cell och ser ifall den är ett \"äkta\" variabelnamn med hjälp av `regex1`. Är den det läggs strängen i `namn`, i annat fall lägger jag `'sidbrytning'` i listan. På så vis kan jag i ett senare skede ta bort alla rader i tabellen vars variabelnamn är `'sidbrytning'`."
   ]
  },
  {
   "cell_type": "code",
   "execution_count": 9,
   "metadata": {},
   "outputs": [],
   "source": [
    "namn = []\n",
    "\n",
    "for i in range(len(L1)):\n",
    "    for j in range(len(L1[i])):\n",
    "        a = len(namn)\n",
    "        if bool(regex1.findall(L1[i][j])) == True:\n",
    "            namn.append(L1[i][j])\n",
    "            break\n",
    "    if len(namn) == a:\n",
    "        namn.append('sidbrytning')"
   ]
  },
  {
   "cell_type": "markdown",
   "metadata": {},
   "source": [
    "### 3.2 Beskrivning  \n",
    "Den andra strängen är alltid (utom vid sidbrytningar så klart) en beskrivning."
   ]
  },
  {
   "cell_type": "code",
   "execution_count": 10,
   "metadata": {},
   "outputs": [
    {
     "data": {
      "text/plain": [
       "'INDIREKT INTERVJU '"
      ]
     },
     "execution_count": 10,
     "metadata": {},
     "output_type": "execute_result"
    }
   ],
   "source": [
    "L1[1][1]"
   ]
  },
  {
   "cell_type": "markdown",
   "metadata": {},
   "source": [
    "På samma sätt går det därför att samla alla beskrivningar i en lista. Jag använder en regex som fångar strängar som innehåller åtminstone tre stora bokstäver i följd. Samtliga beskrivningar i LNU:s kodbok är nämligen gjorda med stora bokstäver."
   ]
  },
  {
   "cell_type": "code",
   "execution_count": null,
   "metadata": {},
   "outputs": [],
   "source": [
    "regex2 = re.compile(r'[A-Z]{3}')"
   ]
  },
  {
   "cell_type": "markdown",
   "metadata": {},
   "source": [
    "Jag går igenom varje sträng i `L1` och plockar ut den första strängen som fångas av `regex2`. Hittar den ingen sådan sträng skriver den 'sidbrytning' istället."
   ]
  },
  {
   "cell_type": "code",
   "execution_count": 13,
   "metadata": {},
   "outputs": [],
   "source": [
    "beskrivning = []\n",
    "\n",
    "for i in range(len(L1)):\n",
    "    for j in range(len(L1[i])):\n",
    "        a = len(beskrivning)\n",
    "        if bool(regex2.findall(L1[i][j])) == True:\n",
    "            beskrivning.append(L1[i][j])\n",
    "            break\n",
    "    if len(beskrivning) == a:\n",
    "        beskrivning.append('sidbrytning')\n",
    "\n",
    "\n",
    "    "
   ]
  },
  {
   "cell_type": "code",
   "execution_count": 14,
   "metadata": {},
   "outputs": [
    {
     "data": {
      "text/plain": [
       "['TYP AV INTERVJU ',\n",
       " 'INDIREKT INTERVJU ',\n",
       " 'INTERVJUSPRÅK ',\n",
       " 'sidbrytning',\n",
       " 'FÖDELSEÅR ']"
      ]
     },
     "execution_count": 14,
     "metadata": {},
     "output_type": "execute_result"
    }
   ],
   "source": [
    "beskrivning"
   ]
  },
  {
   "cell_type": "markdown",
   "metadata": {},
   "source": [
    "### 3.3 Enkättext  \n",
    "Det är mer komplicerat att hitta enkättexten. Den kommer alltid på tredje, fjärde eller femte plats beroende på hur många \"liknande variabler\" som listats i högra hörnet i kodboken. För att hantera detta skapar jag en regex som svarar på strängar som beskriver \"liknande variabler\". Sådana strängar undviks och de övriga läggs i en lista. Enkättexten kan även sträcka sig över flera rader i kodboken. I `L1` blir den därför olika strängar som måste sättas ihop igen. Efter \"sista\" enkättext-strängen börjar alltid kodlistorna. Eftersom dessa alltid börjar med siffror (oftast 1 men ibland även årtal som 1942) kan jag använda ytterligare et regex."
   ]
  },
  {
   "cell_type": "code",
   "execution_count": 17,
   "metadata": {},
   "outputs": [],
   "source": [
    "regex3 = re.compile(r'^NY|^jfr|^[XYZUVW]\\d|^\\s')\n",
    "\n",
    "regex4 = re.compile(r'^\\d')"
   ]
  },
  {
   "cell_type": "code",
   "execution_count": 18,
   "metadata": {},
   "outputs": [],
   "source": [
    "enkättext = []\n",
    "\n",
    "for i in range(len(L1)):\n",
    "    textdelar = []\n",
    "    for j in range(3, len(L1[i])):\n",
    "        if bool(regex4.findall(L1[i][j])) == True:\n",
    "            break\n",
    "        if bool(regex3.findall(L1[i][j])) == False:\n",
    "            textdelar.append(L1[i][j])\n",
    "    enkättext.append(''.join(textdelar))"
   ]
  },
  {
   "cell_type": "code",
   "execution_count": 19,
   "metadata": {},
   "outputs": [
    {
     "data": {
      "text/plain": [
       "['Typ av intervju. ',\n",
       " 'Anger huruvida intervju gjordes med intervjupersonen eller annan än intervjupersonen ',\n",
       " 'Anger huruvida intervjun genomfördes på svenska eller med hjälp av tolk. ',\n",
       " 'Intervjupersonens kön. ',\n",
       " 'Intervjupersonens födelseår. ']"
      ]
     },
     "execution_count": 19,
     "metadata": {},
     "output_type": "execute_result"
    }
   ],
   "source": [
    "enkättext"
   ]
  },
  {
   "cell_type": "markdown",
   "metadata": {},
   "source": [
    "Tyvärr verkar det som att vissa variabler saknar enkättext (t.ex. Z3). Dessa är förmodligen väldigt få, de är sanolikt bara vissa bakgrundsvariabler som saknar enkättext. I dessa fall läggs det en siffran från variabelns kodlista i `enkättext`. Detta går enkelt att åtgärna i efterhand genom att ersätta alla siffror med säg `NaN`."
   ]
  },
  {
   "cell_type": "markdown",
   "metadata": {},
   "source": [
    "## 4. Skapa tabellen  \n",
    "Här kommer all kod ovan samlad i en cell. Anledningen är att vissa sidor i kodboken saknar tabell helt. Detta testas i loopen som går igenom alla sidor i kodboken. Loopen skapar en lista som heter \"delar\". Den innehåller en dataframe för varje sida i kodboken."
   ]
  },
  {
   "cell_type": "code",
   "execution_count": 26,
   "metadata": {},
   "outputs": [
    {
     "name": "stdout",
     "output_type": "stream",
     "text": [
      "32\n",
      "33\n",
      "34\n",
      "35\n",
      "36\n",
      "37\n",
      "38\n",
      "39\n",
      "40\n",
      "41\n",
      "42\n",
      "43\n",
      "44\n",
      "45\n",
      "46\n",
      "47\n",
      "48\n",
      "49\n",
      "50\n",
      "51\n",
      "52\n",
      "53\n",
      "54\n",
      "55\n",
      "56\n",
      "57\n",
      "58\n",
      "59\n",
      "60\n",
      "61\n",
      "62\n",
      "63\n",
      "64\n",
      "65\n",
      "66\n",
      "67\n",
      "68\n",
      "69\n",
      "70\n",
      "71\n",
      "72\n",
      "73\n",
      "74\n",
      "75\n",
      "76\n",
      "77\n",
      "78\n",
      "79\n",
      "80\n",
      "81\n",
      "82\n",
      "83\n",
      "84\n",
      "85\n",
      "86\n",
      "87\n",
      "88\n",
      "89\n",
      "90\n",
      "91\n",
      "92\n",
      "93\n",
      "94\n",
      "95\n",
      "96\n",
      "97\n",
      "98\n",
      "99\n",
      "100\n",
      "101\n",
      "102\n",
      "103\n",
      "104\n",
      "105\n",
      "106\n",
      "107\n",
      "108\n",
      "109\n",
      "110\n",
      "111\n",
      "112\n",
      "113\n",
      "114\n",
      "115\n",
      "116\n",
      "117\n",
      "118\n",
      "119\n",
      "120\n",
      "121\n",
      "122\n",
      "123\n",
      "124\n",
      "125\n",
      "126\n",
      "127\n",
      "128\n",
      "129\n",
      "130\n",
      "131\n",
      "132\n",
      "133\n",
      "134\n",
      "135\n",
      "136\n",
      "137\n",
      "138\n",
      "139\n",
      "140\n",
      "141\n",
      "142\n",
      "143\n",
      "144\n",
      "145\n",
      "146\n",
      "147\n",
      "148\n",
      "149\n",
      "150\n",
      "151\n",
      "152\n",
      "153\n",
      "154\n",
      "155\n",
      "156\n",
      "157\n",
      "158\n",
      "159\n",
      "160\n",
      "161\n",
      "162\n",
      "163\n",
      "164\n",
      "165\n",
      "166\n",
      "167\n",
      "168\n",
      "169\n",
      "170\n",
      "171\n",
      "172\n",
      "173\n",
      "174\n",
      "175\n",
      "176\n",
      "177\n",
      "178\n",
      "179\n",
      "180\n",
      "181\n",
      "182\n",
      "183\n",
      "184\n",
      "185\n",
      "186\n",
      "187\n",
      "188\n",
      "189\n",
      "190\n",
      "191\n",
      "192\n",
      "193\n",
      "194\n",
      "195\n",
      "196\n",
      "197\n",
      "198\n",
      "199\n",
      "200\n",
      "201\n",
      "202\n",
      "203\n",
      "204\n",
      "205\n",
      "206\n",
      "207\n",
      "208\n",
      "209\n",
      "210\n",
      "211\n",
      "212\n",
      "213\n",
      "214\n",
      "215\n",
      "216\n",
      "217\n",
      "218\n",
      "219\n",
      "220\n",
      "221\n",
      "222\n",
      "223\n",
      "224\n",
      "225\n",
      "226\n",
      "227\n",
      "228\n",
      "229\n",
      "230\n",
      "231\n",
      "232\n",
      "233\n",
      "234\n",
      "235\n",
      "236\n",
      "237\n",
      "238\n",
      "239\n",
      "240\n",
      "241\n",
      "242\n",
      "243\n",
      "244\n",
      "245\n",
      "246\n",
      "247\n",
      "248\n",
      "249\n",
      "250\n",
      "251\n",
      "252\n",
      "253\n",
      "254\n",
      "255\n",
      "256\n",
      "257\n",
      "258\n",
      "259\n",
      "260\n",
      "261\n",
      "262\n",
      "263\n",
      "264\n",
      "265\n",
      "266\n",
      "267\n",
      "268\n",
      "269\n",
      "270\n",
      "271\n",
      "272\n",
      "273\n",
      "274\n",
      "275\n",
      "276\n",
      "277\n",
      "278\n",
      "279\n",
      "280\n",
      "281\n",
      "282\n",
      "283\n",
      "284\n",
      "285\n",
      "286\n",
      "287\n",
      "288\n",
      "289\n",
      "290\n",
      "291\n",
      "292\n",
      "293\n",
      "294\n",
      "295\n",
      "296\n",
      "297\n",
      "298\n",
      "299\n",
      "300\n",
      "301\n",
      "302\n",
      "303\n",
      "304\n",
      "305\n",
      "306\n",
      "307\n",
      "308\n",
      "309\n",
      "310\n",
      "311\n",
      "312\n",
      "313\n",
      "314\n",
      "315\n",
      "316\n",
      "317\n",
      "318\n",
      "319\n",
      "320\n",
      "321\n",
      "322\n",
      "323\n",
      "324\n",
      "325\n",
      "326\n",
      "327\n",
      "328\n",
      "329\n",
      "330\n",
      "331\n",
      "332\n",
      "333\n",
      "334\n",
      "335\n",
      "336\n",
      "337\n",
      "338\n",
      "339\n",
      "340\n",
      "341\n",
      "342\n",
      "343\n",
      "344\n",
      "345\n",
      "346\n",
      "347\n",
      "348\n",
      "349\n",
      "350\n",
      "351\n",
      "352\n",
      "353\n",
      "354\n",
      "355\n",
      "356\n"
     ]
    }
   ],
   "source": [
    "regex1 = re.compile(r'^Z\\d|^PZ\\d')\n",
    "\n",
    "regex2 = re.compile(r'[A-Z]{3}')\n",
    "\n",
    "regex3 = re.compile(r'^NY|^jfr|^[XYZUVW]\\d')\n",
    "\n",
    "regex4 = re.compile(r'^\\d')\n",
    "\n",
    "delar = []\n",
    "\n",
    "for i in range(32, 357):\n",
    "    # Läs in sidan i från LNU:s kodbok\n",
    "    tables = camelot.read_pdf('LNU{}.pdf'.format(i))\n",
    "    \n",
    "    print(i)\n",
    "    # Gör om \"tabellen\" på sidan till en DataFrame. Vissa sidor, t.ex. 36, har ingen tabell alls. Kolla därför att tabell finns.\n",
    "    if tables.n != 0:\n",
    "        df = tables[0].df\n",
    "\n",
    "        # Dela upp strängen i varje cell vid \"\\n\".\n",
    "        L1 = [df.loc[i][0].split('\\n') for i in df.index]\n",
    "    \n",
    "        # Skapa lista med namn (se exempel längre upp för förklaring av regex)\n",
    "        namn = []\n",
    "\n",
    "        for i in range(len(L1)):\n",
    "            for j in range(len(L1[i])):\n",
    "                a = len(namn)\n",
    "                if bool(regex1.findall(L1[i][j])) == True:\n",
    "                    namn.append(L1[i][j])\n",
    "                    break\n",
    "            if len(namn) == a:\n",
    "                namn.append('sidbrytning')\n",
    "        \n",
    "        \n",
    "        # Skapa listan med beskrivningar.         \n",
    "        beskrivning = []\n",
    "\n",
    "        for i in range(len(L1)):\n",
    "            for j in range(len(L1[i])):\n",
    "                a = len(beskrivning)\n",
    "                if bool(regex2.findall(L1[i][j])) == True:\n",
    "                    beskrivning.append(L1[i][j])\n",
    "                    break\n",
    "            if len(beskrivning) == a:\n",
    "                beskrivning.append('sidbrytning')\n",
    "        \n",
    "        # Skapa listan med enkättexter.\n",
    "        enkättext = []\n",
    "\n",
    "        for i in range(len(L1)):\n",
    "            textdelar = []\n",
    "            for j in range(3, len(L1[i])):\n",
    "                if bool(regex4.findall(L1[i][j])) == True:\n",
    "                    break\n",
    "                if bool(regex3.findall(L1[i][j])) == False:\n",
    "                    textdelar.append(L1[i][j])\n",
    "            enkättext.append(''.join(textdelar))\n",
    "        \n",
    "        # Skapa en dataframe av listorna namn, beskrivning och enkättext. \n",
    "        df = pd.DataFrame.from_dict({'Variabelnamn': namn, 'Beskrivning': beskrivning, 'Enkättext': enkättext})\n",
    "    \n",
    "        # Nu har hela sidan i blivit en dataframe och läggs i en lista som heter \"delar\".\n",
    "        delar.append(df)"
   ]
  },
  {
   "cell_type": "markdown",
   "metadata": {},
   "source": [
    "Såhär kan en \"del\" i `delar` se ut. Dessa måste nu slås samman till en stor dataframe."
   ]
  },
  {
   "cell_type": "code",
   "execution_count": 250,
   "metadata": {},
   "outputs": [
    {
     "data": {
      "text/html": [
       "<div>\n",
       "<style scoped>\n",
       "    .dataframe tbody tr th:only-of-type {\n",
       "        vertical-align: middle;\n",
       "    }\n",
       "\n",
       "    .dataframe tbody tr th {\n",
       "        vertical-align: top;\n",
       "    }\n",
       "\n",
       "    .dataframe thead th {\n",
       "        text-align: right;\n",
       "    }\n",
       "</style>\n",
       "<table border=\"1\" class=\"dataframe\">\n",
       "  <thead>\n",
       "    <tr style=\"text-align: right;\">\n",
       "      <th></th>\n",
       "      <th>Variabelnamn</th>\n",
       "      <th>Beskrivning</th>\n",
       "      <th>Enkättext</th>\n",
       "    </tr>\n",
       "  </thead>\n",
       "  <tbody>\n",
       "    <tr>\n",
       "      <th>0</th>\n",
       "      <td>sidbrytning</td>\n",
       "      <td>sidbrytning</td>\n",
       "      <td></td>\n",
       "    </tr>\n",
       "    <tr>\n",
       "      <th>1</th>\n",
       "      <td>Z597</td>\n",
       "      <td>ARBETSLÖS UNDER 2009</td>\n",
       "      <td>Sökte eller väntade du på arbete, var arbetslö...</td>\n",
       "    </tr>\n",
       "    <tr>\n",
       "      <th>2</th>\n",
       "      <td>Z598</td>\n",
       "      <td>ARBETSLÖSHETSVECKOR 2009</td>\n",
       "      <td>Antal veckor under 2009: arbetssökande/arbetsl...</td>\n",
       "    </tr>\n",
       "    <tr>\n",
       "      <th>3</th>\n",
       "      <td>Z599</td>\n",
       "      <td>FÖRRA VECKAN: HELTID</td>\n",
       "      <td>Var du anställd på heltid (inklusive semester,...</td>\n",
       "    </tr>\n",
       "  </tbody>\n",
       "</table>\n",
       "</div>"
      ],
      "text/plain": [
       "  Variabelnamn                Beskrivning  \\\n",
       "0  sidbrytning                sidbrytning   \n",
       "1        Z597       ARBETSLÖS UNDER 2009    \n",
       "2        Z598   ARBETSLÖSHETSVECKOR 2009    \n",
       "3        Z599       FÖRRA VECKAN: HELTID    \n",
       "\n",
       "                                           Enkättext  \n",
       "0                                                     \n",
       "1  Sökte eller väntade du på arbete, var arbetslö...  \n",
       "2  Antal veckor under 2009: arbetssökande/arbetsl...  \n",
       "3  Var du anställd på heltid (inklusive semester,...  "
      ]
     },
     "execution_count": 250,
     "metadata": {},
     "output_type": "execute_result"
    }
   ],
   "source": [
    "delar[189]"
   ]
  },
  {
   "cell_type": "markdown",
   "metadata": {},
   "source": [
    "Lägg alla DataFrames till en stor. Varje liten representerara en sida i kodboken."
   ]
  },
  {
   "cell_type": "code",
   "execution_count": 69,
   "metadata": {},
   "outputs": [],
   "source": [
    "LNU = pd.concat(delar)"
   ]
  },
  {
   "cell_type": "markdown",
   "metadata": {},
   "source": [
    "Ta bort de rader där variabelnamnet är 'sidbrytning'."
   ]
  },
  {
   "cell_type": "code",
   "execution_count": 70,
   "metadata": {},
   "outputs": [],
   "source": [
    "LNU = LNU[LNU.Variabelnamn != 'sidbrytning']"
   ]
  },
  {
   "cell_type": "markdown",
   "metadata": {},
   "source": [
    "Trots detta finns det två variabler med beskrivningen 'sidbrytning'. Förklaringen är att deras beskrivning är \"KÖN\". Mitt `regex4` fångar inte upp detta eftersom \"Ö\" är en svensk bokstsav. "
   ]
  },
  {
   "cell_type": "code",
   "execution_count": 71,
   "metadata": {},
   "outputs": [
    {
     "data": {
      "text/html": [
       "<div>\n",
       "<style scoped>\n",
       "    .dataframe tbody tr th:only-of-type {\n",
       "        vertical-align: middle;\n",
       "    }\n",
       "\n",
       "    .dataframe tbody tr th {\n",
       "        vertical-align: top;\n",
       "    }\n",
       "\n",
       "    .dataframe thead th {\n",
       "        text-align: right;\n",
       "    }\n",
       "</style>\n",
       "<table border=\"1\" class=\"dataframe\">\n",
       "  <thead>\n",
       "    <tr style=\"text-align: right;\">\n",
       "      <th></th>\n",
       "      <th>Variabelnamn</th>\n",
       "      <th>Beskrivning</th>\n",
       "      <th>Enkättext</th>\n",
       "    </tr>\n",
       "  </thead>\n",
       "  <tbody>\n",
       "    <tr>\n",
       "      <th>3</th>\n",
       "      <td>Z11</td>\n",
       "      <td>sidbrytning</td>\n",
       "      <td>Intervjupersonens kön.</td>\n",
       "    </tr>\n",
       "    <tr>\n",
       "      <th>2</th>\n",
       "      <td>PZ2</td>\n",
       "      <td>sidbrytning</td>\n",
       "      <td>Är du man eller kvinna?</td>\n",
       "    </tr>\n",
       "  </tbody>\n",
       "</table>\n",
       "</div>"
      ],
      "text/plain": [
       "  Variabelnamn  Beskrivning                 Enkättext\n",
       "3         Z11   sidbrytning   Intervjupersonens kön. \n",
       "2         PZ2   sidbrytning  Är du man eller kvinna? "
      ]
     },
     "execution_count": 71,
     "metadata": {},
     "output_type": "execute_result"
    }
   ],
   "source": [
    "LNU[LNU['Beskrivning'] == 'sidbrytning']"
   ]
  },
  {
   "cell_type": "markdown",
   "metadata": {},
   "source": [
    "Variabeln Z11 ska ha beskrivningen \"KÖN\" och PZ2 ska ha \"P-KÖN\"."
   ]
  },
  {
   "cell_type": "code",
   "execution_count": 77,
   "metadata": {},
   "outputs": [],
   "source": [
    "LNU.loc[LNU.Variabelnamn == 'Z11 ', ['Beskrivning']] = 'KÖN'\n",
    "\n",
    "LNU.loc[LNU.Variabelnamn == 'PZ2 ', ['Beskrivning']] = 'P-KÖN'"
   ]
  },
  {
   "cell_type": "markdown",
   "metadata": {},
   "source": [
    "Efter sammanslagningen är indexet i oordning. Skapa en ny kolumn med heltal och gör den till index."
   ]
  },
  {
   "cell_type": "code",
   "execution_count": 78,
   "metadata": {},
   "outputs": [],
   "source": [
    "LNU = LNU.reset_index()\n",
    "\n",
    "LNU.set_index('index', inplace = True)"
   ]
  },
  {
   "cell_type": "markdown",
   "metadata": {},
   "source": [
    "Lägg till en kolumn som säger vilken enkät variabeln kommer ifrån och fyll kolumnen med 'LNU'."
   ]
  },
  {
   "cell_type": "code",
   "execution_count": 79,
   "metadata": {},
   "outputs": [],
   "source": [
    "LNU['Enkät'] = 'LNU'"
   ]
  },
  {
   "cell_type": "markdown",
   "metadata": {},
   "source": [
    "Kolumnen med itemnr innehåller ingen information för LNU-variabler eftersom dessa skapas genom besöksintervju. Lägg därför `NaN` i hela kolumnen. Ändra slutligen ordning en på kolumnerna."
   ]
  },
  {
   "cell_type": "code",
   "execution_count": 80,
   "metadata": {},
   "outputs": [],
   "source": [
    "LNU['Itemnr'] = np.nan\n",
    "\n",
    "LNU = LNU[['Variabelnamn', 'Enkät', 'Beskrivning', 'Itemnr', 'Enkättext']]"
   ]
  },
  {
   "cell_type": "markdown",
   "metadata": {},
   "source": [
    "Strängarna i `LNU` innehåller whitespace lite överallt i början och slutet. Jag tar bort detta eftersom det kan vara förvirrande när man t.ex. vill hämta en viss variabel."
   ]
  },
  {
   "cell_type": "code",
   "execution_count": 86,
   "metadata": {},
   "outputs": [],
   "source": [
    "LNU['Variabelnamn'] = LNU['Variabelnamn'].str.strip()\n",
    "\n",
    "LNU['Beskrivning'] = LNU['Beskrivning'].str.strip()\n",
    "\n",
    "LNU['Enkättext'] = LNU['Enkättext'].str.strip()"
   ]
  },
  {
   "cell_type": "markdown",
   "metadata": {},
   "source": [
    "Allt verkar se bra ut."
   ]
  },
  {
   "cell_type": "code",
   "execution_count": 81,
   "metadata": {},
   "outputs": [
    {
     "data": {
      "text/html": [
       "<div>\n",
       "<style scoped>\n",
       "    .dataframe tbody tr th:only-of-type {\n",
       "        vertical-align: middle;\n",
       "    }\n",
       "\n",
       "    .dataframe tbody tr th {\n",
       "        vertical-align: top;\n",
       "    }\n",
       "\n",
       "    .dataframe thead th {\n",
       "        text-align: right;\n",
       "    }\n",
       "</style>\n",
       "<table border=\"1\" class=\"dataframe\">\n",
       "  <thead>\n",
       "    <tr style=\"text-align: right;\">\n",
       "      <th></th>\n",
       "      <th>Variabelnamn</th>\n",
       "      <th>Enkät</th>\n",
       "      <th>Beskrivning</th>\n",
       "      <th>Itemnr</th>\n",
       "      <th>Enkättext</th>\n",
       "    </tr>\n",
       "    <tr>\n",
       "      <th>index</th>\n",
       "      <th></th>\n",
       "      <th></th>\n",
       "      <th></th>\n",
       "      <th></th>\n",
       "      <th></th>\n",
       "    </tr>\n",
       "  </thead>\n",
       "  <tbody>\n",
       "    <tr>\n",
       "      <th>0</th>\n",
       "      <td>Z8</td>\n",
       "      <td>LNU</td>\n",
       "      <td>TYP AV INTERVJU</td>\n",
       "      <td>NaN</td>\n",
       "      <td>Typ av intervju.</td>\n",
       "    </tr>\n",
       "    <tr>\n",
       "      <th>1</th>\n",
       "      <td>Z9</td>\n",
       "      <td>LNU</td>\n",
       "      <td>INDIREKT INTERVJU</td>\n",
       "      <td>NaN</td>\n",
       "      <td>Anger huruvida intervju gjordes med intervjupe...</td>\n",
       "    </tr>\n",
       "    <tr>\n",
       "      <th>2</th>\n",
       "      <td>Z10</td>\n",
       "      <td>LNU</td>\n",
       "      <td>INTERVJUSPRÅK</td>\n",
       "      <td>NaN</td>\n",
       "      <td>Anger huruvida intervjun genomfördes på svensk...</td>\n",
       "    </tr>\n",
       "    <tr>\n",
       "      <th>3</th>\n",
       "      <td>Z11</td>\n",
       "      <td>LNU</td>\n",
       "      <td>KÖN</td>\n",
       "      <td>NaN</td>\n",
       "      <td>Intervjupersonens kön.</td>\n",
       "    </tr>\n",
       "    <tr>\n",
       "      <th>4</th>\n",
       "      <td>Z12</td>\n",
       "      <td>LNU</td>\n",
       "      <td>FÖDELSEÅR</td>\n",
       "      <td>NaN</td>\n",
       "      <td>Intervjupersonens födelseår.</td>\n",
       "    </tr>\n",
       "  </tbody>\n",
       "</table>\n",
       "</div>"
      ],
      "text/plain": [
       "      Variabelnamn Enkät         Beskrivning  Itemnr  \\\n",
       "index                                                  \n",
       "0              Z8    LNU    TYP AV INTERVJU      NaN   \n",
       "1              Z9    LNU  INDIREKT INTERVJU      NaN   \n",
       "2             Z10    LNU      INTERVJUSPRÅK      NaN   \n",
       "3             Z11    LNU                 KÖN     NaN   \n",
       "4             Z12    LNU          FÖDELSEÅR      NaN   \n",
       "\n",
       "                                               Enkättext  \n",
       "index                                                     \n",
       "0                                      Typ av intervju.   \n",
       "1      Anger huruvida intervju gjordes med intervjupe...  \n",
       "2      Anger huruvida intervjun genomfördes på svensk...  \n",
       "3                                Intervjupersonens kön.   \n",
       "4                         Intervjupersonens födelseår.    "
      ]
     },
     "execution_count": 81,
     "metadata": {},
     "output_type": "execute_result"
    }
   ],
   "source": [
    "LNU.head()"
   ]
  },
  {
   "cell_type": "markdown",
   "metadata": {},
   "source": [
    "## 5. Skapa .csv"
   ]
  },
  {
   "cell_type": "code",
   "execution_count": 32,
   "metadata": {},
   "outputs": [],
   "source": [
    "LNU.to_excel('test.xlsx')"
   ]
  }
 ],
 "metadata": {
  "kernelspec": {
   "display_name": "Python 3",
   "language": "python",
   "name": "python3"
  },
  "language_info": {
   "codemirror_mode": {
    "name": "ipython",
    "version": 3
   },
   "file_extension": ".py",
   "mimetype": "text/x-python",
   "name": "python",
   "nbconvert_exporter": "python",
   "pygments_lexer": "ipython3",
   "version": "3.7.3"
  }
 },
 "nbformat": 4,
 "nbformat_minor": 2
}

{
 "cells": [
  {
   "cell_type": "code",
   "execution_count": 1,
   "metadata": {},
   "outputs": [],
   "source": [
    "import camelot\n",
    "import pandas as pd\n",
    "import re\n",
    "import numpy as np"
   ]
  },
  {
   "cell_type": "code",
   "execution_count": 3,
   "metadata": {},
   "outputs": [
    {
     "name": "stdout",
     "output_type": "stream",
     "text": [
      "302\n",
      "303\n"
     ]
    }
   ],
   "source": [
    "regex1 = re.compile(r'^Z\\d|^PZ\\d')\n",
    "\n",
    "regex2 = re.compile(r'[A-Z]{3}')\n",
    "\n",
    "regex3 = re.compile(r'^NY|^jfr|^[XYZUVW]\\d')\n",
    "\n",
    "regex4 = re.compile(r'^\\d|^<')\n",
    "\n",
    "delar = []\n",
    "\n",
    "for i in range(302, 304):\n",
    "    # Läs in sidan i från LNU:s kodbok\n",
    "    tables = camelot.read_pdf('LNU{}.pdf'.format(i))\n",
    "    \n",
    "    print(i)\n",
    "    # Gör om \"tabellen\" på sidan till en DataFrame. Vissa sidor, t.ex. 36, har ingen tabell alls. Kolla därför att tabell finns.\n",
    "    if tables.n != 0:\n",
    "        df = tables[0].df\n",
    "\n",
    "        # Dela upp strängen i varje cell vid \"\\n\".\n",
    "        L1 = [df.loc[i][0].split('\\n') for i in df.index]\n",
    "    \n",
    "        # Skapa lista med namn (se exempel längre upp för förklaring av regex)\n",
    "        namn = []\n",
    "\n",
    "        for j in range(len(L1)):\n",
    "            for k in range(len(L1[j])):\n",
    "                a = len(namn)\n",
    "                if bool(regex1.findall(L1[j][k])) == True:\n",
    "                    namn.append(L1[j][k])\n",
    "                    break\n",
    "            if len(namn) == a:\n",
    "                namn.append('sidbrytning')\n",
    "        \n",
    "        \n",
    "        # Skapa listan med beskrivningar.         \n",
    "        beskrivning = []\n",
    "\n",
    "        for j in range(len(L1)):\n",
    "            for k in range(len(L1[j])):\n",
    "                a = len(beskrivning)\n",
    "                if bool(regex2.findall(L1[j][k])) == True:\n",
    "                    beskrivning.append(L1[j][k])\n",
    "                    break\n",
    "            if len(beskrivning) == a:\n",
    "                beskrivning.append('sidbrytning')\n",
    "        \n",
    "        # Skapa listan med enkättexter.\n",
    "        enkättext = []\n",
    "\n",
    "        for j in range(len(L1)):\n",
    "            textdelar = []\n",
    "            for k in range(3, len(L1[j])):\n",
    "                if bool(regex4.findall(L1[j][k])) == True:\n",
    "                    break\n",
    "                if bool(regex3.findall(L1[j][k])) == False:\n",
    "                    textdelar.append(L1[j][k])\n",
    "            enkättext.append(''.join(textdelar))\n",
    "        \n",
    "        # Skapa en dataframe av listorna namn, beskrivning och enkättext. \n",
    "        df = pd.DataFrame.from_dict({'Variabelnamn': namn, 'Beskrivning': beskrivning, 'Enkättext': enkättext})\n",
    "    \n",
    "        # Nu har hela sidan i blivit en dataframe och läggs i en lista som heter \"delar\".\n",
    "        delar.append(df)"
   ]
  },
  {
   "cell_type": "code",
   "execution_count": 4,
   "metadata": {},
   "outputs": [],
   "source": [
    "LNU = pd.concat(delar)"
   ]
  },
  {
   "cell_type": "code",
   "execution_count": 5,
   "metadata": {},
   "outputs": [
    {
     "data": {
      "text/html": [
       "<div>\n",
       "<style scoped>\n",
       "    .dataframe tbody tr th:only-of-type {\n",
       "        vertical-align: middle;\n",
       "    }\n",
       "\n",
       "    .dataframe tbody tr th {\n",
       "        vertical-align: top;\n",
       "    }\n",
       "\n",
       "    .dataframe thead th {\n",
       "        text-align: right;\n",
       "    }\n",
       "</style>\n",
       "<table border=\"1\" class=\"dataframe\">\n",
       "  <thead>\n",
       "    <tr style=\"text-align: right;\">\n",
       "      <th></th>\n",
       "      <th>Variabelnamn</th>\n",
       "      <th>Beskrivning</th>\n",
       "      <th>Enkättext</th>\n",
       "    </tr>\n",
       "  </thead>\n",
       "  <tbody>\n",
       "    <tr>\n",
       "      <th>0</th>\n",
       "      <td>sidbrytning</td>\n",
       "      <td>Vårdförbundet (SHSTF)</td>\n",
       "      <td></td>\n",
       "    </tr>\n",
       "    <tr>\n",
       "      <th>1</th>\n",
       "      <td>Z831</td>\n",
       "      <td>FACKLIG MÖTESAKTIVITET</td>\n",
       "      <td>Har du varit på något fackföreningsmöte under ...</td>\n",
       "    </tr>\n",
       "    <tr>\n",
       "      <th>2</th>\n",
       "      <td>Z832</td>\n",
       "      <td>FACKLIGA UPPDRAG</td>\n",
       "      <td>Har  du eller  har  du  haft  någon förtroende...</td>\n",
       "    </tr>\n",
       "  </tbody>\n",
       "</table>\n",
       "</div>"
      ],
      "text/plain": [
       "  Variabelnamn              Beskrivning  \\\n",
       "0  sidbrytning   Vårdförbundet (SHSTF)    \n",
       "1        Z831   FACKLIG MÖTESAKTIVITET    \n",
       "2        Z832         FACKLIGA UPPDRAG    \n",
       "\n",
       "                                           Enkättext  \n",
       "0                                                     \n",
       "1  Har du varit på något fackföreningsmöte under ...  \n",
       "2  Har  du eller  har  du  haft  någon förtroende...  "
      ]
     },
     "execution_count": 5,
     "metadata": {},
     "output_type": "execute_result"
    }
   ],
   "source": [
    "LNU"
   ]
  },
  {
   "cell_type": "code",
   "execution_count": 7,
   "metadata": {},
   "outputs": [
    {
     "data": {
      "text/html": [
       "<div>\n",
       "<style scoped>\n",
       "    .dataframe tbody tr th:only-of-type {\n",
       "        vertical-align: middle;\n",
       "    }\n",
       "\n",
       "    .dataframe tbody tr th {\n",
       "        vertical-align: top;\n",
       "    }\n",
       "\n",
       "    .dataframe thead th {\n",
       "        text-align: right;\n",
       "    }\n",
       "</style>\n",
       "<table border=\"1\" class=\"dataframe\">\n",
       "  <thead>\n",
       "    <tr style=\"text-align: right;\">\n",
       "      <th></th>\n",
       "      <th>Variabelnamn</th>\n",
       "      <th>Beskrivning</th>\n",
       "      <th>Enkättext</th>\n",
       "    </tr>\n",
       "  </thead>\n",
       "  <tbody>\n",
       "    <tr>\n",
       "      <th>0</th>\n",
       "      <td>sidbrytning</td>\n",
       "      <td>Vårdförbundet (SHSTF)</td>\n",
       "      <td></td>\n",
       "    </tr>\n",
       "    <tr>\n",
       "      <th>1</th>\n",
       "      <td>Z831</td>\n",
       "      <td>FACKLIG MÖTESAKTIVITET</td>\n",
       "      <td>Har du varit på något fackföreningsmöte under ...</td>\n",
       "    </tr>\n",
       "    <tr>\n",
       "      <th>2</th>\n",
       "      <td>Z832</td>\n",
       "      <td>FACKLIGA UPPDRAG</td>\n",
       "      <td>Har  du eller  har  du  haft  någon förtroende...</td>\n",
       "    </tr>\n",
       "  </tbody>\n",
       "</table>\n",
       "</div>"
      ],
      "text/plain": [
       "  Variabelnamn              Beskrivning  \\\n",
       "0  sidbrytning   Vårdförbundet (SHSTF)    \n",
       "1        Z831   FACKLIG MÖTESAKTIVITET    \n",
       "2        Z832         FACKLIGA UPPDRAG    \n",
       "\n",
       "                                           Enkättext  \n",
       "0                                                     \n",
       "1  Har du varit på något fackföreningsmöte under ...  \n",
       "2  Har  du eller  har  du  haft  någon förtroende...  "
      ]
     },
     "execution_count": 7,
     "metadata": {},
     "output_type": "execute_result"
    }
   ],
   "source": [
    "df"
   ]
  },
  {
   "cell_type": "code",
   "execution_count": 9,
   "metadata": {},
   "outputs": [
    {
     "data": {
      "text/plain": [
       "<TableList n=0>"
      ]
     },
     "execution_count": 9,
     "metadata": {},
     "output_type": "execute_result"
    }
   ],
   "source": [
    "tables = camelot.read_pdf('LNU302.pdf')"
   ]
  },
  {
   "cell_type": "code",
   "execution_count": 10,
   "metadata": {},
   "outputs": [
    {
     "data": {
      "text/plain": [
       "<TableList n=0>"
      ]
     },
     "execution_count": 10,
     "metadata": {},
     "output_type": "execute_result"
    }
   ],
   "source": [
    "tables"
   ]
  },
  {
   "cell_type": "code",
   "execution_count": 16,
   "metadata": {},
   "outputs": [
    {
     "data": {
      "text/html": [
       "<div>\n",
       "<style scoped>\n",
       "    .dataframe tbody tr th:only-of-type {\n",
       "        vertical-align: middle;\n",
       "    }\n",
       "\n",
       "    .dataframe tbody tr th {\n",
       "        vertical-align: top;\n",
       "    }\n",
       "\n",
       "    .dataframe thead th {\n",
       "        text-align: right;\n",
       "    }\n",
       "</style>\n",
       "<table border=\"1\" class=\"dataframe\">\n",
       "  <thead>\n",
       "    <tr style=\"text-align: right;\">\n",
       "      <th></th>\n",
       "      <th>A</th>\n",
       "      <th>B</th>\n",
       "      <th>C</th>\n",
       "    </tr>\n",
       "  </thead>\n",
       "  <tbody>\n",
       "    <tr>\n",
       "      <th>0</th>\n",
       "      <td>1</td>\n",
       "      <td>2</td>\n",
       "      <td>3</td>\n",
       "    </tr>\n",
       "    <tr>\n",
       "      <th>1</th>\n",
       "      <td>4</td>\n",
       "      <td>5</td>\n",
       "      <td>6</td>\n",
       "    </tr>\n",
       "  </tbody>\n",
       "</table>\n",
       "</div>"
      ],
      "text/plain": [
       "   A  B  C\n",
       "0  1  2  3\n",
       "1  4  5  6"
      ]
     },
     "execution_count": 16,
     "metadata": {},
     "output_type": "execute_result"
    }
   ],
   "source": [
    "df = pd.DataFrame([[1, 2, 3], [4, 5, 6]], columns=list('ABC'))\n",
    "df"
   ]
  },
  {
   "cell_type": "code",
   "execution_count": 27,
   "metadata": {},
   "outputs": [
    {
     "data": {
      "text/html": [
       "<div>\n",
       "<style scoped>\n",
       "    .dataframe tbody tr th:only-of-type {\n",
       "        vertical-align: middle;\n",
       "    }\n",
       "\n",
       "    .dataframe tbody tr th {\n",
       "        vertical-align: top;\n",
       "    }\n",
       "\n",
       "    .dataframe thead th {\n",
       "        text-align: right;\n",
       "    }\n",
       "</style>\n",
       "<table border=\"1\" class=\"dataframe\">\n",
       "  <thead>\n",
       "    <tr style=\"text-align: right;\">\n",
       "      <th></th>\n",
       "      <th>A</th>\n",
       "      <th>B</th>\n",
       "      <th>C</th>\n",
       "    </tr>\n",
       "  </thead>\n",
       "  <tbody>\n",
       "    <tr>\n",
       "      <th>0</th>\n",
       "      <td>1</td>\n",
       "      <td>2</td>\n",
       "      <td>3</td>\n",
       "    </tr>\n",
       "    <tr>\n",
       "      <th>1</th>\n",
       "      <td>4</td>\n",
       "      <td>5</td>\n",
       "      <td>6</td>\n",
       "    </tr>\n",
       "    <tr>\n",
       "      <th>hej</th>\n",
       "      <td>Z830</td>\n",
       "      <td>FACKFÖRBUND</td>\n",
       "      <td>Vilket förbund (eller liknande) tillhör du?</td>\n",
       "    </tr>\n",
       "  </tbody>\n",
       "</table>\n",
       "</div>"
      ],
      "text/plain": [
       "        A            B                                            C\n",
       "0       1            2                                            3\n",
       "1       4            5                                            6\n",
       "hej  Z830  FACKFÖRBUND  Vilket förbund (eller liknande) tillhör du?"
      ]
     },
     "execution_count": 27,
     "metadata": {},
     "output_type": "execute_result"
    }
   ],
   "source": [
    "row = pd.Series({'A': 'Z830', 'B': 'FACKFÖRBUND', 'C': 'Vilket förbund (eller liknande) tillhör du?'}, name = 'hej')\n",
    "df.append(row)"
   ]
  }
 ],
 "metadata": {
  "kernelspec": {
   "display_name": "Python 3",
   "language": "python",
   "name": "python3"
  },
  "language_info": {
   "codemirror_mode": {
    "name": "ipython",
    "version": 3
   },
   "file_extension": ".py",
   "mimetype": "text/x-python",
   "name": "python",
   "nbconvert_exporter": "python",
   "pygments_lexer": "ipython3",
   "version": "3.7.3"
  }
 },
 "nbformat": 4,
 "nbformat_minor": 4
}

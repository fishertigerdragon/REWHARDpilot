{
 "cells": [
  {
   "cell_type": "code",
   "execution_count": 2,
   "metadata": {},
   "outputs": [],
   "source": [
    "import pandas as pd\n",
    "import camelot\n",
    "import re\n",
    "import numpy as np"
   ]
  },
  {
   "cell_type": "code",
   "execution_count": 66,
   "metadata": {},
   "outputs": [
    {
     "name": "stdout",
     "output_type": "stream",
     "text": [
      "53\n"
     ]
    }
   ],
   "source": [
    "# reg1: sträng börjar med en siffra eller \"<\".\n",
    "reg1 = re.compile(r'^\\d|<')\n",
    "\n",
    "reg11 = re.compile(r'\\d.$')\n",
    "\n",
    "# reg2: sträng börjar med någonting annat än siffra.\n",
    "reg2 = re.compile(r'^\\D')\n",
    "\n",
    "# reg3: variabelnamn.\n",
    "reg3 = re.compile(r'^Z\\d|^PZ\\d')\n",
    "\n",
    "# reg4: sträng är en siffra med en minst en decimal.\n",
    "reg4 = re.compile(r'\\d,|\\d\\.')\n",
    "\n",
    "# reg5: sträng innehåller bokstäver.\n",
    "reg5 = re.compile(r'[a-zA-Z]')\n",
    "                  \n",
    "rutor = [df.loc[i][0].split('\\n') for i in df.index]\n",
    "\n",
    "delar = []\n",
    "\n",
    "for i in range(53, 54):\n",
    "    # Läs in sidan i från LNU:s kodbok\n",
    "    tables = camelot.read_pdf('LNU{}.pdf'.format(i))\n",
    "    \n",
    "    print(i)\n",
    "    # Gör om \"tabellen\" på sidan till en DataFrame. Vissa sidor, t.ex. 36, har ingen tabell alls. \n",
    "    # Kolla därför att tabell finns.\n",
    "    if tables.n == 0:\n",
    "        # Om tabell \"inte finns\" skapas en df med en rad som säger sidbrytning i alla kolumner.\n",
    "        A = pd.DataFrame(data = [['sidbrytning', 'sidbrytning', 'sidbrytning', 'sidbrytning']],\n",
    "                 columns = ['Kod', 'Svarstext', 'Frekvens', 'Variabel'])\n",
    "        # Denna df läggs sedan till i listan delar.\n",
    "        delar.append(A)\n",
    "    else:\n",
    "        df = tables[0].df\n",
    "        rutor = [df.loc[i][0].split('\\n') for i in df.index]\n",
    "        \n",
    "\n",
    "        # j är en ruta i kodboken.\n",
    "        for j in range(len(rutor)):\n",
    "            #print('j:' + str(j))\n",
    "\n",
    "            namn = []\n",
    "            koder = []\n",
    "            texter = []\n",
    "            frekvenser = []\n",
    "\n",
    "            # k är en sträng i en ruta.\n",
    "            for k in range(len(rutor[j])):\n",
    "                #print('k:' + str(k))\n",
    "\n",
    "                kod = rutor[j][k]\n",
    "\n",
    "                # När jag når 'Totalt ' (eller 'Total ') är kodlistan slut. Notera whitespace i slutet av strängen...\n",
    "                #if kod[:4] == 'Tota':\n",
    "                    #break  \n",
    "                # Vid sidbrytningar finns inget 'Totalt ' och därför hamnar k+2 utanför index range.\n",
    "                # Ifall variabeln saknar frekvenstabell och hamnar i sidbrytning (Z112) blir även k+1 out of range.\n",
    "                if (k == len(rutor[j]) - 2) or (len(rutor[j]) < 3):\n",
    "                    break\n",
    "\n",
    "                # Går jag förbi 'Totalt ' kommer jag få felmeddelande att k+2 ligger utanför index.\n",
    "                # Därför kollar jag detta innan text och frekvens skapas.\n",
    "                text = rutor[j][k+1]\n",
    "                frekvens = rutor[j][k+2]\n",
    "\n",
    "                # Dessa villkor blir så långa. Det blir lättare att läsa förkortningar.\n",
    "                # t1: sträng börjar med siffra eller \"<\"\n",
    "                t1 = bool(reg1.findall(kod))\n",
    "                \n",
    "                # t11: sträng slutar med en siffra (typ... se reg11 för detaljer)\n",
    "                t11 = bool(reg11.findall(kod))\n",
    "\n",
    "                # t2: Strängen innehåller en siffra som följs av en punkt.\n",
    "                t2 = bool(reg4.findall(rutor[j][k]))\n",
    "\n",
    "                # t2: Nästa sträng innehåller en siffra som följs av en punkt.\n",
    "                t3 = bool(reg4.findall(rutor[j][k+1]))\n",
    "                \n",
    "                t4 = (rutor[j][k-1][:4] == 'Tota') or (rutor[j][k-2][:4] == 'Tota')\n",
    "                \n",
    "                t5 = (rutor[j][k+1] == ' ') & (rutor[j][k+2] == ' ')\n",
    "                \n",
    "                # Den första sträng som fångas av reg3 måste vara variabelnamnet.\n",
    "                if (bool(reg3.findall(kod)) == True) & (len(namn) == 0):\n",
    "                    namn.append(kod)\n",
    "\n",
    "                # En kod måste inledas med en siffra (eller \"<\") (t1) samt samt sluta med en siffra (t11).\n",
    "                if (t1 == True) & (t11 == True):\n",
    "                    # Ifall detta är den första koden\n",
    "                    if (len(koder) == 0):\n",
    "                        #print('första koden')\n",
    "\n",
    "                        # Ifall text börjar med whitespace eller bokstav så lägg till i listorna som vanligt.\n",
    "                        if bool(reg2.findall(text)) == True:\n",
    "                            koder.append(kod)\n",
    "                            texter.append(text)\n",
    "                            frekvenser.append(frekvens)\n",
    "                        # Ifall text börjar med siffra är det snarare en frekvens.\n",
    "                        else:\n",
    "                            koder.append(kod)\n",
    "                            texter.append(' ')\n",
    "                            frekvenser.append(text)\n",
    "\n",
    "                    # Ifall listan med koder inte är tom\n",
    "                    # Kolla så att k-1 (ifall k är en frekvens) och k-2 (ifall k är en andel) varken är text eller whitespace.\n",
    "                    elif (t2 == False) & (t3 == False) & (t4 == False) & (t5 == False): \n",
    "                        #print('inte första koden')\n",
    "                        if bool(reg2.findall(text)) == True:\n",
    "                            koder.append(kod)\n",
    "                            texter.append(text)\n",
    "                            frekvenser.append(frekvens)\n",
    "                        else:\n",
    "                            koder.append(kod)\n",
    "                            texter.append(' ')\n",
    "                            frekvenser.append(text)\n",
    "                            \n",
    "            # Variabler som Z18 har ingen frekvenstabell. Lägg då in 'saknas' i dataframen\n",
    "            if len(koder) == 0:\n",
    "                koder.append('saknas')\n",
    "                texter.append('saknas')\n",
    "                frekvenser.append('saknas')    \n",
    "                    \n",
    "                #print('koder: ' + str(koder), 'texter: ' + str(texter), 'frekvenser: ' + str(frekvenser), sep = '\\n')\n",
    "            if len(namn) == 0:\n",
    "                namn.append('sidbrytning')\n",
    "            #print('namn: ' + namn[0])\n",
    "\n",
    "            # Innan nästa ruta i kodboken (j) så skapas en df med koder, texter och frekvenser som kolumner.\n",
    "            A = pd.DataFrame.from_dict({'Kod': koder, 'Svarstext': texter, 'Frekvens': frekvenser})\n",
    "\n",
    "            # Lägg till en kolumn för variabelnamn.\n",
    "            A['Variabel'] = namn[0]\n",
    "\n",
    "            #Lägg till den färdiga frekvenstabellen i listan \"delar\".\n",
    "            delar.append(A)\n",
    "    "
   ]
  },
  {
   "cell_type": "markdown",
   "metadata": {},
   "source": [
    "Här är en dataframe när loopen *inte* breakat vid total. Istället har en stannat när strängarna i rutan tar slut. Här tas alltså det mesta med."
   ]
  },
  {
   "cell_type": "code",
   "execution_count": 67,
   "metadata": {},
   "outputs": [],
   "source": [
    "LNU2 = pd.concat(delar)"
   ]
  },
  {
   "cell_type": "code",
   "execution_count": 69,
   "metadata": {},
   "outputs": [
    {
     "data": {
      "text/html": [
       "<div>\n",
       "<style scoped>\n",
       "    .dataframe tbody tr th:only-of-type {\n",
       "        vertical-align: middle;\n",
       "    }\n",
       "\n",
       "    .dataframe tbody tr th {\n",
       "        vertical-align: top;\n",
       "    }\n",
       "\n",
       "    .dataframe thead th {\n",
       "        text-align: right;\n",
       "    }\n",
       "</style>\n",
       "<table border=\"1\" class=\"dataframe\">\n",
       "  <thead>\n",
       "    <tr style=\"text-align: right;\">\n",
       "      <th></th>\n",
       "      <th>Kod</th>\n",
       "      <th>Svarstext</th>\n",
       "      <th>Frekvens</th>\n",
       "      <th>Variabel</th>\n",
       "    </tr>\n",
       "  </thead>\n",
       "  <tbody>\n",
       "    <tr>\n",
       "      <th>0</th>\n",
       "      <td>1</td>\n",
       "      <td>Mycket bra</td>\n",
       "      <td>105</td>\n",
       "      <td>Z56</td>\n",
       "    </tr>\n",
       "    <tr>\n",
       "      <th>1</th>\n",
       "      <td>2</td>\n",
       "      <td>Ganska bra</td>\n",
       "      <td>185</td>\n",
       "      <td>Z56</td>\n",
       "    </tr>\n",
       "    <tr>\n",
       "      <th>2</th>\n",
       "      <td>3</td>\n",
       "      <td>Ganska dåligt</td>\n",
       "      <td>26</td>\n",
       "      <td>Z56</td>\n",
       "    </tr>\n",
       "    <tr>\n",
       "      <th>3</th>\n",
       "      <td>4</td>\n",
       "      <td>Mycket dåligt</td>\n",
       "      <td>9</td>\n",
       "      <td>Z56</td>\n",
       "    </tr>\n",
       "    <tr>\n",
       "      <th>4</th>\n",
       "      <td>9</td>\n",
       "      <td>Svar saknas</td>\n",
       "      <td>2</td>\n",
       "      <td>Z56</td>\n",
       "    </tr>\n",
       "    <tr>\n",
       "      <th>0</th>\n",
       "      <td>1</td>\n",
       "      <td>Kristendom</td>\n",
       "      <td>1225</td>\n",
       "      <td>Z57</td>\n",
       "    </tr>\n",
       "    <tr>\n",
       "      <th>1</th>\n",
       "      <td>2</td>\n",
       "      <td>Islam</td>\n",
       "      <td>205</td>\n",
       "      <td>Z57</td>\n",
       "    </tr>\n",
       "    <tr>\n",
       "      <th>2</th>\n",
       "      <td>3</td>\n",
       "      <td>Judendom</td>\n",
       "      <td>3</td>\n",
       "      <td>Z57</td>\n",
       "    </tr>\n",
       "    <tr>\n",
       "      <th>3</th>\n",
       "      <td>4</td>\n",
       "      <td>Hinduism</td>\n",
       "      <td>5</td>\n",
       "      <td>Z57</td>\n",
       "    </tr>\n",
       "    <tr>\n",
       "      <th>4</th>\n",
       "      <td>5</td>\n",
       "      <td>Buddhism</td>\n",
       "      <td>24</td>\n",
       "      <td>Z57</td>\n",
       "    </tr>\n",
       "    <tr>\n",
       "      <th>5</th>\n",
       "      <td>6</td>\n",
       "      <td>Annan</td>\n",
       "      <td>9</td>\n",
       "      <td>Z57</td>\n",
       "    </tr>\n",
       "    <tr>\n",
       "      <th>6</th>\n",
       "      <td>7</td>\n",
       "      <td>Ingen religionstillhörighet</td>\n",
       "      <td>249</td>\n",
       "      <td>Z57</td>\n",
       "    </tr>\n",
       "    <tr>\n",
       "      <th>7</th>\n",
       "      <td>98</td>\n",
       "      <td>Vet ej</td>\n",
       "      <td>51</td>\n",
       "      <td>Z57</td>\n",
       "    </tr>\n",
       "    <tr>\n",
       "      <th>8</th>\n",
       "      <td>51</td>\n",
       "      <td></td>\n",
       "      <td>99</td>\n",
       "      <td>Z57</td>\n",
       "    </tr>\n",
       "    <tr>\n",
       "      <th>9</th>\n",
       "      <td>99</td>\n",
       "      <td>Vill ej uppge</td>\n",
       "      <td>2</td>\n",
       "      <td>Z57</td>\n",
       "    </tr>\n",
       "    <tr>\n",
       "      <th>0</th>\n",
       "      <td>1</td>\n",
       "      <td>Kristendom</td>\n",
       "      <td>1290</td>\n",
       "      <td>Z58</td>\n",
       "    </tr>\n",
       "    <tr>\n",
       "      <th>1</th>\n",
       "      <td>2</td>\n",
       "      <td>Islam</td>\n",
       "      <td>198</td>\n",
       "      <td>Z58</td>\n",
       "    </tr>\n",
       "    <tr>\n",
       "      <th>2</th>\n",
       "      <td>3</td>\n",
       "      <td>Judendom</td>\n",
       "      <td>1</td>\n",
       "      <td>Z58</td>\n",
       "    </tr>\n",
       "    <tr>\n",
       "      <th>3</th>\n",
       "      <td>4</td>\n",
       "      <td>Hinduism</td>\n",
       "      <td>4</td>\n",
       "      <td>Z58</td>\n",
       "    </tr>\n",
       "    <tr>\n",
       "      <th>4</th>\n",
       "      <td>5</td>\n",
       "      <td>Buddhism</td>\n",
       "      <td>24</td>\n",
       "      <td>Z58</td>\n",
       "    </tr>\n",
       "  </tbody>\n",
       "</table>\n",
       "</div>"
      ],
      "text/plain": [
       "   Kod                     Svarstext Frekvens Variabel\n",
       "0   1                    Mycket bra      105      Z56 \n",
       "1   2                    Ganska bra      185      Z56 \n",
       "2   3                 Ganska dåligt       26      Z56 \n",
       "3   4                 Mycket dåligt        9      Z56 \n",
       "4   9                   Svar saknas        2      Z56 \n",
       "0   1                    Kristendom     1225      Z57 \n",
       "1   2                         Islam      205      Z57 \n",
       "2   3                      Judendom        3      Z57 \n",
       "3   4                      Hinduism        5      Z57 \n",
       "4   5                      Buddhism       24      Z57 \n",
       "5   6                         Annan        9      Z57 \n",
       "6   7   Ingen religionstillhörighet      249      Z57 \n",
       "7  98                        Vet ej       51      Z57 \n",
       "8  51                                     99      Z57 \n",
       "9  99                 Vill ej uppge        2      Z57 \n",
       "0   1                    Kristendom     1290      Z58 \n",
       "1   2                         Islam      198      Z58 \n",
       "2   3                      Judendom        1      Z58 \n",
       "3   4                      Hinduism        4      Z58 \n",
       "4   5                      Buddhism       24      Z58 "
      ]
     },
     "execution_count": 69,
     "metadata": {},
     "output_type": "execute_result"
    }
   ],
   "source": [
    "LNU2.head(20)"
   ]
  },
  {
   "cell_type": "markdown",
   "metadata": {},
   "source": [
    "**TEST**"
   ]
  },
  {
   "cell_type": "code",
   "execution_count": 14,
   "metadata": {},
   "outputs": [
    {
     "data": {
      "text/plain": [
       "['Z56 ',\n",
       " ' ',\n",
       " 'FÖRMÅGA ATT TALA SVENSKA ',\n",
       " 'X58 ',\n",
       " 'Hur bedömer du din förmåga att tala svenska? Tycker du att du talar svenska mycket bra, ganska bra, ganska ',\n",
       " 'dåligt eller mycket dåligt? Frågan ej ställd till panelen, men uppgifter från tidigare LNU har i förekommande ',\n",
       " 'fall lagts till. ',\n",
       " 'Tabellen gäller för Z2 EQ 5 och Z53 EQ 22 OR 23. ',\n",
       " '1 ',\n",
       " 'Mycket bra ',\n",
       " '105 ',\n",
       " '32,3 ',\n",
       " '2 ',\n",
       " 'Ganska bra ',\n",
       " '185 ',\n",
       " '56,9 ',\n",
       " '3 ',\n",
       " 'Ganska dåligt ',\n",
       " '26 ',\n",
       " '8,0 ',\n",
       " '4 ',\n",
       " 'Mycket dåligt ',\n",
       " '9 ',\n",
       " '2,8 ',\n",
       " ' ',\n",
       " 'Totalt ',\n",
       " '325 ',\n",
       " '100 ',\n",
       " '9 ',\n",
       " 'Svar saknas ',\n",
       " '2 ',\n",
       " ' ',\n",
       " ' ',\n",
       " 'Frågan ej ställd ',\n",
       " '4088 ',\n",
       " ' ',\n",
       " ' ',\n",
       " ' ',\n",
       " '4415']"
      ]
     },
     "execution_count": 14,
     "metadata": {},
     "output_type": "execute_result"
    }
   ],
   "source": [
    "tables = camelot.read_pdf('LNU53.pdf')\n",
    "\n",
    "if tables.n == 0:\n",
    "    print('INGEN tabell hehe')\n",
    "else:\n",
    "    df = tables[0].df\n",
    "    \n",
    "rutor = [df.loc[i][0].split('\\n') for i in df.index]\n",
    "\n",
    "rutor[0]"
   ]
  },
  {
   "cell_type": "code",
   "execution_count": 61,
   "metadata": {},
   "outputs": [],
   "source": [
    "j = 0\n",
    "k = 27"
   ]
  },
  {
   "cell_type": "code",
   "execution_count": 62,
   "metadata": {},
   "outputs": [
    {
     "data": {
      "text/plain": [
       "'100 '"
      ]
     },
     "execution_count": 62,
     "metadata": {},
     "output_type": "execute_result"
    }
   ],
   "source": [
    "rutor[j][k]"
   ]
  },
  {
   "cell_type": "code",
   "execution_count": 63,
   "metadata": {},
   "outputs": [],
   "source": [
    "t4 = (rutor[j][k-1][:4] == 'Tota') or (rutor[j][k-2][:4] == 'Tota')\n",
    "                \n",
    "t5 = (rutor[j][k+1] == ' ') & (rutor[j][k+2] == ' ')"
   ]
  },
  {
   "cell_type": "code",
   "execution_count": 64,
   "metadata": {},
   "outputs": [
    {
     "data": {
      "text/plain": [
       "True"
      ]
     },
     "execution_count": 64,
     "metadata": {},
     "output_type": "execute_result"
    }
   ],
   "source": [
    "t4"
   ]
  },
  {
   "cell_type": "code",
   "execution_count": 65,
   "metadata": {},
   "outputs": [
    {
     "data": {
      "text/plain": [
       "False"
      ]
     },
     "execution_count": 65,
     "metadata": {},
     "output_type": "execute_result"
    }
   ],
   "source": [
    "t5"
   ]
  },
  {
   "cell_type": "code",
   "execution_count": 41,
   "metadata": {},
   "outputs": [
    {
     "data": {
      "text/plain": [
       "False"
      ]
     },
     "execution_count": 41,
     "metadata": {},
     "output_type": "execute_result"
    }
   ],
   "source": [
    "rutor[0][-5] == ' '"
   ]
  },
  {
   "cell_type": "code",
   "execution_count": 42,
   "metadata": {},
   "outputs": [
    {
     "data": {
      "text/plain": [
       "39"
      ]
     },
     "execution_count": 42,
     "metadata": {},
     "output_type": "execute_result"
    }
   ],
   "source": [
    "len(rutor[0])"
   ]
  },
  {
   "cell_type": "code",
   "execution_count": 45,
   "metadata": {},
   "outputs": [
    {
     "data": {
      "text/plain": [
       "'9 '"
      ]
     },
     "execution_count": 45,
     "metadata": {},
     "output_type": "execute_result"
    }
   ],
   "source": [
    "rutor[0][28]"
   ]
  },
  {
   "cell_type": "code",
   "execution_count": 33,
   "metadata": {},
   "outputs": [],
   "source": [
    "a = (rutor[0][-1] == ' ') or (rutor[0][-5] == ' ')"
   ]
  },
  {
   "cell_type": "code",
   "execution_count": 34,
   "metadata": {},
   "outputs": [
    {
     "data": {
      "text/plain": [
       "False"
      ]
     },
     "execution_count": 34,
     "metadata": {},
     "output_type": "execute_result"
    }
   ],
   "source": [
    "a == True"
   ]
  },
  {
   "cell_type": "code",
   "execution_count": 19,
   "metadata": {},
   "outputs": [
    {
     "data": {
      "text/plain": [
       "['Z57 ',\n",
       " ' ',\n",
       " 'RELIGIONSTILLHÖRIGHET – FADER ',\n",
       " 'jfr X59 ',\n",
       " 'Vilken religionstillhörighet har/hade din far? Frågan ej ställd till panelen, men uppgifter från tidigare LNU har i ',\n",
       " 'förekommande fall lagts till. ',\n",
       " '1 ',\n",
       " 'Kristendom ',\n",
       " '1225 ',\n",
       " '71,2 ',\n",
       " '2 ',\n",
       " 'Islam ',\n",
       " '205 ',\n",
       " '11,9 ',\n",
       " '3 ',\n",
       " 'Judendom ',\n",
       " '3 ',\n",
       " '0,2 ',\n",
       " '4 ',\n",
       " 'Hinduism ',\n",
       " '5 ',\n",
       " '0,3 ',\n",
       " '5 ',\n",
       " 'Buddhism ',\n",
       " '24 ',\n",
       " '1,4 ',\n",
       " '6 ',\n",
       " 'Annan ',\n",
       " '9 ',\n",
       " '0,5 ',\n",
       " '7 ',\n",
       " 'Ingen religionstillhörighet ',\n",
       " '249 ',\n",
       " '14,5 ',\n",
       " ' ',\n",
       " 'Totalt ',\n",
       " '1720 ',\n",
       " '100 ',\n",
       " '98 ',\n",
       " 'Vet ej ',\n",
       " '51 ',\n",
       " ' ',\n",
       " '99 ',\n",
       " 'Vill ej uppge ',\n",
       " '2 ',\n",
       " ' ',\n",
       " ' ',\n",
       " 'Frågan ej ställd ',\n",
       " '2642 ',\n",
       " ' ',\n",
       " ' ',\n",
       " ' ',\n",
       " '4415']"
      ]
     },
     "execution_count": 19,
     "metadata": {},
     "output_type": "execute_result"
    }
   ],
   "source": [
    "rutor[1]"
   ]
  },
  {
   "cell_type": "markdown",
   "metadata": {},
   "source": [
    "* Variabeln Z17 har inte \"svar saknas\" utan \"ej kodningsbar\".  \n",
    "* Z22 har \"Svar saknas\". Strängen föregås av en siffra (99, men ibland 9898 eller dyl.). Den efterföljs av en annan siffra som visar frekvensen.  \n",
    "* Z24 har en \"Ej aktuellt\" efter svar saknas. Kolla särskilt hur denna variabel läses in av camelot.  \n",
    "* Z38 har även \"vet ej\" efter \"totalt\" men innan \"svar saknas\".  \n",
    "* Z50 har \"okänd\" efter \"total\".  \n",
    "***  \n",
    "Problemet verkar vara att villkoren t2 och t3 är för svaga. De släpper fram för mycket.  \n",
    "1. För att undanta de två siffror följer efter \"total\" borde ett villkor som säger: ifall k-1 elelr k-2 är lika med total --> undanta  \n",
    "2. För att undanta resterande oönskade siffror efter total borde ett villkor som säger: ifall k+1 och k+2 är whitespace --> undanta  \n",
    "***  \n",
    "Detta verkar funka!! Måste dock finjustera villkoret något. Variabeln Z57 får med en oönskad rad i sn frekvenstabell. Borde inte vara så svårt att kringå."
   ]
  }
 ],
 "metadata": {
  "kernelspec": {
   "display_name": "Python 3",
   "language": "python",
   "name": "python3"
  },
  "language_info": {
   "codemirror_mode": {
    "name": "ipython",
    "version": 3
   },
   "file_extension": ".py",
   "mimetype": "text/x-python",
   "name": "python",
   "nbconvert_exporter": "python",
   "pygments_lexer": "ipython3",
   "version": "3.7.3"
  }
 },
 "nbformat": 4,
 "nbformat_minor": 4
}

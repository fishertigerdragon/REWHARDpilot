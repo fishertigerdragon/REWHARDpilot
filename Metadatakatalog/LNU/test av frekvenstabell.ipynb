{
 "cells": [
  {
   "cell_type": "code",
   "execution_count": 1,
   "metadata": {},
   "outputs": [],
   "source": [
    "import pandas as pd\n",
    "import camelot\n",
    "import re\n",
    "import numpy as np"
   ]
  },
  {
   "cell_type": "code",
   "execution_count": 2,
   "metadata": {},
   "outputs": [
    {
     "name": "stdout",
     "output_type": "stream",
     "text": [
      "32\n"
     ]
    }
   ],
   "source": [
    "# reg1: sträng börjar med en siffra eller \"<\" eller \">\".\n",
    "reg1 = re.compile(r'^\\d|<|>')\n",
    "\n",
    "reg11 = re.compile(r'\\d.$')\n",
    "\n",
    "# reg2: sträng börjar med någonting annat än siffra.\n",
    "reg2 = re.compile(r'^\\D')\n",
    "\n",
    "# reg3: variabelnamn.\n",
    "reg3 = re.compile(r'^Z\\d|^PZ\\d')\n",
    "\n",
    "# reg4: sträng är en siffra med en minst en decimal.\n",
    "reg4 = re.compile(r'\\d,|\\d\\.')\n",
    "\n",
    "# reg5: sträng innehåller bokstäver.\n",
    "reg5 = re.compile(r'[a-zA-Z]')\n",
    "\n",
    "konstigasidor = []\n",
    "\n",
    "delar = []\n",
    "\n",
    "for i in range(32, 33):\n",
    "    # Läs in sidan i från LNU:s kodbok\n",
    "    tables = camelot.read_pdf('LNU{}.pdf'.format(i))\n",
    "    \n",
    "    print(i)\n",
    "    # Gör om \"tabellen\" på sidan till en DataFrame. Vissa sidor, t.ex. 36, har ingen tabell alls. \n",
    "    # Kolla därför att tabell finns.\n",
    "    if tables.n == 0:\n",
    "        # Gör det enkelt att hitta sidorna som inte lästs in av camelot\n",
    "        konstigasidor.append(i)\n",
    "        \n",
    "        # Om tabell \"inte finns\" skapas en df med en rad som säger sidbrytning i alla kolumner.\n",
    "        A = pd.DataFrame(data = [['sidbrytning', 'sidbrytning', 'sidbrytning', 'sidbrytning']],\n",
    "                 columns = ['Kod', 'Svarstext', 'Frekvens', 'Variabel'])\n",
    "        # Denna df läggs sedan till i listan delar.\n",
    "        delar.append(A)\n",
    "    else:\n",
    "        df = tables[0].df\n",
    "        rutor = [df.loc[i][0].split('\\n') for i in df.index]\n",
    "        \n",
    "\n",
    "        # j är en ruta i kodboken.\n",
    "        for j in range(len(rutor)):\n",
    "            # print('j:' + str(j))\n",
    "\n",
    "            namn = []\n",
    "            koder = []\n",
    "            texter = []\n",
    "            frekvenser = []\n",
    "\n",
    "            # k är en sträng i en ruta.\n",
    "            for k in range(len(rutor[j])):\n",
    "                # print('k:' + str(k))\n",
    "\n",
    "                kod = rutor[j][k]\n",
    "\n",
    "                # Ifall variabeln saknar frekvenstabell eller hamnar i sidbrytning (Z112) är antalet k väldigt litet\n",
    "                # och k+1 och k+2 riskerar att hamna utanföre \"index range\". Andra variabler (Z14) har flera extra blanka\n",
    "                # k i slutet pga en förklarande text som kommer längst ner i rutan. I sådana fall blir siffror som egentligen\n",
    "                # inte är koder till koder Breaka därför närhelst k är tre steg från slutet. \n",
    "                if (k > len(rutor[j]) - 3):\n",
    "                    break\n",
    "\n",
    "                text = rutor[j][k+1]\n",
    "                frekvens = rutor[j][k+2]\n",
    "\n",
    "                # Dessa villkor blir så långa. Det blir lättare att läsa förkortningar.\n",
    "                # t1: sträng börjar med siffra eller \"<\"\n",
    "                t1 = bool(reg1.findall(kod))\n",
    "                \n",
    "                # t11: sträng slutar med en siffra (typ... se reg11 för detaljer)\n",
    "                t11 = bool(reg11.findall(kod))\n",
    "\n",
    "                # t2: Strängen innehåller en siffra som följs av en punkt.\n",
    "                t2 = bool(reg4.findall(rutor[j][k]))\n",
    "\n",
    "                # t2: Nästa sträng innehåller en siffra som följs av en punkt.\n",
    "                t3 = bool(reg4.findall(rutor[j][k+1]))\n",
    "                \n",
    "                # t4: k-1 innehåller bokstäver eller k-2 innehåller bokstäver\n",
    "                t4 = bool(reg5.findall(rutor[j][k-1])) or bool(reg5.findall(rutor[j][k-2]))\n",
    "                                \n",
    "                # t5: text (k+1) innehåller bokstäver eller text börjar med någonting annat än en siffra\n",
    "                t5 = (bool(reg5.findall(text)) == True) or (bool(reg2.findall(text)) == True)\n",
    "                \n",
    "                # Den första sträng som fångas av reg3 måste vara variabelnamnet.\n",
    "                if (bool(reg3.findall(kod)) == True) & (len(namn) == 0):\n",
    "                    namn.append(kod)\n",
    "\n",
    "                # En kod måste inledas med en siffra (eller \"<\" eller \">\") (t1) samt samt sluta med en siffra (t11).\n",
    "                if (t1 == True) & (t11 == True):\n",
    "                    # Ifall detta är den första koden\n",
    "                    if (len(koder) == 0):\n",
    "                        #print('första koden')\n",
    "\n",
    "                        # t5: Ifall text (k+1) innehåller bokstav eller text börjar med någonting annat än en siffra\n",
    "                        if t5 == True:\n",
    "                            koder.append(kod)\n",
    "                            texter.append(text)\n",
    "                            frekvenser.append(frekvens)\n",
    "                        # Ifall text börjar med siffra är det snarare en frekvens.\n",
    "                        else:\n",
    "                            koder.append(kod)\n",
    "                            texter.append(' ')\n",
    "                            frekvenser.append(text)\n",
    "\n",
    "                    # Ifall listan med koder inte är tom\n",
    "                    # KOLLA DOK HÄR\n",
    "\n",
    "                    elif (t4 == False) & (t2 == False) & (t3 == False):\n",
    "                        #print('inte första koden')\n",
    "                        if bool(reg2.findall(text)) == True:\n",
    "                            koder.append(kod)\n",
    "                            texter.append(text)\n",
    "                            frekvenser.append(frekvens)\n",
    "                        else:\n",
    "                            koder.append(kod)\n",
    "                            texter.append(' ')\n",
    "                            frekvenser.append(text)\n",
    "                            \n",
    "            # Variabler som Z18 har ingen frekvenstabell. Lägg då in 'saknas' i dataframen\n",
    "            if len(koder) == 0:\n",
    "                koder.append('saknas')\n",
    "                texter.append('saknas')\n",
    "                frekvenser.append('saknas')    \n",
    "                    \n",
    "                #print('koder: ' + str(koder), 'texter: ' + str(texter), 'frekvenser: ' + str(frekvenser), sep = '\\n')\n",
    "            if len(namn) == 0:\n",
    "                namn.append('sidbrytning')\n",
    "            #print('namn: ' + namn[0])\n",
    "\n",
    "            # Innan nästa ruta i kodboken (j) så skapas en df med koder, texter och frekvenser som kolumner.\n",
    "            A = pd.DataFrame.from_dict({'Kod': koder, 'Svarstext': texter, 'Frekvens': frekvenser})\n",
    "\n",
    "            # Lägg till en kolumn för variabelnamn.\n",
    "            A['Variabel'] = namn[0]\n",
    "\n",
    "            #Lägg till den färdiga frekvenstabellen i listan \"delar\".\n",
    "            delar.append(A)\n",
    "    "
   ]
  },
  {
   "cell_type": "markdown",
   "metadata": {},
   "source": [
    "Här är en dataframe när loopen *inte* breakat vid total. Istället har en stannat när strängarna i rutan tar slut. Här tas alltså det mesta med."
   ]
  },
  {
   "cell_type": "code",
   "execution_count": 3,
   "metadata": {},
   "outputs": [],
   "source": [
    "LNU2 = pd.concat(delar)"
   ]
  },
  {
   "cell_type": "code",
   "execution_count": 4,
   "metadata": {},
   "outputs": [
    {
     "data": {
      "text/html": [
       "<div>\n",
       "<style scoped>\n",
       "    .dataframe tbody tr th:only-of-type {\n",
       "        vertical-align: middle;\n",
       "    }\n",
       "\n",
       "    .dataframe tbody tr th {\n",
       "        vertical-align: top;\n",
       "    }\n",
       "\n",
       "    .dataframe thead th {\n",
       "        text-align: right;\n",
       "    }\n",
       "</style>\n",
       "<table border=\"1\" class=\"dataframe\">\n",
       "  <thead>\n",
       "    <tr style=\"text-align: right;\">\n",
       "      <th></th>\n",
       "      <th>Kod</th>\n",
       "      <th>Svarstext</th>\n",
       "      <th>Frekvens</th>\n",
       "      <th>Variabel</th>\n",
       "    </tr>\n",
       "  </thead>\n",
       "  <tbody>\n",
       "    <tr>\n",
       "      <th>0</th>\n",
       "      <td>1</td>\n",
       "      <td>Deltog 2000</td>\n",
       "      <td>3038</td>\n",
       "      <td>Z2</td>\n",
       "    </tr>\n",
       "    <tr>\n",
       "      <th>1</th>\n",
       "      <td>2</td>\n",
       "      <td>Deltog 2000 (bodde hemma)</td>\n",
       "      <td>119</td>\n",
       "      <td>Z2</td>\n",
       "    </tr>\n",
       "    <tr>\n",
       "      <th>2</th>\n",
       "      <td>3</td>\n",
       "      <td>Deltog 1991 men inte senare</td>\n",
       "      <td>190</td>\n",
       "      <td>Z2</td>\n",
       "    </tr>\n",
       "    <tr>\n",
       "      <th>3</th>\n",
       "      <td>4</td>\n",
       "      <td>Deltog 1981 eller tidigare men inte senare</td>\n",
       "      <td>48</td>\n",
       "      <td>Z2</td>\n",
       "    </tr>\n",
       "    <tr>\n",
       "      <th>4</th>\n",
       "      <td>5</td>\n",
       "      <td>Aldrig deltagit</td>\n",
       "      <td>1020</td>\n",
       "      <td>Z2</td>\n",
       "    </tr>\n",
       "    <tr>\n",
       "      <th>0</th>\n",
       "      <td>2</td>\n",
       "      <td>Nej</td>\n",
       "      <td>4415</td>\n",
       "      <td>Z3</td>\n",
       "    </tr>\n",
       "    <tr>\n",
       "      <th>0</th>\n",
       "      <td>saknas</td>\n",
       "      <td>saknas</td>\n",
       "      <td>saknas</td>\n",
       "      <td>Z4</td>\n",
       "    </tr>\n",
       "    <tr>\n",
       "      <th>0</th>\n",
       "      <td>100426</td>\n",
       "      <td></td>\n",
       "      <td>1</td>\n",
       "      <td>Z5</td>\n",
       "    </tr>\n",
       "    <tr>\n",
       "      <th>1</th>\n",
       "      <td>1</td>\n",
       "      <td></td>\n",
       "      <td>110620</td>\n",
       "      <td>Z5</td>\n",
       "    </tr>\n",
       "    <tr>\n",
       "      <th>2</th>\n",
       "      <td>110620</td>\n",
       "      <td></td>\n",
       "      <td>1</td>\n",
       "      <td>Z5</td>\n",
       "    </tr>\n",
       "    <tr>\n",
       "      <th>3</th>\n",
       "      <td>1</td>\n",
       "      <td></td>\n",
       "      <td></td>\n",
       "      <td>Z5</td>\n",
       "    </tr>\n",
       "    <tr>\n",
       "      <th>0</th>\n",
       "      <td>0610</td>\n",
       "      <td></td>\n",
       "      <td>1</td>\n",
       "      <td>Z6</td>\n",
       "    </tr>\n",
       "    <tr>\n",
       "      <th>1</th>\n",
       "      <td>1</td>\n",
       "      <td></td>\n",
       "      <td>2319</td>\n",
       "      <td>Z6</td>\n",
       "    </tr>\n",
       "    <tr>\n",
       "      <th>2</th>\n",
       "      <td>2319</td>\n",
       "      <td></td>\n",
       "      <td>1</td>\n",
       "      <td>Z6</td>\n",
       "    </tr>\n",
       "    <tr>\n",
       "      <th>3</th>\n",
       "      <td>1</td>\n",
       "      <td></td>\n",
       "      <td></td>\n",
       "      <td>Z6</td>\n",
       "    </tr>\n",
       "    <tr>\n",
       "      <th>0</th>\n",
       "      <td>1033</td>\n",
       "      <td></td>\n",
       "      <td>1</td>\n",
       "      <td>Z7</td>\n",
       "    </tr>\n",
       "    <tr>\n",
       "      <th>1</th>\n",
       "      <td>1</td>\n",
       "      <td></td>\n",
       "      <td>2245</td>\n",
       "      <td>Z7</td>\n",
       "    </tr>\n",
       "    <tr>\n",
       "      <th>2</th>\n",
       "      <td>2245</td>\n",
       "      <td></td>\n",
       "      <td>1</td>\n",
       "      <td>Z7</td>\n",
       "    </tr>\n",
       "    <tr>\n",
       "      <th>3</th>\n",
       "      <td>1</td>\n",
       "      <td></td>\n",
       "      <td></td>\n",
       "      <td>Z7</td>\n",
       "    </tr>\n",
       "    <tr>\n",
       "      <th>4</th>\n",
       "      <td>9999</td>\n",
       "      <td>Svar saknas</td>\n",
       "      <td>9</td>\n",
       "      <td>Z7</td>\n",
       "    </tr>\n",
       "  </tbody>\n",
       "</table>\n",
       "</div>"
      ],
      "text/plain": [
       "       Kod                                    Svarstext Frekvens Variabel\n",
       "0       1                                  Deltog 2000     3038       Z2 \n",
       "1       2                    Deltog 2000 (bodde hemma)      119       Z2 \n",
       "2       3                  Deltog 1991 men inte senare      190       Z2 \n",
       "3       4   Deltog 1981 eller tidigare men inte senare       48       Z2 \n",
       "4       5                              Aldrig deltagit     1020       Z2 \n",
       "0       2                                          Nej     4415       Z3 \n",
       "0   saknas                                       saknas   saknas      Z4 \n",
       "0  100426                                                     1       Z5 \n",
       "1       1                                                110620       Z5 \n",
       "2  110620                                                     1       Z5 \n",
       "3       1                                                             Z5 \n",
       "0    0610                                                     1       Z6 \n",
       "1       1                                                  2319       Z6 \n",
       "2    2319                                                     1       Z6 \n",
       "3       1                                                             Z6 \n",
       "0    1033                                                     1       Z7 \n",
       "1       1                                                  2245       Z7 \n",
       "2    2245                                                     1       Z7 \n",
       "3       1                                                             Z7 \n",
       "4    9999                                  Svar saknas        9       Z7 "
      ]
     },
     "execution_count": 4,
     "metadata": {},
     "output_type": "execute_result"
    }
   ],
   "source": [
    "LNU2.head(50)"
   ]
  },
  {
   "cell_type": "markdown",
   "metadata": {},
   "source": [
    "**TEST**"
   ]
  },
  {
   "cell_type": "code",
   "execution_count": 5,
   "metadata": {},
   "outputs": [],
   "source": [
    "tables = camelot.read_pdf('LNU32.pdf')\n",
    "\n",
    "if tables.n == 0:\n",
    "    print('INGEN tabell hehe')\n",
    "else:\n",
    "    df = tables[0].df\n",
    "    \n",
    "rutor = [df.loc[i][0].split('\\n') for i in df.index]"
   ]
  },
  {
   "cell_type": "code",
   "execution_count": 10,
   "metadata": {},
   "outputs": [
    {
     "data": {
      "text/plain": [
       "['Z5 ',\n",
       " 'INTERVJUDATUM – MÅN, DAG ',\n",
       " 'X5, Y4, U4, jfr ',\n",
       " 'V3, jfr W552 ',\n",
       " 'Datum – år, månad och dag – då intervjun genomfördes. Endast lägsta och högsta värde redovisas. ',\n",
       " '100426 ',\n",
       " ' ',\n",
       " '1 ',\n",
       " ' ',\n",
       " '110620 ',\n",
       " ' ',\n",
       " '1 ',\n",
       " ' ',\n",
       " ' ',\n",
       " 'Totalt ',\n",
       " '4415 ',\n",
       " '100']"
      ]
     },
     "execution_count": 10,
     "metadata": {},
     "output_type": "execute_result"
    }
   ],
   "source": [
    "rutor[3]"
   ]
  },
  {
   "cell_type": "code",
   "execution_count": 134,
   "metadata": {},
   "outputs": [
    {
     "data": {
      "text/plain": [
       "69"
      ]
     },
     "execution_count": 134,
     "metadata": {},
     "output_type": "execute_result"
    }
   ],
   "source": [
    "len(rutor[1])"
   ]
  },
  {
   "cell_type": "code",
   "execution_count": 137,
   "metadata": {},
   "outputs": [],
   "source": [
    "j = 1\n",
    "k = 46"
   ]
  },
  {
   "cell_type": "code",
   "execution_count": 138,
   "metadata": {},
   "outputs": [
    {
     "data": {
      "text/plain": [
       "'>5000 '"
      ]
     },
     "execution_count": 138,
     "metadata": {},
     "output_type": "execute_result"
    }
   ],
   "source": [
    "rutor[j][k]"
   ]
  },
  {
   "cell_type": "code",
   "execution_count": 148,
   "metadata": {},
   "outputs": [],
   "source": [
    "reg1 = re.compile(r'^\\d|>')"
   ]
  },
  {
   "cell_type": "code",
   "execution_count": 143,
   "metadata": {},
   "outputs": [],
   "source": [
    "# Dessa villkor blir så långa. Det blir lättare att läsa förkortningar.\n",
    "# t1: sträng börjar med siffra eller \"<\"\n",
    "t1 = bool(reg1.findall(kod))\n",
    "                \n",
    "# t11: sträng slutar med en siffra (typ... se reg11 för detaljer)\n",
    "t11 = bool(reg11.findall(kod))\n",
    "\n",
    "# t2: Strängen innehåller en siffra som följs av en punkt.\n",
    "t2 = bool(reg4.findall(rutor[j][k]))\n",
    "\n",
    "# t2: Nästa sträng innehåller en siffra som följs av en punkt.\n",
    "t3 = bool(reg4.findall(rutor[j][k+1]))\n",
    "                \n",
    "# t4: k-1 innehåller bokstäver eller k-2 innehåller bokstäver\n",
    "t4 = bool(reg5.findall(rutor[j][k-1])) or bool(reg5.findall(rutor[j][k-2]))\n",
    "                                \n",
    "# t5: både k+1 och k+2 är whitespace\n",
    "t5 = (bool(reg5.findall(text)) == True) or (bool(reg2.findall(text)) == True)"
   ]
  },
  {
   "cell_type": "code",
   "execution_count": 144,
   "metadata": {},
   "outputs": [
    {
     "data": {
      "text/plain": [
       "True"
      ]
     },
     "execution_count": 144,
     "metadata": {},
     "output_type": "execute_result"
    }
   ],
   "source": [
    "(t4 == False) & (t2 == False) & (t3 == False)"
   ]
  },
  {
   "cell_type": "code",
   "execution_count": 149,
   "metadata": {},
   "outputs": [
    {
     "data": {
      "text/plain": [
       "True"
      ]
     },
     "execution_count": 149,
     "metadata": {},
     "output_type": "execute_result"
    }
   ],
   "source": [
    "bool(reg1.findall(rutor[1][46]))"
   ]
  },
  {
   "cell_type": "code",
   "execution_count": 86,
   "metadata": {},
   "outputs": [
    {
     "data": {
      "text/plain": [
       "True"
      ]
     },
     "execution_count": 86,
     "metadata": {},
     "output_type": "execute_result"
    }
   ],
   "source": [
    "k == len(rutor[0])-2"
   ]
  },
  {
   "cell_type": "code",
   "execution_count": 78,
   "metadata": {},
   "outputs": [
    {
     "ename": "IndexError",
     "evalue": "list index out of range",
     "output_type": "error",
     "traceback": [
      "\u001b[1;31m---------------------------------------------------------------------------\u001b[0m",
      "\u001b[1;31mIndexError\u001b[0m                                Traceback (most recent call last)",
      "\u001b[1;32m<ipython-input-78-756a997c62b4>\u001b[0m in \u001b[0;36m<module>\u001b[1;34m\u001b[0m\n\u001b[1;32m----> 1\u001b[1;33m \u001b[0mrutor\u001b[0m\u001b[1;33m[\u001b[0m\u001b[1;36m0\u001b[0m\u001b[1;33m]\u001b[0m\u001b[1;33m[\u001b[0m\u001b[1;36m60\u001b[0m\u001b[1;33m]\u001b[0m\u001b[1;33m\u001b[0m\u001b[1;33m\u001b[0m\u001b[0m\n\u001b[0m",
      "\u001b[1;31mIndexError\u001b[0m: list index out of range"
     ]
    }
   ],
   "source": [
    "rutor[0][60]"
   ]
  },
  {
   "cell_type": "code",
   "execution_count": 28,
   "metadata": {},
   "outputs": [],
   "source": [
    "j = 1\n",
    "k = 10"
   ]
  },
  {
   "cell_type": "code",
   "execution_count": 29,
   "metadata": {},
   "outputs": [
    {
     "data": {
      "text/plain": [
       "'2 '"
      ]
     },
     "execution_count": 29,
     "metadata": {},
     "output_type": "execute_result"
    }
   ],
   "source": [
    "rutor[j][k]"
   ]
  },
  {
   "cell_type": "code",
   "execution_count": 30,
   "metadata": {},
   "outputs": [],
   "source": [
    "t4 = bool(reg5.findall(rutor[j][k-1])) or bool(reg5.findall(rutor[j][k-2]))\n",
    "                \n",
    "t5 = (rutor[j][k+1] == ' ') & (rutor[j][k+2] == ' ')"
   ]
  },
  {
   "cell_type": "code",
   "execution_count": 31,
   "metadata": {},
   "outputs": [
    {
     "data": {
      "text/plain": [
       "False"
      ]
     },
     "execution_count": 31,
     "metadata": {},
     "output_type": "execute_result"
    }
   ],
   "source": [
    "t4"
   ]
  },
  {
   "cell_type": "code",
   "execution_count": 20,
   "metadata": {},
   "outputs": [
    {
     "data": {
      "text/plain": [
       "True"
      ]
     },
     "execution_count": 20,
     "metadata": {},
     "output_type": "execute_result"
    }
   ],
   "source": [
    "bool(reg5.findall(rutor[j][k-1])) or bool(reg5.findall(rutor[j][k-2]))"
   ]
  },
  {
   "cell_type": "code",
   "execution_count": 18,
   "metadata": {},
   "outputs": [
    {
     "data": {
      "text/plain": [
       "False"
      ]
     },
     "execution_count": 18,
     "metadata": {},
     "output_type": "execute_result"
    }
   ],
   "source": [
    "bool(reg5.findall(rutor[j][k-2]))"
   ]
  },
  {
   "cell_type": "code",
   "execution_count": 19,
   "metadata": {},
   "outputs": [
    {
     "data": {
      "text/plain": [
       "True"
      ]
     },
     "execution_count": 19,
     "metadata": {},
     "output_type": "execute_result"
    }
   ],
   "source": [
    "True or False"
   ]
  },
  {
   "cell_type": "markdown",
   "metadata": {},
   "source": [
    " \n",
    " \n",
    "* Z50 har \"okänd\" efter \"total\".  \n",
    "***  \n",
    "Problemet verkar vara att villkoren t2 och t3 är för svaga. De släpper fram för mycket.  \n",
    "1. För att undanta de två siffror följer efter \"total\" borde ett villkor som säger: ifall k-1 elelr k-2 är lika med total --> undanta  \n",
    "2. För att undanta resterande oönskade siffror efter total borde ett villkor som säger: ifall k+1 och k+2 är whitespace --> undanta  \n",
    "***  \n",
    "\n",
    "\n",
    "Ibland avslutas en ruta med en sträng som är en fotnot. I dessa falla har jag inte lyckas undvika att den sista siffran läggs till som kod. Lyckligtvis är denna siffra alltid 4415 (antalet i kohorten?) och därför är det enkelt att i efterhand välja ut alla rader vars kod är just 4415 och ta bort dem.\n",
    "\n",
    "Z24 läses in fel av camelot. Det blir en förskjutning av koderna. Alternativ 1 har blivit alternativ 2 osv. Korrigera detta i efterhand genom att se vilka koder som är orimligt stora i kod-kolumnen."
   ]
  }
 ],
 "metadata": {
  "kernelspec": {
   "display_name": "Python 3",
   "language": "python",
   "name": "python3"
  },
  "language_info": {
   "codemirror_mode": {
    "name": "ipython",
    "version": 3
   },
   "file_extension": ".py",
   "mimetype": "text/x-python",
   "name": "python",
   "nbconvert_exporter": "python",
   "pygments_lexer": "ipython3",
   "version": "3.7.3"
  }
 },
 "nbformat": 4,
 "nbformat_minor": 4
}

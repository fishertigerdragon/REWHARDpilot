{
 "cells": [
  {
   "cell_type": "code",
   "execution_count": 3,
   "metadata": {},
   "outputs": [],
   "source": [
    "import re"
   ]
  },
  {
   "cell_type": "code",
   "execution_count": 1,
   "metadata": {},
   "outputs": [],
   "source": [
    "s1 = 'Z5 \\nINTERVJUDATUM – MÅN, DAG \\nX5, Y4, U4, jfr \\nV3, jfr W552 \\nDatum – år, månad och dag – då intervjun genomfördes. Endast lägsta och högsta värde redovisas. \\n100426 \\n \\n1 \\n \\n110620 \\n \\n1 \\n \\n \\nTotalt \\n4415 \\n100'\n",
    "s2 = 'Z2 \\nPANELKOD \\njfr X2 \\nIntervjupersonens deltagandestatus vid tidigare omgångar av Levnadsnivåundersökningen. \\n1 \\nDeltog 2000 \\n3038 \\n68,8 \\n2 \\nDeltog 2000 (bodde hemma) \\n119 \\n2,7 \\n3 \\nDeltog 1991 men inte senare \\n190 \\n4,3 \\n4 \\nDeltog 1981 eller tidigare men inte senare \\n48 \\n1,1 \\n5 \\nAldrig deltagit \\n1020 \\n23,1 \\n \\nTotalt \\n4415 \\n100'"
   ]
  },
  {
   "cell_type": "code",
   "execution_count": 10,
   "metadata": {},
   "outputs": [
    {
     "data": {
      "text/plain": [
       "['Z5 ',\n",
       " 'INTERVJUDATUM – MÅN, DAG ',\n",
       " 'X5, Y4, U4, jfr ',\n",
       " 'V3, jfr W552 ',\n",
       " 'Datum – år, månad och dag – då intervjun genomfördes. Endast lägsta och högsta värde redovisas. ',\n",
       " '100426 ',\n",
       " ' ',\n",
       " '1 ',\n",
       " ' ',\n",
       " '110620 ',\n",
       " ' ',\n",
       " '1 ',\n",
       " ' ',\n",
       " ' ',\n",
       " 'Totalt ',\n",
       " '4415 ',\n",
       " '100']"
      ]
     },
     "execution_count": 10,
     "metadata": {},
     "output_type": "execute_result"
    }
   ],
   "source": [
    "s1.split('\\n')"
   ]
  },
  {
   "cell_type": "markdown",
   "metadata": {},
   "source": [
    "1. En ut av [ZXYUVW] och åtminstone en siffra, eller\n",
    "2. NY, eller  \n",
    "3. jfr\n"
   ]
  },
  {
   "cell_type": "code",
   "execution_count": 5,
   "metadata": {},
   "outputs": [],
   "source": [
    "regex = re.compile(r'^NY|^jfr|^[XYZUVW]\\d')"
   ]
  },
  {
   "cell_type": "code",
   "execution_count": 13,
   "metadata": {},
   "outputs": [
    {
     "data": {
      "text/plain": [
       "False"
      ]
     },
     "execution_count": 13,
     "metadata": {},
     "output_type": "execute_result"
    }
   ],
   "source": [
    "bool(regex.findall('Datum – år, månad och dag – då intervjun genomfördes. Endast lägsta och högsta värde redovisas. '))"
   ]
  },
  {
   "cell_type": "code",
   "execution_count": 8,
   "metadata": {},
   "outputs": [
    {
     "data": {
      "text/plain": [
       "['X5']"
      ]
     },
     "execution_count": 8,
     "metadata": {},
     "output_type": "execute_result"
    }
   ],
   "source": [
    "regex.findall('X5, Y4, U4, jfr ')"
   ]
  },
  {
   "cell_type": "code",
   "execution_count": 11,
   "metadata": {},
   "outputs": [
    {
     "data": {
      "text/plain": [
       "True"
      ]
     },
     "execution_count": 11,
     "metadata": {},
     "output_type": "execute_result"
    }
   ],
   "source": [
    "bool(regex.findall('X5, Y4, U4, jfr '))"
   ]
  },
  {
   "cell_type": "code",
   "execution_count": null,
   "metadata": {},
   "outputs": [],
   "source": [
    "for i in [2,3,4]:\n",
    "    "
   ]
  }
 ],
 "metadata": {
  "kernelspec": {
   "display_name": "Python 3",
   "language": "python",
   "name": "python3"
  },
  "language_info": {
   "codemirror_mode": {
    "name": "ipython",
    "version": 3
   },
   "file_extension": ".py",
   "mimetype": "text/x-python",
   "name": "python",
   "nbconvert_exporter": "python",
   "pygments_lexer": "ipython3",
   "version": "3.7.3"
  }
 },
 "nbformat": 4,
 "nbformat_minor": 4
}

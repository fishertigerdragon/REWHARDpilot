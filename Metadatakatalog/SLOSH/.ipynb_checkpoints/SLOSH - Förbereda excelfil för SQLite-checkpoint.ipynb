{
 "cells": [
  {
   "cell_type": "markdown",
   "metadata": {},
   "source": [
    "# <span style=\"color:lightcoral; font-family:freestyle script; font-size:4em\">SLOSH till relationsdatabas</span> <br><span style=\"color:black; font-family:freestyle script; font-size:3em\">Förbereda färdig metadata för SQLite</span>\n",
    "***"
   ]
  },
  {
   "cell_type": "markdown",
   "metadata": {},
   "source": [
    "# Innehållsförteckning  \n",
    "1. [Introduktion](#1)   \n",
    "2. [Tabeller](#2)  \n",
    "    2.1 [Variabler](#2.1)  \n",
    "    2.2 [Frekvenstabell](#2.2)  \n",
    "    2.3 [Enkättexter](#2.3)  \n",
    "    2.4 [Kodlistor](#2.4)  \n",
    "    2.5 [Svarstexter](#2.5)  \n",
    "    2.6 [Kodlistor_stor](#2.6)\n",
    "3. [Exportera csv-filer](#3)\n",
    "\n",
    "***"
   ]
  },
  {
   "cell_type": "markdown",
   "metadata": {},
   "source": [
    "# <a id = \"1\">1. Introduktion</a>  \n",
    "I vad som följer kommer kursiv stil endast användas för att benämna *tabeller*. Fetstil kommer endast användas för att benämna **kolumner**, och värden i en kolumn kommer att vara i stil med (t.ex.) `SLOSHW08`, `Missing`, `142`. Även datatyper (t.ex. `str` eller `float64`) och pythonobjekt (t.ex. listor) kommer att ha denna formatering. Den metadata som redan är dokumenterad enligt Vetenskapsrådets riktlinjer ligger i excelfilen *metadata*. Några av tabellerna i relationsdatabsen innehåller kolumner som inte finns i denna fil. Dessa kolumner skapas allt eftersom. Därefter kommer följande tabeller att skapas:  \n",
    "\n",
    "|Variabler|Enkättexter|Kodlistor|Svarstexter|Kodlistor_stor|  \n",
    "|:---:|---|---|---|---|\n",
    "|Variabel|Enkättext|Kodlista|Svarstext|K_id|  \n",
    "|Enkät|Källa|From|From|Kodlista|  \n",
    "|Beskrivning|-|Tom|Tom|Kod|  \n",
    "|Itemnr|-|-|-|Svarstext|  \n",
    "|Enkättext|-|-|-|-|  \n",
    "|Kodlista|-|-|-|-|  \n",
    "|Dubbelkodning|-|-|-|-|\n",
    "  \n",
    "  \n",
    "Relationsdatabasen kommmer att innehålla ytterligare fem tabeller. Dessa är *Frekvenstabell*, *Begrepp*, *Begrepp_stor*, *Tidsserie* samt *Tidsserie_stor*. För tillfället finns ingen data till dessa tabeller i *metadata* och därför kommer de inte skapas här. Det finns dock data för *Frekvenstabell* men den är inte tillförlitlig och går snabbt att återskapa från SLOSH-datafilen.  "
   ]
  },
  {
   "cell_type": "code",
   "execution_count": 1,
   "metadata": {},
   "outputs": [],
   "source": [
    "import numpy as np\n",
    "import pandas as pd"
   ]
  },
  {
   "cell_type": "code",
   "execution_count": 2,
   "metadata": {},
   "outputs": [],
   "source": [
    "df = pd.read_excel('Metadata.xlsx')"
   ]
  },
  {
   "cell_type": "markdown",
   "metadata": {},
   "source": [
    "För att ta fram *Kodlista_stor* används `missing` i **text**. I *metadata* stavas `Missing` ibland med \"M\" och ibland med \"m\"(`missing`). Python läser detta som olika `str`, därför ersätts liten bokstav med stor."
   ]
  },
  {
   "cell_type": "code",
   "execution_count": 3,
   "metadata": {},
   "outputs": [],
   "source": [
    "df.replace('missing', 'Missing', inplace = True)"
   ]
  },
  {
   "cell_type": "markdown",
   "metadata": {},
   "source": [
    "Senare kommer metoden `groupby.min()` användas för att välja du exempelvis kodlistor och svarstexter för vilka **Tom**-värdet är lägsta möjliga. Det förekommer `NaN` i **Text** vilket tyvärr inte betraktas som en kategori av `groupby.min()`. Därför ersätt detta värde med `-` i **Text**."
   ]
  },
  {
   "cell_type": "code",
   "execution_count": 4,
   "metadata": {},
   "outputs": [],
   "source": [
    "df.fillna({'Text': '-'}, inplace = True)"
   ]
  },
  {
   "cell_type": "markdown",
   "metadata": {},
   "source": [
    "För närvarande är kodlistorna strängar med \"pedagogiska\" namn som uppkommit under dokumentationsprocessen. Det vore enklare ifall dessa namn ersattes av heltal. Anledningen är att framgent, när resten av SLOSH ska dokumenteras, blir arbetsflödet mindre komplicerat ifall kodlistorna representeras av heltal."
   ]
  },
  {
   "cell_type": "code",
   "execution_count": 5,
   "metadata": {},
   "outputs": [],
   "source": [
    "# Unika kodlistor\n",
    "unikod = list(df.Kodlista.unique())\n",
    "\n",
    "# Ett heltal för varhe kodlista\n",
    "siffror = range(len(unikod))\n",
    "\n",
    "# En dictionary som parar ihop varje kodlista med en siffra\n",
    "dict = {unikod[i]:siffror[i] +1 for i in siffror}\n",
    "\n",
    "# dict används för att ersätta kodlistorna med siffror\n",
    "df.Kodlista.replace(dict, inplace = True)"
   ]
  },
  {
   "cell_type": "code",
   "execution_count": 6,
   "metadata": {
    "scrolled": true
   },
   "outputs": [
    {
     "data": {
      "text/plain": [
       "Index(['Namn', 'Tidsserie', 'Beskrivning', 'Enkät', 'Dubbelkodning',\n",
       "       'Enkättext', 'From', 'Tom', 'Kodlista', 'From.1', 'Tom.1', 'Kod',\n",
       "       'Text', 'From.2', 'Tom.2', 'Koncept 1', 'Koncept 2', 'Instrument 1',\n",
       "       'Instrument 2', 'Källa', 'SLOSHW06', 'frek', 'SLOSHW08', 'frek.1',\n",
       "       'SLOSHW10', 'frek.2', 'SLOSHW12', 'frek.3', 'SLOSHW14', 'frek.4',\n",
       "       'SLOSHW16', 'frek.5', 'SLOSHW18', 'frek.6', 'SLOSHNW06', 'frek.7',\n",
       "       'SLOSHNW08', 'frek.8', 'SLOSHNW10', 'frek.9', 'SLOSHNW12', 'frek.10',\n",
       "       'SLOSHNW14', 'frek.11', 'SLOSHNW16', 'frek.12', 'SLOSHNW18', 'frek.13'],\n",
       "      dtype='object')"
      ]
     },
     "execution_count": 6,
     "metadata": {},
     "output_type": "execute_result"
    }
   ],
   "source": [
    "df.columns"
   ]
  },
  {
   "cell_type": "markdown",
   "metadata": {},
   "source": [
    "***  \n",
    "# <a id = \"2\">2. Tabeller</a>  \n",
    "I det här avnittet kommer tabellerna (förutom de som rör tidsserier och begrepp, se [introduktionen](#1)) till relationsdatabasen att skapas. Först tabellen *Variabler* (som är störst). Därefter *Enkättexter*, *Kodlistor*, *Svarstexter* och till sist *Kodlistor_stor*."
   ]
  },
  {
   "cell_type": "markdown",
   "metadata": {},
   "source": [
    "***  \n",
    "## <a id = \"2.1\">2.1 Variabler</a>  \n",
    "Den här tabellen ska innehålla kolumnerna **Variabel**, **Enkät**, **Beskrivning**, **Dubbelkodning**, **Itemnr**, **Enkättext**  och **Kodlista**. Samtliga kolumner finns redan i *metadata* (numera `df`), dock kallas **Variabel** där för **Namn** och måste därför döpas om. Även **Enkät** måste ändras. Istället för `working` ska det stå t.ex. `SLOSH 06 working` (på samma sätt för `non-working`. Ifall värdet är `w+n` ska variabelns första förekomst ha ett `working`-värde medan det andra ska ha ett `non-working`-värde. Detta eftersom excelfil är sådan att `working`-version av en variabel, t.ex. `promoted_4`, alltid kommer före `non-working`-versionen av densamma. "
   ]
  },
  {
   "cell_type": "code",
   "execution_count": 7,
   "metadata": {},
   "outputs": [],
   "source": [
    "Variabler = df.loc[:, ['Namn', 'Enkät', 'Beskrivning', 'Dubbelkodning', 'Enkättext', 'Kodlista',\n",
    "               'SLOSHW06', 'frek', 'SLOSHW08', 'frek.1', 'SLOSHW10', 'frek.2', 'SLOSHW12', 'frek.3', \n",
    "                'SLOSHW14', 'frek.4', 'SLOSHW16', 'frek.5', 'SLOSHW18', 'frek.6', 'SLOSHNW06', 'frek.7',\n",
    "               'SLOSHNW08', 'frek.8', 'SLOSHNW10', 'frek.9', 'SLOSHNW12', 'frek.10',\n",
    "               'SLOSHNW14', 'frek.11', 'SLOSHNW16', 'frek.12', 'SLOSHNW18', 'frek.13']]\n",
    "\n",
    "Variabler = Variabler.rename({'Namn': 'Variabel'}, axis = 'columns')"
   ]
  },
  {
   "cell_type": "markdown",
   "metadata": {},
   "source": [
    "Variabler som är dubbelkodade har enkätvärdet `w+n`. Dubbelkodning innebär att de inte är helt identiska, antingen med avseende på kodlista eller enkättext. Här ersätts `w+n` med `working` (första förekomst per variabel) och `non-working` (andra förekomst per variabel)."
   ]
  },
  {
   "cell_type": "code",
   "execution_count": 8,
   "metadata": {},
   "outputs": [],
   "source": [
    "for i in Variabler.index:\n",
    "    \n",
    "    # om dubbelkodning = 1\n",
    "    if Variabler.iloc[i, 2] == 1:\n",
    "        \n",
    "        # ändra enkätvärdet till \"working\"\n",
    "        Variabler.iloc[i, 1] = 'working'\n",
    "        \n",
    "        # ändra enkätvärde för nästa variabel till non-working (eftersom working alltid ligger före n-working)\n",
    "        Variabler.iloc[i+1, 1] = 'non-working'\n",
    "        \n",
    "        # För att nästkommande variabel ska undantas måste dess värde i dubbelkodning ändras från 1 till ngt annat\n",
    "        Variabler.iloc[i+1, 2] = 0"
   ]
  },
  {
   "cell_type": "markdown",
   "metadata": {},
   "source": [
    "De variabler som inte är dubbelkodade måste identifieras. En dataframe som sträcker sig fram till varje sådan rad kommer att skäras ut tillsammans med raden ifråga. Detta läggs i en lista som sedan sammanfogas till en ny dataframe. På så vis \"dubbleras\" varje variabel som är `w+n` men samtidigt inte dubbelkodad."
   ]
  },
  {
   "cell_type": "code",
   "execution_count": 9,
   "metadata": {},
   "outputs": [],
   "source": [
    "# Listan som alla delar läggs i.\n",
    "a = []\n",
    "\n",
    "# startpunkten för alla snitt som ska göras. Startunkten uppdateras i loopen.\n",
    "b = 0\n",
    "\n",
    "# gå igenom varje rad\n",
    "for i in Variabler.index:\n",
    "    \n",
    "    # identifiera \"w+n\"\n",
    "    if Variabler.iloc[i, 1] == 'w+n':\n",
    "        \n",
    "        # sätt enkätvärdet till \"working\"\n",
    "        Variabler.iloc[i, 1] = 'working'\n",
    "        \n",
    "        # skär ut en dataframe\n",
    "        a.append(Variabler.iloc[b:i+1, :])\n",
    "        \n",
    "        # gör raden till en series\n",
    "        c = Variabler.iloc[i, ]\n",
    "        \n",
    "        # gör om till en dataframe och transponera\n",
    "        c = c.to_frame().transpose()\n",
    "        \n",
    "        # sätt enkätvärdet till \"non-working\"\n",
    "        c['Enkät'] = 'non-working'\n",
    "        \n",
    "        # lägg till i listan med delar       \n",
    "        a.append(c)\n",
    "        # uppdatera startpunkten för nästa dataframe som ska skäras ut\n",
    "        b = i+1\n",
    "\n",
    "# sammanfoga alla delar\n",
    "Variabler = pd.concat(a, ignore_index = True)\n",
    "    "
   ]
  },
  {
   "cell_type": "markdown",
   "metadata": {},
   "source": [
    "Nu ersätts enkätvärden `working` och `non-working` med vågspecifika motsvarigheter. För att åstadkomma detta kan den sista symbolen i varje variabelnamn, som alltid är en siffra mellan 1-7, omvandlas till det årtal då data samlats in. Variabeln promoted_4 samlades in 2012 och ska således ha enkätvärdet `SLOSH 12 working` (p.s.s. non-working). Låt siffrorna 1, 2, ..., 7 stå för vågornas ordningsföljd. Årtalen är 6, 8,..., 18. Sambandet mellan dessa talföljder ges således av  \n",
    "  \n",
    "  $ År = 3*(våg-1)-(våg-1)$ "
   ]
  },
  {
   "cell_type": "code",
   "execution_count": 10,
   "metadata": {},
   "outputs": [],
   "source": [
    "for i in Variabler.index:\n",
    "    \n",
    "    # radens enkätvärde\n",
    "    enkät = Variabler.iloc[i, 1]\n",
    "    \n",
    "    # radens namnvärde\n",
    "    namn = Variabler.iloc[i, 0]\n",
    "    \n",
    "    # vågnummret ges av sista symbolen i namnet.\n",
    "    våg = int(namn[-1])\n",
    "    \n",
    "    # Årtal kan sedan räknas ut enligt sambandet ovan.\n",
    "    år = str(3*(våg+1) - (våg - 1))\n",
    "    \n",
    "    # Ifall årtalet är ett ental ska det föregås av 0\n",
    "    if len(år) == 1:\n",
    "        år = '0{}'.format(år)\n",
    "    \n",
    "    # Översättning av working\n",
    "    if enkät == 'working':\n",
    "        Variabler.iloc[i, 1] = 'SLOSH {} working'.format(år)\n",
    "    \n",
    "    # Översättning av non-working\n",
    "    if enkät == 'non-working':\n",
    "        Variabler.iloc[i, 1] = 'SLOSH {} non-working'.format(år)"
   ]
  },
  {
   "cell_type": "markdown",
   "metadata": {},
   "source": [
    "Notera att 1 och 0 är kvar i kolumnen **Dubbelkodning**."
   ]
  },
  {
   "cell_type": "markdown",
   "metadata": {},
   "source": [
    "Nu ska kolumnen **Itemnr** skapas. Först två listor med \"working\"- respektive \"non-working\"-kolumner skapas."
   ]
  },
  {
   "cell_type": "code",
   "execution_count": 11,
   "metadata": {},
   "outputs": [],
   "source": [
    "WORKING = ['SLOSHW06', 'SLOSHW08', 'SLOSHW10', 'SLOSHW12', 'SLOSHW14', 'SLOSHW16', 'SLOSHW18']\n",
    "\n",
    "NONWORKING = ['SLOSHNW06', 'SLOSHNW08', 'SLOSHNW10', 'SLOSHNW12', 'SLOSHNW14', 'SLOSHNW16', 'SLOSHNW18']"
   ]
  },
  {
   "cell_type": "markdown",
   "metadata": {},
   "source": [
    "Skapa en ny kolumn, kalla den för \"Itemnr\" och fyll den med `NaN`."
   ]
  },
  {
   "cell_type": "code",
   "execution_count": 12,
   "metadata": {},
   "outputs": [],
   "source": [
    "Variabler['Itemnr'] = np.nan"
   ]
  },
  {
   "cell_type": "markdown",
   "metadata": {},
   "source": [
    "I dessa kolumner förekommer ett itemnr ifall en given variabel hör till vågen ifråga. I annat fall är det `NaN`. Varje rad har värden i högst en vågkolumn (t.ex. **SLOSHW06**). Detta värde kopieras och läggs i **Itemnr**. "
   ]
  },
  {
   "cell_type": "code",
   "execution_count": 13,
   "metadata": {},
   "outputs": [],
   "source": [
    "for w, nw in zip(WORKING, NONWORKING):\n",
    "    \n",
    "    Variabler.loc[Variabler[w].isna() == False, ['Itemnr']] = Variabler[w]\n",
    "    Variabler.loc[Variabler[nw].isna() == False, ['Itemnr']] = Variabler[nw]"
   ]
  },
  {
   "cell_type": "markdown",
   "metadata": {},
   "source": [
    "Ta bort alla överflödiga kolumner."
   ]
  },
  {
   "cell_type": "code",
   "execution_count": 14,
   "metadata": {},
   "outputs": [],
   "source": [
    "Variabler.drop(Variabler.columns[6:34], axis = 1, inplace = True)"
   ]
  },
  {
   "cell_type": "markdown",
   "metadata": {},
   "source": [
    "Varje par av **Variabel** och **Enkät** ska endast förekomma en gång i *Variabler*. Skär ut dessa två kolumner och hitta den första förekomsten av varje par och lägg tillhörande index i en lista."
   ]
  },
  {
   "cell_type": "code",
   "execution_count": 15,
   "metadata": {},
   "outputs": [],
   "source": [
    "behåll = list(Variabler.iloc[:, :2].drop_duplicates().index)"
   ]
  },
  {
   "cell_type": "markdown",
   "metadata": {},
   "source": [
    "Nu skapas komplementet till `behåll`."
   ]
  },
  {
   "cell_type": "code",
   "execution_count": 16,
   "metadata": {},
   "outputs": [],
   "source": [
    "kasta = [i for i in Variabler.index if i not in behåll]"
   ]
  },
  {
   "cell_type": "markdown",
   "metadata": {},
   "source": [
    "Här kastas alla rader som förekommer i komplementet till `behåll`."
   ]
  },
  {
   "cell_type": "code",
   "execution_count": 17,
   "metadata": {},
   "outputs": [],
   "source": [
    "Variabler.drop(kasta, inplace = True)"
   ]
  },
  {
   "cell_type": "markdown",
   "metadata": {},
   "source": [
    "Index är måste återställas."
   ]
  },
  {
   "cell_type": "code",
   "execution_count": 18,
   "metadata": {},
   "outputs": [],
   "source": [
    "Variabler.set_index('Variabel', inplace = True)"
   ]
  },
  {
   "cell_type": "markdown",
   "metadata": {},
   "source": [
    "Ändra ordningen på kolumnerna."
   ]
  },
  {
   "cell_type": "code",
   "execution_count": 19,
   "metadata": {},
   "outputs": [],
   "source": [
    "Variabler = Variabler[['Enkät', 'Beskrivning', 'Dubbelkodning', 'Itemnr', 'Enkättext', 'Kodlista']]"
   ]
  },
  {
   "cell_type": "code",
   "execution_count": 20,
   "metadata": {},
   "outputs": [
    {
     "data": {
      "text/html": [
       "<div>\n",
       "<style scoped>\n",
       "    .dataframe tbody tr th:only-of-type {\n",
       "        vertical-align: middle;\n",
       "    }\n",
       "\n",
       "    .dataframe tbody tr th {\n",
       "        vertical-align: top;\n",
       "    }\n",
       "\n",
       "    .dataframe thead th {\n",
       "        text-align: right;\n",
       "    }\n",
       "</style>\n",
       "<table border=\"1\" class=\"dataframe\">\n",
       "  <thead>\n",
       "    <tr style=\"text-align: right;\">\n",
       "      <th></th>\n",
       "      <th>Enkät</th>\n",
       "      <th>Beskrivning</th>\n",
       "      <th>Dubbelkodning</th>\n",
       "      <th>Itemnr</th>\n",
       "      <th>Enkättext</th>\n",
       "      <th>Kodlista</th>\n",
       "    </tr>\n",
       "    <tr>\n",
       "      <th>Variabel</th>\n",
       "      <th></th>\n",
       "      <th></th>\n",
       "      <th></th>\n",
       "      <th></th>\n",
       "      <th></th>\n",
       "      <th></th>\n",
       "    </tr>\n",
       "  </thead>\n",
       "  <tbody>\n",
       "    <tr>\n",
       "      <th>promoted_1</th>\n",
       "      <td>SLOSH 06 working</td>\n",
       "      <td>NaN</td>\n",
       "      <td>NaN</td>\n",
       "      <td>A1_a</td>\n",
       "      <td>Ditt arbete @ Har du befordrats/fått en högre ...</td>\n",
       "      <td>1</td>\n",
       "    </tr>\n",
       "    <tr>\n",
       "      <th>promoted_2</th>\n",
       "      <td>SLOSH 08 working</td>\n",
       "      <td>NaN</td>\n",
       "      <td>NaN</td>\n",
       "      <td>4</td>\n",
       "      <td>Har du fått en annan tjänsteposition de senast...</td>\n",
       "      <td>2</td>\n",
       "    </tr>\n",
       "    <tr>\n",
       "      <th>promoted_3</th>\n",
       "      <td>SLOSH 10 working</td>\n",
       "      <td>NaN</td>\n",
       "      <td>NaN</td>\n",
       "      <td>8</td>\n",
       "      <td>Har du fått en förändrad tjänsteposition de se...</td>\n",
       "      <td>3</td>\n",
       "    </tr>\n",
       "    <tr>\n",
       "      <th>promoted_4</th>\n",
       "      <td>SLOSH 12 working</td>\n",
       "      <td>NaN</td>\n",
       "      <td>1</td>\n",
       "      <td>4</td>\n",
       "      <td>Har du fått en förändrad tjänsteposition under...</td>\n",
       "      <td>3</td>\n",
       "    </tr>\n",
       "    <tr>\n",
       "      <th>promoted_4</th>\n",
       "      <td>SLOSH 12 non-working</td>\n",
       "      <td>NaN</td>\n",
       "      <td>1</td>\n",
       "      <td>4</td>\n",
       "      <td>Har du fått en förändrad tjänsteposition under...</td>\n",
       "      <td>3</td>\n",
       "    </tr>\n",
       "  </tbody>\n",
       "</table>\n",
       "</div>"
      ],
      "text/plain": [
       "                           Enkät Beskrivning Dubbelkodning Itemnr  \\\n",
       "Variabel                                                            \n",
       "promoted_1      SLOSH 06 working         NaN           NaN   A1_a   \n",
       "promoted_2      SLOSH 08 working         NaN           NaN      4   \n",
       "promoted_3      SLOSH 10 working         NaN           NaN      8   \n",
       "promoted_4      SLOSH 12 working         NaN             1      4   \n",
       "promoted_4  SLOSH 12 non-working         NaN             1      4   \n",
       "\n",
       "                                                    Enkättext Kodlista  \n",
       "Variabel                                                                \n",
       "promoted_1  Ditt arbete @ Har du befordrats/fått en högre ...        1  \n",
       "promoted_2  Har du fått en annan tjänsteposition de senast...        2  \n",
       "promoted_3  Har du fått en förändrad tjänsteposition de se...        3  \n",
       "promoted_4  Har du fått en förändrad tjänsteposition under...        3  \n",
       "promoted_4  Har du fått en förändrad tjänsteposition under...        3  "
      ]
     },
     "execution_count": 20,
     "metadata": {},
     "output_type": "execute_result"
    }
   ],
   "source": [
    "Variabler.head()"
   ]
  },
  {
   "cell_type": "markdown",
   "metadata": {},
   "source": [
    "***  \n",
    "## <a id = \"2.3\">2.3 Enkättexter</a>  \n",
    "Består endast av **Enkättext** och **Källa**. Eventuellt bör **Enkättext** göras till index eftersom den är huvudnyckel i tabellen."
   ]
  },
  {
   "cell_type": "code",
   "execution_count": 21,
   "metadata": {},
   "outputs": [],
   "source": [
    "Enkättexter = df.loc[:, ['Enkättext', 'Källa']]"
   ]
  },
  {
   "cell_type": "code",
   "execution_count": 22,
   "metadata": {},
   "outputs": [],
   "source": [
    "Enkättexter = Enkättexter.drop_duplicates().set_index('Enkättext')"
   ]
  },
  {
   "cell_type": "code",
   "execution_count": 23,
   "metadata": {},
   "outputs": [
    {
     "data": {
      "text/html": [
       "<div>\n",
       "<style scoped>\n",
       "    .dataframe tbody tr th:only-of-type {\n",
       "        vertical-align: middle;\n",
       "    }\n",
       "\n",
       "    .dataframe tbody tr th {\n",
       "        vertical-align: top;\n",
       "    }\n",
       "\n",
       "    .dataframe thead th {\n",
       "        text-align: right;\n",
       "    }\n",
       "</style>\n",
       "<table border=\"1\" class=\"dataframe\">\n",
       "  <thead>\n",
       "    <tr style=\"text-align: right;\">\n",
       "      <th></th>\n",
       "      <th>Källa</th>\n",
       "    </tr>\n",
       "    <tr>\n",
       "      <th>Enkättext</th>\n",
       "      <th></th>\n",
       "    </tr>\n",
       "  </thead>\n",
       "  <tbody>\n",
       "    <tr>\n",
       "      <th>Ditt arbete @ Har du befordrats/fått en högre tjänst under de två senaste åren?</th>\n",
       "      <td>NaN</td>\n",
       "    </tr>\n",
       "    <tr>\n",
       "      <th>Har du fått en annan tjänsteposition de senaste två åren?</th>\n",
       "      <td>NaN</td>\n",
       "    </tr>\n",
       "    <tr>\n",
       "      <th>Har du fått en förändrad tjänsteposition de senaste två åren?</th>\n",
       "      <td>NaN</td>\n",
       "    </tr>\n",
       "    <tr>\n",
       "      <th>Har du fått en förändrad tjänsteposition under de senaste två åren?</th>\n",
       "      <td>NaN</td>\n",
       "    </tr>\n",
       "    <tr>\n",
       "      <th>Har du fått en sämre position under de senaste två åren?</th>\n",
       "      <td>NaN</td>\n",
       "    </tr>\n",
       "  </tbody>\n",
       "</table>\n",
       "</div>"
      ],
      "text/plain": [
       "                                                    Källa\n",
       "Enkättext                                                \n",
       "Ditt arbete @ Har du befordrats/fått en högre t...    NaN\n",
       "Har du fått en annan tjänsteposition de senaste...    NaN\n",
       "Har du fått en förändrad tjänsteposition de sen...    NaN\n",
       "Har du fått en förändrad tjänsteposition under ...    NaN\n",
       "Har du fått en sämre position under de senaste ...    NaN"
      ]
     },
     "execution_count": 23,
     "metadata": {},
     "output_type": "execute_result"
    }
   ],
   "source": [
    "Enkättexter.head()"
   ]
  },
  {
   "cell_type": "markdown",
   "metadata": {},
   "source": [
    "***  \n",
    "## <a id = \"2.4\">2.4 Kodlistor</a>  \n",
    "Består av **Kodlista** (nyckel) samt **From.1** och **Tom.1**. Notera att de sista klolumnerna blivit omdöpta automatiskt vid inläsning av *metadata*. "
   ]
  },
  {
   "cell_type": "code",
   "execution_count": 24,
   "metadata": {},
   "outputs": [],
   "source": [
    "Kodlistor = df.loc[:, ['Kodlista', 'From.1', 'Tom.1']]"
   ]
  },
  {
   "cell_type": "markdown",
   "metadata": {},
   "source": [
    "Varje kodlista ska endast förekomma en gång."
   ]
  },
  {
   "cell_type": "code",
   "execution_count": 25,
   "metadata": {},
   "outputs": [],
   "source": [
    "Kodlistor = Kodlistor.drop_duplicates().reset_index(drop = True)"
   ]
  },
  {
   "cell_type": "markdown",
   "metadata": {},
   "source": [
    "Samma kodlista kan fortfarande förekomma flera gånger eftersom **From.1** har fyllts i flera gånger. Tanken var från början att detta skulle ordnas i efterhand i excel. Behåll endast de rader som har lägsta möjliga värde i **From.1** för varje värde i **Kodlista**."
   ]
  },
  {
   "cell_type": "code",
   "execution_count": 26,
   "metadata": {},
   "outputs": [],
   "source": [
    "Kodlistor = Kodlistor.groupby('Kodlista').min()"
   ]
  },
  {
   "cell_type": "code",
   "execution_count": 27,
   "metadata": {},
   "outputs": [
    {
     "data": {
      "text/html": [
       "<div>\n",
       "<style scoped>\n",
       "    .dataframe tbody tr th:only-of-type {\n",
       "        vertical-align: middle;\n",
       "    }\n",
       "\n",
       "    .dataframe tbody tr th {\n",
       "        vertical-align: top;\n",
       "    }\n",
       "\n",
       "    .dataframe thead th {\n",
       "        text-align: right;\n",
       "    }\n",
       "</style>\n",
       "<table border=\"1\" class=\"dataframe\">\n",
       "  <thead>\n",
       "    <tr style=\"text-align: right;\">\n",
       "      <th></th>\n",
       "      <th>From.1</th>\n",
       "      <th>Tom.1</th>\n",
       "    </tr>\n",
       "    <tr>\n",
       "      <th>Kodlista</th>\n",
       "      <th></th>\n",
       "      <th></th>\n",
       "    </tr>\n",
       "  </thead>\n",
       "  <tbody>\n",
       "    <tr>\n",
       "      <th>1</th>\n",
       "      <td>2006</td>\n",
       "      <td>NaN</td>\n",
       "    </tr>\n",
       "    <tr>\n",
       "      <th>2</th>\n",
       "      <td>2008</td>\n",
       "      <td>NaN</td>\n",
       "    </tr>\n",
       "    <tr>\n",
       "      <th>3</th>\n",
       "      <td>2010</td>\n",
       "      <td>NaN</td>\n",
       "    </tr>\n",
       "    <tr>\n",
       "      <th>4</th>\n",
       "      <td>2014</td>\n",
       "      <td>NaN</td>\n",
       "    </tr>\n",
       "    <tr>\n",
       "      <th>5</th>\n",
       "      <td>2016</td>\n",
       "      <td>NaN</td>\n",
       "    </tr>\n",
       "  </tbody>\n",
       "</table>\n",
       "</div>"
      ],
      "text/plain": [
       "          From.1  Tom.1\n",
       "Kodlista               \n",
       "1           2006    NaN\n",
       "2           2008    NaN\n",
       "3           2010    NaN\n",
       "4           2014    NaN\n",
       "5           2016    NaN"
      ]
     },
     "execution_count": 27,
     "metadata": {},
     "output_type": "execute_result"
    }
   ],
   "source": [
    "Kodlistor.head()"
   ]
  },
  {
   "cell_type": "markdown",
   "metadata": {},
   "source": [
    "***  \n",
    "## <a id = \"2.5\">2.5 Svarstexter</a>  \n",
    "Består av **Svarstext** (nyckel) samt **From** och **Tom**. Den första kolumnen heter **Text** i *metadata* och döps därför om. "
   ]
  },
  {
   "cell_type": "code",
   "execution_count": 28,
   "metadata": {},
   "outputs": [],
   "source": [
    "Svarstexter = df.loc[:, ['Text', 'From', 'Tom']]\n",
    "Svarstexter.rename(columns = {'Text':'Svarstext'}, inplace = True)"
   ]
  },
  {
   "cell_type": "markdown",
   "metadata": {},
   "source": [
    "Varje svarstext ska endast förekomma en gång."
   ]
  },
  {
   "cell_type": "code",
   "execution_count": 29,
   "metadata": {},
   "outputs": [],
   "source": [
    "Svarstexter.drop_duplicates(inplace = True)"
   ]
  },
  {
   "cell_type": "markdown",
   "metadata": {},
   "source": [
    "Se kommentar ovan i **2.4**."
   ]
  },
  {
   "cell_type": "code",
   "execution_count": 30,
   "metadata": {},
   "outputs": [],
   "source": [
    "Svarstexter = Svarstexter.groupby('Svarstext').min()"
   ]
  },
  {
   "cell_type": "code",
   "execution_count": 31,
   "metadata": {},
   "outputs": [
    {
     "data": {
      "text/html": [
       "<div>\n",
       "<style scoped>\n",
       "    .dataframe tbody tr th:only-of-type {\n",
       "        vertical-align: middle;\n",
       "    }\n",
       "\n",
       "    .dataframe tbody tr th {\n",
       "        vertical-align: top;\n",
       "    }\n",
       "\n",
       "    .dataframe thead th {\n",
       "        text-align: right;\n",
       "    }\n",
       "</style>\n",
       "<table border=\"1\" class=\"dataframe\">\n",
       "  <thead>\n",
       "    <tr style=\"text-align: right;\">\n",
       "      <th></th>\n",
       "      <th>From</th>\n",
       "      <th>Tom</th>\n",
       "    </tr>\n",
       "    <tr>\n",
       "      <th>Svarstext</th>\n",
       "      <th></th>\n",
       "      <th></th>\n",
       "    </tr>\n",
       "  </thead>\n",
       "  <tbody>\n",
       "    <tr>\n",
       "      <th>0</th>\n",
       "      <td>2006</td>\n",
       "      <td>NaN</td>\n",
       "    </tr>\n",
       "    <tr>\n",
       "      <th>-</th>\n",
       "      <td>2006</td>\n",
       "      <td>NaN</td>\n",
       "    </tr>\n",
       "    <tr>\n",
       "      <th>... mycket överkvalificerad</th>\n",
       "      <td>2006</td>\n",
       "      <td>NaN</td>\n",
       "    </tr>\n",
       "    <tr>\n",
       "      <th>... skulle behöva en hel del ytterligare kunskaper</th>\n",
       "      <td>2006</td>\n",
       "      <td>NaN</td>\n",
       "    </tr>\n",
       "    <tr>\n",
       "      <th>... skulle behöva ytterligare vissa kunskaper</th>\n",
       "      <td>2006</td>\n",
       "      <td>NaN</td>\n",
       "    </tr>\n",
       "  </tbody>\n",
       "</table>\n",
       "</div>"
      ],
      "text/plain": [
       "                                                    From  Tom\n",
       "Svarstext                                                    \n",
       "0                                                   2006  NaN\n",
       "-                                                   2006  NaN\n",
       "... mycket överkvalificerad                         2006  NaN\n",
       "... skulle behöva en hel del ytterligare kunskaper  2006  NaN\n",
       "... skulle behöva ytterligare vissa kunskaper       2006  NaN"
      ]
     },
     "execution_count": 31,
     "metadata": {},
     "output_type": "execute_result"
    }
   ],
   "source": [
    "Svarstexter.head()"
   ]
  },
  {
   "cell_type": "markdown",
   "metadata": {},
   "source": [
    "***  \n",
    "## <a id = \"2.6\">2.6 Kodlistor_stor</a>  \n",
    "Den här tabellen ska innehålla kodlistornas namn i kombination med deras kod och svarstext. Varje sådan kombination ska endast förekomma en gång. Börja med att skära ut kolumnerna **Kodlista**, **Kod** och **Text** ur *metadata*."
   ]
  },
  {
   "cell_type": "code",
   "execution_count": 32,
   "metadata": {},
   "outputs": [],
   "source": [
    "Kodlistor_stor = df.loc[:, ['Kodlista', 'Kod', 'Text']]  "
   ]
  },
  {
   "cell_type": "markdown",
   "metadata": {},
   "source": [
    "Döp om kolumnen med svarstexter."
   ]
  },
  {
   "cell_type": "code",
   "execution_count": 33,
   "metadata": {},
   "outputs": [],
   "source": [
    "Kodlistor_stor.rename(columns = {'Text':'Svarstext'}, inplace = True)"
   ]
  },
  {
   "cell_type": "markdown",
   "metadata": {},
   "source": [
    "Behåll endast unika rader så att varje kodlista endast förekommer en gång."
   ]
  },
  {
   "cell_type": "code",
   "execution_count": 34,
   "metadata": {},
   "outputs": [],
   "source": [
    "Kodlistor_stor.drop_duplicates(inplace = True)"
   ]
  },
  {
   "cell_type": "markdown",
   "metadata": {},
   "source": [
    "Använd kolumnen **Kodlista** som index."
   ]
  },
  {
   "cell_type": "code",
   "execution_count": 35,
   "metadata": {},
   "outputs": [],
   "source": [
    "Kodlistor_stor.set_index('Kodlista', inplace = True)"
   ]
  },
  {
   "cell_type": "code",
   "execution_count": 36,
   "metadata": {},
   "outputs": [
    {
     "data": {
      "text/html": [
       "<div>\n",
       "<style scoped>\n",
       "    .dataframe tbody tr th:only-of-type {\n",
       "        vertical-align: middle;\n",
       "    }\n",
       "\n",
       "    .dataframe tbody tr th {\n",
       "        vertical-align: top;\n",
       "    }\n",
       "\n",
       "    .dataframe thead th {\n",
       "        text-align: right;\n",
       "    }\n",
       "</style>\n",
       "<table border=\"1\" class=\"dataframe\">\n",
       "  <thead>\n",
       "    <tr style=\"text-align: right;\">\n",
       "      <th></th>\n",
       "      <th>Kod</th>\n",
       "      <th>Svarstext</th>\n",
       "    </tr>\n",
       "    <tr>\n",
       "      <th>Kodlista</th>\n",
       "      <th></th>\n",
       "      <th></th>\n",
       "    </tr>\n",
       "  </thead>\n",
       "  <tbody>\n",
       "    <tr>\n",
       "      <th>1</th>\n",
       "      <td>1</td>\n",
       "      <td>Ja</td>\n",
       "    </tr>\n",
       "    <tr>\n",
       "      <th>1</th>\n",
       "      <td>2</td>\n",
       "      <td>Nej</td>\n",
       "    </tr>\n",
       "    <tr>\n",
       "      <th>1</th>\n",
       "      <td>.</td>\n",
       "      <td>Missing</td>\n",
       "    </tr>\n",
       "    <tr>\n",
       "      <th>2</th>\n",
       "      <td>1</td>\n",
       "      <td>Mycket högre</td>\n",
       "    </tr>\n",
       "    <tr>\n",
       "      <th>2</th>\n",
       "      <td>2</td>\n",
       "      <td>Något högre</td>\n",
       "    </tr>\n",
       "    <tr>\n",
       "      <th>2</th>\n",
       "      <td>3</td>\n",
       "      <td>Oförändrad</td>\n",
       "    </tr>\n",
       "    <tr>\n",
       "      <th>2</th>\n",
       "      <td>4</td>\n",
       "      <td>Något lägre</td>\n",
       "    </tr>\n",
       "    <tr>\n",
       "      <th>2</th>\n",
       "      <td>5</td>\n",
       "      <td>Mycket lägre</td>\n",
       "    </tr>\n",
       "    <tr>\n",
       "      <th>2</th>\n",
       "      <td>.</td>\n",
       "      <td>Missing</td>\n",
       "    </tr>\n",
       "    <tr>\n",
       "      <th>3</th>\n",
       "      <td>1</td>\n",
       "      <td>Högre</td>\n",
       "    </tr>\n",
       "    <tr>\n",
       "      <th>3</th>\n",
       "      <td>2</td>\n",
       "      <td>Oförändrad</td>\n",
       "    </tr>\n",
       "    <tr>\n",
       "      <th>3</th>\n",
       "      <td>3</td>\n",
       "      <td>Lägre</td>\n",
       "    </tr>\n",
       "    <tr>\n",
       "      <th>3</th>\n",
       "      <td>.</td>\n",
       "      <td>Missing</td>\n",
       "    </tr>\n",
       "    <tr>\n",
       "      <th>4</th>\n",
       "      <td>1</td>\n",
       "      <td>Ja, högre</td>\n",
       "    </tr>\n",
       "    <tr>\n",
       "      <th>4</th>\n",
       "      <td>2</td>\n",
       "      <td>Nej, oförändrad</td>\n",
       "    </tr>\n",
       "    <tr>\n",
       "      <th>4</th>\n",
       "      <td>3</td>\n",
       "      <td>Ja, lägre</td>\n",
       "    </tr>\n",
       "    <tr>\n",
       "      <th>4</th>\n",
       "      <td>&gt;11</td>\n",
       "      <td>slask</td>\n",
       "    </tr>\n",
       "    <tr>\n",
       "      <th>4</th>\n",
       "      <td>.</td>\n",
       "      <td>Missing</td>\n",
       "    </tr>\n",
       "    <tr>\n",
       "      <th>5</th>\n",
       "      <td>1</td>\n",
       "      <td>Högre</td>\n",
       "    </tr>\n",
       "    <tr>\n",
       "      <th>5</th>\n",
       "      <td>2</td>\n",
       "      <td>Oförändrad</td>\n",
       "    </tr>\n",
       "  </tbody>\n",
       "</table>\n",
       "</div>"
      ],
      "text/plain": [
       "          Kod        Svarstext\n",
       "Kodlista                      \n",
       "1           1               Ja\n",
       "1           2              Nej\n",
       "1           .          Missing\n",
       "2           1     Mycket högre\n",
       "2           2      Något högre\n",
       "2           3       Oförändrad\n",
       "2           4      Något lägre\n",
       "2           5     Mycket lägre\n",
       "2           .          Missing\n",
       "3           1            Högre\n",
       "3           2       Oförändrad\n",
       "3           3            Lägre\n",
       "3           .          Missing\n",
       "4           1        Ja, högre\n",
       "4           2  Nej, oförändrad\n",
       "4           3        Ja, lägre\n",
       "4         >11            slask\n",
       "4           .          Missing\n",
       "5           1            Högre\n",
       "5           2       Oförändrad"
      ]
     },
     "execution_count": 36,
     "metadata": {},
     "output_type": "execute_result"
    }
   ],
   "source": [
    "Kodlistor_stor.head(20)"
   ]
  },
  {
   "cell_type": "markdown",
   "metadata": {},
   "source": [
    "***  \n",
    "# <a id = \"3\">3. Exportera csv-filer</a>  \n",
    "Nu ska samtliga tabeller exporteras till csv-filer för att läggas in i SQLite."
   ]
  },
  {
   "cell_type": "code",
   "execution_count": 37,
   "metadata": {},
   "outputs": [],
   "source": [
    "Variabler.to_csv('Variabler.csv', encoding = 'UTF-8')\n",
    "\n",
    "Enkättexter.to_csv('Enkättexter.csv', encoding = 'UTF-8')\n",
    "\n",
    "Kodlistor.to_csv('Kodlistor.csv', encoding = 'UTF-8')\n",
    "\n",
    "Kodlistor_stor.to_csv('Kodlistor_stor.csv', encoding = 'UTF-8')\n",
    "\n",
    "Svarstexter.to_csv('Svarstexter.csv', encoding = 'UTF-8')\n"
   ]
  }
 ],
 "metadata": {
  "celltoolbar": "Raw Cell Format",
  "kernelspec": {
   "display_name": "Python 3",
   "language": "python",
   "name": "python3"
  },
  "language_info": {
   "codemirror_mode": {
    "name": "ipython",
    "version": 3
   },
   "file_extension": ".py",
   "mimetype": "text/x-python",
   "name": "python",
   "nbconvert_exporter": "python",
   "pygments_lexer": "ipython3",
   "version": "3.7.3"
  }
 },
 "nbformat": 4,
 "nbformat_minor": 2
}

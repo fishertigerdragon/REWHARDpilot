{
 "cells": [
  {
   "cell_type": "markdown",
   "metadata": {},
   "source": [
    "# <span style=\"color:lightcoral; font-family:freestyle script; font-size:4em\">SLOSH till relationsdatabas</span> <br><span style=\"color:black; font-family:freestyle script; font-size:3em\">Förbereda färdig metadata för SQLite</span>\n",
    "***"
   ]
  },
  {
   "cell_type": "markdown",
   "metadata": {},
   "source": [
    "# Innehållsförteckning  \n",
    "1. [Introduktion](#1)  \n",
    "2. [Kolumner](#2)  \n",
    "    2.1 [Enkät](#2.1)  \n",
    "    2.2 [Itemnr](#2.2)  \n",
    "    2.3 [Frekvens](#2.3)\n",
    "3. [Tabeller](#3)  \n",
    "    3.1 [Variabler](#3.1)  \n",
    "    3.2 [Frekvenstabell](#3.2)  \n",
    "    3.3 [Enkättexter](#3.3)  \n",
    "    3.4 [Kodlistor](#3.4)  \n",
    "    3.5 [Svarstexter](#3.5)  \n",
    "    3.6 [Kodlistor_stor](#3.6)\n",
    "\n",
    "***"
   ]
  },
  {
   "cell_type": "markdown",
   "metadata": {},
   "source": [
    "# <a id = \"1\">1. Introduktion</a>  \n",
    "I vad som följer kommer kursiv stil endast användas för att benämna *tabeller*. Fetstil kommer endast användas för att benämna **kolumner**, och värden i en kolumn kommer att vara i stil med (t.ex.) `SLOSHW08`, `Missing`, `142`. Även datatyper (t.ex. `str` eller `float64`) och pythonobjekt (t.ex. listor) kommer att ha denna formatering. Den metadata som redan är dokumenterad enligt Vetenskapsrådets riktlinjer ligger i excelfilen *metadata*. Några av tabellerna i relationsdatabsen innehåller kolumner som inte finns i denna fil. Dessa kolumner skapas i avsnittet [Kolumner](#2). Därefter kommer följande tabeller att skapas:  \n",
    "\n",
    "|Variabler|Frekvenstabell|Enkättexter|Kodlistor|Svarstexter|Kodlistor_stor|  \n",
    "|:---:|:---:|---|---|---|---|\n",
    "|Variabel|V_id|Enkättext|Kodlista|Svarstext|K_id|  \n",
    "|Enkät|Variabel|Källa|From|From|Kodlista|  \n",
    "|Beskrivning|Enkät|-|Tom|Tom|Kod|  \n",
    "|Itemnr|Kod|-|-|-|Svarstext|  \n",
    "|Enkättext|Frekvens|-|-|-|-|  \n",
    "|Kodlista|-|-|-|-|-|  \n",
    "  \n",
    "  \n",
    "Relationsdatabasen kommmer att innehålla ytterligare fyra tabeller. Dessa är *Begrepp*, *Begrepp_stor*, *Tidsserie* samt *Tidsserie_stor*. För tillfället finns ingen data till dessa tabeller i *metadata* och därför kommer de inte skapas här. "
   ]
  },
  {
   "cell_type": "code",
   "execution_count": 13,
   "metadata": {},
   "outputs": [],
   "source": [
    "import numpy as np\n",
    "import pandas as pd"
   ]
  },
  {
   "cell_type": "code",
   "execution_count": 14,
   "metadata": {},
   "outputs": [],
   "source": [
    "df = pd.read_excel('Metadata.xlsx')"
   ]
  },
  {
   "cell_type": "markdown",
   "metadata": {},
   "source": [
    "För att ta fram *Kodlista_stor* används `missing` i **text**. I *metadata* stavas `Missing` ibland med \"M\" och ibland med \"m\"(`missing`). Python läser detta som olika `str`, därför ersätts liten bokstav med stor."
   ]
  },
  {
   "cell_type": "code",
   "execution_count": 3,
   "metadata": {},
   "outputs": [],
   "source": [
    "df.replace('missing', 'Missing', inplace = True)"
   ]
  },
  {
   "cell_type": "code",
   "execution_count": 4,
   "metadata": {
    "scrolled": true
   },
   "outputs": [
    {
     "data": {
      "text/plain": [
       "Index(['Namn', 'Tidsserie', 'Beskrivning', 'Enkät', 'Dubbelkodning',\n",
       "       'Enkättext', 'From', 'Tom', 'Kodlista', 'From.1', 'Tom.1', 'Kod',\n",
       "       'Text', 'From.2', 'Tom.2', 'Koncept 1', 'Koncept 2', 'Instrument 1',\n",
       "       'Instrument 2', 'Källa', 'SLOSHW06', 'frek', 'SLOSHW08', 'frek.1',\n",
       "       'SLOSHW10', 'frek.2', 'SLOSHW12', 'frek.3', 'SLOSHW14', 'frek.4',\n",
       "       'SLOSHW16', 'frek.5', 'SLOSHW18', 'frek.6', 'SLOSHNW06', 'frek.7',\n",
       "       'SLOSHNW08', 'frek.8', 'SLOSHNW10', 'frek.9', 'SLOSHNW12', 'frek.10',\n",
       "       'SLOSHNW14', 'frek.11', 'SLOSHNW16', 'frek.12', 'SLOSHNW18', 'frek.13'],\n",
       "      dtype='object')"
      ]
     },
     "execution_count": 4,
     "metadata": {},
     "output_type": "execute_result"
    }
   ],
   "source": [
    "df.columns"
   ]
  },
  {
   "cell_type": "markdown",
   "metadata": {},
   "source": [
    "*** \n",
    "# <a id = \"2\">2. Kolumner</a>  \n",
    "De kolumner som måste skapas från *metadata* är **Enkät**, **Itemnr** och **Frekvens**.  "
   ]
  },
  {
   "cell_type": "markdown",
   "metadata": {},
   "source": [
    "***  \n",
    "## <a id = \"2.1\">2.1 Enkät</a>  \n",
    "Den här kolumnen ska säga vilket år (eller vilken våg) variabeln förekommer i. Samma kolumn ska säga huruvida variabeln finns för den arbetande- eller den icke-arbetande delen av SLOSH. Ett exempel på ett värde i kolumnen är `SLOSHW08`. Här står \"W\" för \"working\" (\"non-working\" förkortas \"NW\") och \"08\" för den andra SLOSH-vågen (som ägde rum 2008). Värdena i den här kolumnen är namn på (redan existerande) kolumner i *metadata*. Börja med att samla namnen på working-kolumner respektive nonworking-kolumner (från *metadata*) i två listor. Listorna kallas `WORKING` respektive `NONWORKING`."
   ]
  },
  {
   "cell_type": "code",
   "execution_count": 5,
   "metadata": {},
   "outputs": [],
   "source": [
    "WORKING = ['SLOSHW06', 'SLOSHW08', 'SLOSHW10', 'SLOSHW12', 'SLOSHW14', 'SLOSHW16', 'SLOSHW18']\n",
    "NONWORKING = ['SLOSHNW06', 'SLOSHNW08', 'SLOSHNW10', 'SLOSHNW12', 'SLOSHNW14', 'SLOSHNW16', 'SLOSHNW18']"
   ]
  },
  {
   "cell_type": "markdown",
   "metadata": {},
   "source": [
    "Kolumnerna som står för vågor i SLOSH (alltså t.ex. SLOSHW06) innehåller `NaN` ifall en given variabel inte finns med i vågen. Om variabeln istället *finns* kommer vågkolumnen innehålla en `str`. Varje variabel kan förekomma i högst två kolumner (en SLOSHW och en SLOSHNW). Ifall en given variabel förekommer i *endast en* kolumn, t.ex. **SLOSHW06**, ska variabelns värde i **Enkät** vara `SLOSHW06`."
   ]
  },
  {
   "cell_type": "code",
   "execution_count": 6,
   "metadata": {},
   "outputs": [],
   "source": [
    "for w,nw in zip(WORKING, NONWORKING):\n",
    "    df.loc[(df[w].isna() == False) & (df[nw].isna() == True), ['Enkät']] = w\n",
    "    df.loc[(df[nw].isna() == False) & (df[w].isna() == True), ['Enkät']] = nw"
   ]
  },
  {
   "cell_type": "code",
   "execution_count": 7,
   "metadata": {},
   "outputs": [
    {
     "data": {
      "text/plain": [
       "SLOSHW06       1210\n",
       "SLOSHW08        889\n",
       "w+n             748\n",
       "SLOSHW10        669\n",
       "SLOSHW12        579\n",
       "SLOSHW14        567\n",
       "SLOSHW16        517\n",
       "SLOSHW18        426\n",
       "SLOSHNW08       307\n",
       "working         181\n",
       "SLOSHNW12       160\n",
       "SLOSHNW14       130\n",
       "SLOSHNW16       106\n",
       "SLOSHNW18        75\n",
       "SLOSHNW10        41\n",
       "non-working      34\n",
       "SLOSHNW06        24\n",
       "Name: Enkät, dtype: int64"
      ]
     },
     "execution_count": 7,
     "metadata": {},
     "output_type": "execute_result"
    }
   ],
   "source": [
    "df['Enkät'].value_counts()"
   ]
  },
  {
   "cell_type": "markdown",
   "metadata": {},
   "source": [
    "Frekvenstabellen visar att det finns tre värden i **Enkät** för vilka tillhörande variabler förekommer i två vågkolumner. Detta är oväntat. Alla variabler som förekommer i två vågor ska egentligen ha **Enkät**-värdet `w+n`. Alltså har vi (någonstans) dokumneterat fel. Tillsvidare får dessa variabler, som borde vara `w+n`, **Enkät**-värdet `oklar`."
   ]
  },
  {
   "cell_type": "code",
   "execution_count": 8,
   "metadata": {},
   "outputs": [],
   "source": [
    "df.loc[(df['Enkät'] == 'working') | (df['Enkät'] == 'non-working'), ['Enkät']] = 'oklar'"
   ]
  },
  {
   "cell_type": "markdown",
   "metadata": {},
   "source": [
    "Samla namn på alla variabler där **Enkät** $ = $ `oklar` så att de enkelt går att leta upp i excelfilen och rätta till."
   ]
  },
  {
   "cell_type": "code",
   "execution_count": 55,
   "metadata": {},
   "outputs": [],
   "source": [
    "a = [df.loc[i, 'Namn'] for i in df[df['Enkät'] == 'oklar'].index]"
   ]
  },
  {
   "cell_type": "code",
   "execution_count": 9,
   "metadata": {},
   "outputs": [],
   "source": [
    "oklar = set([df.loc[i, 'Namn'] for i in df[df['Enkät'] == 'oklar'].index])"
   ]
  },
  {
   "cell_type": "code",
   "execution_count": 10,
   "metadata": {},
   "outputs": [
    {
     "data": {
      "text/plain": [
       "43"
      ]
     },
     "execution_count": 10,
     "metadata": {},
     "output_type": "execute_result"
    }
   ],
   "source": [
    "len(oklar)"
   ]
  },
  {
   "cell_type": "code",
   "execution_count": 48,
   "metadata": {},
   "outputs": [
    {
     "data": {
      "text/plain": [
       "{'capacphy_1',\n",
       " 'capacpsy_1',\n",
       " 'decbased_7',\n",
       " 'decchang_7',\n",
       " 'decconse_7',\n",
       " 'decfolup_7',\n",
       " 'decinfor_7',\n",
       " 'decparts_7',\n",
       " 'decright_7',\n",
       " 'empltxt_2',\n",
       " 'infoexer_3',\n",
       " 'infoexer_4',\n",
       " 'infoexer_5',\n",
       " 'infoexer_6',\n",
       " 'infoexer_7',\n",
       " 'infofood_3',\n",
       " 'infofood_4',\n",
       " 'infofood_5',\n",
       " 'infofood_6',\n",
       " 'infofood_7',\n",
       " 'interrup_1',\n",
       " 'manalist_7',\n",
       " 'pleasant_7',\n",
       " 'sick1v_3',\n",
       " 'sick1v_4',\n",
       " 'sick1v_5',\n",
       " 'sick1v_6',\n",
       " 'sick1v_7',\n",
       " 'sickchil_3',\n",
       " 'sickchil_4',\n",
       " 'sickchil_5',\n",
       " 'sickchil_6',\n",
       " 'sickchil_7',\n",
       " 'sickmore_3',\n",
       " 'sickmore_4',\n",
       " 'sickmore_5',\n",
       " 'sickmore_6',\n",
       " 'sickmore_7',\n",
       " 'sickwork_3',\n",
       " 'stranswe_7',\n",
       " 'strcompu_7',\n",
       " 'strinterr_7',\n",
       " 'strphone_7'}"
      ]
     },
     "execution_count": 48,
     "metadata": {},
     "output_type": "execute_result"
    }
   ],
   "source": [
    "oklar"
   ]
  },
  {
   "cell_type": "markdown",
   "metadata": {},
   "source": [
    "  ***  \n",
    "## <a id = \"2.2\">2.2 Itemnr</a>  \n",
    "Nu passar **Enkät** in i relationsdatabasen (med undantag för de variabler som är `oklara`). **Itemnr** ska innehålla `str` som för närvarande ligger utspridda i vågkolumnerna i *metadata*. Ett värde i kolumnen kan t.ex. vara `A26_b`. Här är ett förenklat schema som visar relationen mellan **Itemnr** och vågkolumnerna i *metadata*:"
   ]
  },
  {
   "cell_type": "code",
   "execution_count": 11,
   "metadata": {},
   "outputs": [
    {
     "data": {
      "text/html": [
       "<div>\n",
       "<style scoped>\n",
       "    .dataframe tbody tr th:only-of-type {\n",
       "        vertical-align: middle;\n",
       "    }\n",
       "\n",
       "    .dataframe tbody tr th {\n",
       "        vertical-align: top;\n",
       "    }\n",
       "\n",
       "    .dataframe thead th {\n",
       "        text-align: right;\n",
       "    }\n",
       "</style>\n",
       "<table border=\"1\" class=\"dataframe\">\n",
       "  <thead>\n",
       "    <tr style=\"text-align: right;\">\n",
       "      <th></th>\n",
       "      <th>SLOSHW06</th>\n",
       "      <th>SLOSHNW10</th>\n",
       "      <th>SLOSHW16</th>\n",
       "      <th>Itemnr</th>\n",
       "    </tr>\n",
       "  </thead>\n",
       "  <tbody>\n",
       "    <tr>\n",
       "      <th>0</th>\n",
       "      <td>A25</td>\n",
       "      <td>NaN</td>\n",
       "      <td>Nan</td>\n",
       "      <td>A25</td>\n",
       "    </tr>\n",
       "    <tr>\n",
       "      <th>1</th>\n",
       "      <td>NaN</td>\n",
       "      <td>B23</td>\n",
       "      <td>Nan</td>\n",
       "      <td>B23</td>\n",
       "    </tr>\n",
       "    <tr>\n",
       "      <th>2</th>\n",
       "      <td>NaN</td>\n",
       "      <td>NaN</td>\n",
       "      <td>C13</td>\n",
       "      <td>C13</td>\n",
       "    </tr>\n",
       "  </tbody>\n",
       "</table>\n",
       "</div>"
      ],
      "text/plain": [
       "  SLOSHW06 SLOSHNW10 SLOSHW16 Itemnr\n",
       "0      A25       NaN      Nan    A25\n",
       "1      NaN       B23      Nan    B23\n",
       "2      NaN       NaN      C13    C13"
      ]
     },
     "execution_count": 11,
     "metadata": {},
     "output_type": "execute_result"
    }
   ],
   "source": [
    "pd.DataFrame([['A25', 'NaN', 'Nan', 'A25'], ['NaN', 'B23', 'Nan', 'B23'], ['NaN', 'NaN', 'C13', 'C13']], \n",
    "             columns = ['SLOSHW06', 'SLOSHNW10', 'SLOSHW16', 'Itemnr'])"
   ]
  },
  {
   "cell_type": "markdown",
   "metadata": {},
   "source": [
    "Först skapas en ny kolumn som får namnet \"Itemnr\", kolumnen fylls med `NaN`."
   ]
  },
  {
   "cell_type": "code",
   "execution_count": 12,
   "metadata": {},
   "outputs": [],
   "source": [
    "df['Itemnr'] = np.nan"
   ]
  },
  {
   "cell_type": "markdown",
   "metadata": {},
   "source": [
    "Proceduren för att välja ut rätt itemnummer illustreras i exemplet nedan.  \n",
    "***  \n",
    "  <span style=\"color:red\">**Exempel**"
   ]
  },
  {
   "cell_type": "code",
   "execution_count": 13,
   "metadata": {},
   "outputs": [],
   "source": [
    "d = pd.DataFrame([[1,2,3], [4,5,6], [1,8,9]], columns = ['A', 'B', 'C'])\n",
    "d['test'] = 0"
   ]
  },
  {
   "cell_type": "code",
   "execution_count": 14,
   "metadata": {},
   "outputs": [
    {
     "data": {
      "text/html": [
       "<div>\n",
       "<style scoped>\n",
       "    .dataframe tbody tr th:only-of-type {\n",
       "        vertical-align: middle;\n",
       "    }\n",
       "\n",
       "    .dataframe tbody tr th {\n",
       "        vertical-align: top;\n",
       "    }\n",
       "\n",
       "    .dataframe thead th {\n",
       "        text-align: right;\n",
       "    }\n",
       "</style>\n",
       "<table border=\"1\" class=\"dataframe\">\n",
       "  <thead>\n",
       "    <tr style=\"text-align: right;\">\n",
       "      <th></th>\n",
       "      <th>A</th>\n",
       "      <th>B</th>\n",
       "      <th>C</th>\n",
       "      <th>test</th>\n",
       "    </tr>\n",
       "  </thead>\n",
       "  <tbody>\n",
       "    <tr>\n",
       "      <th>0</th>\n",
       "      <td>1</td>\n",
       "      <td>2</td>\n",
       "      <td>3</td>\n",
       "      <td>0</td>\n",
       "    </tr>\n",
       "    <tr>\n",
       "      <th>1</th>\n",
       "      <td>4</td>\n",
       "      <td>5</td>\n",
       "      <td>6</td>\n",
       "      <td>0</td>\n",
       "    </tr>\n",
       "    <tr>\n",
       "      <th>2</th>\n",
       "      <td>1</td>\n",
       "      <td>8</td>\n",
       "      <td>9</td>\n",
       "      <td>0</td>\n",
       "    </tr>\n",
       "  </tbody>\n",
       "</table>\n",
       "</div>"
      ],
      "text/plain": [
       "   A  B  C  test\n",
       "0  1  2  3     0\n",
       "1  4  5  6     0\n",
       "2  1  8  9     0"
      ]
     },
     "execution_count": 14,
     "metadata": {},
     "output_type": "execute_result"
    }
   ],
   "source": [
    "d"
   ]
  },
  {
   "cell_type": "code",
   "execution_count": 15,
   "metadata": {},
   "outputs": [
    {
     "data": {
      "text/html": [
       "<div>\n",
       "<style scoped>\n",
       "    .dataframe tbody tr th:only-of-type {\n",
       "        vertical-align: middle;\n",
       "    }\n",
       "\n",
       "    .dataframe tbody tr th {\n",
       "        vertical-align: top;\n",
       "    }\n",
       "\n",
       "    .dataframe thead th {\n",
       "        text-align: right;\n",
       "    }\n",
       "</style>\n",
       "<table border=\"1\" class=\"dataframe\">\n",
       "  <thead>\n",
       "    <tr style=\"text-align: right;\">\n",
       "      <th></th>\n",
       "      <th>A</th>\n",
       "      <th>B</th>\n",
       "      <th>C</th>\n",
       "      <th>test</th>\n",
       "    </tr>\n",
       "  </thead>\n",
       "  <tbody>\n",
       "    <tr>\n",
       "      <th>0</th>\n",
       "      <td>1</td>\n",
       "      <td>2</td>\n",
       "      <td>3</td>\n",
       "      <td>2</td>\n",
       "    </tr>\n",
       "    <tr>\n",
       "      <th>1</th>\n",
       "      <td>4</td>\n",
       "      <td>5</td>\n",
       "      <td>6</td>\n",
       "      <td>0</td>\n",
       "    </tr>\n",
       "    <tr>\n",
       "      <th>2</th>\n",
       "      <td>1</td>\n",
       "      <td>8</td>\n",
       "      <td>9</td>\n",
       "      <td>8</td>\n",
       "    </tr>\n",
       "  </tbody>\n",
       "</table>\n",
       "</div>"
      ],
      "text/plain": [
       "   A  B  C  test\n",
       "0  1  2  3     2\n",
       "1  4  5  6     0\n",
       "2  1  8  9     8"
      ]
     },
     "execution_count": 15,
     "metadata": {},
     "output_type": "execute_result"
    }
   ],
   "source": [
    "d.loc[d['A'] == 1, ['test']] = d['B']\n",
    "d"
   ]
  },
  {
   "cell_type": "markdown",
   "metadata": {},
   "source": [
    "<span style=\"color:red\">**Exempel slut**  \n",
    "***"
   ]
  },
  {
   "cell_type": "markdown",
   "metadata": {},
   "source": [
    "Loopen nedan går igenom vågkolumnerna i *metadata*. Om en variabel har fått värdet `SLOSHW06` i **Enkät** kommer värdet för samma variabel i vågkolumnen **SLOSHW06** att bli variabelns värde i den nya kolumnen **Itemnr**."
   ]
  },
  {
   "cell_type": "code",
   "execution_count": 16,
   "metadata": {},
   "outputs": [],
   "source": [
    "for w, nw in zip(WORKING, NONWORKING):\n",
    "    df.loc[df['Enkät'] == w, ['Itemnr']] = df[w]\n",
    "    df.loc[df['Enkät'] == nw, ['Itemnr']] = df[nw]"
   ]
  },
  {
   "cell_type": "markdown",
   "metadata": {},
   "source": [
    "Varabler med **Enkät** `oklar` ges **Itemr** `oklar`. "
   ]
  },
  {
   "cell_type": "code",
   "execution_count": 17,
   "metadata": {},
   "outputs": [],
   "source": [
    "df.loc[df['Enkät'] == 'oklar', ['Itemnr']] = 'oklar'"
   ]
  },
  {
   "cell_type": "markdown",
   "metadata": {},
   "source": [
    "Gör en `value_counts` för att se att någon frekvenstabell i *metadata* hamnat på fel ställe. De sista sju värdena är definitivt inte itemnummer. Förmodligen har den här frekvenstabellen förskjutits någon kolumn..."
   ]
  },
  {
   "cell_type": "code",
   "execution_count": 47,
   "metadata": {},
   "outputs": [
    {
     "data": {
      "text/html": [
       "<div>\n",
       "<style scoped>\n",
       "    .dataframe tbody tr th:only-of-type {\n",
       "        vertical-align: middle;\n",
       "    }\n",
       "\n",
       "    .dataframe tbody tr th {\n",
       "        vertical-align: top;\n",
       "    }\n",
       "\n",
       "    .dataframe thead th {\n",
       "        text-align: right;\n",
       "    }\n",
       "</style>\n",
       "<table border=\"1\" class=\"dataframe\">\n",
       "  <thead>\n",
       "    <tr style=\"text-align: right;\">\n",
       "      <th></th>\n",
       "      <th>Namn</th>\n",
       "      <th>Tidsserie</th>\n",
       "      <th>Beskrivning</th>\n",
       "      <th>Enkät</th>\n",
       "      <th>Dubbelkodning</th>\n",
       "      <th>Enkättext</th>\n",
       "      <th>From</th>\n",
       "      <th>Tom</th>\n",
       "      <th>Kodlista</th>\n",
       "      <th>From.1</th>\n",
       "      <th>...</th>\n",
       "      <th>SLOSHNW12</th>\n",
       "      <th>frek.10</th>\n",
       "      <th>SLOSHNW14</th>\n",
       "      <th>frek.11</th>\n",
       "      <th>SLOSHNW16</th>\n",
       "      <th>frek.12</th>\n",
       "      <th>SLOSHNW18</th>\n",
       "      <th>frek.13</th>\n",
       "      <th>Itemnr</th>\n",
       "      <th>Frekvens</th>\n",
       "    </tr>\n",
       "  </thead>\n",
       "  <tbody>\n",
       "    <tr>\n",
       "      <th>3678</th>\n",
       "      <td>keyboard_1</td>\n",
       "      <td>NaN</td>\n",
       "      <td>NaN</td>\n",
       "      <td>SLOSHW08</td>\n",
       "      <td>NaN</td>\n",
       "      <td>Fysisk arbetsmiljö @ Hur stor del av arbetstid...</td>\n",
       "      <td>2006</td>\n",
       "      <td>NaN</td>\n",
       "      <td>helatiden1</td>\n",
       "      <td>2006</td>\n",
       "      <td>...</td>\n",
       "      <td>NaN</td>\n",
       "      <td>NaN</td>\n",
       "      <td>NaN</td>\n",
       "      <td>NaN</td>\n",
       "      <td>NaN</td>\n",
       "      <td>NaN</td>\n",
       "      <td>NaN</td>\n",
       "      <td>NaN</td>\n",
       "      <td>686</td>\n",
       "      <td>471.0</td>\n",
       "    </tr>\n",
       "  </tbody>\n",
       "</table>\n",
       "<p>1 rows × 50 columns</p>\n",
       "</div>"
      ],
      "text/plain": [
       "            Namn  Tidsserie  Beskrivning     Enkät  Dubbelkodning  \\\n",
       "3678  keyboard_1        NaN          NaN  SLOSHW08            NaN   \n",
       "\n",
       "                                              Enkättext  From  Tom  \\\n",
       "3678  Fysisk arbetsmiljö @ Hur stor del av arbetstid...  2006  NaN   \n",
       "\n",
       "        Kodlista  From.1  ...  SLOSHNW12 frek.10 SLOSHNW14  frek.11  \\\n",
       "3678  helatiden1    2006  ...        NaN     NaN       NaN      NaN   \n",
       "\n",
       "      SLOSHNW16 frek.12  SLOSHNW18  frek.13  Itemnr  Frekvens  \n",
       "3678        NaN     NaN        NaN      NaN     686     471.0  \n",
       "\n",
       "[1 rows x 50 columns]"
      ]
     },
     "execution_count": 47,
     "metadata": {},
     "output_type": "execute_result"
    }
   ],
   "source": [
    "df[df['Itemnr'] == 686]"
   ]
  },
  {
   "cell_type": "code",
   "execution_count": 18,
   "metadata": {},
   "outputs": [
    {
     "data": {
      "text/plain": [
       "oklar      215\n",
       "27          47\n",
       "29          41\n",
       "7_b         37\n",
       "4           33\n",
       "7_a         32\n",
       "7_c         30\n",
       "11_b        29\n",
       "2           28\n",
       "31_d        28\n",
       "11_a        28\n",
       "31_c        27\n",
       "51_c        26\n",
       "51_b        26\n",
       "19_a        26\n",
       "47_a        25\n",
       "28          25\n",
       "51_a        25\n",
       "41          24\n",
       "20          24\n",
       "7_e         23\n",
       "25_b        23\n",
       "7_f         23\n",
       "7_d         23\n",
       "7_g         23\n",
       "25_a        23\n",
       "46_a        22\n",
       "28_b        22\n",
       "28_a        22\n",
       "7_i         22\n",
       "          ... \n",
       "A44_a        3\n",
       "A1_h         3\n",
       "A1_g         3\n",
       "A34          3\n",
       "A44_b        3\n",
       "A52_a        3\n",
       "A45          2\n",
       "A61_txt      2\n",
       "3_txt        2\n",
       "1_txt        2\n",
       "A64          2\n",
       "A54_txt      2\n",
       "A50_txt      2\n",
       "A20_txt      2\n",
       "A63          2\n",
       "A46          2\n",
       "A47          2\n",
       "49           2\n",
       "A52_b        2\n",
       "6_a_txt      2\n",
       "58_a         2\n",
       "61_a         2\n",
       "A56_txt      2\n",
       "686          1\n",
       "638          1\n",
       "915          1\n",
       "1205         1\n",
       "599          1\n",
       "1009         1\n",
       "89           1\n",
       "Name: Itemnr, Length: 680, dtype: int64"
      ]
     },
     "execution_count": 18,
     "metadata": {},
     "output_type": "execute_result"
    }
   ],
   "source": [
    "df['Itemnr'].value_counts()"
   ]
  },
  {
   "cell_type": "markdown",
   "metadata": {},
   "source": [
    "***  \n",
    "## <a id = \"2.3\">2.3 Frekvens</a>  \n",
    "Kolumnen med frekvenser görs på ungefär samma sätt som **Itemnr**. I *metadata* ligger en frekvenskolumn intill varje vågkolumn. Exempelvis åtföljs **SLOSHW06** av en kolumn som rymmer frekvenser för de variabler som förekommer i **SLOSHW06**. De variabler som *inte* förekommer i **SLOSHW06** har värdet `NaN`i samma frekvenskolumn.  \n",
    "  \n",
    "Skapa först en ny kolumn med namnet **Frekvens** och fyll den med `NaN`.\n"
   ]
  },
  {
   "cell_type": "code",
   "execution_count": 19,
   "metadata": {},
   "outputs": [],
   "source": [
    "df['Frekvens'] = np.nan"
   ]
  },
  {
   "cell_type": "markdown",
   "metadata": {},
   "source": [
    "Skapa två listor, en för arbetande och en för icke-arbetande, och fyll dessa med namnen på frekvenskolumnerna från *metadata*."
   ]
  },
  {
   "cell_type": "code",
   "execution_count": 20,
   "metadata": {},
   "outputs": [],
   "source": [
    "WORKFREK = ['frek', 'frek.1', 'frek.2', 'frek.3', 'frek.4', 'frek.5', 'frek.6']\n",
    "NONWORKFREK = ['frek.7', 'frek.8', 'frek.9', 'frek.10', 'frek.11', 'frek.12', 'frek.13']"
   ]
  },
  {
   "cell_type": "markdown",
   "metadata": {},
   "source": [
    "Loopen nedan går igenom frekvenskolumnerna i *metadata*. De variabler som har frekvenser för högst en våg får detta värde i den nya frekvenskolumnen. De variabler som har frekvenser i två vågor, alltså de som i *metadata* är `w+n` samt ej är dubbelkodade, får tillsvidare `NaN` i den nya frekvenskolumnen. Anledningen är att det i avsnittet [Enkät](#2.2) antyds att vissa variabler är feldokumenterade."
   ]
  },
  {
   "cell_type": "code",
   "execution_count": 21,
   "metadata": {},
   "outputs": [],
   "source": [
    "for w, nw in zip(WORKFREK, NONWORKFREK):\n",
    "    df.loc[(df[w].isna() == False) & (df[nw].isna() == True), ['Frekvens']] = df[w]\n",
    "    df.loc[(df[nw].isna() == False) & (df[w].isna() == True), ['Frekvens']] = df[nw]"
   ]
  },
  {
   "cell_type": "markdown",
   "metadata": {},
   "source": [
    "***  \n",
    "# <a id = \"3\">3. Tabeller</a>  \n",
    "I det här avnittet kommer tabellerna (förutom de som rör tidsserier och begrepp, se [introduktionen](#1)) till relationsdatabasen att skapas. Först tabellen *Variabler* (som är störst). Därefter *Frekvenstabeller*, *Enkättexter*, *Kodlistor*, *Svarstexter* och till sist *Kodlistor_stor*. "
   ]
  },
  {
   "cell_type": "markdown",
   "metadata": {},
   "source": [
    "***  \n",
    "## <a id = \"3.1\">3.1 Variabler</a>  \n",
    "Den här tabellen ska innehålla kolumnerna **Variabel**, **Enkät**, **Beskrivning**, **Itemnr**, **Enkättext** och **Kodlista**. Samtliga kolumner finns redan i *metadata* (numera `df`), dock kallas **Variabel** där för **Namn** och måste därför döpas om. "
   ]
  },
  {
   "cell_type": "code",
   "execution_count": 22,
   "metadata": {},
   "outputs": [],
   "source": [
    "Variabler = df[['Namn', 'Enkät', 'Beskrivning', 'Itemnr', 'Enkättext', 'Kodlista']]\n",
    "Variabler = Variabler.rename({'Namn': 'Variabel'}, axis = 'columns')"
   ]
  },
  {
   "cell_type": "markdown",
   "metadata": {},
   "source": [
    "Värden i **Variabel** ska vara unika."
   ]
  },
  {
   "cell_type": "code",
   "execution_count": 23,
   "metadata": {},
   "outputs": [],
   "source": [
    "Variabler.drop_duplicates(['Variabel'], inplace = True)"
   ]
  },
  {
   "cell_type": "markdown",
   "metadata": {},
   "source": [
    "***  \n",
    "## <a id = \"3.2\">3.2 Frekvenstabeller</a>  \n",
    "Kolumnerna är **V_id**, **Variabel**, **Enkät**, **Kod** och **Frekvens**."
   ]
  },
  {
   "cell_type": "code",
   "execution_count": 24,
   "metadata": {},
   "outputs": [],
   "source": [
    "Frekvenstabeller = df[['Namn', 'Enkät', 'Kod', 'Frekvens']]\n",
    "Frekvenstabeller = Frekvenstabeller.rename({'Namn': 'Variabel'}, axis = 'columns')"
   ]
  },
  {
   "cell_type": "markdown",
   "metadata": {},
   "source": [
    "**V_id** är huvudnyckel i tabellen, därför räcker det att döpa om index."
   ]
  },
  {
   "cell_type": "code",
   "execution_count": 25,
   "metadata": {},
   "outputs": [],
   "source": [
    "Frekvenstabeller.index.name = 'V_id'"
   ]
  },
  {
   "cell_type": "markdown",
   "metadata": {},
   "source": [
    "***  \n",
    "## <a id = \"3.3\">3.3 Enkättexter</a>  \n",
    "Består endast av **Enkättext** och **Källa**. Eventuellt bör **Enkättext** göras till index eftersom den är huvudnyckel i tabellen."
   ]
  },
  {
   "cell_type": "code",
   "execution_count": 26,
   "metadata": {},
   "outputs": [],
   "source": [
    "Enkättexter = df[['Enkättext', 'Källa']]\n",
    "Enkättexter.set_index('Enkättext', inplace = True)"
   ]
  },
  {
   "cell_type": "markdown",
   "metadata": {},
   "source": [
    "***  \n",
    "## <a id = \"3.4\">3.4 Kodlistor</a>  \n",
    "Består av **Kodlista** (nyckel) samt **From.1** och **Tom.1**. Notera att de sista klolumnerna blivit omdöpta automatiskt vid inläsning av *metadata*. "
   ]
  },
  {
   "cell_type": "code",
   "execution_count": 27,
   "metadata": {},
   "outputs": [],
   "source": [
    "Kodlistor = df[['Kodlista', 'From.1', 'Tom.1']]\n",
    "Kodlistor.set_index('Kodlista', inplace = True)"
   ]
  },
  {
   "cell_type": "markdown",
   "metadata": {},
   "source": [
    "***  \n",
    "## <a id = \"3.5\">3.5 Svarstexter</a>  \n",
    "Består av **Svarstext** (nyckel) samt **From** och **Tom**. Den första kolumnen heter **Text** i *metadata* och döps därför om. "
   ]
  },
  {
   "cell_type": "code",
   "execution_count": 28,
   "metadata": {},
   "outputs": [
    {
     "name": "stderr",
     "output_type": "stream",
     "text": [
      "C:\\ProgramData\\Anaconda3\\lib\\site-packages\\pandas\\core\\frame.py:4025: SettingWithCopyWarning: \n",
      "A value is trying to be set on a copy of a slice from a DataFrame\n",
      "\n",
      "See the caveats in the documentation: http://pandas.pydata.org/pandas-docs/stable/indexing.html#indexing-view-versus-copy\n",
      "  return super(DataFrame, self).rename(**kwargs)\n"
     ]
    }
   ],
   "source": [
    "Svarstexter = df[['Text', 'From', 'Tom']]\n",
    "Svarstexter.rename(columns = {'Text':'Svarstext'}, inplace = True)\n",
    "Svarstexter.set_index('Svarstext', inplace = True)"
   ]
  },
  {
   "cell_type": "markdown",
   "metadata": {},
   "source": [
    "***  \n",
    "## <a id = \"3.6\">3.6 Kodlistor_stor</a>  \n",
    "Den här tabellen ska innehålla kodlistornas namn i kombination med deras kod och svarstext. Varje sådan kombination ska endast förekomma en gång. Börja med att skära ut kolumnerna **Kodlista**, **Kod** och **Text** ur *metadata*."
   ]
  },
  {
   "cell_type": "code",
   "execution_count": 29,
   "metadata": {},
   "outputs": [
    {
     "data": {
      "text/html": [
       "<div>\n",
       "<style scoped>\n",
       "    .dataframe tbody tr th:only-of-type {\n",
       "        vertical-align: middle;\n",
       "    }\n",
       "\n",
       "    .dataframe tbody tr th {\n",
       "        vertical-align: top;\n",
       "    }\n",
       "\n",
       "    .dataframe thead th {\n",
       "        text-align: right;\n",
       "    }\n",
       "</style>\n",
       "<table border=\"1\" class=\"dataframe\">\n",
       "  <thead>\n",
       "    <tr style=\"text-align: right;\">\n",
       "      <th></th>\n",
       "      <th>Kodlista</th>\n",
       "      <th>Kod</th>\n",
       "      <th>Text</th>\n",
       "    </tr>\n",
       "  </thead>\n",
       "  <tbody>\n",
       "    <tr>\n",
       "      <th>0</th>\n",
       "      <td>janej1</td>\n",
       "      <td>1</td>\n",
       "      <td>Ja</td>\n",
       "    </tr>\n",
       "    <tr>\n",
       "      <th>1</th>\n",
       "      <td>janej1</td>\n",
       "      <td>2</td>\n",
       "      <td>Nej</td>\n",
       "    </tr>\n",
       "    <tr>\n",
       "      <th>2</th>\n",
       "      <td>janej1</td>\n",
       "      <td>.</td>\n",
       "      <td>Missing</td>\n",
       "    </tr>\n",
       "    <tr>\n",
       "      <th>3</th>\n",
       "      <td>omfattning1</td>\n",
       "      <td>1</td>\n",
       "      <td>Mycket högre</td>\n",
       "    </tr>\n",
       "    <tr>\n",
       "      <th>4</th>\n",
       "      <td>omfattning1</td>\n",
       "      <td>2</td>\n",
       "      <td>Något högre</td>\n",
       "    </tr>\n",
       "  </tbody>\n",
       "</table>\n",
       "</div>"
      ],
      "text/plain": [
       "      Kodlista Kod          Text\n",
       "0       janej1   1            Ja\n",
       "1       janej1   2           Nej\n",
       "2       janej1   .       Missing\n",
       "3  omfattning1   1  Mycket högre\n",
       "4  omfattning1   2   Något högre"
      ]
     },
     "execution_count": 29,
     "metadata": {},
     "output_type": "execute_result"
    }
   ],
   "source": [
    "d = df[['Kodlista', 'Kod', 'Text']]  \n",
    "d.head(5)"
   ]
  },
  {
   "cell_type": "markdown",
   "metadata": {},
   "source": [
    "I den här mindre tabellen förekommer vissa kodlistor flera gånger. För att identifiera dubletter behövs en slags räknare. Börja med att lägga till en ny kolumn fylld med `0`. Kalla kolumnen för **K_id**."
   ]
  },
  {
   "cell_type": "code",
   "execution_count": 30,
   "metadata": {
    "scrolled": true
   },
   "outputs": [
    {
     "name": "stderr",
     "output_type": "stream",
     "text": [
      "C:\\ProgramData\\Anaconda3\\lib\\site-packages\\pandas\\core\\indexing.py:362: SettingWithCopyWarning: \n",
      "A value is trying to be set on a copy of a slice from a DataFrame.\n",
      "Try using .loc[row_indexer,col_indexer] = value instead\n",
      "\n",
      "See the caveats in the documentation: http://pandas.pydata.org/pandas-docs/stable/indexing.html#indexing-view-versus-copy\n",
      "  self.obj[key] = _infer_fill_value(value)\n",
      "C:\\ProgramData\\Anaconda3\\lib\\site-packages\\pandas\\core\\indexing.py:543: SettingWithCopyWarning: \n",
      "A value is trying to be set on a copy of a slice from a DataFrame.\n",
      "Try using .loc[row_indexer,col_indexer] = value instead\n",
      "\n",
      "See the caveats in the documentation: http://pandas.pydata.org/pandas-docs/stable/indexing.html#indexing-view-versus-copy\n",
      "  self.obj[item] = s\n"
     ]
    },
    {
     "data": {
      "text/html": [
       "<div>\n",
       "<style scoped>\n",
       "    .dataframe tbody tr th:only-of-type {\n",
       "        vertical-align: middle;\n",
       "    }\n",
       "\n",
       "    .dataframe tbody tr th {\n",
       "        vertical-align: top;\n",
       "    }\n",
       "\n",
       "    .dataframe thead th {\n",
       "        text-align: right;\n",
       "    }\n",
       "</style>\n",
       "<table border=\"1\" class=\"dataframe\">\n",
       "  <thead>\n",
       "    <tr style=\"text-align: right;\">\n",
       "      <th></th>\n",
       "      <th>Kodlista</th>\n",
       "      <th>Kod</th>\n",
       "      <th>Text</th>\n",
       "      <th>K_id</th>\n",
       "    </tr>\n",
       "  </thead>\n",
       "  <tbody>\n",
       "    <tr>\n",
       "      <th>0</th>\n",
       "      <td>janej1</td>\n",
       "      <td>1</td>\n",
       "      <td>Ja</td>\n",
       "      <td>0</td>\n",
       "    </tr>\n",
       "    <tr>\n",
       "      <th>1</th>\n",
       "      <td>janej1</td>\n",
       "      <td>2</td>\n",
       "      <td>Nej</td>\n",
       "      <td>0</td>\n",
       "    </tr>\n",
       "    <tr>\n",
       "      <th>2</th>\n",
       "      <td>janej1</td>\n",
       "      <td>.</td>\n",
       "      <td>Missing</td>\n",
       "      <td>0</td>\n",
       "    </tr>\n",
       "    <tr>\n",
       "      <th>3</th>\n",
       "      <td>omfattning1</td>\n",
       "      <td>1</td>\n",
       "      <td>Mycket högre</td>\n",
       "      <td>0</td>\n",
       "    </tr>\n",
       "    <tr>\n",
       "      <th>4</th>\n",
       "      <td>omfattning1</td>\n",
       "      <td>2</td>\n",
       "      <td>Något högre</td>\n",
       "      <td>0</td>\n",
       "    </tr>\n",
       "  </tbody>\n",
       "</table>\n",
       "</div>"
      ],
      "text/plain": [
       "      Kodlista Kod          Text  K_id\n",
       "0       janej1   1            Ja     0\n",
       "1       janej1   2           Nej     0\n",
       "2       janej1   .       Missing     0\n",
       "3  omfattning1   1  Mycket högre     0\n",
       "4  omfattning1   2   Något högre     0"
      ]
     },
     "execution_count": 30,
     "metadata": {},
     "output_type": "execute_result"
    }
   ],
   "source": [
    "d.loc[:, 'K_id'] = 0\n",
    "d.head(5)"
   ]
  },
  {
   "cell_type": "markdown",
   "metadata": {},
   "source": [
    "**K_id** ska vara unik för varje kombination. Loopen nedan ökar **K_id** med `1` varje gång den passerar en kombination. En kombination identifieras genom att dess sista rad alltid har svarstexten `Missing`."
   ]
  },
  {
   "cell_type": "code",
   "execution_count": 31,
   "metadata": {},
   "outputs": [],
   "source": [
    "for id in range(1, len(d['K_id'])):\n",
    "    if d.iloc[id-1, 2] == 'Missing':\n",
    "        d.iloc[id: , 3] = d.iloc[id: , 3] + 1"
   ]
  },
  {
   "cell_type": "markdown",
   "metadata": {},
   "source": [
    "Loopen nedan lägger varje kodlista i listan `behåll` endast en gång. Varje gång en kodlista läggs i `behåll` lägger loopen tillhörande **K_id** i listan `unikid`. Denna andra lista innehåller alltså alla unika förekomster av kombinationer."
   ]
  },
  {
   "cell_type": "code",
   "execution_count": 32,
   "metadata": {},
   "outputs": [],
   "source": [
    "unikid = []\n",
    "behåll = []\n",
    "for id in range(len(d['K_id'])):\n",
    "    if d.iloc[id, 0] not in behåll:\n",
    "        unikid.append(d.iloc[id, 3])\n",
    "        behåll.append(d.iloc[id, 0])\n",
    "        "
   ]
  },
  {
   "cell_type": "markdown",
   "metadata": {},
   "source": [
    "Tills sist skapas tabellen *Kodlistor_stor* genom att endast ha med de rader för vilka **K_id** återfinns i listan `unikid`."
   ]
  },
  {
   "cell_type": "code",
   "execution_count": 33,
   "metadata": {},
   "outputs": [],
   "source": [
    "Kodlistor_stor = d.loc[d['K_id'].isin(unikid)]"
   ]
  },
  {
   "cell_type": "markdown",
   "metadata": {},
   "source": [
    "Gör om **K_id** till ett index så att den kan agera nyckel i tabellen. "
   ]
  },
  {
   "cell_type": "code",
   "execution_count": 34,
   "metadata": {},
   "outputs": [],
   "source": [
    "Kodlistor_stor.loc[:, 'K_id'] = Kodlistor_stor.index\n",
    "Kodlistor_stor.set_index('K_id', inplace = True)"
   ]
  },
  {
   "cell_type": "markdown",
   "metadata": {},
   "source": [
    "***  \n",
    "<span style=\"color:dodgerblue; font-family:freestyle script; font-size:3em\">SKISS</span>"
   ]
  },
  {
   "cell_type": "markdown",
   "metadata": {},
   "source": [
    "Variabler för vilka enkät = `w+n` och dubbelkodning = `Nan` har två frekvenstabeller efter varandra i radledd. I det här avsnittet kommer sådana frekvenstabeller, som alltså ligger till höger om (i kolumnledd) variabeln ifråga, att flyttas ner. Variabeln kommer att kopieras och infogas direkt under sig själv. I det övre läget kommer endast frekventabell för arbetande att förekomma, och i det undre ska frekvenstabellen för icke-arbetande ligga.  "
   ]
  },
  {
   "cell_type": "markdown",
   "metadata": {},
   "source": [
    "<img src=\"bild.png\" style=\"width:1000px;height:400px\"/>"
   ]
  },
  {
   "cell_type": "markdown",
   "metadata": {},
   "source": [
    "### Förkortningar\n",
    "* $ V = $ kombination av rader med samma variabelnamn samt **Enkät** $ = $ `w+n` och **Dubbelkodning** $ = $ `NaN`\n",
    "* $ v = $ första raden i något $ V $  \n",
    "* $D = V + D'$  \n",
    "* $D' = D - V$  \n",
    "* $d = $ första raden i något $ D $  \n",
    "* $DV = D + V$"
   ]
  },
  {
   "cell_type": "markdown",
   "metadata": {},
   "source": [
    "Läs in *metadata* i en ny `DataFrame` eftersom **Enkät** har blivit ändrad. Identifiera radnummer för de variabler som har **Enkät** = `w+n` samt **Dubbelkodning** = `NaN`. Varje kombination av rader som uppfyller detta villkor och som har samma variabelnamn kallas för $V$."
   ]
  },
  {
   "cell_type": "code",
   "execution_count": 35,
   "metadata": {},
   "outputs": [],
   "source": [
    "df1 = pd.read_excel('Metadata.xlsx')\n",
    "\n",
    "df2 = df1[(df1.loc[:, 'Enkät'] == 'w+n') & (df1.loc[:, 'Dubbelkodning'].isna() == True)]"
   ]
  },
  {
   "cell_type": "markdown",
   "metadata": {},
   "source": [
    "Notera att avståndet mellan index för dessa rader inte längre måste vara 1 (som i ett vanligt index). Skapa därför en ny kolumn och lägg index till de utvalda raderna där, det blir enklare att loopa över ett \"vanligt\" index (0, 1, 2, 3, 4, ...) senare."
   ]
  },
  {
   "cell_type": "code",
   "execution_count": 36,
   "metadata": {},
   "outputs": [
    {
     "name": "stderr",
     "output_type": "stream",
     "text": [
      "C:\\ProgramData\\Anaconda3\\lib\\site-packages\\ipykernel_launcher.py:1: SettingWithCopyWarning: \n",
      "A value is trying to be set on a copy of a slice from a DataFrame.\n",
      "Try using .loc[row_indexer,col_indexer] = value instead\n",
      "\n",
      "See the caveats in the documentation: http://pandas.pydata.org/pandas-docs/stable/indexing.html#indexing-view-versus-copy\n",
      "  \"\"\"Entry point for launching an IPython kernel.\n"
     ]
    }
   ],
   "source": [
    "df2['id'] = df2.index"
   ]
  },
  {
   "cell_type": "markdown",
   "metadata": {},
   "source": [
    "Välj ut det första radnummret $v$ för varje $V$. I den här loopen refererar kolumn 0 till **Namn** och -1 till **id**."
   ]
  },
  {
   "cell_type": "code",
   "execution_count": 37,
   "metadata": {},
   "outputs": [],
   "source": [
    "namn = []\n",
    "v = []\n",
    "\n",
    "for i in df2.index:\n",
    "    if df2.loc[i, 'Namn'] not in namn:\n",
    "        namn.append(df2.loc[i, 'Namn'])\n",
    "        v.append(df2.loc[i, 'id'])"
   ]
  },
  {
   "cell_type": "markdown",
   "metadata": {},
   "source": [
    "Låt $n$ vara antalet $V$. Tabellen *metadata* måste delas upp i $n$ delar ($D$). Varje $D$ består av $V$ samt $D' = D-V$. Varje $D$ har en första rad som kallas $d$. Ifall två $V$ följer efter varandra i *metadata* kommer $D'$ vara tomt. För vissa $D$ kommer alltså $d$ och $v$ sammanfalla.  \n",
    "Den första $d$ i *metadata* är såklart `0`. Välj ut resterande $d$ genom att hitta den första rad efter $v$ i vilken variabelnamnet ändras.  "
   ]
  },
  {
   "cell_type": "code",
   "execution_count": 38,
   "metadata": {},
   "outputs": [],
   "source": [
    "d = [0]\n",
    "\n",
    "for i in v:\n",
    "    for j in range(i+1, len(df1.loc[:, 'Namn'])):\n",
    "        if df1.loc[j, 'Namn'] != df1.loc[j-1, 'Namn']:\n",
    "            d.append(j)\n",
    "            break"
   ]
  },
  {
   "cell_type": "markdown",
   "metadata": {},
   "source": [
    "Nu finns en lista med samtliga $d$. Skapa en lista `e` som är precis som `d` fast utan det första elementet och med ett extra element i slutet. varje par $(d, e)$ utgör nu första respektive sista rad i något $D$."
   ]
  },
  {
   "cell_type": "code",
   "execution_count": 39,
   "metadata": {},
   "outputs": [],
   "source": [
    "e = d[1:]\n",
    "e.append(len(df1.iloc[:, 0]))"
   ]
  },
  {
   "cell_type": "markdown",
   "metadata": {},
   "source": [
    "Skär ut samtliga $D$ och lägg i en lista."
   ]
  },
  {
   "cell_type": "code",
   "execution_count": 40,
   "metadata": {},
   "outputs": [],
   "source": [
    "D = [df1.iloc[i:j, :] for i, j in zip(d, e)]"
   ]
  },
  {
   "cell_type": "markdown",
   "metadata": {},
   "source": [
    "Gå igenom samtliga $D$ och ersätt samtliga värden i frekvenstabellerna i listan `NONWORKFREK` med `NaN`."
   ]
  },
  {
   "cell_type": "code",
   "execution_count": 41,
   "metadata": {},
   "outputs": [],
   "source": [
    "for i, j in zip(D, v):\n",
    "    for k in NONWORKFREK:\n",
    "        i.loc[j:, k] = np.nan        "
   ]
  },
  {
   "cell_type": "markdown",
   "metadata": {},
   "source": [
    "På samma sätt utgör $(v, e)$ första respektive sista rad i $V$. Skär ut samtliga $V$ och lägg i en lista."
   ]
  },
  {
   "cell_type": "code",
   "execution_count": 42,
   "metadata": {},
   "outputs": [],
   "source": [
    "V = [df1.iloc[i:j, :] for i, j in zip(v, e)]"
   ]
  },
  {
   "cell_type": "markdown",
   "metadata": {},
   "source": [
    "Gå igenom samtliga $V$ och ersätt samtliga värden i frekvenstabellerna listan `WORKFREK` med `NaN`."
   ]
  },
  {
   "cell_type": "code",
   "execution_count": 43,
   "metadata": {},
   "outputs": [],
   "source": [
    "for i in V:\n",
    "    for j in WORKFREK:\n",
    "        i.loc[:, j] = np.nan"
   ]
  },
  {
   "cell_type": "markdown",
   "metadata": {},
   "source": [
    "Nu ska varje $D$ sammanfogas i radledd med sitt tillhörande $V$. Spara resultatet i listan `DV` ."
   ]
  },
  {
   "cell_type": "code",
   "execution_count": 44,
   "metadata": {},
   "outputs": [],
   "source": [
    "DV = [pd.concat([i, j]) for i, j in zip(D, V)]"
   ]
  },
  {
   "cell_type": "markdown",
   "metadata": {},
   "source": [
    "Notera att det verkar finnas, längst ner i *metadata*, ett stycke $D$ som inte har något $V$. Detta går att se genom att jämföra längden på listan `D` med listan `V`. Listan `D` har ett element mer än `V`. Eftersom listorna är av olika längd kommer det sista elementet i `D` att undantas från sammanslagning i föregående rad. Lägg därför detta element från `D` längst bak i `DV`."
   ]
  },
  {
   "cell_type": "code",
   "execution_count": 45,
   "metadata": {},
   "outputs": [],
   "source": [
    "DV.append(D[-1])"
   ]
  },
  {
   "cell_type": "markdown",
   "metadata": {},
   "source": [
    "Sammanfonga nu samtliga element i `DV` i radledd och skapa ett nytt index."
   ]
  },
  {
   "cell_type": "code",
   "execution_count": 46,
   "metadata": {},
   "outputs": [],
   "source": [
    "df3 = pd.concat(DV, ignore_index = True)"
   ]
  }
 ],
 "metadata": {
  "celltoolbar": "Raw Cell Format",
  "kernelspec": {
   "display_name": "Python 3",
   "language": "python",
   "name": "python3"
  },
  "language_info": {
   "codemirror_mode": {
    "name": "ipython",
    "version": 3
   },
   "file_extension": ".py",
   "mimetype": "text/x-python",
   "name": "python",
   "nbconvert_exporter": "python",
   "pygments_lexer": "ipython3",
   "version": "3.7.3"
  }
 },
 "nbformat": 4,
 "nbformat_minor": 2
}

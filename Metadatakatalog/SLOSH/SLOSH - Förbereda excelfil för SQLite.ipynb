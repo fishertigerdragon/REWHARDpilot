{
 "cells": [
  {
   "cell_type": "markdown",
   "metadata": {},
   "source": [
    "# <span style=\"color:lightcoral; font-family:freestyle script; font-size:4em\">SLOSH till relationsdatabas</span> <br><span style=\"color:black; font-family:freestyle script; font-size:3em\">Förbereda färdig metadata för SQLite</span>\n",
    "***"
   ]
  },
  {
   "cell_type": "markdown",
   "metadata": {},
   "source": [
    "# Innehållsförteckning  \n",
    "1. [Introduktion](#1)  \n",
    "2. [Ny kolumn: Itemnr](#2)  \n",
    "3. [Tabeller](#3)  \n",
    "    3.1 [Variabler](#3.1)  \n",
    "    3.2 [Frekvenstabell](#3.2)  \n",
    "    3.3 [Enkättexter](#3.3)  \n",
    "    3.4 [Kodlistor](#3.4)  \n",
    "    3.5 [Svarstexter](#3.5)  \n",
    "    3.6 [Kodlistor_stor](#3.6)\n",
    "\n",
    "***"
   ]
  },
  {
   "cell_type": "markdown",
   "metadata": {},
   "source": [
    "# <a id = \"1\">1. Introduktion</a>  \n",
    "I vad som följer kommer kursiv stil endast användas för att benämna *tabeller*. Fetstil kommer endast användas för att benämna **kolumner**, och värden i en kolumn kommer att vara i stil med (t.ex.) `SLOSHW08`, `Missing`, `142`. Även datatyper (t.ex. `str` eller `float64`) och pythonobjekt (t.ex. listor) kommer att ha denna formatering. Den metadata som redan är dokumenterad enligt Vetenskapsrådets riktlinjer ligger i excelfilen *metadata*. Några av tabellerna i relationsdatabsen innehåller kolumner som inte finns i denna fil. Dessa kolumner skapas allt eftersom. Därefter kommer följande tabeller att skapas:  \n",
    "\n",
    "|Variabler|Enkättexter|Kodlistor|Svarstexter|Kodlistor_stor|  \n",
    "|:---:|---|---|---|---|\n",
    "|Variabel|Enkättext|Kodlista|Svarstext|K_id|  \n",
    "|Enkät|Källa|From|From|Kodlista|  \n",
    "|Beskrivning|-|Tom|Tom|Kod|  \n",
    "|Itemnr|-|-|-|Svarstext|  \n",
    "|Enkättext|-|-|-|-|  \n",
    "|Kodlista|-|-|-|-|  \n",
    "  \n",
    "  \n",
    "Relationsdatabasen kommmer att innehålla ytterligare fem tabeller. Dessa är *Frekvenstabell*, *Begrepp*, *Begrepp_stor*, *Tidsserie* samt *Tidsserie_stor*. För tillfället finns ingen data till dessa tabeller i *metadata* och därför kommer de inte skapas här. Det finns dock data för *Frekvenstabell* men den är inte tillförlitlig och går snabbt att återskapa från SLOSH-datafilen."
   ]
  },
  {
   "cell_type": "code",
   "execution_count": 1,
   "metadata": {},
   "outputs": [],
   "source": [
    "import numpy as np\n",
    "import pandas as pd"
   ]
  },
  {
   "cell_type": "code",
   "execution_count": 2,
   "metadata": {},
   "outputs": [],
   "source": [
    "df = pd.read_excel('Metadata.xlsx')"
   ]
  },
  {
   "cell_type": "markdown",
   "metadata": {},
   "source": [
    "För att ta fram *Kodlista_stor* används `missing` i **text**. I *metadata* stavas `Missing` ibland med \"M\" och ibland med \"m\"(`missing`). Python läser detta som olika `str`, därför ersätts liten bokstav med stor."
   ]
  },
  {
   "cell_type": "code",
   "execution_count": 3,
   "metadata": {},
   "outputs": [],
   "source": [
    "df.replace('missing', 'Missing', inplace = True)"
   ]
  },
  {
   "cell_type": "code",
   "execution_count": 4,
   "metadata": {
    "scrolled": true
   },
   "outputs": [
    {
     "data": {
      "text/plain": [
       "Index(['Namn', 'Tidsserie', 'Beskrivning', 'Enkät', 'Dubbelkodning',\n",
       "       'Enkättext', 'From', 'Tom', 'Kodlista', 'From.1', 'Tom.1', 'Kod',\n",
       "       'Text', 'From.2', 'Tom.2', 'Koncept 1', 'Koncept 2', 'Instrument 1',\n",
       "       'Instrument 2', 'Källa', 'SLOSHW06', 'frek', 'SLOSHW08', 'frek.1',\n",
       "       'SLOSHW10', 'frek.2', 'SLOSHW12', 'frek.3', 'SLOSHW14', 'frek.4',\n",
       "       'SLOSHW16', 'frek.5', 'SLOSHW18', 'frek.6', 'SLOSHNW06', 'frek.7',\n",
       "       'SLOSHNW08', 'frek.8', 'SLOSHNW10', 'frek.9', 'SLOSHNW12', 'frek.10',\n",
       "       'SLOSHNW14', 'frek.11', 'SLOSHNW16', 'frek.12', 'SLOSHNW18', 'frek.13'],\n",
       "      dtype='object')"
      ]
     },
     "execution_count": 4,
     "metadata": {},
     "output_type": "execute_result"
    }
   ],
   "source": [
    "df.columns"
   ]
  },
  {
   "cell_type": "markdown",
   "metadata": {},
   "source": [
    "***  \n",
    "# <a id = \"3\">3. Tabeller</a>  \n",
    "I det här avnittet kommer tabellerna (förutom de som rör tidsserier och begrepp, se [introduktionen](#1)) till relationsdatabasen att skapas. Först tabellen *Variabler* (som är störst). Därefter *Enkättexter*, *Kodlistor*, *Svarstexter* och till sist *Kodlistor_stor*."
   ]
  },
  {
   "cell_type": "markdown",
   "metadata": {},
   "source": [
    "***  \n",
    "## <a id = \"3.1\">3.1 Variabler</a>  \n",
    "Den här tabellen ska innehålla kolumnerna **Variabel**, **Enkät**, **Beskrivning**, **Itemnr**, **Enkättext** och **Kodlista**. Samtliga kolumner finns redan i *metadata* (numera `df`), dock kallas **Variabel** där för **Namn** och måste därför döpas om. Även **Enkät** måste ändras. Istället för `working` ska det stå t.ex. `SLOSH 06 working` (på samma sätt för `non-working`. Ifall värdet är `w+n` ska variabelns första förekomst ha ett `working`-värde medan det andra ska ha ett `non-working`-värde. Detta eftersom excelfil är sådan att `working`-version av en variabel, t.ex. `promoted_4`, alltid kommer före `non-working`-versionen av densamma. "
   ]
  },
  {
   "cell_type": "code",
   "execution_count": 5,
   "metadata": {},
   "outputs": [],
   "source": [
    "Variabler = df[['Namn', 'Enkät', 'Dubbelkodning', 'Beskrivning', 'Enkättext', 'Kodlista',\n",
    "               'SLOSHW06', 'frek', 'SLOSHW08', 'frek.1', 'SLOSHW10', 'frek.2', 'SLOSHW12', 'frek.3', \n",
    "                'SLOSHW14', 'frek.4', 'SLOSHW16', 'frek.5', 'SLOSHW18', 'frek.6', 'SLOSHNW06', 'frek.7',\n",
    "               'SLOSHNW08', 'frek.8', 'SLOSHNW10', 'frek.9', 'SLOSHNW12', 'frek.10',\n",
    "               'SLOSHNW14', 'frek.11', 'SLOSHNW16', 'frek.12', 'SLOSHNW18', 'frek.13']]\n",
    "\n",
    "Variabler = Variabler.rename({'Namn': 'Variabel'}, axis = 'columns')"
   ]
  },
  {
   "cell_type": "markdown",
   "metadata": {},
   "source": [
    "Variabler som är dubbelkodade har enkätvärdet `w+n`. Dubbelkodning innebär att de inte är helt identiska, antingen med avseende på kodlista eller enkättext. Här ersätts `w+n` med `working` (första förekomst per variabel) och `non-working` (andra förekomst per variabel)."
   ]
  },
  {
   "cell_type": "code",
   "execution_count": 6,
   "metadata": {},
   "outputs": [],
   "source": [
    "for i in Variabler.index:\n",
    "    \n",
    "    # om dubbelkodning = 1\n",
    "    if Variabler.iloc[i, 2] == 1:\n",
    "        \n",
    "        # ändra enkätvärdet till \"working\"\n",
    "        Variabler.iloc[i, 1] = 'working'\n",
    "        \n",
    "        # ändra enkätvärde för nästa variabel till non-working (eftersom working alltid ligger före n-working)\n",
    "        Variabler.iloc[i+1, 1] = 'non-working'\n",
    "        \n",
    "        # För att nästkommande variabel ska undantas måste dess värde i dubbelkodning ändras från 1 till ngt annat\n",
    "        Variabler.iloc[i+1, 2] = 0"
   ]
  },
  {
   "cell_type": "markdown",
   "metadata": {},
   "source": [
    "De variabler som inte är dubbelkodade måste identifieras. En dataframe som sträcker sig fram till varje sådan rad kommer att skäras ut tillsammans med raden ifråga. Detta läggs i en lista som sedan sammanfogas till en ny dataframe. På så vis \"dubbleras\" varje variabel som är `w+n` men samtidigt inte dubbelkodad."
   ]
  },
  {
   "cell_type": "code",
   "execution_count": 7,
   "metadata": {},
   "outputs": [],
   "source": [
    "# Listan som alla delar läggs i.\n",
    "a = []\n",
    "\n",
    "# startpunkten för alla snitt som ska göras. Startunkten uppdateras i loopen.\n",
    "b = 0\n",
    "\n",
    "# gå igenom varje rad\n",
    "for i in Variabler.index:\n",
    "    \n",
    "    # identifiera \"w+n\"\n",
    "    if Variabler.iloc[i, 1] == 'w+n':\n",
    "        \n",
    "        # sätt enkätvärdet till \"working\"\n",
    "        Variabler.iloc[i, 1] = 'working'\n",
    "        \n",
    "        # skär ut en dataframe\n",
    "        a.append(Variabler.iloc[b:i+1, :])\n",
    "        \n",
    "        # gör raden till en series\n",
    "        c = Variabler.iloc[i, ]\n",
    "        \n",
    "        # gör om till en dataframe och transponera\n",
    "        c = c.to_frame().transpose()\n",
    "        \n",
    "        # sätt enkätvärdet till \"non-working\"\n",
    "        c['Enkät'] = 'non-working'\n",
    "        \n",
    "        # lägg till i listan med delar       \n",
    "        a.append(c)\n",
    "        # uppdatera startpunkten för nästa dataframe som ska skäras ut\n",
    "        b = i+1\n",
    "\n",
    "# sammanfoga alla delar\n",
    "Variabler = pd.concat(a, ignore_index = True)\n",
    "    "
   ]
  },
  {
   "cell_type": "markdown",
   "metadata": {},
   "source": [
    "Nu ersätts enkätvärden `working` och `non-working` med vågspecifika motsvarigheter. För att åstadkomma detta kan den sista symbolen i varje variabelnamn, som alltid är en siffra mellan 1-7, omvandlas till det årtal då data samlats in. Variabeln promoted_4 samlades in 2012 och ska således ha enkätvärdet `SLOSH 12 working` (p.s.s. non-working). Låt siffrorna 1, 2, ..., 7 stå för vågornas ordningsföljd. Årtalen är 6, 8,..., 18. Sambandet mellan dessa talföljder ges således av  \n",
    "  \n",
    "  $ År = 3*(våg-1)-(våg-1)$ "
   ]
  },
  {
   "cell_type": "code",
   "execution_count": 8,
   "metadata": {},
   "outputs": [],
   "source": [
    "for i in Variabler.index:\n",
    "    \n",
    "    # radens enkätvärde\n",
    "    enkät = Variabler.iloc[i, 1]\n",
    "    \n",
    "    # radens namnvärde\n",
    "    namn = Variabler.iloc[i, 0]\n",
    "    \n",
    "    # vågnummret ges av sista symbolen i namnet.\n",
    "    våg = int(namn[-1])\n",
    "    \n",
    "    # Årtal kan sedan räknas ut enligt sambandet ovan.\n",
    "    år = str(3*(våg+1) - (våg - 1))\n",
    "    \n",
    "    # Ifall årtalet är ett ental ska det föregås av 0\n",
    "    if len(år) == 1:\n",
    "        år = '0{}'.format(år)\n",
    "    \n",
    "    # Översättning av working\n",
    "    if enkät == 'working':\n",
    "        Variabler.iloc[i, 1] = 'SLOSH {} working'.format(år)\n",
    "    \n",
    "    # Översättning av non-working\n",
    "    if enkät == 'non-working':\n",
    "        Variabler.iloc[i, 1] = 'SLOSH {} non-working'.format(år)"
   ]
  },
  {
   "cell_type": "markdown",
   "metadata": {},
   "source": [
    "Notera att 1 och 0 är kvar i kolumnen **Dubbelkodning**."
   ]
  },
  {
   "cell_type": "markdown",
   "metadata": {},
   "source": [
    "Nu ska kolumnen **Itemnr** skapas. Först två listor med \"working\"- respektive \"non-working\"-kolumner skapas."
   ]
  },
  {
   "cell_type": "code",
   "execution_count": 9,
   "metadata": {},
   "outputs": [],
   "source": [
    "WORKING = ['SLOSHW06', 'SLOSHW08', 'SLOSHW10', 'SLOSHW12', 'SLOSHW14', 'SLOSHW16', 'SLOSHW18']\n",
    "\n",
    "NONWORKING = ['SLOSHNW06', 'SLOSHNW08', 'SLOSHNW10', 'SLOSHNW12', 'SLOSHNW14', 'SLOSHNW16', 'SLOSHNW18']"
   ]
  },
  {
   "cell_type": "markdown",
   "metadata": {},
   "source": [
    "Skapa en ny kolumn, kalla den för \"Itemnr\" och fyll den med `NaN`."
   ]
  },
  {
   "cell_type": "code",
   "execution_count": 10,
   "metadata": {},
   "outputs": [],
   "source": [
    "Variabler['Itemnr'] = np.nan"
   ]
  },
  {
   "cell_type": "markdown",
   "metadata": {},
   "source": [
    "I dessa kolumner förekommer ett itemnr ifall en given variabel hör till vågen ifråga. I annat fall är det `NaN`. Varje rad har värden i högst en vågkolumn (t.ex. **SLOSHW06**). Detta värde kopieras och läggs i **Itemnr**. "
   ]
  },
  {
   "cell_type": "code",
   "execution_count": 11,
   "metadata": {},
   "outputs": [],
   "source": [
    "for w, nw in zip(WORKING, NONWORKING):\n",
    "    \n",
    "    Variabler.loc[Variabler[w].isna() == False, ['Itemnr']] = Variabler[w]\n",
    "    Variabler.loc[Variabler[nw].isna() == False, ['Itemnr']] = Variabler[nw]"
   ]
  },
  {
   "cell_type": "markdown",
   "metadata": {},
   "source": [
    "Ta bort alla överflödiga kolumner."
   ]
  },
  {
   "cell_type": "code",
   "execution_count": 12,
   "metadata": {},
   "outputs": [],
   "source": [
    "Variabler.drop(Variabler.columns[6:34], axis = 1, inplace = True)"
   ]
  },
  {
   "cell_type": "markdown",
   "metadata": {},
   "source": [
    "Varje par av **Variabel** och **Enkät** ska endast förekomma en gång i *Variabler*. Skär ut dessa två kolumner och hitta den första förekomsten av varje par och lägg tillhörande index i en lista."
   ]
  },
  {
   "cell_type": "code",
   "execution_count": 13,
   "metadata": {},
   "outputs": [],
   "source": [
    "behåll = list(Variabler.iloc[:, :2].drop_duplicates().index)"
   ]
  },
  {
   "cell_type": "markdown",
   "metadata": {},
   "source": [
    "Nu skapas komplementet till `behåll`."
   ]
  },
  {
   "cell_type": "code",
   "execution_count": 14,
   "metadata": {},
   "outputs": [],
   "source": [
    "kasta = [i for i in Variabler.index if i not in behåll]"
   ]
  },
  {
   "cell_type": "markdown",
   "metadata": {},
   "source": [
    "Här kastas alla rader som förekommer i komplementet till `behåll`."
   ]
  },
  {
   "cell_type": "code",
   "execution_count": 15,
   "metadata": {},
   "outputs": [],
   "source": [
    "Variabler.drop(kasta, inplace = True)"
   ]
  },
  {
   "cell_type": "markdown",
   "metadata": {},
   "source": [
    "Index är måste återställas."
   ]
  },
  {
   "cell_type": "code",
   "execution_count": 16,
   "metadata": {},
   "outputs": [],
   "source": [
    "Variabler.reset_index(inplace = True)"
   ]
  },
  {
   "cell_type": "code",
   "execution_count": 17,
   "metadata": {},
   "outputs": [],
   "source": [
    "Variabler.drop(['index'], axis = 1, inplace = True)"
   ]
  },
  {
   "cell_type": "code",
   "execution_count": 18,
   "metadata": {},
   "outputs": [
    {
     "data": {
      "text/html": [
       "<div>\n",
       "<style scoped>\n",
       "    .dataframe tbody tr th:only-of-type {\n",
       "        vertical-align: middle;\n",
       "    }\n",
       "\n",
       "    .dataframe tbody tr th {\n",
       "        vertical-align: top;\n",
       "    }\n",
       "\n",
       "    .dataframe thead th {\n",
       "        text-align: right;\n",
       "    }\n",
       "</style>\n",
       "<table border=\"1\" class=\"dataframe\">\n",
       "  <thead>\n",
       "    <tr style=\"text-align: right;\">\n",
       "      <th></th>\n",
       "      <th>Variabel</th>\n",
       "      <th>Enkät</th>\n",
       "      <th>Dubbelkodning</th>\n",
       "      <th>Beskrivning</th>\n",
       "      <th>Enkättext</th>\n",
       "      <th>Kodlista</th>\n",
       "      <th>Itemnr</th>\n",
       "    </tr>\n",
       "  </thead>\n",
       "  <tbody>\n",
       "    <tr>\n",
       "      <th>0</th>\n",
       "      <td>promoted_1</td>\n",
       "      <td>SLOSH 06 working</td>\n",
       "      <td>NaN</td>\n",
       "      <td>NaN</td>\n",
       "      <td>Ditt arbete @ Har du befordrats/fått en högre ...</td>\n",
       "      <td>janej1</td>\n",
       "      <td>A1_a</td>\n",
       "    </tr>\n",
       "    <tr>\n",
       "      <th>1</th>\n",
       "      <td>promoted_2</td>\n",
       "      <td>SLOSH 08 working</td>\n",
       "      <td>NaN</td>\n",
       "      <td>NaN</td>\n",
       "      <td>Har du fått en annan tjänsteposition de senast...</td>\n",
       "      <td>omfattning1</td>\n",
       "      <td>4</td>\n",
       "    </tr>\n",
       "    <tr>\n",
       "      <th>2</th>\n",
       "      <td>promoted_3</td>\n",
       "      <td>SLOSH 10 working</td>\n",
       "      <td>NaN</td>\n",
       "      <td>NaN</td>\n",
       "      <td>Har du fått en förändrad tjänsteposition de se...</td>\n",
       "      <td>omfattning2</td>\n",
       "      <td>8</td>\n",
       "    </tr>\n",
       "    <tr>\n",
       "      <th>3</th>\n",
       "      <td>promoted_4</td>\n",
       "      <td>SLOSH 12 working</td>\n",
       "      <td>1.0</td>\n",
       "      <td>NaN</td>\n",
       "      <td>Har du fått en förändrad tjänsteposition under...</td>\n",
       "      <td>omfattning2</td>\n",
       "      <td>4</td>\n",
       "    </tr>\n",
       "    <tr>\n",
       "      <th>4</th>\n",
       "      <td>promoted_4</td>\n",
       "      <td>SLOSH 12 non-working</td>\n",
       "      <td>0.0</td>\n",
       "      <td>NaN</td>\n",
       "      <td>Har du fått en förändrad tjänsteposition under...</td>\n",
       "      <td>omfattning2</td>\n",
       "      <td>4</td>\n",
       "    </tr>\n",
       "  </tbody>\n",
       "</table>\n",
       "</div>"
      ],
      "text/plain": [
       "     Variabel                 Enkät  Dubbelkodning  Beskrivning  \\\n",
       "0  promoted_1      SLOSH 06 working            NaN          NaN   \n",
       "1  promoted_2      SLOSH 08 working            NaN          NaN   \n",
       "2  promoted_3      SLOSH 10 working            NaN          NaN   \n",
       "3  promoted_4      SLOSH 12 working            1.0          NaN   \n",
       "4  promoted_4  SLOSH 12 non-working            0.0          NaN   \n",
       "\n",
       "                                           Enkättext     Kodlista Itemnr  \n",
       "0  Ditt arbete @ Har du befordrats/fått en högre ...       janej1   A1_a  \n",
       "1  Har du fått en annan tjänsteposition de senast...  omfattning1      4  \n",
       "2  Har du fått en förändrad tjänsteposition de se...  omfattning2      8  \n",
       "3  Har du fått en förändrad tjänsteposition under...  omfattning2      4  \n",
       "4  Har du fått en förändrad tjänsteposition under...  omfattning2      4  "
      ]
     },
     "execution_count": 18,
     "metadata": {},
     "output_type": "execute_result"
    }
   ],
   "source": [
    "Variabler.head()"
   ]
  },
  {
   "cell_type": "markdown",
   "metadata": {},
   "source": [
    "***  \n",
    "## <a id = \"3.3\">3.3 Enkättexter</a>  \n",
    "Består endast av **Enkättext** och **Källa**. Eventuellt bör **Enkättext** göras till index eftersom den är huvudnyckel i tabellen."
   ]
  },
  {
   "cell_type": "code",
   "execution_count": 19,
   "metadata": {},
   "outputs": [],
   "source": [
    "Enkättexter = df[['Enkättext', 'Källa']]\n",
    "Enkättexter.set_index('Enkättext', inplace = True)"
   ]
  },
  {
   "cell_type": "markdown",
   "metadata": {},
   "source": [
    "***  \n",
    "## <a id = \"3.4\">3.4 Kodlistor</a>  \n",
    "Består av **Kodlista** (nyckel) samt **From.1** och **Tom.1**. Notera att de sista klolumnerna blivit omdöpta automatiskt vid inläsning av *metadata*. "
   ]
  },
  {
   "cell_type": "code",
   "execution_count": 20,
   "metadata": {},
   "outputs": [],
   "source": [
    "Kodlistor = df[['Kodlista', 'From.1', 'Tom.1']]\n",
    "Kodlistor.set_index('Kodlista', inplace = True)"
   ]
  },
  {
   "cell_type": "markdown",
   "metadata": {},
   "source": [
    "***  \n",
    "## <a id = \"3.5\">3.5 Svarstexter</a>  \n",
    "Består av **Svarstext** (nyckel) samt **From** och **Tom**. Den första kolumnen heter **Text** i *metadata* och döps därför om. "
   ]
  },
  {
   "cell_type": "code",
   "execution_count": 21,
   "metadata": {},
   "outputs": [
    {
     "name": "stderr",
     "output_type": "stream",
     "text": [
      "C:\\ProgramData\\Anaconda3\\lib\\site-packages\\pandas\\core\\frame.py:4025: SettingWithCopyWarning: \n",
      "A value is trying to be set on a copy of a slice from a DataFrame\n",
      "\n",
      "See the caveats in the documentation: http://pandas.pydata.org/pandas-docs/stable/indexing.html#indexing-view-versus-copy\n",
      "  return super(DataFrame, self).rename(**kwargs)\n"
     ]
    }
   ],
   "source": [
    "Svarstexter = df[['Text', 'From', 'Tom']]\n",
    "Svarstexter.rename(columns = {'Text':'Svarstext'}, inplace = True)\n",
    "Svarstexter.set_index('Svarstext', inplace = True)"
   ]
  },
  {
   "cell_type": "markdown",
   "metadata": {},
   "source": [
    "***  \n",
    "## <a id = \"3.6\">3.6 Kodlistor_stor</a>  \n",
    "Den här tabellen ska innehålla kodlistornas namn i kombination med deras kod och svarstext. Varje sådan kombination ska endast förekomma en gång. Börja med att skära ut kolumnerna **Kodlista**, **Kod** och **Text** ur *metadata*."
   ]
  },
  {
   "cell_type": "code",
   "execution_count": 29,
   "metadata": {},
   "outputs": [],
   "source": [
    "e = df[['Kodlista', 'Kod', 'Text']]  "
   ]
  },
  {
   "cell_type": "markdown",
   "metadata": {},
   "source": [
    "Behåll endast unika rader så att varje kodlista endast förekommer en gång."
   ]
  },
  {
   "cell_type": "code",
   "execution_count": 30,
   "metadata": {},
   "outputs": [
    {
     "name": "stderr",
     "output_type": "stream",
     "text": [
      "C:\\ProgramData\\Anaconda3\\lib\\site-packages\\ipykernel_launcher.py:1: SettingWithCopyWarning: \n",
      "A value is trying to be set on a copy of a slice from a DataFrame\n",
      "\n",
      "See the caveats in the documentation: http://pandas.pydata.org/pandas-docs/stable/indexing.html#indexing-view-versus-copy\n",
      "  \"\"\"Entry point for launching an IPython kernel.\n"
     ]
    }
   ],
   "source": [
    "e.drop_duplicates(inplace = True)"
   ]
  },
  {
   "cell_type": "markdown",
   "metadata": {},
   "source": [
    "Återställ index."
   ]
  },
  {
   "cell_type": "code",
   "execution_count": 31,
   "metadata": {},
   "outputs": [],
   "source": [
    "e.reset_index(inplace = True)\n",
    "e.drop(['index'], axis = 1, inplace = True)"
   ]
  },
  {
   "cell_type": "code",
   "execution_count": 38,
   "metadata": {},
   "outputs": [
    {
     "data": {
      "text/html": [
       "<div>\n",
       "<style scoped>\n",
       "    .dataframe tbody tr th:only-of-type {\n",
       "        vertical-align: middle;\n",
       "    }\n",
       "\n",
       "    .dataframe tbody tr th {\n",
       "        vertical-align: top;\n",
       "    }\n",
       "\n",
       "    .dataframe thead th {\n",
       "        text-align: right;\n",
       "    }\n",
       "</style>\n",
       "<table border=\"1\" class=\"dataframe\">\n",
       "  <thead>\n",
       "    <tr style=\"text-align: right;\">\n",
       "      <th></th>\n",
       "      <th>index</th>\n",
       "      <th>Kodlista</th>\n",
       "      <th>Kod</th>\n",
       "      <th>Text</th>\n",
       "    </tr>\n",
       "  </thead>\n",
       "  <tbody>\n",
       "    <tr>\n",
       "      <th>0</th>\n",
       "      <td>0</td>\n",
       "      <td>janej1</td>\n",
       "      <td>1</td>\n",
       "      <td>Ja</td>\n",
       "    </tr>\n",
       "    <tr>\n",
       "      <th>1</th>\n",
       "      <td>1</td>\n",
       "      <td>janej1</td>\n",
       "      <td>2</td>\n",
       "      <td>Nej</td>\n",
       "    </tr>\n",
       "    <tr>\n",
       "      <th>2</th>\n",
       "      <td>2</td>\n",
       "      <td>janej1</td>\n",
       "      <td>.</td>\n",
       "      <td>Missing</td>\n",
       "    </tr>\n",
       "    <tr>\n",
       "      <th>3</th>\n",
       "      <td>3</td>\n",
       "      <td>omfattning1</td>\n",
       "      <td>1</td>\n",
       "      <td>Mycket högre</td>\n",
       "    </tr>\n",
       "    <tr>\n",
       "      <th>4</th>\n",
       "      <td>4</td>\n",
       "      <td>omfattning1</td>\n",
       "      <td>2</td>\n",
       "      <td>Något högre</td>\n",
       "    </tr>\n",
       "    <tr>\n",
       "      <th>5</th>\n",
       "      <td>5</td>\n",
       "      <td>omfattning1</td>\n",
       "      <td>3</td>\n",
       "      <td>Oförändrad</td>\n",
       "    </tr>\n",
       "    <tr>\n",
       "      <th>6</th>\n",
       "      <td>6</td>\n",
       "      <td>omfattning1</td>\n",
       "      <td>4</td>\n",
       "      <td>Något lägre</td>\n",
       "    </tr>\n",
       "    <tr>\n",
       "      <th>7</th>\n",
       "      <td>7</td>\n",
       "      <td>omfattning1</td>\n",
       "      <td>5</td>\n",
       "      <td>Mycket lägre</td>\n",
       "    </tr>\n",
       "    <tr>\n",
       "      <th>8</th>\n",
       "      <td>8</td>\n",
       "      <td>omfattning1</td>\n",
       "      <td>.</td>\n",
       "      <td>Missing</td>\n",
       "    </tr>\n",
       "    <tr>\n",
       "      <th>9</th>\n",
       "      <td>9</td>\n",
       "      <td>omfattning2</td>\n",
       "      <td>1</td>\n",
       "      <td>Högre</td>\n",
       "    </tr>\n",
       "    <tr>\n",
       "      <th>10</th>\n",
       "      <td>10</td>\n",
       "      <td>omfattning2</td>\n",
       "      <td>2</td>\n",
       "      <td>Oförändrad</td>\n",
       "    </tr>\n",
       "    <tr>\n",
       "      <th>11</th>\n",
       "      <td>11</td>\n",
       "      <td>omfattning2</td>\n",
       "      <td>3</td>\n",
       "      <td>Lägre</td>\n",
       "    </tr>\n",
       "    <tr>\n",
       "      <th>12</th>\n",
       "      <td>12</td>\n",
       "      <td>omfattning2</td>\n",
       "      <td>.</td>\n",
       "      <td>Missing</td>\n",
       "    </tr>\n",
       "    <tr>\n",
       "      <th>13</th>\n",
       "      <td>21</td>\n",
       "      <td>omfattning3_1</td>\n",
       "      <td>1</td>\n",
       "      <td>Ja, högre</td>\n",
       "    </tr>\n",
       "    <tr>\n",
       "      <th>14</th>\n",
       "      <td>22</td>\n",
       "      <td>omfattning3_1</td>\n",
       "      <td>2</td>\n",
       "      <td>Nej, oförändrad</td>\n",
       "    </tr>\n",
       "    <tr>\n",
       "      <th>15</th>\n",
       "      <td>23</td>\n",
       "      <td>omfattning3_1</td>\n",
       "      <td>3</td>\n",
       "      <td>Ja, lägre</td>\n",
       "    </tr>\n",
       "    <tr>\n",
       "      <th>16</th>\n",
       "      <td>24</td>\n",
       "      <td>omfattning3_1</td>\n",
       "      <td>&gt;11</td>\n",
       "      <td>slask</td>\n",
       "    </tr>\n",
       "    <tr>\n",
       "      <th>17</th>\n",
       "      <td>25</td>\n",
       "      <td>omfattning3_1</td>\n",
       "      <td>.</td>\n",
       "      <td>Missing</td>\n",
       "    </tr>\n",
       "    <tr>\n",
       "      <th>18</th>\n",
       "      <td>35</td>\n",
       "      <td>omfattning2_1</td>\n",
       "      <td>1</td>\n",
       "      <td>Högre</td>\n",
       "    </tr>\n",
       "    <tr>\n",
       "      <th>19</th>\n",
       "      <td>36</td>\n",
       "      <td>omfattning2_1</td>\n",
       "      <td>2</td>\n",
       "      <td>Oförändrad</td>\n",
       "    </tr>\n",
       "  </tbody>\n",
       "</table>\n",
       "</div>"
      ],
      "text/plain": [
       "    index       Kodlista  Kod             Text\n",
       "0       0         janej1    1               Ja\n",
       "1       1         janej1    2              Nej\n",
       "2       2         janej1    .          Missing\n",
       "3       3    omfattning1    1     Mycket högre\n",
       "4       4    omfattning1    2      Något högre\n",
       "5       5    omfattning1    3       Oförändrad\n",
       "6       6    omfattning1    4      Något lägre\n",
       "7       7    omfattning1    5     Mycket lägre\n",
       "8       8    omfattning1    .          Missing\n",
       "9       9    omfattning2    1            Högre\n",
       "10     10    omfattning2    2       Oförändrad\n",
       "11     11    omfattning2    3            Lägre\n",
       "12     12    omfattning2    .          Missing\n",
       "13     21  omfattning3_1    1        Ja, högre\n",
       "14     22  omfattning3_1    2  Nej, oförändrad\n",
       "15     23  omfattning3_1    3        Ja, lägre\n",
       "16     24  omfattning3_1  >11            slask\n",
       "17     25  omfattning3_1    .          Missing\n",
       "18     35  omfattning2_1    1            Högre\n",
       "19     36  omfattning2_1    2       Oförändrad"
      ]
     },
     "execution_count": 38,
     "metadata": {},
     "output_type": "execute_result"
    }
   ],
   "source": [
    "e.head(20)"
   ]
  }
 ],
 "metadata": {
  "celltoolbar": "Raw Cell Format",
  "kernelspec": {
   "display_name": "Python 3",
   "language": "python",
   "name": "python3"
  },
  "language_info": {
   "codemirror_mode": {
    "name": "ipython",
    "version": 3
   },
   "file_extension": ".py",
   "mimetype": "text/x-python",
   "name": "python",
   "nbconvert_exporter": "python",
   "pygments_lexer": "ipython3",
   "version": "3.7.3"
  }
 },
 "nbformat": 4,
 "nbformat_minor": 2
}

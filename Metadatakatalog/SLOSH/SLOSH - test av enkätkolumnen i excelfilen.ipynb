{
 "cells": [
  {
   "cell_type": "code",
   "execution_count": 1,
   "metadata": {},
   "outputs": [],
   "source": [
    "import pandas as pd"
   ]
  },
  {
   "cell_type": "markdown",
   "metadata": {},
   "source": [
    "Läser in SLOSH-data för att kunna titta på frekvenstabeller."
   ]
  },
  {
   "cell_type": "code",
   "execution_count": 2,
   "metadata": {},
   "outputs": [],
   "source": [
    "fil = r'\\\\win.su.se\\dfs\\common\\stressforskning.su.se\\SLOSH-data\\SLOSH och AMU\\SLOSH\\Enkätdata\\SLOSH (Huvudfil, t.o.m. 2018)\\Test\\Slosh_all_amuar_18.xlsx'\n",
    "\n",
    "df1 = pd.read_excel(fil)"
   ]
  },
  {
   "cell_type": "markdown",
   "metadata": {},
   "source": [
    "Läser in excelfilen som jag och Martin gjort."
   ]
  },
  {
   "cell_type": "code",
   "execution_count": 3,
   "metadata": {},
   "outputs": [],
   "source": [
    "df2 = pd.read_excel('Metadata.xlsx')"
   ]
  },
  {
   "cell_type": "markdown",
   "metadata": {},
   "source": [
    "Skapar en lista med de unika förekomster av variabelnamn från `df2.Namn`."
   ]
  },
  {
   "cell_type": "code",
   "execution_count": 4,
   "metadata": {},
   "outputs": [],
   "source": [
    "univ = list(df2.Namn.unique())"
   ]
  },
  {
   "cell_type": "markdown",
   "metadata": {},
   "source": [
    "Skapar en lista med värden från `df2.Enkät` för varje värde i listan `univ`."
   ]
  },
  {
   "cell_type": "code",
   "execution_count": 5,
   "metadata": {},
   "outputs": [],
   "source": [
    "univenk1 = [df2.loc[df2['Namn'] == variabel, 'Enkät'].iloc[0] for variabel in univ]"
   ]
  },
  {
   "cell_type": "markdown",
   "metadata": {},
   "source": [
    "Testar så att listorna har samma längd."
   ]
  },
  {
   "cell_type": "code",
   "execution_count": 6,
   "metadata": {},
   "outputs": [
    {
     "data": {
      "text/plain": [
       "True"
      ]
     },
     "execution_count": 6,
     "metadata": {},
     "output_type": "execute_result"
    }
   ],
   "source": [
    "len(univ) == len(univenk1)"
   ]
  },
  {
   "cell_type": "markdown",
   "metadata": {},
   "source": [
    "Skapar en `df3` som är en dataframe med `univ` och `univenk1` som kolumner."
   ]
  },
  {
   "cell_type": "code",
   "execution_count": 7,
   "metadata": {},
   "outputs": [
    {
     "data": {
      "text/html": [
       "<div>\n",
       "<style scoped>\n",
       "    .dataframe tbody tr th:only-of-type {\n",
       "        vertical-align: middle;\n",
       "    }\n",
       "\n",
       "    .dataframe tbody tr th {\n",
       "        vertical-align: top;\n",
       "    }\n",
       "\n",
       "    .dataframe thead th {\n",
       "        text-align: right;\n",
       "    }\n",
       "</style>\n",
       "<table border=\"1\" class=\"dataframe\">\n",
       "  <thead>\n",
       "    <tr style=\"text-align: right;\">\n",
       "      <th></th>\n",
       "      <th>Univ</th>\n",
       "      <th>Univenk1</th>\n",
       "    </tr>\n",
       "  </thead>\n",
       "  <tbody>\n",
       "    <tr>\n",
       "      <th>0</th>\n",
       "      <td>promoted_1</td>\n",
       "      <td>working</td>\n",
       "    </tr>\n",
       "    <tr>\n",
       "      <th>1</th>\n",
       "      <td>promoted_2</td>\n",
       "      <td>working</td>\n",
       "    </tr>\n",
       "    <tr>\n",
       "      <th>2</th>\n",
       "      <td>promoted_3</td>\n",
       "      <td>working</td>\n",
       "    </tr>\n",
       "    <tr>\n",
       "      <th>3</th>\n",
       "      <td>promoted_4</td>\n",
       "      <td>w+n</td>\n",
       "    </tr>\n",
       "    <tr>\n",
       "      <th>4</th>\n",
       "      <td>promoted_5</td>\n",
       "      <td>w+n</td>\n",
       "    </tr>\n",
       "  </tbody>\n",
       "</table>\n",
       "</div>"
      ],
      "text/plain": [
       "         Univ Univenk1\n",
       "0  promoted_1  working\n",
       "1  promoted_2  working\n",
       "2  promoted_3  working\n",
       "3  promoted_4      w+n\n",
       "4  promoted_5      w+n"
      ]
     },
     "execution_count": 7,
     "metadata": {},
     "output_type": "execute_result"
    }
   ],
   "source": [
    "df3 = pd.DataFrame.from_dict({'Univ': univ, 'Univenk1': univenk1})\n",
    "df3.head()"
   ]
  },
  {
   "cell_type": "markdown",
   "metadata": {},
   "source": [
    "Nu skapar jag en funktion som tar en SLOSH-variabel och ser ifall den finns i working, non-working eller i båda."
   ]
  },
  {
   "cell_type": "code",
   "execution_count": 8,
   "metadata": {},
   "outputs": [],
   "source": [
    "def villkor(x):\n",
    "    \n",
    "    # sista symbolen i variabelnamn är vågnumret\n",
    "    r = 'r_{}'.format(x[-1])\n",
    "    \n",
    "    # frekvenstabell för working\n",
    "    w_frek = df1[df1[r] == 2][x].value_counts(dropna = False)\n",
    "    \n",
    "    # frekvenstabell för non-working\n",
    "    nw_frek = df1[df1[r] == 1][x].value_counts(dropna = False)\n",
    "    \n",
    "    # w-frek finns men inte nw_frek\n",
    "    if (len(w_frek) > 1) & (len(nw_frek) == 1):\n",
    "        return 'working'\n",
    "    \n",
    "    # nw-frek finns men inte w_frek\n",
    "    elif (len(w_frek) == 1) & (len(nw_frek) > 1):\n",
    "        return 'non-working'\n",
    "    \n",
    "    # båda finns\n",
    "    elif (len(w_frek) > 1) & (len(nw_frek) > 1):\n",
    "        return 'w+n'\n",
    "    \n",
    "    # ingen finns\n",
    "    else:\n",
    "        return '?'"
   ]
  },
  {
   "cell_type": "markdown",
   "metadata": {},
   "source": [
    "Skapar en lista till med hjälp av funktionen ovan. Denna lista skapas av information från SLOSH-datafilen och ska tjäna som ett facit för `univenk1` som är skapad från excelfilen."
   ]
  },
  {
   "cell_type": "code",
   "execution_count": 9,
   "metadata": {},
   "outputs": [],
   "source": [
    "univenk2 = [villkor(variabel) for variabel in univ]"
   ]
  },
  {
   "cell_type": "markdown",
   "metadata": {},
   "source": [
    "Lägg till `univenk2` som en kolumn i `df3`."
   ]
  },
  {
   "cell_type": "code",
   "execution_count": 10,
   "metadata": {},
   "outputs": [],
   "source": [
    "df3['Univenk2'] = univenk2"
   ]
  },
  {
   "cell_type": "markdown",
   "metadata": {},
   "source": [
    "Skapa en ny kolumn i `df3` och fyll den med \"nej\"."
   ]
  },
  {
   "cell_type": "code",
   "execution_count": 11,
   "metadata": {},
   "outputs": [],
   "source": [
    "df3['Skillnad'] = 'nej'"
   ]
  },
  {
   "cell_type": "markdown",
   "metadata": {},
   "source": [
    "Ändra färdet i `df3.Skillnad` till \"ja\" ifall informationen från excelfilen inte stämmer överens med \"facit\"."
   ]
  },
  {
   "cell_type": "code",
   "execution_count": 12,
   "metadata": {},
   "outputs": [],
   "source": [
    "df3.loc[df3.Univenk1 != df3.Univenk2, 'Skillnad'] = 'ja'"
   ]
  },
  {
   "cell_type": "markdown",
   "metadata": {},
   "source": [
    "Beskär tabellen så att enbart de fär `df3.Skillnad` = \"ja\" syns. Det fanns säkert 15 variabler som var felkodade men dessa har nu åtgärdats i excelfilen och när den läses in på nytt blir denna beskärning helt tom."
   ]
  },
  {
   "cell_type": "code",
   "execution_count": 13,
   "metadata": {},
   "outputs": [
    {
     "data": {
      "text/html": [
       "<div>\n",
       "<style scoped>\n",
       "    .dataframe tbody tr th:only-of-type {\n",
       "        vertical-align: middle;\n",
       "    }\n",
       "\n",
       "    .dataframe tbody tr th {\n",
       "        vertical-align: top;\n",
       "    }\n",
       "\n",
       "    .dataframe thead th {\n",
       "        text-align: right;\n",
       "    }\n",
       "</style>\n",
       "<table border=\"1\" class=\"dataframe\">\n",
       "  <thead>\n",
       "    <tr style=\"text-align: right;\">\n",
       "      <th></th>\n",
       "      <th>Univ</th>\n",
       "      <th>Univenk1</th>\n",
       "      <th>Univenk2</th>\n",
       "      <th>Skillnad</th>\n",
       "    </tr>\n",
       "  </thead>\n",
       "  <tbody>\n",
       "  </tbody>\n",
       "</table>\n",
       "</div>"
      ],
      "text/plain": [
       "Empty DataFrame\n",
       "Columns: [Univ, Univenk1, Univenk2, Skillnad]\n",
       "Index: []"
      ]
     },
     "execution_count": 13,
     "metadata": {},
     "output_type": "execute_result"
    }
   ],
   "source": [
    "df3.loc[df3.Skillnad == 'ja', ]"
   ]
  },
  {
   "cell_type": "code",
   "execution_count": null,
   "metadata": {},
   "outputs": [],
   "source": []
  }
 ],
 "metadata": {
  "kernelspec": {
   "display_name": "Python 3",
   "language": "python",
   "name": "python3"
  },
  "language_info": {
   "codemirror_mode": {
    "name": "ipython",
    "version": 3
   },
   "file_extension": ".py",
   "mimetype": "text/x-python",
   "name": "python",
   "nbconvert_exporter": "python",
   "pygments_lexer": "ipython3",
   "version": "3.7.3"
  }
 },
 "nbformat": 4,
 "nbformat_minor": 2
}

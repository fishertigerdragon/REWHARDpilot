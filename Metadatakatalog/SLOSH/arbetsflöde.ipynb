{
 "cells": [
  {
   "cell_type": "markdown",
   "metadata": {},
   "source": [
    "Först fyller jag i all data i rutan nedan. Sedan kör jag in detta i databsern genom python och givet att insättningen går väl så lägger jag till kommandot i en lång txt-fil som får tjäna som en slags logg men även backup. Det ska gå att köra loggen, som är helt SQL, för att återskapa allt som lagts in."
   ]
  },
  {
   "cell_type": "code",
   "execution_count": 11,
   "metadata": {},
   "outputs": [],
   "source": [
    "import sqlite3"
   ]
  },
  {
   "cell_type": "markdown",
   "metadata": {},
   "source": [
    "# 1. Definiera funktionen"
   ]
  },
  {
   "cell_type": "code",
   "execution_count": 17,
   "metadata": {},
   "outputs": [],
   "source": [
    "def Nyrad(tabell, kolumner, värden):    \n",
    "    try:\n",
    "        # Koppla databasen\n",
    "        sqliteConnection = sqlite3.connect('lala.db')\n",
    "\n",
    "        # Skapa en \"cursor\"... vet ej vad detta är, men det är nödvändigt.\n",
    "        cursor = sqliteConnection.cursor()\n",
    "\n",
    "        print(\"Successfully Connected to SQLite\")\n",
    "\n",
    "        # Denna query ska skrivas i SQL och körs av python mot databasen\n",
    "        sqlite_insert_query = 'INSERT INTO {} {} VALUES {}'.format(tabell, kolumner, värden)\n",
    "\n",
    "        # Först måste 'foreign key constraint' slås på, i SQLite är detta avstängt som default. \n",
    "        cursor.execute('PRAGMA foreign_keys = 1')\n",
    "\n",
    "        # Nu kan raden läggas in\n",
    "        cursor.execute(sqlite_insert_query)\n",
    "\n",
    "        # commit:a till databasen\n",
    "        sqliteConnection.commit()\n",
    "        print(\"Rad inlagd i tabellen {}\".format(tabell), cursor.rowcount)\n",
    "\n",
    "        # Stäng\n",
    "        cursor.close()\n",
    "        \n",
    "        # När en rad lagts till ska SQL-kommandot sparas i en textfil.\n",
    "        text = open(\"SQL-logg.txt\", \"a\", encoding = 'UTF-8')\n",
    "        text.write('INSERT INTO {} {} VALUES {};\\n \\n'.format(tabell, kolumner, värden))\n",
    "        text.close()\n",
    "\n",
    "    except sqlite3.Error as error:\n",
    "        print(\"Failed to insert data into sqlite table\", error)\n",
    "    finally:\n",
    "        if (sqliteConnection):\n",
    "            sqliteConnection.close()\n",
    "            print(\"The SQLite connection is closed\")\n",
    "    "
   ]
  },
  {
   "cell_type": "code",
   "execution_count": 19,
   "metadata": {},
   "outputs": [
    {
     "name": "stdout",
     "output_type": "stream",
     "text": [
      "Successfully Connected to SQLite\n",
      "Rad inlagd i tabellen mat 1\n",
      "The SQLite connection is closed\n"
     ]
    }
   ],
   "source": [
    "tabell = 'mat'\n",
    "kolumner = ('a', 'b')\n",
    "värden = ('två', 'två')\n",
    "\n",
    "Nyrad(tabell, kolumner, värden)"
   ]
  },
  {
   "cell_type": "markdown",
   "metadata": {},
   "source": [
    "# 2.Transkribera ett item"
   ]
  },
  {
   "cell_type": "code",
   "execution_count": null,
   "metadata": {},
   "outputs": [],
   "source": [
    "variabel = ''\n",
    "enkät = ''\n",
    "beskrivning = ''\n",
    "itemnr = ''\n",
    "enkättext = ''\n",
    "\n",
    "kodlista = ''\n",
    "kodsvar = {}"
   ]
  },
  {
   "cell_type": "markdown",
   "metadata": {},
   "source": [
    "## C: Kodlistor"
   ]
  },
  {
   "cell_type": "code",
   "execution_count": null,
   "metadata": {},
   "outputs": [],
   "source": [
    "tabell = 'C: Kodlistor'\n",
    "\n",
    "kolumner = ('KODLISTA')\n",
    "\n",
    "värden = (kodlista)"
   ]
  },
  {
   "cell_type": "code",
   "execution_count": null,
   "metadata": {},
   "outputs": [],
   "source": [
    "Nyrad(tabell, kolumner, värden)"
   ]
  },
  {
   "cell_type": "markdown",
   "metadata": {},
   "source": [
    "## G: Enkättexter"
   ]
  },
  {
   "cell_type": "code",
   "execution_count": null,
   "metadata": {},
   "outputs": [],
   "source": [
    "tabell = 'G: Enkättexter'\n",
    "\n",
    "kolumner = ('ENKÄTTEXT')\n",
    "\n",
    "värden = (enkättext)"
   ]
  },
  {
   "cell_type": "code",
   "execution_count": null,
   "metadata": {},
   "outputs": [],
   "source": [
    "Nyrad(tabell, kolumner, värden)"
   ]
  },
  {
   "cell_type": "markdown",
   "metadata": {},
   "source": [
    "## H: Svarstexter"
   ]
  },
  {
   "cell_type": "code",
   "execution_count": null,
   "metadata": {},
   "outputs": [],
   "source": [
    "tabell = 'H: Svarstexter'\n",
    "\n",
    "kolumner = ('SVARSTEXT')\n",
    "\n",
    "värden = (svarstext)"
   ]
  },
  {
   "cell_type": "code",
   "execution_count": null,
   "metadata": {},
   "outputs": [],
   "source": [
    "Nyrad(tabell, kolumner, värden)"
   ]
  },
  {
   "cell_type": "markdown",
   "metadata": {},
   "source": [
    "## D: Kodlistor_stor"
   ]
  },
  {
   "cell_type": "code",
   "execution_count": null,
   "metadata": {},
   "outputs": [],
   "source": [
    "tabell = 'D: Kodlistor_stor'\n",
    "\n",
    "kolumner = ('K_ID', 'KODLISTA', 'KOD', 'SVARSTEXT')\n",
    "\n",
    "värden = (autoincrement?, kodlista, kod, ) hehehehe"
   ]
  },
  {
   "cell_type": "markdown",
   "metadata": {},
   "source": [
    "## B: Variabler"
   ]
  },
  {
   "cell_type": "code",
   "execution_count": null,
   "metadata": {},
   "outputs": [],
   "source": [
    "tabell = 'B: Variabler'\n",
    "\n",
    "kolumner = ('VARIABEL', 'ENKÄT', 'BESKRIVNING', 'ITEMNR', 'ENKÄTTEXT', 'KODLISTA')\n",
    "\n",
    "värden = (variabel, enkät, beskrvning, itemnr, enkättext, kodlista)"
   ]
  },
  {
   "cell_type": "code",
   "execution_count": null,
   "metadata": {},
   "outputs": [],
   "source": [
    "Nyrad(tabell, kolumner, värden)"
   ]
  },
  {
   "cell_type": "markdown",
   "metadata": {},
   "source": [
    "exempel på hur jag sätter in rader genom python: https://pynative.com/python-sqlite-insert-into-table/"
   ]
  },
  {
   "cell_type": "code",
   "execution_count": 98,
   "metadata": {},
   "outputs": [
    {
     "name": "stdout",
     "output_type": "stream",
     "text": [
      "Successfully Connected to SQLite\n",
      "Failed to insert data into sqlite table foreign key mismatch - \"tam\" referencing \"mat\"\n",
      "The SQLite connection is closed\n"
     ]
    }
   ],
   "source": [
    "try:\n",
    "    # Koppla databasen\n",
    "    sqliteConnection = sqlite3.connect('test.db')\n",
    "    \n",
    "    # Skapa en \"cursor\"... vet ej vad detta är, men det är nödvändigt.\n",
    "    cursor = sqliteConnection.cursor()\n",
    "    \n",
    "    print(\"Successfully Connected to SQLite\")\n",
    "    \n",
    "    # Denna query ska skrivas i SQL och körs av python mot databasen\n",
    "    sqlite_insert_query = \"\"\"INSERT INTO tam\n",
    "                          ('a', 'b') \n",
    "                           VALUES \n",
    "                          (1, 1)\"\"\"\n",
    "    \n",
    "    # Först måste 'foreign key constraint' slås på, i SQLite är detta avstängt som default. \n",
    "    cursor.execute('PRAGMA foreign_keys = 1')\n",
    "    \n",
    "    # Nu kan raden läggas in\n",
    "    cursor.execute(sqlite_insert_query)\n",
    "    \n",
    "    # commita:a till databasen\n",
    "    sqliteConnection.commit()\n",
    "    print(\"Record inserted successfully into mat table \", cursor.rowcount)\n",
    "    \n",
    "    # Stäng\n",
    "    cursor.close()\n",
    "\n",
    "except sqlite3.Error as error:\n",
    "    print(\"Failed to insert data into sqlite table\", error)\n",
    "finally:\n",
    "    if (sqliteConnection):\n",
    "        sqliteConnection.close()\n",
    "        print(\"The SQLite connection is closed\")"
   ]
  },
  {
   "cell_type": "code",
   "execution_count": null,
   "metadata": {},
   "outputs": [],
   "source": []
  },
  {
   "cell_type": "code",
   "execution_count": null,
   "metadata": {},
   "outputs": [],
   "source": []
  },
  {
   "cell_type": "code",
   "execution_count": null,
   "metadata": {},
   "outputs": [],
   "source": []
  },
  {
   "cell_type": "code",
   "execution_count": null,
   "metadata": {},
   "outputs": [],
   "source": [
    "/* metadata för variabeln promoted_1 */\n",
    "\n",
    "INSERT INTO enkättexter VALUES (\n",
    "                  \"Ditt arbete @ Har du befordrats/fått en högre tjänst under de två senaste åren?\",\n",
    "                  \"Hugo Westerlund\"\n",
    "              );\n",
    "\n",
    "INSERT INTO svarstexter VALUES (\n",
    "                  \"ja\",\n",
    "                  2006,\n",
    "                  2012\n",
    "              );\n",
    "\n",
    "INSERT INTO svarstexter VALUES (\n",
    "                  \"nej\",\n",
    "                  2006,\n",
    "                  2012\n",
    "              );\n",
    "\n",
    "INSERT INTO svarstexter VALUES (\n",
    "                  \"missing\",\n",
    "                  2006,\n",
    "                  2018\n",
    "              );\n",
    "\n",
    "INSERT INTO kodlistor VALUES (\n",
    "                  \"janej1\",\n",
    "                  2006,\n",
    "                  2008\n",
    "              );\n",
    "\n",
    "\n",
    "INSERT INTO kodlistor_stor VALUES (\n",
    "                  NULL,\n",
    "                  \"janej1\",\n",
    "                  1,\n",
    "                  \"ja\"\n",
    "              );\n",
    "\n",
    "INSERT INTO kodlistor_stor VALUES (\n",
    "                  NULL,\n",
    "                  \"janej1\",\n",
    "                  2,\n",
    "                  \"nej\"\n",
    "              );\n",
    "\n",
    "INSERT INTO kodlistor_stor VALUES (\n",
    "                  NULL,\n",
    "                  \"janej1\",\n",
    "                  \".\",\n",
    "                  \"missing\"\n",
    "              );\n",
    "\n",
    "INSERT INTO variabler VALUES (\n",
    "                  \"promoted_1\",\n",
    "                  \"slosh 06 work\",\n",
    "                  \"befordran\",\n",
    "\t\t\t\t  \"A1a\",\n",
    "                  \"Ditt arbete @ Har du befordrats/fått en högre tjänst under de två senaste åren?\",\n",
    "                  \"janej1\"\n",
    "              );\n",
    "INSERT INTO frekvenstabeller VALUES (\n",
    "                  NULL,\n",
    "                  \"promoted_1\",\n",
    "                  \"slosh 06 work\",\n",
    "\t\t\t\t  1,\n",
    "                  720\n",
    "              );\n",
    "\n",
    "INSERT INTO frekvenstabeller VALUES (\n",
    "                  NULL,\n",
    "                  \"promoted_1\",\n",
    "                  \"slosh 06 work\",\n",
    "\t\t\t\t  2,\n",
    "                  4357\n",
    "              );\n",
    "\n",
    "INSERT INTO frekvenstabeller VALUES (\n",
    "                  NULL,\n",
    "                  \"promoted_1\",\n",
    "                  \"slosh 06 work\",\n",
    "\t\t\t\t  \".\",\n",
    "                  64\n",
    "              );a"
   ]
  }
 ],
 "metadata": {
  "kernelspec": {
   "display_name": "Python 3",
   "language": "python",
   "name": "python3"
  },
  "language_info": {
   "codemirror_mode": {
    "name": "ipython",
    "version": 3
   },
   "file_extension": ".py",
   "mimetype": "text/x-python",
   "name": "python",
   "nbconvert_exporter": "python",
   "pygments_lexer": "ipython3",
   "version": "3.7.3"
  }
 },
 "nbformat": 4,
 "nbformat_minor": 4
}

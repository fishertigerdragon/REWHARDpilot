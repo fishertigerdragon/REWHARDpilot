{
 "cells": [
  {
   "cell_type": "markdown",
   "metadata": {},
   "source": [
    "  # 0. Bibliotek och data\n",
    "  Biblioteket `sqlite3` krävs för att skapa funktionen `Nyrad()` nedan. SLOSH-datafilen läses in."
   ]
  },
  {
   "cell_type": "code",
   "execution_count": 6,
   "metadata": {},
   "outputs": [],
   "source": [
    "import sqlite3\n",
    "import pandas as pd"
   ]
  },
  {
   "cell_type": "code",
   "execution_count": 7,
   "metadata": {},
   "outputs": [],
   "source": [
    "datafil = r'\\\\win.su.se\\dfs\\common\\stressforskning.su.se\\SLOSH-data\\SLOSH och AMU\\SLOSH\\Enkätdata\\SLOSH (Huvudfil, t.o.m. 2018)\\Test\\Slosh_all_amuar_18.xlsx'\n",
    "\n",
    "df = pd.read_excel(datafil)"
   ]
  },
  {
   "cell_type": "markdown",
   "metadata": {},
   "source": [
    "# 1. Definiera funktionen  \n",
    "Funktionen `Nyrad()` tar (namnet på) en tabell, en tuple med kolumnnamn samt en tuple med kolumnvärden. Den skapar en rad av denna information och försöker lägga in den i databasen. Om den lyckas kommer den SQL-kod som används för att skapa raden att noteras i en text-fil. Denna text-fil ska tjäna dels som en backup men även som en logg. Skulle något hända med databasen går det enkelt att bara köra text-filen så återskapas allting.  \n",
    "  Ifall funktionen inte lyckas lägga in en rad i databasen, kanske p.g.a. att \"foregin key\" inte respekteras, kommer ett felmeddelande konstatera detta. För mer information om hur SQLite används i python: https://pynative.com/python-sqlite-insert-into-table/."
   ]
  },
  {
   "cell_type": "code",
   "execution_count": 8,
   "metadata": {},
   "outputs": [],
   "source": [
    "def Nyrad(tabell, kolumner, värden):    \n",
    "    try:\n",
    "        # Koppla databasen\n",
    "        sqliteConnection = sqlite3.connect('lala.db')\n",
    "\n",
    "        # Skapa en \"cursor\"... vet ej vad detta är, men det är nödvändigt.\n",
    "        cursor = sqliteConnection.cursor()\n",
    "\n",
    "        print(\"Successfully Connected to SQLite\")\n",
    "\n",
    "        # Denna query ska skrivas i SQL och körs av python mot databasen\n",
    "        sqlite_insert_query = 'INSERT INTO {} {} VALUES {}'.format(tabell, kolumner, värden)\n",
    "\n",
    "        # Först måste 'foreign key constraint' slås på, i SQLite är detta avstängt som default. \n",
    "        cursor.execute('PRAGMA foreign_keys = 1')\n",
    "\n",
    "        # Nu kan raden läggas in\n",
    "        cursor.execute(sqlite_insert_query)\n",
    "\n",
    "        # commit:a till databasen\n",
    "        sqliteConnection.commit()\n",
    "        print(\"Rad inlagd i tabellen {}\".format(tabell), cursor.rowcount)\n",
    "\n",
    "        # Stäng\n",
    "        cursor.close()\n",
    "        \n",
    "        # När en rad lagts till ska SQL-kommandot sparas i en textfil.\n",
    "        text = open(\"SQL-logg.txt\", \"a\", encoding = 'UTF-8')\n",
    "        text.write('INSERT INTO {} {} VALUES {};\\n \\n'.format(tabell, kolumner, värden))\n",
    "        text.close()\n",
    "\n",
    "    except sqlite3.Error as error:\n",
    "        print(\"Failed to insert data into sqlite table\", error)\n",
    "    finally:\n",
    "        if (sqliteConnection):\n",
    "            sqliteConnection.close()\n",
    "            print(\"The SQLite connection is closed\")\n",
    "    "
   ]
  },
  {
   "cell_type": "markdown",
   "metadata": {},
   "source": [
    "# 2.Transkribera item  \n",
    "Här transkriberas ett item i taget. Den transkriberade informationen kommer att användas för att skapa rader i flera olika tabeller. Exempelvis kommer `kodlista` i tre olika tabeller. Börja med att se efter ifall en given variabel förekommer i working, non-working eller båda. "
   ]
  },
  {
   "cell_type": "code",
   "execution_count": 19,
   "metadata": {},
   "outputs": [
    {
     "name": "stdout",
     "output_type": "stream",
     "text": [
      "Andel dokumenterad data: 13.76%\n"
     ]
    }
   ],
   "source": [
    "totvar = len(df.columns)\n",
    "\n",
    "# Koppla databasen\n",
    "sqliteConnection = sqlite3.connect('SLOSH.db')\n",
    "\n",
    "# Skapa en \"cursor\"... vet ej vad detta är, men det är nödvändigt.\n",
    "cursor = sqliteConnection.cursor()\n",
    "\n",
    "# Denna query ska skrivas i SQL och körs av python mot databasen\n",
    "sqlite_insert_query = 'SELECT enkättext FROM Enkättexter'\n",
    "\n",
    "# Nu kan raden läggas in\n",
    "cursor.execute(sqlite_insert_query)\n",
    "\n",
    "dokvar = len(cursor.fetchall())\n",
    "\n",
    "# Stäng\n",
    "cursor.close()\n",
    "\n",
    "print('Andel dokumenterad data: {}%'.format(round(100*dokvar/totvar, 2)))"
   ]
  },
  {
   "cell_type": "code",
   "execution_count": 26,
   "metadata": {},
   "outputs": [],
   "source": [
    "variabel = 'promoted_2'"
   ]
  },
  {
   "cell_type": "code",
   "execution_count": 29,
   "metadata": {},
   "outputs": [
    {
     "name": "stdout",
     "output_type": "stream",
     "text": [
      "Variabeln promoted_2 förekommer ej i non-working\n"
     ]
    }
   ],
   "source": [
    "r = 'r_{}'.format(variabel[-1])\n",
    "\n",
    "frek_nw = df.loc[df[r] == 1, variabel].value_counts()\n",
    "\n",
    "frek_w = df.loc[df[r] == 2, variabel].value_counts()\n",
    "\n",
    "if len(frek_w) == 0:\n",
    "    print('Variabeln {} förekommer ej i working'.format(variabel))\n",
    "    \n",
    "elif len(frek_nw) == 0:\n",
    "    print('Variabeln {} förekommer ej i non-working'.format(variabel))\n",
    "    \n",
    "else:\n",
    "    print('Variabeln {} förekommer i working och i non-working'.format(variabel))\n",
    "\n",
    "    "
   ]
  },
  {
   "cell_type": "markdown",
   "metadata": {},
   "source": [
    "Givet testet ovan går det att transkribera resten av informationen. Notera att ifall variabeln förekommer i både working och non-working måste det göras två insättningar relationsdatabasen. "
   ]
  },
  {
   "cell_type": "code",
   "execution_count": null,
   "metadata": {},
   "outputs": [],
   "source": [
    "enkät = ''\n",
    "beskrivning = ''\n",
    "itemnr = ''\n",
    "enkättext = ''\n",
    "\n",
    "kodlista = ''\n",
    "kodsvar = {}"
   ]
  },
  {
   "cell_type": "markdown",
   "metadata": {},
   "source": [
    "# 4. Infoga rader i databasen  \n",
    "Nu kommer den transkriberade informationen att användas tillsamman med funktionen `Nyrad()` för var och en av tabellerna i databasen."
   ]
  },
  {
   "cell_type": "markdown",
   "metadata": {},
   "source": [
    "## C: Kodlistor"
   ]
  },
  {
   "cell_type": "code",
   "execution_count": null,
   "metadata": {},
   "outputs": [],
   "source": [
    "tabell = 'C: Kodlistor'\n",
    "\n",
    "kolumner = ('KODLISTA')\n",
    "\n",
    "värden = (kodlista)"
   ]
  },
  {
   "cell_type": "code",
   "execution_count": null,
   "metadata": {},
   "outputs": [],
   "source": [
    "Nyrad(tabell, kolumner, värden)"
   ]
  },
  {
   "cell_type": "markdown",
   "metadata": {},
   "source": [
    "## G: Enkättexter"
   ]
  },
  {
   "cell_type": "code",
   "execution_count": null,
   "metadata": {},
   "outputs": [],
   "source": [
    "tabell = 'G: Enkättexter'\n",
    "\n",
    "kolumner = ('ENKÄTTEXT')\n",
    "\n",
    "värden = (enkättext)"
   ]
  },
  {
   "cell_type": "code",
   "execution_count": null,
   "metadata": {},
   "outputs": [],
   "source": [
    "Nyrad(tabell, kolumner, värden)"
   ]
  },
  {
   "cell_type": "markdown",
   "metadata": {},
   "source": [
    "## H: Svarstexter"
   ]
  },
  {
   "cell_type": "code",
   "execution_count": null,
   "metadata": {},
   "outputs": [],
   "source": [
    "tabell = 'H: Svarstexter'\n",
    "\n",
    "kolumner = ('SVARSTEXT')\n",
    "\n",
    "värden = (svarstext)"
   ]
  },
  {
   "cell_type": "code",
   "execution_count": null,
   "metadata": {},
   "outputs": [],
   "source": [
    "Nyrad(tabell, kolumner, värden)"
   ]
  },
  {
   "cell_type": "markdown",
   "metadata": {},
   "source": [
    "## D: Kodlistor_stor"
   ]
  },
  {
   "cell_type": "code",
   "execution_count": null,
   "metadata": {},
   "outputs": [],
   "source": [
    "tabell = 'D: Kodlistor_stor'\n",
    "\n",
    "kolumner = ('K_ID', 'KODLISTA', 'KOD', 'SVARSTEXT')"
   ]
  },
  {
   "cell_type": "code",
   "execution_count": 2,
   "metadata": {},
   "outputs": [
    {
     "data": {
      "text/plain": [
       "<function dict.keys>"
      ]
     },
     "execution_count": 2,
     "metadata": {},
     "output_type": "execute_result"
    }
   ],
   "source": [
    "for i in kodsvar.keys():\n",
    "    värden = (kodlista, i, kodsvar[i])\n",
    "    Nyrad(tabell, kolumner, värden)"
   ]
  },
  {
   "cell_type": "markdown",
   "metadata": {},
   "source": [
    "## B: Variabler"
   ]
  },
  {
   "cell_type": "code",
   "execution_count": null,
   "metadata": {},
   "outputs": [],
   "source": [
    "tabell = 'B: Variabler'\n",
    "\n",
    "kolumner = ('VARIABEL', 'ENKÄT', 'BESKRIVNING', 'ITEMNR', 'ENKÄTTEXT', 'KODLISTA')\n",
    "\n",
    "värden = (variabel, enkät, beskrivning, itemnr, enkättext, kodlista)"
   ]
  },
  {
   "cell_type": "code",
   "execution_count": null,
   "metadata": {},
   "outputs": [],
   "source": [
    "Nyrad(tabell, kolumner, värden)"
   ]
  }
 ],
 "metadata": {
  "kernelspec": {
   "display_name": "Python 3",
   "language": "python",
   "name": "python3"
  },
  "language_info": {
   "codemirror_mode": {
    "name": "ipython",
    "version": 3
   },
   "file_extension": ".py",
   "mimetype": "text/x-python",
   "name": "python",
   "nbconvert_exporter": "python",
   "pygments_lexer": "ipython3",
   "version": "3.7.3"
  }
 },
 "nbformat": 4,
 "nbformat_minor": 4
}

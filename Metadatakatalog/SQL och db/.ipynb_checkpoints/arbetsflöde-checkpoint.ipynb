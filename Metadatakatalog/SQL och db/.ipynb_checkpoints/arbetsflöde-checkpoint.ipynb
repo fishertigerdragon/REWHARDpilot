{
 "cells": [
  {
   "cell_type": "markdown",
   "metadata": {},
   "source": [
    "  # 0. Bibliotek och data\n",
    "  Biblioteket `sqlite3` krävs för att skapa funktionen `Nyrad()` nedan. SLOSH-datafilen läses in."
   ]
  },
  {
   "cell_type": "code",
   "execution_count": 1,
   "metadata": {},
   "outputs": [],
   "source": [
    "import sqlite3\n",
    "import pandas as pd"
   ]
  },
  {
   "cell_type": "code",
   "execution_count": 2,
   "metadata": {},
   "outputs": [],
   "source": [
    "datafil = r'\\\\win.su.se\\dfs\\common\\stressforskning.su.se\\SLOSH-data\\SLOSH och AMU\\SLOSH\\Enkätdata\\SLOSH (Huvudfil, t.o.m. 2018)\\Test\\Slosh_all_amuar_18.xlsx'\n",
    "\n",
    "df = pd.read_excel(datafil)"
   ]
  },
  {
   "cell_type": "markdown",
   "metadata": {},
   "source": [
    "# 1. Definiera funktionen Nyrad\n",
    "Funktionen `Nyrad()` tar (namnet på) en tabell, en tuple med kolumnnamn samt en tuple med kolumnvärden. Den skapar en rad av denna information och försöker lägga in den i databasen. Om den lyckas kommer den SQL-kod som används för att skapa raden att noteras i en text-fil. Denna text-fil ska tjäna dels som en backup men även som en logg. Skulle något hända med databasen går det enkelt att bara köra text-filen så återskapas allting.  \n",
    "  Ifall funktionen inte lyckas lägga in en rad i databasen, kanske p.g.a. att \"foregin key\" inte respekteras, kommer ett felmeddelande konstatera detta. För mer information om hur SQLite används i python: https://pynative.com/python-sqlite-insert-into-table/."
   ]
  },
  {
   "cell_type": "code",
   "execution_count": 196,
   "metadata": {},
   "outputs": [],
   "source": [
    "def Nyrad(tabell, kolumner, värden):    \n",
    "    try:\n",
    "        # Koppla databasen\n",
    "        conn = sqlite3.connect('SLOSH.db')\n",
    "\n",
    "        # Skapa en \"cursor\"... vet ej vad detta är, men det är nödvändigt.\n",
    "        cursor = conn.cursor()\n",
    "\n",
    "        # Denna query ska skrivas i SQL och körs av python mot databasen\n",
    "        sqlite_insert_query = 'INSERT INTO {} {} VALUES {}'.format(tabell, kolumner, värden)\n",
    "\n",
    "        # Först måste 'foreign key constraint' slås på, i SQLite är detta avstängt som default. \n",
    "        cursor.execute('PRAGMA foreign_keys = 1')\n",
    "\n",
    "        # Nu kan raden läggas in\n",
    "        cursor.execute(sqlite_insert_query)\n",
    "\n",
    "        # commit:a till databasen\n",
    "        conn.commit()\n",
    "        print('\\033[1m' + 'Rad inlagd i tabellen {}'.format(tabell) + '\\033[0m')\n",
    "\n",
    "        # Stäng\n",
    "        cursor.close()\n",
    "        \n",
    "        print('INSERT INTO {} {} VALUES {}'.format(tabell, kolumner, värden))\n",
    "        \n",
    "        # När en rad lagts till ska SQL-kommandot sparas i en textfil.\n",
    "        text = open(\"SQL-logg.txt\", \"a\", encoding = 'UTF-8')\n",
    "        text.write('INSERT INTO {} {} VALUES {};\\n \\n'.format(tabell, kolumner, värden))\n",
    "        text.close()\n",
    "\n",
    "    except sqlite3.Error as error:\n",
    "        print('\\033[1m' + 'Det gick ej att infoga data: ' + '\\033[0m', error)\n",
    "    finally:\n",
    "        if (conn):\n",
    "            conn.close()\n",
    "\n",
    "    "
   ]
  },
  {
   "cell_type": "markdown",
   "metadata": {},
   "source": [
    "# 2.Transkribera  \n",
    "Här transkriberas ett item i taget. Den transkriberade informationen kommer att användas för att skapa rader i flera olika tabeller. Exempelvis förekommer `kodlista` i tre olika tabeller. Se först hur stor andel av SLOSH som redan dokumenterats.    \n",
    "\n",
    "**OBS!**  \n",
    "Det är viktigt att databasfilen `SLOSH.db` inte används av något annat program samtidigt som pythonkärnan försöker få tillgång till den. Det går inte att skriva information till databasen från mer än ett ställe samtidigt. Se följande kommentar från stackoverflow:  \n",
    ">Yes SQLite can support multiple users at once. It does however lock the whole database when writing, so if you have lots of concurrent writes it is not the database you want (usually the time the database is locked is a few milliseconds - so for most uses this does not matter). But it is very well tested and very stable (and widely used) so you can trust it.\n",
    "You may read this short document for information when to use SQLite and not: http://www.sqlite.org/whentouse.html"
   ]
  },
  {
   "cell_type": "markdown",
   "metadata": {},
   "source": [
    "## 2.1 Andel av SLOSH som redan har dokumenterats  \n",
    "Här jämförs antalet dokumenterade variabler i relationsdatabasen med det totala antalet variabler i SLOSH-datafilen. Notera att siffran underskattas eftersom datafilen innehåller registervariabler samt `r_x`-variabler. Dessa kommer aldrig att läggas in i relationsdatabasen."
   ]
  },
  {
   "cell_type": "code",
   "execution_count": 221,
   "metadata": {},
   "outputs": [
    {
     "name": "stdout",
     "output_type": "stream",
     "text": [
      "\u001b[1mAndel dokumenterad data:\u001b[0m0.03%\n"
     ]
    }
   ],
   "source": [
    "totvar = len(df.columns)\n",
    "\n",
    "# Koppla databasen\n",
    "conn = sqlite3.connect('SLOSH.db')\n",
    "\n",
    "# Skapa en \"cursor\"... vet ej vad detta är, men det är nödvändigt.\n",
    "cursor = conn.cursor()\n",
    "\n",
    "# Denna query ska skrivas i SQL och körs av python mot databasen\n",
    "cursor.execute('SELECT variabel FROM Variabler')\n",
    "\n",
    "dokvar = len(cursor.fetchall())\n",
    "\n",
    "# Stäng\n",
    "cursor.close()\n",
    "\n",
    "\n",
    "print('\\033[1m' + 'Andel dokumenterad data:' + '\\033[0m' + '{}%'.format(round(100*dokvar/totvar, 2)))"
   ]
  },
  {
   "cell_type": "markdown",
   "metadata": {},
   "source": [
    "## 2.2 working eller non-working? \n",
    "  Börja med att se efter ifall en given variabel förekommer i working, non-working eller båda.  \n",
    "  Specificera först variabelnamnet."
   ]
  },
  {
   "cell_type": "code",
   "execution_count": 222,
   "metadata": {},
   "outputs": [],
   "source": [
    "variabel = 'sick1v_1'"
   ]
  },
  {
   "cell_type": "code",
   "execution_count": 223,
   "metadata": {},
   "outputs": [
    {
     "name": "stdout",
     "output_type": "stream",
     "text": [
      "Resultat: \n",
      "Variabeln sick1v_1 förekommer i working och i non-working\n"
     ]
    }
   ],
   "source": [
    "r = 'r_{}'.format(variabel[-1])\n",
    "\n",
    "frek_nw = df.loc[df[r] == 1, variabel].value_counts()\n",
    "\n",
    "frek_w = df.loc[df[r] == 2, variabel].value_counts()\n",
    "\n",
    "if len(frek_w) == 0:\n",
    "    print('Variabeln {} förekommer ej i working'.format(variabel))\n",
    "    \n",
    "elif len(frek_nw) == 0:\n",
    "    print('Variabeln {} förekommer ej i non-working'.format(variabel))\n",
    "    \n",
    "else:\n",
    "    print('Resultat: \\nVariabeln {} förekommer i working och i non-working'.format(variabel))\n",
    "\n",
    "    "
   ]
  },
  {
   "cell_type": "markdown",
   "metadata": {},
   "source": [
    "## 2.3 Undersök frekvenstabellen och transkribera metadata"
   ]
  },
  {
   "cell_type": "code",
   "execution_count": 224,
   "metadata": {},
   "outputs": [
    {
     "data": {
      "text/plain": [
       "1.0    2606\n",
       "2.0    1442\n",
       "3.0     803\n",
       "4.0     229\n",
       "NaN      61\n",
       "Name: sick1v_1, dtype: int64"
      ]
     },
     "execution_count": 224,
     "metadata": {},
     "output_type": "execute_result"
    }
   ],
   "source": [
    "r = 'r_{}'.format(variabel[-1])\n",
    "\n",
    "df.loc[df[r] == 2, variabel].value_counts(dropna = False).sort_index()"
   ]
  },
  {
   "cell_type": "markdown",
   "metadata": {},
   "source": [
    "Efter att ha tagit ställning till vilken (eller vilka) enkäter variabeln förekommer i går det att transkribera resten av informationen. Notera att ifall variabeln förekommer i både working och non-working måste det göras två insättningar relationsdatabasen. "
   ]
  },
  {
   "cell_type": "code",
   "execution_count": 225,
   "metadata": {},
   "outputs": [],
   "source": [
    "enkät = 'SLOSH 06 working'\n",
    "beskrivning = ''\n",
    "itemnr = 'B12_a'\n",
    "enkättext = 'Hur många gånger har du varit sjukskriven en vecka eller mindre under de senaste 12 månaderna? Räkna inte med vård av sjukt barn i ditt svar.'\n",
    "dubbelkodning = '1'\n",
    "\n",
    "#kodsvar = {'1': 'Ja', '2': 'Nej', '.': 'Missing'}\n",
    "kodsvar = {'1': 'Ingen gång', '2': 'En gång', '3': 'Två till tre gånger', '4': 'Fyra gånger eller mer', '.': 'Missing'}"
   ]
  },
  {
   "cell_type": "markdown",
   "metadata": {},
   "source": [
    "## 2.4 Finns kodlistan redan?  \n",
    "För att ta ställning till ifall kodlistan redan förekommer i databasen hämtas först all information i *Kodlistor_stor*. Ifall kodlistan redan finns sätts variabeln `kodlista` lika med det nummer kodlistan redan har i databasen. Om den *inte* finns sätts `kodlista` $ = $ 'NULL'. Ifall SQLite får detta som värde, och kolumnen ifråga är s.k. \"AUTOINCREMENT\", kommer kodlistan automatiskt få ett nytt heltal som id."
   ]
  },
  {
   "cell_type": "code",
   "execution_count": 226,
   "metadata": {},
   "outputs": [
    {
     "ename": "IndexError",
     "evalue": "tuple index out of range",
     "output_type": "error",
     "traceback": [
      "\u001b[1;31m---------------------------------------------------------------------------\u001b[0m",
      "\u001b[1;31mIndexError\u001b[0m                                Traceback (most recent call last)",
      "\u001b[1;32m<ipython-input-226-2f088e52fd73>\u001b[0m in \u001b[0;36m<module>\u001b[1;34m\u001b[0m\n\u001b[0;32m     24\u001b[0m \u001b[1;33m\u001b[0m\u001b[0m\n\u001b[0;32m     25\u001b[0m         \u001b[1;31m# Välj ut kod och svarstext.\u001b[0m\u001b[1;33m\u001b[0m\u001b[1;33m\u001b[0m\u001b[1;33m\u001b[0m\u001b[0m\n\u001b[1;32m---> 26\u001b[1;33m         \u001b[0ma\u001b[0m \u001b[1;33m=\u001b[0m \u001b[1;33m(\u001b[0m\u001b[0mrows\u001b[0m\u001b[1;33m[\u001b[0m\u001b[0mi\u001b[0m\u001b[1;33m]\u001b[0m\u001b[1;33m[\u001b[0m\u001b[1;36m2\u001b[0m\u001b[1;33m]\u001b[0m\u001b[1;33m,\u001b[0m \u001b[0mrows\u001b[0m\u001b[1;33m[\u001b[0m\u001b[0mi\u001b[0m\u001b[1;33m]\u001b[0m\u001b[1;33m[\u001b[0m\u001b[1;36m3\u001b[0m\u001b[1;33m]\u001b[0m\u001b[1;33m)\u001b[0m\u001b[1;33m\u001b[0m\u001b[1;33m\u001b[0m\u001b[0m\n\u001b[0m\u001b[0;32m     27\u001b[0m \u001b[1;33m\u001b[0m\u001b[0m\n\u001b[0;32m     28\u001b[0m         \u001b[1;31m# Lägg i a.\u001b[0m\u001b[1;33m\u001b[0m\u001b[1;33m\u001b[0m\u001b[1;33m\u001b[0m\u001b[0m\n",
      "\u001b[1;31mIndexError\u001b[0m: tuple index out of range"
     ]
    }
   ],
   "source": [
    "# Koppla databasen\n",
    "conn = sqlite3.connect('SLOSH.db')\n",
    "\n",
    "# Skapa en \"cursor\"... vet ej vad detta är, men det är nödvändigt.\n",
    "cursor = conn.cursor()\n",
    "\n",
    "# Denna query ska skrivas i SQL och körs av python mot databasen.\n",
    "cursor.execute('SELECT * FROM Kodlistor_stor')\n",
    "\n",
    "# Detta är en lista med vektorer. Varje vektor representerar en rad i tabellen.\n",
    "rows = cursor.fetchall()\n",
    "\n",
    "# Stäng databasen.\n",
    "cursor.close()\n",
    "\n",
    "kods = []\n",
    "L = []\n",
    "\n",
    "# gå igenom varje vektor i listan\n",
    "for i in range(len(rows)):\n",
    "    \n",
    "    # Gäller bara första raden. Detta görs för att undvika index-fel nedan (i-1)\n",
    "    if len(L) == 0:\n",
    "        \n",
    "        # Välj ut kod och svarstext.\n",
    "        a = (rows[i][2], rows[i][3])\n",
    "        \n",
    "        # Lägg i a.\n",
    "        L.append(a)\n",
    "    else:\n",
    "        \n",
    "        # Ifall k_id skiljer från nuvarnade har loopen nått en ny kodlista. Skapa en dict av innehållet i L och\n",
    "        # nollställ sedan L inför nästa kodlista.\n",
    "        if rows[i][1] != rows[i-1][1]:\n",
    "            d = {j[0]: j[1] for j in L}\n",
    "            k = rows[i-1][1]\n",
    "            D = [k, d]\n",
    "            kods.append(D)\n",
    "            L = []\n",
    "        a = (rows[i][2], rows[i][3])\n",
    "        L.append(a)\n",
    "\n",
    "        \n",
    "nykodlista = 'ja'\n",
    "kodlista = 'NULL'\n",
    "\n",
    "# Om kodlistan redan finns hämtas dess namn och läggs i variabeln kodlista.\n",
    "for i in kods:\n",
    "    if kodsvar == i[1]:\n",
    "        kodlista = i[0]\n",
    "        nykodlista = 'nej'\n",
    "        break\n",
    "        \n",
    "        \n",
    "print('Ny kodlista? \\n{}'.format(nykodlista))    "
   ]
  },
  {
   "cell_type": "markdown",
   "metadata": {},
   "source": [
    "## 2.5 Finns svarstexterna redan?  \n",
    "För att slippa att loopen som lägger in svarstexter nedan avbryts halvvägs igenom av att någon svarstext redan finns i databasen filtreras svarstexterna här. Om de redan är inlagda görs inget försök att lägga in dem igen."
   ]
  },
  {
   "cell_type": "code",
   "execution_count": 203,
   "metadata": {},
   "outputs": [
    {
     "data": {
      "text/plain": [
       "['Ingen gång',\n",
       " 'En gång',\n",
       " 'Två till tre gånger',\n",
       " 'Fyra gånger eller mer',\n",
       " 'Missing']"
      ]
     },
     "execution_count": 203,
     "metadata": {},
     "output_type": "execute_result"
    }
   ],
   "source": [
    "# Koppla databasen\n",
    "conn = sqlite3.connect('SLOSH.db')\n",
    "\n",
    "# Skapa en \"cursor\"... vet ej vad detta är, men det är nödvändigt.\n",
    "cursor = conn.cursor()\n",
    "\n",
    "# Denna query ska skrivas i SQL och körs av python mot databasen.\n",
    "cursor.execute('SELECT * FROM Svarstexter')\n",
    "\n",
    "# Detta är en lista med vektorer. Varje vektor representerar en rad i tabellen.\n",
    "rows = cursor.fetchall()\n",
    "\n",
    "# Stäng databasen.\n",
    "cursor.close()\n",
    "\n",
    "# De transkriberade svarstexterna.\n",
    "svarstexter = list(kodsvar.values())\n",
    "\n",
    "# rows innehåller vektorer. Här plockat texten ut från vektorerna.\n",
    "dbsvar = [i[0] for i in rows]\n",
    "\n",
    "# En lista med de svarstexter som inte redan finns i databasen.\n",
    "filtsvar = [i for i in svarstexter if i not in dbsvar]\n",
    "\n",
    "filtsvar"
   ]
  },
  {
   "cell_type": "markdown",
   "metadata": {},
   "source": [
    "# 4. Infoga rader i databasen  \n",
    "Nu kommer den transkriberade informationen att användas tillsamman med funktionen `Nyrad()` för var och en av tabellerna i databasen."
   ]
  },
  {
   "cell_type": "markdown",
   "metadata": {},
   "source": [
    "## C: Kodlistor"
   ]
  },
  {
   "cell_type": "code",
   "execution_count": 204,
   "metadata": {},
   "outputs": [],
   "source": [
    "tabell = 'Kodlistor'\n",
    "\n",
    "kolumner = '(kodlista)'\n",
    "\n",
    "värden = '({})'.format(kodlista)"
   ]
  },
  {
   "cell_type": "code",
   "execution_count": 205,
   "metadata": {},
   "outputs": [
    {
     "name": "stdout",
     "output_type": "stream",
     "text": [
      "\u001b[1mRad inlagd i tabellen Kodlistor\u001b[0m\n",
      "INSERT INTO Kodlistor (kodlista) VALUES (NULL)\n"
     ]
    }
   ],
   "source": [
    "if kodlista == 'NULL':\n",
    "    Nyrad(tabell, kolumner, värden)"
   ]
  },
  {
   "cell_type": "markdown",
   "metadata": {},
   "source": [
    "## G: Enkättexter"
   ]
  },
  {
   "cell_type": "code",
   "execution_count": 206,
   "metadata": {},
   "outputs": [],
   "source": [
    "tabell = 'Enkättexter'\n",
    "\n",
    "kolumner = '(enkättext)'\n",
    "\n",
    "värden = '(\\'{}\\')'.format(enkättext)"
   ]
  },
  {
   "cell_type": "code",
   "execution_count": 207,
   "metadata": {},
   "outputs": [
    {
     "name": "stdout",
     "output_type": "stream",
     "text": [
      "\u001b[1mRad inlagd i tabellen Enkättexter\u001b[0m\n",
      "INSERT INTO Enkättexter (enkättext) VALUES ('Hur många gånger har du varit sjukskriven en vecka eller mindre under de senaste 12 månaderna? Räkna inte med vård av sjukt barn i ditt svar.')\n"
     ]
    }
   ],
   "source": [
    "Nyrad(tabell, kolumner, värden)"
   ]
  },
  {
   "cell_type": "markdown",
   "metadata": {},
   "source": [
    "## H: Svarstexter"
   ]
  },
  {
   "cell_type": "code",
   "execution_count": 208,
   "metadata": {},
   "outputs": [],
   "source": [
    "tabell = 'Svarstexter'\n",
    "\n",
    "kolumner = '(svarstext)'"
   ]
  },
  {
   "cell_type": "code",
   "execution_count": 209,
   "metadata": {},
   "outputs": [
    {
     "name": "stdout",
     "output_type": "stream",
     "text": [
      "\u001b[1mRad inlagd i tabellen Svarstexter\u001b[0m\n",
      "INSERT INTO Svarstexter (svarstext) VALUES ('Ingen gång')\n",
      "\u001b[1mRad inlagd i tabellen Svarstexter\u001b[0m\n",
      "INSERT INTO Svarstexter (svarstext) VALUES ('En gång')\n",
      "\u001b[1mRad inlagd i tabellen Svarstexter\u001b[0m\n",
      "INSERT INTO Svarstexter (svarstext) VALUES ('Två till tre gånger')\n",
      "\u001b[1mRad inlagd i tabellen Svarstexter\u001b[0m\n",
      "INSERT INTO Svarstexter (svarstext) VALUES ('Fyra gånger eller mer')\n",
      "\u001b[1mRad inlagd i tabellen Svarstexter\u001b[0m\n",
      "INSERT INTO Svarstexter (svarstext) VALUES ('Missing')\n"
     ]
    }
   ],
   "source": [
    "for i in filtsvar:\n",
    "    värden = '(\\'{}\\')'.format(i)\n",
    "    Nyrad(tabell, kolumner, värden)"
   ]
  },
  {
   "cell_type": "markdown",
   "metadata": {},
   "source": [
    "## D: Kodlistor_stor"
   ]
  },
  {
   "cell_type": "code",
   "execution_count": 210,
   "metadata": {},
   "outputs": [],
   "source": [
    "tabell = 'Kodlistor_stor'\n",
    "\n",
    "kolumner = ('KODLISTA', 'KOD', 'SVARSTEXT')"
   ]
  },
  {
   "cell_type": "markdown",
   "metadata": {},
   "source": [
    "Ifall kodlistan inte tidigare fanns i databasen har den nu lagts längst ner/bak i *Kodlistor* och tilldelats ett nummer. Detta nummer (snarare än \"NULL\") ska nu användas för att lägga in information i *Kodlistor_stor*."
   ]
  },
  {
   "cell_type": "code",
   "execution_count": 211,
   "metadata": {},
   "outputs": [],
   "source": [
    "if kodlista == 'NULL':\n",
    "\n",
    "    # Koppla databasen\n",
    "    conn = sqlite3.connect('SLOSH.db')\n",
    "\n",
    "    # Skapa en \"cursor\"... vet ej vad detta är, men det är nödvändigt.\n",
    "    cursor = conn.cursor()\n",
    "\n",
    "    # Denna query ska skrivas i SQL och körs av python mot databasen.\n",
    "    cursor.execute('SELECT kodlista FROM Kodlistor')\n",
    "\n",
    "    # Detta är en lista med vektorer. Varje vektor representerar en rad i tabellen.\n",
    "    rows = cursor.fetchall()\n",
    "\n",
    "    # Stäng databasen.\n",
    "    cursor.close()\n",
    "\n",
    "    kodlista = str(rows[-1][0])"
   ]
  },
  {
   "cell_type": "code",
   "execution_count": 212,
   "metadata": {},
   "outputs": [
    {
     "data": {
      "text/plain": [
       "'1'"
      ]
     },
     "execution_count": 212,
     "metadata": {},
     "output_type": "execute_result"
    }
   ],
   "source": [
    "kodlista"
   ]
  },
  {
   "cell_type": "code",
   "execution_count": 213,
   "metadata": {},
   "outputs": [
    {
     "name": "stdout",
     "output_type": "stream",
     "text": [
      "\u001b[1mRad inlagd i tabellen Kodlistor_stor\u001b[0m\n",
      "INSERT INTO Kodlistor_stor ('KODLISTA', 'KOD', 'SVARSTEXT') VALUES ('1', '1', 'Ingen gång')\n",
      "\u001b[1mRad inlagd i tabellen Kodlistor_stor\u001b[0m\n",
      "INSERT INTO Kodlistor_stor ('KODLISTA', 'KOD', 'SVARSTEXT') VALUES ('1', '2', 'En gång')\n",
      "\u001b[1mRad inlagd i tabellen Kodlistor_stor\u001b[0m\n",
      "INSERT INTO Kodlistor_stor ('KODLISTA', 'KOD', 'SVARSTEXT') VALUES ('1', '3', 'Två till tre gånger')\n",
      "\u001b[1mRad inlagd i tabellen Kodlistor_stor\u001b[0m\n",
      "INSERT INTO Kodlistor_stor ('KODLISTA', 'KOD', 'SVARSTEXT') VALUES ('1', '4', 'Fyra gånger eller mer')\n",
      "\u001b[1mRad inlagd i tabellen Kodlistor_stor\u001b[0m\n",
      "INSERT INTO Kodlistor_stor ('KODLISTA', 'KOD', 'SVARSTEXT') VALUES ('1', '.', 'Missing')\n"
     ]
    }
   ],
   "source": [
    "if nykodlista == 'ja':\n",
    "    for i in kodsvar.keys():\n",
    "        värden = '(\\'{}\\', \\'{}\\', \\'{}\\')'.format(kodlista, i, kodsvar[i])\n",
    "        #värden = ('NULL', kodlista, i, kodsvar[i])\n",
    "        Nyrad(tabell, kolumner, värden)"
   ]
  },
  {
   "cell_type": "markdown",
   "metadata": {},
   "source": [
    "## B: Variabler"
   ]
  },
  {
   "cell_type": "code",
   "execution_count": 217,
   "metadata": {},
   "outputs": [
    {
     "name": "stdout",
     "output_type": "stream",
     "text": [
      "INSERT INTO Variabler ('VARIABEL', 'enkät', 'BESKRIVNING', 'DUBBELKODNING', 'ITEMNR', 'enkättext', 'KODLISTA') VALUES ('sick1v_1', 'SLOSH 06 working', '', '1', 'B12_a', 'Hur många gånger har du varit sjukskriven en vecka eller mindre under de senaste 12 månaderna? Räkna inte med vård av sjukt barn i ditt svar.', '1')\n"
     ]
    }
   ],
   "source": [
    "tabell = 'Variabler'\n",
    "\n",
    "kolumner = ('VARIABEL', 'enkät', 'BESKRIVNING', 'DUBBELKODNING', 'ITEMNR', 'enkättext', 'KODLISTA')\n",
    "\n",
    "# värden = '(variabel, enkät, beskrivning, dubbelkodning, itemnr, enkättext, kodlista)\n",
    "\n",
    "värden = '(\\'{}\\', \\'{}\\', \\'{}\\', \\'{}\\', \\'{}\\', \\'{}\\', \\'{}\\')'.format(variabel, enkät, beskrivning, \n",
    "                                                                           dubbelkodning, itemnr, enkättext,\n",
    "                                                                          kodlista)\n",
    "\n",
    "print('INSERT INTO {} {} VALUES {}'.format(tabell, kolumner, värden))"
   ]
  },
  {
   "cell_type": "code",
   "execution_count": 220,
   "metadata": {},
   "outputs": [
    {
     "name": "stdout",
     "output_type": "stream",
     "text": [
      "\u001b[1mRad inlagd i tabellen Variabler\u001b[0m\n",
      "INSERT INTO Variabler ('VARIABEL', 'enkät', 'BESKRIVNING', 'DUBBELKODNING', 'ITEMNR', 'enkättext', 'KODLISTA') VALUES ('sick1v_1', 'SLOSH 06 working', '', '1', 'B12_a', 'Hur många gånger har du varit sjukskriven en vecka eller mindre under de senaste 12 månaderna? Räkna inte med vård av sjukt barn i ditt svar.', '1')\n"
     ]
    }
   ],
   "source": [
    "Nyrad(tabell, kolumner, värden)"
   ]
  }
 ],
 "metadata": {
  "kernelspec": {
   "display_name": "Python 3",
   "language": "python",
   "name": "python3"
  },
  "language_info": {
   "codemirror_mode": {
    "name": "ipython",
    "version": 3
   },
   "file_extension": ".py",
   "mimetype": "text/x-python",
   "name": "python",
   "nbconvert_exporter": "python",
   "pygments_lexer": "ipython3",
   "version": "3.7.3"
  }
 },
 "nbformat": 4,
 "nbformat_minor": 4
}

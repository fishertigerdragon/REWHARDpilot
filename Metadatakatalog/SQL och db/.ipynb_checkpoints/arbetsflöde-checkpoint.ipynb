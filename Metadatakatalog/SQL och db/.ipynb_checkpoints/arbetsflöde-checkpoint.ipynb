{
 "cells": [
  {
   "cell_type": "markdown",
   "metadata": {},
   "source": [
    "  # 0. Bibliotek och data\n",
    "  Biblioteket `sqlite3` krävs för att skapa funktionen `Nyrad()` nedan. SLOSH-datafilen läses in."
   ]
  },
  {
   "cell_type": "code",
   "execution_count": 1,
   "metadata": {},
   "outputs": [],
   "source": [
    "import sqlite3\n",
    "import pandas as pd"
   ]
  },
  {
   "cell_type": "code",
   "execution_count": 2,
   "metadata": {},
   "outputs": [],
   "source": [
    "datafil = r'\\\\win.su.se\\dfs\\common\\stressforskning.su.se\\SLOSH-data\\SLOSH och AMU\\SLOSH\\Enkätdata\\SLOSH (Huvudfil, t.o.m. 2018)\\Test\\Slosh_all_amuar_18.xlsx'\n",
    "\n",
    "df = pd.read_excel(datafil)"
   ]
  },
  {
   "cell_type": "markdown",
   "metadata": {},
   "source": [
    "# 1. Definiera funktionen Nyrad\n",
    "Funktionen `Nyrad()` tar (namnet på) en tabell, en tuple med kolumnnamn samt en tuple med kolumnvärden. Den skapar en rad av denna information och försöker lägga in den i databasen. Om den lyckas kommer den SQL-kod som används för att skapa raden att noteras i en text-fil. Denna text-fil ska tjäna dels som en backup men även som en logg. Skulle något hända med databasen går det enkelt att bara köra text-filen så återskapas allting.  \n",
    "  Ifall funktionen inte lyckas lägga in en rad i databasen, kanske p.g.a. att \"foregin key\" inte respekteras, kommer ett felmeddelande konstatera detta. För mer information om hur SQLite används i python: https://pynative.com/python-sqlite-insert-into-table/."
   ]
  },
  {
   "cell_type": "code",
   "execution_count": 3,
   "metadata": {},
   "outputs": [],
   "source": [
    "def Nyrad(tabell, kolumner, värden):    \n",
    "    try:\n",
    "        # Koppla databasen\n",
    "        conn = sqlite3.connect('SLOSH.db')\n",
    "\n",
    "        # Skapa en \"cursor\"... vet ej vad detta är, men det är nödvändigt.\n",
    "        cursor = conn.cursor()\n",
    "\n",
    "        # Denna query ska skrivas i SQL och körs av python mot databasen\n",
    "        sqlite_insert_query = 'INSERT INTO {} {} VALUES {}'.format(tabell, kolumner, värden)\n",
    "\n",
    "        # Först måste 'foreign key constraint' slås på, i SQLite är detta avstängt som default. \n",
    "        cursor.execute('PRAGMA foreign_keys = 1')\n",
    "\n",
    "        # Nu kan raden läggas in\n",
    "        cursor.execute(sqlite_insert_query)\n",
    "\n",
    "        # commit:a till databasen\n",
    "        conn.commit()\n",
    "        print('\\033[1m' + 'Rad inlagd i tabellen {}'.format(tabell) + '\\033[0m')\n",
    "\n",
    "        # Stäng\n",
    "        cursor.close()\n",
    "        \n",
    "        print('INSERT INTO {} {} VALUES {}'.format(tabell, kolumner, värden))\n",
    "        \n",
    "        # När en rad lagts till ska SQL-kommandot sparas i en textfil.\n",
    "        text = open(\"SQL-logg.txt\", \"a\", encoding = 'UTF-8')\n",
    "        text.write('INSERT INTO {} {} VALUES {};\\n \\n'.format(tabell, kolumner, värden))\n",
    "        text.close()\n",
    "\n",
    "    except sqlite3.Error as error:\n",
    "        print('\\033[1m' + 'Det gick ej att infoga data: ' + '\\033[0m', error)\n",
    "    finally:\n",
    "        if (conn):\n",
    "            conn.close()\n",
    "\n",
    "    "
   ]
  },
  {
   "cell_type": "markdown",
   "metadata": {},
   "source": [
    "# 2.Transkribera  \n",
    "Här transkriberas ett item i taget. Den transkriberade informationen kommer att användas för att skapa rader i flera olika tabeller. Exempelvis förekommer `kodlista` i tre olika tabeller. Se först hur stor andel av SLOSH som redan dokumenterats.    \n",
    "\n",
    "**OBS!**  \n",
    "Det är viktigt att databasfilen `SLOSH.db` inte används av något annat program samtidigt som pythonkärnan försöker få tillgång till den. Det går inte att skriva information till databasen från mer än ett ställe samtidigt. Se följande kommentar från stackoverflow:  \n",
    ">Yes SQLite can support multiple users at once. It does however lock the whole database when writing, so if you have lots of concurrent writes it is not the database you want (usually the time the database is locked is a few milliseconds - so for most uses this does not matter). But it is very well tested and very stable (and widely used) so you can trust it.\n",
    "You may read this short document for information when to use SQLite and not: http://www.sqlite.org/whentouse.html"
   ]
  },
  {
   "cell_type": "markdown",
   "metadata": {},
   "source": [
    "## <a id = \"1\">2.1 Andel av SLOSH som redan har dokumenterats</a>   \n",
    "Här jämförs antalet dokumenterade variabler i relationsdatabasen med det totala antalet variabler i SLOSH-datafilen. Notera att siffran underskattas eftersom datafilen innehåller registervariabler samt `r_x`-variabler. Dessa kommer aldrig att läggas in i relationsdatabasen."
   ]
  },
  {
   "cell_type": "code",
   "execution_count": 561,
   "metadata": {},
   "outputs": [
    {
     "name": "stdout",
     "output_type": "stream",
     "text": [
      "\u001b[1mAndel dokumenterad data:\u001b[0m53.5%\n"
     ]
    }
   ],
   "source": [
    "totvar = len(df.columns)\n",
    "\n",
    "# Koppla databasen\n",
    "conn = sqlite3.connect('SLOSH.db')\n",
    "\n",
    "# Skapa en \"cursor\"... vet ej vad detta är, men det är nödvändigt.\n",
    "cursor = conn.cursor()\n",
    "\n",
    "# Denna query ska skrivas i SQL och körs av python mot databasen\n",
    "cursor.execute('SELECT variabel FROM Variabler')\n",
    "\n",
    "dokvar = len(cursor.fetchall())\n",
    "\n",
    "# Stäng\n",
    "cursor.close()\n",
    "\n",
    "\n",
    "print('\\033[1m' + 'Andel dokumenterad data:' + '\\033[0m' + '{}%'.format(round(100*dokvar/totvar, 2)))"
   ]
  },
  {
   "cell_type": "markdown",
   "metadata": {},
   "source": [
    "## 2.2 Lista över variabler som inte dokumenterats "
   ]
  },
  {
   "cell_type": "code",
   "execution_count": 562,
   "metadata": {},
   "outputs": [
    {
     "data": {
      "text/plain": [
       "['Ej_delta_2012',\n",
       " 'Enk_2012',\n",
       " 'Inflkod_2012',\n",
       " 'LLstressA_2',\n",
       " 'LLstressB_2',\n",
       " 'LLstressC_2',\n",
       " 'LLstressD_2',\n",
       " 'LLstressE_2',\n",
       " 'LLstressF_2',\n",
       " 'LLstressG_2',\n",
       " 'LLstressH_2',\n",
       " 'LLstressI_2',\n",
       " 'LLstressJ_2',\n",
       " 'LLstressK_2',\n",
       " 'LLstressL_2',\n",
       " 'LLstressM_2',\n",
       " 'Pam3_2',\n",
       " 'Uenr_2012',\n",
       " 'accepted_2',\n",
       " 'advise_2',\n",
       " 'ageobstc_2',\n",
       " 'agepens_2',\n",
       " 'alder_2',\n",
       " 'alone_2',\n",
       " 'analgesic_2',\n",
       " 'apnoea_2',\n",
       " 'asthma_2',\n",
       " 'autodema_2',\n",
       " 'autoforc_2',\n",
       " 'autohelp_2',\n",
       " 'autoinsu_2',\n",
       " 'autosupp_2',\n",
       " 'autowast_2',\n",
       " 'backtowork_2',\n",
       " 'backwork_2',\n",
       " 'bankrupt_2',\n",
       " 'bedfree_2',\n",
       " 'bedwork_2',\n",
       " 'bored_2',\n",
       " 'box_2',\n",
       " 'burden_2',\n",
       " 'carehome_2',\n",
       " 'caresick_2',\n",
       " 'carsickhr_2',\n",
       " 'civil_2',\n",
       " 'collaps_2',\n",
       " 'comfort_2',\n",
       " 'company_2',\n",
       " 'compens_2',\n",
       " 'confboss_2',\n",
       " 'confirm_2',\n",
       " 'confmate_2',\n",
       " 'confothe_2',\n",
       " 'copd_2',\n",
       " 'cpain1_2',\n",
       " 'cpain2_2',\n",
       " 'cpainleft_2',\n",
       " 'cpainmid_2',\n",
       " 'cpainmin_2',\n",
       " 'cpainno_2',\n",
       " 'cpainoth_2',\n",
       " 'cpainsnom_2',\n",
       " 'cpainwhat_2',\n",
       " 'criticiz_2',\n",
       " 'demhigh_2',\n",
       " 'disparag_2',\n",
       " 'dosatis_2',\n",
       " 'dothings_2',\n",
       " 'dschaotic_2',\n",
       " 'dsdemocr_2',\n",
       " 'dsedu_2',\n",
       " 'dsfair_2',\n",
       " 'dshelp_2',\n",
       " 'dshelpjob_2',\n",
       " 'dsnecess_2',\n",
       " 'dsnewjob_2',\n",
       " 'dsopen_2',\n",
       " 'dsplanned_2',\n",
       " 'dutywork_2',\n",
       " 'energy_2',\n",
       " 'engaged_2',\n",
       " 'enjoydo_2',\n",
       " 'enjoylif_2',\n",
       " 'evemor_2',\n",
       " 'even_2',\n",
       " 'evening_2',\n",
       " 'famobstc_2',\n",
       " 'filler_2',\n",
       " 'fland_2',\n",
       " 'fodar_2',\n",
       " 'fodland2_2',\n",
       " 'food_2',\n",
       " 'freehow_2',\n",
       " 'freewhat_2',\n",
       " 'fulfill_2',\n",
       " 'futugood_2',\n",
       " 'gchburd_2',\n",
       " 'gchhr_2',\n",
       " 'getajob_2',\n",
       " 'grandchi_2',\n",
       " 'hearloss_2',\n",
       " 'help_2',\n",
       " 'hottxt_2',\n",
       " 'hour12_2',\n",
       " 'hour8_2',\n",
       " 'hourchild_2',\n",
       " 'hourhous_2',\n",
       " 'hourlong_2',\n",
       " 'hourordwork_2',\n",
       " 'hourothe_2',\n",
       " 'hourshort_2',\n",
       " 'hourway_2',\n",
       " 'hourwork_2',\n",
       " 'hppiness_2',\n",
       " 'hthobstc_2',\n",
       " 'humanity_2',\n",
       " 'ignored_2',\n",
       " 'indatum_2',\n",
       " 'infdays_2',\n",
       " 'inffree_2',\n",
       " 'infholi_2',\n",
       " 'infl_2',\n",
       " 'inflds_2',\n",
       " 'inflength_2',\n",
       " 'inflytan_2',\n",
       " 'infprivate_2',\n",
       " 'infrest_2',\n",
       " 'infstart_2',\n",
       " 'ink_2',\n",
       " 'interest_2',\n",
       " 'irritate_2',\n",
       " 'joboldorg_2',\n",
       " 'jobothorg_2',\n",
       " 'keepaway_2',\n",
       " 'kommun_2',\n",
       " 'kon_2',\n",
       " 'kund_2',\n",
       " 'lan_2',\n",
       " 'layoff_2',\n",
       " 'lazy_2',\n",
       " 'learfutu_2',\n",
       " 'leftagree_2',\n",
       " 'leftchil_2',\n",
       " 'leftdism_2',\n",
       " 'lefteduc_2',\n",
       " 'leftfami_2',\n",
       " 'leftheal_2',\n",
       " 'leftlife_2',\n",
       " 'leftout_2',\n",
       " 'leftown_2',\n",
       " 'leftpriv_2',\n",
       " 'leftrela_2',\n",
       " 'lefttoge_2',\n",
       " 'levehi_2',\n",
       " 'levelow_2',\n",
       " 'lifemean_2',\n",
       " 'lifeposs_2',\n",
       " 'lifesati_2',\n",
       " 'lifewait_2',\n",
       " 'lookforw_2',\n",
       " 'manacont_2',\n",
       " 'manaorg_2',\n",
       " 'manasupp_2',\n",
       " 'manatogh_2',\n",
       " 'meaning_2',\n",
       " 'medb2_2',\n",
       " 'medb_2',\n",
       " 'menteffo_2',\n",
       " 'mobbingtxt_2',\n",
       " 'monobstc_2',\n",
       " 'morg_2',\n",
       " 'morning_2',\n",
       " 'muscl_2',\n",
       " 'mycklite_2',\n",
       " 'neithernor_2',\n",
       " 'newdo_2',\n",
       " 'nightmare_2',\n",
       " 'nobelong_2',\n",
       " 'nocontrl_2',\n",
       " 'nohear_2',\n",
       " 'noisedist_2',\n",
       " 'norgchao_2',\n",
       " 'norgeff_2',\n",
       " 'norginsec_2',\n",
       " 'norgorg_2',\n",
       " 'norgstaff_2',\n",
       " 'noti_2',\n",
       " 'notihow_2',\n",
       " 'notitime_2',\n",
       " 'numredun_2',\n",
       " 'othepens_2',\n",
       " 'othersick_2',\n",
       " 'owndec_2',\n",
       " 'parental_2',\n",
       " 'payhr_2',\n",
       " 'physeffo_2',\n",
       " 'planfutu_2',\n",
       " 'pointles_2',\n",
       " 'proud_2',\n",
       " 'psycho_2',\n",
       " 'quitbett_2',\n",
       " 'quitecon_2',\n",
       " 'quitfami_2',\n",
       " 'quitfrien_2',\n",
       " 'quitlife_2',\n",
       " 'quitown_2',\n",
       " 'quitrelx_2',\n",
       " 'quitstres_2',\n",
       " 'quitwomo_2',\n",
       " 'quitwors_2',\n",
       " 'quitwoyr_2',\n",
       " 'r_2',\n",
       " 'realreason_2',\n",
       " 'reasonds_2',\n",
       " 'redinflu_2',\n",
       " 'rehaaut_2',\n",
       " 'rehabil_2',\n",
       " 'rehachoi_2',\n",
       " 'rehafutu_2',\n",
       " 'rehalong_2',\n",
       " 'rehamed_2',\n",
       " 'rehano_2',\n",
       " 'rehatxt_2',\n",
       " 'rehawork_2',\n",
       " 'repeat_2',\n",
       " 'resautho_2',\n",
       " 'reseconom_2',\n",
       " 'resequip_2',\n",
       " 'resinfo_2',\n",
       " 'respect_2',\n",
       " 'respers_2',\n",
       " 'resplife_2',\n",
       " 'respmat_2',\n",
       " 'rest11_2',\n",
       " 'rest15_2',\n",
       " 'restless_2',\n",
       " 'restlong_2',\n",
       " 'restshort_2',\n",
       " 'retirexp_2',\n",
       " 'rheuma_2',\n",
       " 'rls_2',\n",
       " 'satisfie_2',\n",
       " 'sei_2',\n",
       " 'shift_2',\n",
       " 'shiftyes_2',\n",
       " 'shortsle_2',\n",
       " 'sickacti_2',\n",
       " 'sickbene_2',\n",
       " 'sickburd_2',\n",
       " 'sickpens_2',\n",
       " 'sickworkd_2',\n",
       " 'skilful_2',\n",
       " 'sleepqua_2',\n",
       " 'slump_2',\n",
       " 'sluttkn_2',\n",
       " 'smooth_2',\n",
       " 'snoring_2',\n",
       " 'socinter_2',\n",
       " 'someask_2',\n",
       " 'someyou_2',\n",
       " 'soporific_2',\n",
       " 'ssyk_2',\n",
       " 'standby_2',\n",
       " 'stopwork_2',\n",
       " 'stratum_2',\n",
       " 'stravailf_2',\n",
       " 'stravailw_2',\n",
       " 'structure_2',\n",
       " 'studying_2',\n",
       " 'timenough_2',\n",
       " 'tiniprob_2',\n",
       " 'tinnitus_2',\n",
       " 'tiredhead_2',\n",
       " 'training_2',\n",
       " 'understa_2',\n",
       " 'unempl_2',\n",
       " 'unhappy_2',\n",
       " 'unpayhr_2',\n",
       " 'upfree_2',\n",
       " 'upwork_2',\n",
       " 'ursincopA_2',\n",
       " 'ursincopB_2',\n",
       " 'ursincopC_2',\n",
       " 'ursincopD_2',\n",
       " 'ursincopE_2',\n",
       " 'ursincopF_2',\n",
       " 'ursincopG_2',\n",
       " 'ursincopH_2',\n",
       " 'utb_niv_2',\n",
       " 'vikt_2',\n",
       " 'vollike_2',\n",
       " 'voltop_2',\n",
       " 'whypart_2',\n",
       " 'whyparttxt_2',\n",
       " 'workedu_2',\n",
       " 'workforc_2',\n",
       " 'workstatus_2',\n",
       " 'y2reorg_2',\n",
       " 'yrke_2',\n",
       " 'yrketxt_2']"
      ]
     },
     "execution_count": 562,
     "metadata": {},
     "output_type": "execute_result"
    }
   ],
   "source": [
    "v = 2\n",
    "\n",
    "slosh = [i for i in df.columns if i[-1] == str(v)]\n",
    "\n",
    "# Koppla databasen\n",
    "conn = sqlite3.connect('SLOSH.db')\n",
    "\n",
    "# Skapa en \"cursor\"... vet ej vad detta är, men det är nödvändigt.\n",
    "cursor = conn.cursor()\n",
    "\n",
    "# Denna query ska skrivas i SQL och körs av python mot databasen\n",
    "cursor.execute('SELECT variabel FROM Variabler')\n",
    "\n",
    "# alla variabler som finns i db\n",
    "dokvar = [i[0] for i in cursor.fetchall() if i[0][-1] == str(v)]\n",
    "\n",
    "# Stäng\n",
    "cursor.close()\n",
    "\n",
    "komplement = [i for i in slosh if i not in dokvar]\n",
    "\n",
    "komplement.sort()\n",
    "\n",
    "komplement"
   ]
  },
  {
   "cell_type": "markdown",
   "metadata": {},
   "source": [
    "Börja med den första variabeln i listan `komplement`."
   ]
  },
  {
   "cell_type": "code",
   "execution_count": 563,
   "metadata": {},
   "outputs": [],
   "source": [
    "variabel = komplement[0]"
   ]
  },
  {
   "cell_type": "markdown",
   "metadata": {},
   "source": [
    "Se efter ifall en given variabel förekommer i working, non-working eller båda.  \n",
    "Specificera först variabelnamnet."
   ]
  },
  {
   "cell_type": "code",
   "execution_count": 564,
   "metadata": {},
   "outputs": [
    {
     "name": "stdout",
     "output_type": "stream",
     "text": [
      "\u001b[1mResultat:\u001b[0m\n",
      "Variabeln Ej_delta_2012 förekommer i working och i non-working\n"
     ]
    }
   ],
   "source": [
    "r = 'r_{}'.format(variabel[-1])\n",
    "\n",
    "frek_nw = df.loc[df[r] == 1, variabel].value_counts()\n",
    "\n",
    "frek_w = df.loc[df[r] == 2, variabel].value_counts()\n",
    "\n",
    "if len(frek_w) == 0:\n",
    "    print('\\033[1m' + 'Resultat:' + '\\033[0m' + '\\nVariabeln {} förekommer ej i working'.format(variabel))\n",
    "    \n",
    "elif len(frek_nw) == 0:\n",
    "    print('\\033[1m' + 'Resultat:' + '\\033[0m' + '\\nVariabeln {} förekommer ej i non-working'.format(variabel))\n",
    "    \n",
    "else:\n",
    "    print('\\033[1m' + 'Resultat:' + '\\033[0m' + '\\nVariabeln {} förekommer i working och i non-working'.format(variabel))\n",
    "\n",
    "    "
   ]
  },
  {
   "cell_type": "markdown",
   "metadata": {},
   "source": [
    "## 2.3 Undersök frekvenstabellen och transkribera metadata"
   ]
  },
  {
   "cell_type": "code",
   "execution_count": 565,
   "metadata": {},
   "outputs": [
    {
     "data": {
      "text/plain": [
       "0.0    9617\n",
       "1.0     139\n",
       "Name: Ej_delta_2012, dtype: int64"
      ]
     },
     "execution_count": 565,
     "metadata": {},
     "output_type": "execute_result"
    }
   ],
   "source": [
    "r = 'r_{}'.format(variabel[-1])\n",
    "\n",
    "df.loc[df[r] == 2, variabel].value_counts(dropna = False).sort_index()"
   ]
  },
  {
   "cell_type": "code",
   "execution_count": 566,
   "metadata": {},
   "outputs": [
    {
     "data": {
      "text/plain": [
       "0.0    1640\n",
       "1.0      45\n",
       "Name: Ej_delta_2012, dtype: int64"
      ]
     },
     "execution_count": 566,
     "metadata": {},
     "output_type": "execute_result"
    }
   ],
   "source": [
    "r = 'r_{}'.format(variabel[-1])\n",
    "\n",
    "df.loc[df[r] == 1, variabel].value_counts(dropna = False).sort_index()"
   ]
  },
  {
   "cell_type": "markdown",
   "metadata": {},
   "source": [
    "Efter att ha tagit ställning till vilken (eller vilka) enkäter variabeln förekommer i går det att transkribera resten av informationen. Notera att ifall variabeln förekommer i både working och non-working måste det göras två insättningar relationsdatabasen. "
   ]
  },
  {
   "cell_type": "code",
   "execution_count": 500,
   "metadata": {},
   "outputs": [],
   "source": [
    "våg = 2 * int(variabel[-1]) + 4\n",
    "\n",
    "if våg < 10:\n",
    "    våg = '0{}'.format(str(våg))\n",
    "else:\n",
    "    våg = str(våg)"
   ]
  },
  {
   "cell_type": "code",
   "execution_count": 501,
   "metadata": {},
   "outputs": [],
   "source": [
    "enkät = 'SLOSH {} working'.format(våg)"
   ]
  },
  {
   "cell_type": "code",
   "execution_count": 517,
   "metadata": {},
   "outputs": [],
   "source": [
    "enkät = 'SLOSH {} non-working'.format(våg)"
   ]
  },
  {
   "cell_type": "code",
   "execution_count": 518,
   "metadata": {},
   "outputs": [
    {
     "name": "stdout",
     "output_type": "stream",
     "text": [
      "Enkät: SLOSH 08 non-working\n"
     ]
    }
   ],
   "source": [
    "beskrivning = ''\n",
    "itemnr = '1'\n",
    "\n",
    "enkättext = 'Vilken typ av anställning/arbete hade du innan du slutade arbeta?'\n",
    "dubbelkodning = '1'\n",
    "kodsvar = {'1': 'Annan anställningsform',\n",
    "           #'>11': 'slask',\n",
    "           '.': 'Missing'}\n",
    "\n",
    "\n",
    "\n",
    "print('Enkät: {}'.format(enkät))"
   ]
  },
  {
   "cell_type": "markdown",
   "metadata": {},
   "source": [
    "## 2.4 Finns kodlistan redan?  \n",
    "För att ta ställning till ifall kodlistan redan förekommer i databasen hämtas först all information i *Kodlistor_stor*. Ifall kodlistan redan finns sätts variabeln `kodlista` lika med det nummer kodlistan redan har i databasen. Om den *inte* finns sätts `kodlista` $ = $ 'NULL'. Ifall SQLite får detta som värde, och kolumnen ifråga är s.k. \"AUTOINCREMENT\", kommer kodlistan automatiskt få ett nytt heltal som id."
   ]
  },
  {
   "cell_type": "code",
   "execution_count": 519,
   "metadata": {},
   "outputs": [
    {
     "name": "stdout",
     "output_type": "stream",
     "text": [
      "\u001b[1mNy kodlista?\u001b[0m\n",
      "nej\n"
     ]
    }
   ],
   "source": [
    "# Koppla databasen\n",
    "conn = sqlite3.connect('SLOSH.db')\n",
    "\n",
    "# Skapa en \"cursor\"... vet ej vad detta är, men det är nödvändigt.\n",
    "cursor = conn.cursor()\n",
    "\n",
    "# Denna query ska skrivas i SQL och körs av python mot databasen.\n",
    "cursor.execute('SELECT * FROM Kodlistor_stor')\n",
    "\n",
    "# Detta är en lista med vektorer. Varje vektor representerar en rad i tabellen.\n",
    "rows = cursor.fetchall()\n",
    "\n",
    "# Stäng databasen.\n",
    "cursor.close()\n",
    "\n",
    "kods = []\n",
    "L = []\n",
    "\n",
    "# gå igenom varje vektor i listan\n",
    "for i in range(len(rows)):\n",
    "    \n",
    "    # Gäller bara första raden. Detta görs för att undvika index-fel nedan (i-1)\n",
    "    if len(L) == 0:\n",
    "        \n",
    "        # Välj ut kod och svarstext.\n",
    "        a = (rows[i][1], rows[i][2])\n",
    "        \n",
    "        # Lägg i a.\n",
    "        L.append(a)\n",
    "    else:\n",
    "        \n",
    "        # Ifall k_id skiljer från nuvarnade har loopen nått en ny kodlista. Skapa en dict av innehållet i L och\n",
    "        # nollställ sedan L inför nästa kodlista.\n",
    "        if rows[i][0] != rows[i-1][0]:\n",
    "            d = {j[0]: j[1] for j in L}\n",
    "            k = rows[i-1][0]\n",
    "            D = [k, d]\n",
    "            kods.append(D)\n",
    "            L = []\n",
    "        \n",
    "        if i == (len(rows) - 1):\n",
    "            a = (rows[i][1], rows[i][2])\n",
    "            L.append(a)\n",
    "            d = {j[0]: j[1] for j in L}\n",
    "            k = rows[i][0]\n",
    "            D = [k, d]\n",
    "            kods.append(D)\n",
    "            break\n",
    "\n",
    "           \n",
    "            \n",
    "        a = (rows[i][1], rows[i][2])\n",
    "        L.append(a)\n",
    "\n",
    "        \n",
    "nykodlista = 'ja'\n",
    "kodlista = 'NULL'\n",
    "\n",
    "# Om kodlistan redan finns hämtas dess namn och läggs i variabeln kodlista.\n",
    "for i in kods:\n",
    "    if kodsvar == i[1]:\n",
    "        kodlista = i[0]\n",
    "        nykodlista = 'nej'\n",
    "        break\n",
    "        \n",
    "        \n",
    "print('\\033[1m' + 'Ny kodlista?' + '\\033[0m' + '\\n{}'.format(nykodlista))    "
   ]
  },
  {
   "cell_type": "markdown",
   "metadata": {},
   "source": [
    "## 2.5 Finns svarstexterna redan?  \n",
    "För att slippa att loopen som lägger in svarstexter nedan avbryts halvvägs igenom av att någon svarstext redan finns i databasen filtreras svarstexterna här. Om de redan är inlagda görs inget försök att lägga in dem igen."
   ]
  },
  {
   "cell_type": "code",
   "execution_count": 520,
   "metadata": {},
   "outputs": [
    {
     "name": "stdout",
     "output_type": "stream",
     "text": [
      "\u001b[1mInga nya svarstexter\u001b[0m\n"
     ]
    }
   ],
   "source": [
    "# Koppla databasen\n",
    "conn = sqlite3.connect('SLOSH.db')\n",
    "\n",
    "# Skapa en \"cursor\"... vet ej vad detta är, men det är nödvändigt.\n",
    "cursor = conn.cursor()\n",
    "\n",
    "# Denna query ska skrivas i SQL och körs av python mot databasen.\n",
    "cursor.execute('SELECT * FROM Svarstexter')\n",
    "\n",
    "# Detta är en lista med vektorer. Varje vektor representerar en rad i tabellen.\n",
    "rows = cursor.fetchall()\n",
    "\n",
    "# Stäng databasen.\n",
    "cursor.close()\n",
    "\n",
    "# De transkriberade svarstexterna.\n",
    "svarstexter = list(kodsvar.values())\n",
    "\n",
    "# rows innehåller vektorer. Här plockat texten ut från vektorerna.\n",
    "dbsvar = [i[0] for i in rows]\n",
    "\n",
    "# En lista med de svarstexter som inte redan finns i databasen.\n",
    "filtsvar = [i for i in svarstexter if i not in dbsvar]\n",
    "\n",
    "if len(filtsvar) > 0:\n",
    "    print('\\033[1m' + 'Nya svarstexter:' + '\\033[0m', filtsvar)\n",
    "    filtsvar\n",
    "else:\n",
    "    print('\\033[1m' + 'Inga nya svarstexter' + '\\033[0m')"
   ]
  },
  {
   "cell_type": "markdown",
   "metadata": {},
   "source": [
    "# 4. Infoga rader i databasen  \n",
    "Nu kommer den transkriberade informationen att användas tillsamman med funktionen `Nyrad()` för var och en av tabellerna i databasen."
   ]
  },
  {
   "cell_type": "markdown",
   "metadata": {},
   "source": [
    "## C: Kodlistor"
   ]
  },
  {
   "cell_type": "code",
   "execution_count": 521,
   "metadata": {},
   "outputs": [],
   "source": [
    "tabell = 'Kodlistor'\n",
    "\n",
    "kolumner = '(kodlista)'\n",
    "\n",
    "värden = '({})'.format(kodlista)"
   ]
  },
  {
   "cell_type": "code",
   "execution_count": 522,
   "metadata": {},
   "outputs": [
    {
     "name": "stdout",
     "output_type": "stream",
     "text": [
      "\u001b[1mIngen ny data!\u001b[0m\n"
     ]
    }
   ],
   "source": [
    "if kodlista == 'NULL':\n",
    "    Nyrad(tabell, kolumner, värden)\n",
    "else:\n",
    "    print('\\033[1m' + 'Ingen ny data!'+ '\\033[0m')"
   ]
  },
  {
   "cell_type": "markdown",
   "metadata": {},
   "source": [
    "## G: Enkättexter"
   ]
  },
  {
   "cell_type": "code",
   "execution_count": 523,
   "metadata": {},
   "outputs": [],
   "source": [
    "tabell = 'Enkättexter'\n",
    "\n",
    "kolumner = '(enkättext)'\n",
    "\n",
    "värden = '(\\'{}\\')'.format(enkättext)"
   ]
  },
  {
   "cell_type": "code",
   "execution_count": 524,
   "metadata": {},
   "outputs": [
    {
     "name": "stdout",
     "output_type": "stream",
     "text": [
      "\u001b[1mDet gick ej att infoga data: \u001b[0m UNIQUE constraint failed: Enkättexter.enkättext\n"
     ]
    }
   ],
   "source": [
    "Nyrad(tabell, kolumner, värden)"
   ]
  },
  {
   "cell_type": "markdown",
   "metadata": {},
   "source": [
    "## H: Svarstexter"
   ]
  },
  {
   "cell_type": "code",
   "execution_count": 525,
   "metadata": {},
   "outputs": [],
   "source": [
    "tabell = 'Svarstexter'\n",
    "\n",
    "kolumner = '(svarstext)'"
   ]
  },
  {
   "cell_type": "code",
   "execution_count": 526,
   "metadata": {},
   "outputs": [
    {
     "name": "stdout",
     "output_type": "stream",
     "text": [
      "\u001b[1mIngen ny data!\u001b[0m\n"
     ]
    }
   ],
   "source": [
    "if len(filtsvar) > 0:\n",
    "    for i in filtsvar:\n",
    "        värden = '(\\'{}\\')'.format(i)\n",
    "        Nyrad(tabell, kolumner, värden)\n",
    "else:\n",
    "    print('\\033[1m' + 'Ingen ny data!'+ '\\033[0m')"
   ]
  },
  {
   "cell_type": "markdown",
   "metadata": {},
   "source": [
    "## D: Kodlistor_stor"
   ]
  },
  {
   "cell_type": "code",
   "execution_count": 527,
   "metadata": {},
   "outputs": [],
   "source": [
    "tabell = 'Kodlistor_stor'\n",
    "\n",
    "kolumner = ('KODLISTA', 'KOD', 'SVARSTEXT')"
   ]
  },
  {
   "cell_type": "markdown",
   "metadata": {},
   "source": [
    "Ifall kodlistan inte tidigare fanns i databasen har den nu lagts längst ner/bak i *Kodlistor* och tilldelats ett nummer. Detta nummer (snarare än \"NULL\") ska nu användas för att lägga in information i *Kodlistor_stor*."
   ]
  },
  {
   "cell_type": "code",
   "execution_count": 528,
   "metadata": {},
   "outputs": [],
   "source": [
    "if kodlista == 'NULL':\n",
    "\n",
    "    # Koppla databasen\n",
    "    conn = sqlite3.connect('SLOSH.db')\n",
    "\n",
    "    # Skapa en \"cursor\"... vet ej vad detta är, men det är nödvändigt.\n",
    "    cursor = conn.cursor()\n",
    "\n",
    "    # Denna query ska skrivas i SQL och körs av python mot databasen.\n",
    "    cursor.execute('SELECT kodlista FROM Kodlistor')\n",
    "\n",
    "    # Detta är en lista med vektorer. Varje vektor representerar en rad i tabellen.\n",
    "    rows = cursor.fetchall()\n",
    "\n",
    "    # Stäng databasen.\n",
    "    cursor.close()\n",
    "\n",
    "    kodlista = str(rows[-1][0])"
   ]
  },
  {
   "cell_type": "code",
   "execution_count": 529,
   "metadata": {},
   "outputs": [
    {
     "data": {
      "text/plain": [
       "'217'"
      ]
     },
     "execution_count": 529,
     "metadata": {},
     "output_type": "execute_result"
    }
   ],
   "source": [
    "kodlista"
   ]
  },
  {
   "cell_type": "code",
   "execution_count": 530,
   "metadata": {},
   "outputs": [
    {
     "name": "stdout",
     "output_type": "stream",
     "text": [
      "\u001b[1mIngen ny data!\u001b[0m\n"
     ]
    }
   ],
   "source": [
    "if nykodlista == 'ja':\n",
    "    for i in kodsvar.keys():\n",
    "        värden = '(\\'{}\\', \\'{}\\', \\'{}\\')'.format(kodlista, i, kodsvar[i])\n",
    "        #värden = ('NULL', kodlista, i, kodsvar[i])\n",
    "        Nyrad(tabell, kolumner, värden)\n",
    "else:\n",
    "    print('\\033[1m' + 'Ingen ny data!'+ '\\033[0m')"
   ]
  },
  {
   "cell_type": "markdown",
   "metadata": {},
   "source": [
    "## B: Variabler"
   ]
  },
  {
   "cell_type": "code",
   "execution_count": 531,
   "metadata": {},
   "outputs": [],
   "source": [
    "tabell = 'Variabler'\n",
    "\n",
    "kolumner = ('VARIABEL', 'enkät', 'BESKRIVNING', 'DUBBELKODNING', 'ITEMNR', 'enkättext', 'KODLISTA')\n",
    "\n",
    "# värden = '(variabel, enkät, beskrivning, dubbelkodning, itemnr, enkättext, kodlista)\n",
    "\n",
    "värden = '(\\'{}\\', \\'{}\\', \\'{}\\', \\'{}\\', \\'{}\\', \\'{}\\', \\'{}\\')'.format(variabel, enkät, beskrivning, \n",
    "                                                                           dubbelkodning, itemnr, enkättext,\n",
    "                                                                          kodlista)"
   ]
  },
  {
   "cell_type": "code",
   "execution_count": 532,
   "metadata": {},
   "outputs": [
    {
     "name": "stdout",
     "output_type": "stream",
     "text": [
      "\u001b[1mRad inlagd i tabellen Variabler\u001b[0m\n",
      "INSERT INTO Variabler ('VARIABEL', 'enkät', 'BESKRIVNING', 'DUBBELKODNING', 'ITEMNR', 'enkättext', 'KODLISTA') VALUES ('otheremp_2', 'SLOSH 08 non-working', '', '1', '1', 'Vilken typ av anställning/arbete hade du innan du slutade arbeta?', '217')\n"
     ]
    }
   ],
   "source": [
    "Nyrad(tabell, kolumner, värden)"
   ]
  },
  {
   "cell_type": "markdown",
   "metadata": {},
   "source": [
    "[Tillbaka till 2.1](#1)"
   ]
  },
  {
   "cell_type": "markdown",
   "metadata": {},
   "source": [
    "# Saknade/konstiga variabler  \n",
    "* bedmwork_2\n",
    "* bedhwork_2  \n",
    "* bedmfree_2  \n",
    "* bedhfree_2, på samma sätt för \"up\" istället för \"bed\". För de hör variablerna har jag glömt att för itemnr skriva \"B\" innan t.ex. 15. Detta måste gå att göra enkelt i efterhand.  \n",
    "* ladder_4 har en väldigt konstig kodlista. Fråga Connie?  \n",
    "* situatxx_1. Kodboken är dunkel  \n",
    "* titlepre_1 verkar vara felkodad. Enligt datafilen ska den endast förekomma i working, men enligt enkäten och kodboken ska den endast förekomma i non-working.  \n",
    "* dosatis_1 ska enligt kodboken förekomma i 2006 non-working, C26_g, men enkättexten stämmer inte.\n",
    "  \n",
    "Det finns förmodligen en kodlista som har kod/text '0-24' men detta är förstås fel, det borde vara '0-23'."
   ]
  }
 ],
 "metadata": {
  "kernelspec": {
   "display_name": "Python 3",
   "language": "python",
   "name": "python3"
  },
  "language_info": {
   "codemirror_mode": {
    "name": "ipython",
    "version": 3
   },
   "file_extension": ".py",
   "mimetype": "text/x-python",
   "name": "python",
   "nbconvert_exporter": "python",
   "pygments_lexer": "ipython3",
   "version": "3.7.3"
  }
 },
 "nbformat": 4,
 "nbformat_minor": 4
}

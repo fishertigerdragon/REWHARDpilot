{
 "cells": [
  {
   "cell_type": "markdown",
   "metadata": {},
   "source": [
    "  # 0. Bibliotek och data\n",
    "  Biblioteket `sqlite3` krävs för att skapa funktionen `Nyrad()` nedan. SLOSH-datafilen läses in."
   ]
  },
  {
   "cell_type": "code",
   "execution_count": 1,
   "metadata": {},
   "outputs": [],
   "source": [
    "import sqlite3\n",
    "import pandas as pd"
   ]
  },
  {
   "cell_type": "code",
   "execution_count": 2,
   "metadata": {},
   "outputs": [],
   "source": [
    "datafil = r'\\\\win.su.se\\dfs\\common\\stressforskning.su.se\\SLOSH-data\\SLOSH och AMU\\SLOSH\\Enkätdata\\SLOSH (Huvudfil, t.o.m. 2018)\\Test\\Slosh_all_amuar_18.xlsx'\n",
    "\n",
    "df = pd.read_excel(datafil)"
   ]
  },
  {
   "cell_type": "markdown",
   "metadata": {},
   "source": [
    "# 1. Definiera funktionen Nyrad\n",
    "Funktionen `Nyrad()` tar (namnet på) en tabell, en tuple med kolumnnamn samt en tuple med kolumnvärden. Den skapar en rad av denna information och försöker lägga in den i databasen. Om den lyckas kommer den SQL-kod som används för att skapa raden att noteras i en text-fil. Denna text-fil ska tjäna dels som en backup men även som en logg. Skulle något hända med databasen går det enkelt att bara köra text-filen så återskapas allting.  \n",
    "  Ifall funktionen inte lyckas lägga in en rad i databasen, kanske p.g.a. att \"foregin key\" inte respekteras, kommer ett felmeddelande konstatera detta. För mer information om hur SQLite används i python: https://pynative.com/python-sqlite-insert-into-table/."
   ]
  },
  {
   "cell_type": "code",
   "execution_count": 3,
   "metadata": {},
   "outputs": [],
   "source": [
    "def Nyrad(tabell, kolumner, värden):    \n",
    "    try:\n",
    "        # Koppla databasen\n",
    "        conn = sqlite3.connect('SLOSH.db')\n",
    "\n",
    "        # Skapa en \"cursor\"... vet ej vad detta är, men det är nödvändigt.\n",
    "        cursor = conn.cursor()\n",
    "\n",
    "        # Denna query ska skrivas i SQL och körs av python mot databasen\n",
    "        sqlite_insert_query = 'INSERT INTO {} {} VALUES {}'.format(tabell, kolumner, värden)\n",
    "\n",
    "        # Först måste 'foreign key constraint' slås på, i SQLite är detta avstängt som default. \n",
    "        cursor.execute('PRAGMA foreign_keys = 1')\n",
    "\n",
    "        # Nu kan raden läggas in\n",
    "        cursor.execute(sqlite_insert_query)\n",
    "\n",
    "        # commit:a till databasen\n",
    "        conn.commit()\n",
    "        print('\\033[1m' + 'Rad inlagd i tabellen {}'.format(tabell) + '\\033[0m')\n",
    "\n",
    "        # Stäng\n",
    "        cursor.close()\n",
    "        \n",
    "        print('INSERT INTO {} {} VALUES {}'.format(tabell, kolumner, värden))\n",
    "        \n",
    "        # När en rad lagts till ska SQL-kommandot sparas i en textfil.\n",
    "        text = open(\"SQL-logg.txt\", \"a\", encoding = 'UTF-8')\n",
    "        text.write('INSERT INTO {} {} VALUES {};\\n \\n'.format(tabell, kolumner, värden))\n",
    "        text.close()\n",
    "\n",
    "    except sqlite3.Error as error:\n",
    "        print('\\033[1m' + 'Det gick ej att infoga data: ' + '\\033[0m', error)\n",
    "    finally:\n",
    "        if (conn):\n",
    "            conn.close()\n",
    "\n",
    "    "
   ]
  },
  {
   "cell_type": "markdown",
   "metadata": {},
   "source": [
    "# 2.Transkribera  \n",
    "Här transkriberas ett item i taget. Den transkriberade informationen kommer att användas för att skapa rader i flera olika tabeller. Exempelvis förekommer `kodlista` i tre olika tabeller. Se först hur stor andel av SLOSH som redan dokumenterats.    \n",
    "\n",
    "**OBS!**  \n",
    "Det är viktigt att databasfilen `SLOSH.db` inte används av något annat program samtidigt som pythonkärnan försöker få tillgång till den. Det går inte att skriva information till databasen från mer än ett ställe samtidigt. Se följande kommentar från stackoverflow:  \n",
    ">Yes SQLite can support multiple users at once. It does however lock the whole database when writing, so if you have lots of concurrent writes it is not the database you want (usually the time the database is locked is a few milliseconds - so for most uses this does not matter). But it is very well tested and very stable (and widely used) so you can trust it.\n",
    "You may read this short document for information when to use SQLite and not: http://www.sqlite.org/whentouse.html"
   ]
  },
  {
   "cell_type": "markdown",
   "metadata": {},
   "source": [
    "## 2.1 Andel av SLOSH som redan har dokumenterats  \n",
    "Här jämförs antalet dokumenterade variabler i relationsdatabasen med det totala antalet variabler i SLOSH-datafilen. Notera att siffran underskattas eftersom datafilen innehåller registervariabler samt `r_x`-variabler. Dessa kommer aldrig att läggas in i relationsdatabasen."
   ]
  },
  {
   "cell_type": "code",
   "execution_count": 4,
   "metadata": {},
   "outputs": [
    {
     "name": "stdout",
     "output_type": "stream",
     "text": [
      "\u001b[1mAndel dokumenterad data:\u001b[0m93.54%\n"
     ]
    }
   ],
   "source": [
    "totvar = len(df.columns)\n",
    "\n",
    "# Koppla databasen\n",
    "conn = sqlite3.connect('SLOSH.db')\n",
    "\n",
    "# Skapa en \"cursor\"... vet ej vad detta är, men det är nödvändigt.\n",
    "cursor = conn.cursor()\n",
    "\n",
    "# Denna query ska skrivas i SQL och körs av python mot databasen\n",
    "cursor.execute('SELECT variabel FROM Variabler')\n",
    "\n",
    "dokvar = len(set(cursor.fetchall()))\n",
    "\n",
    "# Stäng\n",
    "cursor.close()\n",
    "\n",
    "\n",
    "print('\\033[1m' + 'Andel dokumenterad data:' + '\\033[0m' + '{}%'.format(round(100*dokvar/totvar, 2)))"
   ]
  },
  {
   "cell_type": "markdown",
   "metadata": {},
   "source": [
    "Skapa en excelfil som innehåller alla itemnr, för en given enkät, som redan dokumenterats"
   ]
  },
  {
   "cell_type": "code",
   "execution_count": 5,
   "metadata": {},
   "outputs": [],
   "source": [
    "# Koppla databasen\n",
    "conn = sqlite3.connect('SLOSH.db')\n",
    "\n",
    "# Skapa en \"cursor\"... vet ej vad detta är, men det är nödvändigt.\n",
    "cursor = conn.cursor()\n",
    "\n",
    "# Denna query ska skrivas i SQL och körs av python mot databasen\n",
    "cursor.execute('SELECT variabel, enkät, itemnr, enkättext FROM Variabler')\n",
    "\n",
    "data = cursor.fetchall()\n",
    "\n",
    "cursor.close()\n",
    "\n",
    "variabel = [i[0] for i in data]\n",
    "\n",
    "enkät = [i[1] for i in data]\n",
    "\n",
    "itemnr = [i[2] for i in data]\n",
    "\n",
    "enkättext = [i[3] for i in data]\n",
    "\n",
    "D = pd.DataFrame(list(zip(variabel, enkät, itemnr, enkättext)), columns = ['Variabel', 'Enkät', 'Itemnr', 'enkättext'])"
   ]
  },
  {
   "cell_type": "code",
   "execution_count": 6,
   "metadata": {},
   "outputs": [],
   "source": [
    "excelfil = D.loc[D.Enkät == 'SLOSH 18 non-working', :]\n",
    "\n",
    "excelfil.to_excel('nw18.xlsx')"
   ]
  },
  {
   "cell_type": "markdown",
   "metadata": {},
   "source": [
    "## <a id = \"1\">2.2 Har variabeln redan dokumenterats?</a> "
   ]
  },
  {
   "cell_type": "code",
   "execution_count": 29,
   "metadata": {},
   "outputs": [],
   "source": [
    "a = 'unpaybur'\n",
    "b = '_7'\n",
    "variabel = a+b"
   ]
  },
  {
   "cell_type": "code",
   "execution_count": 30,
   "metadata": {},
   "outputs": [
    {
     "name": "stdout",
     "output_type": "stream",
     "text": [
      "\u001b[1mVariabeln är redan dokumenterad\u001b[0m\n"
     ]
    }
   ],
   "source": [
    "v = variabel[-1]\n",
    "\n",
    "slosh = [i for i in df.columns if i[-1] == str(v)]\n",
    "\n",
    "# Koppla databasen\n",
    "conn = sqlite3.connect('SLOSH.db')\n",
    "\n",
    "# Skapa en \"cursor\"... vet ej vad detta är, men det är nödvändigt.\n",
    "cursor = conn.cursor()\n",
    "\n",
    "# Denna query ska skrivas i SQL och körs av python mot databasen\n",
    "cursor.execute('SELECT variabel FROM Variabler')\n",
    "\n",
    "# alla variabler som finns i db\n",
    "dokvar = [i[0] for i in cursor.fetchall()]\n",
    "\n",
    "# Stäng\n",
    "cursor.close()\n",
    "\n",
    "if variabel in dokvar:\n",
    "    print('\\033[1m' + 'Variabeln är redan dokumenterad' + '\\033[0m')\n",
    "else:\n",
    "    print('\\033[1m' + 'Ny variabel!' + '\\033[0m')"
   ]
  },
  {
   "cell_type": "markdown",
   "metadata": {},
   "source": [
    "Se efter ifall en given variabel förekommer i working, non-working eller båda.  \n",
    "Specificera först variabelnamnet."
   ]
  },
  {
   "cell_type": "code",
   "execution_count": 31,
   "metadata": {},
   "outputs": [
    {
     "name": "stdout",
     "output_type": "stream",
     "text": [
      "\u001b[1mResultat:\u001b[0m\n",
      "Variabeln unpaybur_7 förekommer i working och i non-working\n"
     ]
    }
   ],
   "source": [
    "r = 'r_{}'.format(variabel[-1])\n",
    "\n",
    "frek_nw = df.loc[df[r] == 1, variabel].value_counts()\n",
    "\n",
    "frek_w = df.loc[df[r] == 2, variabel].value_counts()\n",
    "\n",
    "if len(frek_w) == 0:\n",
    "    print('\\033[1m' + 'Resultat:' + '\\033[0m' + '\\nVariabeln {} förekommer ej i working'.format(variabel))\n",
    "    \n",
    "elif len(frek_nw) == 0:\n",
    "    print('\\033[1m' + 'Resultat:' + '\\033[0m' + '\\nVariabeln {} förekommer ej i non-working'.format(variabel))\n",
    "    \n",
    "else:\n",
    "    print('\\033[1m' + 'Resultat:' + '\\033[0m' + '\\nVariabeln {} förekommer i working och i non-working'.format(variabel))\n",
    "\n",
    "    "
   ]
  },
  {
   "cell_type": "markdown",
   "metadata": {},
   "source": [
    "## 2.3 Undersök frekvenstabellen och transkribera metadata"
   ]
  },
  {
   "cell_type": "code",
   "execution_count": 32,
   "metadata": {},
   "outputs": [
    {
     "data": {
      "text/plain": [
       "1.0      58\n",
       "2.0    1144\n",
       "3.0    2417\n",
       "NaN    7934\n",
       "Name: unpaybur_7, dtype: int64"
      ]
     },
     "execution_count": 32,
     "metadata": {},
     "output_type": "execute_result"
    }
   ],
   "source": [
    "r = 'r_{}'.format(variabel[-1])\n",
    "\n",
    "df.loc[df[r] == 2, variabel].value_counts(dropna = False).sort_index()"
   ]
  },
  {
   "cell_type": "code",
   "execution_count": 33,
   "metadata": {},
   "outputs": [
    {
     "data": {
      "text/plain": [
       "1.0        18\n",
       "2.0       454\n",
       "3.0      1810\n",
       "23.0        2\n",
       "123.0       1\n",
       "NaN      4003\n",
       "Name: unpaybur_7, dtype: int64"
      ]
     },
     "execution_count": 33,
     "metadata": {},
     "output_type": "execute_result"
    }
   ],
   "source": [
    "r = 'r_{}'.format(variabel[-1])\n",
    "\n",
    "df.loc[df[r] == 1, variabel].value_counts(dropna = False).sort_index()"
   ]
  },
  {
   "cell_type": "markdown",
   "metadata": {},
   "source": [
    "Efter att ha tagit ställning till vilken (eller vilka) enkäter variabeln förekommer i går det att transkribera resten av informationen. Notera att ifall variabeln förekommer i både working och non-working måste det göras två insättningar relationsdatabasen. "
   ]
  },
  {
   "cell_type": "code",
   "execution_count": 34,
   "metadata": {},
   "outputs": [],
   "source": [
    "våg = 2 * int(variabel[-1]) + 4\n",
    "\n",
    "if våg < 10:\n",
    "    våg = '0{}'.format(str(våg))\n",
    "else:\n",
    "    våg = str(våg)"
   ]
  },
  {
   "cell_type": "code",
   "execution_count": 35,
   "metadata": {},
   "outputs": [],
   "source": [
    "enkät = 'SLOSH {} working'.format(våg)"
   ]
  },
  {
   "cell_type": "code",
   "execution_count": 37,
   "metadata": {},
   "outputs": [],
   "source": [
    "enkät = 'SLOSH {} non-working'.format(våg)"
   ]
  },
  {
   "cell_type": "code",
   "execution_count": 38,
   "metadata": {},
   "outputs": [
    {
     "name": "stdout",
     "output_type": "stream",
     "text": [
      "Enkät: SLOSH 18 non-working\n"
     ]
    }
   ],
   "source": [
    "beskrivning = ''\n",
    "\n",
    "itemnr = '22_b'\n",
    "\n",
    "enkättext = 'Om du arbetar frivilligt, upplever du det som en belastning?'\n",
    "\n",
    "dubbelkodning = ''\n",
    "\n",
    "kodsvar = {'1': 'Ja, ofta',\n",
    "           '2': 'Ja, ibland',\n",
    "           '3': 'Nej, aldrig',\n",
    "           '>11': 'slask',\n",
    "           '.': 'Missing'}\n",
    "          \n",
    "\n",
    "\n",
    "print('Enkät: {}'.format(enkät))"
   ]
  },
  {
   "cell_type": "markdown",
   "metadata": {},
   "source": [
    "## 2.4 Finns kodlistan redan?  \n",
    "För att ta ställning till ifall kodlistan redan förekommer i databasen hämtas först all information i *Kodlistor_stor*. Ifall kodlistan redan finns sätts variabeln `kodlista` lika med det nummer kodlistan redan har i databasen. Om den *inte* finns sätts `kodlista` $ = $ 'NULL'. Ifall SQLite får detta som värde, och kolumnen ifråga är s.k. \"AUTOINCREMENT\", kommer kodlistan automatiskt få ett nytt heltal som id."
   ]
  },
  {
   "cell_type": "code",
   "execution_count": 39,
   "metadata": {},
   "outputs": [
    {
     "name": "stdout",
     "output_type": "stream",
     "text": [
      "\u001b[1mNy kodlista?\u001b[0m\n",
      "nej\n"
     ]
    }
   ],
   "source": [
    "# Koppla databasen\n",
    "conn = sqlite3.connect('SLOSH.db')\n",
    "\n",
    "# Skapa en \"cursor\"... vet ej vad detta är, men det är nödvändigt.\n",
    "cursor = conn.cursor()\n",
    "\n",
    "# Denna query ska skrivas i SQL och körs av python mot databasen.\n",
    "cursor.execute('SELECT * FROM Kodlistor_stor')\n",
    "\n",
    "# Detta är en lista med vektorer. Varje vektor representerar en rad i tabellen.\n",
    "rows = cursor.fetchall()\n",
    "\n",
    "# Stäng databasen.\n",
    "cursor.close()\n",
    "\n",
    "kods = []\n",
    "L = []\n",
    "\n",
    "# gå igenom varje vektor i listan\n",
    "for i in range(len(rows)):\n",
    "    \n",
    "    # Gäller bara första raden. Detta görs för att undvika index-fel nedan (i-1)\n",
    "    if len(L) == 0:\n",
    "        \n",
    "        # Välj ut kod och svarstext.\n",
    "        a = (rows[i][1], rows[i][2])\n",
    "        \n",
    "        # Lägg i a.\n",
    "        L.append(a)\n",
    "    else:\n",
    "        \n",
    "        # Ifall k_id skiljer från nuvarnade har loopen nått en ny kodlista. Skapa en dict av innehållet i L och\n",
    "        # nollställ sedan L inför nästa kodlista.\n",
    "        if rows[i][0] != rows[i-1][0]:\n",
    "            d = {j[0]: j[1] for j in L}\n",
    "            k = rows[i-1][0]\n",
    "            D = [k, d]\n",
    "            kods.append(D)\n",
    "            L = []\n",
    "        \n",
    "        if i == (len(rows) - 1):\n",
    "            a = (rows[i][1], rows[i][2])\n",
    "            L.append(a)\n",
    "            d = {j[0]: j[1] for j in L}\n",
    "            k = rows[i][0]\n",
    "            D = [k, d]\n",
    "            kods.append(D)\n",
    "            break\n",
    "\n",
    "           \n",
    "            \n",
    "        a = (rows[i][1], rows[i][2])\n",
    "        L.append(a)\n",
    "\n",
    "        \n",
    "nykodlista = 'ja'\n",
    "kodlista = 'NULL'\n",
    "\n",
    "# Om kodlistan redan finns hämtas dess namn och läggs i variabeln kodlista.\n",
    "for i in kods:\n",
    "    if kodsvar == i[1]:\n",
    "        kodlista = i[0]\n",
    "        nykodlista = 'nej'\n",
    "        break\n",
    "        \n",
    "        \n",
    "print('\\033[1m' + 'Ny kodlista?' + '\\033[0m' + '\\n{}'.format(nykodlista))    "
   ]
  },
  {
   "cell_type": "markdown",
   "metadata": {},
   "source": [
    "## 2.5 Finns svarstexterna redan?  \n",
    "För att slippa att loopen som lägger in svarstexter nedan avbryts halvvägs igenom av att någon svarstext redan finns i databasen filtreras svarstexterna här. Om de redan är inlagda görs inget försök att lägga in dem igen."
   ]
  },
  {
   "cell_type": "code",
   "execution_count": 40,
   "metadata": {},
   "outputs": [
    {
     "name": "stdout",
     "output_type": "stream",
     "text": [
      "\u001b[1mInga nya svarstexter\u001b[0m\n"
     ]
    }
   ],
   "source": [
    "# Koppla databasen\n",
    "conn = sqlite3.connect('SLOSH.db')\n",
    "\n",
    "# Skapa en \"cursor\"... vet ej vad detta är, men det är nödvändigt.\n",
    "cursor = conn.cursor()\n",
    "\n",
    "# Denna query ska skrivas i SQL och körs av python mot databasen.\n",
    "cursor.execute('SELECT * FROM Svarstexter')\n",
    "\n",
    "# Detta är en lista med vektorer. Varje vektor representerar en rad i tabellen.\n",
    "rows = cursor.fetchall()\n",
    "\n",
    "# Stäng databasen.\n",
    "cursor.close()\n",
    "\n",
    "# De transkriberade svarstexterna.\n",
    "svarstexter = list(kodsvar.values())\n",
    "\n",
    "# rows innehåller vektorer. Här plockat texten ut från vektorerna.\n",
    "dbsvar = [i[0] for i in rows]\n",
    "\n",
    "# En lista med de svarstexter som inte redan finns i databasen.\n",
    "filtsvar = [i for i in svarstexter if i not in dbsvar]\n",
    "\n",
    "if len(filtsvar) > 0:\n",
    "    print('\\033[1m' + 'Nya svarstexter:' + '\\033[0m', filtsvar)\n",
    "    filtsvar\n",
    "else:\n",
    "    print('\\033[1m' + 'Inga nya svarstexter' + '\\033[0m')"
   ]
  },
  {
   "cell_type": "markdown",
   "metadata": {},
   "source": [
    "# 4. Infoga rader i databasen  \n",
    "Nu kommer den transkriberade informationen att användas tillsamman med funktionen `Nyrad()` för var och en av tabellerna i databasen."
   ]
  },
  {
   "cell_type": "markdown",
   "metadata": {},
   "source": [
    "## C: Kodlistor"
   ]
  },
  {
   "cell_type": "code",
   "execution_count": 41,
   "metadata": {},
   "outputs": [],
   "source": [
    "tabell = 'Kodlistor'\n",
    "\n",
    "kolumner = '(kodlista)'\n",
    "\n",
    "värden = '({})'.format(kodlista)"
   ]
  },
  {
   "cell_type": "code",
   "execution_count": 42,
   "metadata": {},
   "outputs": [
    {
     "name": "stdout",
     "output_type": "stream",
     "text": [
      "\u001b[1mIngen ny data!\u001b[0m\n"
     ]
    }
   ],
   "source": [
    "if kodlista == 'NULL':\n",
    "    Nyrad(tabell, kolumner, värden)\n",
    "else:\n",
    "    print('\\033[1m' + 'Ingen ny data!'+ '\\033[0m')"
   ]
  },
  {
   "cell_type": "markdown",
   "metadata": {},
   "source": [
    "## G: Enkättexter"
   ]
  },
  {
   "cell_type": "code",
   "execution_count": 43,
   "metadata": {},
   "outputs": [],
   "source": [
    "tabell = 'Enkättexter'\n",
    "\n",
    "kolumner = '(enkättext)'\n",
    "\n",
    "värden = '(\\'{}\\')'.format(enkättext)"
   ]
  },
  {
   "cell_type": "code",
   "execution_count": 44,
   "metadata": {},
   "outputs": [
    {
     "name": "stdout",
     "output_type": "stream",
     "text": [
      "\u001b[1mDet gick ej att infoga data: \u001b[0m UNIQUE constraint failed: Enkättexter.enkättext\n"
     ]
    }
   ],
   "source": [
    "Nyrad(tabell, kolumner, värden)"
   ]
  },
  {
   "cell_type": "markdown",
   "metadata": {},
   "source": [
    "## H: Svarstexter"
   ]
  },
  {
   "cell_type": "code",
   "execution_count": 45,
   "metadata": {},
   "outputs": [],
   "source": [
    "tabell = 'Svarstexter'\n",
    "\n",
    "kolumner = '(svarstext)'"
   ]
  },
  {
   "cell_type": "code",
   "execution_count": 46,
   "metadata": {},
   "outputs": [
    {
     "name": "stdout",
     "output_type": "stream",
     "text": [
      "\u001b[1mIngen ny data!\u001b[0m\n"
     ]
    }
   ],
   "source": [
    "if len(filtsvar) > 0:\n",
    "    for i in filtsvar:\n",
    "        värden = '(\\'{}\\')'.format(i)\n",
    "        Nyrad(tabell, kolumner, värden)\n",
    "else:\n",
    "    print('\\033[1m' + 'Ingen ny data!'+ '\\033[0m')"
   ]
  },
  {
   "cell_type": "markdown",
   "metadata": {},
   "source": [
    "## D: Kodlistor_stor"
   ]
  },
  {
   "cell_type": "code",
   "execution_count": 47,
   "metadata": {},
   "outputs": [],
   "source": [
    "tabell = 'Kodlistor_stor'\n",
    "\n",
    "kolumner = ('KODLISTA', 'KOD', 'SVARSTEXT')"
   ]
  },
  {
   "cell_type": "markdown",
   "metadata": {},
   "source": [
    "Ifall kodlistan inte tidigare fanns i databasen har den nu lagts längst ner/bak i *Kodlistor* och tilldelats ett nummer. Detta nummer (snarare än \"NULL\") ska nu användas för att lägga in information i *Kodlistor_stor*."
   ]
  },
  {
   "cell_type": "code",
   "execution_count": 48,
   "metadata": {},
   "outputs": [],
   "source": [
    "if kodlista == 'NULL':\n",
    "\n",
    "    # Koppla databasen\n",
    "    conn = sqlite3.connect('SLOSH.db')\n",
    "\n",
    "    # Skapa en \"cursor\"... vet ej vad detta är, men det är nödvändigt.\n",
    "    cursor = conn.cursor()\n",
    "\n",
    "    # Denna query ska skrivas i SQL och körs av python mot databasen.\n",
    "    cursor.execute('SELECT kodlista FROM Kodlistor')\n",
    "\n",
    "    # Detta är en lista med vektorer. Varje vektor representerar en rad i tabellen.\n",
    "    rows = cursor.fetchall()\n",
    "\n",
    "    # Stäng databasen.\n",
    "    cursor.close()\n",
    "\n",
    "    kodlista = str(rows[-1][0])"
   ]
  },
  {
   "cell_type": "code",
   "execution_count": 49,
   "metadata": {},
   "outputs": [
    {
     "data": {
      "text/plain": [
       "'471'"
      ]
     },
     "execution_count": 49,
     "metadata": {},
     "output_type": "execute_result"
    }
   ],
   "source": [
    "kodlista"
   ]
  },
  {
   "cell_type": "code",
   "execution_count": 50,
   "metadata": {},
   "outputs": [
    {
     "name": "stdout",
     "output_type": "stream",
     "text": [
      "\u001b[1mIngen ny data!\u001b[0m\n"
     ]
    }
   ],
   "source": [
    "if nykodlista == 'ja':\n",
    "    for i in kodsvar.keys():\n",
    "        värden = '(\\'{}\\', \\'{}\\', \\'{}\\')'.format(kodlista, i, kodsvar[i])\n",
    "        #värden = ('NULL', kodlista, i, kodsvar[i])\n",
    "        Nyrad(tabell, kolumner, värden)\n",
    "else:\n",
    "    print('\\033[1m' + 'Ingen ny data!'+ '\\033[0m')"
   ]
  },
  {
   "cell_type": "markdown",
   "metadata": {},
   "source": [
    "## B: Variabler"
   ]
  },
  {
   "cell_type": "code",
   "execution_count": 51,
   "metadata": {},
   "outputs": [],
   "source": [
    "tabell = 'Variabler'\n",
    "\n",
    "kolumner = ('VARIABEL', 'enkät', 'BESKRIVNING', 'DUBBELKODNING', 'ITEMNR', 'enkättext', 'KODLISTA')\n",
    "\n",
    "# värden = '(variabel, enkät, beskrivning, dubbelkodning, itemnr, enkättext, kodlista)\n",
    "\n",
    "värden = '(\\'{}\\', \\'{}\\', \\'{}\\', \\'{}\\', \\'{}\\', \\'{}\\', \\'{}\\')'.format(variabel, enkät, beskrivning, \n",
    "                                                                           dubbelkodning, itemnr, enkättext,\n",
    "                                                                          kodlista)"
   ]
  },
  {
   "cell_type": "code",
   "execution_count": 52,
   "metadata": {},
   "outputs": [
    {
     "name": "stdout",
     "output_type": "stream",
     "text": [
      "\u001b[1mRad inlagd i tabellen Variabler\u001b[0m\n",
      "INSERT INTO Variabler ('VARIABEL', 'enkät', 'BESKRIVNING', 'DUBBELKODNING', 'ITEMNR', 'enkättext', 'KODLISTA') VALUES ('unpaybur_7', 'SLOSH 18 non-working', '', '', '22_b', 'Om du arbetar frivilligt, upplever du det som en belastning?', '471')\n"
     ]
    }
   ],
   "source": [
    "Nyrad(tabell, kolumner, värden)"
   ]
  },
  {
   "cell_type": "markdown",
   "metadata": {},
   "source": [
    "2020-12-21: **Börja på nw18** "
   ]
  },
  {
   "cell_type": "markdown",
   "metadata": {},
   "source": [
    "[Tillbaka till 2.2](#1)"
   ]
  },
  {
   "cell_type": "markdown",
   "metadata": {},
   "source": [
    "# Saknade/konstiga variabler  \n",
    "* bedmwork_2\n",
    "* bedhwork_2  \n",
    "* bedmfree_2  \n",
    "* bedhfree_2, på samma sätt för \"up\" istället för \"bed\". För de hör variablerna har jag glömt att för itemnr skriva \"B\" innan t.ex. 15. Detta måste gå att göra enkelt i efterhand.  \n",
    "* ladder_4 har en väldigt konstig kodlista. Fråga Connie?  \n",
    "* situatxx_1. Kodboken är dunkel  \n",
    "* titlepre_1 verkar vara felkodad. Enligt datafilen ska den endast förekomma i working, men enligt enkäten och kodboken ska den endast förekomma i non-working.  \n",
    "* dosatis_1 ska enligt kodboken förekomma i 2006 non-working, C26_g, men enkättexten stämmer inte.  \n",
    "* empltype_2 saknar frekvenstabell i sloshdatafilen.  \n",
    "* confttxt_2 saknar frekvenstabell i sloshdatafilen.  \n",
    "* bankrupt_3 har i databasen bara två svarsalternativ men i enkäten har den fyra.\n",
    "* Item 93 i working 2010 går ej att hitta i kodoken. Vad är detta för variabel?  \n",
    "* dsnewjob_3 non-working har sex koder i sin frekvenstabell men endast 5 koder i kodlistan i enkäten. Variabeln är därför inte inlagd i db-filen.  \n",
    "* item 11_b i 2010 non-working finns inte i kodboken. Vilken variabel är detta?  \n",
    "* Det är någonting konstigt med item 23 och 24 i nw 2010. Det finns bara ett variabelnamn i kodboken (takecare).  \n",
    "* Hittar inte nw 2010 item 63 i kodboken, vad heter variabeln?  \n",
    "* partpare_4 har 0 och 1 i kodlistan, vad betyder detta?\n",
    "* Variablerna UrsincopA (ända till UrsincopH) verkar inte finnas i datafilen trots att de står med i kodboken (och i enkäterna såklart).\n",
    "* conflfam_4 finns i även i non-working men så står det inte i kodboken.  \n",
    "* jag hittar inte w12 item 103 i kodboken.  \n",
    "* fråga 92 i non-working 12 finns inte i kodboken\n",
    "* partime_5 förekommer i nw14 (fast bara missing) trots att den inte gör det enligt kodboken. detsamma gäller 6 och 7.  \n",
    "* Item 99 i w14 verkar inte finnas i kodboken, hittar inte variabeln.  \n",
    "* employed_6 (som endast förekommer i nw) har tre svarsalternativ i sin frekvenstabell trots att det bara finns två i enkäten. Detsamma gäller selfempl_6.  \n",
    "* 86 i nw14 hittar jag inte i kodboken.\n",
    "  \n",
    "Det finns förmodligen en kodlista som har kod/text '0-24' men detta är förstås fel, det borde vara '0-23'."
   ]
  }
 ],
 "metadata": {
  "kernelspec": {
   "display_name": "Python 3",
   "language": "python",
   "name": "python3"
  },
  "language_info": {
   "codemirror_mode": {
    "name": "ipython",
    "version": 3
   },
   "file_extension": ".py",
   "mimetype": "text/x-python",
   "name": "python",
   "nbconvert_exporter": "python",
   "pygments_lexer": "ipython3",
   "version": "3.7.3"
  }
 },
 "nbformat": 4,
 "nbformat_minor": 4
}

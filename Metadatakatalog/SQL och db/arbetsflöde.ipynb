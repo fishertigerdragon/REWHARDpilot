{
 "cells": [
  {
   "cell_type": "markdown",
   "metadata": {},
   "source": [
    "  # 0. Bibliotek och data\n",
    "  Biblioteket `sqlite3` krävs för att skapa funktionen `Nyrad()` nedan. SLOSH-datafilen läses in."
   ]
  },
  {
   "cell_type": "code",
   "execution_count": 1,
   "metadata": {},
   "outputs": [],
   "source": [
    "import sqlite3\n",
    "import pandas as pd"
   ]
  },
  {
   "cell_type": "code",
   "execution_count": 2,
   "metadata": {},
   "outputs": [],
   "source": [
    "datafil = r'\\\\win.su.se\\dfs\\common\\stressforskning.su.se\\SLOSH-data\\SLOSH och AMU\\SLOSH\\Enkätdata\\SLOSH (Huvudfil, t.o.m. 2018)\\Test\\Slosh_all_amuar_18.xlsx'\n",
    "\n",
    "df = pd.read_excel(datafil)"
   ]
  },
  {
   "cell_type": "markdown",
   "metadata": {},
   "source": [
    "# 1. Definiera funktionen Nyrad\n",
    "Funktionen `Nyrad()` tar (namnet på) en tabell, en tuple med kolumnnamn samt en tuple med kolumnvärden. Den skapar en rad av denna information och försöker lägga in den i databasen. Om den lyckas kommer den SQL-kod som används för att skapa raden att noteras i en text-fil. Denna text-fil ska tjäna dels som en backup men även som en logg. Skulle något hända med databasen går det enkelt att bara köra text-filen så återskapas allting.  \n",
    "  Ifall funktionen inte lyckas lägga in en rad i databasen, kanske p.g.a. att \"foregin key\" inte respekteras, kommer ett felmeddelande konstatera detta. För mer information om hur SQLite används i python: https://pynative.com/python-sqlite-insert-into-table/."
   ]
  },
  {
   "cell_type": "code",
   "execution_count": 3,
   "metadata": {},
   "outputs": [],
   "source": [
    "def Nyrad(tabell, kolumner, värden):    \n",
    "    try:\n",
    "        # Koppla databasen\n",
    "        conn = sqlite3.connect('SLOSH.db')\n",
    "\n",
    "        # Skapa en \"cursor\"... vet ej vad detta är, men det är nödvändigt.\n",
    "        cursor = conn.cursor()\n",
    "\n",
    "        # Denna query ska skrivas i SQL och körs av python mot databasen\n",
    "        sqlite_insert_query = 'INSERT INTO {} {} VALUES {}'.format(tabell, kolumner, värden)\n",
    "\n",
    "        # Först måste 'foreign key constraint' slås på, i SQLite är detta avstängt som default. \n",
    "        cursor.execute('PRAGMA foreign_keys = 1')\n",
    "\n",
    "        # Nu kan raden läggas in\n",
    "        cursor.execute(sqlite_insert_query)\n",
    "\n",
    "        # commit:a till databasen\n",
    "        conn.commit()\n",
    "        print('\\033[1m' + 'Rad inlagd i tabellen {}'.format(tabell) + '\\033[0m')\n",
    "\n",
    "        # Stäng\n",
    "        cursor.close()\n",
    "        \n",
    "        print('INSERT INTO {} {} VALUES {}'.format(tabell, kolumner, värden))\n",
    "        \n",
    "        # När en rad lagts till ska SQL-kommandot sparas i en textfil.\n",
    "        text = open(\"SQL-logg.txt\", \"a\", encoding = 'UTF-8')\n",
    "        text.write('INSERT INTO {} {} VALUES {};\\n \\n'.format(tabell, kolumner, värden))\n",
    "        text.close()\n",
    "\n",
    "    except sqlite3.Error as error:\n",
    "        print('\\033[1m' + 'Det gick ej att infoga data: ' + '\\033[0m', error)\n",
    "    finally:\n",
    "        if (conn):\n",
    "            conn.close()\n",
    "\n",
    "    "
   ]
  },
  {
   "cell_type": "markdown",
   "metadata": {},
   "source": [
    "# 2.Transkribera  \n",
    "Här transkriberas ett item i taget. Den transkriberade informationen kommer att användas för att skapa rader i flera olika tabeller. Exempelvis förekommer `kodlista` i tre olika tabeller. Se först hur stor andel av SLOSH som redan dokumenterats.    \n",
    "\n",
    "**OBS!**  \n",
    "Det är viktigt att databasfilen `SLOSH.db` inte används av något annat program samtidigt som pythonkärnan försöker få tillgång till den. Det går inte att skriva information till databasen från mer än ett ställe samtidigt. Se följande kommentar från stackoverflow:  \n",
    ">Yes SQLite can support multiple users at once. It does however lock the whole database when writing, so if you have lots of concurrent writes it is not the database you want (usually the time the database is locked is a few milliseconds - so for most uses this does not matter). But it is very well tested and very stable (and widely used) so you can trust it.\n",
    "You may read this short document for information when to use SQLite and not: http://www.sqlite.org/whentouse.html"
   ]
  },
  {
   "cell_type": "markdown",
   "metadata": {},
   "source": [
    "## 2.1 Andel av SLOSH som redan har dokumenterats  \n",
    "Här jämförs antalet dokumenterade variabler i relationsdatabasen med det totala antalet variabler i SLOSH-datafilen. Notera att siffran underskattas eftersom datafilen innehåller registervariabler samt `r_x`-variabler. Dessa kommer aldrig att läggas in i relationsdatabasen."
   ]
  },
  {
   "cell_type": "code",
   "execution_count": 7632,
   "metadata": {},
   "outputs": [
    {
     "name": "stdout",
     "output_type": "stream",
     "text": [
      "\u001b[1mAndel dokumenterad data:\u001b[0m46.97%\n"
     ]
    }
   ],
   "source": [
    "totvar = len(df.columns)\n",
    "\n",
    "# Koppla databasen\n",
    "conn = sqlite3.connect('SLOSH.db')\n",
    "\n",
    "# Skapa en \"cursor\"... vet ej vad detta är, men det är nödvändigt.\n",
    "cursor = conn.cursor()\n",
    "\n",
    "# Denna query ska skrivas i SQL och körs av python mot databasen\n",
    "cursor.execute('SELECT variabel FROM Variabler')\n",
    "\n",
    "dokvar = len(set(cursor.fetchall()))\n",
    "\n",
    "# Stäng\n",
    "cursor.close()\n",
    "\n",
    "\n",
    "print('\\033[1m' + 'Andel dokumenterad data:' + '\\033[0m' + '{}%'.format(round(100*dokvar/totvar, 2)))"
   ]
  },
  {
   "cell_type": "markdown",
   "metadata": {},
   "source": [
    "Skapa en excelfil som innehåller alla itemnr, för en given enkät, som redan dokumenterats"
   ]
  },
  {
   "cell_type": "code",
   "execution_count": 3011,
   "metadata": {},
   "outputs": [],
   "source": [
    "# Koppla databasen\n",
    "conn = sqlite3.connect('SLOSH.db')\n",
    "\n",
    "# Skapa en \"cursor\"... vet ej vad detta är, men det är nödvändigt.\n",
    "cursor = conn.cursor()\n",
    "\n",
    "# Denna query ska skrivas i SQL och körs av python mot databasen\n",
    "cursor.execute('SELECT enkät, itemnr FROM Variabler')\n",
    "\n",
    "data = cursor.fetchall()\n",
    "\n",
    "cursor.close()\n",
    "\n",
    "enkät = [i[0] for i in data]\n",
    "\n",
    "itemnr = [i[1] for i in data]\n",
    "\n",
    "D = pd.DataFrame(list(zip(enkät, itemnr)), columns = ['Enkät', 'Itemnr'])"
   ]
  },
  {
   "cell_type": "code",
   "execution_count": 3012,
   "metadata": {},
   "outputs": [],
   "source": [
    "working08 = D.loc[D.Enkät == 'SLOSH 08 non-working', 'Itemnr'].sort_values()\n",
    "\n",
    "working08.to_excel('nw08.xlsx')"
   ]
  },
  {
   "cell_type": "markdown",
   "metadata": {},
   "source": [
    "## <a id = \"1\">2.2 Har variabeln redan dokumenterats?</a> "
   ]
  },
  {
   "cell_type": "code",
   "execution_count": 7706,
   "metadata": {},
   "outputs": [],
   "source": [
    "a = 'caresick'\n",
    "b = '_2'\n",
    "variabel = a+b"
   ]
  },
  {
   "cell_type": "code",
   "execution_count": 7707,
   "metadata": {},
   "outputs": [
    {
     "name": "stdout",
     "output_type": "stream",
     "text": [
      "\u001b[1mNy variabel!\u001b[0m\n"
     ]
    }
   ],
   "source": [
    "v = variabel[-1]\n",
    "\n",
    "slosh = [i for i in df.columns if i[-1] == str(v)]\n",
    "\n",
    "# Koppla databasen\n",
    "conn = sqlite3.connect('SLOSH.db')\n",
    "\n",
    "# Skapa en \"cursor\"... vet ej vad detta är, men det är nödvändigt.\n",
    "cursor = conn.cursor()\n",
    "\n",
    "# Denna query ska skrivas i SQL och körs av python mot databasen\n",
    "cursor.execute('SELECT variabel FROM Variabler')\n",
    "\n",
    "# alla variabler som finns i db\n",
    "dokvar = [i[0] for i in cursor.fetchall()]\n",
    "\n",
    "# Stäng\n",
    "cursor.close()\n",
    "\n",
    "if variabel in dokvar:\n",
    "    print('\\033[1m' + 'Variabeln är redan dokumenterad' + '\\033[0m')\n",
    "else:\n",
    "    print('\\033[1m' + 'Ny variabel!' + '\\033[0m')"
   ]
  },
  {
   "cell_type": "markdown",
   "metadata": {},
   "source": [
    "Se efter ifall en given variabel förekommer i working, non-working eller båda.  \n",
    "Specificera först variabelnamnet."
   ]
  },
  {
   "cell_type": "code",
   "execution_count": 7708,
   "metadata": {},
   "outputs": [
    {
     "name": "stdout",
     "output_type": "stream",
     "text": [
      "\u001b[1mResultat:\u001b[0m\n",
      "Variabeln gchhr_2 förekommer ej i working\n"
     ]
    }
   ],
   "source": [
    "r = 'r_{}'.format(variabel[-1])\n",
    "\n",
    "frek_nw = df.loc[df[r] == 1, variabel].value_counts()\n",
    "\n",
    "frek_w = df.loc[df[r] == 2, variabel].value_counts()\n",
    "\n",
    "if len(frek_w) == 0:\n",
    "    print('\\033[1m' + 'Resultat:' + '\\033[0m' + '\\nVariabeln {} förekommer ej i working'.format(variabel))\n",
    "    \n",
    "elif len(frek_nw) == 0:\n",
    "    print('\\033[1m' + 'Resultat:' + '\\033[0m' + '\\nVariabeln {} förekommer ej i non-working'.format(variabel))\n",
    "    \n",
    "else:\n",
    "    print('\\033[1m' + 'Resultat:' + '\\033[0m' + '\\nVariabeln {} förekommer i working och i non-working'.format(variabel))\n",
    "\n",
    "    "
   ]
  },
  {
   "cell_type": "markdown",
   "metadata": {},
   "source": [
    "## 2.3 Undersök frekvenstabellen och transkribera metadata"
   ]
  },
  {
   "cell_type": "code",
   "execution_count": 7709,
   "metadata": {},
   "outputs": [
    {
     "data": {
      "text/plain": [
       "NaN    9756\n",
       "Name: gchhr_2, dtype: int64"
      ]
     },
     "execution_count": 7709,
     "metadata": {},
     "output_type": "execute_result"
    }
   ],
   "source": [
    "r = 'r_{}'.format(variabel[-1])\n",
    "\n",
    "df.loc[df[r] == 2, variabel].value_counts(dropna = False).sort_index()"
   ]
  },
  {
   "cell_type": "code",
   "execution_count": 7710,
   "metadata": {},
   "outputs": [
    {
     "data": {
      "text/plain": [
       "0.0        5\n",
       "1.0        8\n",
       "2.0       13\n",
       "3.0       10\n",
       "4.0       15\n",
       "5.0       13\n",
       "6.0       12\n",
       "7.0        2\n",
       "8.0       11\n",
       "10.0      19\n",
       "14.0       1\n",
       "15.0       2\n",
       "20.0       2\n",
       "25.0       4\n",
       "NaN     1568\n",
       "Name: gchhr_2, dtype: int64"
      ]
     },
     "execution_count": 7710,
     "metadata": {},
     "output_type": "execute_result"
    }
   ],
   "source": [
    "r = 'r_{}'.format(variabel[-1])\n",
    "\n",
    "df.loc[df[r] == 1, variabel].value_counts(dropna = False).sort_index()"
   ]
  },
  {
   "cell_type": "markdown",
   "metadata": {},
   "source": [
    "Efter att ha tagit ställning till vilken (eller vilka) enkäter variabeln förekommer i går det att transkribera resten av informationen. Notera att ifall variabeln förekommer i både working och non-working måste det göras två insättningar relationsdatabasen. "
   ]
  },
  {
   "cell_type": "code",
   "execution_count": 7711,
   "metadata": {},
   "outputs": [],
   "source": [
    "våg = 2 * int(variabel[-1]) + 4\n",
    "\n",
    "if våg < 10:\n",
    "    våg = '0{}'.format(str(våg))\n",
    "else:\n",
    "    våg = str(våg)"
   ]
  },
  {
   "cell_type": "code",
   "execution_count": 7712,
   "metadata": {},
   "outputs": [],
   "source": [
    "enkät = 'SLOSH {} working'.format(våg)"
   ]
  },
  {
   "cell_type": "code",
   "execution_count": 7713,
   "metadata": {},
   "outputs": [],
   "source": [
    "enkät = 'SLOSH {} non-working'.format(våg)"
   ]
  },
  {
   "cell_type": "code",
   "execution_count": 7716,
   "metadata": {},
   "outputs": [
    {
     "name": "stdout",
     "output_type": "stream",
     "text": [
      "Enkät: SLOSH 08 non-working\n"
     ]
    }
   ],
   "source": [
    "beskrivning = ''\n",
    "itemnr = '13_c'\n",
    "\n",
    "a = 'Hjälper du för närvarande regelbundet till att ta hand om barnbarn?'\n",
    "\n",
    "b = 'Om ja, hur många timmar ägnar du en genomsnittlig vecka åt att ta hand om barnbarn?'\n",
    "\n",
    "enkättext = a+b\n",
    "\n",
    "dubbelkodning = ''\n",
    "\n",
    "kodsvar = {'0-24': 'timmar',\n",
    "           '>24': 'slask',\n",
    "           '.': 'Missing'}\n",
    "\n",
    "\n",
    "\n",
    "print('Enkät: {}'.format(enkät))"
   ]
  },
  {
   "cell_type": "markdown",
   "metadata": {},
   "source": [
    "## 2.4 Finns kodlistan redan?  \n",
    "För att ta ställning till ifall kodlistan redan förekommer i databasen hämtas först all information i *Kodlistor_stor*. Ifall kodlistan redan finns sätts variabeln `kodlista` lika med det nummer kodlistan redan har i databasen. Om den *inte* finns sätts `kodlista` $ = $ 'NULL'. Ifall SQLite får detta som värde, och kolumnen ifråga är s.k. \"AUTOINCREMENT\", kommer kodlistan automatiskt få ett nytt heltal som id."
   ]
  },
  {
   "cell_type": "code",
   "execution_count": 7717,
   "metadata": {},
   "outputs": [
    {
     "name": "stdout",
     "output_type": "stream",
     "text": [
      "\u001b[1mNy kodlista?\u001b[0m\n",
      "ja\n"
     ]
    }
   ],
   "source": [
    "# Koppla databasen\n",
    "conn = sqlite3.connect('SLOSH.db')\n",
    "\n",
    "# Skapa en \"cursor\"... vet ej vad detta är, men det är nödvändigt.\n",
    "cursor = conn.cursor()\n",
    "\n",
    "# Denna query ska skrivas i SQL och körs av python mot databasen.\n",
    "cursor.execute('SELECT * FROM Kodlistor_stor')\n",
    "\n",
    "# Detta är en lista med vektorer. Varje vektor representerar en rad i tabellen.\n",
    "rows = cursor.fetchall()\n",
    "\n",
    "# Stäng databasen.\n",
    "cursor.close()\n",
    "\n",
    "kods = []\n",
    "L = []\n",
    "\n",
    "# gå igenom varje vektor i listan\n",
    "for i in range(len(rows)):\n",
    "    \n",
    "    # Gäller bara första raden. Detta görs för att undvika index-fel nedan (i-1)\n",
    "    if len(L) == 0:\n",
    "        \n",
    "        # Välj ut kod och svarstext.\n",
    "        a = (rows[i][1], rows[i][2])\n",
    "        \n",
    "        # Lägg i a.\n",
    "        L.append(a)\n",
    "    else:\n",
    "        \n",
    "        # Ifall k_id skiljer från nuvarnade har loopen nått en ny kodlista. Skapa en dict av innehållet i L och\n",
    "        # nollställ sedan L inför nästa kodlista.\n",
    "        if rows[i][0] != rows[i-1][0]:\n",
    "            d = {j[0]: j[1] for j in L}\n",
    "            k = rows[i-1][0]\n",
    "            D = [k, d]\n",
    "            kods.append(D)\n",
    "            L = []\n",
    "        \n",
    "        if i == (len(rows) - 1):\n",
    "            a = (rows[i][1], rows[i][2])\n",
    "            L.append(a)\n",
    "            d = {j[0]: j[1] for j in L}\n",
    "            k = rows[i][0]\n",
    "            D = [k, d]\n",
    "            kods.append(D)\n",
    "            break\n",
    "\n",
    "           \n",
    "            \n",
    "        a = (rows[i][1], rows[i][2])\n",
    "        L.append(a)\n",
    "\n",
    "        \n",
    "nykodlista = 'ja'\n",
    "kodlista = 'NULL'\n",
    "\n",
    "# Om kodlistan redan finns hämtas dess namn och läggs i variabeln kodlista.\n",
    "for i in kods:\n",
    "    if kodsvar == i[1]:\n",
    "        kodlista = i[0]\n",
    "        nykodlista = 'nej'\n",
    "        break\n",
    "        \n",
    "        \n",
    "print('\\033[1m' + 'Ny kodlista?' + '\\033[0m' + '\\n{}'.format(nykodlista))    "
   ]
  },
  {
   "cell_type": "markdown",
   "metadata": {},
   "source": [
    "## 2.5 Finns svarstexterna redan?  \n",
    "För att slippa att loopen som lägger in svarstexter nedan avbryts halvvägs igenom av att någon svarstext redan finns i databasen filtreras svarstexterna här. Om de redan är inlagda görs inget försök att lägga in dem igen."
   ]
  },
  {
   "cell_type": "code",
   "execution_count": 7718,
   "metadata": {},
   "outputs": [
    {
     "name": "stdout",
     "output_type": "stream",
     "text": [
      "\u001b[1mInga nya svarstexter\u001b[0m\n"
     ]
    }
   ],
   "source": [
    "# Koppla databasen\n",
    "conn = sqlite3.connect('SLOSH.db')\n",
    "\n",
    "# Skapa en \"cursor\"... vet ej vad detta är, men det är nödvändigt.\n",
    "cursor = conn.cursor()\n",
    "\n",
    "# Denna query ska skrivas i SQL och körs av python mot databasen.\n",
    "cursor.execute('SELECT * FROM Svarstexter')\n",
    "\n",
    "# Detta är en lista med vektorer. Varje vektor representerar en rad i tabellen.\n",
    "rows = cursor.fetchall()\n",
    "\n",
    "# Stäng databasen.\n",
    "cursor.close()\n",
    "\n",
    "# De transkriberade svarstexterna.\n",
    "svarstexter = list(kodsvar.values())\n",
    "\n",
    "# rows innehåller vektorer. Här plockat texten ut från vektorerna.\n",
    "dbsvar = [i[0] for i in rows]\n",
    "\n",
    "# En lista med de svarstexter som inte redan finns i databasen.\n",
    "filtsvar = [i for i in svarstexter if i not in dbsvar]\n",
    "\n",
    "if len(filtsvar) > 0:\n",
    "    print('\\033[1m' + 'Nya svarstexter:' + '\\033[0m', filtsvar)\n",
    "    filtsvar\n",
    "else:\n",
    "    print('\\033[1m' + 'Inga nya svarstexter' + '\\033[0m')"
   ]
  },
  {
   "cell_type": "markdown",
   "metadata": {},
   "source": [
    "# 4. Infoga rader i databasen  \n",
    "Nu kommer den transkriberade informationen att användas tillsamman med funktionen `Nyrad()` för var och en av tabellerna i databasen."
   ]
  },
  {
   "cell_type": "markdown",
   "metadata": {},
   "source": [
    "## C: Kodlistor"
   ]
  },
  {
   "cell_type": "code",
   "execution_count": 7719,
   "metadata": {},
   "outputs": [],
   "source": [
    "tabell = 'Kodlistor'\n",
    "\n",
    "kolumner = '(kodlista)'\n",
    "\n",
    "värden = '({})'.format(kodlista)"
   ]
  },
  {
   "cell_type": "code",
   "execution_count": 7720,
   "metadata": {},
   "outputs": [
    {
     "name": "stdout",
     "output_type": "stream",
     "text": [
      "\u001b[1mRad inlagd i tabellen Kodlistor\u001b[0m\n",
      "INSERT INTO Kodlistor (kodlista) VALUES (NULL)\n"
     ]
    }
   ],
   "source": [
    "if kodlista == 'NULL':\n",
    "    Nyrad(tabell, kolumner, värden)\n",
    "else:\n",
    "    print('\\033[1m' + 'Ingen ny data!'+ '\\033[0m')"
   ]
  },
  {
   "cell_type": "markdown",
   "metadata": {},
   "source": [
    "## G: Enkättexter"
   ]
  },
  {
   "cell_type": "code",
   "execution_count": 7721,
   "metadata": {},
   "outputs": [],
   "source": [
    "tabell = 'Enkättexter'\n",
    "\n",
    "kolumner = '(enkättext)'\n",
    "\n",
    "värden = '(\\'{}\\')'.format(enkättext)"
   ]
  },
  {
   "cell_type": "code",
   "execution_count": 7722,
   "metadata": {},
   "outputs": [
    {
     "name": "stdout",
     "output_type": "stream",
     "text": [
      "\u001b[1mRad inlagd i tabellen Enkättexter\u001b[0m\n",
      "INSERT INTO Enkättexter (enkättext) VALUES ('Hjälper du för närvarande regelbundet till att ta hand om barnbarn?Om ja, hur många timmar ägnar du en genomsnittlig vecka åt att ta hand om barnbarn?')\n"
     ]
    }
   ],
   "source": [
    "Nyrad(tabell, kolumner, värden)"
   ]
  },
  {
   "cell_type": "markdown",
   "metadata": {},
   "source": [
    "## H: Svarstexter"
   ]
  },
  {
   "cell_type": "code",
   "execution_count": 7723,
   "metadata": {},
   "outputs": [],
   "source": [
    "tabell = 'Svarstexter'\n",
    "\n",
    "kolumner = '(svarstext)'"
   ]
  },
  {
   "cell_type": "code",
   "execution_count": 7724,
   "metadata": {},
   "outputs": [
    {
     "name": "stdout",
     "output_type": "stream",
     "text": [
      "\u001b[1mIngen ny data!\u001b[0m\n"
     ]
    }
   ],
   "source": [
    "if len(filtsvar) > 0:\n",
    "    for i in filtsvar:\n",
    "        värden = '(\\'{}\\')'.format(i)\n",
    "        Nyrad(tabell, kolumner, värden)\n",
    "else:\n",
    "    print('\\033[1m' + 'Ingen ny data!'+ '\\033[0m')"
   ]
  },
  {
   "cell_type": "markdown",
   "metadata": {},
   "source": [
    "## D: Kodlistor_stor"
   ]
  },
  {
   "cell_type": "code",
   "execution_count": 7725,
   "metadata": {},
   "outputs": [],
   "source": [
    "tabell = 'Kodlistor_stor'\n",
    "\n",
    "kolumner = ('KODLISTA', 'KOD', 'SVARSTEXT')"
   ]
  },
  {
   "cell_type": "markdown",
   "metadata": {},
   "source": [
    "Ifall kodlistan inte tidigare fanns i databasen har den nu lagts längst ner/bak i *Kodlistor* och tilldelats ett nummer. Detta nummer (snarare än \"NULL\") ska nu användas för att lägga in information i *Kodlistor_stor*."
   ]
  },
  {
   "cell_type": "code",
   "execution_count": 7726,
   "metadata": {},
   "outputs": [],
   "source": [
    "if kodlista == 'NULL':\n",
    "\n",
    "    # Koppla databasen\n",
    "    conn = sqlite3.connect('SLOSH.db')\n",
    "\n",
    "    # Skapa en \"cursor\"... vet ej vad detta är, men det är nödvändigt.\n",
    "    cursor = conn.cursor()\n",
    "\n",
    "    # Denna query ska skrivas i SQL och körs av python mot databasen.\n",
    "    cursor.execute('SELECT kodlista FROM Kodlistor')\n",
    "\n",
    "    # Detta är en lista med vektorer. Varje vektor representerar en rad i tabellen.\n",
    "    rows = cursor.fetchall()\n",
    "\n",
    "    # Stäng databasen.\n",
    "    cursor.close()\n",
    "\n",
    "    kodlista = str(rows[-1][0])"
   ]
  },
  {
   "cell_type": "code",
   "execution_count": 7727,
   "metadata": {},
   "outputs": [
    {
     "data": {
      "text/plain": [
       "'262'"
      ]
     },
     "execution_count": 7727,
     "metadata": {},
     "output_type": "execute_result"
    }
   ],
   "source": [
    "kodlista"
   ]
  },
  {
   "cell_type": "code",
   "execution_count": 7728,
   "metadata": {},
   "outputs": [
    {
     "name": "stdout",
     "output_type": "stream",
     "text": [
      "\u001b[1mRad inlagd i tabellen Kodlistor_stor\u001b[0m\n",
      "INSERT INTO Kodlistor_stor ('KODLISTA', 'KOD', 'SVARSTEXT') VALUES ('262', '0-24', 'timmar')\n",
      "\u001b[1mRad inlagd i tabellen Kodlistor_stor\u001b[0m\n",
      "INSERT INTO Kodlistor_stor ('KODLISTA', 'KOD', 'SVARSTEXT') VALUES ('262', '>24', 'slask')\n",
      "\u001b[1mRad inlagd i tabellen Kodlistor_stor\u001b[0m\n",
      "INSERT INTO Kodlistor_stor ('KODLISTA', 'KOD', 'SVARSTEXT') VALUES ('262', '.', 'Missing')\n"
     ]
    }
   ],
   "source": [
    "if nykodlista == 'ja':\n",
    "    for i in kodsvar.keys():\n",
    "        värden = '(\\'{}\\', \\'{}\\', \\'{}\\')'.format(kodlista, i, kodsvar[i])\n",
    "        #värden = ('NULL', kodlista, i, kodsvar[i])\n",
    "        Nyrad(tabell, kolumner, värden)\n",
    "else:\n",
    "    print('\\033[1m' + 'Ingen ny data!'+ '\\033[0m')"
   ]
  },
  {
   "cell_type": "markdown",
   "metadata": {},
   "source": [
    "## B: Variabler"
   ]
  },
  {
   "cell_type": "code",
   "execution_count": 7729,
   "metadata": {},
   "outputs": [],
   "source": [
    "tabell = 'Variabler'\n",
    "\n",
    "kolumner = ('VARIABEL', 'enkät', 'BESKRIVNING', 'DUBBELKODNING', 'ITEMNR', 'enkättext', 'KODLISTA')\n",
    "\n",
    "# värden = '(variabel, enkät, beskrivning, dubbelkodning, itemnr, enkättext, kodlista)\n",
    "\n",
    "värden = '(\\'{}\\', \\'{}\\', \\'{}\\', \\'{}\\', \\'{}\\', \\'{}\\', \\'{}\\')'.format(variabel, enkät, beskrivning, \n",
    "                                                                           dubbelkodning, itemnr, enkättext,\n",
    "                                                                          kodlista)"
   ]
  },
  {
   "cell_type": "code",
   "execution_count": 7730,
   "metadata": {},
   "outputs": [
    {
     "name": "stdout",
     "output_type": "stream",
     "text": [
      "\u001b[1mRad inlagd i tabellen Variabler\u001b[0m\n",
      "INSERT INTO Variabler ('VARIABEL', 'enkät', 'BESKRIVNING', 'DUBBELKODNING', 'ITEMNR', 'enkättext', 'KODLISTA') VALUES ('gchhr_2', 'SLOSH 08 non-working', '', '', '13_c', 'Hjälper du för närvarande regelbundet till att ta hand om barnbarn?Om ja, hur många timmar ägnar du en genomsnittlig vecka åt att ta hand om barnbarn?', '262')\n"
     ]
    }
   ],
   "source": [
    "Nyrad(tabell, kolumner, värden)"
   ]
  },
  {
   "cell_type": "markdown",
   "metadata": {},
   "source": [
    "[Tillbaka till 2.2](#1)"
   ]
  },
  {
   "cell_type": "markdown",
   "metadata": {},
   "source": [
    "# Saknade/konstiga variabler  \n",
    "* bedmwork_2\n",
    "* bedhwork_2  \n",
    "* bedmfree_2  \n",
    "* bedhfree_2, på samma sätt för \"up\" istället för \"bed\". För de hör variablerna har jag glömt att för itemnr skriva \"B\" innan t.ex. 15. Detta måste gå att göra enkelt i efterhand.  \n",
    "* ladder_4 har en väldigt konstig kodlista. Fråga Connie?  \n",
    "* situatxx_1. Kodboken är dunkel  \n",
    "* titlepre_1 verkar vara felkodad. Enligt datafilen ska den endast förekomma i working, men enligt enkäten och kodboken ska den endast förekomma i non-working.  \n",
    "* dosatis_1 ska enligt kodboken förekomma i 2006 non-working, C26_g, men enkättexten stämmer inte.  \n",
    "* empltype_2 saknar frekvenstabell i sloshdatafilen.  \n",
    "* confttxt_2 saknar frekvenstabell i sloshdatafilen.\n",
    "  \n",
    "Det finns förmodligen en kodlista som har kod/text '0-24' men detta är förstås fel, det borde vara '0-23'."
   ]
  }
 ],
 "metadata": {
  "kernelspec": {
   "display_name": "Python 3",
   "language": "python",
   "name": "python3"
  },
  "language_info": {
   "codemirror_mode": {
    "name": "ipython",
    "version": 3
   },
   "file_extension": ".py",
   "mimetype": "text/x-python",
   "name": "python",
   "nbconvert_exporter": "python",
   "pygments_lexer": "ipython3",
   "version": "3.7.3"
  }
 },
 "nbformat": 4,
 "nbformat_minor": 4
}

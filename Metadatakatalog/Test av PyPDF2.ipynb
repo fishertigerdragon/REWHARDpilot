{
 "cells": [
  {
   "cell_type": "code",
   "execution_count": 3,
   "metadata": {},
   "outputs": [
    {
     "data": {
      "text/plain": [
       "'Z2  PANELKOD\\n Intervjupersonens deltagandestatus vid tidigare omgångar av \\nLevnadsnivåundersökningen.\\n 1 Deltog 2000\\n 3038\\n 68,8\\n 2 Deltog 2000 (bodde hemma)\\n 119\\n 2,7\\n 3 Deltog 1991\\n men inte senare\\n 190\\n 4,3\\n 4 Deltog 1981 eller tidigare\\n men inte senare\\n 48\\n 1,1\\n 5 Aldrig deltagit\\n 1020\\n 23,1\\n  Total\\nt 4415\\n 100\\n      jfr \\nX2 Z3  INGICK I \\nURVALET FÖR BARN\\n-LNU 2000\\n 2 Nej\\n 4415\\n 100\\n  Totalt\\n 4415\\n       NY Z4  INTERVJUARNUMMER\\n Intervjuarens id. Redovisas ej\\n. X4, Y3, U3, V2\\n Z5  INTERVJUDATUM \\nŒ MÅN, DAG\\n Datum \\nŒ år, månad och dag \\nŒ då intervjun genomfördes. Endast \\nlägsta och högsta värde\\n redovisas.\\n 100426\\n  1  110620\\n  1   Totalt\\n 4415\\n 100\\n      X5, Y4, U4, jfr \\nV3, jfr W552\\n Z6  INTERVJUNS BÖRJAN \\nŒ TIM, MIN\\n Intervjuarens notering av klockslag \\nŒ timme och minut \\nŒ då intervjun påbörjades. \\nEndast \\nlägsta och högsta \\nvärde\\n redovisas.\\n 0610\\n  1  2319\\n  1   Totalt\\n 4415\\n 100\\n      X6, Y5, U5, V5\\n Z7  INTERVJUNS SLUT \\nŒ TIM, MIN\\n Intervjuarens notering av klockslag \\nŒ timme och mi\\nnut \\nŒ då intervjun avslutades. \\nEndast \\nlägsta och högsta \\nvärde\\n redovisas.\\n 1033\\n  1  2245\\n  1   Totalt\\n 4406\\n 100\\n 9999\\n Svar \\nsaknas\\n 9    4415\\n       X7, Y6, U6, \\n\\nV708\\n   32  '"
      ]
     },
     "execution_count": 3,
     "metadata": {},
     "output_type": "execute_result"
    }
   ],
   "source": [
    "# importing required modules \n",
    "import PyPDF2 \n",
    "  \n",
    "# creating a pdf file object \n",
    "pdfFileObj = open('litenkodbok.pdf', 'rb') \n",
    "  \n",
    "# creating a pdf reader object \n",
    "pdfReader = PyPDF2.PdfFileReader(pdfFileObj) \n",
    "  \n",
    "# printing number of pages in pdf file \n",
    "# print(pdfReader.numPages) \n",
    "  \n",
    "# creating a page object \n",
    "pageObj = pdfReader.getPage(0) \n",
    "  \n",
    "# extracting text from page \n",
    "pageObj.extractText()"
   ]
  },
  {
   "cell_type": "code",
   "execution_count": null,
   "metadata": {},
   "outputs": [],
   "source": []
  }
 ],
 "metadata": {
  "kernelspec": {
   "display_name": "Python 3",
   "language": "python",
   "name": "python3"
  },
  "language_info": {
   "codemirror_mode": {
    "name": "ipython",
    "version": 3
   },
   "file_extension": ".py",
   "mimetype": "text/x-python",
   "name": "python",
   "nbconvert_exporter": "python",
   "pygments_lexer": "ipython3",
   "version": "3.7.3"
  }
 },
 "nbformat": 4,
 "nbformat_minor": 4
}

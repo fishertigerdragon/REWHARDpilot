{
 "cells": [
  {
   "cell_type": "code",
   "execution_count": 34,
   "metadata": {},
   "outputs": [],
   "source": [
    "import docx\n",
    "import pandas as pd"
   ]
  },
  {
   "cell_type": "code",
   "execution_count": 35,
   "metadata": {},
   "outputs": [],
   "source": [
    "table = docx.Document('publikationer.docx').tables[0]"
   ]
  },
  {
   "cell_type": "code",
   "execution_count": 36,
   "metadata": {},
   "outputs": [],
   "source": [
    "publista = [table.rows[pub].cells[0].paragraphs[0].text for pub in range(1, len(table.rows))]"
   ]
  },
  {
   "cell_type": "code",
   "execution_count": 37,
   "metadata": {},
   "outputs": [],
   "source": [
    "DOIlista = [table.rows[doi].cells[1].paragraphs[0].text for doi in range(1, len(table.rows))]"
   ]
  },
  {
   "cell_type": "code",
   "execution_count": 38,
   "metadata": {},
   "outputs": [],
   "source": [
    "data = {'Publikationer': publista, 'DOI': DOIlista}"
   ]
  },
  {
   "cell_type": "code",
   "execution_count": 39,
   "metadata": {},
   "outputs": [],
   "source": [
    "publikationer = pd.DataFrame.from_dict(data)"
   ]
  },
  {
   "cell_type": "code",
   "execution_count": 40,
   "metadata": {},
   "outputs": [
    {
     "data": {
      "text/html": [
       "<div>\n",
       "<style scoped>\n",
       "    .dataframe tbody tr th:only-of-type {\n",
       "        vertical-align: middle;\n",
       "    }\n",
       "\n",
       "    .dataframe tbody tr th {\n",
       "        vertical-align: top;\n",
       "    }\n",
       "\n",
       "    .dataframe thead th {\n",
       "        text-align: right;\n",
       "    }\n",
       "</style>\n",
       "<table border=\"1\" class=\"dataframe\">\n",
       "  <thead>\n",
       "    <tr style=\"text-align: right;\">\n",
       "      <th></th>\n",
       "      <th>Publikationer</th>\n",
       "      <th>DOI</th>\n",
       "    </tr>\n",
       "  </thead>\n",
       "  <tbody>\n",
       "    <tr>\n",
       "      <th>0</th>\n",
       "      <td>Pub1</td>\n",
       "      <td>123</td>\n",
       "    </tr>\n",
       "    <tr>\n",
       "      <th>1</th>\n",
       "      <td>Pub2</td>\n",
       "      <td>234</td>\n",
       "    </tr>\n",
       "    <tr>\n",
       "      <th>2</th>\n",
       "      <td>Pub3</td>\n",
       "      <td>345</td>\n",
       "    </tr>\n",
       "    <tr>\n",
       "      <th>3</th>\n",
       "      <td>Pub4</td>\n",
       "      <td>456</td>\n",
       "    </tr>\n",
       "  </tbody>\n",
       "</table>\n",
       "</div>"
      ],
      "text/plain": [
       "  Publikationer  DOI\n",
       "0          Pub1  123\n",
       "1          Pub2  234\n",
       "2          Pub3  345\n",
       "3          Pub4  456"
      ]
     },
     "execution_count": 40,
     "metadata": {},
     "output_type": "execute_result"
    }
   ],
   "source": [
    "publikationer"
   ]
  },
  {
   "cell_type": "code",
   "execution_count": 3,
   "metadata": {},
   "outputs": [
    {
     "name": "stdout",
     "output_type": "stream",
     "text": [
      "Help on Document in module docx.document object:\n",
      "\n",
      "class Document(docx.shared.ElementProxy)\n",
      " |  Document(element, part)\n",
      " |  \n",
      " |  WordprocessingML (WML) document.\n",
      " |  \n",
      " |  Not intended to be constructed directly. Use :func:`docx.Document` to open or create\n",
      " |  a document.\n",
      " |  \n",
      " |  Method resolution order:\n",
      " |      Document\n",
      " |      docx.shared.ElementProxy\n",
      " |      builtins.object\n",
      " |  \n",
      " |  Methods defined here:\n",
      " |  \n",
      " |  __init__(self, element, part)\n",
      " |      Initialize self.  See help(type(self)) for accurate signature.\n",
      " |  \n",
      " |  add_heading(self, text='', level=1)\n",
      " |      Return a heading paragraph newly added to the end of the document.\n",
      " |      \n",
      " |      The heading paragraph will contain *text* and have its paragraph style\n",
      " |      determined by *level*. If *level* is 0, the style is set to `Title`. If *level*\n",
      " |      is 1 (or omitted), `Heading 1` is used. Otherwise the style is set to `Heading\n",
      " |      {level}`. Raises |ValueError| if *level* is outside the range 0-9.\n",
      " |  \n",
      " |  add_page_break(self)\n",
      " |      Return newly |Paragraph| object containing only a page break.\n",
      " |  \n",
      " |  add_paragraph(self, text='', style=None)\n",
      " |      Return a paragraph newly added to the end of the document, populated\n",
      " |      with *text* and having paragraph style *style*. *text* can contain\n",
      " |      tab (``\\t``) characters, which are converted to the appropriate XML\n",
      " |      form for a tab. *text* can also include newline (``\\n``) or carriage\n",
      " |      return (``\\r``) characters, each of which is converted to a line\n",
      " |      break.\n",
      " |  \n",
      " |  add_picture(self, image_path_or_stream, width=None, height=None)\n",
      " |      Return a new picture shape added in its own paragraph at the end of\n",
      " |      the document. The picture contains the image at\n",
      " |      *image_path_or_stream*, scaled based on *width* and *height*. If\n",
      " |      neither width nor height is specified, the picture appears at its\n",
      " |      native size. If only one is specified, it is used to compute\n",
      " |      a scaling factor that is then applied to the unspecified dimension,\n",
      " |      preserving the aspect ratio of the image. The native size of the\n",
      " |      picture is calculated using the dots-per-inch (dpi) value specified\n",
      " |      in the image file, defaulting to 72 dpi if no value is specified, as\n",
      " |      is often the case.\n",
      " |  \n",
      " |  add_section(self, start_type=2)\n",
      " |      Return a |Section| object representing a new section added at the end\n",
      " |      of the document. The optional *start_type* argument must be a member\n",
      " |      of the :ref:`WdSectionStart` enumeration, and defaults to\n",
      " |      ``WD_SECTION.NEW_PAGE`` if not provided.\n",
      " |  \n",
      " |  add_table(self, rows, cols, style=None)\n",
      " |      Add a table having row and column counts of *rows* and *cols*\n",
      " |      respectively and table style of *style*. *style* may be a paragraph\n",
      " |      style object or a paragraph style name. If *style* is |None|, the\n",
      " |      table inherits the default table style of the document.\n",
      " |  \n",
      " |  save(self, path_or_stream)\n",
      " |      Save this document to *path_or_stream*, which can be either a path to\n",
      " |      a filesystem location (a string) or a file-like object.\n",
      " |  \n",
      " |  ----------------------------------------------------------------------\n",
      " |  Data descriptors defined here:\n",
      " |  \n",
      " |  core_properties\n",
      " |      A |CoreProperties| object providing read/write access to the core\n",
      " |      properties of this document.\n",
      " |  \n",
      " |  inline_shapes\n",
      " |      An |InlineShapes| object providing access to the inline shapes in\n",
      " |      this document. An inline shape is a graphical object, such as\n",
      " |      a picture, contained in a run of text and behaving like a character\n",
      " |      glyph, being flowed like other text in a paragraph.\n",
      " |  \n",
      " |  paragraphs\n",
      " |      A list of |Paragraph| instances corresponding to the paragraphs in\n",
      " |      the document, in document order. Note that paragraphs within revision\n",
      " |      marks such as ``<w:ins>`` or ``<w:del>`` do not appear in this list.\n",
      " |  \n",
      " |  part\n",
      " |      The |DocumentPart| object of this document.\n",
      " |  \n",
      " |  sections\n",
      " |      |Sections| object providing access to each section in this document.\n",
      " |  \n",
      " |  settings\n",
      " |      A |Settings| object providing access to the document-level settings\n",
      " |      for this document.\n",
      " |  \n",
      " |  styles\n",
      " |      A |Styles| object providing access to the styles in this document.\n",
      " |  \n",
      " |  tables\n",
      " |      A list of |Table| instances corresponding to the tables in the\n",
      " |      document, in document order. Note that only tables appearing at the\n",
      " |      top level of the document appear in this list; a table nested inside\n",
      " |      a table cell does not appear. A table within revision marks such as\n",
      " |      ``<w:ins>`` or ``<w:del>`` will also not appear in the list.\n",
      " |  \n",
      " |  ----------------------------------------------------------------------\n",
      " |  Methods inherited from docx.shared.ElementProxy:\n",
      " |  \n",
      " |  __eq__(self, other)\n",
      " |      Return |True| if this proxy object refers to the same oxml element as\n",
      " |      does *other*. ElementProxy objects are value objects and should\n",
      " |      maintain no mutable local state. Equality for proxy objects is\n",
      " |      defined as referring to the same XML element, whether or not they are\n",
      " |      the same proxy object instance.\n",
      " |  \n",
      " |  __ne__(self, other)\n",
      " |      Return self!=value.\n",
      " |  \n",
      " |  ----------------------------------------------------------------------\n",
      " |  Data descriptors inherited from docx.shared.ElementProxy:\n",
      " |  \n",
      " |  element\n",
      " |      The lxml element proxied by this object.\n",
      " |  \n",
      " |  ----------------------------------------------------------------------\n",
      " |  Data and other attributes inherited from docx.shared.ElementProxy:\n",
      " |  \n",
      " |  __hash__ = None\n",
      "\n"
     ]
    }
   ],
   "source": [
    "help(doc)"
   ]
  }
 ],
 "metadata": {
  "kernelspec": {
   "display_name": "Python 3",
   "language": "python",
   "name": "python3"
  },
  "language_info": {
   "codemirror_mode": {
    "name": "ipython",
    "version": 3
   },
   "file_extension": ".py",
   "mimetype": "text/x-python",
   "name": "python",
   "nbconvert_exporter": "python",
   "pygments_lexer": "ipython3",
   "version": "3.7.3"
  }
 },
 "nbformat": 4,
 "nbformat_minor": 2
}
